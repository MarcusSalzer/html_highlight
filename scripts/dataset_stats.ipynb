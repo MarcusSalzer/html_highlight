{
 "cells": [
  {
   "cell_type": "code",
   "execution_count": 1,
   "metadata": {},
   "outputs": [],
   "source": [
    "import sys\n",
    "from importlib import reload\n",
    "\n",
    "import polars as pl\n",
    "from datatools import plotting as dtplot\n",
    "from datatools import tabular as dttab\n",
    "\n",
    "sys.path.append(\"..\")\n",
    "\n",
    "import plotting\n",
    "import util\n",
    "from src import text_process\n",
    "\n",
    "reload(util)\n",
    "reload(plotting)\n",
    "reload(text_process)\n",
    "dtplot.set_plotly_template()"
   ]
  },
  {
   "cell_type": "code",
   "execution_count": 2,
   "metadata": {},
   "outputs": [
    {
     "data": {
      "text/html": [
       "<div><style>\n",
       ".dataframe > thead > tr,\n",
       ".dataframe > tbody > tr {\n",
       "  text-align: right;\n",
       "  white-space: pre-wrap;\n",
       "}\n",
       "</style>\n",
       "<small>shape: (5, 6)</small><table border=\"1\" class=\"dataframe\"><thead><tr><th>name</th><th>lang</th><th>difficulty</th><th>tokens</th><th>tags</th><th>length</th></tr><tr><td>str</td><td>str</td><td>str</td><td>list[str]</td><td>list[str]</td><td>u32</td></tr></thead><tbody><tr><td>&quot;shrt_pseudo&quot;</td><td>&quot;pseudo&quot;</td><td>&quot;easy&quot;</td><td>[&quot;x&quot;, &quot;=&quot;, &quot;1&quot;]</td><td>[&quot;va&quot;, &quot;opas&quot;, &quot;nu&quot;]</td><td>3</td></tr><tr><td>&quot;smplrr_json&quot;</td><td>&quot;json&quot;</td><td>&quot;easy&quot;</td><td>[&quot;[&quot;, &quot;2&quot;, … &quot;]&quot;]</td><td>[&quot;brop&quot;, &quot;nu&quot;, … &quot;brcl&quot;]</td><td>9</td></tr><tr><td>&quot;hllwrld_natural&quot;</td><td>&quot;natural&quot;</td><td>&quot;normal&quot;</td><td>[&quot;say&quot;, &quot; &quot;, &quot;&quot;Hello world&quot;&quot;]</td><td>[&quot;kwio&quot;, &quot;ws&quot;, &quot;st&quot;]</td><td>3</td></tr><tr><td>&quot;hllwrld_ruby&quot;</td><td>&quot;ruby&quot;</td><td>&quot;normal&quot;</td><td>[&quot;puts&quot;, &quot; &quot;, &quot;&quot;Hello World&quot;&quot;]</td><td>[&quot;kwio&quot;, &quot;ws&quot;, &quot;st&quot;]</td><td>3</td></tr><tr><td>&quot;smplndnttb_pseudo&quot;</td><td>&quot;pseudo&quot;</td><td>&quot;normal&quot;</td><td>[&quot;if&quot;, &quot; &quot;, … &quot;)&quot;]</td><td>[&quot;kwfl&quot;, &quot;ws&quot;, … &quot;brcl&quot;]</td><td>8</td></tr></tbody></table></div>"
      ],
      "text/plain": [
       "shape: (5, 6)\n",
       "┌───────────────────┬─────────┬────────────┬───────────────────────┬──────────────────────┬────────┐\n",
       "│ name              ┆ lang    ┆ difficulty ┆ tokens                ┆ tags                 ┆ length │\n",
       "│ ---               ┆ ---     ┆ ---        ┆ ---                   ┆ ---                  ┆ ---    │\n",
       "│ str               ┆ str     ┆ str        ┆ list[str]             ┆ list[str]            ┆ u32    │\n",
       "╞═══════════════════╪═════════╪════════════╪═══════════════════════╪══════════════════════╪════════╡\n",
       "│ shrt_pseudo       ┆ pseudo  ┆ easy       ┆ [\"x\", \"=\", \"1\"]       ┆ [\"va\", \"opas\", \"nu\"] ┆ 3      │\n",
       "│ smplrr_json       ┆ json    ┆ easy       ┆ [\"[\", \"2\", … \"]\"]     ┆ [\"brop\", \"nu\", …     ┆ 9      │\n",
       "│                   ┆         ┆            ┆                       ┆ \"brcl\"]              ┆        │\n",
       "│ hllwrld_natural   ┆ natural ┆ normal     ┆ [\"say\", \" \", \"\"Hello  ┆ [\"kwio\", \"ws\", \"st\"] ┆ 3      │\n",
       "│                   ┆         ┆            ┆ world\"\"]              ┆                      ┆        │\n",
       "│ hllwrld_ruby      ┆ ruby    ┆ normal     ┆ [\"puts\", \" \", \"\"Hello ┆ [\"kwio\", \"ws\", \"st\"] ┆ 3      │\n",
       "│                   ┆         ┆            ┆ World\"\"]              ┆                      ┆        │\n",
       "│ smplndnttb_pseudo ┆ pseudo  ┆ normal     ┆ [\"if\", \" \", … \")\"]    ┆ [\"kwfl\", \"ws\", …     ┆ 8      │\n",
       "│                   ┆         ┆            ┆                       ┆ \"brcl\"]              ┆        │\n",
       "└───────────────────┴─────────┴────────────┴───────────────────────┴──────────────────────┴────────┘"
      ]
     },
     "execution_count": 2,
     "metadata": {},
     "output_type": "execute_result"
    }
   ],
   "source": [
    "examples = util.load_examples()\n",
    "examples.head(5)"
   ]
  },
  {
   "cell_type": "markdown",
   "metadata": {},
   "source": [
    "## tokens\n"
   ]
  },
  {
   "cell_type": "code",
   "execution_count": 3,
   "metadata": {},
   "outputs": [
    {
     "data": {
      "text/html": [
       "<div><style>\n",
       ".dataframe > thead > tr,\n",
       ".dataframe > tbody > tr {\n",
       "  text-align: right;\n",
       "  white-space: pre-wrap;\n",
       "}\n",
       "</style>\n",
       "<small>shape: (772, 2)</small><table border=\"1\" class=\"dataframe\"><thead><tr><th>tokens</th><th>tokens_count</th></tr><tr><td>str</td><td>u32</td></tr></thead><tbody><tr><td>&quot; &quot;</td><td>1187</td></tr><tr><td>&quot;\n",
       "&quot;</td><td>340</td></tr><tr><td>&quot;)&quot;</td><td>286</td></tr><tr><td>&quot;(&quot;</td><td>286</td></tr><tr><td>&quot;,&quot;</td><td>256</td></tr><tr><td>&hellip;</td><td>&hellip;</td></tr><tr><td>&quot;&quot;# questions loaded&quot;&quot;</td><td>1</td></tr><tr><td>&quot;&quot;&quot;&quot;</td><td>1</td></tr><tr><td>&quot;!&quot;</td><td>1</td></tr><tr><td>&quot;&nbsp;&nbsp;&nbsp;&quot;</td><td>1</td></tr><tr><td>&quot;\t&quot;</td><td>1</td></tr></tbody></table></div>"
      ],
      "text/plain": [
       "shape: (772, 2)\n",
       "┌──────────────────────┬──────────────┐\n",
       "│ tokens               ┆ tokens_count │\n",
       "│ ---                  ┆ ---          │\n",
       "│ str                  ┆ u32          │\n",
       "╞══════════════════════╪══════════════╡\n",
       "│                      ┆ 1187         │\n",
       "│                      ┆ 340          │\n",
       "│                      ┆              │\n",
       "│ )                    ┆ 286          │\n",
       "│ (                    ┆ 286          │\n",
       "│ ,                    ┆ 256          │\n",
       "│ …                    ┆ …            │\n",
       "│ \"# questions loaded\" ┆ 1            │\n",
       "│ \"\"                   ┆ 1            │\n",
       "│ !                    ┆ 1            │\n",
       "│                      ┆ 1            │\n",
       "│ \t                    ┆ 1            │\n",
       "└──────────────────────┴──────────────┘"
      ]
     },
     "execution_count": 3,
     "metadata": {},
     "output_type": "execute_result"
    }
   ],
   "source": [
    "token_counts = dttab.value_counts(examples[\"tokens\"].explode())\n",
    "token_counts"
   ]
  },
  {
   "cell_type": "markdown",
   "metadata": {},
   "source": [
    "## which tags can each token have?\n"
   ]
  },
  {
   "cell_type": "code",
   "execution_count": 4,
   "metadata": {},
   "outputs": [
    {
     "name": "stdout",
     "output_type": "stream",
     "text": [
      "found 640 tokens with a single tag\n",
      "found 51 tokens with multiple tags\n"
     ]
    },
    {
     "data": {
      "text/html": [
       "<div><style>\n",
       ".dataframe > thead > tr,\n",
       ".dataframe > tbody > tr {\n",
       "  text-align: right;\n",
       "  white-space: pre-wrap;\n",
       "}\n",
       "</style>\n",
       "<small>shape: (10, 3)</small><table border=\"1\" class=\"dataframe\"><thead><tr><th>tokens</th><th>tags</th><th>tokens_count</th></tr><tr><td>str</td><td>str</td><td>u32</td></tr></thead><tbody><tr><td>&quot;=&quot;</td><td>&quot;opas&quot;</td><td>204</td></tr><tr><td>&quot;.&quot;</td><td>&quot;sy&quot;</td><td>142</td></tr><tr><td>&quot;:&quot;</td><td>&quot;sy&quot;</td><td>68</td></tr><tr><td>&quot;i&quot;</td><td>&quot;va&quot;</td><td>29</td></tr><tr><td>&quot;import&quot;</td><td>&quot;kwim&quot;</td><td>28</td></tr><tr><td>&quot;if&quot;</td><td>&quot;kwfl&quot;</td><td>26</td></tr><tr><td>&quot;==&quot;</td><td>&quot;opcm&quot;</td><td>25</td></tr><tr><td>&quot;return&quot;</td><td>&quot;kwfl&quot;</td><td>23</td></tr><tr><td>&quot;for&quot;</td><td>&quot;kwfl&quot;</td><td>23</td></tr><tr><td>&quot;::&quot;</td><td>&quot;sy&quot;</td><td>20</td></tr></tbody></table></div>"
      ],
      "text/plain": [
       "shape: (10, 3)\n",
       "┌────────┬──────┬──────────────┐\n",
       "│ tokens ┆ tags ┆ tokens_count │\n",
       "│ ---    ┆ ---  ┆ ---          │\n",
       "│ str    ┆ str  ┆ u32          │\n",
       "╞════════╪══════╪══════════════╡\n",
       "│ =      ┆ opas ┆ 204          │\n",
       "│ .      ┆ sy   ┆ 142          │\n",
       "│ :      ┆ sy   ┆ 68           │\n",
       "│ i      ┆ va   ┆ 29           │\n",
       "│ import ┆ kwim ┆ 28           │\n",
       "│ if     ┆ kwfl ┆ 26           │\n",
       "│ ==     ┆ opcm ┆ 25           │\n",
       "│ return ┆ kwfl ┆ 23           │\n",
       "│ for    ┆ kwfl ┆ 23           │\n",
       "│ ::     ┆ sy   ┆ 20           │\n",
       "└────────┴──────┴──────────────┘"
      ]
     },
     "metadata": {},
     "output_type": "display_data"
    }
   ],
   "source": [
    "token_to_tags = (\n",
    "    examples.select(pl.col(\"tokens\", \"tags\").explode())\n",
    "    .group_by(\"tokens\")\n",
    "    .agg(pl.col(\"tags\").explode().unique())  # what tags can the token have?\n",
    ").join(token_counts, on=\"tokens\")\n",
    "\n",
    "single_tagged = (\n",
    "    token_to_tags.filter(pl.col(\"tags\").list.len() == 1)\n",
    "    .sort(\"tokens_count\", descending=True)\n",
    "    .with_columns(pl.col(\"tags\").list[0])\n",
    "    .filter(pl.col(\"tags\").is_in(text_process.DET_TAGS).not_())\n",
    ")  # exclude DET TAGS\n",
    "\n",
    "multi_tagged = token_to_tags.filter(pl.col(\"tags\").list.len() != 1).sort(\n",
    "    \"tokens_count\", descending=True\n",
    ")\n",
    "print(f\"found {len(single_tagged)} tokens with a single tag\")\n",
    "print(f\"found {len(multi_tagged)} tokens with multiple tags\")\n",
    "\n",
    "display(single_tagged.head(10))\n",
    "# display(multi_tagged.head(10))\n"
   ]
  },
  {
   "cell_type": "markdown",
   "metadata": {},
   "source": [
    "## which tokens can each tag have?\n"
   ]
  },
  {
   "cell_type": "code",
   "execution_count": 5,
   "metadata": {},
   "outputs": [
    {
     "data": {
      "text/html": [
       "<div><style>\n",
       ".dataframe > thead > tr,\n",
       ".dataframe > tbody > tr {\n",
       "  text-align: right;\n",
       "  white-space: pre-wrap;\n",
       "}\n",
       "</style>\n",
       "<small>shape: (10, 3)</small><table border=\"1\" class=\"dataframe\"><thead><tr><th>tags</th><th>tokens</th><th>tags_count</th></tr><tr><td>str</td><td>list[str]</td><td>u32</td></tr></thead><tbody><tr><td>&quot;kwva&quot;</td><td>[&quot;const&quot;, &quot;val&quot;, … &quot;var&quot;]</td><td>22</td></tr><tr><td>&quot;opas&quot;</td><td>[&quot;&lt;-&quot;, &quot;=&quot;, … &quot;+=&quot;]</td><td>216</td></tr><tr><td>&quot;bo&quot;</td><td>[&quot;False&quot;, &quot;true&quot;, … &quot;false&quot;]</td><td>19</td></tr><tr><td>&quot;kwfn&quot;</td><td>[&quot;function&quot;, &quot;fn&quot;, … &quot;end&quot;]</td><td>16</td></tr><tr><td>&quot;kwmo&quot;</td><td>[&quot;static&quot;, &quot;pub&quot;, … &quot;mut&quot;]</td><td>12</td></tr><tr><td>&quot;kwde&quot;</td><td>[&quot;php&quot;, &quot;class&quot;, … &quot;mod&quot;]</td><td>10</td></tr><tr><td>&quot;li&quot;</td><td>[&quot;all&quot;, &quot;tight&quot;, … &quot;null&quot;]</td><td>9</td></tr><tr><td>&quot;kwio&quot;</td><td>[&quot;puts&quot;, &quot;close&quot;, … &quot;echo&quot;]</td><td>14</td></tr><tr><td>&quot;kwim&quot;</td><td>[&quot;using&quot;, &quot;import&quot;, … &quot;from&quot;]</td><td>59</td></tr><tr><td>&quot;opcm&quot;</td><td>[&quot;!=&quot;, &quot;===&quot;, … &quot;&gt;&quot;]</td><td>34</td></tr></tbody></table></div>"
      ],
      "text/plain": [
       "shape: (10, 3)\n",
       "┌──────┬───────────────────────────────┬────────────┐\n",
       "│ tags ┆ tokens                        ┆ tags_count │\n",
       "│ ---  ┆ ---                           ┆ ---        │\n",
       "│ str  ┆ list[str]                     ┆ u32        │\n",
       "╞══════╪═══════════════════════════════╪════════════╡\n",
       "│ kwva ┆ [\"const\", \"val\", … \"var\"]     ┆ 22         │\n",
       "│ opas ┆ [\"<-\", \"=\", … \"+=\"]           ┆ 216        │\n",
       "│ bo   ┆ [\"False\", \"true\", … \"false\"]  ┆ 19         │\n",
       "│ kwfn ┆ [\"function\", \"fn\", … \"end\"]   ┆ 16         │\n",
       "│ kwmo ┆ [\"static\", \"pub\", … \"mut\"]    ┆ 12         │\n",
       "│ kwde ┆ [\"php\", \"class\", … \"mod\"]     ┆ 10         │\n",
       "│ li   ┆ [\"all\", \"tight\", … \"null\"]    ┆ 9          │\n",
       "│ kwio ┆ [\"puts\", \"close\", … \"echo\"]   ┆ 14         │\n",
       "│ kwim ┆ [\"using\", \"import\", … \"from\"] ┆ 59         │\n",
       "│ opcm ┆ [\"!=\", \"===\", … \">\"]          ┆ 34         │\n",
       "└──────┴───────────────────────────────┴────────────┘"
      ]
     },
     "metadata": {},
     "output_type": "display_data"
    }
   ],
   "source": [
    "tag_counts = dttab.value_counts(examples[\"tags\"].explode())\n",
    "\n",
    "tags_to_tokens = (\n",
    "    (\n",
    "        examples.select(pl.col(\"tokens\", \"tags\").explode())\n",
    "        .group_by(\"tags\")\n",
    "        .agg(pl.col(\"tokens\").explode().unique())  # what tags can the token have?\n",
    "    )\n",
    "    .join(tag_counts, on=\"tags\")\n",
    "    .filter(pl.col(\"tags\").is_in(text_process.DET_TAGS).not_())\n",
    "    .sort(pl.col(\"tokens\").list.len())\n",
    ")\n",
    "display(tags_to_tokens.head(10))"
   ]
  },
  {
   "cell_type": "code",
   "execution_count": 7,
   "metadata": {},
   "outputs": [
    {
     "data": {
      "text/html": [
       "<div><style>\n",
       ".dataframe > thead > tr,\n",
       ".dataframe > tbody > tr {\n",
       "  text-align: right;\n",
       "  white-space: pre-wrap;\n",
       "}\n",
       "</style>\n",
       "<small>shape: (1, 3)</small><table border=\"1\" class=\"dataframe\"><thead><tr><th>tokens</th><th>tags</th><th>tokens_count</th></tr><tr><td>str</td><td>list[str]</td><td>u32</td></tr></thead><tbody><tr><td>&quot;System&quot;</td><td>[&quot;cl&quot;, &quot;mo&quot;]</td><td>2</td></tr></tbody></table></div>"
      ],
      "text/plain": [
       "shape: (1, 3)\n",
       "┌────────┬──────────────┬──────────────┐\n",
       "│ tokens ┆ tags         ┆ tokens_count │\n",
       "│ ---    ┆ ---          ┆ ---          │\n",
       "│ str    ┆ list[str]    ┆ u32          │\n",
       "╞════════╪══════════════╪══════════════╡\n",
       "│ System ┆ [\"cl\", \"mo\"] ┆ 2            │\n",
       "└────────┴──────────────┴──────────────┘"
      ]
     },
     "execution_count": 7,
     "metadata": {},
     "output_type": "execute_result"
    }
   ],
   "source": [
    "token_to_tags.filter(pl.col(\"tokens\") == \"System\")"
   ]
  },
  {
   "cell_type": "markdown",
   "metadata": {},
   "source": [
    "## Language specific rules!\n"
   ]
  },
  {
   "cell_type": "code",
   "execution_count": null,
   "metadata": {},
   "outputs": [],
   "source": [
    "# in java, \"System\" is a class"
   ]
  }
 ],
 "metadata": {
  "kernelspec": {
   "display_name": "_my_python",
   "language": "python",
   "name": "python3"
  },
  "language_info": {
   "codemirror_mode": {
    "name": "ipython",
    "version": 3
   },
   "file_extension": ".py",
   "mimetype": "text/x-python",
   "name": "python",
   "nbconvert_exporter": "python",
   "pygments_lexer": "ipython3",
   "version": "3.12.7"
  }
 },
 "nbformat": 4,
 "nbformat_minor": 2
}
