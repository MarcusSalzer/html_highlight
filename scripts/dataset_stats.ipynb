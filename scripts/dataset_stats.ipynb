{
 "cells": [
  {
   "cell_type": "code",
   "execution_count": 1,
   "metadata": {},
   "outputs": [],
   "source": [
    "import sys\n",
    "from importlib import reload\n",
    "\n",
    "import polars as pl\n",
    "from datatools import plotting as dtplot\n",
    "from datatools import tabular as dttab\n",
    "\n",
    "sys.path.append(\"..\")\n",
    "\n",
    "import plotting\n",
    "import util\n",
    "from src import text_process\n",
    "\n",
    "reload(util)\n",
    "reload(plotting)\n",
    "reload(text_process)\n",
    "dtplot.set_plotly_template()"
   ]
  },
  {
   "cell_type": "code",
   "execution_count": 2,
   "metadata": {},
   "outputs": [
    {
     "data": {
      "text/html": [
       "<div><style>\n",
       ".dataframe > thead > tr,\n",
       ".dataframe > tbody > tr {\n",
       "  text-align: right;\n",
       "  white-space: pre-wrap;\n",
       "}\n",
       "</style>\n",
       "<small>shape: (5, 6)</small><table border=\"1\" class=\"dataframe\"><thead><tr><th>name</th><th>lang</th><th>difficulty</th><th>tokens</th><th>tags</th><th>length</th></tr><tr><td>str</td><td>str</td><td>str</td><td>list[str]</td><td>list[str]</td><td>u32</td></tr></thead><tbody><tr><td>&quot;shrt_pseudo&quot;</td><td>&quot;pseudo&quot;</td><td>&quot;easy&quot;</td><td>[&quot;x&quot;, &quot;=&quot;, &quot;1&quot;]</td><td>[&quot;va&quot;, &quot;opas&quot;, &quot;nu&quot;]</td><td>3</td></tr><tr><td>&quot;smplrr_json&quot;</td><td>&quot;json&quot;</td><td>&quot;easy&quot;</td><td>[&quot;[&quot;, &quot;2&quot;, … &quot;]&quot;]</td><td>[&quot;brop&quot;, &quot;nu&quot;, … &quot;brcl&quot;]</td><td>9</td></tr><tr><td>&quot;hllwrld_natural&quot;</td><td>&quot;natural&quot;</td><td>&quot;normal&quot;</td><td>[&quot;say&quot;, &quot; &quot;, &quot;&quot;Hello world&quot;&quot;]</td><td>[&quot;kwio&quot;, &quot;ws&quot;, &quot;st&quot;]</td><td>3</td></tr><tr><td>&quot;hllwrld_ruby&quot;</td><td>&quot;ruby&quot;</td><td>&quot;normal&quot;</td><td>[&quot;puts&quot;, &quot; &quot;, &quot;&quot;Hello World&quot;&quot;]</td><td>[&quot;kwio&quot;, &quot;ws&quot;, &quot;st&quot;]</td><td>3</td></tr><tr><td>&quot;smplndnttb_pseudo&quot;</td><td>&quot;pseudo&quot;</td><td>&quot;normal&quot;</td><td>[&quot;if&quot;, &quot; &quot;, … &quot;)&quot;]</td><td>[&quot;kwfl&quot;, &quot;ws&quot;, … &quot;brcl&quot;]</td><td>8</td></tr></tbody></table></div>"
      ],
      "text/plain": [
       "shape: (5, 6)\n",
       "┌───────────────────┬─────────┬────────────┬───────────────────────┬──────────────────────┬────────┐\n",
       "│ name              ┆ lang    ┆ difficulty ┆ tokens                ┆ tags                 ┆ length │\n",
       "│ ---               ┆ ---     ┆ ---        ┆ ---                   ┆ ---                  ┆ ---    │\n",
       "│ str               ┆ str     ┆ str        ┆ list[str]             ┆ list[str]            ┆ u32    │\n",
       "╞═══════════════════╪═════════╪════════════╪═══════════════════════╪══════════════════════╪════════╡\n",
       "│ shrt_pseudo       ┆ pseudo  ┆ easy       ┆ [\"x\", \"=\", \"1\"]       ┆ [\"va\", \"opas\", \"nu\"] ┆ 3      │\n",
       "│ smplrr_json       ┆ json    ┆ easy       ┆ [\"[\", \"2\", … \"]\"]     ┆ [\"brop\", \"nu\", …     ┆ 9      │\n",
       "│                   ┆         ┆            ┆                       ┆ \"brcl\"]              ┆        │\n",
       "│ hllwrld_natural   ┆ natural ┆ normal     ┆ [\"say\", \" \", \"\"Hello  ┆ [\"kwio\", \"ws\", \"st\"] ┆ 3      │\n",
       "│                   ┆         ┆            ┆ world\"\"]              ┆                      ┆        │\n",
       "│ hllwrld_ruby      ┆ ruby    ┆ normal     ┆ [\"puts\", \" \", \"\"Hello ┆ [\"kwio\", \"ws\", \"st\"] ┆ 3      │\n",
       "│                   ┆         ┆            ┆ World\"\"]              ┆                      ┆        │\n",
       "│ smplndnttb_pseudo ┆ pseudo  ┆ normal     ┆ [\"if\", \" \", … \")\"]    ┆ [\"kwfl\", \"ws\", …     ┆ 8      │\n",
       "│                   ┆         ┆            ┆                       ┆ \"brcl\"]              ┆        │\n",
       "└───────────────────┴─────────┴────────────┴───────────────────────┴──────────────────────┴────────┘"
      ]
     },
     "execution_count": 2,
     "metadata": {},
     "output_type": "execute_result"
    }
   ],
   "source": [
    "examples = util.load_examples()\n",
    "examples.head(5)"
   ]
  },
  {
   "cell_type": "markdown",
   "metadata": {},
   "source": [
    "## tokens\n"
   ]
  },
  {
   "cell_type": "code",
   "execution_count": 3,
   "metadata": {},
   "outputs": [
    {
     "data": {
      "text/html": [
       "<div><style>\n",
       ".dataframe > thead > tr,\n",
       ".dataframe > tbody > tr {\n",
       "  text-align: right;\n",
       "  white-space: pre-wrap;\n",
       "}\n",
       "</style>\n",
       "<small>shape: (661, 2)</small><table border=\"1\" class=\"dataframe\"><thead><tr><th>tokens</th><th>tokens_count</th></tr><tr><td>str</td><td>u32</td></tr></thead><tbody><tr><td>&quot; &quot;</td><td>887</td></tr><tr><td>&quot;\n",
       "&quot;</td><td>270</td></tr><tr><td>&quot;,&quot;</td><td>224</td></tr><tr><td>&quot;)&quot;</td><td>221</td></tr><tr><td>&quot;(&quot;</td><td>221</td></tr><tr><td>&hellip;</td><td>&hellip;</td></tr><tr><td>&quot;&quot;$x + $y = $z\\n&quot;&quot;</td><td>1</td></tr><tr><td>&quot;&quot;$a, $b&quot;&quot;</td><td>1</td></tr><tr><td>&quot;&quot;&quot;&quot;</td><td>1</td></tr><tr><td>&quot;&nbsp;&nbsp;&nbsp;&quot;</td><td>1</td></tr><tr><td>&quot;\t&quot;</td><td>1</td></tr></tbody></table></div>"
      ],
      "text/plain": [
       "shape: (661, 2)\n",
       "┌──────────────────┬──────────────┐\n",
       "│ tokens           ┆ tokens_count │\n",
       "│ ---              ┆ ---          │\n",
       "│ str              ┆ u32          │\n",
       "╞══════════════════╪══════════════╡\n",
       "│                  ┆ 887          │\n",
       "│                  ┆ 270          │\n",
       "│                  ┆              │\n",
       "│ ,                ┆ 224          │\n",
       "│ )                ┆ 221          │\n",
       "│ (                ┆ 221          │\n",
       "│ …                ┆ …            │\n",
       "│ \"$x + $y = $z\\n\" ┆ 1            │\n",
       "│ \"$a, $b\"         ┆ 1            │\n",
       "│ \"\"               ┆ 1            │\n",
       "│                  ┆ 1            │\n",
       "│ \t                ┆ 1            │\n",
       "└──────────────────┴──────────────┘"
      ]
     },
     "execution_count": 3,
     "metadata": {},
     "output_type": "execute_result"
    }
   ],
   "source": [
    "token_counts = dttab.value_counts(examples[\"tokens\"].explode())\n",
    "token_counts"
   ]
  },
  {
   "cell_type": "markdown",
   "metadata": {},
   "source": [
    "## which tags can each token have?\n"
   ]
  },
  {
   "cell_type": "code",
   "execution_count": 4,
   "metadata": {},
   "outputs": [
    {
     "name": "stdout",
     "output_type": "stream",
     "text": [
      "found 548 tokens with a single tag\n",
      "found 39 tokens with multiple tags\n"
     ]
    },
    {
     "data": {
      "text/html": [
       "<div><style>\n",
       ".dataframe > thead > tr,\n",
       ".dataframe > tbody > tr {\n",
       "  text-align: right;\n",
       "  white-space: pre-wrap;\n",
       "}\n",
       "</style>\n",
       "<small>shape: (10, 3)</small><table border=\"1\" class=\"dataframe\"><thead><tr><th>tokens</th><th>tags</th><th>tokens_count</th></tr><tr><td>str</td><td>str</td><td>u32</td></tr></thead><tbody><tr><td>&quot;=&quot;</td><td>&quot;opas&quot;</td><td>179</td></tr><tr><td>&quot;.&quot;</td><td>&quot;sy&quot;</td><td>129</td></tr><tr><td>&quot;:&quot;</td><td>&quot;sy&quot;</td><td>48</td></tr><tr><td>&quot;import&quot;</td><td>&quot;kwim&quot;</td><td>25</td></tr><tr><td>&quot;i&quot;</td><td>&quot;va&quot;</td><td>22</td></tr><tr><td>&quot;for&quot;</td><td>&quot;kwfl&quot;</td><td>18</td></tr><tr><td>&quot;np&quot;</td><td>&quot;mo&quot;</td><td>17</td></tr><tr><td>&quot;==&quot;</td><td>&quot;opcm&quot;</td><td>17</td></tr><tr><td>&quot;if&quot;</td><td>&quot;kwfl&quot;</td><td>16</td></tr><tr><td>&quot;return&quot;</td><td>&quot;kwfl&quot;</td><td>15</td></tr></tbody></table></div>"
      ],
      "text/plain": [
       "shape: (10, 3)\n",
       "┌────────┬──────┬──────────────┐\n",
       "│ tokens ┆ tags ┆ tokens_count │\n",
       "│ ---    ┆ ---  ┆ ---          │\n",
       "│ str    ┆ str  ┆ u32          │\n",
       "╞════════╪══════╪══════════════╡\n",
       "│ =      ┆ opas ┆ 179          │\n",
       "│ .      ┆ sy   ┆ 129          │\n",
       "│ :      ┆ sy   ┆ 48           │\n",
       "│ import ┆ kwim ┆ 25           │\n",
       "│ i      ┆ va   ┆ 22           │\n",
       "│ for    ┆ kwfl ┆ 18           │\n",
       "│ np     ┆ mo   ┆ 17           │\n",
       "│ ==     ┆ opcm ┆ 17           │\n",
       "│ if     ┆ kwfl ┆ 16           │\n",
       "│ return ┆ kwfl ┆ 15           │\n",
       "└────────┴──────┴──────────────┘"
      ]
     },
     "metadata": {},
     "output_type": "display_data"
    }
   ],
   "source": [
    "token_to_tags = (\n",
    "    examples.select(pl.col(\"tokens\", \"tags\").explode())\n",
    "    .group_by(\"tokens\")\n",
    "    .agg(pl.col(\"tags\").explode().unique())  # what tags can the token have?\n",
    ").join(token_counts, on=\"tokens\")\n",
    "\n",
    "single_tagged = (\n",
    "    token_to_tags.filter(pl.col(\"tags\").list.len() == 1)\n",
    "    .sort(\"tokens_count\", descending=True)\n",
    "    .with_columns(pl.col(\"tags\").list[0])\n",
    "    .filter(pl.col(\"tags\").is_in(text_process.DET_TAGS).not_())\n",
    ")  # exclude DET TAGS\n",
    "\n",
    "multi_tagged = token_to_tags.filter(pl.col(\"tags\").list.len() != 1).sort(\n",
    "    \"tokens_count\", descending=True\n",
    ")\n",
    "print(f\"found {len(single_tagged)} tokens with a single tag\")\n",
    "print(f\"found {len(multi_tagged)} tokens with multiple tags\")\n",
    "\n",
    "display(single_tagged.head(10))\n",
    "# display(multi_tagged.head(10))\n"
   ]
  },
  {
   "cell_type": "markdown",
   "metadata": {},
   "source": [
    "## which tokens can each tag have?\n"
   ]
  },
  {
   "cell_type": "code",
   "execution_count": 5,
   "metadata": {},
   "outputs": [
    {
     "data": {
      "text/html": [
       "<div><style>\n",
       ".dataframe > thead > tr,\n",
       ".dataframe > tbody > tr {\n",
       "  text-align: right;\n",
       "  white-space: pre-wrap;\n",
       "}\n",
       "</style>\n",
       "<small>shape: (10, 3)</small><table border=\"1\" class=\"dataframe\"><thead><tr><th>tags</th><th>tokens</th><th>tags_count</th></tr><tr><td>str</td><td>list[str]</td><td>u32</td></tr></thead><tbody><tr><td>&quot;opas&quot;</td><td>[&quot;=&quot;, &quot;+=&quot;, &quot;&lt;-&quot;]</td><td>184</td></tr><tr><td>&quot;kwva&quot;</td><td>[&quot;let&quot;, &quot;const&quot;, … &quot;val&quot;]</td><td>14</td></tr><tr><td>&quot;kwde&quot;</td><td>[&quot;class&quot;, &quot;namespace&quot;, … &quot;mod&quot;]</td><td>8</td></tr><tr><td>&quot;opcm&quot;</td><td>[&quot;&lt;&quot;, &quot;&gt;=&quot;, … &quot;&gt;&quot;]</td><td>22</td></tr><tr><td>&quot;bo&quot;</td><td>[&quot;False&quot;, &quot;false&quot;, … &quot;True&quot;]</td><td>15</td></tr><tr><td>&quot;kwmo&quot;</td><td>[&quot;async&quot;, &quot;pub&quot;, … &quot;local&quot;]</td><td>11</td></tr><tr><td>&quot;kwfn&quot;</td><td>[&quot;end&quot;, &quot;function&quot;, … &quot;fn&quot;]</td><td>11</td></tr><tr><td>&quot;li&quot;</td><td>[&quot;on&quot;, &quot;all&quot;, … &quot;null&quot;]</td><td>7</td></tr><tr><td>&quot;opun&quot;</td><td>[&quot;++&quot;, &quot;-&quot;, … &quot;+&quot;]</td><td>23</td></tr><tr><td>&quot;kwio&quot;</td><td>[&quot;puts&quot;, &quot;echo&quot;, … &quot;clc&quot;]</td><td>14</td></tr></tbody></table></div>"
      ],
      "text/plain": [
       "shape: (10, 3)\n",
       "┌──────┬─────────────────────────────────┬────────────┐\n",
       "│ tags ┆ tokens                          ┆ tags_count │\n",
       "│ ---  ┆ ---                             ┆ ---        │\n",
       "│ str  ┆ list[str]                       ┆ u32        │\n",
       "╞══════╪═════════════════════════════════╪════════════╡\n",
       "│ opas ┆ [\"=\", \"+=\", \"<-\"]               ┆ 184        │\n",
       "│ kwva ┆ [\"let\", \"const\", … \"val\"]       ┆ 14         │\n",
       "│ kwde ┆ [\"class\", \"namespace\", … \"mod\"… ┆ 8          │\n",
       "│ opcm ┆ [\"<\", \">=\", … \">\"]              ┆ 22         │\n",
       "│ bo   ┆ [\"False\", \"false\", … \"True\"]    ┆ 15         │\n",
       "│ kwmo ┆ [\"async\", \"pub\", … \"local\"]     ┆ 11         │\n",
       "│ kwfn ┆ [\"end\", \"function\", … \"fn\"]     ┆ 11         │\n",
       "│ li   ┆ [\"on\", \"all\", … \"null\"]         ┆ 7          │\n",
       "│ opun ┆ [\"++\", \"-\", … \"+\"]              ┆ 23         │\n",
       "│ kwio ┆ [\"puts\", \"echo\", … \"clc\"]       ┆ 14         │\n",
       "└──────┴─────────────────────────────────┴────────────┘"
      ]
     },
     "metadata": {},
     "output_type": "display_data"
    }
   ],
   "source": [
    "tag_counts = dttab.value_counts(examples[\"tags\"].explode())\n",
    "\n",
    "tags_to_tokens = (\n",
    "    (\n",
    "        examples.select(pl.col(\"tokens\", \"tags\").explode())\n",
    "        .group_by(\"tags\")\n",
    "        .agg(pl.col(\"tokens\").explode().unique())  # what tags can the token have?\n",
    "    )\n",
    "    .join(tag_counts, on=\"tags\")\n",
    "    .filter(pl.col(\"tags\").is_in(text_process.DET_TAGS).not_())\n",
    "    .sort(pl.col(\"tokens\").list.len())\n",
    ")\n",
    "display(tags_to_tokens.head(10))"
   ]
  },
  {
   "cell_type": "code",
   "execution_count": 9,
   "metadata": {},
   "outputs": [
    {
     "data": {
      "text/html": [
       "<div><style>\n",
       ".dataframe > thead > tr,\n",
       ".dataframe > tbody > tr {\n",
       "  text-align: right;\n",
       "  white-space: pre-wrap;\n",
       "}\n",
       "</style>\n",
       "<small>shape: (0, 3)</small><table border=\"1\" class=\"dataframe\"><thead><tr><th>tokens</th><th>tags</th><th>tokens_count</th></tr><tr><td>str</td><td>list[str]</td><td>u32</td></tr></thead><tbody></tbody></table></div>"
      ],
      "text/plain": [
       "shape: (0, 3)\n",
       "┌────────┬───────────┬──────────────┐\n",
       "│ tokens ┆ tags      ┆ tokens_count │\n",
       "│ ---    ┆ ---       ┆ ---          │\n",
       "│ str    ┆ list[str] ┆ u32          │\n",
       "╞════════╪═══════════╪══════════════╡\n",
       "└────────┴───────────┴──────────────┘"
      ]
     },
     "execution_count": 9,
     "metadata": {},
     "output_type": "execute_result"
    }
   ],
   "source": [
    "token_to_tags.filter(pl.col(\"tokens\") == \"except\")"
   ]
  }
 ],
 "metadata": {
  "kernelspec": {
   "display_name": "_my_python",
   "language": "python",
   "name": "python3"
  },
  "language_info": {
   "codemirror_mode": {
    "name": "ipython",
    "version": 3
   },
   "file_extension": ".py",
   "mimetype": "text/x-python",
   "name": "python",
   "nbconvert_exporter": "python",
   "pygments_lexer": "ipython3",
   "version": "3.12.7"
  }
 },
 "nbformat": 4,
 "nbformat_minor": 2
}
