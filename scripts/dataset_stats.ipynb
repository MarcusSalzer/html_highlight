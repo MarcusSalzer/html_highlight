{
 "cells": [
  {
   "cell_type": "code",
   "execution_count": 69,
   "metadata": {},
   "outputs": [],
   "source": [
    "import sys\n",
    "from importlib import reload\n",
    "import numpy as np\n",
    "\n",
    "import polars as pl\n",
    "from datatools import plotting as dtplot\n",
    "from datatools import tabular as dttab\n",
    "\n",
    "sys.path.append(\"..\")\n",
    "\n",
    "import plotting\n",
    "import src.util as util\n",
    "from src import text_process\n",
    "from src.data_functions import make_example_groups, data_split\n",
    "\n",
    "reload(util)\n",
    "reload(plotting)\n",
    "reload(text_process)\n",
    "dtplot.set_plotly_template()"
   ]
  },
  {
   "cell_type": "code",
   "execution_count": 70,
   "metadata": {},
   "outputs": [
    {
     "name": "stdout",
     "output_type": "stream",
     "text": [
      "Loaded 187 examples\n"
     ]
    },
    {
     "data": {
      "text/html": [
       "<div><style>\n",
       ".dataframe > thead > tr,\n",
       ".dataframe > tbody > tr {\n",
       "  text-align: right;\n",
       "  white-space: pre-wrap;\n",
       "}\n",
       "</style>\n",
       "<small>shape: (5, 6)</small><table border=\"1\" class=\"dataframe\"><thead><tr><th>difficulty</th><th>tokens</th><th>tags</th><th>name</th><th>lang</th><th>length</th></tr><tr><td>str</td><td>list[str]</td><td>list[str]</td><td>str</td><td>str</td><td>u32</td></tr></thead><tbody><tr><td>&quot;easy&quot;</td><td>[&quot;x&quot;, &quot;=&quot;, &quot;1&quot;]</td><td>[&quot;va&quot;, &quot;opas&quot;, &quot;nu&quot;]</td><td>&quot;shrt_pseudo&quot;</td><td>&quot;pseudo&quot;</td><td>3</td></tr><tr><td>&quot;easy&quot;</td><td>[&quot;[&quot;, &quot;2&quot;, … &quot;]&quot;]</td><td>[&quot;brop&quot;, &quot;nu&quot;, … &quot;brcl&quot;]</td><td>&quot;smplrr_json&quot;</td><td>&quot;json&quot;</td><td>9</td></tr><tr><td>&quot;normal&quot;</td><td>[&quot;say&quot;, &quot; &quot;, &quot;&quot;Hello world&quot;&quot;]</td><td>[&quot;kwio&quot;, &quot;ws&quot;, &quot;st&quot;]</td><td>&quot;hllwrld_natural&quot;</td><td>&quot;natural&quot;</td><td>3</td></tr><tr><td>&quot;normal&quot;</td><td>[&quot;puts&quot;, &quot; &quot;, &quot;&quot;Hello World&quot;&quot;]</td><td>[&quot;kwio&quot;, &quot;ws&quot;, &quot;st&quot;]</td><td>&quot;hllwrld_ruby&quot;</td><td>&quot;ruby&quot;</td><td>3</td></tr><tr><td>&quot;normal&quot;</td><td>[&quot;if&quot;, &quot; &quot;, … &quot;)&quot;]</td><td>[&quot;kwfl&quot;, &quot;ws&quot;, … &quot;brcl&quot;]</td><td>&quot;smplndnttb_pseudo&quot;</td><td>&quot;pseudo&quot;</td><td>8</td></tr></tbody></table></div>"
      ],
      "text/plain": [
       "shape: (5, 6)\n",
       "┌────────────┬───────────────────────┬──────────────────────┬───────────────────┬─────────┬────────┐\n",
       "│ difficulty ┆ tokens                ┆ tags                 ┆ name              ┆ lang    ┆ length │\n",
       "│ ---        ┆ ---                   ┆ ---                  ┆ ---               ┆ ---     ┆ ---    │\n",
       "│ str        ┆ list[str]             ┆ list[str]            ┆ str               ┆ str     ┆ u32    │\n",
       "╞════════════╪═══════════════════════╪══════════════════════╪═══════════════════╪═════════╪════════╡\n",
       "│ easy       ┆ [\"x\", \"=\", \"1\"]       ┆ [\"va\", \"opas\", \"nu\"] ┆ shrt_pseudo       ┆ pseudo  ┆ 3      │\n",
       "│ easy       ┆ [\"[\", \"2\", … \"]\"]     ┆ [\"brop\", \"nu\", …     ┆ smplrr_json       ┆ json    ┆ 9      │\n",
       "│            ┆                       ┆ \"brcl\"]              ┆                   ┆         ┆        │\n",
       "│ normal     ┆ [\"say\", \" \", \"\"Hello  ┆ [\"kwio\", \"ws\", \"st\"] ┆ hllwrld_natural   ┆ natural ┆ 3      │\n",
       "│            ┆ world\"\"]              ┆                      ┆                   ┆         ┆        │\n",
       "│ normal     ┆ [\"puts\", \" \", \"\"Hello ┆ [\"kwio\", \"ws\", \"st\"] ┆ hllwrld_ruby      ┆ ruby    ┆ 3      │\n",
       "│            ┆ World\"\"]              ┆                      ┆                   ┆         ┆        │\n",
       "│ normal     ┆ [\"if\", \" \", … \")\"]    ┆ [\"kwfl\", \"ws\", …     ┆ smplndnttb_pseudo ┆ pseudo  ┆ 8      │\n",
       "│            ┆                       ┆ \"brcl\"]              ┆                   ┆         ┆        │\n",
       "└────────────┴───────────────────────┴──────────────────────┴───────────────────┴─────────┴────────┘"
      ]
     },
     "execution_count": 70,
     "metadata": {},
     "output_type": "execute_result"
    }
   ],
   "source": [
    "examples = util.load_examples()\n",
    "examples.head(5)"
   ]
  },
  {
   "cell_type": "markdown",
   "metadata": {},
   "source": [
    "## tokens\n"
   ]
  },
  {
   "cell_type": "code",
   "execution_count": 71,
   "metadata": {},
   "outputs": [
    {
     "data": {
      "text/html": [
       "<div><style>\n",
       ".dataframe > thead > tr,\n",
       ".dataframe > tbody > tr {\n",
       "  text-align: right;\n",
       "  white-space: pre-wrap;\n",
       "}\n",
       "</style>\n",
       "<small>shape: (879, 2)</small><table border=\"1\" class=\"dataframe\"><thead><tr><th>tokens</th><th>tokens_count</th></tr><tr><td>str</td><td>u32</td></tr></thead><tbody><tr><td>&quot; &quot;</td><td>1558</td></tr><tr><td>&quot;\n",
       "&quot;</td><td>461</td></tr><tr><td>&quot;)&quot;</td><td>371</td></tr><tr><td>&quot;(&quot;</td><td>371</td></tr><tr><td>&quot;,&quot;</td><td>289</td></tr><tr><td>&hellip;</td><td>&hellip;</td></tr><tr><td>&quot;&quot;$x + $y = $z\\n&quot;&quot;</td><td>1</td></tr><tr><td>&quot;&quot;$a, $b&quot;&quot;</td><td>1</td></tr><tr><td>&quot;&quot;# questions loaded&quot;&quot;</td><td>1</td></tr><tr><td>&quot;!&quot;</td><td>1</td></tr><tr><td>&quot;\t&quot;</td><td>1</td></tr></tbody></table></div>"
      ],
      "text/plain": [
       "shape: (879, 2)\n",
       "┌──────────────────────┬──────────────┐\n",
       "│ tokens               ┆ tokens_count │\n",
       "│ ---                  ┆ ---          │\n",
       "│ str                  ┆ u32          │\n",
       "╞══════════════════════╪══════════════╡\n",
       "│                      ┆ 1558         │\n",
       "│                      ┆ 461          │\n",
       "│                      ┆              │\n",
       "│ )                    ┆ 371          │\n",
       "│ (                    ┆ 371          │\n",
       "│ ,                    ┆ 289          │\n",
       "│ …                    ┆ …            │\n",
       "│ \"$x + $y = $z\\n\"     ┆ 1            │\n",
       "│ \"$a, $b\"             ┆ 1            │\n",
       "│ \"# questions loaded\" ┆ 1            │\n",
       "│ !                    ┆ 1            │\n",
       "│ \t                    ┆ 1            │\n",
       "└──────────────────────┴──────────────┘"
      ]
     },
     "execution_count": 71,
     "metadata": {},
     "output_type": "execute_result"
    }
   ],
   "source": [
    "token_counts = dttab.value_counts(examples[\"tokens\"].explode())\n",
    "token_counts"
   ]
  },
  {
   "cell_type": "markdown",
   "metadata": {},
   "source": [
    "## which tags can each token have?\n"
   ]
  },
  {
   "cell_type": "code",
   "execution_count": 72,
   "metadata": {},
   "outputs": [
    {
     "name": "stdout",
     "output_type": "stream",
     "text": [
      "found 732 tokens with a single tag\n",
      "found 62 tokens with multiple tags\n"
     ]
    },
    {
     "data": {
      "text/html": [
       "<div><style>\n",
       ".dataframe > thead > tr,\n",
       ".dataframe > tbody > tr {\n",
       "  text-align: right;\n",
       "  white-space: pre-wrap;\n",
       "}\n",
       "</style>\n",
       "<small>shape: (10, 3)</small><table border=\"1\" class=\"dataframe\"><thead><tr><th>tokens</th><th>tags</th><th>tokens_count</th></tr><tr><td>str</td><td>str</td><td>u32</td></tr></thead><tbody><tr><td>&quot;=&quot;</td><td>&quot;opas&quot;</td><td>247</td></tr><tr><td>&quot;.&quot;</td><td>&quot;sy&quot;</td><td>187</td></tr><tr><td>&quot;:&quot;</td><td>&quot;sy&quot;</td><td>96</td></tr><tr><td>&quot;i&quot;</td><td>&quot;va&quot;</td><td>45</td></tr><tr><td>&quot;if&quot;</td><td>&quot;kwfl&quot;</td><td>38</td></tr><tr><td>&quot;return&quot;</td><td>&quot;kwfl&quot;</td><td>35</td></tr><tr><td>&quot;for&quot;</td><td>&quot;kwfl&quot;</td><td>31</td></tr><tr><td>&quot;==&quot;</td><td>&quot;opcm&quot;</td><td>30</td></tr><tr><td>&quot;import&quot;</td><td>&quot;kwim&quot;</td><td>29</td></tr><tr><td>&quot;in&quot;</td><td>&quot;kwop&quot;</td><td>27</td></tr></tbody></table></div>"
      ],
      "text/plain": [
       "shape: (10, 3)\n",
       "┌────────┬──────┬──────────────┐\n",
       "│ tokens ┆ tags ┆ tokens_count │\n",
       "│ ---    ┆ ---  ┆ ---          │\n",
       "│ str    ┆ str  ┆ u32          │\n",
       "╞════════╪══════╪══════════════╡\n",
       "│ =      ┆ opas ┆ 247          │\n",
       "│ .      ┆ sy   ┆ 187          │\n",
       "│ :      ┆ sy   ┆ 96           │\n",
       "│ i      ┆ va   ┆ 45           │\n",
       "│ if     ┆ kwfl ┆ 38           │\n",
       "│ return ┆ kwfl ┆ 35           │\n",
       "│ for    ┆ kwfl ┆ 31           │\n",
       "│ ==     ┆ opcm ┆ 30           │\n",
       "│ import ┆ kwim ┆ 29           │\n",
       "│ in     ┆ kwop ┆ 27           │\n",
       "└────────┴──────┴──────────────┘"
      ]
     },
     "metadata": {},
     "output_type": "display_data"
    }
   ],
   "source": [
    "token_to_tags = (\n",
    "    examples.select(pl.col(\"tokens\", \"tags\").explode())\n",
    "    .group_by(\"tokens\")\n",
    "    .agg(pl.col(\"tags\").explode().unique())  # what tags can the token have?\n",
    ").join(token_counts, on=\"tokens\")\n",
    "\n",
    "single_tagged = (\n",
    "    token_to_tags.filter(pl.col(\"tags\").list.len() == 1)\n",
    "    .sort(\"tokens_count\", descending=True)\n",
    "    .with_columns(pl.col(\"tags\").list[0])\n",
    "    .filter(pl.col(\"tags\").is_in(text_process.DET_TAGS).not_())\n",
    ")  # exclude DET TAGS\n",
    "\n",
    "multi_tagged = token_to_tags.filter(pl.col(\"tags\").list.len() != 1).sort(\n",
    "    \"tokens_count\", descending=True\n",
    ")\n",
    "print(f\"found {len(single_tagged)} tokens with a single tag\")\n",
    "print(f\"found {len(multi_tagged)} tokens with multiple tags\")\n",
    "\n",
    "display(single_tagged.head(10))\n",
    "# display(multi_tagged.head(10))\n"
   ]
  },
  {
   "cell_type": "markdown",
   "metadata": {},
   "source": [
    "## which tokens can each tag have?\n"
   ]
  },
  {
   "cell_type": "code",
   "execution_count": 73,
   "metadata": {},
   "outputs": [
    {
     "data": {
      "text/html": [
       "<div><style>\n",
       ".dataframe > thead > tr,\n",
       ".dataframe > tbody > tr {\n",
       "  text-align: right;\n",
       "  white-space: pre-wrap;\n",
       "}\n",
       "</style>\n",
       "<small>shape: (10, 3)</small><table border=\"1\" class=\"dataframe\"><thead><tr><th>tags</th><th>tokens</th><th>tags_count</th></tr><tr><td>str</td><td>list[str]</td><td>u32</td></tr></thead><tbody><tr><td>&quot;coml&quot;</td><td>[&quot;/**\n",
       " * Get thse thing\n",
       " */&quot;]</td><td>1</td></tr><tr><td>&quot;coil&quot;</td><td>[&quot;# array([2, 5], dtype=int32)&quot;, &quot;# array([[1, 9, 3], [4, 5, 6]], dtype=int32)&quot;, &quot;# array([9, 5], dtype=int32)&quot;]</td><td>3</td></tr><tr><td>&quot;kwva&quot;</td><td>[&quot;const&quot;, &quot;let&quot;, … &quot;val&quot;]</td><td>32</td></tr><tr><td>&quot;bo&quot;</td><td>[&quot;true&quot;, &quot;false&quot;, … &quot;False&quot;]</td><td>28</td></tr><tr><td>&quot;kwfn&quot;</td><td>[&quot;func&quot;, &quot;function&quot;, … &quot;end&quot;]</td><td>23</td></tr><tr><td>&quot;li&quot;</td><td>[&quot;all&quot;, &quot;xy&quot;, … &quot;tight&quot;]</td><td>9</td></tr><tr><td>&quot;opas&quot;</td><td>[&quot;/=&quot;, &quot;+=&quot;, … &quot;*=&quot;]</td><td>265</td></tr><tr><td>&quot;kwio&quot;</td><td>[&quot;puts&quot;, &quot;clear&quot;, … &quot;echo&quot;]</td><td>14</td></tr><tr><td>&quot;kwde&quot;</td><td>[&quot;namespace&quot;, &quot;class&quot;, … &quot;extends&quot;]</td><td>13</td></tr><tr><td>&quot;kwim&quot;</td><td>[&quot;crate&quot;, &quot;as&quot;, … &quot;use&quot;]</td><td>61</td></tr></tbody></table></div>"
      ],
      "text/plain": [
       "shape: (10, 3)\n",
       "┌──────┬─────────────────────────────────┬────────────┐\n",
       "│ tags ┆ tokens                          ┆ tags_count │\n",
       "│ ---  ┆ ---                             ┆ ---        │\n",
       "│ str  ┆ list[str]                       ┆ u32        │\n",
       "╞══════╪═════════════════════════════════╪════════════╡\n",
       "│ coml ┆ [\"/**                           ┆ 1          │\n",
       "│      ┆  * Get thse thing               ┆            │\n",
       "│      ┆  */\"]                           ┆            │\n",
       "│ coil ┆ [\"# array([2, 5], dtype=int32)… ┆ 3          │\n",
       "│ kwva ┆ [\"const\", \"let\", … \"val\"]       ┆ 32         │\n",
       "│ bo   ┆ [\"true\", \"false\", … \"False\"]    ┆ 28         │\n",
       "│ kwfn ┆ [\"func\", \"function\", … \"end\"]   ┆ 23         │\n",
       "│ li   ┆ [\"all\", \"xy\", … \"tight\"]        ┆ 9          │\n",
       "│ opas ┆ [\"/=\", \"+=\", … \"*=\"]            ┆ 265        │\n",
       "│ kwio ┆ [\"puts\", \"clear\", … \"echo\"]     ┆ 14         │\n",
       "│ kwde ┆ [\"namespace\", \"class\", … \"exte… ┆ 13         │\n",
       "│ kwim ┆ [\"crate\", \"as\", … \"use\"]        ┆ 61         │\n",
       "└──────┴─────────────────────────────────┴────────────┘"
      ]
     },
     "metadata": {},
     "output_type": "display_data"
    }
   ],
   "source": [
    "tag_counts = dttab.value_counts(examples[\"tags\"].explode())\n",
    "\n",
    "tags_to_tokens = (\n",
    "    (\n",
    "        examples.select(pl.col(\"tokens\", \"tags\").explode())\n",
    "        .group_by(\"tags\")\n",
    "        .agg(pl.col(\"tokens\").explode().unique())  # what tags can the token have?\n",
    "    )\n",
    "    .join(tag_counts, on=\"tags\")\n",
    "    .filter(pl.col(\"tags\").is_in(text_process.DET_TAGS).not_())\n",
    "    .sort(pl.col(\"tokens\").list.len())\n",
    ")\n",
    "display(tags_to_tokens.head(10))"
   ]
  },
  {
   "cell_type": "code",
   "execution_count": 74,
   "metadata": {},
   "outputs": [
    {
     "data": {
      "text/html": [
       "<div><style>\n",
       ".dataframe > thead > tr,\n",
       ".dataframe > tbody > tr {\n",
       "  text-align: right;\n",
       "  white-space: pre-wrap;\n",
       "}\n",
       "</style>\n",
       "<small>shape: (1, 3)</small><table border=\"1\" class=\"dataframe\"><thead><tr><th>tokens</th><th>tags</th><th>tokens_count</th></tr><tr><td>str</td><td>list[str]</td><td>u32</td></tr></thead><tbody><tr><td>&quot;System&quot;</td><td>[&quot;cl&quot;, &quot;mo&quot;]</td><td>3</td></tr></tbody></table></div>"
      ],
      "text/plain": [
       "shape: (1, 3)\n",
       "┌────────┬──────────────┬──────────────┐\n",
       "│ tokens ┆ tags         ┆ tokens_count │\n",
       "│ ---    ┆ ---          ┆ ---          │\n",
       "│ str    ┆ list[str]    ┆ u32          │\n",
       "╞════════╪══════════════╪══════════════╡\n",
       "│ System ┆ [\"cl\", \"mo\"] ┆ 3            │\n",
       "└────────┴──────────────┴──────────────┘"
      ]
     },
     "execution_count": 74,
     "metadata": {},
     "output_type": "execute_result"
    }
   ],
   "source": [
    "token_to_tags.filter(pl.col(\"tokens\") == \"System\")"
   ]
  },
  {
   "cell_type": "markdown",
   "metadata": {},
   "source": [
    "## Language specific rules!\n"
   ]
  },
  {
   "cell_type": "code",
   "execution_count": 75,
   "metadata": {},
   "outputs": [],
   "source": [
    "# in java, \"System\" is a class"
   ]
  },
  {
   "cell_type": "markdown",
   "metadata": {},
   "source": [
    "## Split: train/val/test\n"
   ]
  },
  {
   "cell_type": "code",
   "execution_count": 76,
   "metadata": {},
   "outputs": [
    {
     "name": "stdout",
     "output_type": "stream",
     "text": [
      "{'other': 104, 'long_python_ambiguous': 19, 'long_python_normal': 14, 'short_php_normal': 12, 'medium_python_normal': 12, 'medium_pseudo_normal': 8, 'short_python_normal': 6, 'medium_matlab_normal': 6, 'long_dart_normal': 6}\n",
      "sMAPE= 0.02740794820565061\n",
      "group counts:\n",
      "   {'long_dart_normal': 3, 'long_python_ambiguous': 11, 'long_python_normal': 8, 'medium_matlab_normal': 3, 'medium_pseudo_normal': 4, 'medium_python_normal': 7, 'other': 62, 'short_php_normal': 7, 'short_python_normal': 3}\n",
      "   {'long_dart_normal': 2, 'long_python_ambiguous': 5, 'long_python_normal': 3, 'medium_matlab_normal': 2, 'medium_pseudo_normal': 2, 'medium_python_normal': 3, 'other': 26, 'short_php_normal': 3, 'short_python_normal': 2}\n",
      "   {'long_dart_normal': 1, 'long_python_ambiguous': 3, 'long_python_normal': 3, 'medium_matlab_normal': 1, 'medium_pseudo_normal': 2, 'medium_python_normal': 2, 'other': 16, 'short_php_normal': 2, 'short_python_normal': 1}\n"
     ]
    }
   ],
   "source": [
    "# Stratify by lang and approx length\n",
    "\n",
    "import json\n",
    "\n",
    "\n",
    "examples = make_example_groups(examples, min_group_count=6)\n",
    "\n",
    "print(dttab.value_counts(examples[\"group\"], as_dict=True))\n",
    "\n",
    "ratios = [0.6, 0.25, 0.15]\n",
    "splits = data_split(examples, ratios, seed=None)\n",
    "result_splits = [len(df) / len(examples) for df in splits]\n",
    "\n",
    "print(\"sMAPE=\", util.MAPE(result_splits, ratios, symmetric=True))\n",
    "print(\"group counts:\")\n",
    "for s in splits:\n",
    "    print(\"  \", dttab.value_counts(s[\"group\"], as_dict=True, sort_by=\"value\"))\n",
    "# display(*splits)\n",
    "\n",
    "splitnames = [\"train\", \"val\", \"test\"]\n",
    "split_index = {}\n",
    "for split, splitname in zip(splits, splitnames):\n",
    "    split_index.update(dict.fromkeys(split[\"name\"].to_list(), splitname))\n",
    "\n",
    "split_index\n",
    "with open(\"../data/split_index.json\", \"w\") as f:\n",
    "    json.dump(split_index, f)"
   ]
  }
 ],
 "metadata": {
  "kernelspec": {
   "display_name": "_my_python",
   "language": "python",
   "name": "python3"
  },
  "language_info": {
   "codemirror_mode": {
    "name": "ipython",
    "version": 3
   },
   "file_extension": ".py",
   "mimetype": "text/x-python",
   "name": "python",
   "nbconvert_exporter": "python",
   "pygments_lexer": "ipython3",
   "version": "3.12.7"
  }
 },
 "nbformat": 4,
 "nbformat_minor": 2
}
