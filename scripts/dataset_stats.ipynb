{
 "cells": [
  {
   "cell_type": "code",
   "execution_count": 10,
   "metadata": {},
   "outputs": [],
   "source": [
    "import sys\n",
    "from importlib import reload\n",
    "import numpy as np\n",
    "\n",
    "import polars as pl\n",
    "from datatools import plotting as dtplot\n",
    "from datatools import tabular as dttab\n",
    "\n",
    "sys.path.append(\"..\")\n",
    "\n",
    "import plotting\n",
    "import src.util as util\n",
    "from src import text_process\n",
    "from src.data_functions import make_example_groups, data_split\n",
    "\n",
    "reload(util)\n",
    "reload(plotting)\n",
    "reload(text_process)\n",
    "dtplot.set_plotly_template()"
   ]
  },
  {
   "cell_type": "code",
   "execution_count": 11,
   "metadata": {},
   "outputs": [
    {
     "name": "stdout",
     "output_type": "stream",
     "text": [
      "Loaded 206 examples\n"
     ]
    },
    {
     "data": {
      "text/html": [
       "<div><style>\n",
       ".dataframe > thead > tr,\n",
       ".dataframe > tbody > tr {\n",
       "  text-align: right;\n",
       "  white-space: pre-wrap;\n",
       "}\n",
       "</style>\n",
       "<small>shape: (5, 7)</small><table border=\"1\" class=\"dataframe\"><thead><tr><th>difficulty</th><th>tokens</th><th>tags</th><th>name</th><th>lang</th><th>id</th><th>length</th></tr><tr><td>str</td><td>list[str]</td><td>list[str]</td><td>str</td><td>str</td><td>str</td><td>u32</td></tr></thead><tbody><tr><td>&quot;easy&quot;</td><td>[&quot;x&quot;, &quot;=&quot;, &quot;1&quot;]</td><td>[&quot;va&quot;, &quot;opas&quot;, &quot;nu&quot;]</td><td>&quot;shrt&quot;</td><td>&quot;pseudo&quot;</td><td>&quot;shrt_pseudo&quot;</td><td>3</td></tr><tr><td>&quot;easy&quot;</td><td>[&quot;[&quot;, &quot;2&quot;, … &quot;]&quot;]</td><td>[&quot;brop&quot;, &quot;nu&quot;, … &quot;brcl&quot;]</td><td>&quot;smplrr&quot;</td><td>&quot;json&quot;</td><td>&quot;smplrr_json&quot;</td><td>9</td></tr><tr><td>&quot;normal&quot;</td><td>[&quot;say&quot;, &quot; &quot;, &quot;&quot;Hello world&quot;&quot;]</td><td>[&quot;kwio&quot;, &quot;ws&quot;, &quot;st&quot;]</td><td>&quot;hllwrld&quot;</td><td>&quot;natural&quot;</td><td>&quot;hllwrld_natural&quot;</td><td>3</td></tr><tr><td>&quot;normal&quot;</td><td>[&quot;puts&quot;, &quot; &quot;, &quot;&quot;Hello World&quot;&quot;]</td><td>[&quot;kwio&quot;, &quot;ws&quot;, &quot;st&quot;]</td><td>&quot;hllwrld&quot;</td><td>&quot;ruby&quot;</td><td>&quot;hllwrld_ruby&quot;</td><td>3</td></tr><tr><td>&quot;normal&quot;</td><td>[&quot;if&quot;, &quot; &quot;, … &quot;)&quot;]</td><td>[&quot;kwfl&quot;, &quot;ws&quot;, … &quot;brcl&quot;]</td><td>&quot;smplndnttb&quot;</td><td>&quot;pseudo&quot;</td><td>&quot;smplndnttb_pseudo&quot;</td><td>8</td></tr></tbody></table></div>"
      ],
      "text/plain": [
       "shape: (5, 7)\n",
       "┌────────────┬─────────────────┬─────────────────┬────────────┬─────────┬─────────────────┬────────┐\n",
       "│ difficulty ┆ tokens          ┆ tags            ┆ name       ┆ lang    ┆ id              ┆ length │\n",
       "│ ---        ┆ ---             ┆ ---             ┆ ---        ┆ ---     ┆ ---             ┆ ---    │\n",
       "│ str        ┆ list[str]       ┆ list[str]       ┆ str        ┆ str     ┆ str             ┆ u32    │\n",
       "╞════════════╪═════════════════╪═════════════════╪════════════╪═════════╪═════════════════╪════════╡\n",
       "│ easy       ┆ [\"x\", \"=\", \"1\"] ┆ [\"va\", \"opas\",  ┆ shrt       ┆ pseudo  ┆ shrt_pseudo     ┆ 3      │\n",
       "│            ┆                 ┆ \"nu\"]           ┆            ┆         ┆                 ┆        │\n",
       "│ easy       ┆ [\"[\", \"2\", …    ┆ [\"brop\", \"nu\",  ┆ smplrr     ┆ json    ┆ smplrr_json     ┆ 9      │\n",
       "│            ┆ \"]\"]            ┆ … \"brcl\"]       ┆            ┆         ┆                 ┆        │\n",
       "│ normal     ┆ [\"say\", \" \",    ┆ [\"kwio\", \"ws\",  ┆ hllwrld    ┆ natural ┆ hllwrld_natural ┆ 3      │\n",
       "│            ┆ \"\"Hello         ┆ \"st\"]           ┆            ┆         ┆                 ┆        │\n",
       "│            ┆ world\"\"]        ┆                 ┆            ┆         ┆                 ┆        │\n",
       "│ normal     ┆ [\"puts\", \" \",   ┆ [\"kwio\", \"ws\",  ┆ hllwrld    ┆ ruby    ┆ hllwrld_ruby    ┆ 3      │\n",
       "│            ┆ \"\"Hello         ┆ \"st\"]           ┆            ┆         ┆                 ┆        │\n",
       "│            ┆ World\"\"]        ┆                 ┆            ┆         ┆                 ┆        │\n",
       "│ normal     ┆ [\"if\", \" \", …   ┆ [\"kwfl\", \"ws\",  ┆ smplndnttb ┆ pseudo  ┆ smplndnttb_pseu ┆ 8      │\n",
       "│            ┆ \")\"]            ┆ … \"brcl\"]       ┆            ┆         ┆ do              ┆        │\n",
       "└────────────┴─────────────────┴─────────────────┴────────────┴─────────┴─────────────────┴────────┘"
      ]
     },
     "execution_count": 11,
     "metadata": {},
     "output_type": "execute_result"
    }
   ],
   "source": [
    "examples = util.load_examples_json()\n",
    "examples.head(5)"
   ]
  },
  {
   "cell_type": "markdown",
   "metadata": {},
   "source": [
    "## tokens\n"
   ]
  },
  {
   "cell_type": "code",
   "execution_count": 12,
   "metadata": {},
   "outputs": [
    {
     "data": {
      "text/html": [
       "<div><style>\n",
       ".dataframe > thead > tr,\n",
       ".dataframe > tbody > tr {\n",
       "  text-align: right;\n",
       "  white-space: pre-wrap;\n",
       "}\n",
       "</style>\n",
       "<small>shape: (958, 2)</small><table border=\"1\" class=\"dataframe\"><thead><tr><th>tokens</th><th>tokens_count</th></tr><tr><td>str</td><td>u32</td></tr></thead><tbody><tr><td>&quot; &quot;</td><td>1495</td></tr><tr><td>&quot;\n",
       "&quot;</td><td>474</td></tr><tr><td>&quot;)&quot;</td><td>395</td></tr><tr><td>&quot;(&quot;</td><td>395</td></tr><tr><td>&quot;,&quot;</td><td>296</td></tr><tr><td>&hellip;</td><td>&hellip;</td></tr><tr><td>&quot;&quot;$x + $y = $z\\n&quot;&quot;</td><td>1</td></tr><tr><td>&quot;&quot;$a, $b&quot;&quot;</td><td>1</td></tr><tr><td>&quot;&quot;# questions loaded&quot;&quot;</td><td>1</td></tr><tr><td>&quot;!&quot;</td><td>1</td></tr><tr><td>&quot;\t&quot;</td><td>1</td></tr></tbody></table></div>"
      ],
      "text/plain": [
       "shape: (958, 2)\n",
       "┌──────────────────────┬──────────────┐\n",
       "│ tokens               ┆ tokens_count │\n",
       "│ ---                  ┆ ---          │\n",
       "│ str                  ┆ u32          │\n",
       "╞══════════════════════╪══════════════╡\n",
       "│                      ┆ 1495         │\n",
       "│                      ┆ 474          │\n",
       "│                      ┆              │\n",
       "│ )                    ┆ 395          │\n",
       "│ (                    ┆ 395          │\n",
       "│ ,                    ┆ 296          │\n",
       "│ …                    ┆ …            │\n",
       "│ \"$x + $y = $z\\n\"     ┆ 1            │\n",
       "│ \"$a, $b\"             ┆ 1            │\n",
       "│ \"# questions loaded\" ┆ 1            │\n",
       "│ !                    ┆ 1            │\n",
       "│ \t                    ┆ 1            │\n",
       "└──────────────────────┴──────────────┘"
      ]
     },
     "execution_count": 12,
     "metadata": {},
     "output_type": "execute_result"
    }
   ],
   "source": [
    "token_counts = dttab.value_counts(examples[\"tokens\"].explode())\n",
    "token_counts"
   ]
  },
  {
   "cell_type": "markdown",
   "metadata": {},
   "source": [
    "## which tags can each token have?\n"
   ]
  },
  {
   "cell_type": "code",
   "execution_count": 13,
   "metadata": {},
   "outputs": [
    {
     "name": "stdout",
     "output_type": "stream",
     "text": [
      "found 796 tokens with a single tag\n",
      "found 70 tokens with multiple tags\n"
     ]
    },
    {
     "data": {
      "text/html": [
       "<div><style>\n",
       ".dataframe > thead > tr,\n",
       ".dataframe > tbody > tr {\n",
       "  text-align: right;\n",
       "  white-space: pre-wrap;\n",
       "}\n",
       "</style>\n",
       "<small>shape: (10, 3)</small><table border=\"1\" class=\"dataframe\"><thead><tr><th>tokens</th><th>tags</th><th>tokens_count</th></tr><tr><td>str</td><td>str</td><td>u32</td></tr></thead><tbody><tr><td>&quot;=&quot;</td><td>&quot;opas&quot;</td><td>263</td></tr><tr><td>&quot;.&quot;</td><td>&quot;sy&quot;</td><td>206</td></tr><tr><td>&quot;:&quot;</td><td>&quot;sy&quot;</td><td>89</td></tr><tr><td>&quot;i&quot;</td><td>&quot;va&quot;</td><td>48</td></tr><tr><td>&quot;if&quot;</td><td>&quot;kwfl&quot;</td><td>38</td></tr><tr><td>&quot;return&quot;</td><td>&quot;kwfl&quot;</td><td>34</td></tr><tr><td>&quot;import&quot;</td><td>&quot;kwim&quot;</td><td>33</td></tr><tr><td>&quot;for&quot;</td><td>&quot;kwfl&quot;</td><td>31</td></tr><tr><td>&quot;==&quot;</td><td>&quot;opcm&quot;</td><td>29</td></tr><tr><td>&quot;::&quot;</td><td>&quot;sy&quot;</td><td>29</td></tr></tbody></table></div>"
      ],
      "text/plain": [
       "shape: (10, 3)\n",
       "┌────────┬──────┬──────────────┐\n",
       "│ tokens ┆ tags ┆ tokens_count │\n",
       "│ ---    ┆ ---  ┆ ---          │\n",
       "│ str    ┆ str  ┆ u32          │\n",
       "╞════════╪══════╪══════════════╡\n",
       "│ =      ┆ opas ┆ 263          │\n",
       "│ .      ┆ sy   ┆ 206          │\n",
       "│ :      ┆ sy   ┆ 89           │\n",
       "│ i      ┆ va   ┆ 48           │\n",
       "│ if     ┆ kwfl ┆ 38           │\n",
       "│ return ┆ kwfl ┆ 34           │\n",
       "│ import ┆ kwim ┆ 33           │\n",
       "│ for    ┆ kwfl ┆ 31           │\n",
       "│ ==     ┆ opcm ┆ 29           │\n",
       "│ ::     ┆ sy   ┆ 29           │\n",
       "└────────┴──────┴──────────────┘"
      ]
     },
     "metadata": {},
     "output_type": "display_data"
    }
   ],
   "source": [
    "token_to_tags = (\n",
    "    examples.select(pl.col(\"tokens\", \"tags\").explode())\n",
    "    .group_by(\"tokens\")\n",
    "    .agg(pl.col(\"tags\").explode().unique())  # what tags can the token have?\n",
    ").join(token_counts, on=\"tokens\")\n",
    "\n",
    "single_tagged = (\n",
    "    token_to_tags.filter(pl.col(\"tags\").list.len() == 1)\n",
    "    .sort(\"tokens_count\", descending=True)\n",
    "    .with_columns(pl.col(\"tags\").list[0])\n",
    "    .filter(pl.col(\"tags\").is_in(text_process.DET_TAGS).not_())\n",
    ")  # exclude DET TAGS\n",
    "\n",
    "multi_tagged = token_to_tags.filter(pl.col(\"tags\").list.len() != 1).sort(\n",
    "    \"tokens_count\", descending=True\n",
    ")\n",
    "print(f\"found {len(single_tagged)} tokens with a single tag\")\n",
    "print(f\"found {len(multi_tagged)} tokens with multiple tags\")\n",
    "\n",
    "display(single_tagged.head(10))\n",
    "# display(multi_tagged.head(10))\n"
   ]
  },
  {
   "cell_type": "markdown",
   "metadata": {},
   "source": [
    "## which tokens can each tag have?\n"
   ]
  },
  {
   "cell_type": "code",
   "execution_count": 14,
   "metadata": {},
   "outputs": [
    {
     "data": {
      "text/html": [
       "<div><style>\n",
       ".dataframe > thead > tr,\n",
       ".dataframe > tbody > tr {\n",
       "  text-align: right;\n",
       "  white-space: pre-wrap;\n",
       "}\n",
       "</style>\n",
       "<small>shape: (10, 3)</small><table border=\"1\" class=\"dataframe\"><thead><tr><th>tags</th><th>tokens</th><th>tags_count</th></tr><tr><td>str</td><td>list[str]</td><td>u32</td></tr></thead><tbody><tr><td>&quot;coml&quot;</td><td>[&quot;/**\n",
       " * Get thse thing\n",
       " */&quot;]</td><td>1</td></tr><tr><td>&quot;coil&quot;</td><td>[&quot;# array([2, 5], dtype=int32)&quot;, &quot;# array([9, 5], dtype=int32)&quot;, &quot;# array([[1, 9, 3], [4, 5, 6]], dtype=int32)&quot;]</td><td>3</td></tr><tr><td>&quot;kwva&quot;</td><td>[&quot;val&quot;, &quot;let&quot;, … &quot;const&quot;]</td><td>35</td></tr><tr><td>&quot;bo&quot;</td><td>[&quot;True&quot;, &quot;False&quot;, … &quot;FALSE&quot;]</td><td>28</td></tr><tr><td>&quot;kwfn&quot;</td><td>[&quot;fn&quot;, &quot;end&quot;, … &quot;func&quot;]</td><td>21</td></tr><tr><td>&quot;li&quot;</td><td>[&quot;null&quot;, &quot;xy&quot;, … &quot;tight&quot;]</td><td>9</td></tr><tr><td>&quot;opas&quot;</td><td>[&quot;&lt;-&quot;, &quot;/=&quot;, … &quot;*=&quot;]</td><td>284</td></tr><tr><td>&quot;kwim&quot;</td><td>[&quot;package&quot;, &quot;echo&quot;, … &quot;as&quot;]</td><td>70</td></tr><tr><td>&quot;opcm&quot;</td><td>[&quot;==&quot;, &quot;!=&quot;, … &quot;&lt;&quot;]</td><td>52</td></tr><tr><td>&quot;kwde&quot;</td><td>[&quot;extends&quot;, &quot;throws&quot;, … &quot;use&quot;]</td><td>17</td></tr></tbody></table></div>"
      ],
      "text/plain": [
       "shape: (10, 3)\n",
       "┌──────┬─────────────────────────────────┬────────────┐\n",
       "│ tags ┆ tokens                          ┆ tags_count │\n",
       "│ ---  ┆ ---                             ┆ ---        │\n",
       "│ str  ┆ list[str]                       ┆ u32        │\n",
       "╞══════╪═════════════════════════════════╪════════════╡\n",
       "│ coml ┆ [\"/**                           ┆ 1          │\n",
       "│      ┆  * Get thse thing               ┆            │\n",
       "│      ┆  */\"]                           ┆            │\n",
       "│ coil ┆ [\"# array([2, 5], dtype=int32)… ┆ 3          │\n",
       "│ kwva ┆ [\"val\", \"let\", … \"const\"]       ┆ 35         │\n",
       "│ bo   ┆ [\"True\", \"False\", … \"FALSE\"]    ┆ 28         │\n",
       "│ kwfn ┆ [\"fn\", \"end\", … \"func\"]         ┆ 21         │\n",
       "│ li   ┆ [\"null\", \"xy\", … \"tight\"]       ┆ 9          │\n",
       "│ opas ┆ [\"<-\", \"/=\", … \"*=\"]            ┆ 284        │\n",
       "│ kwim ┆ [\"package\", \"echo\", … \"as\"]     ┆ 70         │\n",
       "│ opcm ┆ [\"==\", \"!=\", … \"<\"]             ┆ 52         │\n",
       "│ kwde ┆ [\"extends\", \"throws\", … \"use\"]  ┆ 17         │\n",
       "└──────┴─────────────────────────────────┴────────────┘"
      ]
     },
     "metadata": {},
     "output_type": "display_data"
    }
   ],
   "source": [
    "tag_counts = dttab.value_counts(examples[\"tags\"].explode())\n",
    "\n",
    "tags_to_tokens = (\n",
    "    (\n",
    "        examples.select(pl.col(\"tokens\", \"tags\").explode())\n",
    "        .group_by(\"tags\")\n",
    "        .agg(pl.col(\"tokens\").explode().unique())  # what tags can the token have?\n",
    "    )\n",
    "    .join(tag_counts, on=\"tags\")\n",
    "    .filter(pl.col(\"tags\").is_in(text_process.DET_TAGS).not_())\n",
    "    .sort(pl.col(\"tokens\").list.len())\n",
    ")\n",
    "display(tags_to_tokens.head(10))"
   ]
  },
  {
   "cell_type": "code",
   "execution_count": 15,
   "metadata": {},
   "outputs": [
    {
     "data": {
      "text/html": [
       "<div><style>\n",
       ".dataframe > thead > tr,\n",
       ".dataframe > tbody > tr {\n",
       "  text-align: right;\n",
       "  white-space: pre-wrap;\n",
       "}\n",
       "</style>\n",
       "<small>shape: (1, 3)</small><table border=\"1\" class=\"dataframe\"><thead><tr><th>tokens</th><th>tags</th><th>tokens_count</th></tr><tr><td>str</td><td>list[str]</td><td>u32</td></tr></thead><tbody><tr><td>&quot;with&quot;</td><td>[&quot;kwfl&quot;]</td><td>1</td></tr></tbody></table></div>"
      ],
      "text/plain": [
       "shape: (1, 3)\n",
       "┌────────┬───────────┬──────────────┐\n",
       "│ tokens ┆ tags      ┆ tokens_count │\n",
       "│ ---    ┆ ---       ┆ ---          │\n",
       "│ str    ┆ list[str] ┆ u32          │\n",
       "╞════════╪═══════════╪══════════════╡\n",
       "│ with   ┆ [\"kwfl\"]  ┆ 1            │\n",
       "└────────┴───────────┴──────────────┘"
      ]
     },
     "execution_count": 15,
     "metadata": {},
     "output_type": "execute_result"
    }
   ],
   "source": [
    "token_to_tags.filter(pl.col(\"tokens\") == \"with\")"
   ]
  },
  {
   "cell_type": "markdown",
   "metadata": {},
   "source": [
    "## Language specific rules!\n"
   ]
  },
  {
   "cell_type": "code",
   "execution_count": 16,
   "metadata": {},
   "outputs": [],
   "source": [
    "# in java, \"System\" is a class"
   ]
  }
 ],
 "metadata": {
  "kernelspec": {
   "display_name": "_my_python",
   "language": "python",
   "name": "python3"
  },
  "language_info": {
   "codemirror_mode": {
    "name": "ipython",
    "version": 3
   },
   "file_extension": ".py",
   "mimetype": "text/x-python",
   "name": "python",
   "nbconvert_exporter": "python",
   "pygments_lexer": "ipython3",
   "version": "3.12.7"
  }
 },
 "nbformat": 4,
 "nbformat_minor": 2
}
