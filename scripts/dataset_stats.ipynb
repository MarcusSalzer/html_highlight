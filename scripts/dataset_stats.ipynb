{
 "cells": [
  {
   "cell_type": "code",
   "execution_count": null,
   "metadata": {},
   "outputs": [],
   "source": [
    "import sys\n",
    "from importlib import reload\n",
    "\n",
    "import polars as pl\n",
    "from datatools import plotting as dtplot\n",
    "from datatools import tabular as dttab\n",
    "\n",
    "sys.path.append(\"..\")\n",
    "\n",
    "import plotting\n",
    "import util\n",
    "from src import text_process\n",
    "\n",
    "reload(util)\n",
    "reload(plotting)\n",
    "reload(text_process)\n",
    "dtplot.set_plotly_template()"
   ]
  },
  {
   "cell_type": "code",
   "execution_count": null,
   "metadata": {},
   "outputs": [],
   "source": [
    "examples = util.load_examples()\n",
    "examples.head(5)"
   ]
  },
  {
   "cell_type": "markdown",
   "metadata": {},
   "source": [
    "## tokens\n"
   ]
  },
  {
   "cell_type": "code",
   "execution_count": null,
   "metadata": {},
   "outputs": [],
   "source": [
    "token_counts = dttab.value_counts(examples[\"tokens\"].explode())\n",
    "token_counts"
   ]
  },
  {
   "cell_type": "markdown",
   "metadata": {},
   "source": [
    "## which tags can each token have?\n"
   ]
  },
  {
   "cell_type": "code",
   "execution_count": null,
   "metadata": {},
   "outputs": [],
   "source": [
    "token_to_tags = (\n",
    "    examples.select(pl.col(\"tokens\", \"tags\").explode())\n",
    "    .group_by(\"tokens\")\n",
    "    .agg(pl.col(\"tags\").explode().unique())  # what tags can the token have?\n",
    ").join(token_counts, on=\"tokens\")\n",
    "\n",
    "single_tagged = (\n",
    "    token_to_tags.filter(pl.col(\"tags\").list.len() == 1)\n",
    "    .sort(\"tokens_count\", descending=True)\n",
    "    .with_columns(pl.col(\"tags\").list[0])\n",
    "    .filter(pl.col(\"tags\").is_in(text_process.DET_TAGS).not_())\n",
    ")  # exclude DET TAGS\n",
    "\n",
    "multi_tagged = token_to_tags.filter(pl.col(\"tags\").list.len() != 1).sort(\n",
    "    \"tokens_count\", descending=True\n",
    ")\n",
    "print(f\"found {len(single_tagged)} tokens with a single tag\")\n",
    "print(f\"found {len(multi_tagged)} tokens with multiple tags\")\n",
    "\n",
    "display(single_tagged.head(10))\n",
    "# display(multi_tagged.head(10))\n"
   ]
  },
  {
   "cell_type": "markdown",
   "metadata": {},
   "source": [
    "## which tokens can each tag have?\n"
   ]
  },
  {
   "cell_type": "code",
   "execution_count": null,
   "metadata": {},
   "outputs": [],
   "source": [
    "tag_counts = dttab.value_counts(examples[\"tags\"].explode())\n",
    "\n",
    "tags_to_tokens = (\n",
    "    (\n",
    "        examples.select(pl.col(\"tokens\", \"tags\").explode())\n",
    "        .group_by(\"tags\")\n",
    "        .agg(pl.col(\"tokens\").explode().unique())  # what tags can the token have?\n",
    "    )\n",
    "    .join(tag_counts, on=\"tags\")\n",
    "    .filter(pl.col(\"tags\").is_in(text_process.DET_TAGS).not_())\n",
    "    .sort(pl.col(\"tokens\").list.len())\n",
    ")\n",
    "display(tags_to_tokens.head(10))"
   ]
  },
  {
   "cell_type": "code",
   "execution_count": null,
   "metadata": {},
   "outputs": [],
   "source": [
    "token_to_tags.filter(pl.col(\"tokens\") == \"System\")"
   ]
  },
  {
   "cell_type": "markdown",
   "metadata": {},
   "source": [
    "## Language specific rules!\n"
   ]
  },
  {
   "cell_type": "code",
   "execution_count": null,
   "metadata": {},
   "outputs": [],
   "source": [
    "# in java, \"System\" is a class"
   ]
  }
 ],
 "metadata": {
  "kernelspec": {
   "display_name": "_my_python",
   "language": "python",
   "name": "python3"
  },
  "language_info": {
   "codemirror_mode": {
    "name": "ipython",
    "version": 3
   },
   "file_extension": ".py",
   "mimetype": "text/x-python",
   "name": "python",
   "nbconvert_exporter": "python",
   "pygments_lexer": "ipython3",
   "version": "3.12.7"
  }
 },
 "nbformat": 4,
 "nbformat_minor": 2
}
