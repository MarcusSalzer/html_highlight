{
 "cells": [
  {
   "cell_type": "code",
   "execution_count": 16,
   "metadata": {},
   "outputs": [],
   "source": [
    "import json\n",
    "import sys\n",
    "from importlib import reload\n",
    "\n",
    "import polars as pl\n",
    "import torch\n",
    "import torch.nn as nn\n",
    "from datatools import plotting as dtplot\n",
    "from datatools import tabular as dttab\n",
    "from sklearn import metrics\n",
    "from torch.utils.data import DataLoader, Dataset\n",
    "\n",
    "sys.path.append(\"..\")\n",
    "\n",
    "import plotting\n",
    "import util\n",
    "from src import models_torch, text_process\n",
    "\n",
    "reload(util)\n",
    "reload(plotting)\n",
    "reload(models_torch)\n",
    "dtplot.set_plotly_template()"
   ]
  },
  {
   "cell_type": "markdown",
   "metadata": {},
   "source": [
    "## load data\n"
   ]
  },
  {
   "cell_type": "code",
   "execution_count": 17,
   "metadata": {},
   "outputs": [
    {
     "name": "stdout",
     "output_type": "stream",
     "text": [
      "21 unique (lang):  'python', 'matlab', 'pseudo', 'php', 'rust' ,...\n"
     ]
    }
   ],
   "source": [
    "tag_map = util.MAP_TAGS\n",
    "\n",
    "examples = util.load_examples(\n",
    "    tag_map,\n",
    "    # [\"python\", \"pseudo\", \"rust\"],\n",
    ").sort(\"length\")\n",
    "\n",
    "examples = examples.with_columns(\n",
    "    tags_det=pl.col(\"tokens\").map_elements(\n",
    "        lambda tks: text_process.process(\"\".join(tks))[1], pl.List(pl.String)\n",
    "    )\n",
    ")\n",
    "# display(examples)\n",
    "lang_counts = dttab.value_counts(examples[\"lang\"], verbose=True, as_dict=True)\n"
   ]
  },
  {
   "cell_type": "code",
   "execution_count": 18,
   "metadata": {},
   "outputs": [
    {
     "name": "stdout",
     "output_type": "stream",
     "text": [
      "splitted 89 & 39 (shuffled)\n",
      "split: 89 training, 39 val\n"
     ]
    }
   ],
   "source": [
    "# train-val split\n",
    "train_df, val_df = util.data_split(examples, 0.3)\n",
    "print(f\"split: {len(train_df)} training, {len(val_df)} val\")\n"
   ]
  },
  {
   "cell_type": "markdown",
   "metadata": {},
   "source": [
    "## most common tokens\n"
   ]
  },
  {
   "cell_type": "code",
   "execution_count": 19,
   "metadata": {},
   "outputs": [
    {
     "name": "stdout",
     "output_type": "stream",
     "text": [
      "682 unique (tokens):  ' ', '\\n', ',', ')', '(' ,...\n",
      "14 unique (tags):  'ws', 'va', 'sy', 'nl', 'brop' ,...\n"
     ]
    }
   ],
   "source": [
    "token_counts = dttab.value_counts(\n",
    "    examples[\"tokens\"].explode(), verbose=True, as_dict=True\n",
    ")\n",
    "tag_counts = dttab.value_counts(examples[\"tags\"].explode(), verbose=True, as_dict=True)\n"
   ]
  },
  {
   "cell_type": "markdown",
   "metadata": {},
   "source": [
    "## make a vocab!\n",
    "\n",
    "- add padding to both tokens and tags\n",
    "- also, convert tokens and tags to integers\n"
   ]
  },
  {
   "cell_type": "code",
   "execution_count": 20,
   "metadata": {},
   "outputs": [
    {
     "name": "stdout",
     "output_type": "stream",
     "text": [
      "vocab (tokens): ['<pad>', '<unk>', ' ', '\\n', ',', ')', '(', '=', '    ', '.', ';', '0']\n",
      "vocab (tags)  : ['<pad>', 'uk', 'ws', 'va', 'sy', 'nl', 'brop', 'brcl', 'op', 'nu', 'kw', 'fn', 'st', 'cl', 'li', 'co']\n",
      "\n",
      "training examples of length: [22, 9, 36, 26, 58, 15, 33, 73, 32, 25, 3, 39, 15, 15, 18, 5, 14, 19, 38, 44, 25, 13, 28, 59, 48, 8, 25, 16, 20, 9, 15, 11, 35, 10, 38, 28, 20, 29, 8, 8, 46, 22, 30, 3, 28, 13, 11, 52, 24, 29, 21, 26, 32, 17, 62, 60, 155, 26, 71, 12, 25, 45, 8, 9, 314, 29, 44, 42, 39, 22, 18, 17, 47, 44, 3, 30, 3, 14, 85, 8, 39, 47, 59, 63, 10, 51, 31, 98, 25]\n",
      "validation examples of length: [31, 15, 26, 43, 85, 76, 25, 21, 92, 9, 11, 48, 25, 40, 17, 25, 32, 31, 53, 21, 19, 13, 37, 63, 91, 12, 32, 29, 38, 111, 17, 13, 14, 4, 33, 20, 25, 65, 95]\n"
     ]
    }
   ],
   "source": [
    "# vocab for tokens\n",
    "vocab = [\"<pad>\", \"<unk>\"] + list(token_counts.keys())[:10]\n",
    "token2idx = {t: i for i, t in enumerate(vocab)}\n",
    "\n",
    "# tags\n",
    "tag_vocab = [\"<pad>\", \"uk\"] + list(tag_counts.keys())\n",
    "tag2idx = {t: i for i, t in enumerate(tag_vocab)}\n",
    "\n",
    "print(\"vocab (tokens):\", vocab)\n",
    "print(\"vocab (tags)  :\", tag_vocab)\n",
    "\n",
    "# Convert tokens and labels to indices\n",
    "# these are lists of lists!\n",
    "train_token_idx = [[token2idx.get(t, 1) for t in seq] for seq in train_df[\"tokens\"]]\n",
    "train_tag_true_idx = [[tag2idx[t] for t in seq] for seq in train_df[\"tags\"]]\n",
    "train_tag_det_idx = [[tag2idx.get(t, 1) for t in seq] for seq in train_df[\"tags_det\"]]\n",
    "\n",
    "# print(\"\\nlists of lists:\")\n",
    "# print(train_token_idx)\n",
    "# print(train_tag_idx)\n",
    "print(f\"\\ntraining examples of length: {[len(e) for e in train_token_idx]}\")\n",
    "\n",
    "# validation data\n",
    "val_token_idx = [[token2idx.get(t, 1) for t in seq] for seq in val_df[\"tokens\"]]\n",
    "val_tag_true_idx = [[tag2idx[t] for t in seq] for seq in val_df[\"tags\"]]\n",
    "val_tag_det_idx = [[tag2idx.get(t, 1) for t in seq] for seq in val_df[\"tags_det\"]]\n",
    "print(f\"validation examples of length: {[len(e) for e in val_token_idx]}\")\n"
   ]
  },
  {
   "cell_type": "markdown",
   "metadata": {},
   "source": [
    "### class weights?\n"
   ]
  },
  {
   "cell_type": "code",
   "execution_count": 21,
   "metadata": {},
   "outputs": [],
   "source": [
    "reload(dttab)\n",
    "\n",
    "\n",
    "all_tags = train_df[\"tags\"].explode()\n",
    "\n",
    "tag_counts = dttab.value_counts(all_tags, sort_by=\"value\", as_dict=True)\n",
    "\n",
    "\n",
    "def class_weights(tag_counts: dict, tag_vocab: list[str], smoothing=0.1):\n",
    "    tag_weights = [1 / tag_counts.get(k, torch.inf) + smoothing for k in tag_vocab]\n",
    "    tag_weights = torch.tensor(tag_weights)\n",
    "    tag_weights /= sum(tag_weights)\n",
    "    return tag_weights\n",
    "\n",
    "\n",
    "tag_weights = class_weights(tag_counts, tag_vocab, 30.0)\n",
    "\n",
    "# for k in tag_vocab:\n",
    "#     print(f\"weight({k}) = \", tag_weights[tag2idx[k]])"
   ]
  },
  {
   "cell_type": "markdown",
   "metadata": {},
   "source": [
    "### Prepare data for model\n"
   ]
  },
  {
   "cell_type": "code",
   "execution_count": 22,
   "metadata": {},
   "outputs": [
    {
     "name": "stdout",
     "output_type": "stream",
     "text": [
      "train:\n",
      "padded tensor: (89, 314)\n",
      "padded tensor: (89, 314)\n",
      "padded tensor: (89, 314)\n",
      "val:\n",
      "padded tensor: (39, 111)\n",
      "padded tensor: (39, 111)\n",
      "padded tensor: (39, 111)\n"
     ]
    }
   ],
   "source": [
    "print(\"train:\")\n",
    "train_token_tensors = util.seqs2padded_tensor(train_token_idx)\n",
    "train_tag_true_tensors = util.seqs2padded_tensor(train_tag_true_idx)\n",
    "train_tag_det_tensors = util.seqs2padded_tensor(train_tag_det_idx)\n",
    "print(\"val:\")\n",
    "val_token_tensors = util.seqs2padded_tensor(val_token_idx)\n",
    "val_tag_true_tensors = util.seqs2padded_tensor(val_tag_true_idx)\n",
    "val_tag_det_tensors = util.seqs2padded_tensor(val_tag_det_idx)\n",
    "\n",
    "assert train_token_tensors.shape == train_tag_true_tensors.shape\n",
    "assert train_tag_det_tensors.shape == train_tag_true_tensors.shape\n",
    "\n",
    "assert val_token_tensors.shape == val_tag_true_tensors.shape\n",
    "assert val_tag_det_tensors.shape == val_tag_true_tensors.shape\n"
   ]
  },
  {
   "cell_type": "code",
   "execution_count": 23,
   "metadata": {},
   "outputs": [
    {
     "name": "stdout",
     "output_type": "stream",
     "text": [
      "89 89 89\n",
      "39 39 39\n"
     ]
    }
   ],
   "source": [
    "class SequenceDataset(Dataset):\n",
    "    def __init__(self, tokens, labels_det, labels_true):\n",
    "        print(len(tokens), len(labels_det), len(labels_true))\n",
    "        self.tokens = tokens\n",
    "        self.labels_det = labels_det\n",
    "        self.labels_true = labels_true\n",
    "\n",
    "    def __len__(self):\n",
    "        return len(self.tokens)\n",
    "\n",
    "    def __getitem__(self, idx):\n",
    "        return self.tokens[idx], self.labels_det[idx], self.labels_true[idx]\n",
    "\n",
    "\n",
    "# Create dataset and dataloader\n",
    "\n",
    "train_loader = DataLoader(\n",
    "    SequenceDataset(train_token_tensors, train_tag_det_tensors, train_tag_true_tensors),\n",
    "    batch_size=8,\n",
    "    shuffle=True,\n",
    ")\n",
    "val_loader = DataLoader(\n",
    "    SequenceDataset(val_token_tensors, val_tag_det_tensors, val_tag_true_tensors),\n",
    "    batch_size=16,\n",
    "    shuffle=False,\n",
    ")\n"
   ]
  },
  {
   "cell_type": "markdown",
   "metadata": {},
   "source": [
    "## model\n"
   ]
  },
  {
   "cell_type": "code",
   "execution_count": 24,
   "metadata": {},
   "outputs": [
    {
     "name": "stdout",
     "output_type": "stream",
     "text": [
      "vocab lengths 12 16\n"
     ]
    },
    {
     "data": {
      "application/vnd.plotly.v1+json": {
       "config": {
        "plotlyServerURL": "https://plot.ly"
       },
       "data": [
        {
         "type": "scatter",
         "y": [
          1.1871808816989262,
          0.32099631428718567,
          0.2725618705153465,
          0.22881670234103998,
          0.21641684571901956,
          0.2852847861746947,
          0.18250282232960066,
          0.1453795184691747,
          0.11833409871906042,
          0.10531764353315036,
          0.08445756587510307,
          0.07285180920735002,
          0.06518001233537991,
          0.06469254630307357,
          0.050065248583753906,
          0.04278067732229829,
          0.039186774442593254,
          0.03754824322337905,
          0.036213537057240806,
          0.03209291755532225,
          0.03213843493722379,
          0.02670396592778464,
          0.024350713938474655,
          0.022202863707207143,
          0.02112113230396062,
          0.020832248070898157,
          0.01918425441059905,
          0.019110675745954115,
          0.018962530341620248,
          0.020031563588418067,
          0.018406492968400318,
          0.016787026077508926,
          0.016283060773275793,
          0.01739560393616557,
          0.016292296815663576,
          0.0149532364011975,
          0.014058871514862403,
          0.013834535144269466,
          0.01452455586210514,
          0.013581194022359947
         ]
        },
        {
         "type": "scatter",
         "y": [
          0.9733063379923502,
          0.8465570211410522,
          0.7592200040817261,
          0.6899756987889608,
          0.6055860122044882,
          0.5332203904787699,
          0.49074864387512207,
          0.4171737829844157,
          0.35594011346499127,
          0.30631237228711444,
          0.2580389579137166,
          0.22520784040292105,
          0.19977411131064096,
          0.17623951037724814,
          0.16066802044709524,
          0.1398498316605886,
          0.1302115594347318,
          0.12191410611073177,
          0.11959527929623921,
          0.10895612835884094,
          0.09927843759457271,
          0.0978226363658905,
          0.09371165931224823,
          0.09175947556893031,
          0.09120996544758479,
          0.08417513966560364,
          0.0822569727897644,
          0.08250134189923604,
          0.07950935264428456,
          0.08191881080468495,
          0.08308626214663188,
          0.07907361288865407,
          0.0766795923312505,
          0.07569224014878273,
          0.07447647179166476,
          0.07658793653051059,
          0.07410783941547076,
          0.07421821976701419,
          0.07068002844850223,
          0.07306893294056256
         ]
        }
       ],
       "layout": {
        "template": {
         "data": {
          "bar": [
           {
            "error_x": {
             "color": "#f2f5fa"
            },
            "error_y": {
             "color": "#f2f5fa"
            },
            "marker": {
             "line": {
              "color": "rgb(17,17,17)",
              "width": 0.5
             },
             "pattern": {
              "fillmode": "overlay",
              "size": 10,
              "solidity": 0.2
             }
            },
            "type": "bar"
           }
          ],
          "barpolar": [
           {
            "marker": {
             "line": {
              "color": "rgb(17,17,17)",
              "width": 0.5
             },
             "pattern": {
              "fillmode": "overlay",
              "size": 10,
              "solidity": 0.2
             }
            },
            "type": "barpolar"
           }
          ],
          "carpet": [
           {
            "aaxis": {
             "endlinecolor": "#A2B1C6",
             "gridcolor": "#506784",
             "linecolor": "#506784",
             "minorgridcolor": "#506784",
             "startlinecolor": "#A2B1C6"
            },
            "baxis": {
             "endlinecolor": "#A2B1C6",
             "gridcolor": "#506784",
             "linecolor": "#506784",
             "minorgridcolor": "#506784",
             "startlinecolor": "#A2B1C6"
            },
            "type": "carpet"
           }
          ],
          "choropleth": [
           {
            "colorbar": {
             "outlinewidth": 0,
             "ticks": ""
            },
            "type": "choropleth"
           }
          ],
          "contour": [
           {
            "colorbar": {
             "outlinewidth": 0,
             "ticks": ""
            },
            "colorscale": [
             [
              0,
              "#0d0887"
             ],
             [
              0.1111111111111111,
              "#46039f"
             ],
             [
              0.2222222222222222,
              "#7201a8"
             ],
             [
              0.3333333333333333,
              "#9c179e"
             ],
             [
              0.4444444444444444,
              "#bd3786"
             ],
             [
              0.5555555555555556,
              "#d8576b"
             ],
             [
              0.6666666666666666,
              "#ed7953"
             ],
             [
              0.7777777777777778,
              "#fb9f3a"
             ],
             [
              0.8888888888888888,
              "#fdca26"
             ],
             [
              1,
              "#f0f921"
             ]
            ],
            "type": "contour"
           }
          ],
          "contourcarpet": [
           {
            "colorbar": {
             "outlinewidth": 0,
             "ticks": ""
            },
            "type": "contourcarpet"
           }
          ],
          "heatmap": [
           {
            "colorbar": {
             "outlinewidth": 0,
             "ticks": ""
            },
            "colorscale": [
             [
              0,
              "#0d0887"
             ],
             [
              0.1111111111111111,
              "#46039f"
             ],
             [
              0.2222222222222222,
              "#7201a8"
             ],
             [
              0.3333333333333333,
              "#9c179e"
             ],
             [
              0.4444444444444444,
              "#bd3786"
             ],
             [
              0.5555555555555556,
              "#d8576b"
             ],
             [
              0.6666666666666666,
              "#ed7953"
             ],
             [
              0.7777777777777778,
              "#fb9f3a"
             ],
             [
              0.8888888888888888,
              "#fdca26"
             ],
             [
              1,
              "#f0f921"
             ]
            ],
            "type": "heatmap"
           }
          ],
          "heatmapgl": [
           {
            "colorbar": {
             "outlinewidth": 0,
             "ticks": ""
            },
            "colorscale": [
             [
              0,
              "#0d0887"
             ],
             [
              0.1111111111111111,
              "#46039f"
             ],
             [
              0.2222222222222222,
              "#7201a8"
             ],
             [
              0.3333333333333333,
              "#9c179e"
             ],
             [
              0.4444444444444444,
              "#bd3786"
             ],
             [
              0.5555555555555556,
              "#d8576b"
             ],
             [
              0.6666666666666666,
              "#ed7953"
             ],
             [
              0.7777777777777778,
              "#fb9f3a"
             ],
             [
              0.8888888888888888,
              "#fdca26"
             ],
             [
              1,
              "#f0f921"
             ]
            ],
            "type": "heatmapgl"
           }
          ],
          "histogram": [
           {
            "marker": {
             "pattern": {
              "fillmode": "overlay",
              "size": 10,
              "solidity": 0.2
             }
            },
            "type": "histogram"
           }
          ],
          "histogram2d": [
           {
            "colorbar": {
             "outlinewidth": 0,
             "ticks": ""
            },
            "colorscale": [
             [
              0,
              "#0d0887"
             ],
             [
              0.1111111111111111,
              "#46039f"
             ],
             [
              0.2222222222222222,
              "#7201a8"
             ],
             [
              0.3333333333333333,
              "#9c179e"
             ],
             [
              0.4444444444444444,
              "#bd3786"
             ],
             [
              0.5555555555555556,
              "#d8576b"
             ],
             [
              0.6666666666666666,
              "#ed7953"
             ],
             [
              0.7777777777777778,
              "#fb9f3a"
             ],
             [
              0.8888888888888888,
              "#fdca26"
             ],
             [
              1,
              "#f0f921"
             ]
            ],
            "type": "histogram2d"
           }
          ],
          "histogram2dcontour": [
           {
            "colorbar": {
             "outlinewidth": 0,
             "ticks": ""
            },
            "colorscale": [
             [
              0,
              "#0d0887"
             ],
             [
              0.1111111111111111,
              "#46039f"
             ],
             [
              0.2222222222222222,
              "#7201a8"
             ],
             [
              0.3333333333333333,
              "#9c179e"
             ],
             [
              0.4444444444444444,
              "#bd3786"
             ],
             [
              0.5555555555555556,
              "#d8576b"
             ],
             [
              0.6666666666666666,
              "#ed7953"
             ],
             [
              0.7777777777777778,
              "#fb9f3a"
             ],
             [
              0.8888888888888888,
              "#fdca26"
             ],
             [
              1,
              "#f0f921"
             ]
            ],
            "type": "histogram2dcontour"
           }
          ],
          "mesh3d": [
           {
            "colorbar": {
             "outlinewidth": 0,
             "ticks": ""
            },
            "type": "mesh3d"
           }
          ],
          "parcoords": [
           {
            "line": {
             "colorbar": {
              "outlinewidth": 0,
              "ticks": ""
             }
            },
            "type": "parcoords"
           }
          ],
          "pie": [
           {
            "automargin": true,
            "type": "pie"
           }
          ],
          "scatter": [
           {
            "marker": {
             "line": {
              "color": "#283442"
             }
            },
            "type": "scatter"
           }
          ],
          "scatter3d": [
           {
            "line": {
             "colorbar": {
              "outlinewidth": 0,
              "ticks": ""
             }
            },
            "marker": {
             "colorbar": {
              "outlinewidth": 0,
              "ticks": ""
             }
            },
            "type": "scatter3d"
           }
          ],
          "scattercarpet": [
           {
            "marker": {
             "colorbar": {
              "outlinewidth": 0,
              "ticks": ""
             }
            },
            "type": "scattercarpet"
           }
          ],
          "scattergeo": [
           {
            "marker": {
             "colorbar": {
              "outlinewidth": 0,
              "ticks": ""
             }
            },
            "type": "scattergeo"
           }
          ],
          "scattergl": [
           {
            "marker": {
             "line": {
              "color": "#283442"
             }
            },
            "type": "scattergl"
           }
          ],
          "scattermapbox": [
           {
            "marker": {
             "colorbar": {
              "outlinewidth": 0,
              "ticks": ""
             }
            },
            "type": "scattermapbox"
           }
          ],
          "scatterpolar": [
           {
            "marker": {
             "colorbar": {
              "outlinewidth": 0,
              "ticks": ""
             }
            },
            "type": "scatterpolar"
           }
          ],
          "scatterpolargl": [
           {
            "marker": {
             "colorbar": {
              "outlinewidth": 0,
              "ticks": ""
             }
            },
            "type": "scatterpolargl"
           }
          ],
          "scatterternary": [
           {
            "marker": {
             "colorbar": {
              "outlinewidth": 0,
              "ticks": ""
             }
            },
            "type": "scatterternary"
           }
          ],
          "surface": [
           {
            "colorbar": {
             "outlinewidth": 0,
             "ticks": ""
            },
            "colorscale": [
             [
              0,
              "#0d0887"
             ],
             [
              0.1111111111111111,
              "#46039f"
             ],
             [
              0.2222222222222222,
              "#7201a8"
             ],
             [
              0.3333333333333333,
              "#9c179e"
             ],
             [
              0.4444444444444444,
              "#bd3786"
             ],
             [
              0.5555555555555556,
              "#d8576b"
             ],
             [
              0.6666666666666666,
              "#ed7953"
             ],
             [
              0.7777777777777778,
              "#fb9f3a"
             ],
             [
              0.8888888888888888,
              "#fdca26"
             ],
             [
              1,
              "#f0f921"
             ]
            ],
            "type": "surface"
           }
          ],
          "table": [
           {
            "cells": {
             "fill": {
              "color": "#506784"
             },
             "line": {
              "color": "rgb(17,17,17)"
             }
            },
            "header": {
             "fill": {
              "color": "#2a3f5f"
             },
             "line": {
              "color": "rgb(17,17,17)"
             }
            },
            "type": "table"
           }
          ]
         },
         "layout": {
          "annotationdefaults": {
           "arrowcolor": "#f2f5fa",
           "arrowhead": 0,
           "arrowwidth": 1
          },
          "autosize": false,
          "autotypenumbers": "strict",
          "coloraxis": {
           "colorbar": {
            "outlinewidth": 0,
            "ticks": ""
           }
          },
          "colorscale": {
           "diverging": [
            [
             0,
             "#8e0152"
            ],
            [
             0.1,
             "#c51b7d"
            ],
            [
             0.2,
             "#de77ae"
            ],
            [
             0.3,
             "#f1b6da"
            ],
            [
             0.4,
             "#fde0ef"
            ],
            [
             0.5,
             "#f7f7f7"
            ],
            [
             0.6,
             "#e6f5d0"
            ],
            [
             0.7,
             "#b8e186"
            ],
            [
             0.8,
             "#7fbc41"
            ],
            [
             0.9,
             "#4d9221"
            ],
            [
             1,
             "#276419"
            ]
           ],
           "sequential": [
            [
             0,
             "#0d0887"
            ],
            [
             0.1111111111111111,
             "#46039f"
            ],
            [
             0.2222222222222222,
             "#7201a8"
            ],
            [
             0.3333333333333333,
             "#9c179e"
            ],
            [
             0.4444444444444444,
             "#bd3786"
            ],
            [
             0.5555555555555556,
             "#d8576b"
            ],
            [
             0.6666666666666666,
             "#ed7953"
            ],
            [
             0.7777777777777778,
             "#fb9f3a"
            ],
            [
             0.8888888888888888,
             "#fdca26"
            ],
            [
             1,
             "#f0f921"
            ]
           ],
           "sequentialminus": [
            [
             0,
             "#0d0887"
            ],
            [
             0.1111111111111111,
             "#46039f"
            ],
            [
             0.2222222222222222,
             "#7201a8"
            ],
            [
             0.3333333333333333,
             "#9c179e"
            ],
            [
             0.4444444444444444,
             "#bd3786"
            ],
            [
             0.5555555555555556,
             "#d8576b"
            ],
            [
             0.6666666666666666,
             "#ed7953"
            ],
            [
             0.7777777777777778,
             "#fb9f3a"
            ],
            [
             0.8888888888888888,
             "#fdca26"
            ],
            [
             1,
             "#f0f921"
            ]
           ]
          },
          "colorway": [
           "#636efa",
           "#EF553B",
           "#00cc96",
           "#ab63fa",
           "#FFA15A",
           "#19d3f3",
           "#FF6692",
           "#B6E880",
           "#FF97FF",
           "#FECB52"
          ],
          "font": {
           "color": "#f2f5fa"
          },
          "geo": {
           "bgcolor": "rgb(17,17,17)",
           "lakecolor": "rgb(17,17,17)",
           "landcolor": "rgb(17,17,17)",
           "showlakes": true,
           "showland": true,
           "subunitcolor": "#506784"
          },
          "height": 300,
          "hoverlabel": {
           "align": "left"
          },
          "hovermode": "closest",
          "mapbox": {
           "style": "dark"
          },
          "margin": {
           "b": 40,
           "l": 40,
           "r": 40,
           "t": 40
          },
          "paper_bgcolor": "rgba(0,0,0,0)",
          "plot_bgcolor": "rgba(0,0,0,0)",
          "polar": {
           "angularaxis": {
            "gridcolor": "#506784",
            "linecolor": "#506784",
            "ticks": ""
           },
           "bgcolor": "rgb(17,17,17)",
           "radialaxis": {
            "gridcolor": "#506784",
            "linecolor": "#506784",
            "ticks": ""
           }
          },
          "scene": {
           "xaxis": {
            "backgroundcolor": "rgb(17,17,17)",
            "gridcolor": "#506784",
            "gridwidth": 2,
            "linecolor": "#506784",
            "showbackground": true,
            "ticks": "",
            "zerolinecolor": "#C8D4E3"
           },
           "yaxis": {
            "backgroundcolor": "rgb(17,17,17)",
            "gridcolor": "#506784",
            "gridwidth": 2,
            "linecolor": "#506784",
            "showbackground": true,
            "ticks": "",
            "zerolinecolor": "#C8D4E3"
           },
           "zaxis": {
            "backgroundcolor": "rgb(17,17,17)",
            "gridcolor": "#506784",
            "gridwidth": 2,
            "linecolor": "#506784",
            "showbackground": true,
            "ticks": "",
            "zerolinecolor": "#C8D4E3"
           }
          },
          "shapedefaults": {
           "line": {
            "color": "#f2f5fa"
           }
          },
          "sliderdefaults": {
           "bgcolor": "#C8D4E3",
           "bordercolor": "rgb(17,17,17)",
           "borderwidth": 1,
           "tickwidth": 0
          },
          "ternary": {
           "aaxis": {
            "gridcolor": "#506784",
            "linecolor": "#506784",
            "ticks": ""
           },
           "baxis": {
            "gridcolor": "#506784",
            "linecolor": "#506784",
            "ticks": ""
           },
           "bgcolor": "rgb(17,17,17)",
           "caxis": {
            "gridcolor": "#506784",
            "linecolor": "#506784",
            "ticks": ""
           }
          },
          "title": {
           "x": 0.05
          },
          "updatemenudefaults": {
           "bgcolor": "#506784",
           "borderwidth": 0
          },
          "width": 600,
          "xaxis": {
           "automargin": true,
           "gridcolor": "#283442",
           "linecolor": "#506784",
           "ticks": "",
           "title": {
            "standoff": 15
           },
           "zerolinecolor": "#283442",
           "zerolinewidth": 2
          },
          "yaxis": {
           "automargin": true,
           "gridcolor": "#283442",
           "linecolor": "#506784",
           "ticks": "",
           "title": {
            "standoff": 15
           },
           "zerolinecolor": "#283442",
           "zerolinewidth": 2
          }
         }
        }
       }
      }
     },
     "metadata": {},
     "output_type": "display_data"
    },
    {
     "name": "stdout",
     "output_type": "stream",
     "text": [
      "final loss:\n",
      "   train: 0.0136   val : 0.0731\n"
     ]
    }
   ],
   "source": [
    "# Parameters\n",
    "\n",
    "epochs = 40\n",
    "\n",
    "print(\"vocab lengths\", len(vocab), len(tag_vocab))\n",
    "reload(models_torch)\n",
    "\n",
    "# Model with default params\n",
    "model = models_torch.LSTMTagger(len(vocab), len(tag_vocab))\n",
    "\n",
    "loss_function = nn.CrossEntropyLoss(weight=tag_weights)\n",
    "\n",
    "optimizer = torch.optim.Adam(model.parameters(), lr=0.005)\n",
    "\n",
    "# Training loop\n",
    "\n",
    "losses_train = []\n",
    "losses_val = []\n",
    "\n",
    "for epoch in range(epochs):\n",
    "    # TRAINING\n",
    "    train_loss = models_torch.run_epoch(model, train_loader, loss_function, optimizer)\n",
    "    losses_train.append(train_loss)\n",
    "\n",
    "    # VALIDATION\n",
    "    with torch.no_grad():\n",
    "        val_loss = models_torch.run_epoch(model, val_loader, loss_function)\n",
    "        losses_val.append(val_loss)\n",
    "\n",
    "    # print(f\"Epoch {epoch+1}/{epochs}, Loss: {loss.item():.4f}\")\n",
    "plotting.scatter(y=[losses_train, losses_val]).show()\n",
    "\n",
    "print(\n",
    "    \"final loss:\\n\", f\"  train: {losses_train[-1]:.4f}\", f\"  val : {losses_val[-1]:.4f}\"\n",
    ")\n"
   ]
  },
  {
   "cell_type": "code",
   "execution_count": 26,
   "metadata": {},
   "outputs": [],
   "source": [
    "# save model\n",
    "\n",
    "\n",
    "torch.save(model.state_dict(), \"../models/lstmTagger_state.pth\")\n",
    "# save metadata\n",
    "metadata = {\"vocab\": vocab, \"tag_vocab\": tag_vocab, \"tag_map\": tag_map}\n",
    "with open(\"../models/lstmTagger_vocabs.json\", \"w\") as f:\n",
    "    json.dump(metadata, f)"
   ]
  },
  {
   "cell_type": "markdown",
   "metadata": {},
   "source": [
    "## evaluate\n"
   ]
  },
  {
   "cell_type": "code",
   "execution_count": 27,
   "metadata": {},
   "outputs": [
    {
     "name": "stdout",
     "output_type": "stream",
     "text": [
      "1457 1457\n",
      "accuracy 0.938229238160604\n",
      "F1_macro 0.7256484603769511\n"
     ]
    },
    {
     "data": {
      "application/vnd.plotly.v1+json": {
       "config": {
        "plotlyServerURL": "https://plot.ly"
       },
       "data": [
        {
         "text": [
          [
           0,
           0,
           0,
           0,
           0,
           0,
           0,
           0,
           0,
           0,
           0,
           0,
           0,
           0,
           0,
           0
          ],
          [
           0,
           0,
           0,
           0,
           0,
           0,
           0,
           0,
           0,
           0,
           0,
           0,
           0,
           0,
           0,
           0
          ],
          [
           0,
           0,
           385,
           0,
           0,
           0,
           0,
           0,
           0,
           0,
           0,
           0,
           0,
           0,
           0,
           0
          ],
          [
           0,
           0,
           0,
           228,
           0,
           0,
           0,
           0,
           1,
           0,
           0,
           5,
           0,
           0,
           1,
           0
          ],
          [
           0,
           0,
           2,
           4,
           174,
           0,
           0,
           0,
           1,
           0,
           2,
           0,
           0,
           0,
           0,
           0
          ],
          [
           1,
           0,
           0,
           0,
           0,
           108,
           0,
           0,
           0,
           0,
           0,
           0,
           0,
           0,
           0,
           0
          ],
          [
           0,
           0,
           0,
           0,
           0,
           0,
           88,
           0,
           0,
           0,
           0,
           0,
           0,
           0,
           0,
           0
          ],
          [
           1,
           0,
           0,
           0,
           0,
           0,
           0,
           87,
           0,
           0,
           0,
           0,
           0,
           0,
           0,
           0
          ],
          [
           0,
           0,
           0,
           2,
           1,
           0,
           0,
           0,
           94,
           0,
           10,
           0,
           0,
           0,
           0,
           0
          ],
          [
           0,
           0,
           0,
           0,
           0,
           0,
           0,
           0,
           0,
           51,
           0,
           0,
           0,
           0,
           0,
           0
          ],
          [
           0,
           0,
           1,
           4,
           0,
           0,
           0,
           0,
           3,
           0,
           61,
           0,
           0,
           0,
           0,
           0
          ],
          [
           0,
           0,
           0,
           1,
           0,
           0,
           0,
           0,
           0,
           0,
           0,
           63,
           0,
           0,
           0,
           0
          ],
          [
           0,
           0,
           0,
           0,
           0,
           0,
           0,
           0,
           0,
           0,
           0,
           0,
           27,
           0,
           0,
           0
          ],
          [
           0,
           0,
           2,
           24,
           1,
           0,
           0,
           0,
           1,
           0,
           12,
           2,
           0,
           0,
           0,
           0
          ],
          [
           0,
           0,
           0,
           5,
           0,
           0,
           0,
           0,
           0,
           0,
           0,
           0,
           0,
           0,
           0,
           0
          ],
          [
           0,
           0,
           0,
           0,
           0,
           0,
           0,
           0,
           0,
           0,
           3,
           0,
           0,
           0,
           0,
           1
          ]
         ],
         "type": "heatmap",
         "x": [
          "<pad>",
          "uk",
          "ws",
          "va",
          "sy",
          "nl",
          "brop",
          "brcl",
          "op",
          "nu",
          "kw",
          "fn",
          "st",
          "cl",
          "li",
          "co"
         ],
         "y": [
          "<pad>",
          "uk",
          "ws",
          "va",
          "sy",
          "nl",
          "brop",
          "brcl",
          "op",
          "nu",
          "kw",
          "fn",
          "st",
          "cl",
          "li",
          "co"
         ],
         "z": [
          [
           2.302585092994046,
           2.302585092994046,
           2.302585092994046,
           2.302585092994046,
           2.302585092994046,
           2.302585092994046,
           2.302585092994046,
           2.302585092994046,
           2.302585092994046,
           2.302585092994046,
           2.302585092994046,
           2.302585092994046,
           2.302585092994046,
           2.302585092994046,
           2.302585092994046,
           2.302585092994046
          ],
          [
           2.302585092994046,
           2.302585092994046,
           2.302585092994046,
           2.302585092994046,
           2.302585092994046,
           2.302585092994046,
           2.302585092994046,
           2.302585092994046,
           2.302585092994046,
           2.302585092994046,
           2.302585092994046,
           2.302585092994046,
           2.302585092994046,
           2.302585092994046,
           2.302585092994046,
           2.302585092994046
          ],
          [
           2.302585092994046,
           2.302585092994046,
           5.978885764901122,
           2.302585092994046,
           2.302585092994046,
           2.302585092994046,
           2.302585092994046,
           2.302585092994046,
           2.302585092994046,
           2.302585092994046,
           2.302585092994046,
           2.302585092994046,
           2.302585092994046,
           2.302585092994046,
           2.302585092994046,
           2.302585092994046
          ],
          [
           2.302585092994046,
           2.302585092994046,
           2.302585092994046,
           5.472270673671475,
           2.302585092994046,
           2.302585092994046,
           2.302585092994046,
           2.302585092994046,
           2.3978952727983707,
           2.302585092994046,
           2.302585092994046,
           2.70805020110221,
           2.302585092994046,
           2.302585092994046,
           2.3978952727983707,
           2.302585092994046
          ],
          [
           2.302585092994046,
           2.302585092994046,
           2.4849066497880004,
           2.6390573296152584,
           5.214935757608986,
           2.302585092994046,
           2.302585092994046,
           2.302585092994046,
           2.3978952727983707,
           2.302585092994046,
           2.4849066497880004,
           2.302585092994046,
           2.302585092994046,
           2.302585092994046,
           2.302585092994046,
           2.302585092994046
          ],
          [
           2.3978952727983707,
           2.302585092994046,
           2.302585092994046,
           2.302585092994046,
           2.302585092994046,
           4.770684624465665,
           2.302585092994046,
           2.302585092994046,
           2.302585092994046,
           2.302585092994046,
           2.302585092994046,
           2.302585092994046,
           2.302585092994046,
           2.302585092994046,
           2.302585092994046,
           2.302585092994046
          ],
          [
           2.302585092994046,
           2.302585092994046,
           2.302585092994046,
           2.302585092994046,
           2.302585092994046,
           2.302585092994046,
           4.584967478670572,
           2.302585092994046,
           2.302585092994046,
           2.302585092994046,
           2.302585092994046,
           2.302585092994046,
           2.302585092994046,
           2.302585092994046,
           2.302585092994046,
           2.302585092994046
          ],
          [
           2.3978952727983707,
           2.302585092994046,
           2.302585092994046,
           2.302585092994046,
           2.302585092994046,
           2.302585092994046,
           2.302585092994046,
           4.574710978503383,
           2.302585092994046,
           2.302585092994046,
           2.302585092994046,
           2.302585092994046,
           2.302585092994046,
           2.302585092994046,
           2.302585092994046,
           2.302585092994046
          ],
          [
           2.302585092994046,
           2.302585092994046,
           2.302585092994046,
           2.4849066497880004,
           2.3978952727983707,
           2.302585092994046,
           2.302585092994046,
           2.302585092994046,
           4.6443908991413725,
           2.302585092994046,
           2.995732273553991,
           2.302585092994046,
           2.302585092994046,
           2.302585092994046,
           2.302585092994046,
           2.302585092994046
          ],
          [
           2.302585092994046,
           2.302585092994046,
           2.302585092994046,
           2.302585092994046,
           2.302585092994046,
           2.302585092994046,
           2.302585092994046,
           2.302585092994046,
           2.302585092994046,
           4.110873864173311,
           2.302585092994046,
           2.302585092994046,
           2.302585092994046,
           2.302585092994046,
           2.302585092994046,
           2.302585092994046
          ],
          [
           2.302585092994046,
           2.302585092994046,
           2.3978952727983707,
           2.6390573296152584,
           2.302585092994046,
           2.302585092994046,
           2.302585092994046,
           2.302585092994046,
           2.5649493574615367,
           2.302585092994046,
           4.2626798770413155,
           2.302585092994046,
           2.302585092994046,
           2.302585092994046,
           2.302585092994046,
           2.302585092994046
          ],
          [
           2.302585092994046,
           2.302585092994046,
           2.302585092994046,
           2.3978952727983707,
           2.302585092994046,
           2.302585092994046,
           2.302585092994046,
           2.302585092994046,
           2.302585092994046,
           2.302585092994046,
           2.302585092994046,
           4.290459441148391,
           2.302585092994046,
           2.302585092994046,
           2.302585092994046,
           2.302585092994046
          ],
          [
           2.302585092994046,
           2.302585092994046,
           2.302585092994046,
           2.302585092994046,
           2.302585092994046,
           2.302585092994046,
           2.302585092994046,
           2.302585092994046,
           2.302585092994046,
           2.302585092994046,
           2.302585092994046,
           2.302585092994046,
           3.6109179126442243,
           2.302585092994046,
           2.302585092994046,
           2.302585092994046
          ],
          [
           2.302585092994046,
           2.302585092994046,
           2.4849066497880004,
           3.5263605246161616,
           2.3978952727983707,
           2.302585092994046,
           2.302585092994046,
           2.302585092994046,
           2.3978952727983707,
           2.302585092994046,
           3.091042453358316,
           2.4849066497880004,
           2.302585092994046,
           2.302585092994046,
           2.302585092994046,
           2.302585092994046
          ],
          [
           2.302585092994046,
           2.302585092994046,
           2.302585092994046,
           2.70805020110221,
           2.302585092994046,
           2.302585092994046,
           2.302585092994046,
           2.302585092994046,
           2.302585092994046,
           2.302585092994046,
           2.302585092994046,
           2.302585092994046,
           2.302585092994046,
           2.302585092994046,
           2.302585092994046,
           2.302585092994046
          ],
          [
           2.302585092994046,
           2.302585092994046,
           2.302585092994046,
           2.302585092994046,
           2.302585092994046,
           2.302585092994046,
           2.302585092994046,
           2.302585092994046,
           2.302585092994046,
           2.302585092994046,
           2.5649493574615367,
           2.302585092994046,
           2.302585092994046,
           2.302585092994046,
           2.302585092994046,
           2.3978952727983707
          ]
         ]
        }
       ],
       "layout": {
        "height": 400,
        "template": {
         "data": {
          "bar": [
           {
            "error_x": {
             "color": "#f2f5fa"
            },
            "error_y": {
             "color": "#f2f5fa"
            },
            "marker": {
             "line": {
              "color": "rgb(17,17,17)",
              "width": 0.5
             },
             "pattern": {
              "fillmode": "overlay",
              "size": 10,
              "solidity": 0.2
             }
            },
            "type": "bar"
           }
          ],
          "barpolar": [
           {
            "marker": {
             "line": {
              "color": "rgb(17,17,17)",
              "width": 0.5
             },
             "pattern": {
              "fillmode": "overlay",
              "size": 10,
              "solidity": 0.2
             }
            },
            "type": "barpolar"
           }
          ],
          "carpet": [
           {
            "aaxis": {
             "endlinecolor": "#A2B1C6",
             "gridcolor": "#506784",
             "linecolor": "#506784",
             "minorgridcolor": "#506784",
             "startlinecolor": "#A2B1C6"
            },
            "baxis": {
             "endlinecolor": "#A2B1C6",
             "gridcolor": "#506784",
             "linecolor": "#506784",
             "minorgridcolor": "#506784",
             "startlinecolor": "#A2B1C6"
            },
            "type": "carpet"
           }
          ],
          "choropleth": [
           {
            "colorbar": {
             "outlinewidth": 0,
             "ticks": ""
            },
            "type": "choropleth"
           }
          ],
          "contour": [
           {
            "colorbar": {
             "outlinewidth": 0,
             "ticks": ""
            },
            "colorscale": [
             [
              0,
              "#0d0887"
             ],
             [
              0.1111111111111111,
              "#46039f"
             ],
             [
              0.2222222222222222,
              "#7201a8"
             ],
             [
              0.3333333333333333,
              "#9c179e"
             ],
             [
              0.4444444444444444,
              "#bd3786"
             ],
             [
              0.5555555555555556,
              "#d8576b"
             ],
             [
              0.6666666666666666,
              "#ed7953"
             ],
             [
              0.7777777777777778,
              "#fb9f3a"
             ],
             [
              0.8888888888888888,
              "#fdca26"
             ],
             [
              1,
              "#f0f921"
             ]
            ],
            "type": "contour"
           }
          ],
          "contourcarpet": [
           {
            "colorbar": {
             "outlinewidth": 0,
             "ticks": ""
            },
            "type": "contourcarpet"
           }
          ],
          "heatmap": [
           {
            "colorbar": {
             "outlinewidth": 0,
             "ticks": ""
            },
            "colorscale": [
             [
              0,
              "#0d0887"
             ],
             [
              0.1111111111111111,
              "#46039f"
             ],
             [
              0.2222222222222222,
              "#7201a8"
             ],
             [
              0.3333333333333333,
              "#9c179e"
             ],
             [
              0.4444444444444444,
              "#bd3786"
             ],
             [
              0.5555555555555556,
              "#d8576b"
             ],
             [
              0.6666666666666666,
              "#ed7953"
             ],
             [
              0.7777777777777778,
              "#fb9f3a"
             ],
             [
              0.8888888888888888,
              "#fdca26"
             ],
             [
              1,
              "#f0f921"
             ]
            ],
            "type": "heatmap"
           }
          ],
          "heatmapgl": [
           {
            "colorbar": {
             "outlinewidth": 0,
             "ticks": ""
            },
            "colorscale": [
             [
              0,
              "#0d0887"
             ],
             [
              0.1111111111111111,
              "#46039f"
             ],
             [
              0.2222222222222222,
              "#7201a8"
             ],
             [
              0.3333333333333333,
              "#9c179e"
             ],
             [
              0.4444444444444444,
              "#bd3786"
             ],
             [
              0.5555555555555556,
              "#d8576b"
             ],
             [
              0.6666666666666666,
              "#ed7953"
             ],
             [
              0.7777777777777778,
              "#fb9f3a"
             ],
             [
              0.8888888888888888,
              "#fdca26"
             ],
             [
              1,
              "#f0f921"
             ]
            ],
            "type": "heatmapgl"
           }
          ],
          "histogram": [
           {
            "marker": {
             "pattern": {
              "fillmode": "overlay",
              "size": 10,
              "solidity": 0.2
             }
            },
            "type": "histogram"
           }
          ],
          "histogram2d": [
           {
            "colorbar": {
             "outlinewidth": 0,
             "ticks": ""
            },
            "colorscale": [
             [
              0,
              "#0d0887"
             ],
             [
              0.1111111111111111,
              "#46039f"
             ],
             [
              0.2222222222222222,
              "#7201a8"
             ],
             [
              0.3333333333333333,
              "#9c179e"
             ],
             [
              0.4444444444444444,
              "#bd3786"
             ],
             [
              0.5555555555555556,
              "#d8576b"
             ],
             [
              0.6666666666666666,
              "#ed7953"
             ],
             [
              0.7777777777777778,
              "#fb9f3a"
             ],
             [
              0.8888888888888888,
              "#fdca26"
             ],
             [
              1,
              "#f0f921"
             ]
            ],
            "type": "histogram2d"
           }
          ],
          "histogram2dcontour": [
           {
            "colorbar": {
             "outlinewidth": 0,
             "ticks": ""
            },
            "colorscale": [
             [
              0,
              "#0d0887"
             ],
             [
              0.1111111111111111,
              "#46039f"
             ],
             [
              0.2222222222222222,
              "#7201a8"
             ],
             [
              0.3333333333333333,
              "#9c179e"
             ],
             [
              0.4444444444444444,
              "#bd3786"
             ],
             [
              0.5555555555555556,
              "#d8576b"
             ],
             [
              0.6666666666666666,
              "#ed7953"
             ],
             [
              0.7777777777777778,
              "#fb9f3a"
             ],
             [
              0.8888888888888888,
              "#fdca26"
             ],
             [
              1,
              "#f0f921"
             ]
            ],
            "type": "histogram2dcontour"
           }
          ],
          "mesh3d": [
           {
            "colorbar": {
             "outlinewidth": 0,
             "ticks": ""
            },
            "type": "mesh3d"
           }
          ],
          "parcoords": [
           {
            "line": {
             "colorbar": {
              "outlinewidth": 0,
              "ticks": ""
             }
            },
            "type": "parcoords"
           }
          ],
          "pie": [
           {
            "automargin": true,
            "type": "pie"
           }
          ],
          "scatter": [
           {
            "marker": {
             "line": {
              "color": "#283442"
             }
            },
            "type": "scatter"
           }
          ],
          "scatter3d": [
           {
            "line": {
             "colorbar": {
              "outlinewidth": 0,
              "ticks": ""
             }
            },
            "marker": {
             "colorbar": {
              "outlinewidth": 0,
              "ticks": ""
             }
            },
            "type": "scatter3d"
           }
          ],
          "scattercarpet": [
           {
            "marker": {
             "colorbar": {
              "outlinewidth": 0,
              "ticks": ""
             }
            },
            "type": "scattercarpet"
           }
          ],
          "scattergeo": [
           {
            "marker": {
             "colorbar": {
              "outlinewidth": 0,
              "ticks": ""
             }
            },
            "type": "scattergeo"
           }
          ],
          "scattergl": [
           {
            "marker": {
             "line": {
              "color": "#283442"
             }
            },
            "type": "scattergl"
           }
          ],
          "scattermapbox": [
           {
            "marker": {
             "colorbar": {
              "outlinewidth": 0,
              "ticks": ""
             }
            },
            "type": "scattermapbox"
           }
          ],
          "scatterpolar": [
           {
            "marker": {
             "colorbar": {
              "outlinewidth": 0,
              "ticks": ""
             }
            },
            "type": "scatterpolar"
           }
          ],
          "scatterpolargl": [
           {
            "marker": {
             "colorbar": {
              "outlinewidth": 0,
              "ticks": ""
             }
            },
            "type": "scatterpolargl"
           }
          ],
          "scatterternary": [
           {
            "marker": {
             "colorbar": {
              "outlinewidth": 0,
              "ticks": ""
             }
            },
            "type": "scatterternary"
           }
          ],
          "surface": [
           {
            "colorbar": {
             "outlinewidth": 0,
             "ticks": ""
            },
            "colorscale": [
             [
              0,
              "#0d0887"
             ],
             [
              0.1111111111111111,
              "#46039f"
             ],
             [
              0.2222222222222222,
              "#7201a8"
             ],
             [
              0.3333333333333333,
              "#9c179e"
             ],
             [
              0.4444444444444444,
              "#bd3786"
             ],
             [
              0.5555555555555556,
              "#d8576b"
             ],
             [
              0.6666666666666666,
              "#ed7953"
             ],
             [
              0.7777777777777778,
              "#fb9f3a"
             ],
             [
              0.8888888888888888,
              "#fdca26"
             ],
             [
              1,
              "#f0f921"
             ]
            ],
            "type": "surface"
           }
          ],
          "table": [
           {
            "cells": {
             "fill": {
              "color": "#506784"
             },
             "line": {
              "color": "rgb(17,17,17)"
             }
            },
            "header": {
             "fill": {
              "color": "#2a3f5f"
             },
             "line": {
              "color": "rgb(17,17,17)"
             }
            },
            "type": "table"
           }
          ]
         },
         "layout": {
          "annotationdefaults": {
           "arrowcolor": "#f2f5fa",
           "arrowhead": 0,
           "arrowwidth": 1
          },
          "autosize": false,
          "autotypenumbers": "strict",
          "coloraxis": {
           "colorbar": {
            "outlinewidth": 0,
            "ticks": ""
           }
          },
          "colorscale": {
           "diverging": [
            [
             0,
             "#8e0152"
            ],
            [
             0.1,
             "#c51b7d"
            ],
            [
             0.2,
             "#de77ae"
            ],
            [
             0.3,
             "#f1b6da"
            ],
            [
             0.4,
             "#fde0ef"
            ],
            [
             0.5,
             "#f7f7f7"
            ],
            [
             0.6,
             "#e6f5d0"
            ],
            [
             0.7,
             "#b8e186"
            ],
            [
             0.8,
             "#7fbc41"
            ],
            [
             0.9,
             "#4d9221"
            ],
            [
             1,
             "#276419"
            ]
           ],
           "sequential": [
            [
             0,
             "#0d0887"
            ],
            [
             0.1111111111111111,
             "#46039f"
            ],
            [
             0.2222222222222222,
             "#7201a8"
            ],
            [
             0.3333333333333333,
             "#9c179e"
            ],
            [
             0.4444444444444444,
             "#bd3786"
            ],
            [
             0.5555555555555556,
             "#d8576b"
            ],
            [
             0.6666666666666666,
             "#ed7953"
            ],
            [
             0.7777777777777778,
             "#fb9f3a"
            ],
            [
             0.8888888888888888,
             "#fdca26"
            ],
            [
             1,
             "#f0f921"
            ]
           ],
           "sequentialminus": [
            [
             0,
             "#0d0887"
            ],
            [
             0.1111111111111111,
             "#46039f"
            ],
            [
             0.2222222222222222,
             "#7201a8"
            ],
            [
             0.3333333333333333,
             "#9c179e"
            ],
            [
             0.4444444444444444,
             "#bd3786"
            ],
            [
             0.5555555555555556,
             "#d8576b"
            ],
            [
             0.6666666666666666,
             "#ed7953"
            ],
            [
             0.7777777777777778,
             "#fb9f3a"
            ],
            [
             0.8888888888888888,
             "#fdca26"
            ],
            [
             1,
             "#f0f921"
            ]
           ]
          },
          "colorway": [
           "#636efa",
           "#EF553B",
           "#00cc96",
           "#ab63fa",
           "#FFA15A",
           "#19d3f3",
           "#FF6692",
           "#B6E880",
           "#FF97FF",
           "#FECB52"
          ],
          "font": {
           "color": "#f2f5fa"
          },
          "geo": {
           "bgcolor": "rgb(17,17,17)",
           "lakecolor": "rgb(17,17,17)",
           "landcolor": "rgb(17,17,17)",
           "showlakes": true,
           "showland": true,
           "subunitcolor": "#506784"
          },
          "height": 300,
          "hoverlabel": {
           "align": "left"
          },
          "hovermode": "closest",
          "mapbox": {
           "style": "dark"
          },
          "margin": {
           "b": 40,
           "l": 40,
           "r": 40,
           "t": 40
          },
          "paper_bgcolor": "rgba(0,0,0,0)",
          "plot_bgcolor": "rgba(0,0,0,0)",
          "polar": {
           "angularaxis": {
            "gridcolor": "#506784",
            "linecolor": "#506784",
            "ticks": ""
           },
           "bgcolor": "rgb(17,17,17)",
           "radialaxis": {
            "gridcolor": "#506784",
            "linecolor": "#506784",
            "ticks": ""
           }
          },
          "scene": {
           "xaxis": {
            "backgroundcolor": "rgb(17,17,17)",
            "gridcolor": "#506784",
            "gridwidth": 2,
            "linecolor": "#506784",
            "showbackground": true,
            "ticks": "",
            "zerolinecolor": "#C8D4E3"
           },
           "yaxis": {
            "backgroundcolor": "rgb(17,17,17)",
            "gridcolor": "#506784",
            "gridwidth": 2,
            "linecolor": "#506784",
            "showbackground": true,
            "ticks": "",
            "zerolinecolor": "#C8D4E3"
           },
           "zaxis": {
            "backgroundcolor": "rgb(17,17,17)",
            "gridcolor": "#506784",
            "gridwidth": 2,
            "linecolor": "#506784",
            "showbackground": true,
            "ticks": "",
            "zerolinecolor": "#C8D4E3"
           }
          },
          "shapedefaults": {
           "line": {
            "color": "#f2f5fa"
           }
          },
          "sliderdefaults": {
           "bgcolor": "#C8D4E3",
           "bordercolor": "rgb(17,17,17)",
           "borderwidth": 1,
           "tickwidth": 0
          },
          "ternary": {
           "aaxis": {
            "gridcolor": "#506784",
            "linecolor": "#506784",
            "ticks": ""
           },
           "baxis": {
            "gridcolor": "#506784",
            "linecolor": "#506784",
            "ticks": ""
           },
           "bgcolor": "rgb(17,17,17)",
           "caxis": {
            "gridcolor": "#506784",
            "linecolor": "#506784",
            "ticks": ""
           }
          },
          "title": {
           "x": 0.05
          },
          "updatemenudefaults": {
           "bgcolor": "#506784",
           "borderwidth": 0
          },
          "width": 600,
          "xaxis": {
           "automargin": true,
           "gridcolor": "#283442",
           "linecolor": "#506784",
           "ticks": "",
           "title": {
            "standoff": 15
           },
           "zerolinecolor": "#283442",
           "zerolinewidth": 2
          },
          "yaxis": {
           "automargin": true,
           "gridcolor": "#283442",
           "linecolor": "#506784",
           "ticks": "",
           "title": {
            "standoff": 15
           },
           "zerolinecolor": "#283442",
           "zerolinewidth": 2
          }
         }
        },
        "title": {
         "text": "Heatmap: log(count + 10)"
        },
        "width": 480,
        "xaxis": {
         "dtick": 1,
         "title": {
          "text": "prediction"
         },
         "type": "category"
        },
        "yaxis": {
         "dtick": 1,
         "scaleanchor": "x",
         "title": {
          "text": "true"
         },
         "type": "category"
        }
       }
      }
     },
     "metadata": {},
     "output_type": "display_data"
    }
   ],
   "source": [
    "model.eval()\n",
    "with torch.no_grad():\n",
    "    tag_scores = model(val_token_tensors, val_tag_det_tensors)\n",
    "    predictions = torch.argmax(tag_scores, dim=-1)  # Shape: (batch_size, seq_len)\n",
    "\n",
    "pred_tags = []\n",
    "true_tags = []\n",
    "\n",
    "for pred, true_t in zip(predictions, val_tag_true_idx):\n",
    "    true_tags.extend([tag_vocab[t] for t in true_t])\n",
    "    pred_tags.extend([tag_vocab[t] for t in pred[: len(true_t)]])\n",
    "\n",
    "print(len(true_tags), len(pred_tags))\n",
    "\n",
    "acc = metrics.accuracy_score(true_tags, pred_tags)\n",
    "print(\"accuracy\", acc)\n",
    "f1_macro = metrics.f1_score(true_tags, pred_tags, average=\"macro\")\n",
    "print(\"F1_macro\", f1_macro)\n",
    "\n",
    "confmat = metrics.confusion_matrix(true_tags, pred_tags, labels=tag_vocab)\n",
    "\n",
    "dtplot.heatmap(\n",
    "    confmat,\n",
    "    tag_vocab,\n",
    "    log_scale=True,\n",
    "    pseudo_count=10,\n",
    "    size=400,\n",
    ").show()"
   ]
  },
  {
   "cell_type": "markdown",
   "metadata": {},
   "source": [
    "### eval only on non-det\n"
   ]
  },
  {
   "cell_type": "code",
   "execution_count": 28,
   "metadata": {},
   "outputs": [
    {
     "name": "stdout",
     "output_type": "stream",
     "text": [
      "698 698\n",
      "accuracy 0.8739255014326648\n"
     ]
    },
    {
     "data": {
      "application/vnd.plotly.v1+json": {
       "config": {
        "plotlyServerURL": "https://plot.ly"
       },
       "data": [
        {
         "text": [
          [
           0,
           0,
           2,
           12,
           0,
           1,
           1,
           24,
           2
          ],
          [
           0,
           1,
           0,
           3,
           0,
           0,
           0,
           0,
           0
          ],
          [
           0,
           0,
           63,
           0,
           0,
           0,
           0,
           1,
           0
          ],
          [
           0,
           0,
           0,
           61,
           0,
           3,
           0,
           4,
           1
          ],
          [
           0,
           0,
           0,
           0,
           0,
           0,
           0,
           5,
           0
          ],
          [
           0,
           0,
           0,
           10,
           0,
           94,
           1,
           2,
           0
          ],
          [
           0,
           0,
           0,
           2,
           0,
           1,
           99,
           4,
           2
          ],
          [
           0,
           0,
           5,
           0,
           1,
           1,
           0,
           228,
           0
          ],
          [
           0,
           0,
           0,
           0,
           0,
           0,
           0,
           0,
           64
          ]
         ],
         "type": "heatmap",
         "x": [
          "cl",
          "co",
          "fn",
          "kw",
          "li",
          "op",
          "sy",
          "va",
          "ws"
         ],
         "y": [
          "cl",
          "co",
          "fn",
          "kw",
          "li",
          "op",
          "sy",
          "va",
          "ws"
         ],
         "z": [
          [
           2.302585092994046,
           2.302585092994046,
           2.4849066497880004,
           3.091042453358316,
           2.302585092994046,
           2.3978952727983707,
           2.3978952727983707,
           3.5263605246161616,
           2.4849066497880004
          ],
          [
           2.302585092994046,
           2.3978952727983707,
           2.302585092994046,
           2.5649493574615367,
           2.302585092994046,
           2.302585092994046,
           2.302585092994046,
           2.302585092994046,
           2.302585092994046
          ],
          [
           2.302585092994046,
           2.302585092994046,
           4.290459441148391,
           2.302585092994046,
           2.302585092994046,
           2.302585092994046,
           2.302585092994046,
           2.3978952727983707,
           2.302585092994046
          ],
          [
           2.302585092994046,
           2.302585092994046,
           2.302585092994046,
           4.2626798770413155,
           2.302585092994046,
           2.5649493574615367,
           2.302585092994046,
           2.6390573296152584,
           2.3978952727983707
          ],
          [
           2.302585092994046,
           2.302585092994046,
           2.302585092994046,
           2.302585092994046,
           2.302585092994046,
           2.302585092994046,
           2.302585092994046,
           2.70805020110221,
           2.302585092994046
          ],
          [
           2.302585092994046,
           2.302585092994046,
           2.302585092994046,
           2.995732273553991,
           2.302585092994046,
           4.6443908991413725,
           2.3978952727983707,
           2.4849066497880004,
           2.302585092994046
          ],
          [
           2.302585092994046,
           2.302585092994046,
           2.302585092994046,
           2.4849066497880004,
           2.302585092994046,
           2.3978952727983707,
           4.6913478822291435,
           2.6390573296152584,
           2.4849066497880004
          ],
          [
           2.302585092994046,
           2.302585092994046,
           2.70805020110221,
           2.302585092994046,
           2.3978952727983707,
           2.3978952727983707,
           2.302585092994046,
           5.472270673671475,
           2.302585092994046
          ],
          [
           2.302585092994046,
           2.302585092994046,
           2.302585092994046,
           2.302585092994046,
           2.302585092994046,
           2.302585092994046,
           2.302585092994046,
           2.302585092994046,
           4.30406509320417
          ]
         ]
        }
       ],
       "layout": {
        "height": 400,
        "template": {
         "data": {
          "bar": [
           {
            "error_x": {
             "color": "#f2f5fa"
            },
            "error_y": {
             "color": "#f2f5fa"
            },
            "marker": {
             "line": {
              "color": "rgb(17,17,17)",
              "width": 0.5
             },
             "pattern": {
              "fillmode": "overlay",
              "size": 10,
              "solidity": 0.2
             }
            },
            "type": "bar"
           }
          ],
          "barpolar": [
           {
            "marker": {
             "line": {
              "color": "rgb(17,17,17)",
              "width": 0.5
             },
             "pattern": {
              "fillmode": "overlay",
              "size": 10,
              "solidity": 0.2
             }
            },
            "type": "barpolar"
           }
          ],
          "carpet": [
           {
            "aaxis": {
             "endlinecolor": "#A2B1C6",
             "gridcolor": "#506784",
             "linecolor": "#506784",
             "minorgridcolor": "#506784",
             "startlinecolor": "#A2B1C6"
            },
            "baxis": {
             "endlinecolor": "#A2B1C6",
             "gridcolor": "#506784",
             "linecolor": "#506784",
             "minorgridcolor": "#506784",
             "startlinecolor": "#A2B1C6"
            },
            "type": "carpet"
           }
          ],
          "choropleth": [
           {
            "colorbar": {
             "outlinewidth": 0,
             "ticks": ""
            },
            "type": "choropleth"
           }
          ],
          "contour": [
           {
            "colorbar": {
             "outlinewidth": 0,
             "ticks": ""
            },
            "colorscale": [
             [
              0,
              "#0d0887"
             ],
             [
              0.1111111111111111,
              "#46039f"
             ],
             [
              0.2222222222222222,
              "#7201a8"
             ],
             [
              0.3333333333333333,
              "#9c179e"
             ],
             [
              0.4444444444444444,
              "#bd3786"
             ],
             [
              0.5555555555555556,
              "#d8576b"
             ],
             [
              0.6666666666666666,
              "#ed7953"
             ],
             [
              0.7777777777777778,
              "#fb9f3a"
             ],
             [
              0.8888888888888888,
              "#fdca26"
             ],
             [
              1,
              "#f0f921"
             ]
            ],
            "type": "contour"
           }
          ],
          "contourcarpet": [
           {
            "colorbar": {
             "outlinewidth": 0,
             "ticks": ""
            },
            "type": "contourcarpet"
           }
          ],
          "heatmap": [
           {
            "colorbar": {
             "outlinewidth": 0,
             "ticks": ""
            },
            "colorscale": [
             [
              0,
              "#0d0887"
             ],
             [
              0.1111111111111111,
              "#46039f"
             ],
             [
              0.2222222222222222,
              "#7201a8"
             ],
             [
              0.3333333333333333,
              "#9c179e"
             ],
             [
              0.4444444444444444,
              "#bd3786"
             ],
             [
              0.5555555555555556,
              "#d8576b"
             ],
             [
              0.6666666666666666,
              "#ed7953"
             ],
             [
              0.7777777777777778,
              "#fb9f3a"
             ],
             [
              0.8888888888888888,
              "#fdca26"
             ],
             [
              1,
              "#f0f921"
             ]
            ],
            "type": "heatmap"
           }
          ],
          "heatmapgl": [
           {
            "colorbar": {
             "outlinewidth": 0,
             "ticks": ""
            },
            "colorscale": [
             [
              0,
              "#0d0887"
             ],
             [
              0.1111111111111111,
              "#46039f"
             ],
             [
              0.2222222222222222,
              "#7201a8"
             ],
             [
              0.3333333333333333,
              "#9c179e"
             ],
             [
              0.4444444444444444,
              "#bd3786"
             ],
             [
              0.5555555555555556,
              "#d8576b"
             ],
             [
              0.6666666666666666,
              "#ed7953"
             ],
             [
              0.7777777777777778,
              "#fb9f3a"
             ],
             [
              0.8888888888888888,
              "#fdca26"
             ],
             [
              1,
              "#f0f921"
             ]
            ],
            "type": "heatmapgl"
           }
          ],
          "histogram": [
           {
            "marker": {
             "pattern": {
              "fillmode": "overlay",
              "size": 10,
              "solidity": 0.2
             }
            },
            "type": "histogram"
           }
          ],
          "histogram2d": [
           {
            "colorbar": {
             "outlinewidth": 0,
             "ticks": ""
            },
            "colorscale": [
             [
              0,
              "#0d0887"
             ],
             [
              0.1111111111111111,
              "#46039f"
             ],
             [
              0.2222222222222222,
              "#7201a8"
             ],
             [
              0.3333333333333333,
              "#9c179e"
             ],
             [
              0.4444444444444444,
              "#bd3786"
             ],
             [
              0.5555555555555556,
              "#d8576b"
             ],
             [
              0.6666666666666666,
              "#ed7953"
             ],
             [
              0.7777777777777778,
              "#fb9f3a"
             ],
             [
              0.8888888888888888,
              "#fdca26"
             ],
             [
              1,
              "#f0f921"
             ]
            ],
            "type": "histogram2d"
           }
          ],
          "histogram2dcontour": [
           {
            "colorbar": {
             "outlinewidth": 0,
             "ticks": ""
            },
            "colorscale": [
             [
              0,
              "#0d0887"
             ],
             [
              0.1111111111111111,
              "#46039f"
             ],
             [
              0.2222222222222222,
              "#7201a8"
             ],
             [
              0.3333333333333333,
              "#9c179e"
             ],
             [
              0.4444444444444444,
              "#bd3786"
             ],
             [
              0.5555555555555556,
              "#d8576b"
             ],
             [
              0.6666666666666666,
              "#ed7953"
             ],
             [
              0.7777777777777778,
              "#fb9f3a"
             ],
             [
              0.8888888888888888,
              "#fdca26"
             ],
             [
              1,
              "#f0f921"
             ]
            ],
            "type": "histogram2dcontour"
           }
          ],
          "mesh3d": [
           {
            "colorbar": {
             "outlinewidth": 0,
             "ticks": ""
            },
            "type": "mesh3d"
           }
          ],
          "parcoords": [
           {
            "line": {
             "colorbar": {
              "outlinewidth": 0,
              "ticks": ""
             }
            },
            "type": "parcoords"
           }
          ],
          "pie": [
           {
            "automargin": true,
            "type": "pie"
           }
          ],
          "scatter": [
           {
            "marker": {
             "line": {
              "color": "#283442"
             }
            },
            "type": "scatter"
           }
          ],
          "scatter3d": [
           {
            "line": {
             "colorbar": {
              "outlinewidth": 0,
              "ticks": ""
             }
            },
            "marker": {
             "colorbar": {
              "outlinewidth": 0,
              "ticks": ""
             }
            },
            "type": "scatter3d"
           }
          ],
          "scattercarpet": [
           {
            "marker": {
             "colorbar": {
              "outlinewidth": 0,
              "ticks": ""
             }
            },
            "type": "scattercarpet"
           }
          ],
          "scattergeo": [
           {
            "marker": {
             "colorbar": {
              "outlinewidth": 0,
              "ticks": ""
             }
            },
            "type": "scattergeo"
           }
          ],
          "scattergl": [
           {
            "marker": {
             "line": {
              "color": "#283442"
             }
            },
            "type": "scattergl"
           }
          ],
          "scattermapbox": [
           {
            "marker": {
             "colorbar": {
              "outlinewidth": 0,
              "ticks": ""
             }
            },
            "type": "scattermapbox"
           }
          ],
          "scatterpolar": [
           {
            "marker": {
             "colorbar": {
              "outlinewidth": 0,
              "ticks": ""
             }
            },
            "type": "scatterpolar"
           }
          ],
          "scatterpolargl": [
           {
            "marker": {
             "colorbar": {
              "outlinewidth": 0,
              "ticks": ""
             }
            },
            "type": "scatterpolargl"
           }
          ],
          "scatterternary": [
           {
            "marker": {
             "colorbar": {
              "outlinewidth": 0,
              "ticks": ""
             }
            },
            "type": "scatterternary"
           }
          ],
          "surface": [
           {
            "colorbar": {
             "outlinewidth": 0,
             "ticks": ""
            },
            "colorscale": [
             [
              0,
              "#0d0887"
             ],
             [
              0.1111111111111111,
              "#46039f"
             ],
             [
              0.2222222222222222,
              "#7201a8"
             ],
             [
              0.3333333333333333,
              "#9c179e"
             ],
             [
              0.4444444444444444,
              "#bd3786"
             ],
             [
              0.5555555555555556,
              "#d8576b"
             ],
             [
              0.6666666666666666,
              "#ed7953"
             ],
             [
              0.7777777777777778,
              "#fb9f3a"
             ],
             [
              0.8888888888888888,
              "#fdca26"
             ],
             [
              1,
              "#f0f921"
             ]
            ],
            "type": "surface"
           }
          ],
          "table": [
           {
            "cells": {
             "fill": {
              "color": "#506784"
             },
             "line": {
              "color": "rgb(17,17,17)"
             }
            },
            "header": {
             "fill": {
              "color": "#2a3f5f"
             },
             "line": {
              "color": "rgb(17,17,17)"
             }
            },
            "type": "table"
           }
          ]
         },
         "layout": {
          "annotationdefaults": {
           "arrowcolor": "#f2f5fa",
           "arrowhead": 0,
           "arrowwidth": 1
          },
          "autosize": false,
          "autotypenumbers": "strict",
          "coloraxis": {
           "colorbar": {
            "outlinewidth": 0,
            "ticks": ""
           }
          },
          "colorscale": {
           "diverging": [
            [
             0,
             "#8e0152"
            ],
            [
             0.1,
             "#c51b7d"
            ],
            [
             0.2,
             "#de77ae"
            ],
            [
             0.3,
             "#f1b6da"
            ],
            [
             0.4,
             "#fde0ef"
            ],
            [
             0.5,
             "#f7f7f7"
            ],
            [
             0.6,
             "#e6f5d0"
            ],
            [
             0.7,
             "#b8e186"
            ],
            [
             0.8,
             "#7fbc41"
            ],
            [
             0.9,
             "#4d9221"
            ],
            [
             1,
             "#276419"
            ]
           ],
           "sequential": [
            [
             0,
             "#0d0887"
            ],
            [
             0.1111111111111111,
             "#46039f"
            ],
            [
             0.2222222222222222,
             "#7201a8"
            ],
            [
             0.3333333333333333,
             "#9c179e"
            ],
            [
             0.4444444444444444,
             "#bd3786"
            ],
            [
             0.5555555555555556,
             "#d8576b"
            ],
            [
             0.6666666666666666,
             "#ed7953"
            ],
            [
             0.7777777777777778,
             "#fb9f3a"
            ],
            [
             0.8888888888888888,
             "#fdca26"
            ],
            [
             1,
             "#f0f921"
            ]
           ],
           "sequentialminus": [
            [
             0,
             "#0d0887"
            ],
            [
             0.1111111111111111,
             "#46039f"
            ],
            [
             0.2222222222222222,
             "#7201a8"
            ],
            [
             0.3333333333333333,
             "#9c179e"
            ],
            [
             0.4444444444444444,
             "#bd3786"
            ],
            [
             0.5555555555555556,
             "#d8576b"
            ],
            [
             0.6666666666666666,
             "#ed7953"
            ],
            [
             0.7777777777777778,
             "#fb9f3a"
            ],
            [
             0.8888888888888888,
             "#fdca26"
            ],
            [
             1,
             "#f0f921"
            ]
           ]
          },
          "colorway": [
           "#636efa",
           "#EF553B",
           "#00cc96",
           "#ab63fa",
           "#FFA15A",
           "#19d3f3",
           "#FF6692",
           "#B6E880",
           "#FF97FF",
           "#FECB52"
          ],
          "font": {
           "color": "#f2f5fa"
          },
          "geo": {
           "bgcolor": "rgb(17,17,17)",
           "lakecolor": "rgb(17,17,17)",
           "landcolor": "rgb(17,17,17)",
           "showlakes": true,
           "showland": true,
           "subunitcolor": "#506784"
          },
          "height": 300,
          "hoverlabel": {
           "align": "left"
          },
          "hovermode": "closest",
          "mapbox": {
           "style": "dark"
          },
          "margin": {
           "b": 40,
           "l": 40,
           "r": 40,
           "t": 40
          },
          "paper_bgcolor": "rgba(0,0,0,0)",
          "plot_bgcolor": "rgba(0,0,0,0)",
          "polar": {
           "angularaxis": {
            "gridcolor": "#506784",
            "linecolor": "#506784",
            "ticks": ""
           },
           "bgcolor": "rgb(17,17,17)",
           "radialaxis": {
            "gridcolor": "#506784",
            "linecolor": "#506784",
            "ticks": ""
           }
          },
          "scene": {
           "xaxis": {
            "backgroundcolor": "rgb(17,17,17)",
            "gridcolor": "#506784",
            "gridwidth": 2,
            "linecolor": "#506784",
            "showbackground": true,
            "ticks": "",
            "zerolinecolor": "#C8D4E3"
           },
           "yaxis": {
            "backgroundcolor": "rgb(17,17,17)",
            "gridcolor": "#506784",
            "gridwidth": 2,
            "linecolor": "#506784",
            "showbackground": true,
            "ticks": "",
            "zerolinecolor": "#C8D4E3"
           },
           "zaxis": {
            "backgroundcolor": "rgb(17,17,17)",
            "gridcolor": "#506784",
            "gridwidth": 2,
            "linecolor": "#506784",
            "showbackground": true,
            "ticks": "",
            "zerolinecolor": "#C8D4E3"
           }
          },
          "shapedefaults": {
           "line": {
            "color": "#f2f5fa"
           }
          },
          "sliderdefaults": {
           "bgcolor": "#C8D4E3",
           "bordercolor": "rgb(17,17,17)",
           "borderwidth": 1,
           "tickwidth": 0
          },
          "ternary": {
           "aaxis": {
            "gridcolor": "#506784",
            "linecolor": "#506784",
            "ticks": ""
           },
           "baxis": {
            "gridcolor": "#506784",
            "linecolor": "#506784",
            "ticks": ""
           },
           "bgcolor": "rgb(17,17,17)",
           "caxis": {
            "gridcolor": "#506784",
            "linecolor": "#506784",
            "ticks": ""
           }
          },
          "title": {
           "x": 0.05
          },
          "updatemenudefaults": {
           "bgcolor": "#506784",
           "borderwidth": 0
          },
          "width": 600,
          "xaxis": {
           "automargin": true,
           "gridcolor": "#283442",
           "linecolor": "#506784",
           "ticks": "",
           "title": {
            "standoff": 15
           },
           "zerolinecolor": "#283442",
           "zerolinewidth": 2
          },
          "yaxis": {
           "automargin": true,
           "gridcolor": "#283442",
           "linecolor": "#506784",
           "ticks": "",
           "title": {
            "standoff": 15
           },
           "zerolinecolor": "#283442",
           "zerolinewidth": 2
          }
         }
        },
        "title": {
         "text": "Heatmap: log(count + 10)"
        },
        "width": 480,
        "xaxis": {
         "dtick": 1,
         "title": {
          "text": "prediction"
         },
         "type": "category"
        },
        "yaxis": {
         "dtick": 1,
         "scaleanchor": "x",
         "title": {
          "text": "true"
         },
         "type": "category"
        }
       }
      }
     },
     "metadata": {},
     "output_type": "display_data"
    }
   ],
   "source": [
    "pred_tags = []\n",
    "true_tags = []\n",
    "\n",
    "for pred, true_t, det in zip(\n",
    "    predictions, val_tag_true_idx, val_tag_det_idx, strict=True\n",
    "):\n",
    "    for p, t, d in zip(pred, true_t, det):\n",
    "        if tag_vocab[d] == \"uk\":\n",
    "            tp = tag_vocab[p.item()]\n",
    "            tt = tag_vocab[t]\n",
    "            # if tp != tt:\n",
    "            #     print(f\"{repr(tt)} -> {repr(tp)}\")\n",
    "            true_tags.append(tt)\n",
    "            pred_tags.append(tp)\n",
    "print(len(pred_tags), len(true_tags))\n",
    "\n",
    "labels_left = sorted(set(pred_tags + true_tags))\n",
    "\n",
    "acc = metrics.accuracy_score(true_tags, pred_tags)\n",
    "print(\"accuracy\", acc)\n",
    "\n",
    "confmat = metrics.confusion_matrix(true_tags, pred_tags, labels=labels_left)\n",
    "\n",
    "dtplot.heatmap(\n",
    "    confmat,\n",
    "    labels_left,\n",
    "    log_scale=True,\n",
    "    pseudo_count=10,\n",
    "    size=400,\n",
    ").show()"
   ]
  },
  {
   "cell_type": "markdown",
   "metadata": {},
   "source": [
    "## save output\n"
   ]
  },
  {
   "cell_type": "code",
   "execution_count": 13,
   "metadata": {},
   "outputs": [
    {
     "name": "stdout",
     "output_type": "stream",
     "text": [
      "predictions torch.Size([39, 47])\n",
      "int main() {\\\\    std::cout << \"Hello\";\\\\    return 0;\\\\}\n",
      "['cl', 'ws', 'fn', 'brop', 'brcl', 'ws', 'brop', 'nl', 'ws', 'va', 'sy', 'va', 'ws', 'op', 'ws', 'st', 'sy', 'nl', 'ws', 'kw', 'ws', 'nu', 'sy', 'nl', 'brcl']\n",
      "['kw', 'ws', 'fn', 'brop', 'brcl', 'ws', 'brop', 'nl', 'ws', 'va', 'sy', 'va', 'ws', 'op', 'ws', 'st', 'sy', 'nl', 'ws', 'kw', 'ws', 'nu', 'sy', 'nl', 'brcl']\n",
      "\n",
      "examples = util.load_examples()\n",
      "['va', 'ws', 'op', 'ws', 'va', 'sy', 'fn', 'brop', 'brcl']\n",
      "['va', 'ws', 'op', 'ws', 'va', 'sy', 'fn', 'brop', 'brcl']\n",
      "\n",
      "prod = 1\\\\for i = 1,2,3\\\\    prod = prod * i\\\\return prod\n",
      "['va', 'ws', 'op', 'ws', 'nu', 'nl', 'kw', 'ws', 'va', 'ws', 'op', 'ws', 'nu', 'sy', 'nu', 'sy', 'nu', 'nl', 'ws', 'va', 'ws', 'op', 'ws', 'va', 'ws', 'op', 'ws', 'va', 'nl', 'kw', 'ws', 'va']\n",
      "['va', 'ws', 'op', 'ws', 'nu', 'nl', 'kw', 'ws', 'va', 'ws', 'op', 'ws', 'nu', 'sy', 'nu', 'sy', 'nu', 'nl', 'ws', 'va', 'ws', 'op', 'ws', 'va', 'ws', 'kw', 'ws', 'va', 'nl', 'kw', 'ws', 'va']\n",
      "\n",
      "for (const q of questions) {\\\\    console.log(q.text)\\\\}\n",
      "['kw', 'ws', 'brop', 'kw', 'ws', 'va', 'ws', 'kw', 'ws', 'va', 'brcl', 'ws', 'brop', 'nl', 'ws', 'va', 'sy', 'fn', 'brop', 'va', 'sy', 'va', 'brcl', 'nl', 'brcl']\n",
      "['kw', 'ws', 'brop', 'kw', 'ws', 'va', 'ws', 'kw', 'ws', 'va', 'brcl', 'ws', 'brop', 'nl', 'ws', 'va', 'sy', 'fn', 'brop', 'va', 'sy', 'va', 'brcl', 'nl', 'brcl']\n",
      "\n",
      "say \"Hello world\"\n",
      "['kw', 'ws', 'st']\n",
      "['kw', 'ws', 'st']\n",
      "\n",
      "function norm (x, y)\\\\  local length2 = x^2 + y^2\\\\  return math.sqrt(length2)\\\\end\n",
      "['kw', 'ws', 'fn', 'ws', 'brop', 'va', 'sy', 'ws', 'va', 'brcl', 'nl', 'ws', 'kw', 'ws', 'va', 'ws', 'op', 'ws', 'va', 'op', 'nu', 'ws', 'op', 'ws', 'va', 'op', 'nu', 'nl', 'ws', 'kw', 'ws', 'va', 'sy', 'fn', 'brop', 'va', 'brcl', 'nl', 'kw']\n",
      "['kw', 'ws', 'kw', 'ws', 'brop', 'va', 'sy', 'ws', 'va', 'brcl', 'nl', 'ws', 'kw', 'ws', 'va', 'ws', 'op', 'ws', 'va', 'op', 'nu', 'ws', 'op', 'ws', 'va', 'op', 'nu', 'nl', 'ws', 'kw', 'ws', 'va', 'sy', 'fn', 'brop', 'va', 'brcl', 'nl', 'kw']\n",
      "\n",
      "echo \"Hello world\";\n",
      "['kw', 'ws', 'st', 'sy']\n",
      "['kw', 'ws', 'st', 'sy']\n",
      "\n",
      "highlightcolors <- c(\\\\    \"|r*|>3\" = \"red\",\\\\    \"length>200\" = \"magenta\",\\\\    \"all data\" = \"orange\",\\\\    \"excl.length>200\" = \"blue\"\\\\)\n",
      "['va', 'ws', 'op', 'ws', 'fn', 'brop', 'nl', 'ws', 'st', 'ws', 'op', 'ws', 'st', 'sy', 'nl', 'ws', 'st', 'ws', 'op', 'ws', 'st', 'sy', 'nl', 'ws', 'st', 'ws', 'op', 'ws', 'st', 'sy', 'nl', 'ws', 'st', 'ws', 'op', 'ws', 'st', 'nl', 'brcl']\n",
      "['kw', 'ws', 'kw', 'ws', 'fn', 'brop', 'nl', 'ws', 'st', 'ws', 'op', 'ws', 'st', 'sy', 'nl', 'ws', 'st', 'ws', 'op', 'ws', 'st', 'sy', 'nl', 'ws', 'st', 'ws', 'op', 'ws', 'st', 'sy', 'nl', 'ws', 'st', 'ws', 'op', 'ws', 'st', 'nl', 'brcl']\n",
      "\n",
      "val_tag_idx = [[tag2idx[t] for t in seq] for seq in val_df[\"char_tags\"]]\n",
      "['va', 'ws', 'op', 'ws', 'brop', 'brop', 'va', 'brop', 'va', 'brcl', 'ws', 'kw', 'ws', 'va', 'ws', 'kw', 'ws', 'va', 'brcl', 'ws', 'kw', 'ws', 'va', 'ws', 'kw', 'ws', 'va', 'brop', 'st', 'brcl', 'brcl']\n",
      "['va', 'ws', 'op', 'ws', 'brop', 'brop', 'va', 'brop', 'va', 'brcl', 'ws', 'kw', 'ws', 'va', 'ws', 'kw', 'ws', 'va', 'brcl', 'ws', 'kw', 'ws', 'va', 'ws', 'op', 'ws', 'va', 'brop', 'st', 'brcl', 'brcl']\n",
      "\n",
      "k = sqrt((double)i) + 1.;\n",
      "['va', 'ws', 'op', 'ws', 'fn', 'brop', 'brop', 'cl', 'brcl', 'va', 'brcl', 'ws', 'op', 'ws', 'nu', 'sy', 'sy']\n",
      "['va', 'ws', 'op', 'ws', 'fn', 'brop', 'brop', 'va', 'brcl', 'op', 'brcl', 'ws', 'op', 'ws', 'nu', 'sy', 'sy']\n",
      "\n",
      "[x,y] = meshgrid(linspace(2000,3000,50), linspace(5000,6000,50));\n",
      "['brop', 'va', 'sy', 'va', 'brcl', 'ws', 'op', 'ws', 'fn', 'brop', 'fn', 'brop', 'nu', 'sy', 'nu', 'sy', 'nu', 'brcl', 'sy', 'ws', 'fn', 'brop', 'nu', 'sy', 'nu', 'sy', 'nu', 'brcl', 'brcl', 'sy']\n",
      "['brop', 'va', 'sy', 'va', 'brcl', 'ws', 'op', 'ws', 'fn', 'brop', 'fn', 'brop', 'nu', 'sy', 'nu', 'sy', 'nu', 'brcl', 'sy', 'ws', 'fn', 'brop', 'nu', 'sy', 'nu', 'sy', 'nu', 'brcl', 'brcl', 'sy']\n",
      "\n",
      "function factorial (n)\\\\  if n == 0 then\\\\    return 1\\\\  else\\\\    return n * factorial(n-1)\\\\  end\\\\end\n",
      "['kw', 'ws', 'fn', 'ws', 'brop', 'va', 'brcl', 'nl', 'ws', 'kw', 'ws', 'va', 'ws', 'op', 'ws', 'nu', 'ws', 'kw', 'nl', 'ws', 'ws', 'kw', 'ws', 'nu', 'nl', 'ws', 'kw', 'nl', 'ws', 'ws', 'kw', 'ws', 'va', 'ws', 'op', 'ws', 'fn', 'brop', 'va', 'op', 'nu', 'brcl', 'nl', 'ws', 'kw', 'nl', 'kw']\n",
      "['kw', 'ws', 'kw', 'ws', 'brop', 'va', 'brcl', 'nl', 'ws', 'kw', 'ws', 'va', 'ws', 'kw', 'ws', 'nu', 'ws', 'op', 'nl', 'ws', 'cl', 'kw', 'ws', 'nu', 'nl', 'ws', 'kw', 'nl', 'ws', 'ws', 'kw', 'ws', 'va', 'ws', 'kw', 'ws', 'fn', 'brop', 'va', 'op', 'nu', 'brcl', 'nl', 'ws', 'va', 'nl', 'ws']\n",
      "\n",
      "    let questions: Array<Question> = [];\n",
      "['ws', 'kw', 'ws', 'va', 'sy', 'ws', 'cl', 'sy', 'cl', 'sy', 'ws', 'op', 'ws', 'brop', 'brcl', 'sy']\n",
      "['ws', 'kw', 'ws', 'va', 'sy', 'ws', 'cl', 'sy', 'cl', 'va', 'ws', 'op', 'ws', 'brop', 'brcl', 'sy']\n",
      "\n",
      "mask_sum = torch.sum(results[0].masks.data, dim=0)\n",
      "['va', 'ws', 'op', 'ws', 'va', 'sy', 'fn', 'brop', 'va', 'brop', 'nu', 'brcl', 'sy', 'va', 'sy', 'va', 'sy', 'ws', 'va', 'op', 'nu', 'brcl']\n",
      "['va', 'ws', 'op', 'ws', 'va', 'sy', 'fn', 'brop', 'va', 'brop', 'nu', 'brcl', 'sy', 'va', 'sy', 'va', 'sy', 'ws', 'va', 'op', 'nu', 'brcl']\n",
      "\n",
      "char_counts = util.value_counts_dict(char_examples.explode(\"chars\"), \"chars\")\\\\char_tag_counts = util.value_counts_dict(\\\\    char_examples.explode(\"char_tags\"), \"char_tags\"\\\\)\n",
      "['va', 'ws', 'op', 'ws', 'va', 'sy', 'fn', 'brop', 'va', 'sy', 'fn', 'brop', 'st', 'brcl', 'sy', 'ws', 'st', 'brcl', 'nl', 'va', 'ws', 'op', 'ws', 'va', 'sy', 'fn', 'brop', 'nl', 'ws', 'va', 'sy', 'fn', 'brop', 'st', 'brcl', 'sy', 'ws', 'st', 'nl', 'brcl']\n",
      "['va', 'ws', 'op', 'ws', 'va', 'sy', 'fn', 'brop', 'va', 'sy', 'fn', 'brop', 'st', 'brcl', 'sy', 'ws', 'st', 'brcl', 'nl', 'va', 'ws', 'op', 'ws', 'va', 'sy', 'fn', 'brop', 'nl', 'ws', 'va', 'sy', 'fn', 'brop', 'st', 'brcl', 'sy', 'ws', 'st', 'nl', 'brcl']\n",
      "\n",
      "clc; clear; close all;\\\\\\\\%image size\\\\H=100;\\\\W=60;\n",
      "['kw', 'sy', 'ws', 'kw', 'sy', 'ws', 'kw', 'ws', 'li', 'sy', 'nl', 'co', 'nl', 'va', 'op', 'nu', 'sy', 'nl', 'va', 'op', 'nu', 'sy']\n",
      "['va', 'sy', 'ws', 'va', 'sy', 'ws', 'kw', 'ws', 'va', 'sy', 'nl', 'kw', 'nl', 'va', 'ws', 'nu', 'sy', 'nl', 'va', 'ws', 'nu', 'sy']\n",
      "\n",
      "x = True\\\\y = False\\\\\\\\z = x and y\n",
      "['va', 'ws', 'op', 'ws', 'li', 'nl', 'va', 'ws', 'op', 'ws', 'li', 'nl', 'va', 'ws', 'op', 'ws', 'va', 'ws', 'kw', 'ws', 'va']\n",
      "['va', 'ws', 'op', 'ws', 'va', 'nl', 'va', 'ws', 'op', 'ws', 'va', 'nl', 'va', 'ws', 'op', 'ws', 'va', 'ws', 'kw', 'ws', 'va']\n",
      "\n",
      "% confidence interval\\\\upper = rhat_mean + 1.96 * rhat_std;\\\\lower = rhat_mean - 1.96 * rhat_std;\n",
      "['co', 'nl', 'va', 'ws', 'op', 'ws', 'va', 'ws', 'op', 'ws', 'nu', 'ws', 'op', 'ws', 'va', 'sy', 'nl', 'va', 'ws', 'op', 'ws', 'va', 'ws', 'op', 'ws', 'nu', 'ws', 'op', 'ws', 'va', 'sy']\n",
      "['kw', 'nl', 'va', 'ws', 'op', 'ws', 'va', 'ws', 'op', 'ws', 'nu', 'ws', 'kw', 'ws', 'va', 'sy', 'nl', 'va', 'ws', 'op', 'ws', 'va', 'ws', 'op', 'ws', 'nu', 'ws', 'op', 'ws', 'va', 'sy']\n",
      "\n",
      "$name = \"myname\";\\\\echo str_contains($name, \"a\");\n",
      "['va', 'ws', 'op', 'ws', 'st', 'sy', 'nl', 'kw', 'ws', 'fn', 'brop', 'va', 'sy', 'ws', 'st', 'brcl', 'sy']\n",
      "['va', 'ws', 'op', 'ws', 'st', 'sy', 'nl', 'kw', 'ws', 'fn', 'brop', 'va', 'sy', 'ws', 'st', 'brcl', 'sy']\n",
      "\n",
      "package main\\\\import \"fmt\"\\\\\\\\func main() {\\\\    fmt.Println(\"hello world\")\\\\}\n",
      "['kw', 'ws', 'va', 'nl', 'kw', 'ws', 'st', 'nl', 'kw', 'ws', 'fn', 'brop', 'brcl', 'ws', 'brop', 'nl', 'ws', 'va', 'sy', 'fn', 'brop', 'st', 'brcl', 'nl', 'brcl']\n",
      "['kw', 'ws', 'va', 'nl', 'kw', 'ws', 'st', 'nl', 'kw', 'ws', 'fn', 'brop', 'brcl', 'ws', 'brop', 'nl', 'ws', 'va', 'sy', 'fn', 'brop', 'st', 'brcl', 'nl', 'brcl']\n",
      "\n",
      "imagesc(x(1,:),y(:,1),reshape(std_hat_grid_ols,size(x)))\n",
      "['fn', 'brop', 'va', 'brop', 'nu', 'sy', 'sy', 'brcl', 'sy', 'va', 'brop', 'sy', 'sy', 'nu', 'brcl', 'sy', 'fn', 'brop', 'va', 'sy', 'fn', 'brop', 'va', 'brcl', 'brcl', 'brcl']\n",
      "['fn', 'brop', 'fn', 'brop', 'nu', 'sy', 'sy', 'brcl', 'sy', 'fn', 'brop', 'sy', 'sy', 'nu', 'brcl', 'sy', 'fn', 'brop', 'va', 'sy', 'fn', 'brop', 'va', 'brcl', 'brcl', 'brcl']\n",
      "\n",
      "const x = \"100\";\\\\const y = +x;\\\\console.log(typeof y);\n",
      "['kw', 'ws', 'va', 'ws', 'op', 'ws', 'st', 'sy', 'nl', 'kw', 'ws', 'va', 'ws', 'op', 'ws', 'op', 'va', 'sy', 'nl', 'va', 'sy', 'fn', 'brop', 'kw', 'ws', 'va', 'brcl', 'sy']\n",
      "['kw', 'ws', 'va', 'ws', 'op', 'ws', 'st', 'sy', 'nl', 'kw', 'ws', 'va', 'ws', 'op', 'ws', 'va', 'op', 'sy', 'nl', 'va', 'sy', 'fn', 'brop', 'kw', 'ws', 'va', 'brcl', 'sy']\n",
      "\n",
      "aVar = 22\\\\anotherVar = 37.71\\\\\\\\fgh = aVar + anotherVar\\\\\\\\jk = fgh * 33\n",
      "['va', 'ws', 'op', 'ws', 'nu', 'nl', 'va', 'ws', 'op', 'ws', 'nu', 'nl', 'va', 'ws', 'op', 'ws', 'va', 'ws', 'op', 'ws', 'va', 'nl', 'va', 'ws', 'op', 'ws', 'va', 'ws', 'op', 'ws', 'nu']\n",
      "['va', 'ws', 'op', 'ws', 'nu', 'nl', 'va', 'ws', 'op', 'ws', 'nu', 'nl', 'va', 'ws', 'op', 'ws', 'va', 'ws', 'kw', 'ws', 'va', 'nl', 'va', 'ws', 'op', 'ws', 'va', 'ws', 'op', 'ws', 'nu']\n",
      "\n",
      "let n = BigUint::from(92434447339770015548544881401_u128);\n",
      "['kw', 'ws', 'va', 'ws', 'op', 'ws', 'cl', 'sy', 'fn', 'brop', 'nu', 'brcl', 'sy']\n",
      "['kw', 'ws', 'va', 'ws', 'op', 'ws', 'va', 'sy', 'fn', 'brop', 'nu', 'brcl', 'sy']\n",
      "\n",
      "if x == 5:\\\\    print(\"five\")\n",
      "['kw', 'ws', 'va', 'ws', 'op', 'ws', 'nu', 'sy', 'nl', 'ws', 'fn', 'brop', 'st', 'brcl']\n",
      "['kw', 'ws', 'va', 'ws', 'op', 'ws', 'nu', 'sy', 'nl', 'ws', 'fn', 'brop', 'st', 'brcl']\n",
      "\n",
      "yhat_v = mu_v + Sigma_vk*(Sigma_kk\\(Y-mu_k));\\\\Sigma_prediction = Sigma_vv - Sigma_vk * (Sigma_kk\\Sigma_kv);\n",
      "['va', 'ws', 'op', 'ws', 'va', 'ws', 'op', 'ws', 'va', 'op', 'brop', 'va', 'op', 'brop', 'va', 'op', 'va', 'brcl', 'brcl', 'sy', 'nl', 'va', 'ws', 'op', 'ws', 'va', 'ws', 'op', 'ws', 'va', 'ws', 'op', 'ws', 'brop', 'va', 'op', 'va', 'brcl', 'sy']\n",
      "['va', 'ws', 'op', 'ws', 'kw', 'ws', 'va', 'ws', 'op', 'fn', 'brop', 'op', 'va', 'brop', 'op', 'op', 'va', 'brcl', 'brcl', 'sy', 'nl', 'va', 'ws', 'op', 'ws', 'va', 'ws', 'kw', 'ws', 'va', 'ws', 'op', 'ws', 'brop', 'va', 'op', 'va', 'brcl', 'sy']\n",
      "\n",
      "await _player.setSourceDeviceFile(filePath);\n",
      "['kw', 'ws', 'va', 'sy', 'fn', 'brop', 'va', 'brcl', 'sy']\n",
      "['kw', 'ws', 'va', 'sy', 'fn', 'brop', 'va', 'brcl', 'sy']\n",
      "\n",
      "while True:\\\\    print(\"loop!\")\n",
      "['kw', 'ws', 'li', 'sy', 'nl', 'ws', 'fn', 'brop', 'st', 'brcl']\n",
      "['kw', 'ws', 'va', 'sy', 'nl', 'ws', 'fn', 'brop', 'st', 'brcl']\n",
      "\n",
      "x = 337\\\\y = 99\\\\z = x + y\n",
      "['va', 'ws', 'op', 'ws', 'nu', 'nl', 'va', 'ws', 'op', 'ws', 'nu', 'nl', 'va', 'ws', 'op', 'ws', 'va', 'ws', 'op', 'ws', 'va']\n",
      "['va', 'ws', 'op', 'ws', 'nu', 'nl', 'va', 'ws', 'op', 'ws', 'nu', 'nl', 'va', 'ws', 'op', 'ws', 'va', 'ws', 'kw', 'ws', 'va']\n",
      "\n",
      "use num::{integer::Roots, BigUint, One, Zero};\\\\use rayon::prelude::*;\n",
      "['kw', 'ws', 'va', 'sy', 'brop', 'va', 'sy', 'cl', 'sy', 'ws', 'cl', 'sy', 'ws', 'cl', 'sy', 'ws', 'cl', 'brcl', 'sy', 'nl', 'kw', 'ws', 'va', 'sy', 'va', 'sy', 'va', 'sy']\n",
      "['kw', 'ws', 'cl', 'sy', 'brop', 'va', 'sy', 'va', 'sy', 'ws', 'va', 'sy', 'ws', 'va', 'sy', 'ws', 'va', 'brcl', 'sy', 'nl', 'kw', 'ws', 'va', 'sy', 'va', 'sy', 'va', 'sy']\n",
      "\n",
      "% GMRF parameters\\\\kappa = 1e-2;\n",
      "['co', 'nl', 'va', 'ws', 'op', 'ws', 'nu', 'sy']\n",
      "['kw', 'nl', 'va', 'ws', 'op', 'ws', 'nu', 'sy']\n",
      "\n",
      "data = readtable('mydatafile.csv');\\\\%split in validation and training\\\\data_valid = data(data.validation==1,:);\\\\data = data(data.validation==0,:);\n",
      "['va', 'ws', 'op', 'ws', 'fn', 'brop', 'st', 'brcl', 'sy', 'nl', 'co', 'nl', 'va', 'ws', 'op', 'ws', 'va', 'brop', 'va', 'sy', 'va', 'op', 'nu', 'sy', 'sy', 'brcl', 'sy', 'nl', 'va', 'ws', 'op', 'ws', 'va', 'brop', 'va', 'sy', 'va', 'op', 'nu', 'sy', 'sy', 'brcl', 'sy']\n",
      "['va', 'ws', 'op', 'ws', 'fn', 'brop', 'st', 'brcl', 'sy', 'nl', 'kw', 'nl', 'va', 'ws', 'op', 'ws', 'fn', 'brop', 'va', 'sy', 'va', 'op', 'nu', 'sy', 'sy', 'brcl', 'sy', 'nl', 'va', 'ws', 'op', 'ws', 'fn', 'brop', 'va', 'sy', 'va', 'op', 'nu', 'sy', 'sy', 'brcl', 'sy']\n",
      "\n",
      "plotting.heatmap(\\\\    confmat,\\\\    tag_vocab,\\\\    log_scale=True,\\\\    pseudo_count=10,\\\\    size=500,\\\\).show()\n",
      "['va', 'sy', 'fn', 'brop', 'nl', 'ws', 'va', 'sy', 'nl', 'ws', 'va', 'sy', 'nl', 'ws', 'va', 'op', 'li', 'sy', 'nl', 'ws', 'va', 'op', 'nu', 'sy', 'nl', 'ws', 'va', 'op', 'nu', 'sy', 'nl', 'brcl', 'sy', 'fn', 'brop', 'brcl']\n",
      "['va', 'sy', 'fn', 'brop', 'nl', 'ws', 'va', 'sy', 'nl', 'ws', 'va', 'sy', 'nl', 'ws', 'va', 'op', 'va', 'sy', 'nl', 'ws', 'va', 'op', 'nu', 'sy', 'nl', 'ws', 'va', 'op', 'nu', 'sy', 'nl', 'brcl', 'sy', 'fn', 'brop', 'brcl']\n",
      "\n",
      "val res = if (num % 2 == 0) \"yes\" else \"no\"\n",
      "['kw', 'ws', 'va', 'ws', 'op', 'ws', 'kw', 'ws', 'brop', 'va', 'ws', 'op', 'ws', 'nu', 'ws', 'op', 'ws', 'nu', 'brcl', 'ws', 'st', 'ws', 'kw', 'ws', 'st']\n",
      "['kw', 'ws', 'va', 'ws', 'op', 'ws', 'op', 'ws', 'brop', 'va', 'ws', 'op', 'ws', 'nu', 'ws', 'op', 'ws', 'nu', 'brcl', 'ws', 'st', 'ws', 'op', 'ws', 'st']\n",
      "\n",
      "rhat_mean = mean(rhats,1);\\\\rhat_std = std(rhats,1);\\\\sigma2_mean = mean(sigma2s,1);\\\\sigma2_std = std(sigma2s,1);\n",
      "['va', 'ws', 'op', 'ws', 'fn', 'brop', 'va', 'sy', 'nu', 'brcl', 'sy', 'nl', 'va', 'ws', 'op', 'ws', 'fn', 'brop', 'va', 'sy', 'nu', 'brcl', 'sy', 'nl', 'va', 'ws', 'op', 'ws', 'fn', 'brop', 'va', 'sy', 'nu', 'brcl', 'sy', 'nl', 'va', 'ws', 'op', 'ws', 'fn', 'brop', 'va', 'sy', 'nu', 'brcl', 'sy']\n",
      "['va', 'ws', 'op', 'ws', 'fn', 'brop', 'va', 'sy', 'nu', 'brcl', 'sy', 'nl', 'va', 'ws', 'op', 'ws', 'fn', 'brop', 'va', 'sy', 'nu', 'brcl', 'sy', 'nl', 'va', 'ws', 'op', 'ws', 'fn', 'brop', 'va', 'sy', 'nu', 'brcl', 'sy', 'nl', 'va', 'ws', 'op', 'ws', 'fn', 'brop', 'va', 'sy', 'nu', 'brcl', 'op']\n",
      "\n",
      "$a = 'hello';\\\\$b = 'world';\\\\echo \"$a, $b\";\n",
      "['va', 'ws', 'op', 'ws', 'st', 'sy', 'nl', 'va', 'ws', 'op', 'ws', 'st', 'sy', 'nl', 'kw', 'ws', 'st', 'sy']\n",
      "['va', 'ws', 'op', 'ws', 'st', 'sy', 'nl', 'va', 'ws', 'op', 'ws', 'st', 'sy', 'nl', 'kw', 'ws', 'st', 'sy']\n",
      "\n",
      "import Question from './Question.js';\\\\import { Quiz } from './Quiz.js';\n",
      "['kw', 'ws', 'cl', 'ws', 'kw', 'ws', 'st', 'sy', 'nl', 'kw', 'ws', 'brop', 'ws', 'cl', 'ws', 'brcl', 'ws', 'kw', 'ws', 'st', 'sy']\n",
      "['kw', 'ws', 'va', 'ws', 'op', 'ws', 'st', 'sy', 'nl', 'kw', 'ws', 'brop', 'ws', 'op', 'ws', 'brcl', 'ws', 'op', 'ws', 'st', 'sy']\n",
      "\n",
      "    console.log(\"# questions loaded\", questions.length);\n",
      "['ws', 'va', 'sy', 'fn', 'brop', 'st', 'sy', 'ws', 'va', 'sy', 'va', 'brcl', 'sy']\n",
      "['ws', 'va', 'sy', 'fn', 'brop', 'st', 'sy', 'ws', 'va', 'sy', 'va', 'brcl', 'sy']\n",
      "\n",
      "vocab = [\"<pad>\", \"<unk>\"] + list(char_counts.keys())[:10]\n",
      "['va', 'ws', 'op', 'ws', 'brop', 'st', 'sy', 'ws', 'st', 'brcl', 'ws', 'op', 'ws', 'fn', 'brop', 'va', 'sy', 'fn', 'brop', 'brcl', 'brcl', 'brop', 'sy', 'nu', 'brcl']\n",
      "['va', 'ws', 'op', 'ws', 'brop', 'st', 'sy', 'ws', 'st', 'brcl', 'ws', 'kw', 'ws', 'fn', 'brop', 'va', 'sy', 'fn', 'brop', 'brcl', 'brcl', 'brop', 'sy', 'nu', 'brcl']\n",
      "\n"
     ]
    }
   ],
   "source": [
    "import json\n",
    "\n",
    "# print(os.listdir())\n",
    "\n",
    "model.eval()\n",
    "with torch.no_grad():\n",
    "    tag_scores = model(val_token_tensors, val_tag_det_tensors)\n",
    "    predictions = torch.argmax(tag_scores, dim=-1)  # Shape: (batch_size, seq_len)\n",
    "\n",
    "print(\"predictions\", predictions.size())\n",
    "\n",
    "outputs = {}\n",
    "for ex, pred in zip(val_df.iter_rows(named=True), predictions, strict=True):\n",
    "    pred_tags = []\n",
    "    for p in pred:\n",
    "        if p == 0:\n",
    "            break\n",
    "        pred_tags.append(tag_vocab[p])\n",
    "    assert len(ex[\"tokens\"]) == len(pred_tags), \"wrong length\"\n",
    "    pred_tags\n",
    "    print(\"\".join(ex[\"tokens\"]).replace(\"\\n\", \"\\\\\\\\\"))\n",
    "    print(ex[\"tags\"])\n",
    "    print(pred_tags)\n",
    "    print()\n",
    "    outputs[ex[\"name\"]] = {\"tokens\": ex[\"tokens\"], \"tags\": pred_tags}\n",
    "with open(\"../output/pred_output.json\", \"w\", encoding=\"utf-8\") as f:\n",
    "    json.dump(outputs, f)"
   ]
  },
  {
   "cell_type": "markdown",
   "metadata": {},
   "source": [
    "# parameter search\n"
   ]
  },
  {
   "cell_type": "code",
   "execution_count": 13,
   "metadata": {},
   "outputs": [],
   "source": [
    "from coolsearch import search\n",
    "\n",
    "reload(search)\n",
    "\n",
    "\n",
    "def objective(\n",
    "    embedding_dim,\n",
    "    hidden_dim,\n",
    "    n_lstm_layers,\n",
    "    dropout_lstm,\n",
    "    epochs,\n",
    "    class_weight_smoothing,\n",
    "    bidi,\n",
    "):\n",
    "    model = models_torch.LSTMTagger(\n",
    "        len(vocab),\n",
    "        len(tag_vocab),\n",
    "        embedding_dim,\n",
    "        hidden_dim,\n",
    "        n_lstm_layers,\n",
    "        dropout_lstm,\n",
    "        bidi,\n",
    "    )\n",
    "    tag_weights = class_weights(tag_counts, tag_vocab, class_weight_smoothing)\n",
    "\n",
    "    loss_function = nn.CrossEntropyLoss(weight=tag_weights)\n",
    "\n",
    "    optimizer = torch.optim.Adam(model.parameters(), lr=0.005)\n",
    "\n",
    "    # Training loop\n",
    "\n",
    "    for _ in range(epochs):\n",
    "        # TRAINING\n",
    "        models_torch.run_epoch(model, train_loader, loss_function, optimizer)\n",
    "\n",
    "    model.eval()\n",
    "    with torch.no_grad():\n",
    "        train_loss = models_torch.run_epoch(model, train_loader, loss_function)\n",
    "        val_loss = models_torch.run_epoch(model, val_loader, loss_function)\n",
    "        tag_scores = model(val_token_tensors, val_tag_det_tensors)\n",
    "        predictions = torch.argmax(tag_scores, dim=-1)\n",
    "\n",
    "    pred_tags = []\n",
    "    true_tags = []\n",
    "\n",
    "    for pred, true_t in zip(predictions, val_tag_true_idx):\n",
    "        true_tags.extend([tag_vocab[t] for t in true_t])\n",
    "        pred_tags.extend([tag_vocab[t] for t in pred[: len(true_t)]])\n",
    "\n",
    "    return {\n",
    "        \"_acc\": metrics.accuracy_score(true_tags, pred_tags),\n",
    "        \"_f1_macro\": metrics.f1_score(true_tags, pred_tags, average=\"macro\"),\n",
    "        \"_train_loss\": train_loss,\n",
    "        \"_val_loss\": val_loss,\n",
    "    }\n",
    "\n",
    "\n",
    "params = {\n",
    "    \"embedding_dim\": [6, 8, 10],\n",
    "    \"hidden_dim\": [64],\n",
    "    \"n_lstm_layers\": [2],\n",
    "    \"dropout_lstm\": [0.3, 0.5],\n",
    "    \"epochs\": 30,\n",
    "    \"class_weight_smoothing\": [10.0, 30.0],\n",
    "    \"bidi\": True,\n",
    "}\n",
    "\n",
    "\n",
    "cs = search.CoolSearch(objective, params, n_jobs=1, samples_file=\"../search/_.csv\")\n"
   ]
  },
  {
   "cell_type": "code",
   "execution_count": 14,
   "metadata": {},
   "outputs": [
    {
     "name": "stdout",
     "output_type": "stream",
     "text": [
      "Searching 12 new parameter points\n"
     ]
    },
    {
     "name": "stderr",
     "output_type": "stream",
     "text": [
      "4it [00:21,  5.44s/it]\n"
     ]
    },
    {
     "ename": "KeyboardInterrupt",
     "evalue": "",
     "output_type": "error",
     "traceback": [
      "\u001b[0;31m---------------------------------------------------------------------------\u001b[0m",
      "\u001b[0;31mKeyboardInterrupt\u001b[0m                         Traceback (most recent call last)",
      "Cell \u001b[0;32mIn[14], line 1\u001b[0m\n\u001b[0;32m----> 1\u001b[0m \u001b[43mcs\u001b[49m\u001b[38;5;241;43m.\u001b[39;49m\u001b[43mgrid_search\u001b[49m\u001b[43m(\u001b[49m\u001b[38;5;241;43m3\u001b[39;49m\u001b[43m)\u001b[49m\n\u001b[1;32m      2\u001b[0m display(cs\u001b[38;5;241m.\u001b[39msamples\u001b[38;5;241m.\u001b[39msort(\u001b[38;5;241m-\u001b[39mpl\u001b[38;5;241m.\u001b[39mcol(\u001b[38;5;124m\"\u001b[39m\u001b[38;5;124m_f1_macro\u001b[39m\u001b[38;5;124m\"\u001b[39m)))\n",
      "File \u001b[0;32m~/.pyenv/versions/3.12.7/envs/_my_python/lib/python3.12/site-packages/coolsearch/search.py:242\u001b[0m, in \u001b[0;36mCoolSearch.grid_search\u001b[0;34m(self, steps, target_runtime, verbose)\u001b[0m\n\u001b[1;32m    237\u001b[0m         \u001b[38;5;28mprint\u001b[39m(\n\u001b[1;32m    238\u001b[0m             \u001b[38;5;124mf\u001b[39m\u001b[38;5;124m\"\u001b[39m\u001b[38;5;124mchoose \u001b[39m\u001b[38;5;132;01m{\u001b[39;00msteps\u001b[38;5;132;01m}\u001b[39;00m\u001b[38;5;124m steps\u001b[39m\u001b[38;5;130;01m\\n\u001b[39;00m\u001b[38;5;124m\"\u001b[39m,\n\u001b[1;32m    239\u001b[0m             \u001b[38;5;124mf\u001b[39m\u001b[38;5;124m\"\u001b[39m\u001b[38;5;124m  -> maximum \u001b[39m\u001b[38;5;132;01m{\u001b[39;00msteps\u001b[38;5;241m*\u001b[39m\u001b[38;5;241m*\u001b[39m\u001b[38;5;28mself\u001b[39m\u001b[38;5;241m.\u001b[39mndim\u001b[38;5;132;01m}\u001b[39;00m\u001b[38;5;124m samples\u001b[39m\u001b[38;5;124m\"\u001b[39m,\n\u001b[1;32m    240\u001b[0m         )\n\u001b[1;32m    241\u001b[0m grid \u001b[38;5;241m=\u001b[39m \u001b[38;5;28mself\u001b[39m\u001b[38;5;241m.\u001b[39mget_grid(steps)\n\u001b[0;32m--> 242\u001b[0m \u001b[38;5;28;01mreturn\u001b[39;00m \u001b[38;5;28;43mself\u001b[39;49m\u001b[38;5;241;43m.\u001b[39;49m\u001b[43m_eval_samples\u001b[49m\u001b[43m(\u001b[49m\u001b[43mgrid\u001b[49m\u001b[43m,\u001b[49m\u001b[43m \u001b[49m\u001b[43mverbose\u001b[49m\u001b[43m)\u001b[49m\n",
      "File \u001b[0;32m~/.pyenv/versions/3.12.7/envs/_my_python/lib/python3.12/site-packages/coolsearch/search.py:318\u001b[0m, in \u001b[0;36mCoolSearch._eval_samples\u001b[0;34m(self, grid_new, verbose)\u001b[0m\n\u001b[1;32m    315\u001b[0m \u001b[38;5;28;01melse\u001b[39;00m:\n\u001b[1;32m    316\u001b[0m     \u001b[38;5;66;03m# single-thread mode\u001b[39;00m\n\u001b[1;32m    317\u001b[0m     \u001b[38;5;28;01mfor\u001b[39;00m p \u001b[38;5;129;01min\u001b[39;00m param_dicts:\n\u001b[0;32m--> 318\u001b[0m         val, rt \u001b[38;5;241m=\u001b[39m \u001b[38;5;28;43mself\u001b[39;49m\u001b[38;5;241;43m.\u001b[39;49m\u001b[43m_eval_obj\u001b[49m\u001b[43m(\u001b[49m\u001b[43mp\u001b[49m\u001b[43m)\u001b[49m\n\u001b[1;32m    319\u001b[0m         values\u001b[38;5;241m.\u001b[39mappend(val)\n\u001b[1;32m    320\u001b[0m         runtimes\u001b[38;5;241m.\u001b[39mappend(rt)\n",
      "File \u001b[0;32m~/.pyenv/versions/3.12.7/envs/_my_python/lib/python3.12/site-packages/coolsearch/search.py:382\u001b[0m, in \u001b[0;36mCoolSearch._eval_obj\u001b[0;34m(self, params)\u001b[0m\n\u001b[1;32m    374\u001b[0m \u001b[38;5;250m\u001b[39m\u001b[38;5;124;03m\"\"\"Compute the objective function for a parameter point\u001b[39;00m\n\u001b[1;32m    375\u001b[0m \u001b[38;5;124;03m## parameters\u001b[39;00m\n\u001b[1;32m    376\u001b[0m \u001b[38;5;124;03m- params (dict): named parameters to objective\u001b[39;00m\n\u001b[0;32m   (...)\u001b[0m\n\u001b[1;32m    379\u001b[0m \u001b[38;5;124;03m- runtime (float): runtime in seconds\u001b[39;00m\n\u001b[1;32m    380\u001b[0m \u001b[38;5;124;03m\"\"\"\u001b[39;00m\n\u001b[1;32m    381\u001b[0m ts \u001b[38;5;241m=\u001b[39m default_timer()\n\u001b[0;32m--> 382\u001b[0m res \u001b[38;5;241m=\u001b[39m \u001b[38;5;28;43mself\u001b[39;49m\u001b[38;5;241;43m.\u001b[39;49m\u001b[43m_objective\u001b[49m\u001b[43m(\u001b[49m\u001b[38;5;241;43m*\u001b[39;49m\u001b[38;5;241;43m*\u001b[39;49m\u001b[43mparams\u001b[49m\u001b[43m)\u001b[49m\n\u001b[1;32m    384\u001b[0m \u001b[38;5;66;03m# wrap in dict if scalar\u001b[39;00m\n\u001b[1;32m    385\u001b[0m \u001b[38;5;28;01mif\u001b[39;00m \u001b[38;5;129;01mnot\u001b[39;00m \u001b[38;5;28misinstance\u001b[39m(res, \u001b[38;5;28mdict\u001b[39m):\n",
      "Cell \u001b[0;32mIn[13], line 34\u001b[0m, in \u001b[0;36mobjective\u001b[0;34m(embedding_dim, hidden_dim, n_lstm_layers, dropout_lstm, epochs, class_weight_smoothing, bidi)\u001b[0m\n\u001b[1;32m     30\u001b[0m \u001b[38;5;66;03m# Training loop\u001b[39;00m\n\u001b[1;32m     32\u001b[0m \u001b[38;5;28;01mfor\u001b[39;00m _ \u001b[38;5;129;01min\u001b[39;00m \u001b[38;5;28mrange\u001b[39m(epochs):\n\u001b[1;32m     33\u001b[0m     \u001b[38;5;66;03m# TRAINING\u001b[39;00m\n\u001b[0;32m---> 34\u001b[0m     \u001b[43mmodels_torch\u001b[49m\u001b[38;5;241;43m.\u001b[39;49m\u001b[43mrun_epoch\u001b[49m\u001b[43m(\u001b[49m\u001b[43mmodel\u001b[49m\u001b[43m,\u001b[49m\u001b[43m \u001b[49m\u001b[43mtrain_loader\u001b[49m\u001b[43m,\u001b[49m\u001b[43m \u001b[49m\u001b[43mloss_function\u001b[49m\u001b[43m,\u001b[49m\u001b[43m \u001b[49m\u001b[43moptimizer\u001b[49m\u001b[43m)\u001b[49m\n\u001b[1;32m     36\u001b[0m model\u001b[38;5;241m.\u001b[39meval()\n\u001b[1;32m     37\u001b[0m \u001b[38;5;28;01mwith\u001b[39;00m torch\u001b[38;5;241m.\u001b[39mno_grad():\n",
      "File \u001b[0;32m~/projects/html_highlight/scripts/../src/models_torch.py:22\u001b[0m, in \u001b[0;36mrun_epoch\u001b[0;34m(model, loader, loss_fn, optimizer)\u001b[0m\n\u001b[1;32m     19\u001b[0m loss_agg \u001b[38;5;241m+\u001b[39m\u001b[38;5;241m=\u001b[39m loss\u001b[38;5;241m.\u001b[39mitem()\n\u001b[1;32m     20\u001b[0m \u001b[38;5;28;01mif\u001b[39;00m optimizer \u001b[38;5;129;01mis\u001b[39;00m \u001b[38;5;129;01mnot\u001b[39;00m \u001b[38;5;28;01mNone\u001b[39;00m:\n\u001b[1;32m     21\u001b[0m     \u001b[38;5;66;03m# Backward pass and optimization\u001b[39;00m\n\u001b[0;32m---> 22\u001b[0m     \u001b[43mloss\u001b[49m\u001b[38;5;241;43m.\u001b[39;49m\u001b[43mbackward\u001b[49m\u001b[43m(\u001b[49m\u001b[43m)\u001b[49m\n\u001b[1;32m     23\u001b[0m     optimizer\u001b[38;5;241m.\u001b[39mstep()\n\u001b[1;32m     24\u001b[0m     optimizer\u001b[38;5;241m.\u001b[39mzero_grad()\n",
      "File \u001b[0;32m~/.pyenv/versions/3.12.7/envs/_my_python/lib/python3.12/site-packages/torch/_tensor.py:581\u001b[0m, in \u001b[0;36mTensor.backward\u001b[0;34m(self, gradient, retain_graph, create_graph, inputs)\u001b[0m\n\u001b[1;32m    571\u001b[0m \u001b[38;5;28;01mif\u001b[39;00m has_torch_function_unary(\u001b[38;5;28mself\u001b[39m):\n\u001b[1;32m    572\u001b[0m     \u001b[38;5;28;01mreturn\u001b[39;00m handle_torch_function(\n\u001b[1;32m    573\u001b[0m         Tensor\u001b[38;5;241m.\u001b[39mbackward,\n\u001b[1;32m    574\u001b[0m         (\u001b[38;5;28mself\u001b[39m,),\n\u001b[0;32m   (...)\u001b[0m\n\u001b[1;32m    579\u001b[0m         inputs\u001b[38;5;241m=\u001b[39minputs,\n\u001b[1;32m    580\u001b[0m     )\n\u001b[0;32m--> 581\u001b[0m \u001b[43mtorch\u001b[49m\u001b[38;5;241;43m.\u001b[39;49m\u001b[43mautograd\u001b[49m\u001b[38;5;241;43m.\u001b[39;49m\u001b[43mbackward\u001b[49m\u001b[43m(\u001b[49m\n\u001b[1;32m    582\u001b[0m \u001b[43m    \u001b[49m\u001b[38;5;28;43mself\u001b[39;49m\u001b[43m,\u001b[49m\u001b[43m \u001b[49m\u001b[43mgradient\u001b[49m\u001b[43m,\u001b[49m\u001b[43m \u001b[49m\u001b[43mretain_graph\u001b[49m\u001b[43m,\u001b[49m\u001b[43m \u001b[49m\u001b[43mcreate_graph\u001b[49m\u001b[43m,\u001b[49m\u001b[43m \u001b[49m\u001b[43minputs\u001b[49m\u001b[38;5;241;43m=\u001b[39;49m\u001b[43minputs\u001b[49m\n\u001b[1;32m    583\u001b[0m \u001b[43m\u001b[49m\u001b[43m)\u001b[49m\n",
      "File \u001b[0;32m~/.pyenv/versions/3.12.7/envs/_my_python/lib/python3.12/site-packages/torch/autograd/__init__.py:347\u001b[0m, in \u001b[0;36mbackward\u001b[0;34m(tensors, grad_tensors, retain_graph, create_graph, grad_variables, inputs)\u001b[0m\n\u001b[1;32m    342\u001b[0m     retain_graph \u001b[38;5;241m=\u001b[39m create_graph\n\u001b[1;32m    344\u001b[0m \u001b[38;5;66;03m# The reason we repeat the same comment below is that\u001b[39;00m\n\u001b[1;32m    345\u001b[0m \u001b[38;5;66;03m# some Python versions print out the first line of a multi-line function\u001b[39;00m\n\u001b[1;32m    346\u001b[0m \u001b[38;5;66;03m# calls in the traceback and some print out the last line\u001b[39;00m\n\u001b[0;32m--> 347\u001b[0m \u001b[43m_engine_run_backward\u001b[49m\u001b[43m(\u001b[49m\n\u001b[1;32m    348\u001b[0m \u001b[43m    \u001b[49m\u001b[43mtensors\u001b[49m\u001b[43m,\u001b[49m\n\u001b[1;32m    349\u001b[0m \u001b[43m    \u001b[49m\u001b[43mgrad_tensors_\u001b[49m\u001b[43m,\u001b[49m\n\u001b[1;32m    350\u001b[0m \u001b[43m    \u001b[49m\u001b[43mretain_graph\u001b[49m\u001b[43m,\u001b[49m\n\u001b[1;32m    351\u001b[0m \u001b[43m    \u001b[49m\u001b[43mcreate_graph\u001b[49m\u001b[43m,\u001b[49m\n\u001b[1;32m    352\u001b[0m \u001b[43m    \u001b[49m\u001b[43minputs\u001b[49m\u001b[43m,\u001b[49m\n\u001b[1;32m    353\u001b[0m \u001b[43m    \u001b[49m\u001b[43mallow_unreachable\u001b[49m\u001b[38;5;241;43m=\u001b[39;49m\u001b[38;5;28;43;01mTrue\u001b[39;49;00m\u001b[43m,\u001b[49m\n\u001b[1;32m    354\u001b[0m \u001b[43m    \u001b[49m\u001b[43maccumulate_grad\u001b[49m\u001b[38;5;241;43m=\u001b[39;49m\u001b[38;5;28;43;01mTrue\u001b[39;49;00m\u001b[43m,\u001b[49m\n\u001b[1;32m    355\u001b[0m \u001b[43m\u001b[49m\u001b[43m)\u001b[49m\n",
      "File \u001b[0;32m~/.pyenv/versions/3.12.7/envs/_my_python/lib/python3.12/site-packages/torch/autograd/graph.py:825\u001b[0m, in \u001b[0;36m_engine_run_backward\u001b[0;34m(t_outputs, *args, **kwargs)\u001b[0m\n\u001b[1;32m    823\u001b[0m     unregister_hooks \u001b[38;5;241m=\u001b[39m _register_logging_hooks_on_whole_graph(t_outputs)\n\u001b[1;32m    824\u001b[0m \u001b[38;5;28;01mtry\u001b[39;00m:\n\u001b[0;32m--> 825\u001b[0m     \u001b[38;5;28;01mreturn\u001b[39;00m \u001b[43mVariable\u001b[49m\u001b[38;5;241;43m.\u001b[39;49m\u001b[43m_execution_engine\u001b[49m\u001b[38;5;241;43m.\u001b[39;49m\u001b[43mrun_backward\u001b[49m\u001b[43m(\u001b[49m\u001b[43m  \u001b[49m\u001b[38;5;66;43;03m# Calls into the C++ engine to run the backward pass\u001b[39;49;00m\n\u001b[1;32m    826\u001b[0m \u001b[43m        \u001b[49m\u001b[43mt_outputs\u001b[49m\u001b[43m,\u001b[49m\u001b[43m \u001b[49m\u001b[38;5;241;43m*\u001b[39;49m\u001b[43margs\u001b[49m\u001b[43m,\u001b[49m\u001b[43m \u001b[49m\u001b[38;5;241;43m*\u001b[39;49m\u001b[38;5;241;43m*\u001b[39;49m\u001b[43mkwargs\u001b[49m\n\u001b[1;32m    827\u001b[0m \u001b[43m    \u001b[49m\u001b[43m)\u001b[49m  \u001b[38;5;66;03m# Calls into the C++ engine to run the backward pass\u001b[39;00m\n\u001b[1;32m    828\u001b[0m \u001b[38;5;28;01mfinally\u001b[39;00m:\n\u001b[1;32m    829\u001b[0m     \u001b[38;5;28;01mif\u001b[39;00m attach_logging_hooks:\n",
      "\u001b[0;31mKeyboardInterrupt\u001b[0m: "
     ]
    }
   ],
   "source": [
    "cs.grid_search(3)\n",
    "display(cs.samples.sort(-pl.col(\"_f1_macro\")))\n"
   ]
  },
  {
   "cell_type": "code",
   "execution_count": null,
   "metadata": {},
   "outputs": [],
   "source": [
    "plotting.scatter(cs.samples[\"val_loss\"], [cs.samples[\"val_acc\"]]).update_traces(\n",
    "    mode=\"markers\"\n",
    ").update_layout(width=200, height=100)"
   ]
  },
  {
   "cell_type": "code",
   "execution_count": null,
   "metadata": {},
   "outputs": [],
   "source": [
    "marg = cs.marginals(\"val_acc\")\n",
    "\n",
    "pars = list(marg.keys())\n",
    "\n",
    "print(pars)\n",
    "k = pars[1]\n",
    "print(k)\n",
    "plotting.scatter(x=marg[k][k], y=[marg[k][\"max\"], marg[k][\"mean\"]])\n"
   ]
  },
  {
   "cell_type": "code",
   "execution_count": null,
   "metadata": {},
   "outputs": [],
   "source": []
  }
 ],
 "metadata": {
  "kernelspec": {
   "display_name": "_my_python",
   "language": "python",
   "name": "python3"
  },
  "language_info": {
   "codemirror_mode": {
    "name": "ipython",
    "version": 3
   },
   "file_extension": ".py",
   "mimetype": "text/x-python",
   "name": "python",
   "nbconvert_exporter": "python",
   "pygments_lexer": "ipython3",
   "version": "3.12.7"
  }
 },
 "nbformat": 4,
 "nbformat_minor": 2
}
