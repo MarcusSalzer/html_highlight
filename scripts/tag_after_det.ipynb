{
 "cells": [
  {
   "cell_type": "code",
   "execution_count": 1,
   "metadata": {},
   "outputs": [
    {
     "name": "stdout",
     "output_type": "stream",
     "text": [
      "device: cuda\n"
     ]
    }
   ],
   "source": [
    "import json\n",
    "import sys\n",
    "from importlib import reload\n",
    "\n",
    "import polars as pl\n",
    "import torch\n",
    "from datatools import plotting as dtplot\n",
    "from datatools import tabular as dttab\n",
    "from sklearn import metrics\n",
    "from torch.utils.data import DataLoader, Dataset\n",
    "\n",
    "sys.path.append(\"..\")\n",
    "\n",
    "import plotting\n",
    "from src import models_torch, text_process, util\n",
    "\n",
    "reload(plotting)\n",
    "reload(models_torch)\n",
    "dtplot.set_plotly_template()\n",
    "\n",
    "if torch.cuda.is_available():\n",
    "    dev = \"cuda\"\n",
    "else:\n",
    "    dev = \"cpu\"\n",
    "\n",
    "print(\"device:\", dev)"
   ]
  },
  {
   "cell_type": "markdown",
   "metadata": {},
   "source": [
    "## load data\n"
   ]
  },
  {
   "cell_type": "code",
   "execution_count": 3,
   "metadata": {},
   "outputs": [
    {
     "name": "stdout",
     "output_type": "stream",
     "text": [
      "Loaded 212 examples\n",
      "    val: 53\n",
      "    test: 39\n",
      "    train: 120\n",
      "val\n",
      "\t16 unique (lang):  'python', 'php', 'matlab', 'pseudo', 'js' ,...\n",
      "test\n",
      "\t14 unique (lang):  'python', 'php', 'dart', 'pseudo', 'matlab' ,...\n",
      "train\n",
      "\t16 unique (lang):  'python', 'php', 'matlab', 'dart', 'rust' ,...\n"
     ]
    }
   ],
   "source": [
    "reload(util)\n",
    "tag_map = None\n",
    "split_idx = \"0119\"\n",
    "data = util.load_examples_json(\n",
    "    tag_map=tag_map,\n",
    "    # [\"python\", \"pseudo\", \"rust\"],\n",
    "    split_idx_id=split_idx,\n",
    ")\n",
    "\n",
    "data = {\n",
    "    k: df.with_columns(\n",
    "        tags_det=pl.col(\"tokens\").map_elements(\n",
    "            lambda tks: text_process.process(\"\".join(tks))[1], pl.List(pl.String)\n",
    "        )\n",
    "    )\n",
    "    for k, df in data.items()\n",
    "}\n",
    "\n",
    "for k, df in data.items():\n",
    "    print(k)\n",
    "    print(end=\"\\t\")\n",
    "    dttab.value_counts(df[\"lang\"], verbose=True, as_dict=True)\n"
   ]
  },
  {
   "cell_type": "markdown",
   "metadata": {},
   "source": [
    "## most common tokens\n"
   ]
  },
  {
   "cell_type": "code",
   "execution_count": 4,
   "metadata": {},
   "outputs": [
    {
     "name": "stdout",
     "output_type": "stream",
     "text": [
      "VOCAB (130): ['<pad>', '<unk>', ' ', '\\n', ')', '(', '=', '.', ',', ';', '    ', ':', ']', '[', '{', '  ', '\\n\\n', '}', 'return', 'if', '        ', '*', 'import', 'for', 'in', '-', 'int', '==', '::', '+', '>', '->', '<', 'while', 'let', 'function', 'from', 'as', '...', 'var', 'echo', 'const', '\\\\', '+=', '++', '**', '            ', '|', 'true', 'end', 'else', 'def', '<-', '/', '%', 'use', 'public', 'pub', 'class', 'True', 'void', 'str', 'null', 'new', 'mut', 'mod', 'float', 'extends', '^', '>>>', '>=', '<=', '-=', '&', '!=', 'xy', 'tight', 'synchronized', 'false', 'bool', 'axis', 'False', '.^', '      ', '   ', '~/', 'with', 'where', 'typeof', 'tuple', 'throws', 'then', 'r', 'private', 'package', 'on', 'not', 'next', 'local', 'is', 'instanceof', 'hold', 'func', 'foreach', 'fn', 'double', 'done', 'do', 'crate', 'continue', 'colorbar', 'char', 'break', 'async', '_', 'SELECT', 'FROM', '?', '=>', '===', '/=', '..', '--', \"'\", '!', '                ', '             ', '       ', '     ', '\\n\\n\\n']\n",
      "LEFT  (515): ['1', '0', 'i', 'x', '2', 'np', 'data', 'a', 'y', 'sum', 's', 'torch', 'plt', 'n', 't', 'd', 'b', 'K', '3', 'thing', 'print', 'len', 'array', 'L', 'z', 'util', 'range', 'm', 'logr', 'length', 'X', 'Route', 'transactions', 'permits', 'nz', 'T', 'HashSet', 'prod', 'p', 'numpy', 'masks', 'map', 'key', 'get', 'figure', 'exp', 'enc', 'count', '6', '5', '4', 'union', 'tensor', 't1', 'subplot', 'string', 'sklearn', 'seq', 'seg_array', 'scatter', 'reshape', 'products', 'pl', 'pd', 'odds', 'needle', 'name', 'mymod', 'max', 'main', 'm2', 'm1', 'linspace', 'line', 'k', 'j', 'haystack', 'data_valid', 'curses', 'acc', 'N_iter', 'I', 'D_kk', 'CM', 'Array', '200', '1000', '100', '// ...', '$request', '\"char_tags\"', 'zeros', 'yo', 'ylabel', 'xlabel', 'width', 'value_counts_dict', 'validation', 'title', 'the', 't2', 'sum_sqr', 'stdin', 'states', 'sqrt', 'sp', 'sols', 'size', 'sigma2z', 'sigma2s', 'segment', 's2hat', 'row', 'rhats', 'rhat_std', 'rhat_mean', 'rhat', 'results', 'result', 'readLineSync', 'quiz', 'questions', 'pyplot', 'probability', 'preprocessing', 'pred_prob_test', 'poly', 'plot', 'parse', 'os', 'original', 'new_rows', 'ndimage', 'my_function', 'min', 'matplotlib', 'masks_all', 'mask', 'log_odds', 'linear_model', 'linalg', 'length2', 'l1', 'intersection', 'init', 'imread', 'imputer', 'idx', 'id', 'icecream_sum', 'height', 'has', 'frames_ann', 'frames', 'fit_transform', 'fit', 'fgh', 'factorial', 'f', 'explode', 'dim', 'digits', 'cv', 'colors', 'chunk_idx', 'char_examples', 'center_of_mass', 'arr', 'anotherVar', 'age', 'aVar', 'X_ols', 'SoftDeletes', 'Semaphore', 'Quiz', 'Question', 'PolynomialFeatures', 'Person', 'MyThread', 'Model', 'Member', 'Kmax', 'KNNImputer', 'Integer', 'Illuminate', 'DataFrame', 'ArrayList', '500', '50', '33', '30', '22', '20', '10', '1.96', \"'markeredgecolor'\", \"'filled'\", '$x', '$uri', '$item', '$collection', '$callback', '$_num', '\"tags\"', '\"chars\"', 'zero', 'ym', 'yhat_v_ols', 'yhat_v', 'xm', 'write_parquet', 'with_columns', 'withTimestamps', 'win', 'when', 'weights', 'wait', 'val_tag_idx', 'val_df', 'upper', 'transforms', 'transform', 'toList', 'this', 'test_ids', 'tag2idx', 'symbols', 'summary', 'sum_primint', 'submod', 'strtoupper', 'strStr', 'stop_frame', 'stdscr', 'std_hat_grid_ols', 'start', 'split', 'sparse_output', 'something', 'solve', 'sin', 'show', 'set', 'session', 'series', 'seg', 'seen', 'scale', 'sales', 'rows', 'rng', 'rmse_v_ols', 'res', 'renamed', 'release', 'reduce', 'redirect', 'readtable', 'randi', 'price', 'predicted', 'predict', 'post', 'pi', 'pb', 'path', 'parser', 'pandas', 'otherwise', 'old', 'objects', 'numbers', 'notify', 'norm', 'nonzero', 'newwin', 'n_neighbors', 'mynum', 'my_var', 'my_contextmanager', 'myNum', 'models', 'model', 'mini', 'min_frequency', 'midpoints', 'meshgrid', 'members', 'mean', 'maxi', 'math_fun', 'math', 'match', 'mask_sum', 'mask_similarity', 'lower', 'logit2prob', 'load_examples', 'load', 'left_null', 'l2', 'kappa', 'join', 'jmax', 'jk', 'isEmpty', 'into_par_iter', 'interrupt', 'intercept_', 'integers', 'initscr', 'index', 'imshow', 'impute', 'imagesc', 'im_test', 'idxmax', 'icecream_lm', 'handle_unknown', 'glimpse', 'get_dummies', 'gen_chunk', 'gcd_euclid_bigu', 'functional', 'frames_original', 'format_time', 'fmt', 'fb', 'factorize', 'extend', 'examples', 'empty_like', 'empty', 'dummies', 'drop_first', 'document', 'dm', 'displayQuestion', 'display', 'dh', 'df', 'description', 'delete', 'cvtColor', 'cv2', 'currentThread', 'covest_nonparametric', 'could', 'convert_image_dtype', 'collect', 'col', 'coef_', 'clf', 'chunk_size', 'checkseq', 'char_tag_counts', 'char_counts', 'bind', 'beta', 'belongsToMany', 'be', 'argparse', 'arange', 'append', 'ann', 'all', 'alias', 'alert', 'addEventListener', 'acquire', 'aLetter', 'aDoubleNum', 'aBool', 'Z_p', 'Y_valid', 'X_test_norm', 'W', 'Vec', 'VariableNames', 'UPDATED_AT', 'Thread', 'Thingsy', 'Support', 'String', 'Row', 'Properties', 'Println', 'PrimInt', 'Owner', 'OneHotEncoder', 'Number', 'N_frames', 'NCHUNKS', 'MyArray', 'MAP_TAGS', 'LogisticRegression', 'InterruptedException', 'ImmutablePoint', 'IMAGE_PATH', 'H', 'Facades', 'Eloquent', 'Dmax', 'Database', 'Constructor', 'C_beta', 'CREATED_AT', 'COLOR_GRAY2RGB', 'BigUint', 'BigInt', 'ArgumentParser', 'Action', '99', '92434447339770015548544881401_u128', '9', '76', '7', '6000', '5000', '5.99D', '42', '37.71', '37', '33.33', '3000', '3.46', '24', '2372', '231', '223', '2000', '1e-2', '15', '13', '1237', '12', '112', '// make quiz', '// load exercise content', \"// Stop if we've processed all rows\", '// Move to the next pivot row', \"'world'\", \"'updated_date'\", \"'red'\", \"'r'\", \"'put'\", \"'name'\", \"'mydatafile.csv'\", \"'k'\", \"'infrequent_if_exist'\", \"'hello'\", \"'function'\", \"'dragon'\", \"'delete'\", \"'dart:io'\", \"'creation_date'\", \"'color'\", \"'c'\", \"'blue'\", \"'b'\", \"'athing'\", \"'a'\", \"'Hello'\", \"'DOMContentLoaded'\", \"'D'\", \"'/there'\", \"'/hey'\", \"'/here'\", \"'/'\", \"'./Quiz.js'\", \"'./Question.js'\", '%split in validation and training', '% confidence interval', '% GMRF parameters', '$x1', '$this', '$key', '$b', '$abc', '$a', '# random numbers', '# a = old b, b = old a + old b', '\"yes\"', '\"y\"', '\"x\"', '\"val\"', '\"uniform\"', '\"this is a script...\"', '\"test image\"', '\"t\"', '\"somename\"', '\"segmentation\"', '\"result.parquet\"', '\"price\"', '\"number: $i\"', '\"number of frames:\"', '\"nope\"', '\"loop!\"', '\"id\"', '\"hello world\"', '\"fmt\"', '\"cadabra\"', '\"age\"', '\"abra\"', '\"Validation prediction\"', '\"Response\"', '\"Hello world\"', '\"Hello World\"', '\"Hello World!\"', '\":\"', '\"0000.png\"', '\"..\\\\SAMresult\"', '\".\"', '\"*r\"', '\"$a, $b\"']\n"
     ]
    }
   ],
   "source": [
    "# allow these in vocab\n",
    "VOCAB_TAGS = [\n",
    "    \"kwfl\",\n",
    "    \"kwty\",\n",
    "    \"kwop\",\n",
    "    \"kwmo\",\n",
    "    \"kwva\",\n",
    "    \"kwde\",\n",
    "    \"kwfn\",\n",
    "    \"kwim\",\n",
    "    \"kwio\",\n",
    "    \"id\",\n",
    "    \"ws\",\n",
    "    \"nl\",\n",
    "    \"brop\",\n",
    "    \"brcl\",\n",
    "    \"sy\",\n",
    "    \"pu\",\n",
    "    \"bo\",\n",
    "    \"li\",\n",
    "    \"opcm\",\n",
    "    \"opbi\",\n",
    "    \"opun\",\n",
    "    \"opas\",\n",
    "    \"an\",\n",
    "    \"uk\",\n",
    "]\n",
    "\n",
    "\n",
    "def make_vocab(examples: pl.DataFrame, insert=[\"<pad>\", \"<unk>\"]):\n",
    "    \"\"\"Make vocab, and inverse map\"\"\"\n",
    "    vocab_cands = (\n",
    "        examples.select(pl.col(\"tokens\", \"tags\").explode())\n",
    "        .filter(pl.col(\"tags\").is_in(VOCAB_TAGS))\n",
    "        .group_by(\"tokens\")\n",
    "        .agg(pl.len().alias(\"count\"))\n",
    "        .sort(\"count\", \"tokens\", descending=True)\n",
    "    )\n",
    "    vocab = insert + vocab_cands[\"tokens\"].to_list()\n",
    "    token2idx = {t: i for i, t in enumerate(vocab)}\n",
    "\n",
    "    return vocab, token2idx\n",
    "\n",
    "\n",
    "vocab, token2idx = make_vocab(data[\"train\"])\n",
    "leftover = (\n",
    "    data[\"train\"]\n",
    "    .select(pl.col(\"tokens\").explode())\n",
    "    .filter(pl.col(\"tokens\").is_in(vocab).not_())\n",
    "    .group_by(\"tokens\")\n",
    "    .agg(pl.len().alias(\"count\"))\n",
    "    .sort(\"count\", \"tokens\", descending=True)\n",
    ")\n",
    "leftover = leftover[\"tokens\"].to_list()\n",
    "\n",
    "print(f\"VOCAB ({len(vocab)}):\", vocab)\n",
    "print(f\"LEFT  ({len(leftover)}):\", leftover)\n"
   ]
  },
  {
   "cell_type": "code",
   "execution_count": 5,
   "metadata": {},
   "outputs": [
    {
     "name": "stdout",
     "output_type": "stream",
     "text": [
      "643 unique (tokens):  ' ', '\\n', ')', '(', '=' ,...\n",
      "35 unique (tags):  'ws', 'va', 'brop', 'brcl', 'nl' ,...\n"
     ]
    }
   ],
   "source": [
    "token_counts = dttab.value_counts(\n",
    "    data[\"train\"][\"tokens\"].explode(), verbose=True, as_dict=True\n",
    ")\n",
    "\n",
    "# tag counts for all data, closed tag set\n",
    "tag_counts = dttab.value_counts(\n",
    "    pl.concat([data[\"train\"], data[\"val\"], data[\"test\"]])[\"tags\"].explode(),\n",
    "    verbose=True,\n",
    "    as_dict=True,\n",
    ")\n"
   ]
  },
  {
   "cell_type": "markdown",
   "metadata": {},
   "source": [
    "## make a vocab!\n",
    "\n",
    "- add padding to both tokens and tags\n",
    "- also, convert tokens and tags to integers\n"
   ]
  },
  {
   "cell_type": "code",
   "execution_count": 6,
   "metadata": {},
   "outputs": [
    {
     "name": "stdout",
     "output_type": "stream",
     "text": [
      "vocab (130 tokens): ['<pad>', '<unk>', ' ', '\\n', ')', '(', '=', '.', ',', ';', '    ', ':', ']', '[', '{', '  ', '\\n\\n', '}', 'return', 'if', '        ', '*', 'import', 'for', 'in', '-', 'int', '==', '::', '+', '>', '->', '<', 'while', 'let', 'function', 'from', 'as', '...', 'var', 'echo', 'const', '\\\\', '+=', '++', '**', '            ', '|', 'true', 'end', 'else', 'def', '<-', '/', '%', 'use', 'public', 'pub', 'class', 'True', 'void', 'str', 'null', 'new', 'mut', 'mod', 'float', 'extends', '^', '>>>', '>=', '<=', '-=', '&', '!=', 'xy', 'tight', 'synchronized', 'false', 'bool', 'axis', 'False', '.^', '      ', '   ', '~/', 'with', 'where', 'typeof', 'tuple', 'throws', 'then', 'r', 'private', 'package', 'on', 'not', 'next', 'local', 'is', 'instanceof', 'hold', 'func', 'foreach', 'fn', 'double', 'done', 'do', 'crate', 'continue', 'colorbar', 'char', 'break', 'async', '_', 'SELECT', 'FROM', '?', '=>', '===', '/=', '..', '--', \"'\", '!', '                ', '             ', '       ', '     ', '\\n\\n\\n']\n",
      "vocab (37 tags)  : ['<pad>', 'uk', 'ws', 'va', 'brop', 'brcl', 'nl', 'pu', 'sy', 'nu', 'id', 'opas', 'fnfr', 'mo', 'kwfl', 'st', 'opbi', 'pa', 'cl', 'fnas', 'fnme', 'kwim', 'at', 'opcm', 'kwty', 'kwop', 'opun', 'kwva', 'bo', 'kwfn', 'kwmo', 'cofl', 'kwio', 'kwde', 'li', 'coil', 'coml']\n"
     ]
    }
   ],
   "source": [
    "# tags\n",
    "tag_vocab = [\"<pad>\", \"uk\"] + list(tag_counts.keys())\n",
    "tag2idx = {t: i for i, t in enumerate(tag_vocab)}\n",
    "\n",
    "print(f\"vocab ({len(vocab)} tokens):\", vocab)\n",
    "print(f\"vocab ({len(tag_vocab)} tags)  :\", tag_vocab)\n",
    "\n",
    "# Convert tokens and labels to indices\n",
    "# these are lists of lists!\n",
    "train_token_idx = [\n",
    "    [token2idx.get(t, 1) for t in seq] for seq in data[\"train\"][\"tokens\"]\n",
    "]\n",
    "train_tag_true_idx = [[tag2idx[t] for t in seq] for seq in data[\"train\"][\"tags\"]]\n",
    "train_tag_det_idx = [\n",
    "    [tag2idx.get(t, 1) for t in seq] for seq in data[\"train\"][\"tags_det\"]\n",
    "]\n",
    "\n",
    "\n",
    "# validation data\n",
    "val_token_idx = [[token2idx.get(t, 1) for t in seq] for seq in data[\"val\"][\"tokens\"]]\n",
    "val_tag_true_idx = [[tag2idx[t] for t in seq] for seq in data[\"val\"][\"tags\"]]\n",
    "val_tag_det_idx = [[tag2idx.get(t, 1) for t in seq] for seq in data[\"val\"][\"tags_det\"]]\n"
   ]
  },
  {
   "cell_type": "markdown",
   "metadata": {},
   "source": [
    "### class weights?\n"
   ]
  },
  {
   "cell_type": "code",
   "execution_count": 8,
   "metadata": {},
   "outputs": [],
   "source": [
    "reload(dttab)\n",
    "\n",
    "\n",
    "all_tags = data[\"train\"][\"tags\"].explode()\n",
    "\n",
    "tag_counts = dttab.value_counts(all_tags, sort_by=\"value\", as_dict=True)\n",
    "\n",
    "\n",
    "def class_weights(tag_counts: dict, tag_vocab: list[str], smoothing=0.1):\n",
    "    tag_weights = [1 / tag_counts.get(k, torch.inf) + smoothing for k in tag_vocab]\n",
    "    tag_weights = torch.tensor(tag_weights)\n",
    "    tag_weights /= sum(tag_weights)\n",
    "    return tag_weights\n"
   ]
  },
  {
   "cell_type": "markdown",
   "metadata": {},
   "source": [
    "### Prepare data for model\n"
   ]
  },
  {
   "cell_type": "code",
   "execution_count": 9,
   "metadata": {},
   "outputs": [
    {
     "name": "stdout",
     "output_type": "stream",
     "text": [
      "train:\n",
      "padded tensor: (120, 155) cuda:0\n",
      "padded tensor: (120, 155) cuda:0\n",
      "padded tensor: (120, 155) cuda:0\n",
      "val:\n",
      "padded tensor: (53, 85) cuda:0\n",
      "padded tensor: (53, 85) cuda:0\n",
      "padded tensor: (53, 85) cuda:0\n"
     ]
    }
   ],
   "source": [
    "reload(models_torch)\n",
    "print(\"train:\")\n",
    "train_token_tensors = models_torch.seqs2padded_tensor(train_token_idx, device=dev)\n",
    "train_tag_true_tensors = models_torch.seqs2padded_tensor(train_tag_true_idx, device=dev)\n",
    "train_tag_det_tensors = models_torch.seqs2padded_tensor(train_tag_det_idx, device=dev)\n",
    "print(\"val:\")\n",
    "val_token_tensors = models_torch.seqs2padded_tensor(val_token_idx, device=dev)\n",
    "val_tag_true_tensors = models_torch.seqs2padded_tensor(val_tag_true_idx, device=dev)\n",
    "val_tag_det_tensors = models_torch.seqs2padded_tensor(val_tag_det_idx, device=dev)\n",
    "\n",
    "assert train_token_tensors.shape == train_tag_true_tensors.shape\n",
    "assert train_tag_det_tensors.shape == train_tag_true_tensors.shape\n",
    "\n",
    "assert val_token_tensors.shape == val_tag_true_tensors.shape\n",
    "assert val_tag_det_tensors.shape == val_tag_true_tensors.shape\n"
   ]
  },
  {
   "cell_type": "code",
   "execution_count": 10,
   "metadata": {},
   "outputs": [
    {
     "name": "stdout",
     "output_type": "stream",
     "text": [
      "dataset 120\n",
      "dataset 53\n"
     ]
    }
   ],
   "source": [
    "class SequenceDataset(Dataset):\n",
    "    def __init__(self, tokens, labels_det, labels_true):\n",
    "        if not len(tokens) == len(labels_det) == len(labels_true):\n",
    "            raise ValueError(\"inconsistent lengths\")\n",
    "        print(\"dataset\", len(tokens))\n",
    "        self.tokens = tokens\n",
    "        self.labels_det = labels_det\n",
    "        self.labels_true = labels_true\n",
    "\n",
    "    def __len__(self):\n",
    "        return len(self.tokens)\n",
    "\n",
    "    def __getitem__(self, idx):\n",
    "        return self.tokens[idx], self.labels_det[idx], self.labels_true[idx]\n",
    "\n",
    "\n",
    "# Create dataset and dataloader\n",
    "\n",
    "if dev == \"cpu\":\n",
    "    bs_train = 8\n",
    "elif dev == \"cuda\":\n",
    "    bs_train = 8\n",
    "\n",
    "train_loader = DataLoader(\n",
    "    SequenceDataset(train_token_tensors, train_tag_det_tensors, train_tag_true_tensors),\n",
    "    batch_size=bs_train,\n",
    "    shuffle=True,\n",
    ")\n",
    "val_loader = DataLoader(\n",
    "    SequenceDataset(val_token_tensors, val_tag_det_tensors, val_tag_true_tensors),\n",
    "    batch_size=2 * bs_train,\n",
    "    shuffle=False,\n",
    ")"
   ]
  },
  {
   "cell_type": "markdown",
   "metadata": {},
   "source": [
    "## model\n"
   ]
  },
  {
   "cell_type": "code",
   "execution_count": null,
   "metadata": {},
   "outputs": [],
   "source": [
    "{\n",
    "    \"_acc\": 0.9502427184466019,\n",
    "    \"_f1_macro\": 0.8128383024255225,\n",
    "    \"_train_loss\": 0.6775082588195801,\n",
    "    \"_val_loss\": 0.7468067556619644,\n",
    "    \"bidi\": True,\n",
    "    \"class_weight_smoothing\": 10.0,\n",
    "    \"dropout_lstm\": 0.7,\n",
    "    \"embedding_dim\": 16,\n",
    "    \"hidden_dim\": 64,\n",
    "    \"label_smoothing\": 0.1,\n",
    "    \"lr_gamma\": 0.99,\n",
    "    \"lr_start\": 0.05,\n",
    "    \"n_lstm_layers\": 2,\n",
    "}"
   ]
  },
  {
   "cell_type": "code",
   "execution_count": 54,
   "metadata": {},
   "outputs": [
    {
     "name": "stdout",
     "output_type": "stream",
     "text": [
      "vocab lengths 130 37\n"
     ]
    },
    {
     "name": "stderr",
     "output_type": "stream",
     "text": [
      "  3%|▎         | 69/2000 [00:05<02:20, 13.71it/s]\n"
     ]
    },
    {
     "data": {
      "application/vnd.plotly.v1+json": {
       "config": {
        "plotlyServerURL": "https://plot.ly"
       },
       "data": [
        {
         "type": "scatter",
         "y": [
          1.5994832436243693,
          0.8670700391133627,
          0.7919452746709188,
          0.7711547493934632,
          0.756008263429006,
          0.7454182267189026,
          0.7364694635073344,
          0.7294702013333638,
          0.7237338304519654,
          0.7218454082806905,
          0.7184240221977234,
          0.7172903021176656,
          0.7154457887013753,
          0.7135510206222534,
          0.7115867773691813,
          0.7111288785934449,
          0.7104509234428406,
          0.7082675814628601,
          0.70821692943573,
          0.7085077166557312,
          0.7072637478510538,
          0.7090383847554524,
          0.7089687466621399,
          0.706844421227773,
          0.7040248076121013,
          0.7062146107355753,
          0.702113660176595,
          0.7037652333577474,
          0.7033774415651958,
          0.7017791946729024,
          0.7015537103017171,
          0.7006128509839376,
          0.7010562221209208,
          0.6998764316240946,
          0.6986075003941854,
          0.6986206253369649,
          0.6982849836349487,
          0.6990257342656453,
          0.6974164247512817,
          0.6982129176457723,
          0.6970536867777507,
          0.7004608591397603,
          0.6999827861785889,
          0.6974664012591044,
          0.6970014929771423,
          0.696795666217804,
          0.6960240721702575,
          0.6968376994132995,
          0.6956302046775817,
          0.6953658064206442,
          0.6954829613367717,
          0.6942171136538188,
          0.6956601500511169,
          0.6942089835802714,
          0.6950239896774292,
          0.6941194335619608,
          0.6945943673451741,
          0.6953844626744589,
          0.694193963209788,
          0.6936527967453003,
          0.6922808527946472,
          0.6927706360816955,
          0.6935713370641072,
          0.693181836605072,
          0.6924212972323099,
          0.6921626249949138,
          0.6924353043238322,
          0.6923256953557332,
          0.692764921983083,
          0.6929797093073528
         ]
        },
        {
         "type": "scatter",
         "y": [
          1.0663171112537384,
          0.8927932381629944,
          0.8475977331399918,
          0.8192152231931686,
          0.8126205652952194,
          0.7997646629810333,
          0.7926708161830902,
          0.7834379971027374,
          0.7749868333339691,
          0.7706472128629684,
          0.7671929597854614,
          0.7646317034959793,
          0.759003758430481,
          0.7603572309017181,
          0.762856051325798,
          0.7632969617843628,
          0.7592659592628479,
          0.7646533399820328,
          0.766293540596962,
          0.7731496244668961,
          0.75990130007267,
          0.7650124430656433,
          0.7571914941072464,
          0.7582157701253891,
          0.758785143494606,
          0.7547923624515533,
          0.7513567358255386,
          0.7512143105268478,
          0.7532762736082077,
          0.7510709464550018,
          0.7517732679843903,
          0.7531774193048477,
          0.7493902742862701,
          0.7513243407011032,
          0.7500205487012863,
          0.7535228580236435,
          0.7515292465686798,
          0.7521026730537415,
          0.7491227835416794,
          0.7482325434684753,
          0.7500048726797104,
          0.7512353807687759,
          0.7508430480957031,
          0.7513684183359146,
          0.7503963708877563,
          0.7546170055866241,
          0.7556392550468445,
          0.7528590112924576,
          0.7522916346788406,
          0.7513380646705627,
          0.7510330379009247,
          0.7509367614984512,
          0.7523957639932632,
          0.7510045319795609,
          0.7502579092979431,
          0.7508652359247208,
          0.7499617338180542,
          0.7525954395532608,
          0.7543895244598389,
          0.7538882941007614,
          0.7556098699569702,
          0.7520401477813721,
          0.7528324127197266,
          0.7535375654697418,
          0.7528170347213745,
          0.7542593777179718,
          0.748957172036171,
          0.7512293010950089,
          0.753672793507576,
          0.7525006383657455
         ]
        }
       ],
       "layout": {
        "template": {
         "data": {
          "bar": [
           {
            "error_x": {
             "color": "#f2f5fa"
            },
            "error_y": {
             "color": "#f2f5fa"
            },
            "marker": {
             "line": {
              "color": "rgb(17,17,17)",
              "width": 0.5
             },
             "pattern": {
              "fillmode": "overlay",
              "size": 10,
              "solidity": 0.2
             }
            },
            "type": "bar"
           }
          ],
          "barpolar": [
           {
            "marker": {
             "line": {
              "color": "rgb(17,17,17)",
              "width": 0.5
             },
             "pattern": {
              "fillmode": "overlay",
              "size": 10,
              "solidity": 0.2
             }
            },
            "type": "barpolar"
           }
          ],
          "carpet": [
           {
            "aaxis": {
             "endlinecolor": "#A2B1C6",
             "gridcolor": "#506784",
             "linecolor": "#506784",
             "minorgridcolor": "#506784",
             "startlinecolor": "#A2B1C6"
            },
            "baxis": {
             "endlinecolor": "#A2B1C6",
             "gridcolor": "#506784",
             "linecolor": "#506784",
             "minorgridcolor": "#506784",
             "startlinecolor": "#A2B1C6"
            },
            "type": "carpet"
           }
          ],
          "choropleth": [
           {
            "colorbar": {
             "outlinewidth": 0,
             "ticks": ""
            },
            "type": "choropleth"
           }
          ],
          "contour": [
           {
            "colorbar": {
             "outlinewidth": 0,
             "ticks": ""
            },
            "colorscale": [
             [
              0,
              "#0d0887"
             ],
             [
              0.1111111111111111,
              "#46039f"
             ],
             [
              0.2222222222222222,
              "#7201a8"
             ],
             [
              0.3333333333333333,
              "#9c179e"
             ],
             [
              0.4444444444444444,
              "#bd3786"
             ],
             [
              0.5555555555555556,
              "#d8576b"
             ],
             [
              0.6666666666666666,
              "#ed7953"
             ],
             [
              0.7777777777777778,
              "#fb9f3a"
             ],
             [
              0.8888888888888888,
              "#fdca26"
             ],
             [
              1,
              "#f0f921"
             ]
            ],
            "type": "contour"
           }
          ],
          "contourcarpet": [
           {
            "colorbar": {
             "outlinewidth": 0,
             "ticks": ""
            },
            "type": "contourcarpet"
           }
          ],
          "heatmap": [
           {
            "colorbar": {
             "outlinewidth": 0,
             "ticks": ""
            },
            "colorscale": [
             [
              0,
              "#0d0887"
             ],
             [
              0.1111111111111111,
              "#46039f"
             ],
             [
              0.2222222222222222,
              "#7201a8"
             ],
             [
              0.3333333333333333,
              "#9c179e"
             ],
             [
              0.4444444444444444,
              "#bd3786"
             ],
             [
              0.5555555555555556,
              "#d8576b"
             ],
             [
              0.6666666666666666,
              "#ed7953"
             ],
             [
              0.7777777777777778,
              "#fb9f3a"
             ],
             [
              0.8888888888888888,
              "#fdca26"
             ],
             [
              1,
              "#f0f921"
             ]
            ],
            "type": "heatmap"
           }
          ],
          "heatmapgl": [
           {
            "colorbar": {
             "outlinewidth": 0,
             "ticks": ""
            },
            "colorscale": [
             [
              0,
              "#0d0887"
             ],
             [
              0.1111111111111111,
              "#46039f"
             ],
             [
              0.2222222222222222,
              "#7201a8"
             ],
             [
              0.3333333333333333,
              "#9c179e"
             ],
             [
              0.4444444444444444,
              "#bd3786"
             ],
             [
              0.5555555555555556,
              "#d8576b"
             ],
             [
              0.6666666666666666,
              "#ed7953"
             ],
             [
              0.7777777777777778,
              "#fb9f3a"
             ],
             [
              0.8888888888888888,
              "#fdca26"
             ],
             [
              1,
              "#f0f921"
             ]
            ],
            "type": "heatmapgl"
           }
          ],
          "histogram": [
           {
            "marker": {
             "pattern": {
              "fillmode": "overlay",
              "size": 10,
              "solidity": 0.2
             }
            },
            "type": "histogram"
           }
          ],
          "histogram2d": [
           {
            "colorbar": {
             "outlinewidth": 0,
             "ticks": ""
            },
            "colorscale": [
             [
              0,
              "#0d0887"
             ],
             [
              0.1111111111111111,
              "#46039f"
             ],
             [
              0.2222222222222222,
              "#7201a8"
             ],
             [
              0.3333333333333333,
              "#9c179e"
             ],
             [
              0.4444444444444444,
              "#bd3786"
             ],
             [
              0.5555555555555556,
              "#d8576b"
             ],
             [
              0.6666666666666666,
              "#ed7953"
             ],
             [
              0.7777777777777778,
              "#fb9f3a"
             ],
             [
              0.8888888888888888,
              "#fdca26"
             ],
             [
              1,
              "#f0f921"
             ]
            ],
            "type": "histogram2d"
           }
          ],
          "histogram2dcontour": [
           {
            "colorbar": {
             "outlinewidth": 0,
             "ticks": ""
            },
            "colorscale": [
             [
              0,
              "#0d0887"
             ],
             [
              0.1111111111111111,
              "#46039f"
             ],
             [
              0.2222222222222222,
              "#7201a8"
             ],
             [
              0.3333333333333333,
              "#9c179e"
             ],
             [
              0.4444444444444444,
              "#bd3786"
             ],
             [
              0.5555555555555556,
              "#d8576b"
             ],
             [
              0.6666666666666666,
              "#ed7953"
             ],
             [
              0.7777777777777778,
              "#fb9f3a"
             ],
             [
              0.8888888888888888,
              "#fdca26"
             ],
             [
              1,
              "#f0f921"
             ]
            ],
            "type": "histogram2dcontour"
           }
          ],
          "mesh3d": [
           {
            "colorbar": {
             "outlinewidth": 0,
             "ticks": ""
            },
            "type": "mesh3d"
           }
          ],
          "parcoords": [
           {
            "line": {
             "colorbar": {
              "outlinewidth": 0,
              "ticks": ""
             }
            },
            "type": "parcoords"
           }
          ],
          "pie": [
           {
            "automargin": true,
            "type": "pie"
           }
          ],
          "scatter": [
           {
            "marker": {
             "line": {
              "color": "#283442"
             }
            },
            "type": "scatter"
           }
          ],
          "scatter3d": [
           {
            "line": {
             "colorbar": {
              "outlinewidth": 0,
              "ticks": ""
             }
            },
            "marker": {
             "colorbar": {
              "outlinewidth": 0,
              "ticks": ""
             }
            },
            "type": "scatter3d"
           }
          ],
          "scattercarpet": [
           {
            "marker": {
             "colorbar": {
              "outlinewidth": 0,
              "ticks": ""
             }
            },
            "type": "scattercarpet"
           }
          ],
          "scattergeo": [
           {
            "marker": {
             "colorbar": {
              "outlinewidth": 0,
              "ticks": ""
             }
            },
            "type": "scattergeo"
           }
          ],
          "scattergl": [
           {
            "marker": {
             "line": {
              "color": "#283442"
             }
            },
            "type": "scattergl"
           }
          ],
          "scattermapbox": [
           {
            "marker": {
             "colorbar": {
              "outlinewidth": 0,
              "ticks": ""
             }
            },
            "type": "scattermapbox"
           }
          ],
          "scatterpolar": [
           {
            "marker": {
             "colorbar": {
              "outlinewidth": 0,
              "ticks": ""
             }
            },
            "type": "scatterpolar"
           }
          ],
          "scatterpolargl": [
           {
            "marker": {
             "colorbar": {
              "outlinewidth": 0,
              "ticks": ""
             }
            },
            "type": "scatterpolargl"
           }
          ],
          "scatterternary": [
           {
            "marker": {
             "colorbar": {
              "outlinewidth": 0,
              "ticks": ""
             }
            },
            "type": "scatterternary"
           }
          ],
          "surface": [
           {
            "colorbar": {
             "outlinewidth": 0,
             "ticks": ""
            },
            "colorscale": [
             [
              0,
              "#0d0887"
             ],
             [
              0.1111111111111111,
              "#46039f"
             ],
             [
              0.2222222222222222,
              "#7201a8"
             ],
             [
              0.3333333333333333,
              "#9c179e"
             ],
             [
              0.4444444444444444,
              "#bd3786"
             ],
             [
              0.5555555555555556,
              "#d8576b"
             ],
             [
              0.6666666666666666,
              "#ed7953"
             ],
             [
              0.7777777777777778,
              "#fb9f3a"
             ],
             [
              0.8888888888888888,
              "#fdca26"
             ],
             [
              1,
              "#f0f921"
             ]
            ],
            "type": "surface"
           }
          ],
          "table": [
           {
            "cells": {
             "fill": {
              "color": "#506784"
             },
             "line": {
              "color": "rgb(17,17,17)"
             }
            },
            "header": {
             "fill": {
              "color": "#2a3f5f"
             },
             "line": {
              "color": "rgb(17,17,17)"
             }
            },
            "type": "table"
           }
          ]
         },
         "layout": {
          "annotationdefaults": {
           "arrowcolor": "#f2f5fa",
           "arrowhead": 0,
           "arrowwidth": 1
          },
          "autosize": false,
          "autotypenumbers": "strict",
          "coloraxis": {
           "colorbar": {
            "outlinewidth": 0,
            "ticks": ""
           }
          },
          "colorscale": {
           "diverging": [
            [
             0,
             "#8e0152"
            ],
            [
             0.1,
             "#c51b7d"
            ],
            [
             0.2,
             "#de77ae"
            ],
            [
             0.3,
             "#f1b6da"
            ],
            [
             0.4,
             "#fde0ef"
            ],
            [
             0.5,
             "#f7f7f7"
            ],
            [
             0.6,
             "#e6f5d0"
            ],
            [
             0.7,
             "#b8e186"
            ],
            [
             0.8,
             "#7fbc41"
            ],
            [
             0.9,
             "#4d9221"
            ],
            [
             1,
             "#276419"
            ]
           ],
           "sequential": [
            [
             0,
             "#0d0887"
            ],
            [
             0.1111111111111111,
             "#46039f"
            ],
            [
             0.2222222222222222,
             "#7201a8"
            ],
            [
             0.3333333333333333,
             "#9c179e"
            ],
            [
             0.4444444444444444,
             "#bd3786"
            ],
            [
             0.5555555555555556,
             "#d8576b"
            ],
            [
             0.6666666666666666,
             "#ed7953"
            ],
            [
             0.7777777777777778,
             "#fb9f3a"
            ],
            [
             0.8888888888888888,
             "#fdca26"
            ],
            [
             1,
             "#f0f921"
            ]
           ],
           "sequentialminus": [
            [
             0,
             "#0d0887"
            ],
            [
             0.1111111111111111,
             "#46039f"
            ],
            [
             0.2222222222222222,
             "#7201a8"
            ],
            [
             0.3333333333333333,
             "#9c179e"
            ],
            [
             0.4444444444444444,
             "#bd3786"
            ],
            [
             0.5555555555555556,
             "#d8576b"
            ],
            [
             0.6666666666666666,
             "#ed7953"
            ],
            [
             0.7777777777777778,
             "#fb9f3a"
            ],
            [
             0.8888888888888888,
             "#fdca26"
            ],
            [
             1,
             "#f0f921"
            ]
           ]
          },
          "colorway": [
           "#636efa",
           "#EF553B",
           "#00cc96",
           "#ab63fa",
           "#FFA15A",
           "#19d3f3",
           "#FF6692",
           "#B6E880",
           "#FF97FF",
           "#FECB52"
          ],
          "font": {
           "color": "#f2f5fa"
          },
          "geo": {
           "bgcolor": "rgb(17,17,17)",
           "lakecolor": "rgb(17,17,17)",
           "landcolor": "rgb(17,17,17)",
           "showlakes": true,
           "showland": true,
           "subunitcolor": "#506784"
          },
          "height": 300,
          "hoverlabel": {
           "align": "left"
          },
          "hovermode": "closest",
          "mapbox": {
           "style": "dark"
          },
          "margin": {
           "b": 40,
           "l": 40,
           "r": 40,
           "t": 40
          },
          "paper_bgcolor": "rgba(0,0,0,0)",
          "plot_bgcolor": "rgba(0,0,0,0)",
          "polar": {
           "angularaxis": {
            "gridcolor": "#506784",
            "linecolor": "#506784",
            "ticks": ""
           },
           "bgcolor": "rgb(17,17,17)",
           "radialaxis": {
            "gridcolor": "#506784",
            "linecolor": "#506784",
            "ticks": ""
           }
          },
          "scene": {
           "xaxis": {
            "backgroundcolor": "rgb(17,17,17)",
            "gridcolor": "#506784",
            "gridwidth": 2,
            "linecolor": "#506784",
            "showbackground": true,
            "ticks": "",
            "zerolinecolor": "#C8D4E3"
           },
           "yaxis": {
            "backgroundcolor": "rgb(17,17,17)",
            "gridcolor": "#506784",
            "gridwidth": 2,
            "linecolor": "#506784",
            "showbackground": true,
            "ticks": "",
            "zerolinecolor": "#C8D4E3"
           },
           "zaxis": {
            "backgroundcolor": "rgb(17,17,17)",
            "gridcolor": "#506784",
            "gridwidth": 2,
            "linecolor": "#506784",
            "showbackground": true,
            "ticks": "",
            "zerolinecolor": "#C8D4E3"
           }
          },
          "shapedefaults": {
           "line": {
            "color": "#f2f5fa"
           }
          },
          "sliderdefaults": {
           "bgcolor": "#C8D4E3",
           "bordercolor": "rgb(17,17,17)",
           "borderwidth": 1,
           "tickwidth": 0
          },
          "ternary": {
           "aaxis": {
            "gridcolor": "#506784",
            "linecolor": "#506784",
            "ticks": ""
           },
           "baxis": {
            "gridcolor": "#506784",
            "linecolor": "#506784",
            "ticks": ""
           },
           "bgcolor": "rgb(17,17,17)",
           "caxis": {
            "gridcolor": "#506784",
            "linecolor": "#506784",
            "ticks": ""
           }
          },
          "title": {
           "x": 0.05
          },
          "updatemenudefaults": {
           "bgcolor": "#506784",
           "borderwidth": 0
          },
          "width": 600,
          "xaxis": {
           "automargin": true,
           "gridcolor": "#283442",
           "linecolor": "#506784",
           "ticks": "",
           "title": {
            "standoff": 15
           },
           "zerolinecolor": "#283442",
           "zerolinewidth": 2
          },
          "yaxis": {
           "automargin": true,
           "gridcolor": "#283442",
           "linecolor": "#506784",
           "ticks": "",
           "title": {
            "standoff": 15
           },
           "zerolinecolor": "#283442",
           "zerolinewidth": 2
          }
         }
        }
       }
      }
     },
     "metadata": {},
     "output_type": "display_data"
    },
    {
     "name": "stdout",
     "output_type": "stream",
     "text": [
      "final loss:\n",
      "   train: 0.6930   val : 0.7525\n"
     ]
    }
   ],
   "source": [
    "from timeit import default_timer\n",
    "\n",
    "from tqdm import tqdm\n",
    "\n",
    "reload(models_torch)\n",
    "\n",
    "epochs = 2000\n",
    "train_time = 5\n",
    "\n",
    "\n",
    "print(\"vocab lengths\", len(vocab), len(tag_vocab))\n",
    "\n",
    "# LOSS PARAMS\n",
    "tag_weights = class_weights(tag_counts, tag_vocab, 10.0)\n",
    "label_smoothing = 0.1\n",
    "\n",
    "constructor_params = {\n",
    "    \"token_vocab_size\": len(vocab),\n",
    "    \"label_vocab_size\": len(tag_vocab),\n",
    "    \"embedding_dim\": 16,\n",
    "    \"hidden_dim\": 64,\n",
    "    \"n_lstm_layers\": 2,\n",
    "    \"dropout_lstm\": 0.7,\n",
    "    \"bidi\": True,\n",
    "}\n",
    "\n",
    "# Model with default params\n",
    "model = models_torch.LSTMTagger(**constructor_params).to(dev)\n",
    "\n",
    "loss_function = torch.nn.CrossEntropyLoss(\n",
    "    weight=tag_weights,\n",
    "    label_smoothing=label_smoothing,\n",
    ").to(dev)\n",
    "\n",
    "optimizer = torch.optim.Adam(model.parameters(), lr=0.05)\n",
    "\n",
    "lr_s = torch.optim.lr_scheduler.ExponentialLR(optimizer, gamma=0.99)\n",
    "\n",
    "# Training loop\n",
    "\n",
    "losses_train = []\n",
    "losses_val = []\n",
    "\n",
    "t_start = default_timer()\n",
    "for epoch in tqdm(range(epochs)):\n",
    "    # TRAINING\n",
    "    train_loss = models_torch.run_epoch(model, train_loader, loss_function, optimizer)\n",
    "    losses_train.append(train_loss)\n",
    "\n",
    "    # VALIDATION\n",
    "    with torch.no_grad():\n",
    "        val_loss = models_torch.run_epoch(model, val_loader, loss_function)\n",
    "        losses_val.append(val_loss)\n",
    "\n",
    "    lr_s.step()\n",
    "    # print(lr_s.get_last_lr())\n",
    "    # print(f\"Epoch {epoch+1}/{epochs}, Loss: {loss.item():.4f}\")\n",
    "\n",
    "    if train_time is not None and default_timer() > t_start + train_time:\n",
    "        break\n",
    "plotting.scatter(y=[losses_train, losses_val]).show()\n",
    "\n",
    "print(\n",
    "    \"final loss:\\n\", f\"  train: {losses_train[-1]:.4f}\", f\"  val : {losses_val[-1]:.4f}\"\n",
    ")\n"
   ]
  },
  {
   "cell_type": "code",
   "execution_count": 55,
   "metadata": {},
   "outputs": [],
   "source": [
    "# save model\n",
    "\n",
    "\n",
    "# save metadata\n",
    "metadata = {\n",
    "    \"vocab\": vocab,\n",
    "    \"tag_vocab\": tag_vocab,\n",
    "    \"tag_map\": tag_map,\n",
    "    \"split_idx\": split_idx,\n",
    "    \"constructor_params\": constructor_params,\n",
    "}\n",
    "\n",
    "modelname = f\"lstm_{split_idx}\"\n",
    "if tag_map is not None:\n",
    "    modelname += \"_mapped\"\n",
    "\n",
    "torch.save(model.state_dict(), f\"../models/{modelname}_state.pth\")\n",
    "with open(f\"../models/{modelname}_meta.json\", \"w\") as f:\n",
    "    json.dump(metadata, f)"
   ]
  },
  {
   "cell_type": "markdown",
   "metadata": {},
   "source": [
    "## evaluate\n"
   ]
  },
  {
   "cell_type": "code",
   "execution_count": 56,
   "metadata": {},
   "outputs": [
    {
     "name": "stdout",
     "output_type": "stream",
     "text": [
      "1648 1648\n",
      "accuracy 0.9381067961165048\n",
      "F1_macro 0.7892996687331592\n"
     ]
    },
    {
     "data": {
      "application/vnd.plotly.v1+json": {
       "config": {
        "plotlyServerURL": "https://plot.ly"
       },
       "data": [
        {
         "text": [
          [
           0,
           0,
           0,
           0,
           0,
           0,
           0,
           0,
           0,
           0,
           0,
           0,
           0,
           0,
           0,
           0,
           0,
           0,
           0,
           0,
           0,
           0,
           0,
           0,
           0,
           0,
           0,
           0,
           0,
           0,
           0,
           0,
           0,
           0,
           0,
           0,
           0
          ],
          [
           0,
           0,
           0,
           0,
           0,
           0,
           0,
           0,
           0,
           0,
           0,
           0,
           0,
           0,
           0,
           0,
           0,
           0,
           0,
           0,
           0,
           0,
           0,
           0,
           0,
           0,
           0,
           0,
           0,
           0,
           0,
           0,
           0,
           0,
           0,
           0,
           0
          ],
          [
           0,
           0,
           327,
           0,
           0,
           0,
           0,
           0,
           0,
           0,
           0,
           0,
           0,
           0,
           0,
           0,
           0,
           0,
           0,
           0,
           0,
           0,
           0,
           0,
           0,
           0,
           0,
           0,
           0,
           0,
           0,
           0,
           0,
           0,
           0,
           0,
           0
          ],
          [
           0,
           0,
           0,
           137,
           0,
           0,
           0,
           0,
           0,
           0,
           0,
           0,
           3,
           8,
           0,
           0,
           0,
           4,
           0,
           0,
           0,
           0,
           1,
           0,
           5,
           0,
           0,
           0,
           0,
           0,
           0,
           0,
           0,
           0,
           0,
           0,
           0
          ],
          [
           0,
           0,
           0,
           0,
           118,
           0,
           0,
           0,
           0,
           0,
           0,
           0,
           0,
           0,
           0,
           0,
           0,
           0,
           0,
           0,
           0,
           0,
           0,
           0,
           0,
           0,
           0,
           0,
           0,
           0,
           0,
           0,
           0,
           0,
           0,
           0,
           0
          ],
          [
           0,
           0,
           0,
           0,
           0,
           117,
           0,
           0,
           0,
           0,
           0,
           0,
           0,
           0,
           0,
           0,
           0,
           0,
           0,
           0,
           0,
           0,
           0,
           0,
           0,
           0,
           0,
           0,
           0,
           0,
           0,
           0,
           0,
           0,
           0,
           0,
           0
          ],
          [
           0,
           0,
           0,
           0,
           0,
           0,
           141,
           0,
           0,
           0,
           0,
           0,
           0,
           0,
           0,
           0,
           0,
           0,
           0,
           0,
           0,
           0,
           0,
           0,
           0,
           0,
           0,
           0,
           0,
           0,
           0,
           0,
           0,
           0,
           0,
           0,
           0
          ],
          [
           0,
           0,
           0,
           0,
           0,
           0,
           0,
           109,
           0,
           0,
           0,
           0,
           0,
           0,
           0,
           0,
           0,
           0,
           0,
           0,
           0,
           0,
           0,
           0,
           0,
           0,
           0,
           0,
           0,
           0,
           0,
           0,
           0,
           0,
           0,
           0,
           0
          ],
          [
           0,
           0,
           0,
           0,
           0,
           0,
           0,
           0,
           99,
           0,
           0,
           0,
           0,
           0,
           0,
           0,
           0,
           0,
           0,
           2,
           0,
           0,
           0,
           0,
           0,
           0,
           0,
           0,
           1,
           0,
           0,
           0,
           0,
           0,
           0,
           0,
           0
          ],
          [
           0,
           0,
           0,
           0,
           0,
           0,
           0,
           0,
           0,
           57,
           0,
           0,
           0,
           0,
           0,
           0,
           0,
           0,
           0,
           0,
           0,
           0,
           0,
           0,
           0,
           0,
           0,
           0,
           0,
           0,
           0,
           0,
           0,
           0,
           0,
           0,
           0
          ],
          [
           0,
           0,
           0,
           0,
           0,
           0,
           0,
           0,
           0,
           0,
           74,
           0,
           0,
           0,
           0,
           0,
           0,
           0,
           0,
           0,
           0,
           0,
           0,
           0,
           0,
           0,
           0,
           0,
           0,
           0,
           0,
           0,
           0,
           0,
           0,
           0,
           0
          ],
          [
           0,
           0,
           0,
           1,
           0,
           0,
           0,
           0,
           0,
           0,
           0,
           70,
           0,
           0,
           0,
           0,
           0,
           0,
           0,
           0,
           0,
           0,
           0,
           0,
           0,
           0,
           0,
           0,
           0,
           0,
           0,
           0,
           0,
           0,
           0,
           0,
           0
          ],
          [
           0,
           0,
           0,
           0,
           0,
           0,
           0,
           0,
           0,
           0,
           0,
           0,
           41,
           1,
           0,
           0,
           0,
           0,
           0,
           0,
           0,
           0,
           0,
           0,
           0,
           0,
           0,
           0,
           0,
           0,
           0,
           0,
           0,
           0,
           0,
           0,
           0
          ],
          [
           0,
           0,
           0,
           8,
           0,
           0,
           0,
           0,
           0,
           0,
           0,
           0,
           0,
           20,
           0,
           0,
           0,
           0,
           3,
           1,
           0,
           0,
           0,
           0,
           0,
           0,
           1,
           0,
           0,
           0,
           0,
           0,
           0,
           0,
           0,
           0,
           0
          ],
          [
           0,
           0,
           0,
           1,
           0,
           0,
           0,
           0,
           0,
           0,
           0,
           0,
           0,
           0,
           35,
           0,
           0,
           0,
           0,
           0,
           0,
           0,
           0,
           0,
           0,
           0,
           0,
           0,
           0,
           0,
           0,
           0,
           0,
           0,
           0,
           0,
           0
          ],
          [
           0,
           0,
           0,
           0,
           0,
           0,
           0,
           0,
           0,
           0,
           0,
           0,
           0,
           0,
           0,
           49,
           0,
           0,
           0,
           0,
           0,
           0,
           0,
           0,
           0,
           0,
           0,
           0,
           0,
           0,
           0,
           0,
           0,
           0,
           0,
           0,
           0
          ],
          [
           0,
           0,
           0,
           2,
           0,
           0,
           0,
           0,
           2,
           0,
           0,
           0,
           0,
           0,
           0,
           0,
           14,
           0,
           0,
           0,
           0,
           0,
           0,
           0,
           0,
           0,
           0,
           0,
           0,
           0,
           0,
           0,
           0,
           0,
           0,
           0,
           0
          ],
          [
           0,
           0,
           0,
           18,
           0,
           0,
           0,
           0,
           0,
           0,
           0,
           0,
           0,
           0,
           0,
           0,
           0,
           3,
           0,
           0,
           0,
           0,
           0,
           0,
           0,
           0,
           0,
           0,
           0,
           0,
           0,
           0,
           0,
           0,
           0,
           0,
           0
          ],
          [
           0,
           0,
           0,
           8,
           0,
           0,
           0,
           0,
           0,
           0,
           0,
           0,
           2,
           2,
           0,
           0,
           0,
           0,
           9,
           1,
           0,
           0,
           1,
           0,
           0,
           0,
           0,
           0,
           0,
           0,
           0,
           0,
           0,
           0,
           0,
           0,
           0
          ],
          [
           0,
           0,
           0,
           0,
           0,
           0,
           0,
           0,
           0,
           0,
           0,
           0,
           0,
           0,
           0,
           0,
           0,
           0,
           0,
           10,
           4,
           0,
           0,
           0,
           0,
           0,
           0,
           0,
           0,
           0,
           0,
           0,
           0,
           0,
           0,
           0,
           0
          ],
          [
           0,
           0,
           0,
           0,
           0,
           0,
           0,
           0,
           0,
           0,
           0,
           0,
           0,
           0,
           0,
           0,
           0,
           0,
           0,
           4,
           15,
           0,
           0,
           0,
           0,
           0,
           0,
           0,
           0,
           0,
           0,
           0,
           0,
           0,
           0,
           0,
           0
          ],
          [
           0,
           0,
           0,
           0,
           0,
           0,
           0,
           0,
           0,
           0,
           0,
           0,
           0,
           0,
           0,
           0,
           0,
           0,
           0,
           0,
           0,
           14,
           0,
           0,
           0,
           0,
           0,
           0,
           0,
           0,
           0,
           0,
           0,
           0,
           0,
           0,
           0
          ],
          [
           0,
           0,
           0,
           0,
           0,
           0,
           0,
           0,
           0,
           0,
           0,
           0,
           0,
           0,
           0,
           0,
           0,
           0,
           0,
           0,
           1,
           0,
           18,
           0,
           0,
           0,
           0,
           0,
           0,
           0,
           0,
           0,
           0,
           0,
           0,
           0,
           0
          ],
          [
           0,
           0,
           0,
           0,
           0,
           0,
           0,
           0,
           0,
           0,
           0,
           0,
           0,
           0,
           0,
           0,
           0,
           0,
           0,
           0,
           0,
           0,
           0,
           15,
           0,
           0,
           0,
           0,
           0,
           0,
           0,
           0,
           0,
           0,
           0,
           0,
           0
          ],
          [
           0,
           0,
           0,
           0,
           0,
           0,
           0,
           0,
           0,
           0,
           0,
           0,
           0,
           0,
           0,
           0,
           0,
           0,
           0,
           0,
           0,
           0,
           0,
           0,
           5,
           0,
           0,
           0,
           0,
           0,
           0,
           0,
           0,
           0,
           0,
           0,
           0
          ],
          [
           0,
           0,
           0,
           2,
           0,
           0,
           0,
           0,
           0,
           0,
           0,
           0,
           0,
           0,
           0,
           0,
           0,
           0,
           0,
           0,
           0,
           0,
           0,
           1,
           0,
           13,
           0,
           0,
           0,
           0,
           0,
           0,
           0,
           0,
           0,
           0,
           0
          ],
          [
           0,
           0,
           0,
           0,
           0,
           0,
           0,
           0,
           0,
           0,
           0,
           0,
           0,
           0,
           0,
           0,
           0,
           0,
           0,
           0,
           0,
           0,
           0,
           0,
           0,
           0,
           7,
           0,
           0,
           0,
           0,
           0,
           0,
           0,
           0,
           0,
           0
          ],
          [
           0,
           0,
           0,
           0,
           0,
           0,
           0,
           0,
           0,
           0,
           0,
           0,
           0,
           0,
           0,
           0,
           0,
           0,
           2,
           0,
           0,
           0,
           0,
           0,
           0,
           0,
           0,
           6,
           0,
           0,
           0,
           0,
           0,
           0,
           0,
           0,
           0
          ],
          [
           0,
           0,
           0,
           1,
           0,
           0,
           0,
           0,
           0,
           0,
           0,
           0,
           0,
           0,
           0,
           0,
           0,
           0,
           0,
           0,
           0,
           0,
           0,
           0,
           0,
           0,
           0,
           0,
           7,
           0,
           0,
           0,
           0,
           0,
           0,
           0,
           0
          ],
          [
           0,
           0,
           0,
           0,
           0,
           0,
           0,
           0,
           0,
           0,
           0,
           0,
           0,
           0,
           0,
           0,
           0,
           0,
           0,
           0,
           0,
           0,
           0,
           0,
           0,
           0,
           0,
           0,
           0,
           6,
           0,
           0,
           0,
           0,
           0,
           0,
           0
          ],
          [
           0,
           0,
           0,
           1,
           0,
           0,
           0,
           0,
           0,
           0,
           0,
           0,
           0,
           0,
           0,
           0,
           0,
           0,
           0,
           0,
           0,
           0,
           0,
           0,
           0,
           0,
           0,
           0,
           0,
           0,
           2,
           0,
           0,
           0,
           0,
           0,
           0
          ],
          [
           0,
           0,
           0,
           0,
           0,
           0,
           0,
           0,
           0,
           0,
           0,
           0,
           0,
           0,
           0,
           0,
           0,
           0,
           0,
           0,
           0,
           0,
           0,
           0,
           0,
           0,
           0,
           0,
           0,
           0,
           0,
           3,
           0,
           0,
           0,
           0,
           0
          ],
          [
           0,
           0,
           0,
           4,
           0,
           0,
           0,
           0,
           0,
           0,
           0,
           0,
           0,
           0,
           0,
           0,
           0,
           0,
           0,
           0,
           0,
           0,
           0,
           0,
           0,
           0,
           0,
           0,
           0,
           0,
           0,
           0,
           3,
           0,
           0,
           0,
           0
          ],
          [
           0,
           0,
           0,
           0,
           0,
           0,
           0,
           0,
           0,
           0,
           0,
           0,
           0,
           0,
           0,
           0,
           0,
           0,
           2,
           0,
           0,
           0,
           0,
           0,
           0,
           0,
           0,
           0,
           0,
           0,
           0,
           0,
           0,
           1,
           0,
           0,
           0
          ],
          [
           0,
           0,
           0,
           1,
           0,
           0,
           0,
           0,
           0,
           0,
           0,
           0,
           0,
           0,
           0,
           0,
           0,
           0,
           0,
           0,
           0,
           0,
           0,
           0,
           0,
           0,
           0,
           0,
           0,
           0,
           0,
           0,
           0,
           0,
           0,
           0,
           0
          ],
          [
           0,
           0,
           0,
           0,
           2,
           0,
           0,
           0,
           0,
           0,
           0,
           0,
           0,
           0,
           0,
           0,
           0,
           0,
           0,
           0,
           0,
           0,
           0,
           0,
           0,
           0,
           0,
           0,
           0,
           0,
           0,
           0,
           0,
           0,
           0,
           1,
           0
          ],
          [
           0,
           0,
           0,
           0,
           0,
           0,
           0,
           0,
           0,
           0,
           0,
           0,
           0,
           0,
           0,
           0,
           0,
           0,
           0,
           0,
           0,
           0,
           0,
           0,
           0,
           0,
           0,
           0,
           0,
           0,
           0,
           1,
           0,
           0,
           0,
           0,
           0
          ]
         ],
         "type": "heatmap",
         "x": [
          "<pad>",
          "uk",
          "ws",
          "va",
          "brop",
          "brcl",
          "nl",
          "pu",
          "sy",
          "nu",
          "id",
          "opas",
          "fnfr",
          "mo",
          "kwfl",
          "st",
          "opbi",
          "pa",
          "cl",
          "fnas",
          "fnme",
          "kwim",
          "at",
          "opcm",
          "kwty",
          "kwop",
          "opun",
          "kwva",
          "bo",
          "kwfn",
          "kwmo",
          "cofl",
          "kwio",
          "kwde",
          "li",
          "coil",
          "coml"
         ],
         "y": [
          "<pad>",
          "uk",
          "ws",
          "va",
          "brop",
          "brcl",
          "nl",
          "pu",
          "sy",
          "nu",
          "id",
          "opas",
          "fnfr",
          "mo",
          "kwfl",
          "st",
          "opbi",
          "pa",
          "cl",
          "fnas",
          "fnme",
          "kwim",
          "at",
          "opcm",
          "kwty",
          "kwop",
          "opun",
          "kwva",
          "bo",
          "kwfn",
          "kwmo",
          "cofl",
          "kwio",
          "kwde",
          "li",
          "coil",
          "coml"
         ],
         "z": [
          [
           2.302585092994046,
           2.302585092994046,
           2.302585092994046,
           2.302585092994046,
           2.302585092994046,
           2.302585092994046,
           2.302585092994046,
           2.302585092994046,
           2.302585092994046,
           2.302585092994046,
           2.302585092994046,
           2.302585092994046,
           2.302585092994046,
           2.302585092994046,
           2.302585092994046,
           2.302585092994046,
           2.302585092994046,
           2.302585092994046,
           2.302585092994046,
           2.302585092994046,
           2.302585092994046,
           2.302585092994046,
           2.302585092994046,
           2.302585092994046,
           2.302585092994046,
           2.302585092994046,
           2.302585092994046,
           2.302585092994046,
           2.302585092994046,
           2.302585092994046,
           2.302585092994046,
           2.302585092994046,
           2.302585092994046,
           2.302585092994046,
           2.302585092994046,
           2.302585092994046,
           2.302585092994046
          ],
          [
           2.302585092994046,
           2.302585092994046,
           2.302585092994046,
           2.302585092994046,
           2.302585092994046,
           2.302585092994046,
           2.302585092994046,
           2.302585092994046,
           2.302585092994046,
           2.302585092994046,
           2.302585092994046,
           2.302585092994046,
           2.302585092994046,
           2.302585092994046,
           2.302585092994046,
           2.302585092994046,
           2.302585092994046,
           2.302585092994046,
           2.302585092994046,
           2.302585092994046,
           2.302585092994046,
           2.302585092994046,
           2.302585092994046,
           2.302585092994046,
           2.302585092994046,
           2.302585092994046,
           2.302585092994046,
           2.302585092994046,
           2.302585092994046,
           2.302585092994046,
           2.302585092994046,
           2.302585092994046,
           2.302585092994046,
           2.302585092994046,
           2.302585092994046,
           2.302585092994046,
           2.302585092994046
          ],
          [
           2.302585092994046,
           2.302585092994046,
           5.820082930352362,
           2.302585092994046,
           2.302585092994046,
           2.302585092994046,
           2.302585092994046,
           2.302585092994046,
           2.302585092994046,
           2.302585092994046,
           2.302585092994046,
           2.302585092994046,
           2.302585092994046,
           2.302585092994046,
           2.302585092994046,
           2.302585092994046,
           2.302585092994046,
           2.302585092994046,
           2.302585092994046,
           2.302585092994046,
           2.302585092994046,
           2.302585092994046,
           2.302585092994046,
           2.302585092994046,
           2.302585092994046,
           2.302585092994046,
           2.302585092994046,
           2.302585092994046,
           2.302585092994046,
           2.302585092994046,
           2.302585092994046,
           2.302585092994046,
           2.302585092994046,
           2.302585092994046,
           2.302585092994046,
           2.302585092994046,
           2.302585092994046
          ],
          [
           2.302585092994046,
           2.302585092994046,
           2.302585092994046,
           4.990432586778736,
           2.302585092994046,
           2.302585092994046,
           2.302585092994046,
           2.302585092994046,
           2.302585092994046,
           2.302585092994046,
           2.302585092994046,
           2.302585092994046,
           2.5649493574615367,
           2.8903717578961645,
           2.302585092994046,
           2.302585092994046,
           2.302585092994046,
           2.6390573296152584,
           2.302585092994046,
           2.302585092994046,
           2.302585092994046,
           2.302585092994046,
           2.3978952727983707,
           2.302585092994046,
           2.70805020110221,
           2.302585092994046,
           2.302585092994046,
           2.302585092994046,
           2.302585092994046,
           2.302585092994046,
           2.302585092994046,
           2.302585092994046,
           2.302585092994046,
           2.302585092994046,
           2.302585092994046,
           2.302585092994046,
           2.302585092994046
          ],
          [
           2.302585092994046,
           2.302585092994046,
           2.302585092994046,
           2.302585092994046,
           4.852030263919617,
           2.302585092994046,
           2.302585092994046,
           2.302585092994046,
           2.302585092994046,
           2.302585092994046,
           2.302585092994046,
           2.302585092994046,
           2.302585092994046,
           2.302585092994046,
           2.302585092994046,
           2.302585092994046,
           2.302585092994046,
           2.302585092994046,
           2.302585092994046,
           2.302585092994046,
           2.302585092994046,
           2.302585092994046,
           2.302585092994046,
           2.302585092994046,
           2.302585092994046,
           2.302585092994046,
           2.302585092994046,
           2.302585092994046,
           2.302585092994046,
           2.302585092994046,
           2.302585092994046,
           2.302585092994046,
           2.302585092994046,
           2.302585092994046,
           2.302585092994046,
           2.302585092994046,
           2.302585092994046
          ],
          [
           2.302585092994046,
           2.302585092994046,
           2.302585092994046,
           2.302585092994046,
           2.302585092994046,
           4.844187086458591,
           2.302585092994046,
           2.302585092994046,
           2.302585092994046,
           2.302585092994046,
           2.302585092994046,
           2.302585092994046,
           2.302585092994046,
           2.302585092994046,
           2.302585092994046,
           2.302585092994046,
           2.302585092994046,
           2.302585092994046,
           2.302585092994046,
           2.302585092994046,
           2.302585092994046,
           2.302585092994046,
           2.302585092994046,
           2.302585092994046,
           2.302585092994046,
           2.302585092994046,
           2.302585092994046,
           2.302585092994046,
           2.302585092994046,
           2.302585092994046,
           2.302585092994046,
           2.302585092994046,
           2.302585092994046,
           2.302585092994046,
           2.302585092994046,
           2.302585092994046,
           2.302585092994046
          ],
          [
           2.302585092994046,
           2.302585092994046,
           2.302585092994046,
           2.302585092994046,
           2.302585092994046,
           2.302585092994046,
           5.017279836814924,
           2.302585092994046,
           2.302585092994046,
           2.302585092994046,
           2.302585092994046,
           2.302585092994046,
           2.302585092994046,
           2.302585092994046,
           2.302585092994046,
           2.302585092994046,
           2.302585092994046,
           2.302585092994046,
           2.302585092994046,
           2.302585092994046,
           2.302585092994046,
           2.302585092994046,
           2.302585092994046,
           2.302585092994046,
           2.302585092994046,
           2.302585092994046,
           2.302585092994046,
           2.302585092994046,
           2.302585092994046,
           2.302585092994046,
           2.302585092994046,
           2.302585092994046,
           2.302585092994046,
           2.302585092994046,
           2.302585092994046,
           2.302585092994046,
           2.302585092994046
          ],
          [
           2.302585092994046,
           2.302585092994046,
           2.302585092994046,
           2.302585092994046,
           2.302585092994046,
           2.302585092994046,
           2.302585092994046,
           4.77912349311153,
           2.302585092994046,
           2.302585092994046,
           2.302585092994046,
           2.302585092994046,
           2.302585092994046,
           2.302585092994046,
           2.302585092994046,
           2.302585092994046,
           2.302585092994046,
           2.302585092994046,
           2.302585092994046,
           2.302585092994046,
           2.302585092994046,
           2.302585092994046,
           2.302585092994046,
           2.302585092994046,
           2.302585092994046,
           2.302585092994046,
           2.302585092994046,
           2.302585092994046,
           2.302585092994046,
           2.302585092994046,
           2.302585092994046,
           2.302585092994046,
           2.302585092994046,
           2.302585092994046,
           2.302585092994046,
           2.302585092994046,
           2.302585092994046
          ],
          [
           2.302585092994046,
           2.302585092994046,
           2.302585092994046,
           2.302585092994046,
           2.302585092994046,
           2.302585092994046,
           2.302585092994046,
           2.302585092994046,
           4.6913478822291435,
           2.302585092994046,
           2.302585092994046,
           2.302585092994046,
           2.302585092994046,
           2.302585092994046,
           2.302585092994046,
           2.302585092994046,
           2.302585092994046,
           2.302585092994046,
           2.302585092994046,
           2.4849066497880004,
           2.302585092994046,
           2.302585092994046,
           2.302585092994046,
           2.302585092994046,
           2.302585092994046,
           2.302585092994046,
           2.302585092994046,
           2.302585092994046,
           2.3978952727983707,
           2.302585092994046,
           2.302585092994046,
           2.302585092994046,
           2.302585092994046,
           2.302585092994046,
           2.302585092994046,
           2.302585092994046,
           2.302585092994046
          ],
          [
           2.302585092994046,
           2.302585092994046,
           2.302585092994046,
           2.302585092994046,
           2.302585092994046,
           2.302585092994046,
           2.302585092994046,
           2.302585092994046,
           2.302585092994046,
           4.204692619390966,
           2.302585092994046,
           2.302585092994046,
           2.302585092994046,
           2.302585092994046,
           2.302585092994046,
           2.302585092994046,
           2.302585092994046,
           2.302585092994046,
           2.302585092994046,
           2.302585092994046,
           2.302585092994046,
           2.302585092994046,
           2.302585092994046,
           2.302585092994046,
           2.302585092994046,
           2.302585092994046,
           2.302585092994046,
           2.302585092994046,
           2.302585092994046,
           2.302585092994046,
           2.302585092994046,
           2.302585092994046,
           2.302585092994046,
           2.302585092994046,
           2.302585092994046,
           2.302585092994046,
           2.302585092994046
          ],
          [
           2.302585092994046,
           2.302585092994046,
           2.302585092994046,
           2.302585092994046,
           2.302585092994046,
           2.302585092994046,
           2.302585092994046,
           2.302585092994046,
           2.302585092994046,
           2.302585092994046,
           4.430816798843313,
           2.302585092994046,
           2.302585092994046,
           2.302585092994046,
           2.302585092994046,
           2.302585092994046,
           2.302585092994046,
           2.302585092994046,
           2.302585092994046,
           2.302585092994046,
           2.302585092994046,
           2.302585092994046,
           2.302585092994046,
           2.302585092994046,
           2.302585092994046,
           2.302585092994046,
           2.302585092994046,
           2.302585092994046,
           2.302585092994046,
           2.302585092994046,
           2.302585092994046,
           2.302585092994046,
           2.302585092994046,
           2.302585092994046,
           2.302585092994046,
           2.302585092994046,
           2.302585092994046
          ],
          [
           2.302585092994046,
           2.302585092994046,
           2.302585092994046,
           2.3978952727983707,
           2.302585092994046,
           2.302585092994046,
           2.302585092994046,
           2.302585092994046,
           2.302585092994046,
           2.302585092994046,
           2.302585092994046,
           4.382026634673881,
           2.302585092994046,
           2.302585092994046,
           2.302585092994046,
           2.302585092994046,
           2.302585092994046,
           2.302585092994046,
           2.302585092994046,
           2.302585092994046,
           2.302585092994046,
           2.302585092994046,
           2.302585092994046,
           2.302585092994046,
           2.302585092994046,
           2.302585092994046,
           2.302585092994046,
           2.302585092994046,
           2.302585092994046,
           2.302585092994046,
           2.302585092994046,
           2.302585092994046,
           2.302585092994046,
           2.302585092994046,
           2.302585092994046,
           2.302585092994046,
           2.302585092994046
          ],
          [
           2.302585092994046,
           2.302585092994046,
           2.302585092994046,
           2.302585092994046,
           2.302585092994046,
           2.302585092994046,
           2.302585092994046,
           2.302585092994046,
           2.302585092994046,
           2.302585092994046,
           2.302585092994046,
           2.302585092994046,
           3.9318256327243257,
           2.3978952727983707,
           2.302585092994046,
           2.302585092994046,
           2.302585092994046,
           2.302585092994046,
           2.302585092994046,
           2.302585092994046,
           2.302585092994046,
           2.302585092994046,
           2.302585092994046,
           2.302585092994046,
           2.302585092994046,
           2.302585092994046,
           2.302585092994046,
           2.302585092994046,
           2.302585092994046,
           2.302585092994046,
           2.302585092994046,
           2.302585092994046,
           2.302585092994046,
           2.302585092994046,
           2.302585092994046,
           2.302585092994046,
           2.302585092994046
          ],
          [
           2.302585092994046,
           2.302585092994046,
           2.302585092994046,
           2.8903717578961645,
           2.302585092994046,
           2.302585092994046,
           2.302585092994046,
           2.302585092994046,
           2.302585092994046,
           2.302585092994046,
           2.302585092994046,
           2.302585092994046,
           2.302585092994046,
           3.4011973816621555,
           2.302585092994046,
           2.302585092994046,
           2.302585092994046,
           2.302585092994046,
           2.5649493574615367,
           2.3978952727983707,
           2.302585092994046,
           2.302585092994046,
           2.302585092994046,
           2.302585092994046,
           2.302585092994046,
           2.302585092994046,
           2.3978952727983707,
           2.302585092994046,
           2.302585092994046,
           2.302585092994046,
           2.302585092994046,
           2.302585092994046,
           2.302585092994046,
           2.302585092994046,
           2.302585092994046,
           2.302585092994046,
           2.302585092994046
          ],
          [
           2.302585092994046,
           2.302585092994046,
           2.302585092994046,
           2.3978952727983707,
           2.302585092994046,
           2.302585092994046,
           2.302585092994046,
           2.302585092994046,
           2.302585092994046,
           2.302585092994046,
           2.302585092994046,
           2.302585092994046,
           2.302585092994046,
           2.302585092994046,
           3.8066624897703196,
           2.302585092994046,
           2.302585092994046,
           2.302585092994046,
           2.302585092994046,
           2.302585092994046,
           2.302585092994046,
           2.302585092994046,
           2.302585092994046,
           2.302585092994046,
           2.302585092994046,
           2.302585092994046,
           2.302585092994046,
           2.302585092994046,
           2.302585092994046,
           2.302585092994046,
           2.302585092994046,
           2.302585092994046,
           2.302585092994046,
           2.302585092994046,
           2.302585092994046,
           2.302585092994046,
           2.302585092994046
          ],
          [
           2.302585092994046,
           2.302585092994046,
           2.302585092994046,
           2.302585092994046,
           2.302585092994046,
           2.302585092994046,
           2.302585092994046,
           2.302585092994046,
           2.302585092994046,
           2.302585092994046,
           2.302585092994046,
           2.302585092994046,
           2.302585092994046,
           2.302585092994046,
           2.302585092994046,
           4.07753744390572,
           2.302585092994046,
           2.302585092994046,
           2.302585092994046,
           2.302585092994046,
           2.302585092994046,
           2.302585092994046,
           2.302585092994046,
           2.302585092994046,
           2.302585092994046,
           2.302585092994046,
           2.302585092994046,
           2.302585092994046,
           2.302585092994046,
           2.302585092994046,
           2.302585092994046,
           2.302585092994046,
           2.302585092994046,
           2.302585092994046,
           2.302585092994046,
           2.302585092994046,
           2.302585092994046
          ],
          [
           2.302585092994046,
           2.302585092994046,
           2.302585092994046,
           2.4849066497880004,
           2.302585092994046,
           2.302585092994046,
           2.302585092994046,
           2.302585092994046,
           2.4849066497880004,
           2.302585092994046,
           2.302585092994046,
           2.302585092994046,
           2.302585092994046,
           2.302585092994046,
           2.302585092994046,
           2.302585092994046,
           3.1780538303479458,
           2.302585092994046,
           2.302585092994046,
           2.302585092994046,
           2.302585092994046,
           2.302585092994046,
           2.302585092994046,
           2.302585092994046,
           2.302585092994046,
           2.302585092994046,
           2.302585092994046,
           2.302585092994046,
           2.302585092994046,
           2.302585092994046,
           2.302585092994046,
           2.302585092994046,
           2.302585092994046,
           2.302585092994046,
           2.302585092994046,
           2.302585092994046,
           2.302585092994046
          ],
          [
           2.302585092994046,
           2.302585092994046,
           2.302585092994046,
           3.332204510175204,
           2.302585092994046,
           2.302585092994046,
           2.302585092994046,
           2.302585092994046,
           2.302585092994046,
           2.302585092994046,
           2.302585092994046,
           2.302585092994046,
           2.302585092994046,
           2.302585092994046,
           2.302585092994046,
           2.302585092994046,
           2.302585092994046,
           2.5649493574615367,
           2.302585092994046,
           2.302585092994046,
           2.302585092994046,
           2.302585092994046,
           2.302585092994046,
           2.302585092994046,
           2.302585092994046,
           2.302585092994046,
           2.302585092994046,
           2.302585092994046,
           2.302585092994046,
           2.302585092994046,
           2.302585092994046,
           2.302585092994046,
           2.302585092994046,
           2.302585092994046,
           2.302585092994046,
           2.302585092994046,
           2.302585092994046
          ],
          [
           2.302585092994046,
           2.302585092994046,
           2.302585092994046,
           2.8903717578961645,
           2.302585092994046,
           2.302585092994046,
           2.302585092994046,
           2.302585092994046,
           2.302585092994046,
           2.302585092994046,
           2.302585092994046,
           2.302585092994046,
           2.4849066497880004,
           2.4849066497880004,
           2.302585092994046,
           2.302585092994046,
           2.302585092994046,
           2.302585092994046,
           2.9444389791664403,
           2.3978952727983707,
           2.302585092994046,
           2.302585092994046,
           2.3978952727983707,
           2.302585092994046,
           2.302585092994046,
           2.302585092994046,
           2.302585092994046,
           2.302585092994046,
           2.302585092994046,
           2.302585092994046,
           2.302585092994046,
           2.302585092994046,
           2.302585092994046,
           2.302585092994046,
           2.302585092994046,
           2.302585092994046,
           2.302585092994046
          ],
          [
           2.302585092994046,
           2.302585092994046,
           2.302585092994046,
           2.302585092994046,
           2.302585092994046,
           2.302585092994046,
           2.302585092994046,
           2.302585092994046,
           2.302585092994046,
           2.302585092994046,
           2.302585092994046,
           2.302585092994046,
           2.302585092994046,
           2.302585092994046,
           2.302585092994046,
           2.302585092994046,
           2.302585092994046,
           2.302585092994046,
           2.302585092994046,
           2.995732273553991,
           2.6390573296152584,
           2.302585092994046,
           2.302585092994046,
           2.302585092994046,
           2.302585092994046,
           2.302585092994046,
           2.302585092994046,
           2.302585092994046,
           2.302585092994046,
           2.302585092994046,
           2.302585092994046,
           2.302585092994046,
           2.302585092994046,
           2.302585092994046,
           2.302585092994046,
           2.302585092994046,
           2.302585092994046
          ],
          [
           2.302585092994046,
           2.302585092994046,
           2.302585092994046,
           2.302585092994046,
           2.302585092994046,
           2.302585092994046,
           2.302585092994046,
           2.302585092994046,
           2.302585092994046,
           2.302585092994046,
           2.302585092994046,
           2.302585092994046,
           2.302585092994046,
           2.302585092994046,
           2.302585092994046,
           2.302585092994046,
           2.302585092994046,
           2.302585092994046,
           2.302585092994046,
           2.6390573296152584,
           3.2188758248682006,
           2.302585092994046,
           2.302585092994046,
           2.302585092994046,
           2.302585092994046,
           2.302585092994046,
           2.302585092994046,
           2.302585092994046,
           2.302585092994046,
           2.302585092994046,
           2.302585092994046,
           2.302585092994046,
           2.302585092994046,
           2.302585092994046,
           2.302585092994046,
           2.302585092994046,
           2.302585092994046
          ],
          [
           2.302585092994046,
           2.302585092994046,
           2.302585092994046,
           2.302585092994046,
           2.302585092994046,
           2.302585092994046,
           2.302585092994046,
           2.302585092994046,
           2.302585092994046,
           2.302585092994046,
           2.302585092994046,
           2.302585092994046,
           2.302585092994046,
           2.302585092994046,
           2.302585092994046,
           2.302585092994046,
           2.302585092994046,
           2.302585092994046,
           2.302585092994046,
           2.302585092994046,
           2.302585092994046,
           3.1780538303479458,
           2.302585092994046,
           2.302585092994046,
           2.302585092994046,
           2.302585092994046,
           2.302585092994046,
           2.302585092994046,
           2.302585092994046,
           2.302585092994046,
           2.302585092994046,
           2.302585092994046,
           2.302585092994046,
           2.302585092994046,
           2.302585092994046,
           2.302585092994046,
           2.302585092994046
          ],
          [
           2.302585092994046,
           2.302585092994046,
           2.302585092994046,
           2.302585092994046,
           2.302585092994046,
           2.302585092994046,
           2.302585092994046,
           2.302585092994046,
           2.302585092994046,
           2.302585092994046,
           2.302585092994046,
           2.302585092994046,
           2.302585092994046,
           2.302585092994046,
           2.302585092994046,
           2.302585092994046,
           2.302585092994046,
           2.302585092994046,
           2.302585092994046,
           2.302585092994046,
           2.3978952727983707,
           2.302585092994046,
           3.332204510175204,
           2.302585092994046,
           2.302585092994046,
           2.302585092994046,
           2.302585092994046,
           2.302585092994046,
           2.302585092994046,
           2.302585092994046,
           2.302585092994046,
           2.302585092994046,
           2.302585092994046,
           2.302585092994046,
           2.302585092994046,
           2.302585092994046,
           2.302585092994046
          ],
          [
           2.302585092994046,
           2.302585092994046,
           2.302585092994046,
           2.302585092994046,
           2.302585092994046,
           2.302585092994046,
           2.302585092994046,
           2.302585092994046,
           2.302585092994046,
           2.302585092994046,
           2.302585092994046,
           2.302585092994046,
           2.302585092994046,
           2.302585092994046,
           2.302585092994046,
           2.302585092994046,
           2.302585092994046,
           2.302585092994046,
           2.302585092994046,
           2.302585092994046,
           2.302585092994046,
           2.302585092994046,
           2.302585092994046,
           3.2188758248682006,
           2.302585092994046,
           2.302585092994046,
           2.302585092994046,
           2.302585092994046,
           2.302585092994046,
           2.302585092994046,
           2.302585092994046,
           2.302585092994046,
           2.302585092994046,
           2.302585092994046,
           2.302585092994046,
           2.302585092994046,
           2.302585092994046
          ],
          [
           2.302585092994046,
           2.302585092994046,
           2.302585092994046,
           2.302585092994046,
           2.302585092994046,
           2.302585092994046,
           2.302585092994046,
           2.302585092994046,
           2.302585092994046,
           2.302585092994046,
           2.302585092994046,
           2.302585092994046,
           2.302585092994046,
           2.302585092994046,
           2.302585092994046,
           2.302585092994046,
           2.302585092994046,
           2.302585092994046,
           2.302585092994046,
           2.302585092994046,
           2.302585092994046,
           2.302585092994046,
           2.302585092994046,
           2.302585092994046,
           2.70805020110221,
           2.302585092994046,
           2.302585092994046,
           2.302585092994046,
           2.302585092994046,
           2.302585092994046,
           2.302585092994046,
           2.302585092994046,
           2.302585092994046,
           2.302585092994046,
           2.302585092994046,
           2.302585092994046,
           2.302585092994046
          ],
          [
           2.302585092994046,
           2.302585092994046,
           2.302585092994046,
           2.4849066497880004,
           2.302585092994046,
           2.302585092994046,
           2.302585092994046,
           2.302585092994046,
           2.302585092994046,
           2.302585092994046,
           2.302585092994046,
           2.302585092994046,
           2.302585092994046,
           2.302585092994046,
           2.302585092994046,
           2.302585092994046,
           2.302585092994046,
           2.302585092994046,
           2.302585092994046,
           2.302585092994046,
           2.302585092994046,
           2.302585092994046,
           2.302585092994046,
           2.3978952727983707,
           2.302585092994046,
           3.1354942159291497,
           2.302585092994046,
           2.302585092994046,
           2.302585092994046,
           2.302585092994046,
           2.302585092994046,
           2.302585092994046,
           2.302585092994046,
           2.302585092994046,
           2.302585092994046,
           2.302585092994046,
           2.302585092994046
          ],
          [
           2.302585092994046,
           2.302585092994046,
           2.302585092994046,
           2.302585092994046,
           2.302585092994046,
           2.302585092994046,
           2.302585092994046,
           2.302585092994046,
           2.302585092994046,
           2.302585092994046,
           2.302585092994046,
           2.302585092994046,
           2.302585092994046,
           2.302585092994046,
           2.302585092994046,
           2.302585092994046,
           2.302585092994046,
           2.302585092994046,
           2.302585092994046,
           2.302585092994046,
           2.302585092994046,
           2.302585092994046,
           2.302585092994046,
           2.302585092994046,
           2.302585092994046,
           2.302585092994046,
           2.833213344056216,
           2.302585092994046,
           2.302585092994046,
           2.302585092994046,
           2.302585092994046,
           2.302585092994046,
           2.302585092994046,
           2.302585092994046,
           2.302585092994046,
           2.302585092994046,
           2.302585092994046
          ],
          [
           2.302585092994046,
           2.302585092994046,
           2.302585092994046,
           2.302585092994046,
           2.302585092994046,
           2.302585092994046,
           2.302585092994046,
           2.302585092994046,
           2.302585092994046,
           2.302585092994046,
           2.302585092994046,
           2.302585092994046,
           2.302585092994046,
           2.302585092994046,
           2.302585092994046,
           2.302585092994046,
           2.302585092994046,
           2.302585092994046,
           2.4849066497880004,
           2.302585092994046,
           2.302585092994046,
           2.302585092994046,
           2.302585092994046,
           2.302585092994046,
           2.302585092994046,
           2.302585092994046,
           2.302585092994046,
           2.772588722239781,
           2.302585092994046,
           2.302585092994046,
           2.302585092994046,
           2.302585092994046,
           2.302585092994046,
           2.302585092994046,
           2.302585092994046,
           2.302585092994046,
           2.302585092994046
          ],
          [
           2.302585092994046,
           2.302585092994046,
           2.302585092994046,
           2.3978952727983707,
           2.302585092994046,
           2.302585092994046,
           2.302585092994046,
           2.302585092994046,
           2.302585092994046,
           2.302585092994046,
           2.302585092994046,
           2.302585092994046,
           2.302585092994046,
           2.302585092994046,
           2.302585092994046,
           2.302585092994046,
           2.302585092994046,
           2.302585092994046,
           2.302585092994046,
           2.302585092994046,
           2.302585092994046,
           2.302585092994046,
           2.302585092994046,
           2.302585092994046,
           2.302585092994046,
           2.302585092994046,
           2.302585092994046,
           2.302585092994046,
           2.833213344056216,
           2.302585092994046,
           2.302585092994046,
           2.302585092994046,
           2.302585092994046,
           2.302585092994046,
           2.302585092994046,
           2.302585092994046,
           2.302585092994046
          ],
          [
           2.302585092994046,
           2.302585092994046,
           2.302585092994046,
           2.302585092994046,
           2.302585092994046,
           2.302585092994046,
           2.302585092994046,
           2.302585092994046,
           2.302585092994046,
           2.302585092994046,
           2.302585092994046,
           2.302585092994046,
           2.302585092994046,
           2.302585092994046,
           2.302585092994046,
           2.302585092994046,
           2.302585092994046,
           2.302585092994046,
           2.302585092994046,
           2.302585092994046,
           2.302585092994046,
           2.302585092994046,
           2.302585092994046,
           2.302585092994046,
           2.302585092994046,
           2.302585092994046,
           2.302585092994046,
           2.302585092994046,
           2.302585092994046,
           2.772588722239781,
           2.302585092994046,
           2.302585092994046,
           2.302585092994046,
           2.302585092994046,
           2.302585092994046,
           2.302585092994046,
           2.302585092994046
          ],
          [
           2.302585092994046,
           2.302585092994046,
           2.302585092994046,
           2.3978952727983707,
           2.302585092994046,
           2.302585092994046,
           2.302585092994046,
           2.302585092994046,
           2.302585092994046,
           2.302585092994046,
           2.302585092994046,
           2.302585092994046,
           2.302585092994046,
           2.302585092994046,
           2.302585092994046,
           2.302585092994046,
           2.302585092994046,
           2.302585092994046,
           2.302585092994046,
           2.302585092994046,
           2.302585092994046,
           2.302585092994046,
           2.302585092994046,
           2.302585092994046,
           2.302585092994046,
           2.302585092994046,
           2.302585092994046,
           2.302585092994046,
           2.302585092994046,
           2.302585092994046,
           2.4849066497880004,
           2.302585092994046,
           2.302585092994046,
           2.302585092994046,
           2.302585092994046,
           2.302585092994046,
           2.302585092994046
          ],
          [
           2.302585092994046,
           2.302585092994046,
           2.302585092994046,
           2.302585092994046,
           2.302585092994046,
           2.302585092994046,
           2.302585092994046,
           2.302585092994046,
           2.302585092994046,
           2.302585092994046,
           2.302585092994046,
           2.302585092994046,
           2.302585092994046,
           2.302585092994046,
           2.302585092994046,
           2.302585092994046,
           2.302585092994046,
           2.302585092994046,
           2.302585092994046,
           2.302585092994046,
           2.302585092994046,
           2.302585092994046,
           2.302585092994046,
           2.302585092994046,
           2.302585092994046,
           2.302585092994046,
           2.302585092994046,
           2.302585092994046,
           2.302585092994046,
           2.302585092994046,
           2.302585092994046,
           2.5649493574615367,
           2.302585092994046,
           2.302585092994046,
           2.302585092994046,
           2.302585092994046,
           2.302585092994046
          ],
          [
           2.302585092994046,
           2.302585092994046,
           2.302585092994046,
           2.6390573296152584,
           2.302585092994046,
           2.302585092994046,
           2.302585092994046,
           2.302585092994046,
           2.302585092994046,
           2.302585092994046,
           2.302585092994046,
           2.302585092994046,
           2.302585092994046,
           2.302585092994046,
           2.302585092994046,
           2.302585092994046,
           2.302585092994046,
           2.302585092994046,
           2.302585092994046,
           2.302585092994046,
           2.302585092994046,
           2.302585092994046,
           2.302585092994046,
           2.302585092994046,
           2.302585092994046,
           2.302585092994046,
           2.302585092994046,
           2.302585092994046,
           2.302585092994046,
           2.302585092994046,
           2.302585092994046,
           2.302585092994046,
           2.5649493574615367,
           2.302585092994046,
           2.302585092994046,
           2.302585092994046,
           2.302585092994046
          ],
          [
           2.302585092994046,
           2.302585092994046,
           2.302585092994046,
           2.302585092994046,
           2.302585092994046,
           2.302585092994046,
           2.302585092994046,
           2.302585092994046,
           2.302585092994046,
           2.302585092994046,
           2.302585092994046,
           2.302585092994046,
           2.302585092994046,
           2.302585092994046,
           2.302585092994046,
           2.302585092994046,
           2.302585092994046,
           2.302585092994046,
           2.4849066497880004,
           2.302585092994046,
           2.302585092994046,
           2.302585092994046,
           2.302585092994046,
           2.302585092994046,
           2.302585092994046,
           2.302585092994046,
           2.302585092994046,
           2.302585092994046,
           2.302585092994046,
           2.302585092994046,
           2.302585092994046,
           2.302585092994046,
           2.302585092994046,
           2.3978952727983707,
           2.302585092994046,
           2.302585092994046,
           2.302585092994046
          ],
          [
           2.302585092994046,
           2.302585092994046,
           2.302585092994046,
           2.3978952727983707,
           2.302585092994046,
           2.302585092994046,
           2.302585092994046,
           2.302585092994046,
           2.302585092994046,
           2.302585092994046,
           2.302585092994046,
           2.302585092994046,
           2.302585092994046,
           2.302585092994046,
           2.302585092994046,
           2.302585092994046,
           2.302585092994046,
           2.302585092994046,
           2.302585092994046,
           2.302585092994046,
           2.302585092994046,
           2.302585092994046,
           2.302585092994046,
           2.302585092994046,
           2.302585092994046,
           2.302585092994046,
           2.302585092994046,
           2.302585092994046,
           2.302585092994046,
           2.302585092994046,
           2.302585092994046,
           2.302585092994046,
           2.302585092994046,
           2.302585092994046,
           2.302585092994046,
           2.302585092994046,
           2.302585092994046
          ],
          [
           2.302585092994046,
           2.302585092994046,
           2.302585092994046,
           2.302585092994046,
           2.4849066497880004,
           2.302585092994046,
           2.302585092994046,
           2.302585092994046,
           2.302585092994046,
           2.302585092994046,
           2.302585092994046,
           2.302585092994046,
           2.302585092994046,
           2.302585092994046,
           2.302585092994046,
           2.302585092994046,
           2.302585092994046,
           2.302585092994046,
           2.302585092994046,
           2.302585092994046,
           2.302585092994046,
           2.302585092994046,
           2.302585092994046,
           2.302585092994046,
           2.302585092994046,
           2.302585092994046,
           2.302585092994046,
           2.302585092994046,
           2.302585092994046,
           2.302585092994046,
           2.302585092994046,
           2.302585092994046,
           2.302585092994046,
           2.302585092994046,
           2.302585092994046,
           2.3978952727983707,
           2.302585092994046
          ],
          [
           2.302585092994046,
           2.302585092994046,
           2.302585092994046,
           2.302585092994046,
           2.302585092994046,
           2.302585092994046,
           2.302585092994046,
           2.302585092994046,
           2.302585092994046,
           2.302585092994046,
           2.302585092994046,
           2.302585092994046,
           2.302585092994046,
           2.302585092994046,
           2.302585092994046,
           2.302585092994046,
           2.302585092994046,
           2.302585092994046,
           2.302585092994046,
           2.302585092994046,
           2.302585092994046,
           2.302585092994046,
           2.302585092994046,
           2.302585092994046,
           2.302585092994046,
           2.302585092994046,
           2.302585092994046,
           2.302585092994046,
           2.302585092994046,
           2.302585092994046,
           2.302585092994046,
           2.3978952727983707,
           2.302585092994046,
           2.302585092994046,
           2.302585092994046,
           2.302585092994046,
           2.302585092994046
          ]
         ]
        }
       ],
       "layout": {
        "height": 400,
        "template": {
         "data": {
          "bar": [
           {
            "error_x": {
             "color": "#f2f5fa"
            },
            "error_y": {
             "color": "#f2f5fa"
            },
            "marker": {
             "line": {
              "color": "rgb(17,17,17)",
              "width": 0.5
             },
             "pattern": {
              "fillmode": "overlay",
              "size": 10,
              "solidity": 0.2
             }
            },
            "type": "bar"
           }
          ],
          "barpolar": [
           {
            "marker": {
             "line": {
              "color": "rgb(17,17,17)",
              "width": 0.5
             },
             "pattern": {
              "fillmode": "overlay",
              "size": 10,
              "solidity": 0.2
             }
            },
            "type": "barpolar"
           }
          ],
          "carpet": [
           {
            "aaxis": {
             "endlinecolor": "#A2B1C6",
             "gridcolor": "#506784",
             "linecolor": "#506784",
             "minorgridcolor": "#506784",
             "startlinecolor": "#A2B1C6"
            },
            "baxis": {
             "endlinecolor": "#A2B1C6",
             "gridcolor": "#506784",
             "linecolor": "#506784",
             "minorgridcolor": "#506784",
             "startlinecolor": "#A2B1C6"
            },
            "type": "carpet"
           }
          ],
          "choropleth": [
           {
            "colorbar": {
             "outlinewidth": 0,
             "ticks": ""
            },
            "type": "choropleth"
           }
          ],
          "contour": [
           {
            "colorbar": {
             "outlinewidth": 0,
             "ticks": ""
            },
            "colorscale": [
             [
              0,
              "#0d0887"
             ],
             [
              0.1111111111111111,
              "#46039f"
             ],
             [
              0.2222222222222222,
              "#7201a8"
             ],
             [
              0.3333333333333333,
              "#9c179e"
             ],
             [
              0.4444444444444444,
              "#bd3786"
             ],
             [
              0.5555555555555556,
              "#d8576b"
             ],
             [
              0.6666666666666666,
              "#ed7953"
             ],
             [
              0.7777777777777778,
              "#fb9f3a"
             ],
             [
              0.8888888888888888,
              "#fdca26"
             ],
             [
              1,
              "#f0f921"
             ]
            ],
            "type": "contour"
           }
          ],
          "contourcarpet": [
           {
            "colorbar": {
             "outlinewidth": 0,
             "ticks": ""
            },
            "type": "contourcarpet"
           }
          ],
          "heatmap": [
           {
            "colorbar": {
             "outlinewidth": 0,
             "ticks": ""
            },
            "colorscale": [
             [
              0,
              "#0d0887"
             ],
             [
              0.1111111111111111,
              "#46039f"
             ],
             [
              0.2222222222222222,
              "#7201a8"
             ],
             [
              0.3333333333333333,
              "#9c179e"
             ],
             [
              0.4444444444444444,
              "#bd3786"
             ],
             [
              0.5555555555555556,
              "#d8576b"
             ],
             [
              0.6666666666666666,
              "#ed7953"
             ],
             [
              0.7777777777777778,
              "#fb9f3a"
             ],
             [
              0.8888888888888888,
              "#fdca26"
             ],
             [
              1,
              "#f0f921"
             ]
            ],
            "type": "heatmap"
           }
          ],
          "heatmapgl": [
           {
            "colorbar": {
             "outlinewidth": 0,
             "ticks": ""
            },
            "colorscale": [
             [
              0,
              "#0d0887"
             ],
             [
              0.1111111111111111,
              "#46039f"
             ],
             [
              0.2222222222222222,
              "#7201a8"
             ],
             [
              0.3333333333333333,
              "#9c179e"
             ],
             [
              0.4444444444444444,
              "#bd3786"
             ],
             [
              0.5555555555555556,
              "#d8576b"
             ],
             [
              0.6666666666666666,
              "#ed7953"
             ],
             [
              0.7777777777777778,
              "#fb9f3a"
             ],
             [
              0.8888888888888888,
              "#fdca26"
             ],
             [
              1,
              "#f0f921"
             ]
            ],
            "type": "heatmapgl"
           }
          ],
          "histogram": [
           {
            "marker": {
             "pattern": {
              "fillmode": "overlay",
              "size": 10,
              "solidity": 0.2
             }
            },
            "type": "histogram"
           }
          ],
          "histogram2d": [
           {
            "colorbar": {
             "outlinewidth": 0,
             "ticks": ""
            },
            "colorscale": [
             [
              0,
              "#0d0887"
             ],
             [
              0.1111111111111111,
              "#46039f"
             ],
             [
              0.2222222222222222,
              "#7201a8"
             ],
             [
              0.3333333333333333,
              "#9c179e"
             ],
             [
              0.4444444444444444,
              "#bd3786"
             ],
             [
              0.5555555555555556,
              "#d8576b"
             ],
             [
              0.6666666666666666,
              "#ed7953"
             ],
             [
              0.7777777777777778,
              "#fb9f3a"
             ],
             [
              0.8888888888888888,
              "#fdca26"
             ],
             [
              1,
              "#f0f921"
             ]
            ],
            "type": "histogram2d"
           }
          ],
          "histogram2dcontour": [
           {
            "colorbar": {
             "outlinewidth": 0,
             "ticks": ""
            },
            "colorscale": [
             [
              0,
              "#0d0887"
             ],
             [
              0.1111111111111111,
              "#46039f"
             ],
             [
              0.2222222222222222,
              "#7201a8"
             ],
             [
              0.3333333333333333,
              "#9c179e"
             ],
             [
              0.4444444444444444,
              "#bd3786"
             ],
             [
              0.5555555555555556,
              "#d8576b"
             ],
             [
              0.6666666666666666,
              "#ed7953"
             ],
             [
              0.7777777777777778,
              "#fb9f3a"
             ],
             [
              0.8888888888888888,
              "#fdca26"
             ],
             [
              1,
              "#f0f921"
             ]
            ],
            "type": "histogram2dcontour"
           }
          ],
          "mesh3d": [
           {
            "colorbar": {
             "outlinewidth": 0,
             "ticks": ""
            },
            "type": "mesh3d"
           }
          ],
          "parcoords": [
           {
            "line": {
             "colorbar": {
              "outlinewidth": 0,
              "ticks": ""
             }
            },
            "type": "parcoords"
           }
          ],
          "pie": [
           {
            "automargin": true,
            "type": "pie"
           }
          ],
          "scatter": [
           {
            "marker": {
             "line": {
              "color": "#283442"
             }
            },
            "type": "scatter"
           }
          ],
          "scatter3d": [
           {
            "line": {
             "colorbar": {
              "outlinewidth": 0,
              "ticks": ""
             }
            },
            "marker": {
             "colorbar": {
              "outlinewidth": 0,
              "ticks": ""
             }
            },
            "type": "scatter3d"
           }
          ],
          "scattercarpet": [
           {
            "marker": {
             "colorbar": {
              "outlinewidth": 0,
              "ticks": ""
             }
            },
            "type": "scattercarpet"
           }
          ],
          "scattergeo": [
           {
            "marker": {
             "colorbar": {
              "outlinewidth": 0,
              "ticks": ""
             }
            },
            "type": "scattergeo"
           }
          ],
          "scattergl": [
           {
            "marker": {
             "line": {
              "color": "#283442"
             }
            },
            "type": "scattergl"
           }
          ],
          "scattermapbox": [
           {
            "marker": {
             "colorbar": {
              "outlinewidth": 0,
              "ticks": ""
             }
            },
            "type": "scattermapbox"
           }
          ],
          "scatterpolar": [
           {
            "marker": {
             "colorbar": {
              "outlinewidth": 0,
              "ticks": ""
             }
            },
            "type": "scatterpolar"
           }
          ],
          "scatterpolargl": [
           {
            "marker": {
             "colorbar": {
              "outlinewidth": 0,
              "ticks": ""
             }
            },
            "type": "scatterpolargl"
           }
          ],
          "scatterternary": [
           {
            "marker": {
             "colorbar": {
              "outlinewidth": 0,
              "ticks": ""
             }
            },
            "type": "scatterternary"
           }
          ],
          "surface": [
           {
            "colorbar": {
             "outlinewidth": 0,
             "ticks": ""
            },
            "colorscale": [
             [
              0,
              "#0d0887"
             ],
             [
              0.1111111111111111,
              "#46039f"
             ],
             [
              0.2222222222222222,
              "#7201a8"
             ],
             [
              0.3333333333333333,
              "#9c179e"
             ],
             [
              0.4444444444444444,
              "#bd3786"
             ],
             [
              0.5555555555555556,
              "#d8576b"
             ],
             [
              0.6666666666666666,
              "#ed7953"
             ],
             [
              0.7777777777777778,
              "#fb9f3a"
             ],
             [
              0.8888888888888888,
              "#fdca26"
             ],
             [
              1,
              "#f0f921"
             ]
            ],
            "type": "surface"
           }
          ],
          "table": [
           {
            "cells": {
             "fill": {
              "color": "#506784"
             },
             "line": {
              "color": "rgb(17,17,17)"
             }
            },
            "header": {
             "fill": {
              "color": "#2a3f5f"
             },
             "line": {
              "color": "rgb(17,17,17)"
             }
            },
            "type": "table"
           }
          ]
         },
         "layout": {
          "annotationdefaults": {
           "arrowcolor": "#f2f5fa",
           "arrowhead": 0,
           "arrowwidth": 1
          },
          "autosize": false,
          "autotypenumbers": "strict",
          "coloraxis": {
           "colorbar": {
            "outlinewidth": 0,
            "ticks": ""
           }
          },
          "colorscale": {
           "diverging": [
            [
             0,
             "#8e0152"
            ],
            [
             0.1,
             "#c51b7d"
            ],
            [
             0.2,
             "#de77ae"
            ],
            [
             0.3,
             "#f1b6da"
            ],
            [
             0.4,
             "#fde0ef"
            ],
            [
             0.5,
             "#f7f7f7"
            ],
            [
             0.6,
             "#e6f5d0"
            ],
            [
             0.7,
             "#b8e186"
            ],
            [
             0.8,
             "#7fbc41"
            ],
            [
             0.9,
             "#4d9221"
            ],
            [
             1,
             "#276419"
            ]
           ],
           "sequential": [
            [
             0,
             "#0d0887"
            ],
            [
             0.1111111111111111,
             "#46039f"
            ],
            [
             0.2222222222222222,
             "#7201a8"
            ],
            [
             0.3333333333333333,
             "#9c179e"
            ],
            [
             0.4444444444444444,
             "#bd3786"
            ],
            [
             0.5555555555555556,
             "#d8576b"
            ],
            [
             0.6666666666666666,
             "#ed7953"
            ],
            [
             0.7777777777777778,
             "#fb9f3a"
            ],
            [
             0.8888888888888888,
             "#fdca26"
            ],
            [
             1,
             "#f0f921"
            ]
           ],
           "sequentialminus": [
            [
             0,
             "#0d0887"
            ],
            [
             0.1111111111111111,
             "#46039f"
            ],
            [
             0.2222222222222222,
             "#7201a8"
            ],
            [
             0.3333333333333333,
             "#9c179e"
            ],
            [
             0.4444444444444444,
             "#bd3786"
            ],
            [
             0.5555555555555556,
             "#d8576b"
            ],
            [
             0.6666666666666666,
             "#ed7953"
            ],
            [
             0.7777777777777778,
             "#fb9f3a"
            ],
            [
             0.8888888888888888,
             "#fdca26"
            ],
            [
             1,
             "#f0f921"
            ]
           ]
          },
          "colorway": [
           "#636efa",
           "#EF553B",
           "#00cc96",
           "#ab63fa",
           "#FFA15A",
           "#19d3f3",
           "#FF6692",
           "#B6E880",
           "#FF97FF",
           "#FECB52"
          ],
          "font": {
           "color": "#f2f5fa"
          },
          "geo": {
           "bgcolor": "rgb(17,17,17)",
           "lakecolor": "rgb(17,17,17)",
           "landcolor": "rgb(17,17,17)",
           "showlakes": true,
           "showland": true,
           "subunitcolor": "#506784"
          },
          "height": 300,
          "hoverlabel": {
           "align": "left"
          },
          "hovermode": "closest",
          "mapbox": {
           "style": "dark"
          },
          "margin": {
           "b": 40,
           "l": 40,
           "r": 40,
           "t": 40
          },
          "paper_bgcolor": "rgba(0,0,0,0)",
          "plot_bgcolor": "rgba(0,0,0,0)",
          "polar": {
           "angularaxis": {
            "gridcolor": "#506784",
            "linecolor": "#506784",
            "ticks": ""
           },
           "bgcolor": "rgb(17,17,17)",
           "radialaxis": {
            "gridcolor": "#506784",
            "linecolor": "#506784",
            "ticks": ""
           }
          },
          "scene": {
           "xaxis": {
            "backgroundcolor": "rgb(17,17,17)",
            "gridcolor": "#506784",
            "gridwidth": 2,
            "linecolor": "#506784",
            "showbackground": true,
            "ticks": "",
            "zerolinecolor": "#C8D4E3"
           },
           "yaxis": {
            "backgroundcolor": "rgb(17,17,17)",
            "gridcolor": "#506784",
            "gridwidth": 2,
            "linecolor": "#506784",
            "showbackground": true,
            "ticks": "",
            "zerolinecolor": "#C8D4E3"
           },
           "zaxis": {
            "backgroundcolor": "rgb(17,17,17)",
            "gridcolor": "#506784",
            "gridwidth": 2,
            "linecolor": "#506784",
            "showbackground": true,
            "ticks": "",
            "zerolinecolor": "#C8D4E3"
           }
          },
          "shapedefaults": {
           "line": {
            "color": "#f2f5fa"
           }
          },
          "sliderdefaults": {
           "bgcolor": "#C8D4E3",
           "bordercolor": "rgb(17,17,17)",
           "borderwidth": 1,
           "tickwidth": 0
          },
          "ternary": {
           "aaxis": {
            "gridcolor": "#506784",
            "linecolor": "#506784",
            "ticks": ""
           },
           "baxis": {
            "gridcolor": "#506784",
            "linecolor": "#506784",
            "ticks": ""
           },
           "bgcolor": "rgb(17,17,17)",
           "caxis": {
            "gridcolor": "#506784",
            "linecolor": "#506784",
            "ticks": ""
           }
          },
          "title": {
           "x": 0.05
          },
          "updatemenudefaults": {
           "bgcolor": "#506784",
           "borderwidth": 0
          },
          "width": 600,
          "xaxis": {
           "automargin": true,
           "gridcolor": "#283442",
           "linecolor": "#506784",
           "ticks": "",
           "title": {
            "standoff": 15
           },
           "zerolinecolor": "#283442",
           "zerolinewidth": 2
          },
          "yaxis": {
           "automargin": true,
           "gridcolor": "#283442",
           "linecolor": "#506784",
           "ticks": "",
           "title": {
            "standoff": 15
           },
           "zerolinecolor": "#283442",
           "zerolinewidth": 2
          }
         }
        },
        "title": {
         "text": "Heatmap: log(count + 10)"
        },
        "width": 480,
        "xaxis": {
         "dtick": 1,
         "title": {
          "text": "prediction"
         },
         "type": "category"
        },
        "yaxis": {
         "dtick": 1,
         "scaleanchor": "x",
         "title": {
          "text": "true"
         },
         "type": "category"
        }
       }
      }
     },
     "metadata": {},
     "output_type": "display_data"
    }
   ],
   "source": [
    "model.eval()\n",
    "with torch.no_grad():\n",
    "    tag_scores = model(val_token_tensors, val_tag_det_tensors)\n",
    "    predictions = torch.argmax(tag_scores, dim=-1)  # Shape: (batch_size, seq_len)\n",
    "\n",
    "pred_tags = []\n",
    "true_tags = []\n",
    "\n",
    "for pred, true_t in zip(predictions, val_tag_true_idx):\n",
    "    true_tags.extend([tag_vocab[t] for t in true_t])\n",
    "    pred_tags.extend([tag_vocab[t] for t in pred[: len(true_t)]])\n",
    "\n",
    "print(len(true_tags), len(pred_tags))\n",
    "\n",
    "acc = metrics.accuracy_score(true_tags, pred_tags)\n",
    "print(\"accuracy\", acc)\n",
    "f1_macro = metrics.f1_score(true_tags, pred_tags, average=\"macro\")\n",
    "print(\"F1_macro\", f1_macro)\n",
    "\n",
    "confmat = metrics.confusion_matrix(true_tags, pred_tags, labels=tag_vocab)\n",
    "\n",
    "dtplot.heatmap(\n",
    "    confmat,\n",
    "    tag_vocab,\n",
    "    log_scale=True,\n",
    "    pseudo_count=10,\n",
    "    size=400,\n",
    ").show()"
   ]
  },
  {
   "cell_type": "markdown",
   "metadata": {},
   "source": [
    "### eval only on non-det\n"
   ]
  },
  {
   "cell_type": "code",
   "execution_count": 65,
   "metadata": {},
   "outputs": [
    {
     "name": "stdout",
     "output_type": "stream",
     "text": [
      "474 474\n",
      "accuracy 0.7974683544303798\n",
      "F1_macro 0.7414364996273485\n"
     ]
    },
    {
     "data": {
      "application/vnd.plotly.v1+json": {
       "config": {
        "plotlyServerURL": "https://plot.ly"
       },
       "data": [
        {
         "text": [
          [
           18,
           0,
           0,
           0,
           0,
           1,
           0,
           0,
           0,
           0,
           0,
           0,
           0,
           0,
           0,
           0,
           0,
           0,
           0,
           0,
           0,
           0,
           0
          ],
          [
           0,
           7,
           0,
           0,
           0,
           0,
           0,
           0,
           0,
           0,
           0,
           0,
           0,
           0,
           0,
           0,
           0,
           0,
           0,
           0,
           0,
           0,
           1
          ],
          [
           1,
           0,
           9,
           1,
           2,
           0,
           0,
           0,
           0,
           0,
           0,
           0,
           0,
           0,
           0,
           0,
           2,
           0,
           0,
           0,
           0,
           0,
           8
          ],
          [
           0,
           0,
           0,
           10,
           0,
           4,
           0,
           0,
           0,
           0,
           0,
           0,
           0,
           0,
           0,
           0,
           0,
           0,
           0,
           0,
           0,
           0,
           0
          ],
          [
           0,
           0,
           0,
           0,
           41,
           0,
           0,
           0,
           0,
           0,
           0,
           0,
           0,
           0,
           0,
           0,
           1,
           0,
           0,
           0,
           0,
           0,
           0
          ],
          [
           0,
           0,
           0,
           4,
           0,
           15,
           0,
           0,
           0,
           0,
           0,
           0,
           0,
           0,
           0,
           0,
           0,
           0,
           0,
           0,
           0,
           0,
           0
          ],
          [
           0,
           0,
           2,
           0,
           0,
           0,
           1,
           0,
           0,
           0,
           0,
           0,
           0,
           0,
           0,
           0,
           0,
           0,
           0,
           0,
           0,
           0,
           0
          ],
          [
           0,
           0,
           0,
           0,
           0,
           0,
           0,
           35,
           0,
           0,
           0,
           0,
           0,
           0,
           0,
           0,
           0,
           0,
           0,
           0,
           0,
           0,
           1
          ],
          [
           0,
           0,
           0,
           0,
           0,
           0,
           0,
           0,
           6,
           0,
           0,
           0,
           0,
           0,
           0,
           0,
           0,
           0,
           0,
           0,
           0,
           0,
           0
          ],
          [
           0,
           0,
           0,
           0,
           0,
           0,
           0,
           0,
           0,
           14,
           0,
           0,
           0,
           0,
           0,
           0,
           0,
           0,
           0,
           0,
           0,
           0,
           0
          ],
          [
           0,
           0,
           0,
           0,
           0,
           0,
           0,
           0,
           0,
           0,
           3,
           0,
           0,
           0,
           0,
           0,
           0,
           0,
           0,
           0,
           0,
           0,
           4
          ],
          [
           0,
           0,
           0,
           0,
           0,
           0,
           0,
           0,
           0,
           0,
           0,
           2,
           0,
           0,
           0,
           0,
           0,
           0,
           0,
           0,
           0,
           0,
           1
          ],
          [
           0,
           0,
           0,
           0,
           0,
           0,
           0,
           0,
           0,
           0,
           0,
           0,
           13,
           0,
           0,
           0,
           0,
           0,
           1,
           0,
           0,
           0,
           2
          ],
          [
           0,
           0,
           0,
           0,
           0,
           0,
           0,
           0,
           0,
           0,
           0,
           0,
           0,
           5,
           0,
           0,
           0,
           0,
           0,
           0,
           0,
           0,
           0
          ],
          [
           0,
           0,
           2,
           0,
           0,
           0,
           0,
           0,
           0,
           0,
           0,
           0,
           0,
           0,
           6,
           0,
           0,
           0,
           0,
           0,
           0,
           0,
           0
          ],
          [
           0,
           0,
           0,
           0,
           0,
           0,
           0,
           0,
           0,
           0,
           0,
           0,
           0,
           0,
           0,
           0,
           0,
           0,
           0,
           0,
           0,
           0,
           1
          ],
          [
           0,
           0,
           3,
           1,
           0,
           0,
           0,
           0,
           0,
           0,
           0,
           0,
           0,
           0,
           0,
           0,
           20,
           0,
           0,
           1,
           0,
           0,
           8
          ],
          [
           0,
           0,
           0,
           0,
           0,
           0,
           0,
           0,
           0,
           0,
           0,
           0,
           0,
           0,
           0,
           0,
           0,
           14,
           0,
           0,
           0,
           2,
           0
          ],
          [
           0,
           0,
           0,
           0,
           0,
           0,
           0,
           0,
           0,
           0,
           0,
           0,
           0,
           0,
           0,
           0,
           0,
           0,
           3,
           0,
           0,
           0,
           0
          ],
          [
           0,
           0,
           0,
           0,
           0,
           0,
           0,
           0,
           0,
           0,
           0,
           0,
           0,
           0,
           0,
           0,
           0,
           0,
           0,
           6,
           0,
           0,
           0
          ],
          [
           0,
           0,
           0,
           0,
           0,
           0,
           0,
           0,
           0,
           0,
           0,
           0,
           0,
           0,
           0,
           0,
           0,
           0,
           0,
           0,
           3,
           0,
           18
          ],
          [
           0,
           1,
           0,
           2,
           0,
           0,
           0,
           0,
           0,
           0,
           0,
           0,
           0,
           0,
           0,
           0,
           0,
           0,
           0,
           0,
           0,
           10,
           0
          ],
          [
           1,
           0,
           0,
           0,
           3,
           0,
           0,
           0,
           0,
           0,
           0,
           0,
           0,
           5,
           0,
           0,
           8,
           0,
           0,
           0,
           4,
           0,
           137
          ]
         ],
         "type": "heatmap",
         "x": [
          "at",
          "bo",
          "cl",
          "fnas",
          "fnfr",
          "fnme",
          "kwde",
          "kwfl",
          "kwfn",
          "kwim",
          "kwio",
          "kwmo",
          "kwop",
          "kwty",
          "kwva",
          "li",
          "mo",
          "opbi",
          "opcm",
          "opun",
          "pa",
          "sy",
          "va"
         ],
         "y": [
          "at",
          "bo",
          "cl",
          "fnas",
          "fnfr",
          "fnme",
          "kwde",
          "kwfl",
          "kwfn",
          "kwim",
          "kwio",
          "kwmo",
          "kwop",
          "kwty",
          "kwva",
          "li",
          "mo",
          "opbi",
          "opcm",
          "opun",
          "pa",
          "sy",
          "va"
         ],
         "z": [
          [
           3.332204510175204,
           2.302585092994046,
           2.302585092994046,
           2.302585092994046,
           2.302585092994046,
           2.3978952727983707,
           2.302585092994046,
           2.302585092994046,
           2.302585092994046,
           2.302585092994046,
           2.302585092994046,
           2.302585092994046,
           2.302585092994046,
           2.302585092994046,
           2.302585092994046,
           2.302585092994046,
           2.302585092994046,
           2.302585092994046,
           2.302585092994046,
           2.302585092994046,
           2.302585092994046,
           2.302585092994046,
           2.302585092994046
          ],
          [
           2.302585092994046,
           2.833213344056216,
           2.302585092994046,
           2.302585092994046,
           2.302585092994046,
           2.302585092994046,
           2.302585092994046,
           2.302585092994046,
           2.302585092994046,
           2.302585092994046,
           2.302585092994046,
           2.302585092994046,
           2.302585092994046,
           2.302585092994046,
           2.302585092994046,
           2.302585092994046,
           2.302585092994046,
           2.302585092994046,
           2.302585092994046,
           2.302585092994046,
           2.302585092994046,
           2.302585092994046,
           2.3978952727983707
          ],
          [
           2.3978952727983707,
           2.302585092994046,
           2.9444389791664403,
           2.3978952727983707,
           2.4849066497880004,
           2.302585092994046,
           2.302585092994046,
           2.302585092994046,
           2.302585092994046,
           2.302585092994046,
           2.302585092994046,
           2.302585092994046,
           2.302585092994046,
           2.302585092994046,
           2.302585092994046,
           2.302585092994046,
           2.4849066497880004,
           2.302585092994046,
           2.302585092994046,
           2.302585092994046,
           2.302585092994046,
           2.302585092994046,
           2.8903717578961645
          ],
          [
           2.302585092994046,
           2.302585092994046,
           2.302585092994046,
           2.995732273553991,
           2.302585092994046,
           2.6390573296152584,
           2.302585092994046,
           2.302585092994046,
           2.302585092994046,
           2.302585092994046,
           2.302585092994046,
           2.302585092994046,
           2.302585092994046,
           2.302585092994046,
           2.302585092994046,
           2.302585092994046,
           2.302585092994046,
           2.302585092994046,
           2.302585092994046,
           2.302585092994046,
           2.302585092994046,
           2.302585092994046,
           2.302585092994046
          ],
          [
           2.302585092994046,
           2.302585092994046,
           2.302585092994046,
           2.302585092994046,
           3.9318256327243257,
           2.302585092994046,
           2.302585092994046,
           2.302585092994046,
           2.302585092994046,
           2.302585092994046,
           2.302585092994046,
           2.302585092994046,
           2.302585092994046,
           2.302585092994046,
           2.302585092994046,
           2.302585092994046,
           2.3978952727983707,
           2.302585092994046,
           2.302585092994046,
           2.302585092994046,
           2.302585092994046,
           2.302585092994046,
           2.302585092994046
          ],
          [
           2.302585092994046,
           2.302585092994046,
           2.302585092994046,
           2.6390573296152584,
           2.302585092994046,
           3.2188758248682006,
           2.302585092994046,
           2.302585092994046,
           2.302585092994046,
           2.302585092994046,
           2.302585092994046,
           2.302585092994046,
           2.302585092994046,
           2.302585092994046,
           2.302585092994046,
           2.302585092994046,
           2.302585092994046,
           2.302585092994046,
           2.302585092994046,
           2.302585092994046,
           2.302585092994046,
           2.302585092994046,
           2.302585092994046
          ],
          [
           2.302585092994046,
           2.302585092994046,
           2.4849066497880004,
           2.302585092994046,
           2.302585092994046,
           2.302585092994046,
           2.3978952727983707,
           2.302585092994046,
           2.302585092994046,
           2.302585092994046,
           2.302585092994046,
           2.302585092994046,
           2.302585092994046,
           2.302585092994046,
           2.302585092994046,
           2.302585092994046,
           2.302585092994046,
           2.302585092994046,
           2.302585092994046,
           2.302585092994046,
           2.302585092994046,
           2.302585092994046,
           2.302585092994046
          ],
          [
           2.302585092994046,
           2.302585092994046,
           2.302585092994046,
           2.302585092994046,
           2.302585092994046,
           2.302585092994046,
           2.302585092994046,
           3.8066624897703196,
           2.302585092994046,
           2.302585092994046,
           2.302585092994046,
           2.302585092994046,
           2.302585092994046,
           2.302585092994046,
           2.302585092994046,
           2.302585092994046,
           2.302585092994046,
           2.302585092994046,
           2.302585092994046,
           2.302585092994046,
           2.302585092994046,
           2.302585092994046,
           2.3978952727983707
          ],
          [
           2.302585092994046,
           2.302585092994046,
           2.302585092994046,
           2.302585092994046,
           2.302585092994046,
           2.302585092994046,
           2.302585092994046,
           2.302585092994046,
           2.772588722239781,
           2.302585092994046,
           2.302585092994046,
           2.302585092994046,
           2.302585092994046,
           2.302585092994046,
           2.302585092994046,
           2.302585092994046,
           2.302585092994046,
           2.302585092994046,
           2.302585092994046,
           2.302585092994046,
           2.302585092994046,
           2.302585092994046,
           2.302585092994046
          ],
          [
           2.302585092994046,
           2.302585092994046,
           2.302585092994046,
           2.302585092994046,
           2.302585092994046,
           2.302585092994046,
           2.302585092994046,
           2.302585092994046,
           2.302585092994046,
           3.1780538303479458,
           2.302585092994046,
           2.302585092994046,
           2.302585092994046,
           2.302585092994046,
           2.302585092994046,
           2.302585092994046,
           2.302585092994046,
           2.302585092994046,
           2.302585092994046,
           2.302585092994046,
           2.302585092994046,
           2.302585092994046,
           2.302585092994046
          ],
          [
           2.302585092994046,
           2.302585092994046,
           2.302585092994046,
           2.302585092994046,
           2.302585092994046,
           2.302585092994046,
           2.302585092994046,
           2.302585092994046,
           2.302585092994046,
           2.302585092994046,
           2.5649493574615367,
           2.302585092994046,
           2.302585092994046,
           2.302585092994046,
           2.302585092994046,
           2.302585092994046,
           2.302585092994046,
           2.302585092994046,
           2.302585092994046,
           2.302585092994046,
           2.302585092994046,
           2.302585092994046,
           2.6390573296152584
          ],
          [
           2.302585092994046,
           2.302585092994046,
           2.302585092994046,
           2.302585092994046,
           2.302585092994046,
           2.302585092994046,
           2.302585092994046,
           2.302585092994046,
           2.302585092994046,
           2.302585092994046,
           2.302585092994046,
           2.4849066497880004,
           2.302585092994046,
           2.302585092994046,
           2.302585092994046,
           2.302585092994046,
           2.302585092994046,
           2.302585092994046,
           2.302585092994046,
           2.302585092994046,
           2.302585092994046,
           2.302585092994046,
           2.3978952727983707
          ],
          [
           2.302585092994046,
           2.302585092994046,
           2.302585092994046,
           2.302585092994046,
           2.302585092994046,
           2.302585092994046,
           2.302585092994046,
           2.302585092994046,
           2.302585092994046,
           2.302585092994046,
           2.302585092994046,
           2.302585092994046,
           3.1354942159291497,
           2.302585092994046,
           2.302585092994046,
           2.302585092994046,
           2.302585092994046,
           2.302585092994046,
           2.3978952727983707,
           2.302585092994046,
           2.302585092994046,
           2.302585092994046,
           2.4849066497880004
          ],
          [
           2.302585092994046,
           2.302585092994046,
           2.302585092994046,
           2.302585092994046,
           2.302585092994046,
           2.302585092994046,
           2.302585092994046,
           2.302585092994046,
           2.302585092994046,
           2.302585092994046,
           2.302585092994046,
           2.302585092994046,
           2.302585092994046,
           2.70805020110221,
           2.302585092994046,
           2.302585092994046,
           2.302585092994046,
           2.302585092994046,
           2.302585092994046,
           2.302585092994046,
           2.302585092994046,
           2.302585092994046,
           2.302585092994046
          ],
          [
           2.302585092994046,
           2.302585092994046,
           2.4849066497880004,
           2.302585092994046,
           2.302585092994046,
           2.302585092994046,
           2.302585092994046,
           2.302585092994046,
           2.302585092994046,
           2.302585092994046,
           2.302585092994046,
           2.302585092994046,
           2.302585092994046,
           2.302585092994046,
           2.772588722239781,
           2.302585092994046,
           2.302585092994046,
           2.302585092994046,
           2.302585092994046,
           2.302585092994046,
           2.302585092994046,
           2.302585092994046,
           2.302585092994046
          ],
          [
           2.302585092994046,
           2.302585092994046,
           2.302585092994046,
           2.302585092994046,
           2.302585092994046,
           2.302585092994046,
           2.302585092994046,
           2.302585092994046,
           2.302585092994046,
           2.302585092994046,
           2.302585092994046,
           2.302585092994046,
           2.302585092994046,
           2.302585092994046,
           2.302585092994046,
           2.302585092994046,
           2.302585092994046,
           2.302585092994046,
           2.302585092994046,
           2.302585092994046,
           2.302585092994046,
           2.302585092994046,
           2.3978952727983707
          ],
          [
           2.302585092994046,
           2.302585092994046,
           2.5649493574615367,
           2.3978952727983707,
           2.302585092994046,
           2.302585092994046,
           2.302585092994046,
           2.302585092994046,
           2.302585092994046,
           2.302585092994046,
           2.302585092994046,
           2.302585092994046,
           2.302585092994046,
           2.302585092994046,
           2.302585092994046,
           2.302585092994046,
           3.4011973816621555,
           2.302585092994046,
           2.302585092994046,
           2.3978952727983707,
           2.302585092994046,
           2.302585092994046,
           2.8903717578961645
          ],
          [
           2.302585092994046,
           2.302585092994046,
           2.302585092994046,
           2.302585092994046,
           2.302585092994046,
           2.302585092994046,
           2.302585092994046,
           2.302585092994046,
           2.302585092994046,
           2.302585092994046,
           2.302585092994046,
           2.302585092994046,
           2.302585092994046,
           2.302585092994046,
           2.302585092994046,
           2.302585092994046,
           2.302585092994046,
           3.1780538303479458,
           2.302585092994046,
           2.302585092994046,
           2.302585092994046,
           2.4849066497880004,
           2.302585092994046
          ],
          [
           2.302585092994046,
           2.302585092994046,
           2.302585092994046,
           2.302585092994046,
           2.302585092994046,
           2.302585092994046,
           2.302585092994046,
           2.302585092994046,
           2.302585092994046,
           2.302585092994046,
           2.302585092994046,
           2.302585092994046,
           2.302585092994046,
           2.302585092994046,
           2.302585092994046,
           2.302585092994046,
           2.302585092994046,
           2.302585092994046,
           2.5649493574615367,
           2.302585092994046,
           2.302585092994046,
           2.302585092994046,
           2.302585092994046
          ],
          [
           2.302585092994046,
           2.302585092994046,
           2.302585092994046,
           2.302585092994046,
           2.302585092994046,
           2.302585092994046,
           2.302585092994046,
           2.302585092994046,
           2.302585092994046,
           2.302585092994046,
           2.302585092994046,
           2.302585092994046,
           2.302585092994046,
           2.302585092994046,
           2.302585092994046,
           2.302585092994046,
           2.302585092994046,
           2.302585092994046,
           2.302585092994046,
           2.772588722239781,
           2.302585092994046,
           2.302585092994046,
           2.302585092994046
          ],
          [
           2.302585092994046,
           2.302585092994046,
           2.302585092994046,
           2.302585092994046,
           2.302585092994046,
           2.302585092994046,
           2.302585092994046,
           2.302585092994046,
           2.302585092994046,
           2.302585092994046,
           2.302585092994046,
           2.302585092994046,
           2.302585092994046,
           2.302585092994046,
           2.302585092994046,
           2.302585092994046,
           2.302585092994046,
           2.302585092994046,
           2.302585092994046,
           2.302585092994046,
           2.5649493574615367,
           2.302585092994046,
           3.332204510175204
          ],
          [
           2.302585092994046,
           2.3978952727983707,
           2.302585092994046,
           2.4849066497880004,
           2.302585092994046,
           2.302585092994046,
           2.302585092994046,
           2.302585092994046,
           2.302585092994046,
           2.302585092994046,
           2.302585092994046,
           2.302585092994046,
           2.302585092994046,
           2.302585092994046,
           2.302585092994046,
           2.302585092994046,
           2.302585092994046,
           2.302585092994046,
           2.302585092994046,
           2.302585092994046,
           2.302585092994046,
           2.995732273553991,
           2.302585092994046
          ],
          [
           2.3978952727983707,
           2.302585092994046,
           2.302585092994046,
           2.302585092994046,
           2.5649493574615367,
           2.302585092994046,
           2.302585092994046,
           2.302585092994046,
           2.302585092994046,
           2.302585092994046,
           2.302585092994046,
           2.302585092994046,
           2.302585092994046,
           2.70805020110221,
           2.302585092994046,
           2.302585092994046,
           2.8903717578961645,
           2.302585092994046,
           2.302585092994046,
           2.302585092994046,
           2.6390573296152584,
           2.302585092994046,
           4.990432586778736
          ]
         ]
        }
       ],
       "layout": {
        "height": 400,
        "template": {
         "data": {
          "bar": [
           {
            "error_x": {
             "color": "#f2f5fa"
            },
            "error_y": {
             "color": "#f2f5fa"
            },
            "marker": {
             "line": {
              "color": "rgb(17,17,17)",
              "width": 0.5
             },
             "pattern": {
              "fillmode": "overlay",
              "size": 10,
              "solidity": 0.2
             }
            },
            "type": "bar"
           }
          ],
          "barpolar": [
           {
            "marker": {
             "line": {
              "color": "rgb(17,17,17)",
              "width": 0.5
             },
             "pattern": {
              "fillmode": "overlay",
              "size": 10,
              "solidity": 0.2
             }
            },
            "type": "barpolar"
           }
          ],
          "carpet": [
           {
            "aaxis": {
             "endlinecolor": "#A2B1C6",
             "gridcolor": "#506784",
             "linecolor": "#506784",
             "minorgridcolor": "#506784",
             "startlinecolor": "#A2B1C6"
            },
            "baxis": {
             "endlinecolor": "#A2B1C6",
             "gridcolor": "#506784",
             "linecolor": "#506784",
             "minorgridcolor": "#506784",
             "startlinecolor": "#A2B1C6"
            },
            "type": "carpet"
           }
          ],
          "choropleth": [
           {
            "colorbar": {
             "outlinewidth": 0,
             "ticks": ""
            },
            "type": "choropleth"
           }
          ],
          "contour": [
           {
            "colorbar": {
             "outlinewidth": 0,
             "ticks": ""
            },
            "colorscale": [
             [
              0,
              "#0d0887"
             ],
             [
              0.1111111111111111,
              "#46039f"
             ],
             [
              0.2222222222222222,
              "#7201a8"
             ],
             [
              0.3333333333333333,
              "#9c179e"
             ],
             [
              0.4444444444444444,
              "#bd3786"
             ],
             [
              0.5555555555555556,
              "#d8576b"
             ],
             [
              0.6666666666666666,
              "#ed7953"
             ],
             [
              0.7777777777777778,
              "#fb9f3a"
             ],
             [
              0.8888888888888888,
              "#fdca26"
             ],
             [
              1,
              "#f0f921"
             ]
            ],
            "type": "contour"
           }
          ],
          "contourcarpet": [
           {
            "colorbar": {
             "outlinewidth": 0,
             "ticks": ""
            },
            "type": "contourcarpet"
           }
          ],
          "heatmap": [
           {
            "colorbar": {
             "outlinewidth": 0,
             "ticks": ""
            },
            "colorscale": [
             [
              0,
              "#0d0887"
             ],
             [
              0.1111111111111111,
              "#46039f"
             ],
             [
              0.2222222222222222,
              "#7201a8"
             ],
             [
              0.3333333333333333,
              "#9c179e"
             ],
             [
              0.4444444444444444,
              "#bd3786"
             ],
             [
              0.5555555555555556,
              "#d8576b"
             ],
             [
              0.6666666666666666,
              "#ed7953"
             ],
             [
              0.7777777777777778,
              "#fb9f3a"
             ],
             [
              0.8888888888888888,
              "#fdca26"
             ],
             [
              1,
              "#f0f921"
             ]
            ],
            "type": "heatmap"
           }
          ],
          "heatmapgl": [
           {
            "colorbar": {
             "outlinewidth": 0,
             "ticks": ""
            },
            "colorscale": [
             [
              0,
              "#0d0887"
             ],
             [
              0.1111111111111111,
              "#46039f"
             ],
             [
              0.2222222222222222,
              "#7201a8"
             ],
             [
              0.3333333333333333,
              "#9c179e"
             ],
             [
              0.4444444444444444,
              "#bd3786"
             ],
             [
              0.5555555555555556,
              "#d8576b"
             ],
             [
              0.6666666666666666,
              "#ed7953"
             ],
             [
              0.7777777777777778,
              "#fb9f3a"
             ],
             [
              0.8888888888888888,
              "#fdca26"
             ],
             [
              1,
              "#f0f921"
             ]
            ],
            "type": "heatmapgl"
           }
          ],
          "histogram": [
           {
            "marker": {
             "pattern": {
              "fillmode": "overlay",
              "size": 10,
              "solidity": 0.2
             }
            },
            "type": "histogram"
           }
          ],
          "histogram2d": [
           {
            "colorbar": {
             "outlinewidth": 0,
             "ticks": ""
            },
            "colorscale": [
             [
              0,
              "#0d0887"
             ],
             [
              0.1111111111111111,
              "#46039f"
             ],
             [
              0.2222222222222222,
              "#7201a8"
             ],
             [
              0.3333333333333333,
              "#9c179e"
             ],
             [
              0.4444444444444444,
              "#bd3786"
             ],
             [
              0.5555555555555556,
              "#d8576b"
             ],
             [
              0.6666666666666666,
              "#ed7953"
             ],
             [
              0.7777777777777778,
              "#fb9f3a"
             ],
             [
              0.8888888888888888,
              "#fdca26"
             ],
             [
              1,
              "#f0f921"
             ]
            ],
            "type": "histogram2d"
           }
          ],
          "histogram2dcontour": [
           {
            "colorbar": {
             "outlinewidth": 0,
             "ticks": ""
            },
            "colorscale": [
             [
              0,
              "#0d0887"
             ],
             [
              0.1111111111111111,
              "#46039f"
             ],
             [
              0.2222222222222222,
              "#7201a8"
             ],
             [
              0.3333333333333333,
              "#9c179e"
             ],
             [
              0.4444444444444444,
              "#bd3786"
             ],
             [
              0.5555555555555556,
              "#d8576b"
             ],
             [
              0.6666666666666666,
              "#ed7953"
             ],
             [
              0.7777777777777778,
              "#fb9f3a"
             ],
             [
              0.8888888888888888,
              "#fdca26"
             ],
             [
              1,
              "#f0f921"
             ]
            ],
            "type": "histogram2dcontour"
           }
          ],
          "mesh3d": [
           {
            "colorbar": {
             "outlinewidth": 0,
             "ticks": ""
            },
            "type": "mesh3d"
           }
          ],
          "parcoords": [
           {
            "line": {
             "colorbar": {
              "outlinewidth": 0,
              "ticks": ""
             }
            },
            "type": "parcoords"
           }
          ],
          "pie": [
           {
            "automargin": true,
            "type": "pie"
           }
          ],
          "scatter": [
           {
            "marker": {
             "line": {
              "color": "#283442"
             }
            },
            "type": "scatter"
           }
          ],
          "scatter3d": [
           {
            "line": {
             "colorbar": {
              "outlinewidth": 0,
              "ticks": ""
             }
            },
            "marker": {
             "colorbar": {
              "outlinewidth": 0,
              "ticks": ""
             }
            },
            "type": "scatter3d"
           }
          ],
          "scattercarpet": [
           {
            "marker": {
             "colorbar": {
              "outlinewidth": 0,
              "ticks": ""
             }
            },
            "type": "scattercarpet"
           }
          ],
          "scattergeo": [
           {
            "marker": {
             "colorbar": {
              "outlinewidth": 0,
              "ticks": ""
             }
            },
            "type": "scattergeo"
           }
          ],
          "scattergl": [
           {
            "marker": {
             "line": {
              "color": "#283442"
             }
            },
            "type": "scattergl"
           }
          ],
          "scattermapbox": [
           {
            "marker": {
             "colorbar": {
              "outlinewidth": 0,
              "ticks": ""
             }
            },
            "type": "scattermapbox"
           }
          ],
          "scatterpolar": [
           {
            "marker": {
             "colorbar": {
              "outlinewidth": 0,
              "ticks": ""
             }
            },
            "type": "scatterpolar"
           }
          ],
          "scatterpolargl": [
           {
            "marker": {
             "colorbar": {
              "outlinewidth": 0,
              "ticks": ""
             }
            },
            "type": "scatterpolargl"
           }
          ],
          "scatterternary": [
           {
            "marker": {
             "colorbar": {
              "outlinewidth": 0,
              "ticks": ""
             }
            },
            "type": "scatterternary"
           }
          ],
          "surface": [
           {
            "colorbar": {
             "outlinewidth": 0,
             "ticks": ""
            },
            "colorscale": [
             [
              0,
              "#0d0887"
             ],
             [
              0.1111111111111111,
              "#46039f"
             ],
             [
              0.2222222222222222,
              "#7201a8"
             ],
             [
              0.3333333333333333,
              "#9c179e"
             ],
             [
              0.4444444444444444,
              "#bd3786"
             ],
             [
              0.5555555555555556,
              "#d8576b"
             ],
             [
              0.6666666666666666,
              "#ed7953"
             ],
             [
              0.7777777777777778,
              "#fb9f3a"
             ],
             [
              0.8888888888888888,
              "#fdca26"
             ],
             [
              1,
              "#f0f921"
             ]
            ],
            "type": "surface"
           }
          ],
          "table": [
           {
            "cells": {
             "fill": {
              "color": "#506784"
             },
             "line": {
              "color": "rgb(17,17,17)"
             }
            },
            "header": {
             "fill": {
              "color": "#2a3f5f"
             },
             "line": {
              "color": "rgb(17,17,17)"
             }
            },
            "type": "table"
           }
          ]
         },
         "layout": {
          "annotationdefaults": {
           "arrowcolor": "#f2f5fa",
           "arrowhead": 0,
           "arrowwidth": 1
          },
          "autosize": false,
          "autotypenumbers": "strict",
          "coloraxis": {
           "colorbar": {
            "outlinewidth": 0,
            "ticks": ""
           }
          },
          "colorscale": {
           "diverging": [
            [
             0,
             "#8e0152"
            ],
            [
             0.1,
             "#c51b7d"
            ],
            [
             0.2,
             "#de77ae"
            ],
            [
             0.3,
             "#f1b6da"
            ],
            [
             0.4,
             "#fde0ef"
            ],
            [
             0.5,
             "#f7f7f7"
            ],
            [
             0.6,
             "#e6f5d0"
            ],
            [
             0.7,
             "#b8e186"
            ],
            [
             0.8,
             "#7fbc41"
            ],
            [
             0.9,
             "#4d9221"
            ],
            [
             1,
             "#276419"
            ]
           ],
           "sequential": [
            [
             0,
             "#0d0887"
            ],
            [
             0.1111111111111111,
             "#46039f"
            ],
            [
             0.2222222222222222,
             "#7201a8"
            ],
            [
             0.3333333333333333,
             "#9c179e"
            ],
            [
             0.4444444444444444,
             "#bd3786"
            ],
            [
             0.5555555555555556,
             "#d8576b"
            ],
            [
             0.6666666666666666,
             "#ed7953"
            ],
            [
             0.7777777777777778,
             "#fb9f3a"
            ],
            [
             0.8888888888888888,
             "#fdca26"
            ],
            [
             1,
             "#f0f921"
            ]
           ],
           "sequentialminus": [
            [
             0,
             "#0d0887"
            ],
            [
             0.1111111111111111,
             "#46039f"
            ],
            [
             0.2222222222222222,
             "#7201a8"
            ],
            [
             0.3333333333333333,
             "#9c179e"
            ],
            [
             0.4444444444444444,
             "#bd3786"
            ],
            [
             0.5555555555555556,
             "#d8576b"
            ],
            [
             0.6666666666666666,
             "#ed7953"
            ],
            [
             0.7777777777777778,
             "#fb9f3a"
            ],
            [
             0.8888888888888888,
             "#fdca26"
            ],
            [
             1,
             "#f0f921"
            ]
           ]
          },
          "colorway": [
           "#636efa",
           "#EF553B",
           "#00cc96",
           "#ab63fa",
           "#FFA15A",
           "#19d3f3",
           "#FF6692",
           "#B6E880",
           "#FF97FF",
           "#FECB52"
          ],
          "font": {
           "color": "#f2f5fa"
          },
          "geo": {
           "bgcolor": "rgb(17,17,17)",
           "lakecolor": "rgb(17,17,17)",
           "landcolor": "rgb(17,17,17)",
           "showlakes": true,
           "showland": true,
           "subunitcolor": "#506784"
          },
          "height": 300,
          "hoverlabel": {
           "align": "left"
          },
          "hovermode": "closest",
          "mapbox": {
           "style": "dark"
          },
          "margin": {
           "b": 40,
           "l": 40,
           "r": 40,
           "t": 40
          },
          "paper_bgcolor": "rgba(0,0,0,0)",
          "plot_bgcolor": "rgba(0,0,0,0)",
          "polar": {
           "angularaxis": {
            "gridcolor": "#506784",
            "linecolor": "#506784",
            "ticks": ""
           },
           "bgcolor": "rgb(17,17,17)",
           "radialaxis": {
            "gridcolor": "#506784",
            "linecolor": "#506784",
            "ticks": ""
           }
          },
          "scene": {
           "xaxis": {
            "backgroundcolor": "rgb(17,17,17)",
            "gridcolor": "#506784",
            "gridwidth": 2,
            "linecolor": "#506784",
            "showbackground": true,
            "ticks": "",
            "zerolinecolor": "#C8D4E3"
           },
           "yaxis": {
            "backgroundcolor": "rgb(17,17,17)",
            "gridcolor": "#506784",
            "gridwidth": 2,
            "linecolor": "#506784",
            "showbackground": true,
            "ticks": "",
            "zerolinecolor": "#C8D4E3"
           },
           "zaxis": {
            "backgroundcolor": "rgb(17,17,17)",
            "gridcolor": "#506784",
            "gridwidth": 2,
            "linecolor": "#506784",
            "showbackground": true,
            "ticks": "",
            "zerolinecolor": "#C8D4E3"
           }
          },
          "shapedefaults": {
           "line": {
            "color": "#f2f5fa"
           }
          },
          "sliderdefaults": {
           "bgcolor": "#C8D4E3",
           "bordercolor": "rgb(17,17,17)",
           "borderwidth": 1,
           "tickwidth": 0
          },
          "ternary": {
           "aaxis": {
            "gridcolor": "#506784",
            "linecolor": "#506784",
            "ticks": ""
           },
           "baxis": {
            "gridcolor": "#506784",
            "linecolor": "#506784",
            "ticks": ""
           },
           "bgcolor": "rgb(17,17,17)",
           "caxis": {
            "gridcolor": "#506784",
            "linecolor": "#506784",
            "ticks": ""
           }
          },
          "title": {
           "x": 0.05
          },
          "updatemenudefaults": {
           "bgcolor": "#506784",
           "borderwidth": 0
          },
          "width": 600,
          "xaxis": {
           "automargin": true,
           "gridcolor": "#283442",
           "linecolor": "#506784",
           "ticks": "",
           "title": {
            "standoff": 15
           },
           "zerolinecolor": "#283442",
           "zerolinewidth": 2
          },
          "yaxis": {
           "automargin": true,
           "gridcolor": "#283442",
           "linecolor": "#506784",
           "ticks": "",
           "title": {
            "standoff": 15
           },
           "zerolinecolor": "#283442",
           "zerolinewidth": 2
          }
         }
        },
        "title": {
         "text": "Confusions (log(count + 10))"
        },
        "width": 480,
        "xaxis": {
         "dtick": 1,
         "title": {
          "text": "prediction"
         },
         "type": "category"
        },
        "yaxis": {
         "dtick": 1,
         "scaleanchor": "x",
         "title": {
          "text": "true"
         },
         "type": "category"
        }
       }
      }
     },
     "metadata": {},
     "output_type": "display_data"
    }
   ],
   "source": [
    "pred_tags = []\n",
    "true_tags = []\n",
    "\n",
    "for pred, true_t, det in zip(\n",
    "    predictions, val_tag_true_idx, val_tag_det_idx, strict=True\n",
    "):\n",
    "    for p, t, d in zip(pred, true_t, det):\n",
    "        if tag_vocab[d] == \"uk\":\n",
    "            tp = tag_vocab[p.item()]\n",
    "            tt = tag_vocab[t]\n",
    "            true_tags.append(tt)\n",
    "            pred_tags.append(tp)\n",
    "print(len(pred_tags), len(true_tags))\n",
    "\n",
    "labels_left = sorted(set(pred_tags + true_tags))\n",
    "\n",
    "acc = metrics.accuracy_score(true_tags, pred_tags)\n",
    "print(\"accuracy\", acc)\n",
    "f1_macro = metrics.f1_score(true_tags, pred_tags, average=\"macro\")\n",
    "print(\"F1_macro\", f1_macro)\n",
    "\n",
    "confmat = metrics.confusion_matrix(true_tags, pred_tags, labels=labels_left)\n",
    "\n",
    "dtplot.heatmap(\n",
    "    confmat,\n",
    "    labels_left,\n",
    "    log_scale=True,\n",
    "    pseudo_count=10,\n",
    "    size=400,\n",
    ").update_layout(title=\"Confusions (log(count + 10))\").show()"
   ]
  },
  {
   "cell_type": "markdown",
   "metadata": {},
   "source": [
    "## check output\n"
   ]
  },
  {
   "cell_type": "code",
   "execution_count": 58,
   "metadata": {},
   "outputs": [
    {
     "name": "stdout",
     "output_type": "stream",
     "text": [
      "predictions torch.Size([53, 85])\n",
      "x=1\n",
      "['va', 'opas', 'nu']\n",
      "['va', 'opas', 'nu']\n",
      "\n",
      "[2, 3, 4]\n",
      "['brop', 'nu', 'pu', 'ws', 'nu', 'pu', 'ws', 'nu', 'brcl']\n",
      "['brop', 'nu', 'pu', 'ws', 'nu', 'pu', 'ws', 'nu', 'brcl']\n",
      "\n",
      "say \"Hello world\"\n",
      "['kwio', 'ws', 'st']\n",
      "['va', 'ws', 'st']\n",
      "\n",
      "if x == 5:\\\\    print(\"five\")\n",
      "['kwfl', 'ws', 'va', 'ws', 'opcm', 'ws', 'nu', 'sy', 'nl', 'id', 'fnfr', 'brop', 'st', 'brcl']\n",
      "['kwfl', 'ws', 'va', 'ws', 'opcm', 'ws', 'nu', 'sy', 'nl', 'id', 'fnfr', 'brop', 'st', 'brcl']\n",
      "\n",
      "val num = reader.nextInt()\n",
      "['kwva', 'ws', 'va', 'ws', 'opas', 'ws', 'va', 'sy', 'fnme', 'brop', 'brcl']\n",
      "['cl', 'ws', 'va', 'ws', 'opas', 'ws', 'mo', 'sy', 'fnme', 'brop', 'brcl']\n",
      "\n",
      "examples = util.load_examples()\n",
      "['va', 'ws', 'opas', 'ws', 'mo', 'sy', 'fnas', 'brop', 'brcl']\n",
      "['va', 'ws', 'opas', 'ws', 'mo', 'sy', 'fnme', 'brop', 'brcl']\n",
      "\n",
      "val res = if (num % 2 == 0) \"yes\" else \"no\"\n",
      "['kwva', 'ws', 'va', 'ws', 'opas', 'ws', 'kwfl', 'ws', 'brop', 'va', 'ws', 'opbi', 'ws', 'nu', 'ws', 'opcm', 'ws', 'nu', 'brcl', 'ws', 'st', 'ws', 'kwfl', 'ws', 'st']\n",
      "['cl', 'ws', 'va', 'ws', 'opas', 'ws', 'kwfl', 'ws', 'brop', 'va', 'ws', 'opbi', 'ws', 'nu', 'ws', 'opcm', 'ws', 'nu', 'brcl', 'ws', 'st', 'ws', 'kwfl', 'ws', 'st']\n",
      "\n",
      "use num::{integer::Roots, BigUint, One, Zero};\\\\use rayon::prelude::*;\n",
      "['kwim', 'ws', 'mo', 'sy', 'brop', 'mo', 'sy', 'cl', 'pu', 'ws', 'cl', 'pu', 'ws', 'cl', 'pu', 'ws', 'cl', 'brcl', 'pu', 'nl', 'kwim', 'ws', 'mo', 'sy', 'mo', 'sy', 'mo', 'pu']\n",
      "['kwim', 'ws', 'cl', 'sy', 'brop', 'mo', 'sy', 'fnas', 'pu', 'ws', 'va', 'pu', 'ws', 'va', 'pu', 'ws', 'va', 'brcl', 'pu', 'nl', 'kwim', 'ws', 'cl', 'sy', 'fnas', 'sy', 'opun', 'pu']\n",
      "\n",
      "print(\"hello world\")\\\\x = 3\\\\y = 5\\\\\\\\print(x + y)\n",
      "['fnfr', 'brop', 'st', 'brcl', 'nl', 'va', 'ws', 'opas', 'ws', 'nu', 'nl', 'va', 'ws', 'opas', 'ws', 'nu', 'nl', 'fnfr', 'brop', 'va', 'ws', 'opbi', 'ws', 'va', 'brcl']\n",
      "['fnfr', 'brop', 'st', 'brcl', 'nl', 'va', 'ws', 'opas', 'ws', 'nu', 'nl', 'va', 'ws', 'opas', 'ws', 'nu', 'nl', 'fnfr', 'brop', 'va', 'ws', 'opbi', 'ws', 'va', 'brcl']\n",
      "\n",
      "clc; clear; close all;\\\\\\\\%image size\\\\H=100;\\\\W=60;\n",
      "['kwio', 'pu', 'ws', 'kwio', 'pu', 'ws', 'kwio', 'ws', 'li', 'pu', 'nl', 'cofl', 'nl', 'va', 'opas', 'nu', 'pu', 'nl', 'va', 'opas', 'nu', 'pu']\n",
      "['va', 'pu', 'ws', 'va', 'pu', 'ws', 'va', 'ws', 'va', 'pu', 'nl', 'cofl', 'nl', 'va', 'opas', 'nu', 'pu', 'nl', 'va', 'opas', 'nu', 'pu']\n",
      "\n",
      "assert(_player.state == PlayerState.stopped ||\\\\    _player.state == PlayerState.completed);\n",
      "['fnfr', 'brop', 'va', 'sy', 'at', 'ws', 'opcm', 'ws', 'cl', 'sy', 'at', 'ws', 'opbi', 'nl', 'id', 'va', 'sy', 'at', 'ws', 'opcm', 'ws', 'cl', 'sy', 'at', 'brcl', 'pu']\n",
      "['fnfr', 'brop', 'va', 'sy', 'at', 'ws', 'opcm', 'ws', 'va', 'sy', 'at', 'ws', 'va', 'nl', 'id', 'va', 'sy', 'at', 'ws', 'opcm', 'ws', 'va', 'sy', 'at', 'brcl', 'pu']\n",
      "\n",
      "name = \"My name\"\\\\if name == \"My name\"\\\\    return \"Yes, my name\"\\\\else\\\\    return \"Wrong name\"\n",
      "['va', 'ws', 'opas', 'ws', 'st', 'nl', 'kwfl', 'ws', 'va', 'ws', 'opcm', 'ws', 'st', 'nl', 'id', 'kwfl', 'ws', 'st', 'nl', 'kwfl', 'nl', 'id', 'kwfl', 'ws', 'st']\n",
      "['va', 'ws', 'opas', 'ws', 'st', 'nl', 'kwfl', 'ws', 'va', 'ws', 'opcm', 'ws', 'st', 'nl', 'id', 'kwfl', 'ws', 'st', 'nl', 'kwfl', 'nl', 'id', 'kwfl', 'ws', 'st']\n",
      "\n",
      "import numpy as np\\\\from importlib import reload\\\\import color_functions as cf\\\\\\\\_ = reload(cf)\n",
      "['kwim', 'ws', 'mo', 'ws', 'kwim', 'ws', 'mo', 'nl', 'kwim', 'ws', 'mo', 'ws', 'kwim', 'ws', 'fnfr', 'nl', 'kwim', 'ws', 'mo', 'ws', 'kwim', 'ws', 'mo', 'nl', 'va', 'ws', 'opas', 'ws', 'fnfr', 'brop', 'mo', 'brcl']\n",
      "['kwim', 'ws', 'mo', 'ws', 'kwim', 'ws', 'mo', 'nl', 'kwim', 'ws', 'mo', 'ws', 'kwim', 'ws', 'mo', 'nl', 'kwim', 'ws', 'mo', 'ws', 'kwim', 'ws', 'mo', 'nl', 'kwty', 'ws', 'opas', 'ws', 'fnfr', 'brop', 'va', 'brcl']\n",
      "\n",
      "D_kg = distance_matrix(points_k,points_grid);\\\\D_gk = D_kg';\\\\D_gg = distance_matrix(points_grid);\n",
      "['va', 'ws', 'opas', 'ws', 'fnfr', 'brop', 'va', 'pu', 'va', 'brcl', 'pu', 'nl', 'va', 'ws', 'opas', 'ws', 'va', 'opun', 'pu', 'nl', 'va', 'ws', 'opas', 'ws', 'fnfr', 'brop', 'va', 'brcl', 'pu']\n",
      "['va', 'ws', 'opas', 'ws', 'fnfr', 'brop', 'va', 'pu', 'va', 'brcl', 'pu', 'nl', 'va', 'ws', 'opas', 'ws', 'va', 'opun', 'pu', 'nl', 'va', 'ws', 'opas', 'ws', 'fnfr', 'brop', 'va', 'brcl', 'pu']\n",
      "\n",
      "the_response = \"\"\\\\id = 0\\\\while the_response != \"correct\":\\\\    the_response = get_response(id)\\\\    id++;\n",
      "['va', 'ws', 'opas', 'ws', 'st', 'nl', 'va', 'ws', 'opas', 'ws', 'nu', 'nl', 'kwfl', 'ws', 'va', 'ws', 'opcm', 'ws', 'st', 'sy', 'nl', 'id', 'va', 'ws', 'opas', 'ws', 'fnfr', 'brop', 'va', 'brcl', 'nl', 'id', 'va', 'opun', 'pu']\n",
      "['va', 'ws', 'opas', 'ws', 'st', 'nl', 'va', 'ws', 'opas', 'ws', 'nu', 'nl', 'kwfl', 'ws', 'va', 'ws', 'opcm', 'ws', 'st', 'sy', 'nl', 'id', 'va', 'ws', 'opas', 'ws', 'fnfr', 'brop', 'va', 'brcl', 'nl', 'id', 'va', 'opun', 'pu']\n",
      "\n",
      "yhat_v = mu_v + Sigma_vk*(Sigma_kk\\(Y-mu_k));\\\\Sigma_prediction = Sigma_vv - Sigma_vk * (Sigma_kk\\Sigma_kv);\n",
      "['va', 'ws', 'opas', 'ws', 'va', 'ws', 'opbi', 'ws', 'va', 'opbi', 'brop', 'va', 'opbi', 'brop', 'va', 'opbi', 'va', 'brcl', 'brcl', 'pu', 'nl', 'va', 'ws', 'opas', 'ws', 'va', 'ws', 'opbi', 'ws', 'va', 'ws', 'opbi', 'ws', 'brop', 'va', 'opbi', 'va', 'brcl', 'pu']\n",
      "['va', 'ws', 'opas', 'ws', 'va', 'ws', 'opbi', 'ws', 'va', 'opbi', 'brop', 'va', 'sy', 'brop', 'va', 'opbi', 'va', 'brcl', 'brcl', 'pu', 'nl', 'va', 'ws', 'opas', 'ws', 'pa', 'ws', 'opbi', 'ws', 'pa', 'ws', 'opbi', 'ws', 'brop', 'va', 'sy', 'at', 'brcl', 'pu']\n",
      "\n",
      "[par,beta] = covest_ml(D_kk,Y,covf,par_fixed,X_ols,\"ml\");\\\\cov_fitted_d = matern_covariance(d_smooth,par(1),par(2),par(3));\n",
      "['brop', 'va', 'pu', 'va', 'brcl', 'ws', 'opas', 'ws', 'fnfr', 'brop', 'va', 'pu', 'va', 'pu', 'va', 'pu', 'va', 'pu', 'va', 'pu', 'st', 'brcl', 'pu', 'nl', 'va', 'ws', 'opas', 'ws', 'fnfr', 'brop', 'va', 'pu', 'va', 'brop', 'nu', 'brcl', 'pu', 'va', 'brop', 'nu', 'brcl', 'pu', 'va', 'brop', 'nu', 'brcl', 'brcl', 'pu']\n",
      "['brop', 'va', 'pu', 'va', 'brcl', 'ws', 'opas', 'ws', 'fnfr', 'brop', 'va', 'pu', 'va', 'pu', 'va', 'pu', 'va', 'pu', 'va', 'pu', 'st', 'brcl', 'pu', 'nl', 'va', 'ws', 'opas', 'ws', 'fnfr', 'brop', 'va', 'pu', 'fnfr', 'brop', 'nu', 'brcl', 'pu', 'fnfr', 'brop', 'nu', 'brcl', 'pu', 'fnfr', 'brop', 'nu', 'brcl', 'brcl', 'pu']\n",
      "\n",
      "let mut nullspace = Vec::new();\\\\for i in 0..m {\\\\    if mat[i].iter().all(|&x| x == 0) {\\\\        nullspace.push(null_basis[i].clone());\\\\    }\\\\}\n",
      "['kwva', 'ws', 'kwmo', 'ws', 'va', 'ws', 'opas', 'ws', 'cl', 'sy', 'fnas', 'brop', 'brcl', 'pu', 'nl', 'kwfl', 'ws', 'va', 'ws', 'kwop', 'ws', 'nu', 'sy', 'va', 'ws', 'brop', 'nl', 'id', 'kwfl', 'ws', 'va', 'brop', 'va', 'brcl', 'sy', 'fnme', 'brop', 'brcl', 'sy', 'fnme', 'brop', 'sy', 'opun', 'pa', 'sy', 'ws', 'pa', 'ws', 'opcm', 'ws', 'nu', 'brcl', 'ws', 'brop', 'nl', 'id', 'va', 'sy', 'fnme', 'brop', 'va', 'brop', 'va', 'brcl', 'sy', 'fnme', 'brop', 'brcl', 'brcl', 'pu', 'nl', 'id', 'brcl', 'nl', 'brcl']\n",
      "['kwva', 'ws', 'kwmo', 'ws', 'va', 'ws', 'opas', 'ws', 'cl', 'sy', 'fnas', 'brop', 'brcl', 'pu', 'nl', 'kwfl', 'ws', 'va', 'ws', 'kwop', 'ws', 'nu', 'sy', 'va', 'ws', 'brop', 'nl', 'id', 'kwfl', 'ws', 'va', 'brop', 'va', 'brcl', 'sy', 'fnme', 'brop', 'brcl', 'sy', 'fnme', 'brop', 'sy', 'opun', 'pa', 'sy', 'ws', 'va', 'ws', 'opcm', 'ws', 'nu', 'brcl', 'ws', 'brop', 'nl', 'id', 'mo', 'sy', 'fnas', 'brop', 'va', 'brop', 'va', 'brcl', 'sy', 'fnme', 'brop', 'brcl', 'brcl', 'pu', 'nl', 'id', 'brcl', 'nl', 'brcl']\n",
      "\n",
      "plotting.heatmap(\\\\    confmat,\\\\    tag_vocab,\\\\    log_scale=True,\\\\    pseudo_count=10,\\\\    size=500,\\\\).show()\n",
      "['mo', 'sy', 'fnas', 'brop', 'nl', 'id', 'va', 'pu', 'nl', 'id', 'va', 'pu', 'nl', 'id', 'pa', 'opas', 'bo', 'pu', 'nl', 'id', 'pa', 'opas', 'nu', 'pu', 'nl', 'id', 'pa', 'opas', 'nu', 'pu', 'nl', 'brcl', 'sy', 'fnme', 'brop', 'brcl']\n",
      "['mo', 'sy', 'fnas', 'brop', 'nl', 'id', 'va', 'pu', 'nl', 'id', 'va', 'pu', 'nl', 'id', 'va', 'opas', 'bo', 'pu', 'nl', 'id', 'va', 'opas', 'nu', 'pu', 'nl', 'id', 'va', 'opas', 'nu', 'pu', 'nl', 'brcl', 'sy', 'fnme', 'brop', 'brcl']\n",
      "\n",
      "k = sqrt((double)i) + 1.;\n",
      "['va', 'ws', 'opas', 'ws', 'fnfr', 'brop', 'brop', 'kwty', 'brcl', 'va', 'brcl', 'ws', 'opbi', 'ws', 'nu', 'sy', 'pu']\n",
      "['va', 'ws', 'opas', 'ws', 'fnfr', 'brop', 'brop', 'kwty', 'brcl', 'va', 'brcl', 'ws', 'opbi', 'ws', 'nu', 'sy', 'pu']\n",
      "\n",
      "const x = \"100\";\\\\const y = +x;\\\\console.log(typeof y);\n",
      "['kwva', 'ws', 'va', 'ws', 'opas', 'ws', 'st', 'pu', 'nl', 'kwva', 'ws', 'va', 'ws', 'opas', 'ws', 'opun', 'va', 'pu', 'nl', 'va', 'sy', 'fnme', 'brop', 'kwop', 'ws', 'va', 'brcl', 'pu']\n",
      "['kwva', 'ws', 'va', 'ws', 'opas', 'ws', 'st', 'pu', 'nl', 'kwva', 'ws', 'va', 'ws', 'opas', 'ws', 'opun', 'va', 'pu', 'nl', 'va', 'sy', 'fnme', 'brop', 'kwop', 'ws', 'va', 'brcl', 'pu']\n",
      "\n",
      "<?php phpinfo(); ?>\n",
      "['sy', 'sy', 'kwde', 'ws', 'fnfr', 'brop', 'brcl', 'pu', 'ws', 'sy', 'sy']\n",
      "['sy', 'fnas', 'cl', 'ws', 'fnfr', 'brop', 'brcl', 'pu', 'ws', 'bo', 'sy']\n",
      "\n",
      "SELECT name\\\\FROM friends;\n",
      "['kwop', 'ws', 'va', 'nl', 'kwop', 'ws', 'va', 'pu']\n",
      "['kwop', 'ws', 'va', 'nl', 'kwop', 'ws', 'va', 'pu']\n",
      "\n",
      "<?php\\\\$x = 37;\\\\\\\\echo \"hej $37\\n\";\n",
      "['sy', 'sy', 'kwde', 'nl', 'va', 'ws', 'opas', 'ws', 'nu', 'pu', 'nl', 'kwio', 'ws', 'st', 'pu']\n",
      "['sy', 'fnas', 'cl', 'nl', 'va', 'ws', 'opas', 'ws', 'nu', 'pu', 'nl', 'kwio', 'ws', 'st', 'pu']\n",
      "\n",
      "// print 6\\\\Console.WriteLine(3 + 3);\n",
      "['cofl', 'nl', 'cl', 'sy', 'fnas', 'brop', 'nu', 'ws', 'opbi', 'ws', 'nu', 'brcl', 'pu']\n",
      "['cofl', 'nl', 'va', 'sy', 'fnme', 'brop', 'nu', 'ws', 'opbi', 'ws', 'nu', 'brcl', 'pu']\n",
      "\n",
      "$happy = false;\\\\echo $happy == FALSE;\n",
      "['va', 'ws', 'opas', 'ws', 'bo', 'pu', 'nl', 'kwio', 'ws', 'va', 'ws', 'opcm', 'ws', 'bo', 'pu']\n",
      "['va', 'ws', 'opas', 'ws', 'bo', 'pu', 'nl', 'kwio', 'ws', 'va', 'ws', 'opcm', 'ws', 'va', 'pu']\n",
      "\n",
      "int main() {\\\\    std::cout << \"Hello\";\\\\    return 0;\\\\}\n",
      "['kwty', 'ws', 'fnfr', 'brop', 'brcl', 'ws', 'brop', 'nl', 'id', 'mo', 'sy', 'at', 'ws', 'opbi', 'ws', 'st', 'pu', 'nl', 'id', 'kwfl', 'ws', 'nu', 'pu', 'nl', 'brcl']\n",
      "['kwty', 'ws', 'fnfr', 'brop', 'brcl', 'ws', 'brop', 'nl', 'id', 'cl', 'sy', 'at', 'ws', 'va', 'ws', 'st', 'pu', 'nl', 'id', 'kwfl', 'ws', 'nu', 'pu', 'nl', 'brcl']\n",
      "\n",
      "if (aNumber > anotherNumber) {\\\\  System.out.println(\"The first number is larger\");\\\\}\n",
      "['kwfl', 'ws', 'brop', 'va', 'ws', 'opcm', 'ws', 'va', 'brcl', 'ws', 'brop', 'nl', 'id', 'cl', 'sy', 'at', 'sy', 'fnme', 'brop', 'st', 'brcl', 'pu', 'nl', 'brcl']\n",
      "['kwfl', 'ws', 'brop', 'va', 'ws', 'opcm', 'ws', 'va', 'brcl', 'ws', 'brop', 'nl', 'id', 'mo', 'sy', 'at', 'sy', 'fnas', 'brop', 'st', 'brcl', 'pu', 'nl', 'brcl']\n",
      "\n",
      "highlightcolors <- c(\\\\    \"|r*|>3\" = \"red\",\\\\    \"length>200\" = \"magenta\",\\\\    \"all data\" = \"orange\",\\\\    \"excl.length>200\" = \"blue\"\\\\)\n",
      "['va', 'ws', 'opas', 'ws', 'fnfr', 'brop', 'nl', 'id', 'st', 'ws', 'opas', 'ws', 'st', 'pu', 'nl', 'id', 'st', 'ws', 'opas', 'ws', 'st', 'pu', 'nl', 'id', 'st', 'ws', 'opas', 'ws', 'st', 'pu', 'nl', 'id', 'st', 'ws', 'opas', 'ws', 'st', 'nl', 'brcl']\n",
      "['va', 'ws', 'opas', 'ws', 'fnfr', 'brop', 'nl', 'id', 'st', 'ws', 'opas', 'ws', 'st', 'pu', 'nl', 'id', 'st', 'ws', 'opas', 'ws', 'st', 'pu', 'nl', 'id', 'st', 'ws', 'opas', 'ws', 'st', 'pu', 'nl', 'id', 'st', 'ws', 'opas', 'ws', 'st', 'nl', 'brcl']\n",
      "\n",
      "NUMERIC_FEAT = [\\\\    \"age\",\\\\    \"region_code\",\\\\    \"annual_premium\",\\\\    \"policy_sales_channel\",\\\\    \"vintage\",\\\\]\\\\\\\\\\\\FEATS = [*NUMERIC_FEAT, *CATEGORY_FEAT.keys()]\\\\\\\\print(\"all features:\", FEATS)\\\\\\\\TARGET = \"response\"\n",
      "['va', 'ws', 'opas', 'ws', 'brop', 'nl', 'id', 'st', 'pu', 'nl', 'id', 'st', 'pu', 'nl', 'id', 'st', 'pu', 'nl', 'id', 'st', 'pu', 'nl', 'id', 'st', 'pu', 'nl', 'brcl', 'nl', 'va', 'ws', 'opas', 'ws', 'brop', 'opun', 'va', 'pu', 'ws', 'opun', 'va', 'sy', 'fnme', 'brop', 'brcl', 'brcl', 'nl', 'fnfr', 'brop', 'st', 'pu', 'ws', 'va', 'brcl', 'nl', 'va', 'ws', 'opas', 'ws', 'st']\n",
      "['va', 'ws', 'opas', 'ws', 'brop', 'nl', 'id', 'st', 'pu', 'nl', 'id', 'st', 'pu', 'nl', 'id', 'st', 'pu', 'nl', 'id', 'st', 'pu', 'nl', 'id', 'st', 'pu', 'nl', 'brcl', 'nl', 'va', 'ws', 'opas', 'ws', 'brop', 'opun', 'va', 'pu', 'ws', 'opun', 'va', 'sy', 'fnme', 'brop', 'brcl', 'brcl', 'nl', 'fnfr', 'brop', 'st', 'pu', 'ws', 'va', 'brcl', 'nl', 'va', 'ws', 'opas', 'ws', 'st']\n",
      "\n",
      "if True:\\\\    results = model(\\\\        IMAGE_PATH,\\\\        device=DEVICE,\\\\        retina_masks=True,\\\\        imgsz=IMG_SIZE,\\\\        conf=0.2,\\\\        iou=0.9,\\\\    )\\\\    torch.save(results, \"../fast_results\")\\\\\\\\if \"results\" not in locals():\\\\    results = torch.load(\"../fast_results\")\n",
      "['kwfl', 'ws', 'bo', 'sy', 'nl', 'id', 'va', 'ws', 'opas', 'ws', 'fnfr', 'brop', 'nl', 'id', 'va', 'pu', 'nl', 'id', 'pa', 'opas', 'va', 'pu', 'nl', 'id', 'pa', 'opas', 'bo', 'pu', 'nl', 'id', 'pa', 'opas', 'va', 'pu', 'nl', 'id', 'pa', 'opas', 'nu', 'pu', 'nl', 'id', 'pa', 'opas', 'nu', 'pu', 'nl', 'id', 'brcl', 'nl', 'id', 'mo', 'sy', 'fnas', 'brop', 'va', 'pu', 'ws', 'st', 'brcl', 'nl', 'kwfl', 'ws', 'st', 'ws', 'kwop', 'ws', 'kwop', 'ws', 'fnfr', 'brop', 'brcl', 'sy', 'nl', 'id', 'va', 'ws', 'opas', 'ws', 'mo', 'sy', 'fnas', 'brop', 'st', 'brcl']\n",
      "['kwfl', 'ws', 'bo', 'sy', 'nl', 'id', 'va', 'ws', 'opas', 'ws', 'fnfr', 'brop', 'nl', 'id', 'va', 'pu', 'nl', 'id', 'va', 'opas', 'va', 'pu', 'nl', 'id', 'va', 'opas', 'bo', 'pu', 'nl', 'id', 'va', 'opas', 'va', 'pu', 'nl', 'id', 'va', 'opas', 'nu', 'pu', 'nl', 'id', 'va', 'opas', 'nu', 'pu', 'nl', 'id', 'brcl', 'nl', 'id', 'va', 'sy', 'fnme', 'brop', 'va', 'pu', 'ws', 'st', 'brcl', 'nl', 'kwfl', 'ws', 'st', 'ws', 'kwop', 'ws', 'kwop', 'ws', 'fnfr', 'brop', 'brcl', 'sy', 'nl', 'id', 'va', 'ws', 'opas', 'ws', 'mo', 'sy', 'fnas', 'brop', 'st', 'brcl']\n",
      "\n",
      "for (const q of questions) {\\\\    console.log(q.text)\\\\}\n",
      "['kwfl', 'ws', 'brop', 'kwva', 'ws', 'va', 'ws', 'kwop', 'ws', 'va', 'brcl', 'ws', 'brop', 'nl', 'id', 'va', 'sy', 'fnme', 'brop', 'va', 'sy', 'at', 'brcl', 'nl', 'brcl']\n",
      "['kwfl', 'ws', 'brop', 'kwva', 'ws', 'va', 'ws', 'va', 'ws', 'va', 'brcl', 'ws', 'brop', 'nl', 'id', 'va', 'sy', 'fnme', 'brop', 'mo', 'sy', 'at', 'brcl', 'nl', 'brcl']\n",
      "\n",
      "    console.log(\"# questions loaded\", questions.length);\n",
      "['id', 'va', 'sy', 'fnme', 'brop', 'st', 'pu', 'ws', 'va', 'sy', 'at', 'brcl', 'pu']\n",
      "['id', 'va', 'sy', 'fnme', 'brop', 'st', 'pu', 'ws', 'va', 'sy', 'at', 'brcl', 'pu']\n",
      "\n",
      "    def __init__(\\\\        self,\\\\        token_vocab_size,\\\\        label_vocab_size,\\\\        embedding_dim=6,\\\\        hidden_dim=64,\\\\        n_lstm_layers=2,\\\\        dropout_lstm=0.3,\\\\        bidi=True,\\\\    ):\n",
      "['id', 'kwfn', 'ws', 'fnfr', 'brop', 'nl', 'id', 'pa', 'pu', 'nl', 'id', 'pa', 'pu', 'nl', 'id', 'pa', 'pu', 'nl', 'id', 'pa', 'opas', 'nu', 'pu', 'nl', 'id', 'pa', 'opas', 'nu', 'pu', 'nl', 'id', 'pa', 'opas', 'nu', 'pu', 'nl', 'id', 'pa', 'opas', 'nu', 'pu', 'nl', 'id', 'pa', 'opas', 'bo', 'pu', 'nl', 'id', 'brcl', 'sy']\n",
      "['id', 'kwfn', 'ws', 'fnfr', 'brop', 'nl', 'id', 'va', 'pu', 'nl', 'id', 'va', 'pu', 'nl', 'id', 'va', 'pu', 'nl', 'id', 'va', 'opas', 'nu', 'pu', 'nl', 'id', 'va', 'opas', 'nu', 'pu', 'nl', 'id', 'va', 'opas', 'nu', 'pu', 'nl', 'id', 'va', 'opas', 'nu', 'pu', 'nl', 'id', 'va', 'opas', 'bo', 'pu', 'nl', 'id', 'brcl', 'sy']\n",
      "\n",
      "if ($request->hasAny(['abc', 'xyz', 'uvw'])) {\\\\    // this request...\\\\}\n",
      "['kwfl', 'ws', 'brop', 'va', 'sy', 'fnme', 'brop', 'brop', 'st', 'pu', 'ws', 'st', 'pu', 'ws', 'st', 'brcl', 'brcl', 'brcl', 'ws', 'brop', 'nl', 'id', 'cofl', 'nl', 'brcl']\n",
      "['kwfl', 'ws', 'brop', 'va', 'sy', 'fnme', 'brop', 'brop', 'st', 'pu', 'ws', 'st', 'pu', 'ws', 'st', 'brcl', 'brcl', 'brcl', 'ws', 'brop', 'nl', 'id', 'cofl', 'nl', 'brcl']\n",
      "\n",
      "void main(List<String> args) {\n",
      "['kwty', 'ws', 'fnfr', 'brop', 'cl', 'sy', 'cl', 'sy', 'ws', 'pa', 'brcl', 'ws', 'brop']\n",
      "['kwty', 'ws', 'fnfr', 'brop', 'cl', 'sy', 'cl', 'sy', 'ws', 'va', 'brcl', 'ws', 'brop']\n",
      "\n",
      "products = sorted(products, reverse=True)\\\\print(products[0])\n",
      "['va', 'ws', 'opas', 'ws', 'fnfr', 'brop', 'va', 'pu', 'ws', 'pa', 'opas', 'bo', 'brcl', 'nl', 'fnfr', 'brop', 'va', 'brop', 'nu', 'brcl', 'brcl']\n",
      "['va', 'ws', 'opas', 'ws', 'fnfr', 'brop', 'va', 'pu', 'ws', 'pa', 'opas', 'bo', 'brcl', 'nl', 'fnfr', 'brop', 'va', 'brop', 'nu', 'brcl', 'brcl']\n",
      "\n",
      "function Person() {}\\\\\\\\alert( new Person() instanceof Person );\n",
      "['kwfn', 'ws', 'fnfr', 'brop', 'brcl', 'ws', 'brop', 'brcl', 'nl', 'fnfr', 'brop', 'ws', 'kwop', 'ws', 'fnfr', 'brop', 'brcl', 'ws', 'kwop', 'ws', 'cl', 'ws', 'brcl', 'pu']\n",
      "['kwfn', 'ws', 'fnfr', 'brop', 'brcl', 'ws', 'brop', 'brcl', 'nl', 'fnfr', 'brop', 'ws', 'kwop', 'ws', 'fnfr', 'brop', 'brcl', 'ws', 'kwop', 'ws', 'va', 'ws', 'brcl', 'pu']\n",
      "\n",
      "\\\\sum = 0\\\\\\\\for i in range(1000):\\\\    if i % 3 == 0 or i % 5 == 0:\\\\        sum += i\\\\print(sum)\n",
      "['nl', 'va', 'ws', 'opas', 'ws', 'nu', 'nl', 'kwfl', 'ws', 'va', 'ws', 'kwop', 'ws', 'fnfr', 'brop', 'nu', 'brcl', 'sy', 'nl', 'id', 'kwfl', 'ws', 'va', 'ws', 'opbi', 'ws', 'nu', 'ws', 'opcm', 'ws', 'nu', 'ws', 'kwop', 'ws', 'va', 'ws', 'opbi', 'ws', 'nu', 'ws', 'opcm', 'ws', 'nu', 'sy', 'nl', 'id', 'va', 'ws', 'opas', 'ws', 'va', 'nl', 'fnfr', 'brop', 'va', 'brcl']\n",
      "['nl', 'va', 'ws', 'opas', 'ws', 'nu', 'nl', 'kwfl', 'ws', 'va', 'ws', 'kwop', 'ws', 'fnfr', 'brop', 'nu', 'brcl', 'sy', 'nl', 'id', 'kwfl', 'ws', 'va', 'ws', 'opbi', 'ws', 'nu', 'ws', 'opcm', 'ws', 'nu', 'ws', 'va', 'ws', 'va', 'ws', 'opbi', 'ws', 'nu', 'ws', 'opcm', 'ws', 'nu', 'sy', 'nl', 'id', 'va', 'ws', 'opas', 'ws', 'va', 'nl', 'fnfr', 'brop', 'va', 'brcl']\n",
      "\n",
      "max = 20\\\\prime_list = primes(max)\\\\print(prime_list)\\\\\\\\base = 1\\\\for p in prime_list:\\\\    base *= p\n",
      "['va', 'ws', 'opas', 'ws', 'nu', 'nl', 'va', 'ws', 'opas', 'ws', 'fnfr', 'brop', 'va', 'brcl', 'nl', 'fnfr', 'brop', 'va', 'brcl', 'nl', 'va', 'ws', 'opas', 'ws', 'nu', 'nl', 'kwfl', 'ws', 'va', 'ws', 'kwop', 'ws', 'va', 'sy', 'nl', 'id', 'va', 'ws', 'opas', 'ws', 'va']\n",
      "['va', 'ws', 'opas', 'ws', 'nu', 'nl', 'va', 'ws', 'opas', 'ws', 'fnfr', 'brop', 'va', 'brcl', 'nl', 'fnfr', 'brop', 'va', 'brcl', 'nl', 'va', 'ws', 'opas', 'ws', 'nu', 'nl', 'kwfl', 'ws', 'va', 'ws', 'kwop', 'ws', 'va', 'sy', 'nl', 'id', 'va', 'ws', 'va', 'ws', 'va']\n",
      "\n",
      "const text = '{\"name\":\"John\", \"birthday\":\"1986-12-14\"}';\\\\const obj = JSON.parse(text);\\\\obj.birthday = new Date(obj.birthday);\n",
      "['kwva', 'ws', 'va', 'ws', 'opas', 'ws', 'st', 'pu', 'nl', 'kwva', 'ws', 'va', 'ws', 'opas', 'ws', 'mo', 'sy', 'fnas', 'brop', 'va', 'brcl', 'pu', 'nl', 'va', 'sy', 'at', 'ws', 'opas', 'ws', 'kwop', 'ws', 'cl', 'brop', 'va', 'sy', 'at', 'brcl', 'pu']\n",
      "['kwva', 'ws', 'va', 'ws', 'opas', 'ws', 'st', 'pu', 'nl', 'kwva', 'ws', 'va', 'ws', 'opas', 'ws', 'va', 'sy', 'fnas', 'brop', 'va', 'brcl', 'pu', 'nl', 'va', 'sy', 'at', 'ws', 'opas', 'ws', 'kwop', 'ws', 'fnfr', 'brop', 'va', 'sy', 'at', 'brcl', 'pu']\n",
      "\n",
      "Route::middleware('auth')->group(function () {\\\\    Route::get('/dash', function () {\\\\        return view('home');\\\\    })->name('dash');\\\\});\n",
      "['cl', 'sy', 'fnas', 'brop', 'st', 'brcl', 'sy', 'fnme', 'brop', 'kwfn', 'ws', 'brop', 'brcl', 'ws', 'brop', 'nl', 'id', 'cl', 'sy', 'fnas', 'brop', 'st', 'pu', 'ws', 'kwfn', 'ws', 'brop', 'brcl', 'ws', 'brop', 'nl', 'id', 'kwfl', 'ws', 'fnfr', 'brop', 'st', 'brcl', 'pu', 'nl', 'id', 'brcl', 'brcl', 'sy', 'fnme', 'brop', 'st', 'brcl', 'pu', 'nl', 'brcl', 'brcl', 'pu']\n",
      "['cl', 'sy', 'fnas', 'brop', 'st', 'brcl', 'sy', 'fnme', 'brop', 'kwfn', 'ws', 'brop', 'brcl', 'ws', 'brop', 'nl', 'id', 'cl', 'sy', 'fnas', 'brop', 'st', 'pu', 'ws', 'kwfn', 'ws', 'brop', 'brcl', 'ws', 'brop', 'nl', 'id', 'kwfl', 'ws', 'fnfr', 'brop', 'st', 'brcl', 'pu', 'nl', 'id', 'brcl', 'brcl', 'sy', 'fnme', 'brop', 'st', 'brcl', 'pu', 'nl', 'brcl', 'brcl', 'pu']\n",
      "\n",
      "import numpy as np\\\\\\\\x = np.array([[1, 2, 3], [4, 5, 6]], np.int32)\\\\\\\\y = x[:, 1]\\\\y  # array([2, 5], dtype=int32)\\\\y[0] = 9\\\\\\\\print(y)  # array([9, 5], dtype=int32)\\\\print(x)  # array([[1, 9, 3], [4, 5, 6]], dtype=int32)\n",
      "['kwim', 'ws', 'mo', 'ws', 'kwim', 'ws', 'mo', 'nl', 'va', 'ws', 'opas', 'ws', 'mo', 'sy', 'fnas', 'brop', 'brop', 'brop', 'nu', 'pu', 'ws', 'nu', 'pu', 'ws', 'nu', 'brcl', 'pu', 'ws', 'brop', 'nu', 'pu', 'ws', 'nu', 'pu', 'ws', 'nu', 'brcl', 'brcl', 'pu', 'ws', 'mo', 'sy', 'at', 'brcl', 'nl', 'va', 'ws', 'opas', 'ws', 'va', 'brop', 'sy', 'pu', 'ws', 'nu', 'brcl', 'nl', 'va', 'ws', 'coil', 'nl', 'va', 'brop', 'nu', 'brcl', 'ws', 'opas', 'ws', 'nu', 'nl', 'fnfr', 'brop', 'va', 'brcl', 'ws', 'coil', 'nl', 'fnfr', 'brop', 'va', 'brcl', 'ws', 'coil']\n",
      "['kwim', 'ws', 'mo', 'ws', 'kwim', 'ws', 'mo', 'nl', 'va', 'ws', 'opas', 'ws', 'mo', 'sy', 'fnas', 'brop', 'brop', 'brop', 'nu', 'pu', 'ws', 'nu', 'pu', 'ws', 'nu', 'brcl', 'pu', 'ws', 'brop', 'nu', 'pu', 'ws', 'nu', 'pu', 'ws', 'nu', 'brcl', 'brcl', 'pu', 'ws', 'va', 'sy', 'at', 'brcl', 'nl', 'va', 'ws', 'opas', 'ws', 'va', 'brop', 'sy', 'pu', 'ws', 'nu', 'brcl', 'nl', 'va', 'ws', 'brop', 'nl', 'va', 'brop', 'nu', 'brcl', 'ws', 'opas', 'ws', 'nu', 'nl', 'fnfr', 'brop', 'va', 'brcl', 'ws', 'brop', 'nl', 'fnfr', 'brop', 'va', 'brcl', 'ws', 'coil']\n",
      "\n",
      "nn.Bilinear\n",
      "['mo', 'sy', 'cl']\n",
      "['va', 'sy', 'at']\n",
      "\n",
      "double initialX = 1.5;\\\\\\\\class Point {\\\\  late double? z = this.x;\\\\\\\\  Point(this.x, this.y);\\\\}\n",
      "['kwty', 'ws', 'va', 'ws', 'opas', 'ws', 'nu', 'pu', 'nl', 'kwde', 'ws', 'cl', 'ws', 'brop', 'nl', 'id', 'kwmo', 'ws', 'kwty', 'opun', 'ws', 'va', 'ws', 'opas', 'ws', 'va', 'sy', 'at', 'pu', 'nl', 'id', 'cl', 'brop', 'va', 'sy', 'at', 'pu', 'ws', 'va', 'sy', 'at', 'brcl', 'pu', 'nl', 'brcl']\n",
      "['kwty', 'ws', 'va', 'ws', 'opas', 'ws', 'nu', 'pu', 'nl', 'kwde', 'ws', 'va', 'ws', 'brop', 'nl', 'id', 'va', 'ws', 'kwty', 'opun', 'ws', 'va', 'ws', 'opas', 'ws', 'mo', 'sy', 'at', 'pu', 'nl', 'id', 'fnfr', 'brop', 'va', 'sy', 'at', 'pu', 'ws', 'mo', 'sy', 'at', 'brcl', 'pu', 'nl', 'brcl']\n",
      "\n",
      ">>> scheduler = ...\\\\>>> for epoch in range(100):\\\\>>>     train(...)\\\\>>>     validate(...)\\\\>>>     scheduler.step()\n",
      "['sy', 'ws', 'va', 'ws', 'opas', 'ws', 'sy', 'nl', 'sy', 'ws', 'kwfl', 'ws', 'va', 'ws', 'kwop', 'ws', 'fnfr', 'brop', 'nu', 'brcl', 'sy', 'nl', 'sy', 'ws', 'fnfr', 'brop', 'sy', 'brcl', 'nl', 'sy', 'ws', 'fnfr', 'brop', 'sy', 'brcl', 'nl', 'sy', 'ws', 'va', 'sy', 'fnme', 'brop', 'brcl']\n",
      "['sy', 'ws', 'va', 'ws', 'opas', 'ws', 'sy', 'nl', 'sy', 'ws', 'kwfl', 'ws', 'va', 'ws', 'kwop', 'ws', 'fnfr', 'brop', 'nu', 'brcl', 'sy', 'nl', 'sy', 'ws', 'fnfr', 'brop', 'sy', 'brcl', 'nl', 'sy', 'ws', 'fnfr', 'brop', 'sy', 'brcl', 'nl', 'sy', 'ws', 'mo', 'sy', 'fnas', 'brop', 'brcl']\n",
      "\n",
      "return Illuminate\\Support\\Facades\\View::make('profile');\\\\\\\\return view('profile');\n",
      "['kwfl', 'ws', 'mo', 'sy', 'mo', 'sy', 'mo', 'sy', 'cl', 'sy', 'fnas', 'brop', 'st', 'brcl', 'pu', 'nl', 'kwfl', 'ws', 'fnfr', 'brop', 'st', 'brcl', 'pu']\n",
      "['kwfl', 'ws', 'va', 'sy', 'mo', 'sy', 'mo', 'sy', 'cl', 'sy', 'fnas', 'brop', 'st', 'brcl', 'pu', 'nl', 'kwfl', 'ws', 'fnfr', 'brop', 'st', 'brcl', 'pu']\n",
      "\n",
      "$user = User::find(1);\\\\\\\\foreach ($user->friends as $friend) {\\\\    echo $friend->pivot->created_at;\\\\}\n",
      "['va', 'ws', 'opas', 'ws', 'cl', 'sy', 'fnas', 'brop', 'nu', 'brcl', 'pu', 'nl', 'kwfl', 'ws', 'brop', 'va', 'sy', 'at', 'ws', 'kwop', 'ws', 'va', 'brcl', 'ws', 'brop', 'nl', 'id', 'kwio', 'ws', 'va', 'sy', 'at', 'sy', 'at', 'pu', 'nl', 'brcl']\n",
      "['va', 'ws', 'opas', 'ws', 'cl', 'sy', 'fnas', 'brop', 'nu', 'brcl', 'pu', 'nl', 'kwfl', 'ws', 'brop', 'va', 'sy', 'fnme', 'ws', 'opcm', 'ws', 'pa', 'brcl', 'ws', 'brop', 'nl', 'id', 'kwio', 'ws', 'va', 'sy', 'at', 'sy', 'at', 'pu', 'nl', 'brcl']\n",
      "\n",
      "    if x < 30:\\\\        for r in range(1, x + 1):\\\\            if r * r > x:\\\\                return r - 1\\\\    else:\\\\        return binsearch(3, x)\n",
      "['id', 'kwfl', 'ws', 'va', 'ws', 'opcm', 'ws', 'nu', 'sy', 'nl', 'id', 'kwfl', 'ws', 'va', 'ws', 'kwop', 'ws', 'fnfr', 'brop', 'nu', 'pu', 'ws', 'va', 'ws', 'opbi', 'ws', 'nu', 'brcl', 'sy', 'nl', 'id', 'kwfl', 'ws', 'va', 'ws', 'opbi', 'ws', 'va', 'ws', 'opcm', 'ws', 'va', 'sy', 'nl', 'id', 'kwfl', 'ws', 'va', 'ws', 'opbi', 'ws', 'nu', 'nl', 'id', 'kwfl', 'sy', 'nl', 'id', 'kwfl', 'ws', 'fnfr', 'brop', 'nu', 'pu', 'ws', 'va', 'brcl']\n",
      "['id', 'kwfl', 'ws', 'va', 'ws', 'opcm', 'ws', 'nu', 'sy', 'nl', 'id', 'kwfl', 'ws', 'kwty', 'ws', 'kwop', 'ws', 'fnfr', 'brop', 'nu', 'pu', 'ws', 'va', 'ws', 'opbi', 'ws', 'nu', 'brcl', 'sy', 'nl', 'id', 'kwfl', 'ws', 'kwty', 'ws', 'opbi', 'ws', 'kwty', 'ws', 'opcm', 'ws', 'pa', 'sy', 'nl', 'id', 'kwfl', 'ws', 'kwty', 'ws', 'opbi', 'ws', 'nu', 'nl', 'id', 'kwfl', 'sy', 'nl', 'id', 'kwfl', 'ws', 'fnfr', 'brop', 'nu', 'pu', 'ws', 'va', 'brcl']\n",
      "\n",
      "/**\\\\ * Get thse thing\\\\ */\\\\public function thatThing(): BelongsTo\\\\{\\\\    return $this->belongsTo(Thing::class)->withDefault([\\\\        'attr' => 'xyz1234?',\\\\    ]);\\\\}\n",
      "['coml', 'nl', 'kwmo', 'ws', 'kwfn', 'ws', 'fnfr', 'brop', 'brcl', 'sy', 'ws', 'cl', 'nl', 'brop', 'nl', 'id', 'kwfl', 'ws', 'va', 'sy', 'fnme', 'brop', 'cl', 'sy', 'at', 'brcl', 'sy', 'fnme', 'brop', 'brop', 'nl', 'id', 'st', 'ws', 'sy', 'ws', 'st', 'pu', 'nl', 'id', 'brcl', 'brcl', 'pu', 'nl', 'brcl']\n",
      "['cofl', 'nl', 'kwmo', 'ws', 'kwfn', 'ws', 'fnfr', 'brop', 'brcl', 'sy', 'ws', 'cl', 'nl', 'brop', 'nl', 'id', 'kwfl', 'ws', 'va', 'sy', 'fnme', 'brop', 'cl', 'sy', 'at', 'brcl', 'sy', 'fnme', 'brop', 'brop', 'nl', 'id', 'st', 'ws', 'sy', 'ws', 'st', 'pu', 'nl', 'id', 'brcl', 'brcl', 'pu', 'nl', 'brcl']\n",
      "\n",
      "from django.http import HttpResponse\\\\from django.template import loader\\\\\\\\def welcome(request):\\\\    template = loader.get_template('index.html')\\\\    return HttpResponse(template.render())\n",
      "['kwim', 'ws', 'mo', 'sy', 'mo', 'ws', 'kwim', 'ws', 'cl', 'nl', 'kwim', 'ws', 'mo', 'sy', 'mo', 'ws', 'kwim', 'ws', 'mo', 'nl', 'kwfn', 'ws', 'fnfr', 'brop', 'pa', 'brcl', 'sy', 'nl', 'id', 'va', 'ws', 'opas', 'ws', 'mo', 'sy', 'fnas', 'brop', 'st', 'brcl', 'nl', 'id', 'kwfl', 'ws', 'fnfr', 'brop', 'va', 'sy', 'fnme', 'brop', 'brcl', 'brcl']\n",
      "['kwim', 'ws', 'mo', 'sy', 'mo', 'ws', 'kwim', 'ws', 'mo', 'nl', 'kwim', 'ws', 'mo', 'sy', 'mo', 'ws', 'kwim', 'ws', 'mo', 'nl', 'kwfn', 'ws', 'fnfr', 'brop', 'pa', 'brcl', 'sy', 'nl', 'id', 'va', 'ws', 'opas', 'ws', 'mo', 'sy', 'fnas', 'brop', 'st', 'brcl', 'nl', 'id', 'kwfl', 'ws', 'fnfr', 'brop', 'mo', 'sy', 'fnme', 'brop', 'brcl', 'brcl']\n",
      "\n",
      "while True:\\\\    c = stdscr.getch()\\\\    if c == ord('a'):\\\\        break\\\\    elif c == curses.KEY_HOME:\\\\        x = y = 0\n",
      "['kwfl', 'ws', 'bo', 'sy', 'nl', 'id', 'va', 'ws', 'opas', 'ws', 'va', 'sy', 'fnme', 'brop', 'brcl', 'nl', 'id', 'kwfl', 'ws', 'va', 'ws', 'opcm', 'ws', 'fnfr', 'brop', 'st', 'brcl', 'sy', 'nl', 'id', 'kwfl', 'nl', 'id', 'kwfl', 'ws', 'va', 'ws', 'opcm', 'ws', 'mo', 'sy', 'at', 'sy', 'nl', 'id', 'va', 'ws', 'opas', 'ws', 'va', 'ws', 'opas', 'ws', 'nu']\n",
      "['kwfl', 'ws', 'bo', 'sy', 'nl', 'id', 'va', 'ws', 'opas', 'ws', 'mo', 'sy', 'fnas', 'brop', 'brcl', 'nl', 'id', 'kwfl', 'ws', 'va', 'ws', 'opcm', 'ws', 'fnfr', 'brop', 'st', 'brcl', 'sy', 'nl', 'id', 'kwfl', 'nl', 'id', 'va', 'ws', 'va', 'ws', 'opcm', 'ws', 'va', 'sy', 'at', 'sy', 'nl', 'id', 'va', 'ws', 'opas', 'ws', 'va', 'ws', 'opas', 'ws', 'nu']\n",
      "\n",
      "curses.has_color()\n",
      "['mo', 'sy', 'fnas', 'brop', 'brcl']\n",
      "['va', 'sy', 'fnme', 'brop', 'brcl']\n",
      "\n"
     ]
    }
   ],
   "source": [
    "# print(os.listdir())\n",
    "\n",
    "model.eval()\n",
    "with torch.no_grad():\n",
    "    tag_scores = model(val_token_tensors, val_tag_det_tensors)\n",
    "    predictions = torch.argmax(tag_scores, dim=-1)  # Shape: (batch_size, seq_len)\n",
    "\n",
    "print(\"predictions\", predictions.size())\n",
    "\n",
    "outputs = {}\n",
    "for ex, pred in zip(data[\"val\"].iter_rows(named=True), predictions, strict=True):\n",
    "    pred_tags = []\n",
    "    for p in pred:\n",
    "        if p == 0:\n",
    "            break\n",
    "        pred_tags.append(tag_vocab[p])\n",
    "    assert len(ex[\"tokens\"]) == len(pred_tags), \"wrong length\"\n",
    "    pred_tags\n",
    "    print(\"\".join(ex[\"tokens\"]).replace(\"\\n\", \"\\\\\\\\\"))\n",
    "    print(ex[\"tags\"])\n",
    "    print(pred_tags)\n",
    "    print()\n",
    "    outputs[ex[\"name\"] + \"_\" + ex[\"lang\"]] = {\"tokens\": ex[\"tokens\"], \"tags\": pred_tags}\n"
   ]
  },
  {
   "cell_type": "markdown",
   "metadata": {},
   "source": [
    "# parameter search\n"
   ]
  },
  {
   "cell_type": "code",
   "execution_count": 52,
   "metadata": {},
   "outputs": [
    {
     "name": "stdout",
     "output_type": "stream",
     "text": [
      "no new points!\n"
     ]
    },
    {
     "data": {
      "text/html": [
       "<div><style>\n",
       ".dataframe > thead > tr,\n",
       ".dataframe > tbody > tr {\n",
       "  text-align: right;\n",
       "  white-space: pre-wrap;\n",
       "}\n",
       "</style>\n",
       "<small>shape: (10, 15)</small><table border=\"1\" class=\"dataframe\"><thead><tr><th>_acc</th><th>_f1_macro</th><th>_train_loss</th><th>_val_loss</th><th>bidi</th><th>class_weight_smoothing</th><th>dropout_lstm</th><th>embedding_dim</th><th>hidden_dim</th><th>label_smoothing</th><th>lr_gamma</th><th>lr_start</th><th>n_lstm_layers</th><th>runtime</th><th>train_time</th></tr><tr><td>f64</td><td>f64</td><td>f64</td><td>f64</td><td>bool</td><td>f64</td><td>f64</td><td>i32</td><td>i32</td><td>f64</td><td>f64</td><td>f64</td><td>i32</td><td>f64</td><td>i32</td></tr></thead><tbody><tr><td>0.950243</td><td>0.812838</td><td>0.677508</td><td>0.746807</td><td>true</td><td>10.0</td><td>0.7</td><td>16</td><td>64</td><td>0.1</td><td>0.99</td><td>0.05</td><td>2</td><td>10.076232</td><td>10</td></tr><tr><td>0.949029</td><td>0.806093</td><td>0.015774</td><td>0.129403</td><td>true</td><td>10.0</td><td>0.7</td><td>16</td><td>128</td><td>0.0</td><td>0.99</td><td>0.05</td><td>2</td><td>10.142678</td><td>10</td></tr><tr><td>0.949029</td><td>0.795541</td><td>0.001185</td><td>0.171534</td><td>true</td><td>5.0</td><td>0.5</td><td>23</td><td>64</td><td>0.0</td><td>0.99</td><td>0.05</td><td>2</td><td>10.100151</td><td>10</td></tr><tr><td>0.949029</td><td>0.826327</td><td>1.203091</td><td>1.251939</td><td>true</td><td>10.0</td><td>0.7</td><td>16</td><td>64</td><td>0.2</td><td>0.99</td><td>0.05</td><td>2</td><td>10.107578</td><td>10</td></tr><tr><td>0.948422</td><td>0.812129</td><td>0.675323</td><td>0.743004</td><td>true</td><td>10.0</td><td>0.5</td><td>16</td><td>64</td><td>0.1</td><td>0.99</td><td>0.05</td><td>2</td><td>10.070115</td><td>10</td></tr><tr><td>0.948422</td><td>0.783914</td><td>0.680538</td><td>0.748764</td><td>true</td><td>10.0</td><td>0.6</td><td>18</td><td>64</td><td>0.1</td><td>0.99</td><td>0.05</td><td>2</td><td>10.076619</td><td>10</td></tr><tr><td>0.948422</td><td>0.807029</td><td>0.684665</td><td>0.739446</td><td>true</td><td>15.0</td><td>0.7</td><td>16</td><td>64</td><td>0.1</td><td>0.95</td><td>0.05</td><td>2</td><td>10.088209</td><td>10</td></tr><tr><td>0.947816</td><td>0.789102</td><td>0.01454</td><td>0.140314</td><td>true</td><td>10.0</td><td>0.7</td><td>23</td><td>128</td><td>0.0</td><td>0.99</td><td>0.05</td><td>2</td><td>10.178978</td><td>10</td></tr><tr><td>0.947816</td><td>0.808173</td><td>0.677559</td><td>0.740194</td><td>true</td><td>10.0</td><td>0.65</td><td>16</td><td>64</td><td>0.1</td><td>0.99</td><td>0.05</td><td>2</td><td>10.077678</td><td>10</td></tr><tr><td>0.947816</td><td>0.81793</td><td>0.678915</td><td>0.743723</td><td>true</td><td>10.0</td><td>0.7</td><td>16</td><td>80</td><td>0.1</td><td>0.97</td><td>0.05</td><td>2</td><td>10.079424</td><td>10</td></tr></tbody></table></div>"
      ],
      "text/plain": [
       "shape: (10, 15)\n",
       "┌──────────┬───────────┬────────────┬───────────┬───┬──────────┬───────────┬───────────┬───────────┐\n",
       "│ _acc     ┆ _f1_macro ┆ _train_los ┆ _val_loss ┆ … ┆ lr_start ┆ n_lstm_la ┆ runtime   ┆ train_tim │\n",
       "│ ---      ┆ ---       ┆ s          ┆ ---       ┆   ┆ ---      ┆ yers      ┆ ---       ┆ e         │\n",
       "│ f64      ┆ f64       ┆ ---        ┆ f64       ┆   ┆ f64      ┆ ---       ┆ f64       ┆ ---       │\n",
       "│          ┆           ┆ f64        ┆           ┆   ┆          ┆ i32       ┆           ┆ i32       │\n",
       "╞══════════╪═══════════╪════════════╪═══════════╪═══╪══════════╪═══════════╪═══════════╪═══════════╡\n",
       "│ 0.950243 ┆ 0.812838  ┆ 0.677508   ┆ 0.746807  ┆ … ┆ 0.05     ┆ 2         ┆ 10.076232 ┆ 10        │\n",
       "│ 0.949029 ┆ 0.806093  ┆ 0.015774   ┆ 0.129403  ┆ … ┆ 0.05     ┆ 2         ┆ 10.142678 ┆ 10        │\n",
       "│ 0.949029 ┆ 0.795541  ┆ 0.001185   ┆ 0.171534  ┆ … ┆ 0.05     ┆ 2         ┆ 10.100151 ┆ 10        │\n",
       "│ 0.949029 ┆ 0.826327  ┆ 1.203091   ┆ 1.251939  ┆ … ┆ 0.05     ┆ 2         ┆ 10.107578 ┆ 10        │\n",
       "│ 0.948422 ┆ 0.812129  ┆ 0.675323   ┆ 0.743004  ┆ … ┆ 0.05     ┆ 2         ┆ 10.070115 ┆ 10        │\n",
       "│ 0.948422 ┆ 0.783914  ┆ 0.680538   ┆ 0.748764  ┆ … ┆ 0.05     ┆ 2         ┆ 10.076619 ┆ 10        │\n",
       "│ 0.948422 ┆ 0.807029  ┆ 0.684665   ┆ 0.739446  ┆ … ┆ 0.05     ┆ 2         ┆ 10.088209 ┆ 10        │\n",
       "│ 0.947816 ┆ 0.789102  ┆ 0.01454    ┆ 0.140314  ┆ … ┆ 0.05     ┆ 2         ┆ 10.178978 ┆ 10        │\n",
       "│ 0.947816 ┆ 0.808173  ┆ 0.677559   ┆ 0.740194  ┆ … ┆ 0.05     ┆ 2         ┆ 10.077678 ┆ 10        │\n",
       "│ 0.947816 ┆ 0.81793   ┆ 0.678915   ┆ 0.743723  ┆ … ┆ 0.05     ┆ 2         ┆ 10.079424 ┆ 10        │\n",
       "└──────────┴───────────┴────────────┴───────────┴───┴──────────┴───────────┴───────────┴───────────┘"
      ]
     },
     "metadata": {},
     "output_type": "display_data"
    },
    {
     "data": {
      "text/plain": [
       "{'_acc': 0.9502427184466019,\n",
       " '_f1_macro': 0.8128383024255225,\n",
       " '_train_loss': 0.6775082588195801,\n",
       " '_val_loss': 0.7468067556619644,\n",
       " 'bidi': True,\n",
       " 'class_weight_smoothing': 10.0,\n",
       " 'dropout_lstm': 0.7,\n",
       " 'embedding_dim': 16,\n",
       " 'hidden_dim': 64,\n",
       " 'label_smoothing': 0.1,\n",
       " 'lr_gamma': 0.99,\n",
       " 'lr_start': 0.05,\n",
       " 'n_lstm_layers': 2,\n",
       " 'runtime': 10.076232470999912,\n",
       " 'train_time': 10}"
      ]
     },
     "metadata": {},
     "output_type": "display_data"
    }
   ],
   "source": [
    "from coolsearch import search\n",
    "\n",
    "reload(search)\n",
    "\n",
    "\n",
    "def objective(\n",
    "    embedding_dim,\n",
    "    hidden_dim,\n",
    "    n_lstm_layers,\n",
    "    dropout_lstm,\n",
    "    train_time,\n",
    "    class_weight_smoothing,\n",
    "    label_smoothing,\n",
    "    bidi,\n",
    "    lr_start,\n",
    "    lr_gamma,\n",
    "):\n",
    "    \"\"\"Train the model, with some hyperparameters, and evaluate a few metrics\"\"\"\n",
    "    model = models_torch.LSTMTagger(\n",
    "        len(vocab),\n",
    "        len(tag_vocab),\n",
    "        embedding_dim,\n",
    "        hidden_dim,\n",
    "        n_lstm_layers,\n",
    "        dropout_lstm,\n",
    "        bidi,\n",
    "    ).to(dev)\n",
    "    tag_weights = class_weights(tag_counts, tag_vocab, class_weight_smoothing)\n",
    "\n",
    "    loss_function = torch.nn.CrossEntropyLoss(\n",
    "        weight=tag_weights,\n",
    "        label_smoothing=label_smoothing,\n",
    "    ).to(dev)\n",
    "\n",
    "    optimizer = torch.optim.Adam(model.parameters(), lr=lr_start)\n",
    "    lr_s = torch.optim.lr_scheduler.ExponentialLR(optimizer, gamma=lr_gamma)\n",
    "\n",
    "    # Training loop\n",
    "\n",
    "    t_start = default_timer()\n",
    "    epochs_run = 0\n",
    "    while default_timer() < t_start + train_time:\n",
    "        # TRAINING\n",
    "        models_torch.run_epoch(model, train_loader, loss_function, optimizer)\n",
    "\n",
    "        lr_s.step()\n",
    "        epochs_run += 1\n",
    "\n",
    "    model.eval()\n",
    "    with torch.no_grad():\n",
    "        train_loss = models_torch.run_epoch(model, train_loader, loss_function)\n",
    "        val_loss = models_torch.run_epoch(model, val_loader, loss_function)\n",
    "        tag_scores = model(val_token_tensors, val_tag_det_tensors)\n",
    "        predictions = torch.argmax(tag_scores, dim=-1)\n",
    "\n",
    "    pred_tags = []\n",
    "    true_tags = []\n",
    "\n",
    "    for pred, true_t in zip(predictions, val_tag_true_idx):\n",
    "        true_tags.extend([tag_vocab[t] for t in true_t])\n",
    "        pred_tags.extend([tag_vocab[t] for t in pred[: len(true_t)]])\n",
    "\n",
    "    return {\n",
    "        \"_acc\": metrics.accuracy_score(true_tags, pred_tags),\n",
    "        \"_f1_macro\": metrics.f1_score(true_tags, pred_tags, average=\"macro\"),\n",
    "        \"_train_loss\": train_loss,\n",
    "        \"_val_loss\": val_loss,\n",
    "    }\n",
    "\n",
    "\n",
    "params = {\n",
    "    \"embedding_dim\": [16, 18],\n",
    "    \"hidden_dim\": [64, 48],\n",
    "    \"n_lstm_layers\": [1],\n",
    "    \"dropout_lstm\": [0.0],\n",
    "    \"train_time\": 10,\n",
    "    \"class_weight_smoothing\": [10.0],\n",
    "    \"label_smoothing\": [0.1],\n",
    "    \"bidi\": True,\n",
    "    \"lr_start\": [0.05],\n",
    "    \"lr_gamma\": [0.99],\n",
    "}\n",
    "\n",
    "\n",
    "cs = search.CoolSearch(\n",
    "    objective,\n",
    "    params,\n",
    "    n_jobs=1,\n",
    "    samples_file=f\"../search/{modelname}.csv\",\n",
    ")\n",
    "cs.grid_search(3)\n",
    "res = cs.samples.sort(-pl.col(\"_acc\")).head(10)\n",
    "display(res)\n",
    "display(res.row(0, named=True))"
   ]
  },
  {
   "cell_type": "code",
   "execution_count": 53,
   "metadata": {},
   "outputs": [
    {
     "name": "stdout",
     "output_type": "stream",
     "text": [
      "['embedding_dim', 'hidden_dim', 'n_lstm_layers', 'dropout_lstm', 'train_time', 'class_weight_smoothing', 'label_smoothing', 'bidi', 'lr_start', 'lr_gamma']\n"
     ]
    },
    {
     "data": {
      "application/vnd.plotly.v1+json": {
       "config": {
        "plotlyServerURL": "https://plot.ly"
       },
       "data": [
        {
         "type": "scatter",
         "x": [
          12,
          14,
          15,
          16,
          18,
          23
         ],
         "y": [
          0.9466019417475728,
          0.9423543689320388,
          0.9429611650485437,
          0.9502427184466019,
          0.9484223300970874,
          0.9490291262135923
         ]
        },
        {
         "type": "scatter",
         "x": [
          12,
          14,
          15,
          16,
          18,
          23
         ],
         "y": [
          0.9290048543689321,
          0.9423543689320388,
          0.9429611650485437,
          0.9388544556171984,
          0.9436546463245491,
          0.9404960558252428
         ]
        }
       ],
       "layout": {
        "height": 200,
        "template": {
         "data": {
          "bar": [
           {
            "error_x": {
             "color": "#f2f5fa"
            },
            "error_y": {
             "color": "#f2f5fa"
            },
            "marker": {
             "line": {
              "color": "rgb(17,17,17)",
              "width": 0.5
             },
             "pattern": {
              "fillmode": "overlay",
              "size": 10,
              "solidity": 0.2
             }
            },
            "type": "bar"
           }
          ],
          "barpolar": [
           {
            "marker": {
             "line": {
              "color": "rgb(17,17,17)",
              "width": 0.5
             },
             "pattern": {
              "fillmode": "overlay",
              "size": 10,
              "solidity": 0.2
             }
            },
            "type": "barpolar"
           }
          ],
          "carpet": [
           {
            "aaxis": {
             "endlinecolor": "#A2B1C6",
             "gridcolor": "#506784",
             "linecolor": "#506784",
             "minorgridcolor": "#506784",
             "startlinecolor": "#A2B1C6"
            },
            "baxis": {
             "endlinecolor": "#A2B1C6",
             "gridcolor": "#506784",
             "linecolor": "#506784",
             "minorgridcolor": "#506784",
             "startlinecolor": "#A2B1C6"
            },
            "type": "carpet"
           }
          ],
          "choropleth": [
           {
            "colorbar": {
             "outlinewidth": 0,
             "ticks": ""
            },
            "type": "choropleth"
           }
          ],
          "contour": [
           {
            "colorbar": {
             "outlinewidth": 0,
             "ticks": ""
            },
            "colorscale": [
             [
              0,
              "#0d0887"
             ],
             [
              0.1111111111111111,
              "#46039f"
             ],
             [
              0.2222222222222222,
              "#7201a8"
             ],
             [
              0.3333333333333333,
              "#9c179e"
             ],
             [
              0.4444444444444444,
              "#bd3786"
             ],
             [
              0.5555555555555556,
              "#d8576b"
             ],
             [
              0.6666666666666666,
              "#ed7953"
             ],
             [
              0.7777777777777778,
              "#fb9f3a"
             ],
             [
              0.8888888888888888,
              "#fdca26"
             ],
             [
              1,
              "#f0f921"
             ]
            ],
            "type": "contour"
           }
          ],
          "contourcarpet": [
           {
            "colorbar": {
             "outlinewidth": 0,
             "ticks": ""
            },
            "type": "contourcarpet"
           }
          ],
          "heatmap": [
           {
            "colorbar": {
             "outlinewidth": 0,
             "ticks": ""
            },
            "colorscale": [
             [
              0,
              "#0d0887"
             ],
             [
              0.1111111111111111,
              "#46039f"
             ],
             [
              0.2222222222222222,
              "#7201a8"
             ],
             [
              0.3333333333333333,
              "#9c179e"
             ],
             [
              0.4444444444444444,
              "#bd3786"
             ],
             [
              0.5555555555555556,
              "#d8576b"
             ],
             [
              0.6666666666666666,
              "#ed7953"
             ],
             [
              0.7777777777777778,
              "#fb9f3a"
             ],
             [
              0.8888888888888888,
              "#fdca26"
             ],
             [
              1,
              "#f0f921"
             ]
            ],
            "type": "heatmap"
           }
          ],
          "heatmapgl": [
           {
            "colorbar": {
             "outlinewidth": 0,
             "ticks": ""
            },
            "colorscale": [
             [
              0,
              "#0d0887"
             ],
             [
              0.1111111111111111,
              "#46039f"
             ],
             [
              0.2222222222222222,
              "#7201a8"
             ],
             [
              0.3333333333333333,
              "#9c179e"
             ],
             [
              0.4444444444444444,
              "#bd3786"
             ],
             [
              0.5555555555555556,
              "#d8576b"
             ],
             [
              0.6666666666666666,
              "#ed7953"
             ],
             [
              0.7777777777777778,
              "#fb9f3a"
             ],
             [
              0.8888888888888888,
              "#fdca26"
             ],
             [
              1,
              "#f0f921"
             ]
            ],
            "type": "heatmapgl"
           }
          ],
          "histogram": [
           {
            "marker": {
             "pattern": {
              "fillmode": "overlay",
              "size": 10,
              "solidity": 0.2
             }
            },
            "type": "histogram"
           }
          ],
          "histogram2d": [
           {
            "colorbar": {
             "outlinewidth": 0,
             "ticks": ""
            },
            "colorscale": [
             [
              0,
              "#0d0887"
             ],
             [
              0.1111111111111111,
              "#46039f"
             ],
             [
              0.2222222222222222,
              "#7201a8"
             ],
             [
              0.3333333333333333,
              "#9c179e"
             ],
             [
              0.4444444444444444,
              "#bd3786"
             ],
             [
              0.5555555555555556,
              "#d8576b"
             ],
             [
              0.6666666666666666,
              "#ed7953"
             ],
             [
              0.7777777777777778,
              "#fb9f3a"
             ],
             [
              0.8888888888888888,
              "#fdca26"
             ],
             [
              1,
              "#f0f921"
             ]
            ],
            "type": "histogram2d"
           }
          ],
          "histogram2dcontour": [
           {
            "colorbar": {
             "outlinewidth": 0,
             "ticks": ""
            },
            "colorscale": [
             [
              0,
              "#0d0887"
             ],
             [
              0.1111111111111111,
              "#46039f"
             ],
             [
              0.2222222222222222,
              "#7201a8"
             ],
             [
              0.3333333333333333,
              "#9c179e"
             ],
             [
              0.4444444444444444,
              "#bd3786"
             ],
             [
              0.5555555555555556,
              "#d8576b"
             ],
             [
              0.6666666666666666,
              "#ed7953"
             ],
             [
              0.7777777777777778,
              "#fb9f3a"
             ],
             [
              0.8888888888888888,
              "#fdca26"
             ],
             [
              1,
              "#f0f921"
             ]
            ],
            "type": "histogram2dcontour"
           }
          ],
          "mesh3d": [
           {
            "colorbar": {
             "outlinewidth": 0,
             "ticks": ""
            },
            "type": "mesh3d"
           }
          ],
          "parcoords": [
           {
            "line": {
             "colorbar": {
              "outlinewidth": 0,
              "ticks": ""
             }
            },
            "type": "parcoords"
           }
          ],
          "pie": [
           {
            "automargin": true,
            "type": "pie"
           }
          ],
          "scatter": [
           {
            "marker": {
             "line": {
              "color": "#283442"
             }
            },
            "type": "scatter"
           }
          ],
          "scatter3d": [
           {
            "line": {
             "colorbar": {
              "outlinewidth": 0,
              "ticks": ""
             }
            },
            "marker": {
             "colorbar": {
              "outlinewidth": 0,
              "ticks": ""
             }
            },
            "type": "scatter3d"
           }
          ],
          "scattercarpet": [
           {
            "marker": {
             "colorbar": {
              "outlinewidth": 0,
              "ticks": ""
             }
            },
            "type": "scattercarpet"
           }
          ],
          "scattergeo": [
           {
            "marker": {
             "colorbar": {
              "outlinewidth": 0,
              "ticks": ""
             }
            },
            "type": "scattergeo"
           }
          ],
          "scattergl": [
           {
            "marker": {
             "line": {
              "color": "#283442"
             }
            },
            "type": "scattergl"
           }
          ],
          "scattermapbox": [
           {
            "marker": {
             "colorbar": {
              "outlinewidth": 0,
              "ticks": ""
             }
            },
            "type": "scattermapbox"
           }
          ],
          "scatterpolar": [
           {
            "marker": {
             "colorbar": {
              "outlinewidth": 0,
              "ticks": ""
             }
            },
            "type": "scatterpolar"
           }
          ],
          "scatterpolargl": [
           {
            "marker": {
             "colorbar": {
              "outlinewidth": 0,
              "ticks": ""
             }
            },
            "type": "scatterpolargl"
           }
          ],
          "scatterternary": [
           {
            "marker": {
             "colorbar": {
              "outlinewidth": 0,
              "ticks": ""
             }
            },
            "type": "scatterternary"
           }
          ],
          "surface": [
           {
            "colorbar": {
             "outlinewidth": 0,
             "ticks": ""
            },
            "colorscale": [
             [
              0,
              "#0d0887"
             ],
             [
              0.1111111111111111,
              "#46039f"
             ],
             [
              0.2222222222222222,
              "#7201a8"
             ],
             [
              0.3333333333333333,
              "#9c179e"
             ],
             [
              0.4444444444444444,
              "#bd3786"
             ],
             [
              0.5555555555555556,
              "#d8576b"
             ],
             [
              0.6666666666666666,
              "#ed7953"
             ],
             [
              0.7777777777777778,
              "#fb9f3a"
             ],
             [
              0.8888888888888888,
              "#fdca26"
             ],
             [
              1,
              "#f0f921"
             ]
            ],
            "type": "surface"
           }
          ],
          "table": [
           {
            "cells": {
             "fill": {
              "color": "#506784"
             },
             "line": {
              "color": "rgb(17,17,17)"
             }
            },
            "header": {
             "fill": {
              "color": "#2a3f5f"
             },
             "line": {
              "color": "rgb(17,17,17)"
             }
            },
            "type": "table"
           }
          ]
         },
         "layout": {
          "annotationdefaults": {
           "arrowcolor": "#f2f5fa",
           "arrowhead": 0,
           "arrowwidth": 1
          },
          "autosize": false,
          "autotypenumbers": "strict",
          "coloraxis": {
           "colorbar": {
            "outlinewidth": 0,
            "ticks": ""
           }
          },
          "colorscale": {
           "diverging": [
            [
             0,
             "#8e0152"
            ],
            [
             0.1,
             "#c51b7d"
            ],
            [
             0.2,
             "#de77ae"
            ],
            [
             0.3,
             "#f1b6da"
            ],
            [
             0.4,
             "#fde0ef"
            ],
            [
             0.5,
             "#f7f7f7"
            ],
            [
             0.6,
             "#e6f5d0"
            ],
            [
             0.7,
             "#b8e186"
            ],
            [
             0.8,
             "#7fbc41"
            ],
            [
             0.9,
             "#4d9221"
            ],
            [
             1,
             "#276419"
            ]
           ],
           "sequential": [
            [
             0,
             "#0d0887"
            ],
            [
             0.1111111111111111,
             "#46039f"
            ],
            [
             0.2222222222222222,
             "#7201a8"
            ],
            [
             0.3333333333333333,
             "#9c179e"
            ],
            [
             0.4444444444444444,
             "#bd3786"
            ],
            [
             0.5555555555555556,
             "#d8576b"
            ],
            [
             0.6666666666666666,
             "#ed7953"
            ],
            [
             0.7777777777777778,
             "#fb9f3a"
            ],
            [
             0.8888888888888888,
             "#fdca26"
            ],
            [
             1,
             "#f0f921"
            ]
           ],
           "sequentialminus": [
            [
             0,
             "#0d0887"
            ],
            [
             0.1111111111111111,
             "#46039f"
            ],
            [
             0.2222222222222222,
             "#7201a8"
            ],
            [
             0.3333333333333333,
             "#9c179e"
            ],
            [
             0.4444444444444444,
             "#bd3786"
            ],
            [
             0.5555555555555556,
             "#d8576b"
            ],
            [
             0.6666666666666666,
             "#ed7953"
            ],
            [
             0.7777777777777778,
             "#fb9f3a"
            ],
            [
             0.8888888888888888,
             "#fdca26"
            ],
            [
             1,
             "#f0f921"
            ]
           ]
          },
          "colorway": [
           "#636efa",
           "#EF553B",
           "#00cc96",
           "#ab63fa",
           "#FFA15A",
           "#19d3f3",
           "#FF6692",
           "#B6E880",
           "#FF97FF",
           "#FECB52"
          ],
          "font": {
           "color": "#f2f5fa"
          },
          "geo": {
           "bgcolor": "rgb(17,17,17)",
           "lakecolor": "rgb(17,17,17)",
           "landcolor": "rgb(17,17,17)",
           "showlakes": true,
           "showland": true,
           "subunitcolor": "#506784"
          },
          "height": 300,
          "hoverlabel": {
           "align": "left"
          },
          "hovermode": "closest",
          "mapbox": {
           "style": "dark"
          },
          "margin": {
           "b": 40,
           "l": 40,
           "r": 40,
           "t": 40
          },
          "paper_bgcolor": "rgba(0,0,0,0)",
          "plot_bgcolor": "rgba(0,0,0,0)",
          "polar": {
           "angularaxis": {
            "gridcolor": "#506784",
            "linecolor": "#506784",
            "ticks": ""
           },
           "bgcolor": "rgb(17,17,17)",
           "radialaxis": {
            "gridcolor": "#506784",
            "linecolor": "#506784",
            "ticks": ""
           }
          },
          "scene": {
           "xaxis": {
            "backgroundcolor": "rgb(17,17,17)",
            "gridcolor": "#506784",
            "gridwidth": 2,
            "linecolor": "#506784",
            "showbackground": true,
            "ticks": "",
            "zerolinecolor": "#C8D4E3"
           },
           "yaxis": {
            "backgroundcolor": "rgb(17,17,17)",
            "gridcolor": "#506784",
            "gridwidth": 2,
            "linecolor": "#506784",
            "showbackground": true,
            "ticks": "",
            "zerolinecolor": "#C8D4E3"
           },
           "zaxis": {
            "backgroundcolor": "rgb(17,17,17)",
            "gridcolor": "#506784",
            "gridwidth": 2,
            "linecolor": "#506784",
            "showbackground": true,
            "ticks": "",
            "zerolinecolor": "#C8D4E3"
           }
          },
          "shapedefaults": {
           "line": {
            "color": "#f2f5fa"
           }
          },
          "sliderdefaults": {
           "bgcolor": "#C8D4E3",
           "bordercolor": "rgb(17,17,17)",
           "borderwidth": 1,
           "tickwidth": 0
          },
          "ternary": {
           "aaxis": {
            "gridcolor": "#506784",
            "linecolor": "#506784",
            "ticks": ""
           },
           "baxis": {
            "gridcolor": "#506784",
            "linecolor": "#506784",
            "ticks": ""
           },
           "bgcolor": "rgb(17,17,17)",
           "caxis": {
            "gridcolor": "#506784",
            "linecolor": "#506784",
            "ticks": ""
           }
          },
          "title": {
           "x": 0.05
          },
          "updatemenudefaults": {
           "bgcolor": "#506784",
           "borderwidth": 0
          },
          "width": 600,
          "xaxis": {
           "automargin": true,
           "gridcolor": "#283442",
           "linecolor": "#506784",
           "ticks": "",
           "title": {
            "standoff": 15
           },
           "zerolinecolor": "#283442",
           "zerolinewidth": 2
          },
          "yaxis": {
           "automargin": true,
           "gridcolor": "#283442",
           "linecolor": "#506784",
           "ticks": "",
           "title": {
            "standoff": 15
           },
           "zerolinecolor": "#283442",
           "zerolinewidth": 2
          }
         }
        },
        "title": {
         "text": "embedding_dim"
        },
        "width": 400
       }
      }
     },
     "metadata": {},
     "output_type": "display_data"
    },
    {
     "data": {
      "application/vnd.plotly.v1+json": {
       "config": {
        "plotlyServerURL": "https://plot.ly"
       },
       "data": [
        {
         "type": "scatter",
         "x": [
          48,
          64,
          80,
          128
         ],
         "y": [
          0.9405339805825242,
          0.9502427184466019,
          0.9478155339805825,
          0.9490291262135923
         ]
        },
        {
         "type": "scatter",
         "x": [
          48,
          64,
          80,
          128
         ],
         "y": [
          0.9376516990291262,
          0.9396387076237466,
          0.9253640776699029,
          0.9422026699029126
         ]
        }
       ],
       "layout": {
        "height": 200,
        "template": {
         "data": {
          "bar": [
           {
            "error_x": {
             "color": "#f2f5fa"
            },
            "error_y": {
             "color": "#f2f5fa"
            },
            "marker": {
             "line": {
              "color": "rgb(17,17,17)",
              "width": 0.5
             },
             "pattern": {
              "fillmode": "overlay",
              "size": 10,
              "solidity": 0.2
             }
            },
            "type": "bar"
           }
          ],
          "barpolar": [
           {
            "marker": {
             "line": {
              "color": "rgb(17,17,17)",
              "width": 0.5
             },
             "pattern": {
              "fillmode": "overlay",
              "size": 10,
              "solidity": 0.2
             }
            },
            "type": "barpolar"
           }
          ],
          "carpet": [
           {
            "aaxis": {
             "endlinecolor": "#A2B1C6",
             "gridcolor": "#506784",
             "linecolor": "#506784",
             "minorgridcolor": "#506784",
             "startlinecolor": "#A2B1C6"
            },
            "baxis": {
             "endlinecolor": "#A2B1C6",
             "gridcolor": "#506784",
             "linecolor": "#506784",
             "minorgridcolor": "#506784",
             "startlinecolor": "#A2B1C6"
            },
            "type": "carpet"
           }
          ],
          "choropleth": [
           {
            "colorbar": {
             "outlinewidth": 0,
             "ticks": ""
            },
            "type": "choropleth"
           }
          ],
          "contour": [
           {
            "colorbar": {
             "outlinewidth": 0,
             "ticks": ""
            },
            "colorscale": [
             [
              0,
              "#0d0887"
             ],
             [
              0.1111111111111111,
              "#46039f"
             ],
             [
              0.2222222222222222,
              "#7201a8"
             ],
             [
              0.3333333333333333,
              "#9c179e"
             ],
             [
              0.4444444444444444,
              "#bd3786"
             ],
             [
              0.5555555555555556,
              "#d8576b"
             ],
             [
              0.6666666666666666,
              "#ed7953"
             ],
             [
              0.7777777777777778,
              "#fb9f3a"
             ],
             [
              0.8888888888888888,
              "#fdca26"
             ],
             [
              1,
              "#f0f921"
             ]
            ],
            "type": "contour"
           }
          ],
          "contourcarpet": [
           {
            "colorbar": {
             "outlinewidth": 0,
             "ticks": ""
            },
            "type": "contourcarpet"
           }
          ],
          "heatmap": [
           {
            "colorbar": {
             "outlinewidth": 0,
             "ticks": ""
            },
            "colorscale": [
             [
              0,
              "#0d0887"
             ],
             [
              0.1111111111111111,
              "#46039f"
             ],
             [
              0.2222222222222222,
              "#7201a8"
             ],
             [
              0.3333333333333333,
              "#9c179e"
             ],
             [
              0.4444444444444444,
              "#bd3786"
             ],
             [
              0.5555555555555556,
              "#d8576b"
             ],
             [
              0.6666666666666666,
              "#ed7953"
             ],
             [
              0.7777777777777778,
              "#fb9f3a"
             ],
             [
              0.8888888888888888,
              "#fdca26"
             ],
             [
              1,
              "#f0f921"
             ]
            ],
            "type": "heatmap"
           }
          ],
          "heatmapgl": [
           {
            "colorbar": {
             "outlinewidth": 0,
             "ticks": ""
            },
            "colorscale": [
             [
              0,
              "#0d0887"
             ],
             [
              0.1111111111111111,
              "#46039f"
             ],
             [
              0.2222222222222222,
              "#7201a8"
             ],
             [
              0.3333333333333333,
              "#9c179e"
             ],
             [
              0.4444444444444444,
              "#bd3786"
             ],
             [
              0.5555555555555556,
              "#d8576b"
             ],
             [
              0.6666666666666666,
              "#ed7953"
             ],
             [
              0.7777777777777778,
              "#fb9f3a"
             ],
             [
              0.8888888888888888,
              "#fdca26"
             ],
             [
              1,
              "#f0f921"
             ]
            ],
            "type": "heatmapgl"
           }
          ],
          "histogram": [
           {
            "marker": {
             "pattern": {
              "fillmode": "overlay",
              "size": 10,
              "solidity": 0.2
             }
            },
            "type": "histogram"
           }
          ],
          "histogram2d": [
           {
            "colorbar": {
             "outlinewidth": 0,
             "ticks": ""
            },
            "colorscale": [
             [
              0,
              "#0d0887"
             ],
             [
              0.1111111111111111,
              "#46039f"
             ],
             [
              0.2222222222222222,
              "#7201a8"
             ],
             [
              0.3333333333333333,
              "#9c179e"
             ],
             [
              0.4444444444444444,
              "#bd3786"
             ],
             [
              0.5555555555555556,
              "#d8576b"
             ],
             [
              0.6666666666666666,
              "#ed7953"
             ],
             [
              0.7777777777777778,
              "#fb9f3a"
             ],
             [
              0.8888888888888888,
              "#fdca26"
             ],
             [
              1,
              "#f0f921"
             ]
            ],
            "type": "histogram2d"
           }
          ],
          "histogram2dcontour": [
           {
            "colorbar": {
             "outlinewidth": 0,
             "ticks": ""
            },
            "colorscale": [
             [
              0,
              "#0d0887"
             ],
             [
              0.1111111111111111,
              "#46039f"
             ],
             [
              0.2222222222222222,
              "#7201a8"
             ],
             [
              0.3333333333333333,
              "#9c179e"
             ],
             [
              0.4444444444444444,
              "#bd3786"
             ],
             [
              0.5555555555555556,
              "#d8576b"
             ],
             [
              0.6666666666666666,
              "#ed7953"
             ],
             [
              0.7777777777777778,
              "#fb9f3a"
             ],
             [
              0.8888888888888888,
              "#fdca26"
             ],
             [
              1,
              "#f0f921"
             ]
            ],
            "type": "histogram2dcontour"
           }
          ],
          "mesh3d": [
           {
            "colorbar": {
             "outlinewidth": 0,
             "ticks": ""
            },
            "type": "mesh3d"
           }
          ],
          "parcoords": [
           {
            "line": {
             "colorbar": {
              "outlinewidth": 0,
              "ticks": ""
             }
            },
            "type": "parcoords"
           }
          ],
          "pie": [
           {
            "automargin": true,
            "type": "pie"
           }
          ],
          "scatter": [
           {
            "marker": {
             "line": {
              "color": "#283442"
             }
            },
            "type": "scatter"
           }
          ],
          "scatter3d": [
           {
            "line": {
             "colorbar": {
              "outlinewidth": 0,
              "ticks": ""
             }
            },
            "marker": {
             "colorbar": {
              "outlinewidth": 0,
              "ticks": ""
             }
            },
            "type": "scatter3d"
           }
          ],
          "scattercarpet": [
           {
            "marker": {
             "colorbar": {
              "outlinewidth": 0,
              "ticks": ""
             }
            },
            "type": "scattercarpet"
           }
          ],
          "scattergeo": [
           {
            "marker": {
             "colorbar": {
              "outlinewidth": 0,
              "ticks": ""
             }
            },
            "type": "scattergeo"
           }
          ],
          "scattergl": [
           {
            "marker": {
             "line": {
              "color": "#283442"
             }
            },
            "type": "scattergl"
           }
          ],
          "scattermapbox": [
           {
            "marker": {
             "colorbar": {
              "outlinewidth": 0,
              "ticks": ""
             }
            },
            "type": "scattermapbox"
           }
          ],
          "scatterpolar": [
           {
            "marker": {
             "colorbar": {
              "outlinewidth": 0,
              "ticks": ""
             }
            },
            "type": "scatterpolar"
           }
          ],
          "scatterpolargl": [
           {
            "marker": {
             "colorbar": {
              "outlinewidth": 0,
              "ticks": ""
             }
            },
            "type": "scatterpolargl"
           }
          ],
          "scatterternary": [
           {
            "marker": {
             "colorbar": {
              "outlinewidth": 0,
              "ticks": ""
             }
            },
            "type": "scatterternary"
           }
          ],
          "surface": [
           {
            "colorbar": {
             "outlinewidth": 0,
             "ticks": ""
            },
            "colorscale": [
             [
              0,
              "#0d0887"
             ],
             [
              0.1111111111111111,
              "#46039f"
             ],
             [
              0.2222222222222222,
              "#7201a8"
             ],
             [
              0.3333333333333333,
              "#9c179e"
             ],
             [
              0.4444444444444444,
              "#bd3786"
             ],
             [
              0.5555555555555556,
              "#d8576b"
             ],
             [
              0.6666666666666666,
              "#ed7953"
             ],
             [
              0.7777777777777778,
              "#fb9f3a"
             ],
             [
              0.8888888888888888,
              "#fdca26"
             ],
             [
              1,
              "#f0f921"
             ]
            ],
            "type": "surface"
           }
          ],
          "table": [
           {
            "cells": {
             "fill": {
              "color": "#506784"
             },
             "line": {
              "color": "rgb(17,17,17)"
             }
            },
            "header": {
             "fill": {
              "color": "#2a3f5f"
             },
             "line": {
              "color": "rgb(17,17,17)"
             }
            },
            "type": "table"
           }
          ]
         },
         "layout": {
          "annotationdefaults": {
           "arrowcolor": "#f2f5fa",
           "arrowhead": 0,
           "arrowwidth": 1
          },
          "autosize": false,
          "autotypenumbers": "strict",
          "coloraxis": {
           "colorbar": {
            "outlinewidth": 0,
            "ticks": ""
           }
          },
          "colorscale": {
           "diverging": [
            [
             0,
             "#8e0152"
            ],
            [
             0.1,
             "#c51b7d"
            ],
            [
             0.2,
             "#de77ae"
            ],
            [
             0.3,
             "#f1b6da"
            ],
            [
             0.4,
             "#fde0ef"
            ],
            [
             0.5,
             "#f7f7f7"
            ],
            [
             0.6,
             "#e6f5d0"
            ],
            [
             0.7,
             "#b8e186"
            ],
            [
             0.8,
             "#7fbc41"
            ],
            [
             0.9,
             "#4d9221"
            ],
            [
             1,
             "#276419"
            ]
           ],
           "sequential": [
            [
             0,
             "#0d0887"
            ],
            [
             0.1111111111111111,
             "#46039f"
            ],
            [
             0.2222222222222222,
             "#7201a8"
            ],
            [
             0.3333333333333333,
             "#9c179e"
            ],
            [
             0.4444444444444444,
             "#bd3786"
            ],
            [
             0.5555555555555556,
             "#d8576b"
            ],
            [
             0.6666666666666666,
             "#ed7953"
            ],
            [
             0.7777777777777778,
             "#fb9f3a"
            ],
            [
             0.8888888888888888,
             "#fdca26"
            ],
            [
             1,
             "#f0f921"
            ]
           ],
           "sequentialminus": [
            [
             0,
             "#0d0887"
            ],
            [
             0.1111111111111111,
             "#46039f"
            ],
            [
             0.2222222222222222,
             "#7201a8"
            ],
            [
             0.3333333333333333,
             "#9c179e"
            ],
            [
             0.4444444444444444,
             "#bd3786"
            ],
            [
             0.5555555555555556,
             "#d8576b"
            ],
            [
             0.6666666666666666,
             "#ed7953"
            ],
            [
             0.7777777777777778,
             "#fb9f3a"
            ],
            [
             0.8888888888888888,
             "#fdca26"
            ],
            [
             1,
             "#f0f921"
            ]
           ]
          },
          "colorway": [
           "#636efa",
           "#EF553B",
           "#00cc96",
           "#ab63fa",
           "#FFA15A",
           "#19d3f3",
           "#FF6692",
           "#B6E880",
           "#FF97FF",
           "#FECB52"
          ],
          "font": {
           "color": "#f2f5fa"
          },
          "geo": {
           "bgcolor": "rgb(17,17,17)",
           "lakecolor": "rgb(17,17,17)",
           "landcolor": "rgb(17,17,17)",
           "showlakes": true,
           "showland": true,
           "subunitcolor": "#506784"
          },
          "height": 300,
          "hoverlabel": {
           "align": "left"
          },
          "hovermode": "closest",
          "mapbox": {
           "style": "dark"
          },
          "margin": {
           "b": 40,
           "l": 40,
           "r": 40,
           "t": 40
          },
          "paper_bgcolor": "rgba(0,0,0,0)",
          "plot_bgcolor": "rgba(0,0,0,0)",
          "polar": {
           "angularaxis": {
            "gridcolor": "#506784",
            "linecolor": "#506784",
            "ticks": ""
           },
           "bgcolor": "rgb(17,17,17)",
           "radialaxis": {
            "gridcolor": "#506784",
            "linecolor": "#506784",
            "ticks": ""
           }
          },
          "scene": {
           "xaxis": {
            "backgroundcolor": "rgb(17,17,17)",
            "gridcolor": "#506784",
            "gridwidth": 2,
            "linecolor": "#506784",
            "showbackground": true,
            "ticks": "",
            "zerolinecolor": "#C8D4E3"
           },
           "yaxis": {
            "backgroundcolor": "rgb(17,17,17)",
            "gridcolor": "#506784",
            "gridwidth": 2,
            "linecolor": "#506784",
            "showbackground": true,
            "ticks": "",
            "zerolinecolor": "#C8D4E3"
           },
           "zaxis": {
            "backgroundcolor": "rgb(17,17,17)",
            "gridcolor": "#506784",
            "gridwidth": 2,
            "linecolor": "#506784",
            "showbackground": true,
            "ticks": "",
            "zerolinecolor": "#C8D4E3"
           }
          },
          "shapedefaults": {
           "line": {
            "color": "#f2f5fa"
           }
          },
          "sliderdefaults": {
           "bgcolor": "#C8D4E3",
           "bordercolor": "rgb(17,17,17)",
           "borderwidth": 1,
           "tickwidth": 0
          },
          "ternary": {
           "aaxis": {
            "gridcolor": "#506784",
            "linecolor": "#506784",
            "ticks": ""
           },
           "baxis": {
            "gridcolor": "#506784",
            "linecolor": "#506784",
            "ticks": ""
           },
           "bgcolor": "rgb(17,17,17)",
           "caxis": {
            "gridcolor": "#506784",
            "linecolor": "#506784",
            "ticks": ""
           }
          },
          "title": {
           "x": 0.05
          },
          "updatemenudefaults": {
           "bgcolor": "#506784",
           "borderwidth": 0
          },
          "width": 600,
          "xaxis": {
           "automargin": true,
           "gridcolor": "#283442",
           "linecolor": "#506784",
           "ticks": "",
           "title": {
            "standoff": 15
           },
           "zerolinecolor": "#283442",
           "zerolinewidth": 2
          },
          "yaxis": {
           "automargin": true,
           "gridcolor": "#283442",
           "linecolor": "#506784",
           "ticks": "",
           "title": {
            "standoff": 15
           },
           "zerolinecolor": "#283442",
           "zerolinewidth": 2
          }
         }
        },
        "title": {
         "text": "hidden_dim"
        },
        "width": 400
       }
      }
     },
     "metadata": {},
     "output_type": "display_data"
    },
    {
     "data": {
      "application/vnd.plotly.v1+json": {
       "config": {
        "plotlyServerURL": "https://plot.ly"
       },
       "data": [
        {
         "type": "scatter",
         "x": [
          1,
          2,
          3
         ],
         "y": [
          0.9441747572815534,
          0.9502427184466019,
          0.933252427184466
         ]
        },
        {
         "type": "scatter",
         "x": [
          1,
          2,
          3
         ],
         "y": [
          0.9390169902912622,
          0.9400395541172244,
          0.9118628640776698
         ]
        }
       ],
       "layout": {
        "height": 200,
        "template": {
         "data": {
          "bar": [
           {
            "error_x": {
             "color": "#f2f5fa"
            },
            "error_y": {
             "color": "#f2f5fa"
            },
            "marker": {
             "line": {
              "color": "rgb(17,17,17)",
              "width": 0.5
             },
             "pattern": {
              "fillmode": "overlay",
              "size": 10,
              "solidity": 0.2
             }
            },
            "type": "bar"
           }
          ],
          "barpolar": [
           {
            "marker": {
             "line": {
              "color": "rgb(17,17,17)",
              "width": 0.5
             },
             "pattern": {
              "fillmode": "overlay",
              "size": 10,
              "solidity": 0.2
             }
            },
            "type": "barpolar"
           }
          ],
          "carpet": [
           {
            "aaxis": {
             "endlinecolor": "#A2B1C6",
             "gridcolor": "#506784",
             "linecolor": "#506784",
             "minorgridcolor": "#506784",
             "startlinecolor": "#A2B1C6"
            },
            "baxis": {
             "endlinecolor": "#A2B1C6",
             "gridcolor": "#506784",
             "linecolor": "#506784",
             "minorgridcolor": "#506784",
             "startlinecolor": "#A2B1C6"
            },
            "type": "carpet"
           }
          ],
          "choropleth": [
           {
            "colorbar": {
             "outlinewidth": 0,
             "ticks": ""
            },
            "type": "choropleth"
           }
          ],
          "contour": [
           {
            "colorbar": {
             "outlinewidth": 0,
             "ticks": ""
            },
            "colorscale": [
             [
              0,
              "#0d0887"
             ],
             [
              0.1111111111111111,
              "#46039f"
             ],
             [
              0.2222222222222222,
              "#7201a8"
             ],
             [
              0.3333333333333333,
              "#9c179e"
             ],
             [
              0.4444444444444444,
              "#bd3786"
             ],
             [
              0.5555555555555556,
              "#d8576b"
             ],
             [
              0.6666666666666666,
              "#ed7953"
             ],
             [
              0.7777777777777778,
              "#fb9f3a"
             ],
             [
              0.8888888888888888,
              "#fdca26"
             ],
             [
              1,
              "#f0f921"
             ]
            ],
            "type": "contour"
           }
          ],
          "contourcarpet": [
           {
            "colorbar": {
             "outlinewidth": 0,
             "ticks": ""
            },
            "type": "contourcarpet"
           }
          ],
          "heatmap": [
           {
            "colorbar": {
             "outlinewidth": 0,
             "ticks": ""
            },
            "colorscale": [
             [
              0,
              "#0d0887"
             ],
             [
              0.1111111111111111,
              "#46039f"
             ],
             [
              0.2222222222222222,
              "#7201a8"
             ],
             [
              0.3333333333333333,
              "#9c179e"
             ],
             [
              0.4444444444444444,
              "#bd3786"
             ],
             [
              0.5555555555555556,
              "#d8576b"
             ],
             [
              0.6666666666666666,
              "#ed7953"
             ],
             [
              0.7777777777777778,
              "#fb9f3a"
             ],
             [
              0.8888888888888888,
              "#fdca26"
             ],
             [
              1,
              "#f0f921"
             ]
            ],
            "type": "heatmap"
           }
          ],
          "heatmapgl": [
           {
            "colorbar": {
             "outlinewidth": 0,
             "ticks": ""
            },
            "colorscale": [
             [
              0,
              "#0d0887"
             ],
             [
              0.1111111111111111,
              "#46039f"
             ],
             [
              0.2222222222222222,
              "#7201a8"
             ],
             [
              0.3333333333333333,
              "#9c179e"
             ],
             [
              0.4444444444444444,
              "#bd3786"
             ],
             [
              0.5555555555555556,
              "#d8576b"
             ],
             [
              0.6666666666666666,
              "#ed7953"
             ],
             [
              0.7777777777777778,
              "#fb9f3a"
             ],
             [
              0.8888888888888888,
              "#fdca26"
             ],
             [
              1,
              "#f0f921"
             ]
            ],
            "type": "heatmapgl"
           }
          ],
          "histogram": [
           {
            "marker": {
             "pattern": {
              "fillmode": "overlay",
              "size": 10,
              "solidity": 0.2
             }
            },
            "type": "histogram"
           }
          ],
          "histogram2d": [
           {
            "colorbar": {
             "outlinewidth": 0,
             "ticks": ""
            },
            "colorscale": [
             [
              0,
              "#0d0887"
             ],
             [
              0.1111111111111111,
              "#46039f"
             ],
             [
              0.2222222222222222,
              "#7201a8"
             ],
             [
              0.3333333333333333,
              "#9c179e"
             ],
             [
              0.4444444444444444,
              "#bd3786"
             ],
             [
              0.5555555555555556,
              "#d8576b"
             ],
             [
              0.6666666666666666,
              "#ed7953"
             ],
             [
              0.7777777777777778,
              "#fb9f3a"
             ],
             [
              0.8888888888888888,
              "#fdca26"
             ],
             [
              1,
              "#f0f921"
             ]
            ],
            "type": "histogram2d"
           }
          ],
          "histogram2dcontour": [
           {
            "colorbar": {
             "outlinewidth": 0,
             "ticks": ""
            },
            "colorscale": [
             [
              0,
              "#0d0887"
             ],
             [
              0.1111111111111111,
              "#46039f"
             ],
             [
              0.2222222222222222,
              "#7201a8"
             ],
             [
              0.3333333333333333,
              "#9c179e"
             ],
             [
              0.4444444444444444,
              "#bd3786"
             ],
             [
              0.5555555555555556,
              "#d8576b"
             ],
             [
              0.6666666666666666,
              "#ed7953"
             ],
             [
              0.7777777777777778,
              "#fb9f3a"
             ],
             [
              0.8888888888888888,
              "#fdca26"
             ],
             [
              1,
              "#f0f921"
             ]
            ],
            "type": "histogram2dcontour"
           }
          ],
          "mesh3d": [
           {
            "colorbar": {
             "outlinewidth": 0,
             "ticks": ""
            },
            "type": "mesh3d"
           }
          ],
          "parcoords": [
           {
            "line": {
             "colorbar": {
              "outlinewidth": 0,
              "ticks": ""
             }
            },
            "type": "parcoords"
           }
          ],
          "pie": [
           {
            "automargin": true,
            "type": "pie"
           }
          ],
          "scatter": [
           {
            "marker": {
             "line": {
              "color": "#283442"
             }
            },
            "type": "scatter"
           }
          ],
          "scatter3d": [
           {
            "line": {
             "colorbar": {
              "outlinewidth": 0,
              "ticks": ""
             }
            },
            "marker": {
             "colorbar": {
              "outlinewidth": 0,
              "ticks": ""
             }
            },
            "type": "scatter3d"
           }
          ],
          "scattercarpet": [
           {
            "marker": {
             "colorbar": {
              "outlinewidth": 0,
              "ticks": ""
             }
            },
            "type": "scattercarpet"
           }
          ],
          "scattergeo": [
           {
            "marker": {
             "colorbar": {
              "outlinewidth": 0,
              "ticks": ""
             }
            },
            "type": "scattergeo"
           }
          ],
          "scattergl": [
           {
            "marker": {
             "line": {
              "color": "#283442"
             }
            },
            "type": "scattergl"
           }
          ],
          "scattermapbox": [
           {
            "marker": {
             "colorbar": {
              "outlinewidth": 0,
              "ticks": ""
             }
            },
            "type": "scattermapbox"
           }
          ],
          "scatterpolar": [
           {
            "marker": {
             "colorbar": {
              "outlinewidth": 0,
              "ticks": ""
             }
            },
            "type": "scatterpolar"
           }
          ],
          "scatterpolargl": [
           {
            "marker": {
             "colorbar": {
              "outlinewidth": 0,
              "ticks": ""
             }
            },
            "type": "scatterpolargl"
           }
          ],
          "scatterternary": [
           {
            "marker": {
             "colorbar": {
              "outlinewidth": 0,
              "ticks": ""
             }
            },
            "type": "scatterternary"
           }
          ],
          "surface": [
           {
            "colorbar": {
             "outlinewidth": 0,
             "ticks": ""
            },
            "colorscale": [
             [
              0,
              "#0d0887"
             ],
             [
              0.1111111111111111,
              "#46039f"
             ],
             [
              0.2222222222222222,
              "#7201a8"
             ],
             [
              0.3333333333333333,
              "#9c179e"
             ],
             [
              0.4444444444444444,
              "#bd3786"
             ],
             [
              0.5555555555555556,
              "#d8576b"
             ],
             [
              0.6666666666666666,
              "#ed7953"
             ],
             [
              0.7777777777777778,
              "#fb9f3a"
             ],
             [
              0.8888888888888888,
              "#fdca26"
             ],
             [
              1,
              "#f0f921"
             ]
            ],
            "type": "surface"
           }
          ],
          "table": [
           {
            "cells": {
             "fill": {
              "color": "#506784"
             },
             "line": {
              "color": "rgb(17,17,17)"
             }
            },
            "header": {
             "fill": {
              "color": "#2a3f5f"
             },
             "line": {
              "color": "rgb(17,17,17)"
             }
            },
            "type": "table"
           }
          ]
         },
         "layout": {
          "annotationdefaults": {
           "arrowcolor": "#f2f5fa",
           "arrowhead": 0,
           "arrowwidth": 1
          },
          "autosize": false,
          "autotypenumbers": "strict",
          "coloraxis": {
           "colorbar": {
            "outlinewidth": 0,
            "ticks": ""
           }
          },
          "colorscale": {
           "diverging": [
            [
             0,
             "#8e0152"
            ],
            [
             0.1,
             "#c51b7d"
            ],
            [
             0.2,
             "#de77ae"
            ],
            [
             0.3,
             "#f1b6da"
            ],
            [
             0.4,
             "#fde0ef"
            ],
            [
             0.5,
             "#f7f7f7"
            ],
            [
             0.6,
             "#e6f5d0"
            ],
            [
             0.7,
             "#b8e186"
            ],
            [
             0.8,
             "#7fbc41"
            ],
            [
             0.9,
             "#4d9221"
            ],
            [
             1,
             "#276419"
            ]
           ],
           "sequential": [
            [
             0,
             "#0d0887"
            ],
            [
             0.1111111111111111,
             "#46039f"
            ],
            [
             0.2222222222222222,
             "#7201a8"
            ],
            [
             0.3333333333333333,
             "#9c179e"
            ],
            [
             0.4444444444444444,
             "#bd3786"
            ],
            [
             0.5555555555555556,
             "#d8576b"
            ],
            [
             0.6666666666666666,
             "#ed7953"
            ],
            [
             0.7777777777777778,
             "#fb9f3a"
            ],
            [
             0.8888888888888888,
             "#fdca26"
            ],
            [
             1,
             "#f0f921"
            ]
           ],
           "sequentialminus": [
            [
             0,
             "#0d0887"
            ],
            [
             0.1111111111111111,
             "#46039f"
            ],
            [
             0.2222222222222222,
             "#7201a8"
            ],
            [
             0.3333333333333333,
             "#9c179e"
            ],
            [
             0.4444444444444444,
             "#bd3786"
            ],
            [
             0.5555555555555556,
             "#d8576b"
            ],
            [
             0.6666666666666666,
             "#ed7953"
            ],
            [
             0.7777777777777778,
             "#fb9f3a"
            ],
            [
             0.8888888888888888,
             "#fdca26"
            ],
            [
             1,
             "#f0f921"
            ]
           ]
          },
          "colorway": [
           "#636efa",
           "#EF553B",
           "#00cc96",
           "#ab63fa",
           "#FFA15A",
           "#19d3f3",
           "#FF6692",
           "#B6E880",
           "#FF97FF",
           "#FECB52"
          ],
          "font": {
           "color": "#f2f5fa"
          },
          "geo": {
           "bgcolor": "rgb(17,17,17)",
           "lakecolor": "rgb(17,17,17)",
           "landcolor": "rgb(17,17,17)",
           "showlakes": true,
           "showland": true,
           "subunitcolor": "#506784"
          },
          "height": 300,
          "hoverlabel": {
           "align": "left"
          },
          "hovermode": "closest",
          "mapbox": {
           "style": "dark"
          },
          "margin": {
           "b": 40,
           "l": 40,
           "r": 40,
           "t": 40
          },
          "paper_bgcolor": "rgba(0,0,0,0)",
          "plot_bgcolor": "rgba(0,0,0,0)",
          "polar": {
           "angularaxis": {
            "gridcolor": "#506784",
            "linecolor": "#506784",
            "ticks": ""
           },
           "bgcolor": "rgb(17,17,17)",
           "radialaxis": {
            "gridcolor": "#506784",
            "linecolor": "#506784",
            "ticks": ""
           }
          },
          "scene": {
           "xaxis": {
            "backgroundcolor": "rgb(17,17,17)",
            "gridcolor": "#506784",
            "gridwidth": 2,
            "linecolor": "#506784",
            "showbackground": true,
            "ticks": "",
            "zerolinecolor": "#C8D4E3"
           },
           "yaxis": {
            "backgroundcolor": "rgb(17,17,17)",
            "gridcolor": "#506784",
            "gridwidth": 2,
            "linecolor": "#506784",
            "showbackground": true,
            "ticks": "",
            "zerolinecolor": "#C8D4E3"
           },
           "zaxis": {
            "backgroundcolor": "rgb(17,17,17)",
            "gridcolor": "#506784",
            "gridwidth": 2,
            "linecolor": "#506784",
            "showbackground": true,
            "ticks": "",
            "zerolinecolor": "#C8D4E3"
           }
          },
          "shapedefaults": {
           "line": {
            "color": "#f2f5fa"
           }
          },
          "sliderdefaults": {
           "bgcolor": "#C8D4E3",
           "bordercolor": "rgb(17,17,17)",
           "borderwidth": 1,
           "tickwidth": 0
          },
          "ternary": {
           "aaxis": {
            "gridcolor": "#506784",
            "linecolor": "#506784",
            "ticks": ""
           },
           "baxis": {
            "gridcolor": "#506784",
            "linecolor": "#506784",
            "ticks": ""
           },
           "bgcolor": "rgb(17,17,17)",
           "caxis": {
            "gridcolor": "#506784",
            "linecolor": "#506784",
            "ticks": ""
           }
          },
          "title": {
           "x": 0.05
          },
          "updatemenudefaults": {
           "bgcolor": "#506784",
           "borderwidth": 0
          },
          "width": 600,
          "xaxis": {
           "automargin": true,
           "gridcolor": "#283442",
           "linecolor": "#506784",
           "ticks": "",
           "title": {
            "standoff": 15
           },
           "zerolinecolor": "#283442",
           "zerolinewidth": 2
          },
          "yaxis": {
           "automargin": true,
           "gridcolor": "#283442",
           "linecolor": "#506784",
           "ticks": "",
           "title": {
            "standoff": 15
           },
           "zerolinecolor": "#283442",
           "zerolinewidth": 2
          }
         }
        },
        "title": {
         "text": "n_lstm_layers"
        },
        "width": 400
       }
      }
     },
     "metadata": {},
     "output_type": "display_data"
    },
    {
     "data": {
      "application/vnd.plotly.v1+json": {
       "config": {
        "plotlyServerURL": "https://plot.ly"
       },
       "data": [
        {
         "type": "scatter",
         "x": [
          0,
          0.5,
          0.6,
          0.65,
          0.7,
          0.75,
          0.8
         ],
         "y": [
          0.9441747572815534,
          0.9490291262135923,
          0.9484223300970874,
          0.9478155339805825,
          0.9502427184466019,
          0.9472087378640777,
          0.933252427184466
         ]
        },
        {
         "type": "scatter",
         "x": [
          0,
          0.5,
          0.6,
          0.65,
          0.7,
          0.75,
          0.8
         ],
         "y": [
          0.9390169902912622,
          0.9409722222222222,
          0.9422676837725382,
          0.9412924757281554,
          0.93679413512978,
          0.9453883495145632,
          0.933252427184466
         ]
        }
       ],
       "layout": {
        "height": 200,
        "template": {
         "data": {
          "bar": [
           {
            "error_x": {
             "color": "#f2f5fa"
            },
            "error_y": {
             "color": "#f2f5fa"
            },
            "marker": {
             "line": {
              "color": "rgb(17,17,17)",
              "width": 0.5
             },
             "pattern": {
              "fillmode": "overlay",
              "size": 10,
              "solidity": 0.2
             }
            },
            "type": "bar"
           }
          ],
          "barpolar": [
           {
            "marker": {
             "line": {
              "color": "rgb(17,17,17)",
              "width": 0.5
             },
             "pattern": {
              "fillmode": "overlay",
              "size": 10,
              "solidity": 0.2
             }
            },
            "type": "barpolar"
           }
          ],
          "carpet": [
           {
            "aaxis": {
             "endlinecolor": "#A2B1C6",
             "gridcolor": "#506784",
             "linecolor": "#506784",
             "minorgridcolor": "#506784",
             "startlinecolor": "#A2B1C6"
            },
            "baxis": {
             "endlinecolor": "#A2B1C6",
             "gridcolor": "#506784",
             "linecolor": "#506784",
             "minorgridcolor": "#506784",
             "startlinecolor": "#A2B1C6"
            },
            "type": "carpet"
           }
          ],
          "choropleth": [
           {
            "colorbar": {
             "outlinewidth": 0,
             "ticks": ""
            },
            "type": "choropleth"
           }
          ],
          "contour": [
           {
            "colorbar": {
             "outlinewidth": 0,
             "ticks": ""
            },
            "colorscale": [
             [
              0,
              "#0d0887"
             ],
             [
              0.1111111111111111,
              "#46039f"
             ],
             [
              0.2222222222222222,
              "#7201a8"
             ],
             [
              0.3333333333333333,
              "#9c179e"
             ],
             [
              0.4444444444444444,
              "#bd3786"
             ],
             [
              0.5555555555555556,
              "#d8576b"
             ],
             [
              0.6666666666666666,
              "#ed7953"
             ],
             [
              0.7777777777777778,
              "#fb9f3a"
             ],
             [
              0.8888888888888888,
              "#fdca26"
             ],
             [
              1,
              "#f0f921"
             ]
            ],
            "type": "contour"
           }
          ],
          "contourcarpet": [
           {
            "colorbar": {
             "outlinewidth": 0,
             "ticks": ""
            },
            "type": "contourcarpet"
           }
          ],
          "heatmap": [
           {
            "colorbar": {
             "outlinewidth": 0,
             "ticks": ""
            },
            "colorscale": [
             [
              0,
              "#0d0887"
             ],
             [
              0.1111111111111111,
              "#46039f"
             ],
             [
              0.2222222222222222,
              "#7201a8"
             ],
             [
              0.3333333333333333,
              "#9c179e"
             ],
             [
              0.4444444444444444,
              "#bd3786"
             ],
             [
              0.5555555555555556,
              "#d8576b"
             ],
             [
              0.6666666666666666,
              "#ed7953"
             ],
             [
              0.7777777777777778,
              "#fb9f3a"
             ],
             [
              0.8888888888888888,
              "#fdca26"
             ],
             [
              1,
              "#f0f921"
             ]
            ],
            "type": "heatmap"
           }
          ],
          "heatmapgl": [
           {
            "colorbar": {
             "outlinewidth": 0,
             "ticks": ""
            },
            "colorscale": [
             [
              0,
              "#0d0887"
             ],
             [
              0.1111111111111111,
              "#46039f"
             ],
             [
              0.2222222222222222,
              "#7201a8"
             ],
             [
              0.3333333333333333,
              "#9c179e"
             ],
             [
              0.4444444444444444,
              "#bd3786"
             ],
             [
              0.5555555555555556,
              "#d8576b"
             ],
             [
              0.6666666666666666,
              "#ed7953"
             ],
             [
              0.7777777777777778,
              "#fb9f3a"
             ],
             [
              0.8888888888888888,
              "#fdca26"
             ],
             [
              1,
              "#f0f921"
             ]
            ],
            "type": "heatmapgl"
           }
          ],
          "histogram": [
           {
            "marker": {
             "pattern": {
              "fillmode": "overlay",
              "size": 10,
              "solidity": 0.2
             }
            },
            "type": "histogram"
           }
          ],
          "histogram2d": [
           {
            "colorbar": {
             "outlinewidth": 0,
             "ticks": ""
            },
            "colorscale": [
             [
              0,
              "#0d0887"
             ],
             [
              0.1111111111111111,
              "#46039f"
             ],
             [
              0.2222222222222222,
              "#7201a8"
             ],
             [
              0.3333333333333333,
              "#9c179e"
             ],
             [
              0.4444444444444444,
              "#bd3786"
             ],
             [
              0.5555555555555556,
              "#d8576b"
             ],
             [
              0.6666666666666666,
              "#ed7953"
             ],
             [
              0.7777777777777778,
              "#fb9f3a"
             ],
             [
              0.8888888888888888,
              "#fdca26"
             ],
             [
              1,
              "#f0f921"
             ]
            ],
            "type": "histogram2d"
           }
          ],
          "histogram2dcontour": [
           {
            "colorbar": {
             "outlinewidth": 0,
             "ticks": ""
            },
            "colorscale": [
             [
              0,
              "#0d0887"
             ],
             [
              0.1111111111111111,
              "#46039f"
             ],
             [
              0.2222222222222222,
              "#7201a8"
             ],
             [
              0.3333333333333333,
              "#9c179e"
             ],
             [
              0.4444444444444444,
              "#bd3786"
             ],
             [
              0.5555555555555556,
              "#d8576b"
             ],
             [
              0.6666666666666666,
              "#ed7953"
             ],
             [
              0.7777777777777778,
              "#fb9f3a"
             ],
             [
              0.8888888888888888,
              "#fdca26"
             ],
             [
              1,
              "#f0f921"
             ]
            ],
            "type": "histogram2dcontour"
           }
          ],
          "mesh3d": [
           {
            "colorbar": {
             "outlinewidth": 0,
             "ticks": ""
            },
            "type": "mesh3d"
           }
          ],
          "parcoords": [
           {
            "line": {
             "colorbar": {
              "outlinewidth": 0,
              "ticks": ""
             }
            },
            "type": "parcoords"
           }
          ],
          "pie": [
           {
            "automargin": true,
            "type": "pie"
           }
          ],
          "scatter": [
           {
            "marker": {
             "line": {
              "color": "#283442"
             }
            },
            "type": "scatter"
           }
          ],
          "scatter3d": [
           {
            "line": {
             "colorbar": {
              "outlinewidth": 0,
              "ticks": ""
             }
            },
            "marker": {
             "colorbar": {
              "outlinewidth": 0,
              "ticks": ""
             }
            },
            "type": "scatter3d"
           }
          ],
          "scattercarpet": [
           {
            "marker": {
             "colorbar": {
              "outlinewidth": 0,
              "ticks": ""
             }
            },
            "type": "scattercarpet"
           }
          ],
          "scattergeo": [
           {
            "marker": {
             "colorbar": {
              "outlinewidth": 0,
              "ticks": ""
             }
            },
            "type": "scattergeo"
           }
          ],
          "scattergl": [
           {
            "marker": {
             "line": {
              "color": "#283442"
             }
            },
            "type": "scattergl"
           }
          ],
          "scattermapbox": [
           {
            "marker": {
             "colorbar": {
              "outlinewidth": 0,
              "ticks": ""
             }
            },
            "type": "scattermapbox"
           }
          ],
          "scatterpolar": [
           {
            "marker": {
             "colorbar": {
              "outlinewidth": 0,
              "ticks": ""
             }
            },
            "type": "scatterpolar"
           }
          ],
          "scatterpolargl": [
           {
            "marker": {
             "colorbar": {
              "outlinewidth": 0,
              "ticks": ""
             }
            },
            "type": "scatterpolargl"
           }
          ],
          "scatterternary": [
           {
            "marker": {
             "colorbar": {
              "outlinewidth": 0,
              "ticks": ""
             }
            },
            "type": "scatterternary"
           }
          ],
          "surface": [
           {
            "colorbar": {
             "outlinewidth": 0,
             "ticks": ""
            },
            "colorscale": [
             [
              0,
              "#0d0887"
             ],
             [
              0.1111111111111111,
              "#46039f"
             ],
             [
              0.2222222222222222,
              "#7201a8"
             ],
             [
              0.3333333333333333,
              "#9c179e"
             ],
             [
              0.4444444444444444,
              "#bd3786"
             ],
             [
              0.5555555555555556,
              "#d8576b"
             ],
             [
              0.6666666666666666,
              "#ed7953"
             ],
             [
              0.7777777777777778,
              "#fb9f3a"
             ],
             [
              0.8888888888888888,
              "#fdca26"
             ],
             [
              1,
              "#f0f921"
             ]
            ],
            "type": "surface"
           }
          ],
          "table": [
           {
            "cells": {
             "fill": {
              "color": "#506784"
             },
             "line": {
              "color": "rgb(17,17,17)"
             }
            },
            "header": {
             "fill": {
              "color": "#2a3f5f"
             },
             "line": {
              "color": "rgb(17,17,17)"
             }
            },
            "type": "table"
           }
          ]
         },
         "layout": {
          "annotationdefaults": {
           "arrowcolor": "#f2f5fa",
           "arrowhead": 0,
           "arrowwidth": 1
          },
          "autosize": false,
          "autotypenumbers": "strict",
          "coloraxis": {
           "colorbar": {
            "outlinewidth": 0,
            "ticks": ""
           }
          },
          "colorscale": {
           "diverging": [
            [
             0,
             "#8e0152"
            ],
            [
             0.1,
             "#c51b7d"
            ],
            [
             0.2,
             "#de77ae"
            ],
            [
             0.3,
             "#f1b6da"
            ],
            [
             0.4,
             "#fde0ef"
            ],
            [
             0.5,
             "#f7f7f7"
            ],
            [
             0.6,
             "#e6f5d0"
            ],
            [
             0.7,
             "#b8e186"
            ],
            [
             0.8,
             "#7fbc41"
            ],
            [
             0.9,
             "#4d9221"
            ],
            [
             1,
             "#276419"
            ]
           ],
           "sequential": [
            [
             0,
             "#0d0887"
            ],
            [
             0.1111111111111111,
             "#46039f"
            ],
            [
             0.2222222222222222,
             "#7201a8"
            ],
            [
             0.3333333333333333,
             "#9c179e"
            ],
            [
             0.4444444444444444,
             "#bd3786"
            ],
            [
             0.5555555555555556,
             "#d8576b"
            ],
            [
             0.6666666666666666,
             "#ed7953"
            ],
            [
             0.7777777777777778,
             "#fb9f3a"
            ],
            [
             0.8888888888888888,
             "#fdca26"
            ],
            [
             1,
             "#f0f921"
            ]
           ],
           "sequentialminus": [
            [
             0,
             "#0d0887"
            ],
            [
             0.1111111111111111,
             "#46039f"
            ],
            [
             0.2222222222222222,
             "#7201a8"
            ],
            [
             0.3333333333333333,
             "#9c179e"
            ],
            [
             0.4444444444444444,
             "#bd3786"
            ],
            [
             0.5555555555555556,
             "#d8576b"
            ],
            [
             0.6666666666666666,
             "#ed7953"
            ],
            [
             0.7777777777777778,
             "#fb9f3a"
            ],
            [
             0.8888888888888888,
             "#fdca26"
            ],
            [
             1,
             "#f0f921"
            ]
           ]
          },
          "colorway": [
           "#636efa",
           "#EF553B",
           "#00cc96",
           "#ab63fa",
           "#FFA15A",
           "#19d3f3",
           "#FF6692",
           "#B6E880",
           "#FF97FF",
           "#FECB52"
          ],
          "font": {
           "color": "#f2f5fa"
          },
          "geo": {
           "bgcolor": "rgb(17,17,17)",
           "lakecolor": "rgb(17,17,17)",
           "landcolor": "rgb(17,17,17)",
           "showlakes": true,
           "showland": true,
           "subunitcolor": "#506784"
          },
          "height": 300,
          "hoverlabel": {
           "align": "left"
          },
          "hovermode": "closest",
          "mapbox": {
           "style": "dark"
          },
          "margin": {
           "b": 40,
           "l": 40,
           "r": 40,
           "t": 40
          },
          "paper_bgcolor": "rgba(0,0,0,0)",
          "plot_bgcolor": "rgba(0,0,0,0)",
          "polar": {
           "angularaxis": {
            "gridcolor": "#506784",
            "linecolor": "#506784",
            "ticks": ""
           },
           "bgcolor": "rgb(17,17,17)",
           "radialaxis": {
            "gridcolor": "#506784",
            "linecolor": "#506784",
            "ticks": ""
           }
          },
          "scene": {
           "xaxis": {
            "backgroundcolor": "rgb(17,17,17)",
            "gridcolor": "#506784",
            "gridwidth": 2,
            "linecolor": "#506784",
            "showbackground": true,
            "ticks": "",
            "zerolinecolor": "#C8D4E3"
           },
           "yaxis": {
            "backgroundcolor": "rgb(17,17,17)",
            "gridcolor": "#506784",
            "gridwidth": 2,
            "linecolor": "#506784",
            "showbackground": true,
            "ticks": "",
            "zerolinecolor": "#C8D4E3"
           },
           "zaxis": {
            "backgroundcolor": "rgb(17,17,17)",
            "gridcolor": "#506784",
            "gridwidth": 2,
            "linecolor": "#506784",
            "showbackground": true,
            "ticks": "",
            "zerolinecolor": "#C8D4E3"
           }
          },
          "shapedefaults": {
           "line": {
            "color": "#f2f5fa"
           }
          },
          "sliderdefaults": {
           "bgcolor": "#C8D4E3",
           "bordercolor": "rgb(17,17,17)",
           "borderwidth": 1,
           "tickwidth": 0
          },
          "ternary": {
           "aaxis": {
            "gridcolor": "#506784",
            "linecolor": "#506784",
            "ticks": ""
           },
           "baxis": {
            "gridcolor": "#506784",
            "linecolor": "#506784",
            "ticks": ""
           },
           "bgcolor": "rgb(17,17,17)",
           "caxis": {
            "gridcolor": "#506784",
            "linecolor": "#506784",
            "ticks": ""
           }
          },
          "title": {
           "x": 0.05
          },
          "updatemenudefaults": {
           "bgcolor": "#506784",
           "borderwidth": 0
          },
          "width": 600,
          "xaxis": {
           "automargin": true,
           "gridcolor": "#283442",
           "linecolor": "#506784",
           "ticks": "",
           "title": {
            "standoff": 15
           },
           "zerolinecolor": "#283442",
           "zerolinewidth": 2
          },
          "yaxis": {
           "automargin": true,
           "gridcolor": "#283442",
           "linecolor": "#506784",
           "ticks": "",
           "title": {
            "standoff": 15
           },
           "zerolinecolor": "#283442",
           "zerolinewidth": 2
          }
         }
        },
        "title": {
         "text": "dropout_lstm"
        },
        "width": 400
       }
      }
     },
     "metadata": {},
     "output_type": "display_data"
    },
    {
     "data": {
      "application/vnd.plotly.v1+json": {
       "config": {
        "plotlyServerURL": "https://plot.ly"
       },
       "data": [
        {
         "type": "scatter",
         "x": [
          10
         ],
         "y": [
          0.9502427184466019
         ]
        },
        {
         "type": "scatter",
         "x": [
          10
         ],
         "y": [
          0.9387272281007965
         ]
        }
       ],
       "layout": {
        "height": 200,
        "template": {
         "data": {
          "bar": [
           {
            "error_x": {
             "color": "#f2f5fa"
            },
            "error_y": {
             "color": "#f2f5fa"
            },
            "marker": {
             "line": {
              "color": "rgb(17,17,17)",
              "width": 0.5
             },
             "pattern": {
              "fillmode": "overlay",
              "size": 10,
              "solidity": 0.2
             }
            },
            "type": "bar"
           }
          ],
          "barpolar": [
           {
            "marker": {
             "line": {
              "color": "rgb(17,17,17)",
              "width": 0.5
             },
             "pattern": {
              "fillmode": "overlay",
              "size": 10,
              "solidity": 0.2
             }
            },
            "type": "barpolar"
           }
          ],
          "carpet": [
           {
            "aaxis": {
             "endlinecolor": "#A2B1C6",
             "gridcolor": "#506784",
             "linecolor": "#506784",
             "minorgridcolor": "#506784",
             "startlinecolor": "#A2B1C6"
            },
            "baxis": {
             "endlinecolor": "#A2B1C6",
             "gridcolor": "#506784",
             "linecolor": "#506784",
             "minorgridcolor": "#506784",
             "startlinecolor": "#A2B1C6"
            },
            "type": "carpet"
           }
          ],
          "choropleth": [
           {
            "colorbar": {
             "outlinewidth": 0,
             "ticks": ""
            },
            "type": "choropleth"
           }
          ],
          "contour": [
           {
            "colorbar": {
             "outlinewidth": 0,
             "ticks": ""
            },
            "colorscale": [
             [
              0,
              "#0d0887"
             ],
             [
              0.1111111111111111,
              "#46039f"
             ],
             [
              0.2222222222222222,
              "#7201a8"
             ],
             [
              0.3333333333333333,
              "#9c179e"
             ],
             [
              0.4444444444444444,
              "#bd3786"
             ],
             [
              0.5555555555555556,
              "#d8576b"
             ],
             [
              0.6666666666666666,
              "#ed7953"
             ],
             [
              0.7777777777777778,
              "#fb9f3a"
             ],
             [
              0.8888888888888888,
              "#fdca26"
             ],
             [
              1,
              "#f0f921"
             ]
            ],
            "type": "contour"
           }
          ],
          "contourcarpet": [
           {
            "colorbar": {
             "outlinewidth": 0,
             "ticks": ""
            },
            "type": "contourcarpet"
           }
          ],
          "heatmap": [
           {
            "colorbar": {
             "outlinewidth": 0,
             "ticks": ""
            },
            "colorscale": [
             [
              0,
              "#0d0887"
             ],
             [
              0.1111111111111111,
              "#46039f"
             ],
             [
              0.2222222222222222,
              "#7201a8"
             ],
             [
              0.3333333333333333,
              "#9c179e"
             ],
             [
              0.4444444444444444,
              "#bd3786"
             ],
             [
              0.5555555555555556,
              "#d8576b"
             ],
             [
              0.6666666666666666,
              "#ed7953"
             ],
             [
              0.7777777777777778,
              "#fb9f3a"
             ],
             [
              0.8888888888888888,
              "#fdca26"
             ],
             [
              1,
              "#f0f921"
             ]
            ],
            "type": "heatmap"
           }
          ],
          "heatmapgl": [
           {
            "colorbar": {
             "outlinewidth": 0,
             "ticks": ""
            },
            "colorscale": [
             [
              0,
              "#0d0887"
             ],
             [
              0.1111111111111111,
              "#46039f"
             ],
             [
              0.2222222222222222,
              "#7201a8"
             ],
             [
              0.3333333333333333,
              "#9c179e"
             ],
             [
              0.4444444444444444,
              "#bd3786"
             ],
             [
              0.5555555555555556,
              "#d8576b"
             ],
             [
              0.6666666666666666,
              "#ed7953"
             ],
             [
              0.7777777777777778,
              "#fb9f3a"
             ],
             [
              0.8888888888888888,
              "#fdca26"
             ],
             [
              1,
              "#f0f921"
             ]
            ],
            "type": "heatmapgl"
           }
          ],
          "histogram": [
           {
            "marker": {
             "pattern": {
              "fillmode": "overlay",
              "size": 10,
              "solidity": 0.2
             }
            },
            "type": "histogram"
           }
          ],
          "histogram2d": [
           {
            "colorbar": {
             "outlinewidth": 0,
             "ticks": ""
            },
            "colorscale": [
             [
              0,
              "#0d0887"
             ],
             [
              0.1111111111111111,
              "#46039f"
             ],
             [
              0.2222222222222222,
              "#7201a8"
             ],
             [
              0.3333333333333333,
              "#9c179e"
             ],
             [
              0.4444444444444444,
              "#bd3786"
             ],
             [
              0.5555555555555556,
              "#d8576b"
             ],
             [
              0.6666666666666666,
              "#ed7953"
             ],
             [
              0.7777777777777778,
              "#fb9f3a"
             ],
             [
              0.8888888888888888,
              "#fdca26"
             ],
             [
              1,
              "#f0f921"
             ]
            ],
            "type": "histogram2d"
           }
          ],
          "histogram2dcontour": [
           {
            "colorbar": {
             "outlinewidth": 0,
             "ticks": ""
            },
            "colorscale": [
             [
              0,
              "#0d0887"
             ],
             [
              0.1111111111111111,
              "#46039f"
             ],
             [
              0.2222222222222222,
              "#7201a8"
             ],
             [
              0.3333333333333333,
              "#9c179e"
             ],
             [
              0.4444444444444444,
              "#bd3786"
             ],
             [
              0.5555555555555556,
              "#d8576b"
             ],
             [
              0.6666666666666666,
              "#ed7953"
             ],
             [
              0.7777777777777778,
              "#fb9f3a"
             ],
             [
              0.8888888888888888,
              "#fdca26"
             ],
             [
              1,
              "#f0f921"
             ]
            ],
            "type": "histogram2dcontour"
           }
          ],
          "mesh3d": [
           {
            "colorbar": {
             "outlinewidth": 0,
             "ticks": ""
            },
            "type": "mesh3d"
           }
          ],
          "parcoords": [
           {
            "line": {
             "colorbar": {
              "outlinewidth": 0,
              "ticks": ""
             }
            },
            "type": "parcoords"
           }
          ],
          "pie": [
           {
            "automargin": true,
            "type": "pie"
           }
          ],
          "scatter": [
           {
            "marker": {
             "line": {
              "color": "#283442"
             }
            },
            "type": "scatter"
           }
          ],
          "scatter3d": [
           {
            "line": {
             "colorbar": {
              "outlinewidth": 0,
              "ticks": ""
             }
            },
            "marker": {
             "colorbar": {
              "outlinewidth": 0,
              "ticks": ""
             }
            },
            "type": "scatter3d"
           }
          ],
          "scattercarpet": [
           {
            "marker": {
             "colorbar": {
              "outlinewidth": 0,
              "ticks": ""
             }
            },
            "type": "scattercarpet"
           }
          ],
          "scattergeo": [
           {
            "marker": {
             "colorbar": {
              "outlinewidth": 0,
              "ticks": ""
             }
            },
            "type": "scattergeo"
           }
          ],
          "scattergl": [
           {
            "marker": {
             "line": {
              "color": "#283442"
             }
            },
            "type": "scattergl"
           }
          ],
          "scattermapbox": [
           {
            "marker": {
             "colorbar": {
              "outlinewidth": 0,
              "ticks": ""
             }
            },
            "type": "scattermapbox"
           }
          ],
          "scatterpolar": [
           {
            "marker": {
             "colorbar": {
              "outlinewidth": 0,
              "ticks": ""
             }
            },
            "type": "scatterpolar"
           }
          ],
          "scatterpolargl": [
           {
            "marker": {
             "colorbar": {
              "outlinewidth": 0,
              "ticks": ""
             }
            },
            "type": "scatterpolargl"
           }
          ],
          "scatterternary": [
           {
            "marker": {
             "colorbar": {
              "outlinewidth": 0,
              "ticks": ""
             }
            },
            "type": "scatterternary"
           }
          ],
          "surface": [
           {
            "colorbar": {
             "outlinewidth": 0,
             "ticks": ""
            },
            "colorscale": [
             [
              0,
              "#0d0887"
             ],
             [
              0.1111111111111111,
              "#46039f"
             ],
             [
              0.2222222222222222,
              "#7201a8"
             ],
             [
              0.3333333333333333,
              "#9c179e"
             ],
             [
              0.4444444444444444,
              "#bd3786"
             ],
             [
              0.5555555555555556,
              "#d8576b"
             ],
             [
              0.6666666666666666,
              "#ed7953"
             ],
             [
              0.7777777777777778,
              "#fb9f3a"
             ],
             [
              0.8888888888888888,
              "#fdca26"
             ],
             [
              1,
              "#f0f921"
             ]
            ],
            "type": "surface"
           }
          ],
          "table": [
           {
            "cells": {
             "fill": {
              "color": "#506784"
             },
             "line": {
              "color": "rgb(17,17,17)"
             }
            },
            "header": {
             "fill": {
              "color": "#2a3f5f"
             },
             "line": {
              "color": "rgb(17,17,17)"
             }
            },
            "type": "table"
           }
          ]
         },
         "layout": {
          "annotationdefaults": {
           "arrowcolor": "#f2f5fa",
           "arrowhead": 0,
           "arrowwidth": 1
          },
          "autosize": false,
          "autotypenumbers": "strict",
          "coloraxis": {
           "colorbar": {
            "outlinewidth": 0,
            "ticks": ""
           }
          },
          "colorscale": {
           "diverging": [
            [
             0,
             "#8e0152"
            ],
            [
             0.1,
             "#c51b7d"
            ],
            [
             0.2,
             "#de77ae"
            ],
            [
             0.3,
             "#f1b6da"
            ],
            [
             0.4,
             "#fde0ef"
            ],
            [
             0.5,
             "#f7f7f7"
            ],
            [
             0.6,
             "#e6f5d0"
            ],
            [
             0.7,
             "#b8e186"
            ],
            [
             0.8,
             "#7fbc41"
            ],
            [
             0.9,
             "#4d9221"
            ],
            [
             1,
             "#276419"
            ]
           ],
           "sequential": [
            [
             0,
             "#0d0887"
            ],
            [
             0.1111111111111111,
             "#46039f"
            ],
            [
             0.2222222222222222,
             "#7201a8"
            ],
            [
             0.3333333333333333,
             "#9c179e"
            ],
            [
             0.4444444444444444,
             "#bd3786"
            ],
            [
             0.5555555555555556,
             "#d8576b"
            ],
            [
             0.6666666666666666,
             "#ed7953"
            ],
            [
             0.7777777777777778,
             "#fb9f3a"
            ],
            [
             0.8888888888888888,
             "#fdca26"
            ],
            [
             1,
             "#f0f921"
            ]
           ],
           "sequentialminus": [
            [
             0,
             "#0d0887"
            ],
            [
             0.1111111111111111,
             "#46039f"
            ],
            [
             0.2222222222222222,
             "#7201a8"
            ],
            [
             0.3333333333333333,
             "#9c179e"
            ],
            [
             0.4444444444444444,
             "#bd3786"
            ],
            [
             0.5555555555555556,
             "#d8576b"
            ],
            [
             0.6666666666666666,
             "#ed7953"
            ],
            [
             0.7777777777777778,
             "#fb9f3a"
            ],
            [
             0.8888888888888888,
             "#fdca26"
            ],
            [
             1,
             "#f0f921"
            ]
           ]
          },
          "colorway": [
           "#636efa",
           "#EF553B",
           "#00cc96",
           "#ab63fa",
           "#FFA15A",
           "#19d3f3",
           "#FF6692",
           "#B6E880",
           "#FF97FF",
           "#FECB52"
          ],
          "font": {
           "color": "#f2f5fa"
          },
          "geo": {
           "bgcolor": "rgb(17,17,17)",
           "lakecolor": "rgb(17,17,17)",
           "landcolor": "rgb(17,17,17)",
           "showlakes": true,
           "showland": true,
           "subunitcolor": "#506784"
          },
          "height": 300,
          "hoverlabel": {
           "align": "left"
          },
          "hovermode": "closest",
          "mapbox": {
           "style": "dark"
          },
          "margin": {
           "b": 40,
           "l": 40,
           "r": 40,
           "t": 40
          },
          "paper_bgcolor": "rgba(0,0,0,0)",
          "plot_bgcolor": "rgba(0,0,0,0)",
          "polar": {
           "angularaxis": {
            "gridcolor": "#506784",
            "linecolor": "#506784",
            "ticks": ""
           },
           "bgcolor": "rgb(17,17,17)",
           "radialaxis": {
            "gridcolor": "#506784",
            "linecolor": "#506784",
            "ticks": ""
           }
          },
          "scene": {
           "xaxis": {
            "backgroundcolor": "rgb(17,17,17)",
            "gridcolor": "#506784",
            "gridwidth": 2,
            "linecolor": "#506784",
            "showbackground": true,
            "ticks": "",
            "zerolinecolor": "#C8D4E3"
           },
           "yaxis": {
            "backgroundcolor": "rgb(17,17,17)",
            "gridcolor": "#506784",
            "gridwidth": 2,
            "linecolor": "#506784",
            "showbackground": true,
            "ticks": "",
            "zerolinecolor": "#C8D4E3"
           },
           "zaxis": {
            "backgroundcolor": "rgb(17,17,17)",
            "gridcolor": "#506784",
            "gridwidth": 2,
            "linecolor": "#506784",
            "showbackground": true,
            "ticks": "",
            "zerolinecolor": "#C8D4E3"
           }
          },
          "shapedefaults": {
           "line": {
            "color": "#f2f5fa"
           }
          },
          "sliderdefaults": {
           "bgcolor": "#C8D4E3",
           "bordercolor": "rgb(17,17,17)",
           "borderwidth": 1,
           "tickwidth": 0
          },
          "ternary": {
           "aaxis": {
            "gridcolor": "#506784",
            "linecolor": "#506784",
            "ticks": ""
           },
           "baxis": {
            "gridcolor": "#506784",
            "linecolor": "#506784",
            "ticks": ""
           },
           "bgcolor": "rgb(17,17,17)",
           "caxis": {
            "gridcolor": "#506784",
            "linecolor": "#506784",
            "ticks": ""
           }
          },
          "title": {
           "x": 0.05
          },
          "updatemenudefaults": {
           "bgcolor": "#506784",
           "borderwidth": 0
          },
          "width": 600,
          "xaxis": {
           "automargin": true,
           "gridcolor": "#283442",
           "linecolor": "#506784",
           "ticks": "",
           "title": {
            "standoff": 15
           },
           "zerolinecolor": "#283442",
           "zerolinewidth": 2
          },
          "yaxis": {
           "automargin": true,
           "gridcolor": "#283442",
           "linecolor": "#506784",
           "ticks": "",
           "title": {
            "standoff": 15
           },
           "zerolinecolor": "#283442",
           "zerolinewidth": 2
          }
         }
        },
        "title": {
         "text": "train_time"
        },
        "width": 400
       }
      }
     },
     "metadata": {},
     "output_type": "display_data"
    },
    {
     "data": {
      "application/vnd.plotly.v1+json": {
       "config": {
        "plotlyServerURL": "https://plot.ly"
       },
       "data": [
        {
         "type": "scatter",
         "x": [
          5,
          10,
          15
         ],
         "y": [
          0.9490291262135923,
          0.9502427184466019,
          0.9484223300970874
         ]
        },
        {
         "type": "scatter",
         "x": [
          5,
          10,
          15
         ],
         "y": [
          0.9415200242718447,
          0.9374620752427184,
          0.9427588996763754
         ]
        }
       ],
       "layout": {
        "height": 200,
        "template": {
         "data": {
          "bar": [
           {
            "error_x": {
             "color": "#f2f5fa"
            },
            "error_y": {
             "color": "#f2f5fa"
            },
            "marker": {
             "line": {
              "color": "rgb(17,17,17)",
              "width": 0.5
             },
             "pattern": {
              "fillmode": "overlay",
              "size": 10,
              "solidity": 0.2
             }
            },
            "type": "bar"
           }
          ],
          "barpolar": [
           {
            "marker": {
             "line": {
              "color": "rgb(17,17,17)",
              "width": 0.5
             },
             "pattern": {
              "fillmode": "overlay",
              "size": 10,
              "solidity": 0.2
             }
            },
            "type": "barpolar"
           }
          ],
          "carpet": [
           {
            "aaxis": {
             "endlinecolor": "#A2B1C6",
             "gridcolor": "#506784",
             "linecolor": "#506784",
             "minorgridcolor": "#506784",
             "startlinecolor": "#A2B1C6"
            },
            "baxis": {
             "endlinecolor": "#A2B1C6",
             "gridcolor": "#506784",
             "linecolor": "#506784",
             "minorgridcolor": "#506784",
             "startlinecolor": "#A2B1C6"
            },
            "type": "carpet"
           }
          ],
          "choropleth": [
           {
            "colorbar": {
             "outlinewidth": 0,
             "ticks": ""
            },
            "type": "choropleth"
           }
          ],
          "contour": [
           {
            "colorbar": {
             "outlinewidth": 0,
             "ticks": ""
            },
            "colorscale": [
             [
              0,
              "#0d0887"
             ],
             [
              0.1111111111111111,
              "#46039f"
             ],
             [
              0.2222222222222222,
              "#7201a8"
             ],
             [
              0.3333333333333333,
              "#9c179e"
             ],
             [
              0.4444444444444444,
              "#bd3786"
             ],
             [
              0.5555555555555556,
              "#d8576b"
             ],
             [
              0.6666666666666666,
              "#ed7953"
             ],
             [
              0.7777777777777778,
              "#fb9f3a"
             ],
             [
              0.8888888888888888,
              "#fdca26"
             ],
             [
              1,
              "#f0f921"
             ]
            ],
            "type": "contour"
           }
          ],
          "contourcarpet": [
           {
            "colorbar": {
             "outlinewidth": 0,
             "ticks": ""
            },
            "type": "contourcarpet"
           }
          ],
          "heatmap": [
           {
            "colorbar": {
             "outlinewidth": 0,
             "ticks": ""
            },
            "colorscale": [
             [
              0,
              "#0d0887"
             ],
             [
              0.1111111111111111,
              "#46039f"
             ],
             [
              0.2222222222222222,
              "#7201a8"
             ],
             [
              0.3333333333333333,
              "#9c179e"
             ],
             [
              0.4444444444444444,
              "#bd3786"
             ],
             [
              0.5555555555555556,
              "#d8576b"
             ],
             [
              0.6666666666666666,
              "#ed7953"
             ],
             [
              0.7777777777777778,
              "#fb9f3a"
             ],
             [
              0.8888888888888888,
              "#fdca26"
             ],
             [
              1,
              "#f0f921"
             ]
            ],
            "type": "heatmap"
           }
          ],
          "heatmapgl": [
           {
            "colorbar": {
             "outlinewidth": 0,
             "ticks": ""
            },
            "colorscale": [
             [
              0,
              "#0d0887"
             ],
             [
              0.1111111111111111,
              "#46039f"
             ],
             [
              0.2222222222222222,
              "#7201a8"
             ],
             [
              0.3333333333333333,
              "#9c179e"
             ],
             [
              0.4444444444444444,
              "#bd3786"
             ],
             [
              0.5555555555555556,
              "#d8576b"
             ],
             [
              0.6666666666666666,
              "#ed7953"
             ],
             [
              0.7777777777777778,
              "#fb9f3a"
             ],
             [
              0.8888888888888888,
              "#fdca26"
             ],
             [
              1,
              "#f0f921"
             ]
            ],
            "type": "heatmapgl"
           }
          ],
          "histogram": [
           {
            "marker": {
             "pattern": {
              "fillmode": "overlay",
              "size": 10,
              "solidity": 0.2
             }
            },
            "type": "histogram"
           }
          ],
          "histogram2d": [
           {
            "colorbar": {
             "outlinewidth": 0,
             "ticks": ""
            },
            "colorscale": [
             [
              0,
              "#0d0887"
             ],
             [
              0.1111111111111111,
              "#46039f"
             ],
             [
              0.2222222222222222,
              "#7201a8"
             ],
             [
              0.3333333333333333,
              "#9c179e"
             ],
             [
              0.4444444444444444,
              "#bd3786"
             ],
             [
              0.5555555555555556,
              "#d8576b"
             ],
             [
              0.6666666666666666,
              "#ed7953"
             ],
             [
              0.7777777777777778,
              "#fb9f3a"
             ],
             [
              0.8888888888888888,
              "#fdca26"
             ],
             [
              1,
              "#f0f921"
             ]
            ],
            "type": "histogram2d"
           }
          ],
          "histogram2dcontour": [
           {
            "colorbar": {
             "outlinewidth": 0,
             "ticks": ""
            },
            "colorscale": [
             [
              0,
              "#0d0887"
             ],
             [
              0.1111111111111111,
              "#46039f"
             ],
             [
              0.2222222222222222,
              "#7201a8"
             ],
             [
              0.3333333333333333,
              "#9c179e"
             ],
             [
              0.4444444444444444,
              "#bd3786"
             ],
             [
              0.5555555555555556,
              "#d8576b"
             ],
             [
              0.6666666666666666,
              "#ed7953"
             ],
             [
              0.7777777777777778,
              "#fb9f3a"
             ],
             [
              0.8888888888888888,
              "#fdca26"
             ],
             [
              1,
              "#f0f921"
             ]
            ],
            "type": "histogram2dcontour"
           }
          ],
          "mesh3d": [
           {
            "colorbar": {
             "outlinewidth": 0,
             "ticks": ""
            },
            "type": "mesh3d"
           }
          ],
          "parcoords": [
           {
            "line": {
             "colorbar": {
              "outlinewidth": 0,
              "ticks": ""
             }
            },
            "type": "parcoords"
           }
          ],
          "pie": [
           {
            "automargin": true,
            "type": "pie"
           }
          ],
          "scatter": [
           {
            "marker": {
             "line": {
              "color": "#283442"
             }
            },
            "type": "scatter"
           }
          ],
          "scatter3d": [
           {
            "line": {
             "colorbar": {
              "outlinewidth": 0,
              "ticks": ""
             }
            },
            "marker": {
             "colorbar": {
              "outlinewidth": 0,
              "ticks": ""
             }
            },
            "type": "scatter3d"
           }
          ],
          "scattercarpet": [
           {
            "marker": {
             "colorbar": {
              "outlinewidth": 0,
              "ticks": ""
             }
            },
            "type": "scattercarpet"
           }
          ],
          "scattergeo": [
           {
            "marker": {
             "colorbar": {
              "outlinewidth": 0,
              "ticks": ""
             }
            },
            "type": "scattergeo"
           }
          ],
          "scattergl": [
           {
            "marker": {
             "line": {
              "color": "#283442"
             }
            },
            "type": "scattergl"
           }
          ],
          "scattermapbox": [
           {
            "marker": {
             "colorbar": {
              "outlinewidth": 0,
              "ticks": ""
             }
            },
            "type": "scattermapbox"
           }
          ],
          "scatterpolar": [
           {
            "marker": {
             "colorbar": {
              "outlinewidth": 0,
              "ticks": ""
             }
            },
            "type": "scatterpolar"
           }
          ],
          "scatterpolargl": [
           {
            "marker": {
             "colorbar": {
              "outlinewidth": 0,
              "ticks": ""
             }
            },
            "type": "scatterpolargl"
           }
          ],
          "scatterternary": [
           {
            "marker": {
             "colorbar": {
              "outlinewidth": 0,
              "ticks": ""
             }
            },
            "type": "scatterternary"
           }
          ],
          "surface": [
           {
            "colorbar": {
             "outlinewidth": 0,
             "ticks": ""
            },
            "colorscale": [
             [
              0,
              "#0d0887"
             ],
             [
              0.1111111111111111,
              "#46039f"
             ],
             [
              0.2222222222222222,
              "#7201a8"
             ],
             [
              0.3333333333333333,
              "#9c179e"
             ],
             [
              0.4444444444444444,
              "#bd3786"
             ],
             [
              0.5555555555555556,
              "#d8576b"
             ],
             [
              0.6666666666666666,
              "#ed7953"
             ],
             [
              0.7777777777777778,
              "#fb9f3a"
             ],
             [
              0.8888888888888888,
              "#fdca26"
             ],
             [
              1,
              "#f0f921"
             ]
            ],
            "type": "surface"
           }
          ],
          "table": [
           {
            "cells": {
             "fill": {
              "color": "#506784"
             },
             "line": {
              "color": "rgb(17,17,17)"
             }
            },
            "header": {
             "fill": {
              "color": "#2a3f5f"
             },
             "line": {
              "color": "rgb(17,17,17)"
             }
            },
            "type": "table"
           }
          ]
         },
         "layout": {
          "annotationdefaults": {
           "arrowcolor": "#f2f5fa",
           "arrowhead": 0,
           "arrowwidth": 1
          },
          "autosize": false,
          "autotypenumbers": "strict",
          "coloraxis": {
           "colorbar": {
            "outlinewidth": 0,
            "ticks": ""
           }
          },
          "colorscale": {
           "diverging": [
            [
             0,
             "#8e0152"
            ],
            [
             0.1,
             "#c51b7d"
            ],
            [
             0.2,
             "#de77ae"
            ],
            [
             0.3,
             "#f1b6da"
            ],
            [
             0.4,
             "#fde0ef"
            ],
            [
             0.5,
             "#f7f7f7"
            ],
            [
             0.6,
             "#e6f5d0"
            ],
            [
             0.7,
             "#b8e186"
            ],
            [
             0.8,
             "#7fbc41"
            ],
            [
             0.9,
             "#4d9221"
            ],
            [
             1,
             "#276419"
            ]
           ],
           "sequential": [
            [
             0,
             "#0d0887"
            ],
            [
             0.1111111111111111,
             "#46039f"
            ],
            [
             0.2222222222222222,
             "#7201a8"
            ],
            [
             0.3333333333333333,
             "#9c179e"
            ],
            [
             0.4444444444444444,
             "#bd3786"
            ],
            [
             0.5555555555555556,
             "#d8576b"
            ],
            [
             0.6666666666666666,
             "#ed7953"
            ],
            [
             0.7777777777777778,
             "#fb9f3a"
            ],
            [
             0.8888888888888888,
             "#fdca26"
            ],
            [
             1,
             "#f0f921"
            ]
           ],
           "sequentialminus": [
            [
             0,
             "#0d0887"
            ],
            [
             0.1111111111111111,
             "#46039f"
            ],
            [
             0.2222222222222222,
             "#7201a8"
            ],
            [
             0.3333333333333333,
             "#9c179e"
            ],
            [
             0.4444444444444444,
             "#bd3786"
            ],
            [
             0.5555555555555556,
             "#d8576b"
            ],
            [
             0.6666666666666666,
             "#ed7953"
            ],
            [
             0.7777777777777778,
             "#fb9f3a"
            ],
            [
             0.8888888888888888,
             "#fdca26"
            ],
            [
             1,
             "#f0f921"
            ]
           ]
          },
          "colorway": [
           "#636efa",
           "#EF553B",
           "#00cc96",
           "#ab63fa",
           "#FFA15A",
           "#19d3f3",
           "#FF6692",
           "#B6E880",
           "#FF97FF",
           "#FECB52"
          ],
          "font": {
           "color": "#f2f5fa"
          },
          "geo": {
           "bgcolor": "rgb(17,17,17)",
           "lakecolor": "rgb(17,17,17)",
           "landcolor": "rgb(17,17,17)",
           "showlakes": true,
           "showland": true,
           "subunitcolor": "#506784"
          },
          "height": 300,
          "hoverlabel": {
           "align": "left"
          },
          "hovermode": "closest",
          "mapbox": {
           "style": "dark"
          },
          "margin": {
           "b": 40,
           "l": 40,
           "r": 40,
           "t": 40
          },
          "paper_bgcolor": "rgba(0,0,0,0)",
          "plot_bgcolor": "rgba(0,0,0,0)",
          "polar": {
           "angularaxis": {
            "gridcolor": "#506784",
            "linecolor": "#506784",
            "ticks": ""
           },
           "bgcolor": "rgb(17,17,17)",
           "radialaxis": {
            "gridcolor": "#506784",
            "linecolor": "#506784",
            "ticks": ""
           }
          },
          "scene": {
           "xaxis": {
            "backgroundcolor": "rgb(17,17,17)",
            "gridcolor": "#506784",
            "gridwidth": 2,
            "linecolor": "#506784",
            "showbackground": true,
            "ticks": "",
            "zerolinecolor": "#C8D4E3"
           },
           "yaxis": {
            "backgroundcolor": "rgb(17,17,17)",
            "gridcolor": "#506784",
            "gridwidth": 2,
            "linecolor": "#506784",
            "showbackground": true,
            "ticks": "",
            "zerolinecolor": "#C8D4E3"
           },
           "zaxis": {
            "backgroundcolor": "rgb(17,17,17)",
            "gridcolor": "#506784",
            "gridwidth": 2,
            "linecolor": "#506784",
            "showbackground": true,
            "ticks": "",
            "zerolinecolor": "#C8D4E3"
           }
          },
          "shapedefaults": {
           "line": {
            "color": "#f2f5fa"
           }
          },
          "sliderdefaults": {
           "bgcolor": "#C8D4E3",
           "bordercolor": "rgb(17,17,17)",
           "borderwidth": 1,
           "tickwidth": 0
          },
          "ternary": {
           "aaxis": {
            "gridcolor": "#506784",
            "linecolor": "#506784",
            "ticks": ""
           },
           "baxis": {
            "gridcolor": "#506784",
            "linecolor": "#506784",
            "ticks": ""
           },
           "bgcolor": "rgb(17,17,17)",
           "caxis": {
            "gridcolor": "#506784",
            "linecolor": "#506784",
            "ticks": ""
           }
          },
          "title": {
           "x": 0.05
          },
          "updatemenudefaults": {
           "bgcolor": "#506784",
           "borderwidth": 0
          },
          "width": 600,
          "xaxis": {
           "automargin": true,
           "gridcolor": "#283442",
           "linecolor": "#506784",
           "ticks": "",
           "title": {
            "standoff": 15
           },
           "zerolinecolor": "#283442",
           "zerolinewidth": 2
          },
          "yaxis": {
           "automargin": true,
           "gridcolor": "#283442",
           "linecolor": "#506784",
           "ticks": "",
           "title": {
            "standoff": 15
           },
           "zerolinecolor": "#283442",
           "zerolinewidth": 2
          }
         }
        },
        "title": {
         "text": "class_weight_smoothing"
        },
        "width": 400
       }
      }
     },
     "metadata": {},
     "output_type": "display_data"
    },
    {
     "data": {
      "application/vnd.plotly.v1+json": {
       "config": {
        "plotlyServerURL": "https://plot.ly"
       },
       "data": [
        {
         "type": "scatter",
         "x": [
          0,
          0.1,
          0.2,
          0.3
         ],
         "y": [
          0.9490291262135923,
          0.9502427184466019,
          0.9490291262135923,
          0.9453883495145631
         ]
        },
        {
         "type": "scatter",
         "x": [
          0,
          0.1,
          0.2,
          0.3
         ],
         "y": [
          0.9404328478964403,
          0.939330501618123,
          0.9396671289875174,
          0.9203580097087378
         ]
        }
       ],
       "layout": {
        "height": 200,
        "template": {
         "data": {
          "bar": [
           {
            "error_x": {
             "color": "#f2f5fa"
            },
            "error_y": {
             "color": "#f2f5fa"
            },
            "marker": {
             "line": {
              "color": "rgb(17,17,17)",
              "width": 0.5
             },
             "pattern": {
              "fillmode": "overlay",
              "size": 10,
              "solidity": 0.2
             }
            },
            "type": "bar"
           }
          ],
          "barpolar": [
           {
            "marker": {
             "line": {
              "color": "rgb(17,17,17)",
              "width": 0.5
             },
             "pattern": {
              "fillmode": "overlay",
              "size": 10,
              "solidity": 0.2
             }
            },
            "type": "barpolar"
           }
          ],
          "carpet": [
           {
            "aaxis": {
             "endlinecolor": "#A2B1C6",
             "gridcolor": "#506784",
             "linecolor": "#506784",
             "minorgridcolor": "#506784",
             "startlinecolor": "#A2B1C6"
            },
            "baxis": {
             "endlinecolor": "#A2B1C6",
             "gridcolor": "#506784",
             "linecolor": "#506784",
             "minorgridcolor": "#506784",
             "startlinecolor": "#A2B1C6"
            },
            "type": "carpet"
           }
          ],
          "choropleth": [
           {
            "colorbar": {
             "outlinewidth": 0,
             "ticks": ""
            },
            "type": "choropleth"
           }
          ],
          "contour": [
           {
            "colorbar": {
             "outlinewidth": 0,
             "ticks": ""
            },
            "colorscale": [
             [
              0,
              "#0d0887"
             ],
             [
              0.1111111111111111,
              "#46039f"
             ],
             [
              0.2222222222222222,
              "#7201a8"
             ],
             [
              0.3333333333333333,
              "#9c179e"
             ],
             [
              0.4444444444444444,
              "#bd3786"
             ],
             [
              0.5555555555555556,
              "#d8576b"
             ],
             [
              0.6666666666666666,
              "#ed7953"
             ],
             [
              0.7777777777777778,
              "#fb9f3a"
             ],
             [
              0.8888888888888888,
              "#fdca26"
             ],
             [
              1,
              "#f0f921"
             ]
            ],
            "type": "contour"
           }
          ],
          "contourcarpet": [
           {
            "colorbar": {
             "outlinewidth": 0,
             "ticks": ""
            },
            "type": "contourcarpet"
           }
          ],
          "heatmap": [
           {
            "colorbar": {
             "outlinewidth": 0,
             "ticks": ""
            },
            "colorscale": [
             [
              0,
              "#0d0887"
             ],
             [
              0.1111111111111111,
              "#46039f"
             ],
             [
              0.2222222222222222,
              "#7201a8"
             ],
             [
              0.3333333333333333,
              "#9c179e"
             ],
             [
              0.4444444444444444,
              "#bd3786"
             ],
             [
              0.5555555555555556,
              "#d8576b"
             ],
             [
              0.6666666666666666,
              "#ed7953"
             ],
             [
              0.7777777777777778,
              "#fb9f3a"
             ],
             [
              0.8888888888888888,
              "#fdca26"
             ],
             [
              1,
              "#f0f921"
             ]
            ],
            "type": "heatmap"
           }
          ],
          "heatmapgl": [
           {
            "colorbar": {
             "outlinewidth": 0,
             "ticks": ""
            },
            "colorscale": [
             [
              0,
              "#0d0887"
             ],
             [
              0.1111111111111111,
              "#46039f"
             ],
             [
              0.2222222222222222,
              "#7201a8"
             ],
             [
              0.3333333333333333,
              "#9c179e"
             ],
             [
              0.4444444444444444,
              "#bd3786"
             ],
             [
              0.5555555555555556,
              "#d8576b"
             ],
             [
              0.6666666666666666,
              "#ed7953"
             ],
             [
              0.7777777777777778,
              "#fb9f3a"
             ],
             [
              0.8888888888888888,
              "#fdca26"
             ],
             [
              1,
              "#f0f921"
             ]
            ],
            "type": "heatmapgl"
           }
          ],
          "histogram": [
           {
            "marker": {
             "pattern": {
              "fillmode": "overlay",
              "size": 10,
              "solidity": 0.2
             }
            },
            "type": "histogram"
           }
          ],
          "histogram2d": [
           {
            "colorbar": {
             "outlinewidth": 0,
             "ticks": ""
            },
            "colorscale": [
             [
              0,
              "#0d0887"
             ],
             [
              0.1111111111111111,
              "#46039f"
             ],
             [
              0.2222222222222222,
              "#7201a8"
             ],
             [
              0.3333333333333333,
              "#9c179e"
             ],
             [
              0.4444444444444444,
              "#bd3786"
             ],
             [
              0.5555555555555556,
              "#d8576b"
             ],
             [
              0.6666666666666666,
              "#ed7953"
             ],
             [
              0.7777777777777778,
              "#fb9f3a"
             ],
             [
              0.8888888888888888,
              "#fdca26"
             ],
             [
              1,
              "#f0f921"
             ]
            ],
            "type": "histogram2d"
           }
          ],
          "histogram2dcontour": [
           {
            "colorbar": {
             "outlinewidth": 0,
             "ticks": ""
            },
            "colorscale": [
             [
              0,
              "#0d0887"
             ],
             [
              0.1111111111111111,
              "#46039f"
             ],
             [
              0.2222222222222222,
              "#7201a8"
             ],
             [
              0.3333333333333333,
              "#9c179e"
             ],
             [
              0.4444444444444444,
              "#bd3786"
             ],
             [
              0.5555555555555556,
              "#d8576b"
             ],
             [
              0.6666666666666666,
              "#ed7953"
             ],
             [
              0.7777777777777778,
              "#fb9f3a"
             ],
             [
              0.8888888888888888,
              "#fdca26"
             ],
             [
              1,
              "#f0f921"
             ]
            ],
            "type": "histogram2dcontour"
           }
          ],
          "mesh3d": [
           {
            "colorbar": {
             "outlinewidth": 0,
             "ticks": ""
            },
            "type": "mesh3d"
           }
          ],
          "parcoords": [
           {
            "line": {
             "colorbar": {
              "outlinewidth": 0,
              "ticks": ""
             }
            },
            "type": "parcoords"
           }
          ],
          "pie": [
           {
            "automargin": true,
            "type": "pie"
           }
          ],
          "scatter": [
           {
            "marker": {
             "line": {
              "color": "#283442"
             }
            },
            "type": "scatter"
           }
          ],
          "scatter3d": [
           {
            "line": {
             "colorbar": {
              "outlinewidth": 0,
              "ticks": ""
             }
            },
            "marker": {
             "colorbar": {
              "outlinewidth": 0,
              "ticks": ""
             }
            },
            "type": "scatter3d"
           }
          ],
          "scattercarpet": [
           {
            "marker": {
             "colorbar": {
              "outlinewidth": 0,
              "ticks": ""
             }
            },
            "type": "scattercarpet"
           }
          ],
          "scattergeo": [
           {
            "marker": {
             "colorbar": {
              "outlinewidth": 0,
              "ticks": ""
             }
            },
            "type": "scattergeo"
           }
          ],
          "scattergl": [
           {
            "marker": {
             "line": {
              "color": "#283442"
             }
            },
            "type": "scattergl"
           }
          ],
          "scattermapbox": [
           {
            "marker": {
             "colorbar": {
              "outlinewidth": 0,
              "ticks": ""
             }
            },
            "type": "scattermapbox"
           }
          ],
          "scatterpolar": [
           {
            "marker": {
             "colorbar": {
              "outlinewidth": 0,
              "ticks": ""
             }
            },
            "type": "scatterpolar"
           }
          ],
          "scatterpolargl": [
           {
            "marker": {
             "colorbar": {
              "outlinewidth": 0,
              "ticks": ""
             }
            },
            "type": "scatterpolargl"
           }
          ],
          "scatterternary": [
           {
            "marker": {
             "colorbar": {
              "outlinewidth": 0,
              "ticks": ""
             }
            },
            "type": "scatterternary"
           }
          ],
          "surface": [
           {
            "colorbar": {
             "outlinewidth": 0,
             "ticks": ""
            },
            "colorscale": [
             [
              0,
              "#0d0887"
             ],
             [
              0.1111111111111111,
              "#46039f"
             ],
             [
              0.2222222222222222,
              "#7201a8"
             ],
             [
              0.3333333333333333,
              "#9c179e"
             ],
             [
              0.4444444444444444,
              "#bd3786"
             ],
             [
              0.5555555555555556,
              "#d8576b"
             ],
             [
              0.6666666666666666,
              "#ed7953"
             ],
             [
              0.7777777777777778,
              "#fb9f3a"
             ],
             [
              0.8888888888888888,
              "#fdca26"
             ],
             [
              1,
              "#f0f921"
             ]
            ],
            "type": "surface"
           }
          ],
          "table": [
           {
            "cells": {
             "fill": {
              "color": "#506784"
             },
             "line": {
              "color": "rgb(17,17,17)"
             }
            },
            "header": {
             "fill": {
              "color": "#2a3f5f"
             },
             "line": {
              "color": "rgb(17,17,17)"
             }
            },
            "type": "table"
           }
          ]
         },
         "layout": {
          "annotationdefaults": {
           "arrowcolor": "#f2f5fa",
           "arrowhead": 0,
           "arrowwidth": 1
          },
          "autosize": false,
          "autotypenumbers": "strict",
          "coloraxis": {
           "colorbar": {
            "outlinewidth": 0,
            "ticks": ""
           }
          },
          "colorscale": {
           "diverging": [
            [
             0,
             "#8e0152"
            ],
            [
             0.1,
             "#c51b7d"
            ],
            [
             0.2,
             "#de77ae"
            ],
            [
             0.3,
             "#f1b6da"
            ],
            [
             0.4,
             "#fde0ef"
            ],
            [
             0.5,
             "#f7f7f7"
            ],
            [
             0.6,
             "#e6f5d0"
            ],
            [
             0.7,
             "#b8e186"
            ],
            [
             0.8,
             "#7fbc41"
            ],
            [
             0.9,
             "#4d9221"
            ],
            [
             1,
             "#276419"
            ]
           ],
           "sequential": [
            [
             0,
             "#0d0887"
            ],
            [
             0.1111111111111111,
             "#46039f"
            ],
            [
             0.2222222222222222,
             "#7201a8"
            ],
            [
             0.3333333333333333,
             "#9c179e"
            ],
            [
             0.4444444444444444,
             "#bd3786"
            ],
            [
             0.5555555555555556,
             "#d8576b"
            ],
            [
             0.6666666666666666,
             "#ed7953"
            ],
            [
             0.7777777777777778,
             "#fb9f3a"
            ],
            [
             0.8888888888888888,
             "#fdca26"
            ],
            [
             1,
             "#f0f921"
            ]
           ],
           "sequentialminus": [
            [
             0,
             "#0d0887"
            ],
            [
             0.1111111111111111,
             "#46039f"
            ],
            [
             0.2222222222222222,
             "#7201a8"
            ],
            [
             0.3333333333333333,
             "#9c179e"
            ],
            [
             0.4444444444444444,
             "#bd3786"
            ],
            [
             0.5555555555555556,
             "#d8576b"
            ],
            [
             0.6666666666666666,
             "#ed7953"
            ],
            [
             0.7777777777777778,
             "#fb9f3a"
            ],
            [
             0.8888888888888888,
             "#fdca26"
            ],
            [
             1,
             "#f0f921"
            ]
           ]
          },
          "colorway": [
           "#636efa",
           "#EF553B",
           "#00cc96",
           "#ab63fa",
           "#FFA15A",
           "#19d3f3",
           "#FF6692",
           "#B6E880",
           "#FF97FF",
           "#FECB52"
          ],
          "font": {
           "color": "#f2f5fa"
          },
          "geo": {
           "bgcolor": "rgb(17,17,17)",
           "lakecolor": "rgb(17,17,17)",
           "landcolor": "rgb(17,17,17)",
           "showlakes": true,
           "showland": true,
           "subunitcolor": "#506784"
          },
          "height": 300,
          "hoverlabel": {
           "align": "left"
          },
          "hovermode": "closest",
          "mapbox": {
           "style": "dark"
          },
          "margin": {
           "b": 40,
           "l": 40,
           "r": 40,
           "t": 40
          },
          "paper_bgcolor": "rgba(0,0,0,0)",
          "plot_bgcolor": "rgba(0,0,0,0)",
          "polar": {
           "angularaxis": {
            "gridcolor": "#506784",
            "linecolor": "#506784",
            "ticks": ""
           },
           "bgcolor": "rgb(17,17,17)",
           "radialaxis": {
            "gridcolor": "#506784",
            "linecolor": "#506784",
            "ticks": ""
           }
          },
          "scene": {
           "xaxis": {
            "backgroundcolor": "rgb(17,17,17)",
            "gridcolor": "#506784",
            "gridwidth": 2,
            "linecolor": "#506784",
            "showbackground": true,
            "ticks": "",
            "zerolinecolor": "#C8D4E3"
           },
           "yaxis": {
            "backgroundcolor": "rgb(17,17,17)",
            "gridcolor": "#506784",
            "gridwidth": 2,
            "linecolor": "#506784",
            "showbackground": true,
            "ticks": "",
            "zerolinecolor": "#C8D4E3"
           },
           "zaxis": {
            "backgroundcolor": "rgb(17,17,17)",
            "gridcolor": "#506784",
            "gridwidth": 2,
            "linecolor": "#506784",
            "showbackground": true,
            "ticks": "",
            "zerolinecolor": "#C8D4E3"
           }
          },
          "shapedefaults": {
           "line": {
            "color": "#f2f5fa"
           }
          },
          "sliderdefaults": {
           "bgcolor": "#C8D4E3",
           "bordercolor": "rgb(17,17,17)",
           "borderwidth": 1,
           "tickwidth": 0
          },
          "ternary": {
           "aaxis": {
            "gridcolor": "#506784",
            "linecolor": "#506784",
            "ticks": ""
           },
           "baxis": {
            "gridcolor": "#506784",
            "linecolor": "#506784",
            "ticks": ""
           },
           "bgcolor": "rgb(17,17,17)",
           "caxis": {
            "gridcolor": "#506784",
            "linecolor": "#506784",
            "ticks": ""
           }
          },
          "title": {
           "x": 0.05
          },
          "updatemenudefaults": {
           "bgcolor": "#506784",
           "borderwidth": 0
          },
          "width": 600,
          "xaxis": {
           "automargin": true,
           "gridcolor": "#283442",
           "linecolor": "#506784",
           "ticks": "",
           "title": {
            "standoff": 15
           },
           "zerolinecolor": "#283442",
           "zerolinewidth": 2
          },
          "yaxis": {
           "automargin": true,
           "gridcolor": "#283442",
           "linecolor": "#506784",
           "ticks": "",
           "title": {
            "standoff": 15
           },
           "zerolinecolor": "#283442",
           "zerolinewidth": 2
          }
         }
        },
        "title": {
         "text": "label_smoothing"
        },
        "width": 400
       }
      }
     },
     "metadata": {},
     "output_type": "display_data"
    },
    {
     "data": {
      "application/vnd.plotly.v1+json": {
       "config": {
        "plotlyServerURL": "https://plot.ly"
       },
       "data": [
        {
         "type": "scatter",
         "x": [
          true
         ],
         "y": [
          0.9502427184466019
         ]
        },
        {
         "type": "scatter",
         "x": [
          true
         ],
         "y": [
          0.9387272281007965
         ]
        }
       ],
       "layout": {
        "height": 200,
        "template": {
         "data": {
          "bar": [
           {
            "error_x": {
             "color": "#f2f5fa"
            },
            "error_y": {
             "color": "#f2f5fa"
            },
            "marker": {
             "line": {
              "color": "rgb(17,17,17)",
              "width": 0.5
             },
             "pattern": {
              "fillmode": "overlay",
              "size": 10,
              "solidity": 0.2
             }
            },
            "type": "bar"
           }
          ],
          "barpolar": [
           {
            "marker": {
             "line": {
              "color": "rgb(17,17,17)",
              "width": 0.5
             },
             "pattern": {
              "fillmode": "overlay",
              "size": 10,
              "solidity": 0.2
             }
            },
            "type": "barpolar"
           }
          ],
          "carpet": [
           {
            "aaxis": {
             "endlinecolor": "#A2B1C6",
             "gridcolor": "#506784",
             "linecolor": "#506784",
             "minorgridcolor": "#506784",
             "startlinecolor": "#A2B1C6"
            },
            "baxis": {
             "endlinecolor": "#A2B1C6",
             "gridcolor": "#506784",
             "linecolor": "#506784",
             "minorgridcolor": "#506784",
             "startlinecolor": "#A2B1C6"
            },
            "type": "carpet"
           }
          ],
          "choropleth": [
           {
            "colorbar": {
             "outlinewidth": 0,
             "ticks": ""
            },
            "type": "choropleth"
           }
          ],
          "contour": [
           {
            "colorbar": {
             "outlinewidth": 0,
             "ticks": ""
            },
            "colorscale": [
             [
              0,
              "#0d0887"
             ],
             [
              0.1111111111111111,
              "#46039f"
             ],
             [
              0.2222222222222222,
              "#7201a8"
             ],
             [
              0.3333333333333333,
              "#9c179e"
             ],
             [
              0.4444444444444444,
              "#bd3786"
             ],
             [
              0.5555555555555556,
              "#d8576b"
             ],
             [
              0.6666666666666666,
              "#ed7953"
             ],
             [
              0.7777777777777778,
              "#fb9f3a"
             ],
             [
              0.8888888888888888,
              "#fdca26"
             ],
             [
              1,
              "#f0f921"
             ]
            ],
            "type": "contour"
           }
          ],
          "contourcarpet": [
           {
            "colorbar": {
             "outlinewidth": 0,
             "ticks": ""
            },
            "type": "contourcarpet"
           }
          ],
          "heatmap": [
           {
            "colorbar": {
             "outlinewidth": 0,
             "ticks": ""
            },
            "colorscale": [
             [
              0,
              "#0d0887"
             ],
             [
              0.1111111111111111,
              "#46039f"
             ],
             [
              0.2222222222222222,
              "#7201a8"
             ],
             [
              0.3333333333333333,
              "#9c179e"
             ],
             [
              0.4444444444444444,
              "#bd3786"
             ],
             [
              0.5555555555555556,
              "#d8576b"
             ],
             [
              0.6666666666666666,
              "#ed7953"
             ],
             [
              0.7777777777777778,
              "#fb9f3a"
             ],
             [
              0.8888888888888888,
              "#fdca26"
             ],
             [
              1,
              "#f0f921"
             ]
            ],
            "type": "heatmap"
           }
          ],
          "heatmapgl": [
           {
            "colorbar": {
             "outlinewidth": 0,
             "ticks": ""
            },
            "colorscale": [
             [
              0,
              "#0d0887"
             ],
             [
              0.1111111111111111,
              "#46039f"
             ],
             [
              0.2222222222222222,
              "#7201a8"
             ],
             [
              0.3333333333333333,
              "#9c179e"
             ],
             [
              0.4444444444444444,
              "#bd3786"
             ],
             [
              0.5555555555555556,
              "#d8576b"
             ],
             [
              0.6666666666666666,
              "#ed7953"
             ],
             [
              0.7777777777777778,
              "#fb9f3a"
             ],
             [
              0.8888888888888888,
              "#fdca26"
             ],
             [
              1,
              "#f0f921"
             ]
            ],
            "type": "heatmapgl"
           }
          ],
          "histogram": [
           {
            "marker": {
             "pattern": {
              "fillmode": "overlay",
              "size": 10,
              "solidity": 0.2
             }
            },
            "type": "histogram"
           }
          ],
          "histogram2d": [
           {
            "colorbar": {
             "outlinewidth": 0,
             "ticks": ""
            },
            "colorscale": [
             [
              0,
              "#0d0887"
             ],
             [
              0.1111111111111111,
              "#46039f"
             ],
             [
              0.2222222222222222,
              "#7201a8"
             ],
             [
              0.3333333333333333,
              "#9c179e"
             ],
             [
              0.4444444444444444,
              "#bd3786"
             ],
             [
              0.5555555555555556,
              "#d8576b"
             ],
             [
              0.6666666666666666,
              "#ed7953"
             ],
             [
              0.7777777777777778,
              "#fb9f3a"
             ],
             [
              0.8888888888888888,
              "#fdca26"
             ],
             [
              1,
              "#f0f921"
             ]
            ],
            "type": "histogram2d"
           }
          ],
          "histogram2dcontour": [
           {
            "colorbar": {
             "outlinewidth": 0,
             "ticks": ""
            },
            "colorscale": [
             [
              0,
              "#0d0887"
             ],
             [
              0.1111111111111111,
              "#46039f"
             ],
             [
              0.2222222222222222,
              "#7201a8"
             ],
             [
              0.3333333333333333,
              "#9c179e"
             ],
             [
              0.4444444444444444,
              "#bd3786"
             ],
             [
              0.5555555555555556,
              "#d8576b"
             ],
             [
              0.6666666666666666,
              "#ed7953"
             ],
             [
              0.7777777777777778,
              "#fb9f3a"
             ],
             [
              0.8888888888888888,
              "#fdca26"
             ],
             [
              1,
              "#f0f921"
             ]
            ],
            "type": "histogram2dcontour"
           }
          ],
          "mesh3d": [
           {
            "colorbar": {
             "outlinewidth": 0,
             "ticks": ""
            },
            "type": "mesh3d"
           }
          ],
          "parcoords": [
           {
            "line": {
             "colorbar": {
              "outlinewidth": 0,
              "ticks": ""
             }
            },
            "type": "parcoords"
           }
          ],
          "pie": [
           {
            "automargin": true,
            "type": "pie"
           }
          ],
          "scatter": [
           {
            "marker": {
             "line": {
              "color": "#283442"
             }
            },
            "type": "scatter"
           }
          ],
          "scatter3d": [
           {
            "line": {
             "colorbar": {
              "outlinewidth": 0,
              "ticks": ""
             }
            },
            "marker": {
             "colorbar": {
              "outlinewidth": 0,
              "ticks": ""
             }
            },
            "type": "scatter3d"
           }
          ],
          "scattercarpet": [
           {
            "marker": {
             "colorbar": {
              "outlinewidth": 0,
              "ticks": ""
             }
            },
            "type": "scattercarpet"
           }
          ],
          "scattergeo": [
           {
            "marker": {
             "colorbar": {
              "outlinewidth": 0,
              "ticks": ""
             }
            },
            "type": "scattergeo"
           }
          ],
          "scattergl": [
           {
            "marker": {
             "line": {
              "color": "#283442"
             }
            },
            "type": "scattergl"
           }
          ],
          "scattermapbox": [
           {
            "marker": {
             "colorbar": {
              "outlinewidth": 0,
              "ticks": ""
             }
            },
            "type": "scattermapbox"
           }
          ],
          "scatterpolar": [
           {
            "marker": {
             "colorbar": {
              "outlinewidth": 0,
              "ticks": ""
             }
            },
            "type": "scatterpolar"
           }
          ],
          "scatterpolargl": [
           {
            "marker": {
             "colorbar": {
              "outlinewidth": 0,
              "ticks": ""
             }
            },
            "type": "scatterpolargl"
           }
          ],
          "scatterternary": [
           {
            "marker": {
             "colorbar": {
              "outlinewidth": 0,
              "ticks": ""
             }
            },
            "type": "scatterternary"
           }
          ],
          "surface": [
           {
            "colorbar": {
             "outlinewidth": 0,
             "ticks": ""
            },
            "colorscale": [
             [
              0,
              "#0d0887"
             ],
             [
              0.1111111111111111,
              "#46039f"
             ],
             [
              0.2222222222222222,
              "#7201a8"
             ],
             [
              0.3333333333333333,
              "#9c179e"
             ],
             [
              0.4444444444444444,
              "#bd3786"
             ],
             [
              0.5555555555555556,
              "#d8576b"
             ],
             [
              0.6666666666666666,
              "#ed7953"
             ],
             [
              0.7777777777777778,
              "#fb9f3a"
             ],
             [
              0.8888888888888888,
              "#fdca26"
             ],
             [
              1,
              "#f0f921"
             ]
            ],
            "type": "surface"
           }
          ],
          "table": [
           {
            "cells": {
             "fill": {
              "color": "#506784"
             },
             "line": {
              "color": "rgb(17,17,17)"
             }
            },
            "header": {
             "fill": {
              "color": "#2a3f5f"
             },
             "line": {
              "color": "rgb(17,17,17)"
             }
            },
            "type": "table"
           }
          ]
         },
         "layout": {
          "annotationdefaults": {
           "arrowcolor": "#f2f5fa",
           "arrowhead": 0,
           "arrowwidth": 1
          },
          "autosize": false,
          "autotypenumbers": "strict",
          "coloraxis": {
           "colorbar": {
            "outlinewidth": 0,
            "ticks": ""
           }
          },
          "colorscale": {
           "diverging": [
            [
             0,
             "#8e0152"
            ],
            [
             0.1,
             "#c51b7d"
            ],
            [
             0.2,
             "#de77ae"
            ],
            [
             0.3,
             "#f1b6da"
            ],
            [
             0.4,
             "#fde0ef"
            ],
            [
             0.5,
             "#f7f7f7"
            ],
            [
             0.6,
             "#e6f5d0"
            ],
            [
             0.7,
             "#b8e186"
            ],
            [
             0.8,
             "#7fbc41"
            ],
            [
             0.9,
             "#4d9221"
            ],
            [
             1,
             "#276419"
            ]
           ],
           "sequential": [
            [
             0,
             "#0d0887"
            ],
            [
             0.1111111111111111,
             "#46039f"
            ],
            [
             0.2222222222222222,
             "#7201a8"
            ],
            [
             0.3333333333333333,
             "#9c179e"
            ],
            [
             0.4444444444444444,
             "#bd3786"
            ],
            [
             0.5555555555555556,
             "#d8576b"
            ],
            [
             0.6666666666666666,
             "#ed7953"
            ],
            [
             0.7777777777777778,
             "#fb9f3a"
            ],
            [
             0.8888888888888888,
             "#fdca26"
            ],
            [
             1,
             "#f0f921"
            ]
           ],
           "sequentialminus": [
            [
             0,
             "#0d0887"
            ],
            [
             0.1111111111111111,
             "#46039f"
            ],
            [
             0.2222222222222222,
             "#7201a8"
            ],
            [
             0.3333333333333333,
             "#9c179e"
            ],
            [
             0.4444444444444444,
             "#bd3786"
            ],
            [
             0.5555555555555556,
             "#d8576b"
            ],
            [
             0.6666666666666666,
             "#ed7953"
            ],
            [
             0.7777777777777778,
             "#fb9f3a"
            ],
            [
             0.8888888888888888,
             "#fdca26"
            ],
            [
             1,
             "#f0f921"
            ]
           ]
          },
          "colorway": [
           "#636efa",
           "#EF553B",
           "#00cc96",
           "#ab63fa",
           "#FFA15A",
           "#19d3f3",
           "#FF6692",
           "#B6E880",
           "#FF97FF",
           "#FECB52"
          ],
          "font": {
           "color": "#f2f5fa"
          },
          "geo": {
           "bgcolor": "rgb(17,17,17)",
           "lakecolor": "rgb(17,17,17)",
           "landcolor": "rgb(17,17,17)",
           "showlakes": true,
           "showland": true,
           "subunitcolor": "#506784"
          },
          "height": 300,
          "hoverlabel": {
           "align": "left"
          },
          "hovermode": "closest",
          "mapbox": {
           "style": "dark"
          },
          "margin": {
           "b": 40,
           "l": 40,
           "r": 40,
           "t": 40
          },
          "paper_bgcolor": "rgba(0,0,0,0)",
          "plot_bgcolor": "rgba(0,0,0,0)",
          "polar": {
           "angularaxis": {
            "gridcolor": "#506784",
            "linecolor": "#506784",
            "ticks": ""
           },
           "bgcolor": "rgb(17,17,17)",
           "radialaxis": {
            "gridcolor": "#506784",
            "linecolor": "#506784",
            "ticks": ""
           }
          },
          "scene": {
           "xaxis": {
            "backgroundcolor": "rgb(17,17,17)",
            "gridcolor": "#506784",
            "gridwidth": 2,
            "linecolor": "#506784",
            "showbackground": true,
            "ticks": "",
            "zerolinecolor": "#C8D4E3"
           },
           "yaxis": {
            "backgroundcolor": "rgb(17,17,17)",
            "gridcolor": "#506784",
            "gridwidth": 2,
            "linecolor": "#506784",
            "showbackground": true,
            "ticks": "",
            "zerolinecolor": "#C8D4E3"
           },
           "zaxis": {
            "backgroundcolor": "rgb(17,17,17)",
            "gridcolor": "#506784",
            "gridwidth": 2,
            "linecolor": "#506784",
            "showbackground": true,
            "ticks": "",
            "zerolinecolor": "#C8D4E3"
           }
          },
          "shapedefaults": {
           "line": {
            "color": "#f2f5fa"
           }
          },
          "sliderdefaults": {
           "bgcolor": "#C8D4E3",
           "bordercolor": "rgb(17,17,17)",
           "borderwidth": 1,
           "tickwidth": 0
          },
          "ternary": {
           "aaxis": {
            "gridcolor": "#506784",
            "linecolor": "#506784",
            "ticks": ""
           },
           "baxis": {
            "gridcolor": "#506784",
            "linecolor": "#506784",
            "ticks": ""
           },
           "bgcolor": "rgb(17,17,17)",
           "caxis": {
            "gridcolor": "#506784",
            "linecolor": "#506784",
            "ticks": ""
           }
          },
          "title": {
           "x": 0.05
          },
          "updatemenudefaults": {
           "bgcolor": "#506784",
           "borderwidth": 0
          },
          "width": 600,
          "xaxis": {
           "automargin": true,
           "gridcolor": "#283442",
           "linecolor": "#506784",
           "ticks": "",
           "title": {
            "standoff": 15
           },
           "zerolinecolor": "#283442",
           "zerolinewidth": 2
          },
          "yaxis": {
           "automargin": true,
           "gridcolor": "#283442",
           "linecolor": "#506784",
           "ticks": "",
           "title": {
            "standoff": 15
           },
           "zerolinecolor": "#283442",
           "zerolinewidth": 2
          }
         }
        },
        "title": {
         "text": "bidi"
        },
        "width": 400
       }
      }
     },
     "metadata": {},
     "output_type": "display_data"
    },
    {
     "data": {
      "application/vnd.plotly.v1+json": {
       "config": {
        "plotlyServerURL": "https://plot.ly"
       },
       "data": [
        {
         "type": "scatter",
         "x": [
          0.01,
          0.05,
          0.1
         ],
         "y": [
          0.9466019417475728,
          0.9502427184466019,
          0.9466019417475728
         ]
        },
        {
         "type": "scatter",
         "x": [
          0.01,
          0.05,
          0.1
         ],
         "y": [
          0.9404788172992057,
          0.9403519417475729,
          0.9221025485436892
         ]
        }
       ],
       "layout": {
        "height": 200,
        "template": {
         "data": {
          "bar": [
           {
            "error_x": {
             "color": "#f2f5fa"
            },
            "error_y": {
             "color": "#f2f5fa"
            },
            "marker": {
             "line": {
              "color": "rgb(17,17,17)",
              "width": 0.5
             },
             "pattern": {
              "fillmode": "overlay",
              "size": 10,
              "solidity": 0.2
             }
            },
            "type": "bar"
           }
          ],
          "barpolar": [
           {
            "marker": {
             "line": {
              "color": "rgb(17,17,17)",
              "width": 0.5
             },
             "pattern": {
              "fillmode": "overlay",
              "size": 10,
              "solidity": 0.2
             }
            },
            "type": "barpolar"
           }
          ],
          "carpet": [
           {
            "aaxis": {
             "endlinecolor": "#A2B1C6",
             "gridcolor": "#506784",
             "linecolor": "#506784",
             "minorgridcolor": "#506784",
             "startlinecolor": "#A2B1C6"
            },
            "baxis": {
             "endlinecolor": "#A2B1C6",
             "gridcolor": "#506784",
             "linecolor": "#506784",
             "minorgridcolor": "#506784",
             "startlinecolor": "#A2B1C6"
            },
            "type": "carpet"
           }
          ],
          "choropleth": [
           {
            "colorbar": {
             "outlinewidth": 0,
             "ticks": ""
            },
            "type": "choropleth"
           }
          ],
          "contour": [
           {
            "colorbar": {
             "outlinewidth": 0,
             "ticks": ""
            },
            "colorscale": [
             [
              0,
              "#0d0887"
             ],
             [
              0.1111111111111111,
              "#46039f"
             ],
             [
              0.2222222222222222,
              "#7201a8"
             ],
             [
              0.3333333333333333,
              "#9c179e"
             ],
             [
              0.4444444444444444,
              "#bd3786"
             ],
             [
              0.5555555555555556,
              "#d8576b"
             ],
             [
              0.6666666666666666,
              "#ed7953"
             ],
             [
              0.7777777777777778,
              "#fb9f3a"
             ],
             [
              0.8888888888888888,
              "#fdca26"
             ],
             [
              1,
              "#f0f921"
             ]
            ],
            "type": "contour"
           }
          ],
          "contourcarpet": [
           {
            "colorbar": {
             "outlinewidth": 0,
             "ticks": ""
            },
            "type": "contourcarpet"
           }
          ],
          "heatmap": [
           {
            "colorbar": {
             "outlinewidth": 0,
             "ticks": ""
            },
            "colorscale": [
             [
              0,
              "#0d0887"
             ],
             [
              0.1111111111111111,
              "#46039f"
             ],
             [
              0.2222222222222222,
              "#7201a8"
             ],
             [
              0.3333333333333333,
              "#9c179e"
             ],
             [
              0.4444444444444444,
              "#bd3786"
             ],
             [
              0.5555555555555556,
              "#d8576b"
             ],
             [
              0.6666666666666666,
              "#ed7953"
             ],
             [
              0.7777777777777778,
              "#fb9f3a"
             ],
             [
              0.8888888888888888,
              "#fdca26"
             ],
             [
              1,
              "#f0f921"
             ]
            ],
            "type": "heatmap"
           }
          ],
          "heatmapgl": [
           {
            "colorbar": {
             "outlinewidth": 0,
             "ticks": ""
            },
            "colorscale": [
             [
              0,
              "#0d0887"
             ],
             [
              0.1111111111111111,
              "#46039f"
             ],
             [
              0.2222222222222222,
              "#7201a8"
             ],
             [
              0.3333333333333333,
              "#9c179e"
             ],
             [
              0.4444444444444444,
              "#bd3786"
             ],
             [
              0.5555555555555556,
              "#d8576b"
             ],
             [
              0.6666666666666666,
              "#ed7953"
             ],
             [
              0.7777777777777778,
              "#fb9f3a"
             ],
             [
              0.8888888888888888,
              "#fdca26"
             ],
             [
              1,
              "#f0f921"
             ]
            ],
            "type": "heatmapgl"
           }
          ],
          "histogram": [
           {
            "marker": {
             "pattern": {
              "fillmode": "overlay",
              "size": 10,
              "solidity": 0.2
             }
            },
            "type": "histogram"
           }
          ],
          "histogram2d": [
           {
            "colorbar": {
             "outlinewidth": 0,
             "ticks": ""
            },
            "colorscale": [
             [
              0,
              "#0d0887"
             ],
             [
              0.1111111111111111,
              "#46039f"
             ],
             [
              0.2222222222222222,
              "#7201a8"
             ],
             [
              0.3333333333333333,
              "#9c179e"
             ],
             [
              0.4444444444444444,
              "#bd3786"
             ],
             [
              0.5555555555555556,
              "#d8576b"
             ],
             [
              0.6666666666666666,
              "#ed7953"
             ],
             [
              0.7777777777777778,
              "#fb9f3a"
             ],
             [
              0.8888888888888888,
              "#fdca26"
             ],
             [
              1,
              "#f0f921"
             ]
            ],
            "type": "histogram2d"
           }
          ],
          "histogram2dcontour": [
           {
            "colorbar": {
             "outlinewidth": 0,
             "ticks": ""
            },
            "colorscale": [
             [
              0,
              "#0d0887"
             ],
             [
              0.1111111111111111,
              "#46039f"
             ],
             [
              0.2222222222222222,
              "#7201a8"
             ],
             [
              0.3333333333333333,
              "#9c179e"
             ],
             [
              0.4444444444444444,
              "#bd3786"
             ],
             [
              0.5555555555555556,
              "#d8576b"
             ],
             [
              0.6666666666666666,
              "#ed7953"
             ],
             [
              0.7777777777777778,
              "#fb9f3a"
             ],
             [
              0.8888888888888888,
              "#fdca26"
             ],
             [
              1,
              "#f0f921"
             ]
            ],
            "type": "histogram2dcontour"
           }
          ],
          "mesh3d": [
           {
            "colorbar": {
             "outlinewidth": 0,
             "ticks": ""
            },
            "type": "mesh3d"
           }
          ],
          "parcoords": [
           {
            "line": {
             "colorbar": {
              "outlinewidth": 0,
              "ticks": ""
             }
            },
            "type": "parcoords"
           }
          ],
          "pie": [
           {
            "automargin": true,
            "type": "pie"
           }
          ],
          "scatter": [
           {
            "marker": {
             "line": {
              "color": "#283442"
             }
            },
            "type": "scatter"
           }
          ],
          "scatter3d": [
           {
            "line": {
             "colorbar": {
              "outlinewidth": 0,
              "ticks": ""
             }
            },
            "marker": {
             "colorbar": {
              "outlinewidth": 0,
              "ticks": ""
             }
            },
            "type": "scatter3d"
           }
          ],
          "scattercarpet": [
           {
            "marker": {
             "colorbar": {
              "outlinewidth": 0,
              "ticks": ""
             }
            },
            "type": "scattercarpet"
           }
          ],
          "scattergeo": [
           {
            "marker": {
             "colorbar": {
              "outlinewidth": 0,
              "ticks": ""
             }
            },
            "type": "scattergeo"
           }
          ],
          "scattergl": [
           {
            "marker": {
             "line": {
              "color": "#283442"
             }
            },
            "type": "scattergl"
           }
          ],
          "scattermapbox": [
           {
            "marker": {
             "colorbar": {
              "outlinewidth": 0,
              "ticks": ""
             }
            },
            "type": "scattermapbox"
           }
          ],
          "scatterpolar": [
           {
            "marker": {
             "colorbar": {
              "outlinewidth": 0,
              "ticks": ""
             }
            },
            "type": "scatterpolar"
           }
          ],
          "scatterpolargl": [
           {
            "marker": {
             "colorbar": {
              "outlinewidth": 0,
              "ticks": ""
             }
            },
            "type": "scatterpolargl"
           }
          ],
          "scatterternary": [
           {
            "marker": {
             "colorbar": {
              "outlinewidth": 0,
              "ticks": ""
             }
            },
            "type": "scatterternary"
           }
          ],
          "surface": [
           {
            "colorbar": {
             "outlinewidth": 0,
             "ticks": ""
            },
            "colorscale": [
             [
              0,
              "#0d0887"
             ],
             [
              0.1111111111111111,
              "#46039f"
             ],
             [
              0.2222222222222222,
              "#7201a8"
             ],
             [
              0.3333333333333333,
              "#9c179e"
             ],
             [
              0.4444444444444444,
              "#bd3786"
             ],
             [
              0.5555555555555556,
              "#d8576b"
             ],
             [
              0.6666666666666666,
              "#ed7953"
             ],
             [
              0.7777777777777778,
              "#fb9f3a"
             ],
             [
              0.8888888888888888,
              "#fdca26"
             ],
             [
              1,
              "#f0f921"
             ]
            ],
            "type": "surface"
           }
          ],
          "table": [
           {
            "cells": {
             "fill": {
              "color": "#506784"
             },
             "line": {
              "color": "rgb(17,17,17)"
             }
            },
            "header": {
             "fill": {
              "color": "#2a3f5f"
             },
             "line": {
              "color": "rgb(17,17,17)"
             }
            },
            "type": "table"
           }
          ]
         },
         "layout": {
          "annotationdefaults": {
           "arrowcolor": "#f2f5fa",
           "arrowhead": 0,
           "arrowwidth": 1
          },
          "autosize": false,
          "autotypenumbers": "strict",
          "coloraxis": {
           "colorbar": {
            "outlinewidth": 0,
            "ticks": ""
           }
          },
          "colorscale": {
           "diverging": [
            [
             0,
             "#8e0152"
            ],
            [
             0.1,
             "#c51b7d"
            ],
            [
             0.2,
             "#de77ae"
            ],
            [
             0.3,
             "#f1b6da"
            ],
            [
             0.4,
             "#fde0ef"
            ],
            [
             0.5,
             "#f7f7f7"
            ],
            [
             0.6,
             "#e6f5d0"
            ],
            [
             0.7,
             "#b8e186"
            ],
            [
             0.8,
             "#7fbc41"
            ],
            [
             0.9,
             "#4d9221"
            ],
            [
             1,
             "#276419"
            ]
           ],
           "sequential": [
            [
             0,
             "#0d0887"
            ],
            [
             0.1111111111111111,
             "#46039f"
            ],
            [
             0.2222222222222222,
             "#7201a8"
            ],
            [
             0.3333333333333333,
             "#9c179e"
            ],
            [
             0.4444444444444444,
             "#bd3786"
            ],
            [
             0.5555555555555556,
             "#d8576b"
            ],
            [
             0.6666666666666666,
             "#ed7953"
            ],
            [
             0.7777777777777778,
             "#fb9f3a"
            ],
            [
             0.8888888888888888,
             "#fdca26"
            ],
            [
             1,
             "#f0f921"
            ]
           ],
           "sequentialminus": [
            [
             0,
             "#0d0887"
            ],
            [
             0.1111111111111111,
             "#46039f"
            ],
            [
             0.2222222222222222,
             "#7201a8"
            ],
            [
             0.3333333333333333,
             "#9c179e"
            ],
            [
             0.4444444444444444,
             "#bd3786"
            ],
            [
             0.5555555555555556,
             "#d8576b"
            ],
            [
             0.6666666666666666,
             "#ed7953"
            ],
            [
             0.7777777777777778,
             "#fb9f3a"
            ],
            [
             0.8888888888888888,
             "#fdca26"
            ],
            [
             1,
             "#f0f921"
            ]
           ]
          },
          "colorway": [
           "#636efa",
           "#EF553B",
           "#00cc96",
           "#ab63fa",
           "#FFA15A",
           "#19d3f3",
           "#FF6692",
           "#B6E880",
           "#FF97FF",
           "#FECB52"
          ],
          "font": {
           "color": "#f2f5fa"
          },
          "geo": {
           "bgcolor": "rgb(17,17,17)",
           "lakecolor": "rgb(17,17,17)",
           "landcolor": "rgb(17,17,17)",
           "showlakes": true,
           "showland": true,
           "subunitcolor": "#506784"
          },
          "height": 300,
          "hoverlabel": {
           "align": "left"
          },
          "hovermode": "closest",
          "mapbox": {
           "style": "dark"
          },
          "margin": {
           "b": 40,
           "l": 40,
           "r": 40,
           "t": 40
          },
          "paper_bgcolor": "rgba(0,0,0,0)",
          "plot_bgcolor": "rgba(0,0,0,0)",
          "polar": {
           "angularaxis": {
            "gridcolor": "#506784",
            "linecolor": "#506784",
            "ticks": ""
           },
           "bgcolor": "rgb(17,17,17)",
           "radialaxis": {
            "gridcolor": "#506784",
            "linecolor": "#506784",
            "ticks": ""
           }
          },
          "scene": {
           "xaxis": {
            "backgroundcolor": "rgb(17,17,17)",
            "gridcolor": "#506784",
            "gridwidth": 2,
            "linecolor": "#506784",
            "showbackground": true,
            "ticks": "",
            "zerolinecolor": "#C8D4E3"
           },
           "yaxis": {
            "backgroundcolor": "rgb(17,17,17)",
            "gridcolor": "#506784",
            "gridwidth": 2,
            "linecolor": "#506784",
            "showbackground": true,
            "ticks": "",
            "zerolinecolor": "#C8D4E3"
           },
           "zaxis": {
            "backgroundcolor": "rgb(17,17,17)",
            "gridcolor": "#506784",
            "gridwidth": 2,
            "linecolor": "#506784",
            "showbackground": true,
            "ticks": "",
            "zerolinecolor": "#C8D4E3"
           }
          },
          "shapedefaults": {
           "line": {
            "color": "#f2f5fa"
           }
          },
          "sliderdefaults": {
           "bgcolor": "#C8D4E3",
           "bordercolor": "rgb(17,17,17)",
           "borderwidth": 1,
           "tickwidth": 0
          },
          "ternary": {
           "aaxis": {
            "gridcolor": "#506784",
            "linecolor": "#506784",
            "ticks": ""
           },
           "baxis": {
            "gridcolor": "#506784",
            "linecolor": "#506784",
            "ticks": ""
           },
           "bgcolor": "rgb(17,17,17)",
           "caxis": {
            "gridcolor": "#506784",
            "linecolor": "#506784",
            "ticks": ""
           }
          },
          "title": {
           "x": 0.05
          },
          "updatemenudefaults": {
           "bgcolor": "#506784",
           "borderwidth": 0
          },
          "width": 600,
          "xaxis": {
           "automargin": true,
           "gridcolor": "#283442",
           "linecolor": "#506784",
           "ticks": "",
           "title": {
            "standoff": 15
           },
           "zerolinecolor": "#283442",
           "zerolinewidth": 2
          },
          "yaxis": {
           "automargin": true,
           "gridcolor": "#283442",
           "linecolor": "#506784",
           "ticks": "",
           "title": {
            "standoff": 15
           },
           "zerolinecolor": "#283442",
           "zerolinewidth": 2
          }
         }
        },
        "title": {
         "text": "lr_start"
        },
        "width": 400
       }
      }
     },
     "metadata": {},
     "output_type": "display_data"
    },
    {
     "data": {
      "application/vnd.plotly.v1+json": {
       "config": {
        "plotlyServerURL": "https://plot.ly"
       },
       "data": [
        {
         "type": "scatter",
         "x": [
          0.95,
          0.97,
          0.99
         ],
         "y": [
          0.9484223300970874,
          0.9478155339805825,
          0.9502427184466019
         ]
        },
        {
         "type": "scatter",
         "x": [
          0.95,
          0.97,
          0.99
         ],
         "y": [
          0.9404581310679612,
          0.9274878640776699,
          0.9397692512302167
         ]
        }
       ],
       "layout": {
        "height": 200,
        "template": {
         "data": {
          "bar": [
           {
            "error_x": {
             "color": "#f2f5fa"
            },
            "error_y": {
             "color": "#f2f5fa"
            },
            "marker": {
             "line": {
              "color": "rgb(17,17,17)",
              "width": 0.5
             },
             "pattern": {
              "fillmode": "overlay",
              "size": 10,
              "solidity": 0.2
             }
            },
            "type": "bar"
           }
          ],
          "barpolar": [
           {
            "marker": {
             "line": {
              "color": "rgb(17,17,17)",
              "width": 0.5
             },
             "pattern": {
              "fillmode": "overlay",
              "size": 10,
              "solidity": 0.2
             }
            },
            "type": "barpolar"
           }
          ],
          "carpet": [
           {
            "aaxis": {
             "endlinecolor": "#A2B1C6",
             "gridcolor": "#506784",
             "linecolor": "#506784",
             "minorgridcolor": "#506784",
             "startlinecolor": "#A2B1C6"
            },
            "baxis": {
             "endlinecolor": "#A2B1C6",
             "gridcolor": "#506784",
             "linecolor": "#506784",
             "minorgridcolor": "#506784",
             "startlinecolor": "#A2B1C6"
            },
            "type": "carpet"
           }
          ],
          "choropleth": [
           {
            "colorbar": {
             "outlinewidth": 0,
             "ticks": ""
            },
            "type": "choropleth"
           }
          ],
          "contour": [
           {
            "colorbar": {
             "outlinewidth": 0,
             "ticks": ""
            },
            "colorscale": [
             [
              0,
              "#0d0887"
             ],
             [
              0.1111111111111111,
              "#46039f"
             ],
             [
              0.2222222222222222,
              "#7201a8"
             ],
             [
              0.3333333333333333,
              "#9c179e"
             ],
             [
              0.4444444444444444,
              "#bd3786"
             ],
             [
              0.5555555555555556,
              "#d8576b"
             ],
             [
              0.6666666666666666,
              "#ed7953"
             ],
             [
              0.7777777777777778,
              "#fb9f3a"
             ],
             [
              0.8888888888888888,
              "#fdca26"
             ],
             [
              1,
              "#f0f921"
             ]
            ],
            "type": "contour"
           }
          ],
          "contourcarpet": [
           {
            "colorbar": {
             "outlinewidth": 0,
             "ticks": ""
            },
            "type": "contourcarpet"
           }
          ],
          "heatmap": [
           {
            "colorbar": {
             "outlinewidth": 0,
             "ticks": ""
            },
            "colorscale": [
             [
              0,
              "#0d0887"
             ],
             [
              0.1111111111111111,
              "#46039f"
             ],
             [
              0.2222222222222222,
              "#7201a8"
             ],
             [
              0.3333333333333333,
              "#9c179e"
             ],
             [
              0.4444444444444444,
              "#bd3786"
             ],
             [
              0.5555555555555556,
              "#d8576b"
             ],
             [
              0.6666666666666666,
              "#ed7953"
             ],
             [
              0.7777777777777778,
              "#fb9f3a"
             ],
             [
              0.8888888888888888,
              "#fdca26"
             ],
             [
              1,
              "#f0f921"
             ]
            ],
            "type": "heatmap"
           }
          ],
          "heatmapgl": [
           {
            "colorbar": {
             "outlinewidth": 0,
             "ticks": ""
            },
            "colorscale": [
             [
              0,
              "#0d0887"
             ],
             [
              0.1111111111111111,
              "#46039f"
             ],
             [
              0.2222222222222222,
              "#7201a8"
             ],
             [
              0.3333333333333333,
              "#9c179e"
             ],
             [
              0.4444444444444444,
              "#bd3786"
             ],
             [
              0.5555555555555556,
              "#d8576b"
             ],
             [
              0.6666666666666666,
              "#ed7953"
             ],
             [
              0.7777777777777778,
              "#fb9f3a"
             ],
             [
              0.8888888888888888,
              "#fdca26"
             ],
             [
              1,
              "#f0f921"
             ]
            ],
            "type": "heatmapgl"
           }
          ],
          "histogram": [
           {
            "marker": {
             "pattern": {
              "fillmode": "overlay",
              "size": 10,
              "solidity": 0.2
             }
            },
            "type": "histogram"
           }
          ],
          "histogram2d": [
           {
            "colorbar": {
             "outlinewidth": 0,
             "ticks": ""
            },
            "colorscale": [
             [
              0,
              "#0d0887"
             ],
             [
              0.1111111111111111,
              "#46039f"
             ],
             [
              0.2222222222222222,
              "#7201a8"
             ],
             [
              0.3333333333333333,
              "#9c179e"
             ],
             [
              0.4444444444444444,
              "#bd3786"
             ],
             [
              0.5555555555555556,
              "#d8576b"
             ],
             [
              0.6666666666666666,
              "#ed7953"
             ],
             [
              0.7777777777777778,
              "#fb9f3a"
             ],
             [
              0.8888888888888888,
              "#fdca26"
             ],
             [
              1,
              "#f0f921"
             ]
            ],
            "type": "histogram2d"
           }
          ],
          "histogram2dcontour": [
           {
            "colorbar": {
             "outlinewidth": 0,
             "ticks": ""
            },
            "colorscale": [
             [
              0,
              "#0d0887"
             ],
             [
              0.1111111111111111,
              "#46039f"
             ],
             [
              0.2222222222222222,
              "#7201a8"
             ],
             [
              0.3333333333333333,
              "#9c179e"
             ],
             [
              0.4444444444444444,
              "#bd3786"
             ],
             [
              0.5555555555555556,
              "#d8576b"
             ],
             [
              0.6666666666666666,
              "#ed7953"
             ],
             [
              0.7777777777777778,
              "#fb9f3a"
             ],
             [
              0.8888888888888888,
              "#fdca26"
             ],
             [
              1,
              "#f0f921"
             ]
            ],
            "type": "histogram2dcontour"
           }
          ],
          "mesh3d": [
           {
            "colorbar": {
             "outlinewidth": 0,
             "ticks": ""
            },
            "type": "mesh3d"
           }
          ],
          "parcoords": [
           {
            "line": {
             "colorbar": {
              "outlinewidth": 0,
              "ticks": ""
             }
            },
            "type": "parcoords"
           }
          ],
          "pie": [
           {
            "automargin": true,
            "type": "pie"
           }
          ],
          "scatter": [
           {
            "marker": {
             "line": {
              "color": "#283442"
             }
            },
            "type": "scatter"
           }
          ],
          "scatter3d": [
           {
            "line": {
             "colorbar": {
              "outlinewidth": 0,
              "ticks": ""
             }
            },
            "marker": {
             "colorbar": {
              "outlinewidth": 0,
              "ticks": ""
             }
            },
            "type": "scatter3d"
           }
          ],
          "scattercarpet": [
           {
            "marker": {
             "colorbar": {
              "outlinewidth": 0,
              "ticks": ""
             }
            },
            "type": "scattercarpet"
           }
          ],
          "scattergeo": [
           {
            "marker": {
             "colorbar": {
              "outlinewidth": 0,
              "ticks": ""
             }
            },
            "type": "scattergeo"
           }
          ],
          "scattergl": [
           {
            "marker": {
             "line": {
              "color": "#283442"
             }
            },
            "type": "scattergl"
           }
          ],
          "scattermapbox": [
           {
            "marker": {
             "colorbar": {
              "outlinewidth": 0,
              "ticks": ""
             }
            },
            "type": "scattermapbox"
           }
          ],
          "scatterpolar": [
           {
            "marker": {
             "colorbar": {
              "outlinewidth": 0,
              "ticks": ""
             }
            },
            "type": "scatterpolar"
           }
          ],
          "scatterpolargl": [
           {
            "marker": {
             "colorbar": {
              "outlinewidth": 0,
              "ticks": ""
             }
            },
            "type": "scatterpolargl"
           }
          ],
          "scatterternary": [
           {
            "marker": {
             "colorbar": {
              "outlinewidth": 0,
              "ticks": ""
             }
            },
            "type": "scatterternary"
           }
          ],
          "surface": [
           {
            "colorbar": {
             "outlinewidth": 0,
             "ticks": ""
            },
            "colorscale": [
             [
              0,
              "#0d0887"
             ],
             [
              0.1111111111111111,
              "#46039f"
             ],
             [
              0.2222222222222222,
              "#7201a8"
             ],
             [
              0.3333333333333333,
              "#9c179e"
             ],
             [
              0.4444444444444444,
              "#bd3786"
             ],
             [
              0.5555555555555556,
              "#d8576b"
             ],
             [
              0.6666666666666666,
              "#ed7953"
             ],
             [
              0.7777777777777778,
              "#fb9f3a"
             ],
             [
              0.8888888888888888,
              "#fdca26"
             ],
             [
              1,
              "#f0f921"
             ]
            ],
            "type": "surface"
           }
          ],
          "table": [
           {
            "cells": {
             "fill": {
              "color": "#506784"
             },
             "line": {
              "color": "rgb(17,17,17)"
             }
            },
            "header": {
             "fill": {
              "color": "#2a3f5f"
             },
             "line": {
              "color": "rgb(17,17,17)"
             }
            },
            "type": "table"
           }
          ]
         },
         "layout": {
          "annotationdefaults": {
           "arrowcolor": "#f2f5fa",
           "arrowhead": 0,
           "arrowwidth": 1
          },
          "autosize": false,
          "autotypenumbers": "strict",
          "coloraxis": {
           "colorbar": {
            "outlinewidth": 0,
            "ticks": ""
           }
          },
          "colorscale": {
           "diverging": [
            [
             0,
             "#8e0152"
            ],
            [
             0.1,
             "#c51b7d"
            ],
            [
             0.2,
             "#de77ae"
            ],
            [
             0.3,
             "#f1b6da"
            ],
            [
             0.4,
             "#fde0ef"
            ],
            [
             0.5,
             "#f7f7f7"
            ],
            [
             0.6,
             "#e6f5d0"
            ],
            [
             0.7,
             "#b8e186"
            ],
            [
             0.8,
             "#7fbc41"
            ],
            [
             0.9,
             "#4d9221"
            ],
            [
             1,
             "#276419"
            ]
           ],
           "sequential": [
            [
             0,
             "#0d0887"
            ],
            [
             0.1111111111111111,
             "#46039f"
            ],
            [
             0.2222222222222222,
             "#7201a8"
            ],
            [
             0.3333333333333333,
             "#9c179e"
            ],
            [
             0.4444444444444444,
             "#bd3786"
            ],
            [
             0.5555555555555556,
             "#d8576b"
            ],
            [
             0.6666666666666666,
             "#ed7953"
            ],
            [
             0.7777777777777778,
             "#fb9f3a"
            ],
            [
             0.8888888888888888,
             "#fdca26"
            ],
            [
             1,
             "#f0f921"
            ]
           ],
           "sequentialminus": [
            [
             0,
             "#0d0887"
            ],
            [
             0.1111111111111111,
             "#46039f"
            ],
            [
             0.2222222222222222,
             "#7201a8"
            ],
            [
             0.3333333333333333,
             "#9c179e"
            ],
            [
             0.4444444444444444,
             "#bd3786"
            ],
            [
             0.5555555555555556,
             "#d8576b"
            ],
            [
             0.6666666666666666,
             "#ed7953"
            ],
            [
             0.7777777777777778,
             "#fb9f3a"
            ],
            [
             0.8888888888888888,
             "#fdca26"
            ],
            [
             1,
             "#f0f921"
            ]
           ]
          },
          "colorway": [
           "#636efa",
           "#EF553B",
           "#00cc96",
           "#ab63fa",
           "#FFA15A",
           "#19d3f3",
           "#FF6692",
           "#B6E880",
           "#FF97FF",
           "#FECB52"
          ],
          "font": {
           "color": "#f2f5fa"
          },
          "geo": {
           "bgcolor": "rgb(17,17,17)",
           "lakecolor": "rgb(17,17,17)",
           "landcolor": "rgb(17,17,17)",
           "showlakes": true,
           "showland": true,
           "subunitcolor": "#506784"
          },
          "height": 300,
          "hoverlabel": {
           "align": "left"
          },
          "hovermode": "closest",
          "mapbox": {
           "style": "dark"
          },
          "margin": {
           "b": 40,
           "l": 40,
           "r": 40,
           "t": 40
          },
          "paper_bgcolor": "rgba(0,0,0,0)",
          "plot_bgcolor": "rgba(0,0,0,0)",
          "polar": {
           "angularaxis": {
            "gridcolor": "#506784",
            "linecolor": "#506784",
            "ticks": ""
           },
           "bgcolor": "rgb(17,17,17)",
           "radialaxis": {
            "gridcolor": "#506784",
            "linecolor": "#506784",
            "ticks": ""
           }
          },
          "scene": {
           "xaxis": {
            "backgroundcolor": "rgb(17,17,17)",
            "gridcolor": "#506784",
            "gridwidth": 2,
            "linecolor": "#506784",
            "showbackground": true,
            "ticks": "",
            "zerolinecolor": "#C8D4E3"
           },
           "yaxis": {
            "backgroundcolor": "rgb(17,17,17)",
            "gridcolor": "#506784",
            "gridwidth": 2,
            "linecolor": "#506784",
            "showbackground": true,
            "ticks": "",
            "zerolinecolor": "#C8D4E3"
           },
           "zaxis": {
            "backgroundcolor": "rgb(17,17,17)",
            "gridcolor": "#506784",
            "gridwidth": 2,
            "linecolor": "#506784",
            "showbackground": true,
            "ticks": "",
            "zerolinecolor": "#C8D4E3"
           }
          },
          "shapedefaults": {
           "line": {
            "color": "#f2f5fa"
           }
          },
          "sliderdefaults": {
           "bgcolor": "#C8D4E3",
           "bordercolor": "rgb(17,17,17)",
           "borderwidth": 1,
           "tickwidth": 0
          },
          "ternary": {
           "aaxis": {
            "gridcolor": "#506784",
            "linecolor": "#506784",
            "ticks": ""
           },
           "baxis": {
            "gridcolor": "#506784",
            "linecolor": "#506784",
            "ticks": ""
           },
           "bgcolor": "rgb(17,17,17)",
           "caxis": {
            "gridcolor": "#506784",
            "linecolor": "#506784",
            "ticks": ""
           }
          },
          "title": {
           "x": 0.05
          },
          "updatemenudefaults": {
           "bgcolor": "#506784",
           "borderwidth": 0
          },
          "width": 600,
          "xaxis": {
           "automargin": true,
           "gridcolor": "#283442",
           "linecolor": "#506784",
           "ticks": "",
           "title": {
            "standoff": 15
           },
           "zerolinecolor": "#283442",
           "zerolinewidth": 2
          },
          "yaxis": {
           "automargin": true,
           "gridcolor": "#283442",
           "linecolor": "#506784",
           "ticks": "",
           "title": {
            "standoff": 15
           },
           "zerolinecolor": "#283442",
           "zerolinewidth": 2
          }
         }
        },
        "title": {
         "text": "lr_gamma"
        },
        "width": 400
       }
      }
     },
     "metadata": {},
     "output_type": "display_data"
    }
   ],
   "source": [
    "marg = cs.marginals(\"_acc\")\n",
    "\n",
    "pars = list(marg.keys())\n",
    "\n",
    "print(pars)\n",
    "\n",
    "for k in pars:\n",
    "    fig = plotting.scatter(x=marg[k][k], y=[marg[k][\"max\"], marg[k][\"mean\"]])\n",
    "    fig.update_layout(width=400, height=200, title=k)\n",
    "    fig.show()\n"
   ]
  }
 ],
 "metadata": {
  "kernelspec": {
   "display_name": "_my_python",
   "language": "python",
   "name": "python3"
  },
  "language_info": {
   "codemirror_mode": {
    "name": "ipython",
    "version": 3
   },
   "file_extension": ".py",
   "mimetype": "text/x-python",
   "name": "python",
   "nbconvert_exporter": "python",
   "pygments_lexer": "ipython3",
   "version": "3.12.7"
  }
 },
 "nbformat": 4,
 "nbformat_minor": 2
}
