{
  "cells": [
    {
      "cell_type": "code",
      "execution_count": 1,
      "metadata": {},
      "outputs": [
        {
          "name": "stdout",
          "output_type": "stream",
          "text": [
            "device: cuda\n"
          ]
        }
      ],
      "source": [
        "import json\n",
        "import sys\n",
        "from importlib import reload\n",
        "\n",
        "import polars as pl\n",
        "import torch\n",
        "from datatools import plotting as dtplot\n",
        "from datatools import tabular as dttab\n",
        "from sklearn import metrics\n",
        "from torch.utils.data import DataLoader, Dataset\n",
        "\n",
        "sys.path.append(\"..\")\n",
        "\n",
        "import plotting\n",
        "from src import torch_util, text_process, util\n",
        "\n",
        "reload(plotting)\n",
        "reload(torch_util)\n",
        "dtplot.set_plotly_template()\n",
        "\n",
        "dev = torch_util.get_dev()\n",
        "print(\"device:\", dev)"
      ]
    },
    {
      "cell_type": "markdown",
      "metadata": {},
      "source": [
        "## load data\n"
      ]
    },
    {
      "cell_type": "code",
      "execution_count": 2,
      "metadata": {},
      "outputs": [
        {
          "name": "stdout",
          "output_type": "stream",
          "text": [
            "Loaded 212 examples\n",
            "    val: 53\n",
            "    test: 39\n",
            "    train: 120\n",
            "val\n",
            "\t16 unique (lang):  'python', 'php', 'matlab', 'pseudo', 'js' ,...\n",
            "test\n",
            "\t14 unique (lang):  'python', 'php', 'dart', 'pseudo', 'matlab' ,...\n",
            "train\n",
            "\t16 unique (lang):  'python', 'php', 'matlab', 'dart', 'rust' ,...\n"
          ]
        }
      ],
      "source": [
        "reload(util)\n",
        "split_idx = \"0119\"\n",
        "tag_map = None\n",
        "\n",
        "\n",
        "data = util.load_examples_json(\n",
        "    tag_map=tag_map,\n",
        "    # [\"python\", \"pseudo\", \"rust\"],\n",
        "    split_idx_id=split_idx,\n",
        ")\n",
        "\n",
        "\n",
        "for k, df in data.items():\n",
        "    print(k)\n",
        "    print(end=\"\\t\")\n",
        "    dttab.value_counts(df[\"lang\"], verbose=True, as_dict=True)\n"
      ]
    },
    {
      "cell_type": "markdown",
      "metadata": {},
      "source": [
        "## most common tokens\n"
      ]
    },
    {
      "cell_type": "code",
      "execution_count": null,
      "metadata": {},
      "outputs": [
        {
          "name": "stdout",
          "output_type": "stream",
          "text": [
            "VOCAB (130): ['<pad>', '<unk>', ' ', '\\n', ')', '(', '=', '.', ',', ';', '    ', ':', ']', '[', '{', '  ', '\\n\\n', '}', 'return', 'if', '        ', '*', 'import', 'for', 'in', '-', 'int', '==', '::', '+', '>', '->', '<', 'while', 'let', 'function', 'from', 'as', '...', 'var', 'echo', 'const', '\\\\', '+=', '++', '**', '            ', '|', 'true', 'end', 'else', 'def', '<-', '/', '%', 'use', 'public', 'pub', 'class', 'True', 'void', 'str', 'null', 'new', 'mut', 'mod', 'float', 'extends', '^', '>>>', '>=', '<=', '-=', '&', '!=', 'xy', 'tight', 'synchronized', 'false', 'bool', 'axis', 'False', '.^', '      ', '   ', '~/', 'with', 'where', 'typeof', 'tuple', 'throws', 'then', 'r', 'private', 'package', 'on', 'not', 'next', 'local', 'is', 'instanceof', 'hold', 'func', 'foreach', 'fn', 'double', 'done', 'do', 'crate', 'continue', 'colorbar', 'char', 'break', 'async', '_', 'SELECT', 'FROM', '?', '=>', '===', '/=', '..', '--', \"'\", '!', '                ', '             ', '       ', '     ', '\\n\\n\\n']\n",
            "LEFT  (515): ['1', '0', 'i', 'x', '2', 'np', 'data', 'a', 'y', 'sum', 's', 'torch', 'plt', 'n', 't', 'd', 'b', 'K', '3', 'thing', 'print', 'len', 'array', 'L', 'z', 'util', 'range', 'm', 'logr', 'length', 'X', 'Route', 'transactions', 'permits', 'nz', 'T', 'HashSet', 'prod', 'p', 'numpy', 'masks', 'map', 'key', 'get', 'figure', 'exp', 'enc', 'count', '6', '5', '4', 'union', 'tensor', 't1', 'subplot', 'string', 'sklearn', 'seq', 'seg_array', 'scatter', 'reshape', 'products', 'pl', 'pd', 'odds', 'needle', 'name', 'mymod', 'max', 'main', 'm2', 'm1', 'linspace', 'line', 'k', 'j', 'haystack', 'data_valid', 'curses', 'acc', 'N_iter', 'I', 'D_kk', 'CM', 'Array', '200', '1000', '100', '// ...', '$request', '\"char_tags\"', 'zeros', 'yo', 'ylabel', 'xlabel', 'width', 'value_counts_dict', 'validation', 'title', 'the', 't2', 'sum_sqr', 'stdin', 'states', 'sqrt', 'sp', 'sols', 'size', 'sigma2z', 'sigma2s', 'segment', 's2hat', 'row', 'rhats', 'rhat_std', 'rhat_mean', 'rhat', 'results', 'result', 'readLineSync', 'quiz', 'questions', 'pyplot', 'probability', 'preprocessing', 'pred_prob_test', 'poly', 'plot', 'parse', 'os', 'original', 'new_rows', 'ndimage', 'my_function', 'min', 'matplotlib', 'masks_all', 'mask', 'log_odds', 'linear_model', 'linalg', 'length2', 'l1', 'intersection', 'init', 'imread', 'imputer', 'idx', 'id', 'icecream_sum', 'height', 'has', 'frames_ann', 'frames', 'fit_transform', 'fit', 'fgh', 'factorial', 'f', 'explode', 'dim', 'digits', 'cv', 'colors', 'chunk_idx', 'char_examples', 'center_of_mass', 'arr', 'anotherVar', 'age', 'aVar', 'X_ols', 'SoftDeletes', 'Semaphore', 'Quiz', 'Question', 'PolynomialFeatures', 'Person', 'MyThread', 'Model', 'Member', 'Kmax', 'KNNImputer', 'Integer', 'Illuminate', 'DataFrame', 'ArrayList', '500', '50', '33', '30', '22', '20', '10', '1.96', \"'markeredgecolor'\", \"'filled'\", '$x', '$uri', '$item', '$collection', '$callback', '$_num', '\"tags\"', '\"chars\"', 'zero', 'ym', 'yhat_v_ols', 'yhat_v', 'xm', 'write_parquet', 'with_columns', 'withTimestamps', 'win', 'when', 'weights', 'wait', 'val_tag_idx', 'val_df', 'upper', 'transforms', 'transform', 'toList', 'this', 'test_ids', 'tag2idx', 'symbols', 'summary', 'sum_primint', 'submod', 'strtoupper', 'strStr', 'stop_frame', 'stdscr', 'std_hat_grid_ols', 'start', 'split', 'sparse_output', 'something', 'solve', 'sin', 'show', 'set', 'session', 'series', 'seg', 'seen', 'scale', 'sales', 'rows', 'rng', 'rmse_v_ols', 'res', 'renamed', 'release', 'reduce', 'redirect', 'readtable', 'randi', 'price', 'predicted', 'predict', 'post', 'pi', 'pb', 'path', 'parser', 'pandas', 'otherwise', 'old', 'objects', 'numbers', 'notify', 'norm', 'nonzero', 'newwin', 'n_neighbors', 'mynum', 'my_var', 'my_contextmanager', 'myNum', 'models', 'model', 'mini', 'min_frequency', 'midpoints', 'meshgrid', 'members', 'mean', 'maxi', 'math_fun', 'math', 'match', 'mask_sum', 'mask_similarity', 'lower', 'logit2prob', 'load_examples', 'load', 'left_null', 'l2', 'kappa', 'join', 'jmax', 'jk', 'isEmpty', 'into_par_iter', 'interrupt', 'intercept_', 'integers', 'initscr', 'index', 'imshow', 'impute', 'imagesc', 'im_test', 'idxmax', 'icecream_lm', 'handle_unknown', 'glimpse', 'get_dummies', 'gen_chunk', 'gcd_euclid_bigu', 'functional', 'frames_original', 'format_time', 'fmt', 'fb', 'factorize', 'extend', 'examples', 'empty_like', 'empty', 'dummies', 'drop_first', 'document', 'dm', 'displayQuestion', 'display', 'dh', 'df', 'description', 'delete', 'cvtColor', 'cv2', 'currentThread', 'covest_nonparametric', 'could', 'convert_image_dtype', 'collect', 'col', 'coef_', 'clf', 'chunk_size', 'checkseq', 'char_tag_counts', 'char_counts', 'bind', 'beta', 'belongsToMany', 'be', 'argparse', 'arange', 'append', 'ann', 'all', 'alias', 'alert', 'addEventListener', 'acquire', 'aLetter', 'aDoubleNum', 'aBool', 'Z_p', 'Y_valid', 'X_test_norm', 'W', 'Vec', 'VariableNames', 'UPDATED_AT', 'Thread', 'Thingsy', 'Support', 'String', 'Row', 'Properties', 'Println', 'PrimInt', 'Owner', 'OneHotEncoder', 'Number', 'N_frames', 'NCHUNKS', 'MyArray', 'MAP_TAGS', 'LogisticRegression', 'InterruptedException', 'ImmutablePoint', 'IMAGE_PATH', 'H', 'Facades', 'Eloquent', 'Dmax', 'Database', 'Constructor', 'C_beta', 'CREATED_AT', 'COLOR_GRAY2RGB', 'BigUint', 'BigInt', 'ArgumentParser', 'Action', '99', '92434447339770015548544881401_u128', '9', '76', '7', '6000', '5000', '5.99D', '42', '37.71', '37', '33.33', '3000', '3.46', '24', '2372', '231', '223', '2000', '1e-2', '15', '13', '1237', '12', '112', '// make quiz', '// load exercise content', \"// Stop if we've processed all rows\", '// Move to the next pivot row', \"'world'\", \"'updated_date'\", \"'red'\", \"'r'\", \"'put'\", \"'name'\", \"'mydatafile.csv'\", \"'k'\", \"'infrequent_if_exist'\", \"'hello'\", \"'function'\", \"'dragon'\", \"'delete'\", \"'dart:io'\", \"'creation_date'\", \"'color'\", \"'c'\", \"'blue'\", \"'b'\", \"'athing'\", \"'a'\", \"'Hello'\", \"'DOMContentLoaded'\", \"'D'\", \"'/there'\", \"'/hey'\", \"'/here'\", \"'/'\", \"'./Quiz.js'\", \"'./Question.js'\", '%split in validation and training', '% confidence interval', '% GMRF parameters', '$x1', '$this', '$key', '$b', '$abc', '$a', '# random numbers', '# a = old b, b = old a + old b', '\"yes\"', '\"y\"', '\"x\"', '\"val\"', '\"uniform\"', '\"this is a script...\"', '\"test image\"', '\"t\"', '\"somename\"', '\"segmentation\"', '\"result.parquet\"', '\"price\"', '\"number: $i\"', '\"number of frames:\"', '\"nope\"', '\"loop!\"', '\"id\"', '\"hello world\"', '\"fmt\"', '\"cadabra\"', '\"age\"', '\"abra\"', '\"Validation prediction\"', '\"Response\"', '\"Hello world\"', '\"Hello World\"', '\"Hello World!\"', '\":\"', '\"0000.png\"', '\"..\\\\SAMresult\"', '\".\"', '\"*r\"', '\"$a, $b\"']\n"
          ]
        }
      ],
      "source": [
        "vocab, token2idx = util.make_vocab(data[\"train\"])\n",
        "leftover = (\n",
        "    data[\"train\"]\n",
        "    .select(pl.col(\"tokens\").explode())\n",
        "    .filter(pl.col(\"tokens\").is_in(vocab).not_())\n",
        "    .group_by(\"tokens\")\n",
        "    .agg(pl.len().alias(\"count\"))\n",
        "    .sort(\"count\", \"tokens\", descending=True)\n",
        ")\n",
        "leftover = leftover[\"tokens\"].to_list()\n",
        "\n",
        "print(f\"VOCAB ({len(vocab)}):\", vocab)\n",
        "print(f\"LEFT  ({len(leftover)}):\", leftover)\n"
      ]
    },
    {
      "cell_type": "code",
      "execution_count": 4,
      "metadata": {},
      "outputs": [
        {
          "name": "stdout",
          "output_type": "stream",
          "text": [
            "643 unique (tokens):  ' ', '\\n', ')', '(', '=' ,...\n",
            "35 unique (tags):  'ws', 'va', 'brop', 'brcl', 'nl' ,...\n"
          ]
        }
      ],
      "source": [
        "token_counts = dttab.value_counts(\n",
        "    data[\"train\"][\"tokens\"].explode(), verbose=True, as_dict=True\n",
        ")\n",
        "\n",
        "# tag counts for all data, closed tag set\n",
        "tag_counts = dttab.value_counts(\n",
        "    pl.concat([data[\"train\"], data[\"val\"], data[\"test\"]])[\"tags\"].explode(),\n",
        "    verbose=True,\n",
        "    as_dict=True,\n",
        ")\n"
      ]
    },
    {
      "cell_type": "code",
      "execution_count": 5,
      "metadata": {},
      "outputs": [
        {
          "name": "stdout",
          "output_type": "stream",
          "text": [
            "vocab (130 tokens): ['<pad>', '<unk>', ' ', '\\n', ')', '(', '=', '.', ',', ';', '    ', ':', ']', '[', '{', '  ', '\\n\\n', '}', 'return', 'if', '        ', '*', 'import', 'for', 'in', '-', 'int', '==', '::', '+', '>', '->', '<', 'while', 'let', 'function', 'from', 'as', '...', 'var', 'echo', 'const', '\\\\', '+=', '++', '**', '            ', '|', 'true', 'end', 'else', 'def', '<-', '/', '%', 'use', 'public', 'pub', 'class', 'True', 'void', 'str', 'null', 'new', 'mut', 'mod', 'float', 'extends', '^', '>>>', '>=', '<=', '-=', '&', '!=', 'xy', 'tight', 'synchronized', 'false', 'bool', 'axis', 'False', '.^', '      ', '   ', '~/', 'with', 'where', 'typeof', 'tuple', 'throws', 'then', 'r', 'private', 'package', 'on', 'not', 'next', 'local', 'is', 'instanceof', 'hold', 'func', 'foreach', 'fn', 'double', 'done', 'do', 'crate', 'continue', 'colorbar', 'char', 'break', 'async', '_', 'SELECT', 'FROM', '?', '=>', '===', '/=', '..', '--', \"'\", '!', '                ', '             ', '       ', '     ', '\\n\\n\\n']\n",
            "vocab (37 tags)  : ['<pad>', 'uk', 'ws', 'va', 'brop', 'brcl', 'nl', 'pu', 'sy', 'nu', 'id', 'opas', 'fnfr', 'mo', 'kwfl', 'st', 'opbi', 'pa', 'cl', 'fnas', 'fnme', 'kwim', 'at', 'opcm', 'kwty', 'kwop', 'opun', 'kwva', 'bo', 'kwfn', 'kwmo', 'cofl', 'kwio', 'kwde', 'li', 'coil', 'coml']\n"
          ]
        }
      ],
      "source": [
        "# tags\n",
        "tag_vocab = [\"<pad>\", \"uk\"] + list(tag_counts.keys())\n",
        "tag2idx = {t: i for i, t in enumerate(tag_vocab)}\n",
        "\n",
        "print(f\"vocab ({len(vocab)} tokens):\", vocab)\n",
        "print(f\"vocab ({len(tag_vocab)} tags)  :\", tag_vocab)\n"
      ]
    },
    {
      "cell_type": "markdown",
      "metadata": {},
      "source": [
        "### class weights?\n"
      ]
    },
    {
      "cell_type": "code",
      "execution_count": 6,
      "metadata": {},
      "outputs": [],
      "source": [
        "reload(dttab)\n",
        "\n",
        "\n",
        "all_tags = data[\"train\"][\"tags\"].explode()\n",
        "\n",
        "tag_counts = dttab.value_counts(all_tags, sort_by=\"value\", as_dict=True)\n"
      ]
    },
    {
      "cell_type": "markdown",
      "metadata": {},
      "source": [
        "### Prepare data for model\n"
      ]
    },
    {
      "cell_type": "code",
      "execution_count": 7,
      "metadata": {},
      "outputs": [
        {
          "name": "stdout",
          "output_type": "stream",
          "text": [
            "padded tensor: (120, 155) cuda:0\n",
            "padded tensor: (120, 155) cuda:0\n",
            "padded tensor: (120, 155) cuda:0\n",
            "padded tensor: (53, 85) cuda:0\n",
            "padded tensor: (53, 85) cuda:0\n",
            "padded tensor: (53, 85) cuda:0\n"
          ]
        }
      ],
      "source": [
        "_, token2idx = util.make_vocab(df)\n",
        "tag_vocab = [\"<pad>\", \"uk\"] + df[\"tags\"].explode().value_counts(sort=True)[\n",
        "    \"tags\"\n",
        "].to_list()\n",
        "tag2idx = {t: i for i, t in enumerate(tag_vocab)}\n",
        "\n",
        "\n",
        "# Create dataloaders\n",
        "\n",
        "train_dl = torch_util.data2torch(data[\"train\"], 4, token2idx, tag2idx, dev)\n",
        "val_dl = torch_util.data2torch(data[\"val\"], 8, token2idx, tag2idx, dev)\n"
      ]
    },
    {
      "cell_type": "markdown",
      "metadata": {},
      "source": [
        "## model\n"
      ]
    },
    {
      "cell_type": "code",
      "execution_count": 39,
      "metadata": {},
      "outputs": [
        {
          "name": "stdout",
          "output_type": "stream",
          "text": [
            "   0/100, loss: 0.001645,                     acc: 90.23%\n",
            "   5/100, loss: 0.001229, min-loss: 0.001229, acc: 96.51%\n",
            "  10/100, loss: 0.001201, min-loss: 0.001201, acc: 96.98%\n",
            "  15/100, loss: 0.001186, min-loss: 0.001179, acc: 97.25%\n",
            "  20/100, loss: 0.001169, min-loss: 0.001169, acc: 97.56%\n",
            "  25/100, loss: 0.001168, min-loss: 0.001165, acc: 97.56%\n",
            "  30/100, loss: 0.001167,                     acc: 97.36%\n",
            "  35/100, loss: 0.001164, min-loss: 0.001161, acc: 97.60%\n",
            "  40/100, loss: 0.001157, min-loss: 0.001157, acc: 97.71%\n",
            "  45/100, loss: 0.001157, min-loss: 0.001157, acc: 97.76%\n",
            "  50/100, loss: 0.001156, min-loss: 0.001156, acc: 97.62%\n",
            "  55/100, loss: 0.001159, min-loss: 0.001156, acc: 97.76%\n",
            "  60/100, loss: 0.001159, min-loss: 0.001152, acc: 97.85%\n"
          ]
        },
        {
          "data": {
            "application/vnd.plotly.v1+json": {
              "config": {
                "plotlyServerURL": "https://plot.ly"
              },
              "data": [
                {
                  "type": "scatter",
                  "y": [
                    0.002297551404404384,
                    0.0014168936046220922,
                    0.001307376318721361,
                    0.0012697390298689565,
                    0.001237208705435517,
                    0.0012145670607525815,
                    0.0012054845498454187,
                    0.0011943013918015264,
                    0.0011883561521448115,
                    0.0011779767755539187,
                    0.0011783400177955627,
                    0.0011729613202874378,
                    0.001169581259450605,
                    0.0011646623028221952,
                    0.0011657963933483246,
                    0.0011610560904267014,
                    0.0011627959788486522,
                    0.0011606972993061107,
                    0.0011535774315557172,
                    0.0011496546383826963,
                    0.0011503229474508635,
                    0.0011468586838373573,
                    0.0011495016403095697,
                    0.001150251002080979,
                    0.0011492541945108804,
                    0.0011470898889726208,
                    0.0011432903876868628,
                    0.0011452488777458027,
                    0.001146661094439927,
                    0.001144120632320322,
                    0.001141988577381257,
                    0.0011415086318087835,
                    0.0011393313125897479,
                    0.0011379796843374928,
                    0.0011342003108352743,
                    0.0011355876057378706,
                    0.0011339469654585725,
                    0.0011344963728740652,
                    0.0011357416741309626,
                    0.0011350942523248734,
                    0.0011350795434367273,
                    0.0011344216972269039,
                    0.001134858214727012,
                    0.0011340945895000171,
                    0.001136258452810267,
                    0.0011333561584513676,
                    0.0011347056684955473,
                    0.0011341489514996928,
                    0.0011351749044592662,
                    0.001132235139287928,
                    0.0011317639357300215,
                    0.0011323100136172387,
                    0.001127228477308827,
                    0.0011291936520607241,
                    0.00112950917854104,
                    0.0011279954448823006,
                    0.0011282233044665347,
                    0.0011267650511956983,
                    0.0011265898840401762,
                    0.0011280883095597708,
                    0.0011255392175848766,
                    0.001127669923408057,
                    0.0011281541566694937,
                    0.0011267327076645308,
                    0.0011280113330451392
                  ]
                },
                {
                  "type": "scatter",
                  "y": [
                    0.001645163108453105,
                    0.0014034818200504078,
                    0.0013513612032730491,
                    0.0012954939351097726,
                    0.001254914259407814,
                    0.0012290890685196854,
                    0.0012132839807262696,
                    0.0012129479719452006,
                    0.0012043190849211054,
                    0.0012006631172722109,
                    0.001200777021020684,
                    0.0012066335445238933,
                    0.001186750295027247,
                    0.0011901498634727893,
                    0.0011787482689276387,
                    0.0011863530674467607,
                    0.0011817794396530642,
                    0.001178373943819984,
                    0.0011779479657637822,
                    0.0011744775597448487,
                    0.001168797296636245,
                    0.0011661439836356008,
                    0.0011739620887214414,
                    0.0011647940211237866,
                    0.0011719553637319347,
                    0.00116798308792707,
                    0.001170744972673558,
                    0.0011699499088969002,
                    0.0011664257726976266,
                    0.0011659694829341707,
                    0.0011670596062409362,
                    0.0011672647361882387,
                    0.0011687083329000696,
                    0.0011638776443642332,
                    0.00116057061196432,
                    0.0011637521107638715,
                    0.0011607397938938966,
                    0.0011657080957283587,
                    0.0011716320300340388,
                    0.001166925472636334,
                    0.0011574217137962281,
                    0.001164490798205038,
                    0.0011655931335178252,
                    0.0011585061346386435,
                    0.0011638683828212048,
                    0.0011566713303492945,
                    0.0011611416390151215,
                    0.001162440371963213,
                    0.0011690540795320941,
                    0.0011558805136516542,
                    0.0011557290874231404,
                    0.0011586734245672872,
                    0.0011583994284321809,
                    0.0011604013241885373,
                    0.0011557141895696405,
                    0.0011588311221835087,
                    0.0011583824004237845,
                    0.0011518491492022685,
                    0.0011525701206346992,
                    0.0011647473032545964,
                    0.0011589954748799348,
                    0.0011559985189406113,
                    0.0011584708481597054,
                    0.001162602250504573,
                    0.001161365755125632
                  ]
                },
                {
                  "type": "scatter",
                  "y": [
                    0.902330756187439,
                    0.9227524995803833,
                    0.9314095377922058,
                    0.9485016465187073,
                    0.9531631469726562,
                    0.9651498198509216,
                    0.9622641801834106,
                    0.9662597179412842,
                    0.9693673849105835,
                    0.9687014222145081,
                    0.9698113203048706,
                    0.9678135514259338,
                    0.9709212183952332,
                    0.970477283000946,
                    0.9735848903656006,
                    0.9724750518798828,
                    0.9740288853645325,
                    0.9713651537895203,
                    0.9740288853645325,
                    0.9740288853645325,
                    0.9755827188491821,
                    0.9753606915473938,
                    0.9724750518798828,
                    0.9773585200309753,
                    0.9760266542434692,
                    0.9755827188491821,
                    0.9764705896377563,
                    0.9762486219406128,
                    0.9762486219406128,
                    0.9738069176673889,
                    0.9735848903656006,
                    0.9755827188491821,
                    0.9735848903656006,
                    0.9738069176673889,
                    0.9758046865463257,
                    0.9760266542434692,
                    0.9769145250320435,
                    0.9760266542434692,
                    0.9749167561531067,
                    0.9762486219406128,
                    0.977136492729187,
                    0.977136492729187,
                    0.9746947884559631,
                    0.9773585200309753,
                    0.9775804877281189,
                    0.9775804877281189,
                    0.9766925573348999,
                    0.9766925573348999,
                    0.9749167561531067,
                    0.9791343212127686,
                    0.9762486219406128,
                    0.977136492729187,
                    0.9753606915473938,
                    0.9766925573348999,
                    0.9773585200309753,
                    0.9775804877281189,
                    0.9758046865463257,
                    0.9773585200309753,
                    0.9784683585166931,
                    0.977136492729187,
                    0.9784683585166931,
                    0.977136492729187,
                    0.978912353515625,
                    0.9766925573348999,
                    0.9755827188491821
                  ]
                }
              ],
              "layout": {
                "template": {
                  "data": {
                    "bar": [
                      {
                        "error_x": {
                          "color": "#f2f5fa"
                        },
                        "error_y": {
                          "color": "#f2f5fa"
                        },
                        "marker": {
                          "line": {
                            "color": "rgb(17,17,17)",
                            "width": 0.5
                          },
                          "pattern": {
                            "fillmode": "overlay",
                            "size": 10,
                            "solidity": 0.2
                          }
                        },
                        "type": "bar"
                      }
                    ],
                    "barpolar": [
                      {
                        "marker": {
                          "line": {
                            "color": "rgb(17,17,17)",
                            "width": 0.5
                          },
                          "pattern": {
                            "fillmode": "overlay",
                            "size": 10,
                            "solidity": 0.2
                          }
                        },
                        "type": "barpolar"
                      }
                    ],
                    "carpet": [
                      {
                        "aaxis": {
                          "endlinecolor": "#A2B1C6",
                          "gridcolor": "#506784",
                          "linecolor": "#506784",
                          "minorgridcolor": "#506784",
                          "startlinecolor": "#A2B1C6"
                        },
                        "baxis": {
                          "endlinecolor": "#A2B1C6",
                          "gridcolor": "#506784",
                          "linecolor": "#506784",
                          "minorgridcolor": "#506784",
                          "startlinecolor": "#A2B1C6"
                        },
                        "type": "carpet"
                      }
                    ],
                    "choropleth": [
                      {
                        "colorbar": {
                          "outlinewidth": 0,
                          "ticks": ""
                        },
                        "type": "choropleth"
                      }
                    ],
                    "contour": [
                      {
                        "colorbar": {
                          "outlinewidth": 0,
                          "ticks": ""
                        },
                        "colorscale": [
                          [
                            0,
                            "#0d0887"
                          ],
                          [
                            0.1111111111111111,
                            "#46039f"
                          ],
                          [
                            0.2222222222222222,
                            "#7201a8"
                          ],
                          [
                            0.3333333333333333,
                            "#9c179e"
                          ],
                          [
                            0.4444444444444444,
                            "#bd3786"
                          ],
                          [
                            0.5555555555555556,
                            "#d8576b"
                          ],
                          [
                            0.6666666666666666,
                            "#ed7953"
                          ],
                          [
                            0.7777777777777778,
                            "#fb9f3a"
                          ],
                          [
                            0.8888888888888888,
                            "#fdca26"
                          ],
                          [
                            1,
                            "#f0f921"
                          ]
                        ],
                        "type": "contour"
                      }
                    ],
                    "contourcarpet": [
                      {
                        "colorbar": {
                          "outlinewidth": 0,
                          "ticks": ""
                        },
                        "type": "contourcarpet"
                      }
                    ],
                    "heatmap": [
                      {
                        "colorbar": {
                          "outlinewidth": 0,
                          "ticks": ""
                        },
                        "colorscale": [
                          [
                            0,
                            "#0d0887"
                          ],
                          [
                            0.1111111111111111,
                            "#46039f"
                          ],
                          [
                            0.2222222222222222,
                            "#7201a8"
                          ],
                          [
                            0.3333333333333333,
                            "#9c179e"
                          ],
                          [
                            0.4444444444444444,
                            "#bd3786"
                          ],
                          [
                            0.5555555555555556,
                            "#d8576b"
                          ],
                          [
                            0.6666666666666666,
                            "#ed7953"
                          ],
                          [
                            0.7777777777777778,
                            "#fb9f3a"
                          ],
                          [
                            0.8888888888888888,
                            "#fdca26"
                          ],
                          [
                            1,
                            "#f0f921"
                          ]
                        ],
                        "type": "heatmap"
                      }
                    ],
                    "heatmapgl": [
                      {
                        "colorbar": {
                          "outlinewidth": 0,
                          "ticks": ""
                        },
                        "colorscale": [
                          [
                            0,
                            "#0d0887"
                          ],
                          [
                            0.1111111111111111,
                            "#46039f"
                          ],
                          [
                            0.2222222222222222,
                            "#7201a8"
                          ],
                          [
                            0.3333333333333333,
                            "#9c179e"
                          ],
                          [
                            0.4444444444444444,
                            "#bd3786"
                          ],
                          [
                            0.5555555555555556,
                            "#d8576b"
                          ],
                          [
                            0.6666666666666666,
                            "#ed7953"
                          ],
                          [
                            0.7777777777777778,
                            "#fb9f3a"
                          ],
                          [
                            0.8888888888888888,
                            "#fdca26"
                          ],
                          [
                            1,
                            "#f0f921"
                          ]
                        ],
                        "type": "heatmapgl"
                      }
                    ],
                    "histogram": [
                      {
                        "marker": {
                          "pattern": {
                            "fillmode": "overlay",
                            "size": 10,
                            "solidity": 0.2
                          }
                        },
                        "type": "histogram"
                      }
                    ],
                    "histogram2d": [
                      {
                        "colorbar": {
                          "outlinewidth": 0,
                          "ticks": ""
                        },
                        "colorscale": [
                          [
                            0,
                            "#0d0887"
                          ],
                          [
                            0.1111111111111111,
                            "#46039f"
                          ],
                          [
                            0.2222222222222222,
                            "#7201a8"
                          ],
                          [
                            0.3333333333333333,
                            "#9c179e"
                          ],
                          [
                            0.4444444444444444,
                            "#bd3786"
                          ],
                          [
                            0.5555555555555556,
                            "#d8576b"
                          ],
                          [
                            0.6666666666666666,
                            "#ed7953"
                          ],
                          [
                            0.7777777777777778,
                            "#fb9f3a"
                          ],
                          [
                            0.8888888888888888,
                            "#fdca26"
                          ],
                          [
                            1,
                            "#f0f921"
                          ]
                        ],
                        "type": "histogram2d"
                      }
                    ],
                    "histogram2dcontour": [
                      {
                        "colorbar": {
                          "outlinewidth": 0,
                          "ticks": ""
                        },
                        "colorscale": [
                          [
                            0,
                            "#0d0887"
                          ],
                          [
                            0.1111111111111111,
                            "#46039f"
                          ],
                          [
                            0.2222222222222222,
                            "#7201a8"
                          ],
                          [
                            0.3333333333333333,
                            "#9c179e"
                          ],
                          [
                            0.4444444444444444,
                            "#bd3786"
                          ],
                          [
                            0.5555555555555556,
                            "#d8576b"
                          ],
                          [
                            0.6666666666666666,
                            "#ed7953"
                          ],
                          [
                            0.7777777777777778,
                            "#fb9f3a"
                          ],
                          [
                            0.8888888888888888,
                            "#fdca26"
                          ],
                          [
                            1,
                            "#f0f921"
                          ]
                        ],
                        "type": "histogram2dcontour"
                      }
                    ],
                    "mesh3d": [
                      {
                        "colorbar": {
                          "outlinewidth": 0,
                          "ticks": ""
                        },
                        "type": "mesh3d"
                      }
                    ],
                    "parcoords": [
                      {
                        "line": {
                          "colorbar": {
                            "outlinewidth": 0,
                            "ticks": ""
                          }
                        },
                        "type": "parcoords"
                      }
                    ],
                    "pie": [
                      {
                        "automargin": true,
                        "type": "pie"
                      }
                    ],
                    "scatter": [
                      {
                        "marker": {
                          "line": {
                            "color": "#283442"
                          }
                        },
                        "type": "scatter"
                      }
                    ],
                    "scatter3d": [
                      {
                        "line": {
                          "colorbar": {
                            "outlinewidth": 0,
                            "ticks": ""
                          }
                        },
                        "marker": {
                          "colorbar": {
                            "outlinewidth": 0,
                            "ticks": ""
                          }
                        },
                        "type": "scatter3d"
                      }
                    ],
                    "scattercarpet": [
                      {
                        "marker": {
                          "colorbar": {
                            "outlinewidth": 0,
                            "ticks": ""
                          }
                        },
                        "type": "scattercarpet"
                      }
                    ],
                    "scattergeo": [
                      {
                        "marker": {
                          "colorbar": {
                            "outlinewidth": 0,
                            "ticks": ""
                          }
                        },
                        "type": "scattergeo"
                      }
                    ],
                    "scattergl": [
                      {
                        "marker": {
                          "line": {
                            "color": "#283442"
                          }
                        },
                        "type": "scattergl"
                      }
                    ],
                    "scattermapbox": [
                      {
                        "marker": {
                          "colorbar": {
                            "outlinewidth": 0,
                            "ticks": ""
                          }
                        },
                        "type": "scattermapbox"
                      }
                    ],
                    "scatterpolar": [
                      {
                        "marker": {
                          "colorbar": {
                            "outlinewidth": 0,
                            "ticks": ""
                          }
                        },
                        "type": "scatterpolar"
                      }
                    ],
                    "scatterpolargl": [
                      {
                        "marker": {
                          "colorbar": {
                            "outlinewidth": 0,
                            "ticks": ""
                          }
                        },
                        "type": "scatterpolargl"
                      }
                    ],
                    "scatterternary": [
                      {
                        "marker": {
                          "colorbar": {
                            "outlinewidth": 0,
                            "ticks": ""
                          }
                        },
                        "type": "scatterternary"
                      }
                    ],
                    "surface": [
                      {
                        "colorbar": {
                          "outlinewidth": 0,
                          "ticks": ""
                        },
                        "colorscale": [
                          [
                            0,
                            "#0d0887"
                          ],
                          [
                            0.1111111111111111,
                            "#46039f"
                          ],
                          [
                            0.2222222222222222,
                            "#7201a8"
                          ],
                          [
                            0.3333333333333333,
                            "#9c179e"
                          ],
                          [
                            0.4444444444444444,
                            "#bd3786"
                          ],
                          [
                            0.5555555555555556,
                            "#d8576b"
                          ],
                          [
                            0.6666666666666666,
                            "#ed7953"
                          ],
                          [
                            0.7777777777777778,
                            "#fb9f3a"
                          ],
                          [
                            0.8888888888888888,
                            "#fdca26"
                          ],
                          [
                            1,
                            "#f0f921"
                          ]
                        ],
                        "type": "surface"
                      }
                    ],
                    "table": [
                      {
                        "cells": {
                          "fill": {
                            "color": "#506784"
                          },
                          "line": {
                            "color": "rgb(17,17,17)"
                          }
                        },
                        "header": {
                          "fill": {
                            "color": "#2a3f5f"
                          },
                          "line": {
                            "color": "rgb(17,17,17)"
                          }
                        },
                        "type": "table"
                      }
                    ]
                  },
                  "layout": {
                    "annotationdefaults": {
                      "arrowcolor": "#f2f5fa",
                      "arrowhead": 0,
                      "arrowwidth": 1
                    },
                    "autosize": false,
                    "autotypenumbers": "strict",
                    "coloraxis": {
                      "colorbar": {
                        "outlinewidth": 0,
                        "ticks": ""
                      }
                    },
                    "colorscale": {
                      "diverging": [
                        [
                          0,
                          "#8e0152"
                        ],
                        [
                          0.1,
                          "#c51b7d"
                        ],
                        [
                          0.2,
                          "#de77ae"
                        ],
                        [
                          0.3,
                          "#f1b6da"
                        ],
                        [
                          0.4,
                          "#fde0ef"
                        ],
                        [
                          0.5,
                          "#f7f7f7"
                        ],
                        [
                          0.6,
                          "#e6f5d0"
                        ],
                        [
                          0.7,
                          "#b8e186"
                        ],
                        [
                          0.8,
                          "#7fbc41"
                        ],
                        [
                          0.9,
                          "#4d9221"
                        ],
                        [
                          1,
                          "#276419"
                        ]
                      ],
                      "sequential": [
                        [
                          0,
                          "#0d0887"
                        ],
                        [
                          0.1111111111111111,
                          "#46039f"
                        ],
                        [
                          0.2222222222222222,
                          "#7201a8"
                        ],
                        [
                          0.3333333333333333,
                          "#9c179e"
                        ],
                        [
                          0.4444444444444444,
                          "#bd3786"
                        ],
                        [
                          0.5555555555555556,
                          "#d8576b"
                        ],
                        [
                          0.6666666666666666,
                          "#ed7953"
                        ],
                        [
                          0.7777777777777778,
                          "#fb9f3a"
                        ],
                        [
                          0.8888888888888888,
                          "#fdca26"
                        ],
                        [
                          1,
                          "#f0f921"
                        ]
                      ],
                      "sequentialminus": [
                        [
                          0,
                          "#0d0887"
                        ],
                        [
                          0.1111111111111111,
                          "#46039f"
                        ],
                        [
                          0.2222222222222222,
                          "#7201a8"
                        ],
                        [
                          0.3333333333333333,
                          "#9c179e"
                        ],
                        [
                          0.4444444444444444,
                          "#bd3786"
                        ],
                        [
                          0.5555555555555556,
                          "#d8576b"
                        ],
                        [
                          0.6666666666666666,
                          "#ed7953"
                        ],
                        [
                          0.7777777777777778,
                          "#fb9f3a"
                        ],
                        [
                          0.8888888888888888,
                          "#fdca26"
                        ],
                        [
                          1,
                          "#f0f921"
                        ]
                      ]
                    },
                    "colorway": [
                      "#636efa",
                      "#EF553B",
                      "#00cc96",
                      "#ab63fa",
                      "#FFA15A",
                      "#19d3f3",
                      "#FF6692",
                      "#B6E880",
                      "#FF97FF",
                      "#FECB52"
                    ],
                    "font": {
                      "color": "#f2f5fa"
                    },
                    "geo": {
                      "bgcolor": "rgb(17,17,17)",
                      "lakecolor": "rgb(17,17,17)",
                      "landcolor": "rgb(17,17,17)",
                      "showlakes": true,
                      "showland": true,
                      "subunitcolor": "#506784"
                    },
                    "height": 300,
                    "hoverlabel": {
                      "align": "left"
                    },
                    "hovermode": "closest",
                    "mapbox": {
                      "style": "dark"
                    },
                    "margin": {
                      "b": 40,
                      "l": 40,
                      "r": 40,
                      "t": 40
                    },
                    "paper_bgcolor": "rgba(0,0,0,0)",
                    "plot_bgcolor": "rgba(0,0,0,0)",
                    "polar": {
                      "angularaxis": {
                        "gridcolor": "#506784",
                        "linecolor": "#506784",
                        "ticks": ""
                      },
                      "bgcolor": "rgb(17,17,17)",
                      "radialaxis": {
                        "gridcolor": "#506784",
                        "linecolor": "#506784",
                        "ticks": ""
                      }
                    },
                    "scene": {
                      "xaxis": {
                        "backgroundcolor": "rgb(17,17,17)",
                        "gridcolor": "#506784",
                        "gridwidth": 2,
                        "linecolor": "#506784",
                        "showbackground": true,
                        "ticks": "",
                        "zerolinecolor": "#C8D4E3"
                      },
                      "yaxis": {
                        "backgroundcolor": "rgb(17,17,17)",
                        "gridcolor": "#506784",
                        "gridwidth": 2,
                        "linecolor": "#506784",
                        "showbackground": true,
                        "ticks": "",
                        "zerolinecolor": "#C8D4E3"
                      },
                      "zaxis": {
                        "backgroundcolor": "rgb(17,17,17)",
                        "gridcolor": "#506784",
                        "gridwidth": 2,
                        "linecolor": "#506784",
                        "showbackground": true,
                        "ticks": "",
                        "zerolinecolor": "#C8D4E3"
                      }
                    },
                    "shapedefaults": {
                      "line": {
                        "color": "#f2f5fa"
                      }
                    },
                    "sliderdefaults": {
                      "bgcolor": "#C8D4E3",
                      "bordercolor": "rgb(17,17,17)",
                      "borderwidth": 1,
                      "tickwidth": 0
                    },
                    "ternary": {
                      "aaxis": {
                        "gridcolor": "#506784",
                        "linecolor": "#506784",
                        "ticks": ""
                      },
                      "baxis": {
                        "gridcolor": "#506784",
                        "linecolor": "#506784",
                        "ticks": ""
                      },
                      "bgcolor": "rgb(17,17,17)",
                      "caxis": {
                        "gridcolor": "#506784",
                        "linecolor": "#506784",
                        "ticks": ""
                      }
                    },
                    "title": {
                      "x": 0.05
                    },
                    "updatemenudefaults": {
                      "bgcolor": "#506784",
                      "borderwidth": 0
                    },
                    "width": 600,
                    "xaxis": {
                      "automargin": true,
                      "gridcolor": "#283442",
                      "linecolor": "#506784",
                      "ticks": "",
                      "title": {
                        "standoff": 15
                      },
                      "zerolinecolor": "#283442",
                      "zerolinewidth": 2
                    },
                    "yaxis": {
                      "automargin": true,
                      "gridcolor": "#283442",
                      "linecolor": "#506784",
                      "ticks": "",
                      "title": {
                        "standoff": 15
                      },
                      "zerolinecolor": "#283442",
                      "zerolinewidth": 2
                    }
                  }
                }
              }
            }
          },
          "metadata": {},
          "output_type": "display_data"
        },
        {
          "name": "stdout",
          "output_type": "stream",
          "text": [
            "final loss:\n",
            "   train: 0.0011   val : 0.0012\n"
          ]
        }
      ],
      "source": [
        "from timeit import default_timer\n",
        "\n",
        "\n",
        "reload(torch_util)\n",
        "\n",
        "epochs = 2000\n",
        "train_time = 5\n",
        "modelname = f\"lstm_{split_idx}\"\n",
        "\n",
        "if tag_map is not None:\n",
        "    modelname += \"_mapped\"\n",
        "\n",
        "# LOSS PARAMS\n",
        "tag_weights = torch_util.class_weights(tag_counts, tag_vocab, 10.0)\n",
        "label_smoothing = 0.1\n",
        "\n",
        "constructor_params = {\n",
        "    \"token_vocab_size\": len(vocab),\n",
        "    \"label_vocab_size\": len(tag_vocab),\n",
        "    \"embedding_dim\": 16,\n",
        "    \"hidden_dim\": 64,\n",
        "    \"n_lstm_layers\": 2,\n",
        "    \"dropout_lstm\": 0.7,\n",
        "    \"bidi\": True,\n",
        "}\n",
        "\n",
        "# Model with default params\n",
        "model = torch_util.LSTMTagger(**constructor_params).to(dev)\n",
        "loss_function = torch.nn.CrossEntropyLoss(\n",
        "    weight=tag_weights,\n",
        "    label_smoothing=label_smoothing,\n",
        ").to(dev)\n",
        "optimizer = torch.optim.Adam(model.parameters(), lr=0.05)\n",
        "lr_s = torch.optim.lr_scheduler.ExponentialLR(optimizer, gamma=0.99)\n",
        "\n",
        "# Training loop\n",
        "losses_train, losses_val, val_accs = torch_util.train_loop(\n",
        "    model,\n",
        "    train_dl,\n",
        "    val_dl,\n",
        "    optimizer=optimizer,\n",
        "    loss_function=loss_function,\n",
        "    lr_s=lr_s,\n",
        "    epochs=100,\n",
        "    name=modelname,\n",
        "    save_dir=\"../tmp/\",\n",
        "    print_interval=5,\n",
        "    time_limit=8,\n",
        ")\n",
        "\n",
        "\n",
        "plotting.scatter(y=[losses_train, losses_val, val_accs]).show()\n",
        "\n",
        "print(\n",
        "    \"final loss:\\n\", f\"  train: {losses_train[-1]:.4f}\", f\"  val : {losses_val[-1]:.4f}\"\n",
        ")\n"
      ]
    },
    {
      "cell_type": "code",
      "execution_count": 9,
      "metadata": {},
      "outputs": [],
      "source": [
        "# save model\n",
        "\n",
        "\n",
        "# save metadata\n",
        "metadata = {\n",
        "    \"vocab\": vocab,\n",
        "    \"tag_vocab\": tag_vocab,\n",
        "    \"tag_map\": tag_map,\n",
        "    \"tag_weights\": tag_weights,\n",
        "    \"split_idx\": split_idx,\n",
        "    \"constructor_params\": constructor_params,\n",
        "}\n",
        "\n",
        "\n",
        "# torch.save(model.state_dict(), f\"../models/{modelname}_state.pth\")\n",
        "# with open(f\"../models/{modelname}_meta.json\", \"w\") as f:\n",
        "#     json.dump(metadata, f)"
      ]
    },
    {
      "cell_type": "code",
      "execution_count": 30,
      "metadata": {},
      "outputs": [
        {
          "data": {
            "text/plain": [
              "0.978024423122406"
            ]
          },
          "execution_count": 30,
          "metadata": {},
          "output_type": "execute_result"
        }
      ],
      "source": [
        "torch_util.val_acc(model, val_dl.dataset)"
      ]
    },
    {
      "cell_type": "markdown",
      "metadata": {},
      "source": [
        "## evaluate\n"
      ]
    },
    {
      "cell_type": "code",
      "execution_count": null,
      "metadata": {},
      "outputs": [
        {
          "ename": "NameError",
          "evalue": "name 'val_token_tensors' is not defined",
          "output_type": "error",
          "traceback": [
            "\u001b[0;31m---------------------------------------------------------------------------\u001b[0m",
            "\u001b[0;31mNameError\u001b[0m                                 Traceback (most recent call last)",
            "Cell \u001b[0;32mIn[15], line 3\u001b[0m\n\u001b[1;32m      1\u001b[0m model\u001b[38;5;241m.\u001b[39meval()\n\u001b[1;32m      2\u001b[0m \u001b[38;5;28;01mwith\u001b[39;00m torch\u001b[38;5;241m.\u001b[39mno_grad():\n\u001b[0;32m----> 3\u001b[0m     tag_scores \u001b[38;5;241m=\u001b[39m model(\u001b[43mval_token_tensors\u001b[49m, val_tag_det_tensors)\n\u001b[1;32m      4\u001b[0m     predictions \u001b[38;5;241m=\u001b[39m torch\u001b[38;5;241m.\u001b[39margmax(tag_scores, dim\u001b[38;5;241m=\u001b[39m\u001b[38;5;241m-\u001b[39m\u001b[38;5;241m1\u001b[39m)  \u001b[38;5;66;03m# Shape: (batch_size, seq_len)\u001b[39;00m\n\u001b[1;32m      6\u001b[0m pred_tags \u001b[38;5;241m=\u001b[39m []\n",
            "\u001b[0;31mNameError\u001b[0m: name 'val_token_tensors' is not defined"
          ]
        }
      ],
      "source": [
        "model.eval()\n",
        "with torch.no_grad():\n",
        "    tag_scores = model(val_token_tensors, val_tag_det_tensors)\n",
        "    predictions = torch.argmax(tag_scores, dim=-1)  # Shape: (batch_size, seq_len)\n",
        "\n",
        "pred_tags = []\n",
        "true_tags = []\n",
        "\n",
        "for pred, true_t in zip(predictions, val_tag_true_idx):\n",
        "    true_tags.extend([tag_vocab[t] for t in true_t])\n",
        "    pred_tags.extend([tag_vocab[t] for t in pred[: len(true_t)]])\n",
        "\n",
        "print(len(true_tags), len(pred_tags))\n",
        "\n",
        "acc = metrics.accuracy_score(true_tags, pred_tags)\n",
        "print(\"accuracy\", acc)\n",
        "f1_macro = metrics.f1_score(true_tags, pred_tags, average=\"macro\")\n",
        "print(\"F1_macro\", f1_macro)\n",
        "\n",
        "confmat = metrics.confusion_matrix(true_tags, pred_tags, labels=tag_vocab)\n",
        "\n",
        "dtplot.heatmap(\n",
        "    confmat,\n",
        "    tag_vocab,\n",
        "    log_scale=True,\n",
        "    pseudo_count=10,\n",
        "    size=400,\n",
        ").show()"
      ]
    },
    {
      "cell_type": "markdown",
      "metadata": {},
      "source": [
        "### eval only on non-det\n"
      ]
    },
    {
      "cell_type": "code",
      "execution_count": 13,
      "metadata": {},
      "outputs": [
        {
          "name": "stdout",
          "output_type": "stream",
          "text": [
            "474 474\n",
            "accuracy 0.810126582278481\n",
            "F1_macro 0.7211236431417442\n"
          ]
        },
        {
          "data": {
            "application/vnd.plotly.v1+json": {
              "config": {
                "plotlyServerURL": "https://plot.ly"
              },
              "data": [
                {
                  "text": [
                    [
                      0,
                      0,
                      0,
                      0,
                      0,
                      0,
                      0,
                      0,
                      0,
                      0,
                      0,
                      0,
                      0,
                      0,
                      0,
                      0,
                      0,
                      0,
                      0,
                      0,
                      0,
                      0,
                      0,
                      0
                    ],
                    [
                      0,
                      19,
                      0,
                      0,
                      0,
                      0,
                      0,
                      0,
                      0,
                      0,
                      0,
                      0,
                      0,
                      0,
                      0,
                      0,
                      0,
                      0,
                      0,
                      0,
                      0,
                      0,
                      0,
                      0
                    ],
                    [
                      0,
                      0,
                      7,
                      0,
                      0,
                      0,
                      0,
                      0,
                      0,
                      0,
                      0,
                      0,
                      0,
                      0,
                      0,
                      0,
                      0,
                      0,
                      0,
                      0,
                      0,
                      0,
                      0,
                      1
                    ],
                    [
                      0,
                      2,
                      0,
                      4,
                      0,
                      2,
                      0,
                      0,
                      0,
                      0,
                      0,
                      0,
                      0,
                      0,
                      0,
                      0,
                      0,
                      2,
                      0,
                      0,
                      0,
                      2,
                      0,
                      11
                    ],
                    [
                      0,
                      0,
                      0,
                      0,
                      13,
                      0,
                      1,
                      0,
                      0,
                      0,
                      0,
                      0,
                      0,
                      0,
                      0,
                      0,
                      0,
                      0,
                      0,
                      0,
                      0,
                      0,
                      0,
                      0
                    ],
                    [
                      0,
                      0,
                      0,
                      0,
                      0,
                      41,
                      0,
                      0,
                      0,
                      0,
                      0,
                      0,
                      0,
                      0,
                      0,
                      0,
                      0,
                      1,
                      0,
                      0,
                      0,
                      0,
                      0,
                      0
                    ],
                    [
                      0,
                      0,
                      0,
                      0,
                      8,
                      0,
                      11,
                      0,
                      0,
                      0,
                      0,
                      0,
                      0,
                      0,
                      0,
                      0,
                      0,
                      0,
                      0,
                      0,
                      0,
                      0,
                      0,
                      0
                    ],
                    [
                      0,
                      0,
                      0,
                      2,
                      0,
                      0,
                      0,
                      1,
                      0,
                      0,
                      0,
                      0,
                      0,
                      0,
                      0,
                      0,
                      0,
                      0,
                      0,
                      0,
                      0,
                      0,
                      0,
                      0
                    ],
                    [
                      0,
                      0,
                      0,
                      0,
                      0,
                      0,
                      0,
                      0,
                      35,
                      0,
                      0,
                      0,
                      0,
                      0,
                      0,
                      0,
                      0,
                      0,
                      0,
                      0,
                      0,
                      0,
                      0,
                      1
                    ],
                    [
                      0,
                      0,
                      0,
                      0,
                      0,
                      0,
                      0,
                      0,
                      0,
                      6,
                      0,
                      0,
                      0,
                      0,
                      0,
                      0,
                      0,
                      0,
                      0,
                      0,
                      0,
                      0,
                      0,
                      0
                    ],
                    [
                      0,
                      0,
                      0,
                      0,
                      0,
                      0,
                      0,
                      0,
                      0,
                      0,
                      14,
                      0,
                      0,
                      0,
                      0,
                      0,
                      0,
                      0,
                      0,
                      0,
                      0,
                      0,
                      0,
                      0
                    ],
                    [
                      0,
                      0,
                      0,
                      1,
                      0,
                      0,
                      0,
                      0,
                      0,
                      0,
                      0,
                      3,
                      0,
                      0,
                      0,
                      0,
                      0,
                      0,
                      0,
                      0,
                      0,
                      0,
                      0,
                      3
                    ],
                    [
                      0,
                      0,
                      0,
                      0,
                      0,
                      0,
                      0,
                      0,
                      0,
                      0,
                      0,
                      0,
                      2,
                      0,
                      0,
                      0,
                      0,
                      0,
                      0,
                      0,
                      0,
                      0,
                      0,
                      1
                    ],
                    [
                      0,
                      0,
                      0,
                      0,
                      0,
                      0,
                      0,
                      0,
                      0,
                      0,
                      1,
                      0,
                      0,
                      13,
                      0,
                      0,
                      0,
                      0,
                      0,
                      0,
                      0,
                      0,
                      0,
                      2
                    ],
                    [
                      0,
                      0,
                      0,
                      0,
                      0,
                      0,
                      0,
                      0,
                      0,
                      0,
                      0,
                      0,
                      0,
                      0,
                      5,
                      0,
                      0,
                      0,
                      0,
                      0,
                      0,
                      0,
                      0,
                      0
                    ],
                    [
                      0,
                      0,
                      0,
                      2,
                      0,
                      0,
                      0,
                      0,
                      0,
                      0,
                      0,
                      0,
                      0,
                      0,
                      0,
                      6,
                      0,
                      0,
                      0,
                      0,
                      0,
                      0,
                      0,
                      0
                    ],
                    [
                      0,
                      0,
                      0,
                      0,
                      0,
                      0,
                      0,
                      0,
                      0,
                      0,
                      0,
                      0,
                      0,
                      0,
                      0,
                      0,
                      0,
                      0,
                      0,
                      0,
                      0,
                      0,
                      0,
                      1
                    ],
                    [
                      0,
                      1,
                      0,
                      4,
                      0,
                      0,
                      0,
                      0,
                      0,
                      0,
                      0,
                      0,
                      0,
                      0,
                      0,
                      0,
                      0,
                      19,
                      1,
                      0,
                      0,
                      0,
                      0,
                      8
                    ],
                    [
                      0,
                      0,
                      0,
                      0,
                      0,
                      0,
                      0,
                      0,
                      0,
                      0,
                      0,
                      0,
                      0,
                      0,
                      0,
                      0,
                      0,
                      0,
                      14,
                      0,
                      0,
                      0,
                      2,
                      0
                    ],
                    [
                      0,
                      0,
                      0,
                      0,
                      0,
                      0,
                      0,
                      0,
                      0,
                      0,
                      0,
                      0,
                      0,
                      0,
                      0,
                      0,
                      0,
                      0,
                      0,
                      3,
                      0,
                      0,
                      0,
                      0
                    ],
                    [
                      0,
                      0,
                      0,
                      0,
                      0,
                      0,
                      0,
                      0,
                      0,
                      0,
                      0,
                      0,
                      0,
                      0,
                      0,
                      0,
                      0,
                      0,
                      1,
                      0,
                      5,
                      0,
                      0,
                      0
                    ],
                    [
                      0,
                      0,
                      0,
                      0,
                      0,
                      0,
                      0,
                      0,
                      0,
                      0,
                      0,
                      0,
                      0,
                      0,
                      0,
                      0,
                      0,
                      0,
                      0,
                      0,
                      0,
                      15,
                      0,
                      6
                    ],
                    [
                      1,
                      0,
                      1,
                      0,
                      0,
                      0,
                      0,
                      0,
                      0,
                      0,
                      0,
                      0,
                      0,
                      0,
                      2,
                      0,
                      0,
                      0,
                      0,
                      0,
                      0,
                      0,
                      9,
                      0
                    ],
                    [
                      0,
                      0,
                      0,
                      1,
                      0,
                      3,
                      0,
                      0,
                      0,
                      0,
                      0,
                      0,
                      0,
                      0,
                      5,
                      0,
                      0,
                      6,
                      0,
                      0,
                      0,
                      4,
                      0,
                      139
                    ]
                  ],
                  "type": "heatmap",
                  "x": [
                    "<pad>",
                    "at",
                    "bo",
                    "cl",
                    "fnas",
                    "fnfr",
                    "fnme",
                    "kwde",
                    "kwfl",
                    "kwfn",
                    "kwim",
                    "kwio",
                    "kwmo",
                    "kwop",
                    "kwty",
                    "kwva",
                    "li",
                    "mo",
                    "opbi",
                    "opcm",
                    "opun",
                    "pa",
                    "sy",
                    "va"
                  ],
                  "y": [
                    "<pad>",
                    "at",
                    "bo",
                    "cl",
                    "fnas",
                    "fnfr",
                    "fnme",
                    "kwde",
                    "kwfl",
                    "kwfn",
                    "kwim",
                    "kwio",
                    "kwmo",
                    "kwop",
                    "kwty",
                    "kwva",
                    "li",
                    "mo",
                    "opbi",
                    "opcm",
                    "opun",
                    "pa",
                    "sy",
                    "va"
                  ],
                  "z": [
                    [
                      2.302585092994046,
                      2.302585092994046,
                      2.302585092994046,
                      2.302585092994046,
                      2.302585092994046,
                      2.302585092994046,
                      2.302585092994046,
                      2.302585092994046,
                      2.302585092994046,
                      2.302585092994046,
                      2.302585092994046,
                      2.302585092994046,
                      2.302585092994046,
                      2.302585092994046,
                      2.302585092994046,
                      2.302585092994046,
                      2.302585092994046,
                      2.302585092994046,
                      2.302585092994046,
                      2.302585092994046,
                      2.302585092994046,
                      2.302585092994046,
                      2.302585092994046,
                      2.302585092994046
                    ],
                    [
                      2.302585092994046,
                      3.367295829986474,
                      2.302585092994046,
                      2.302585092994046,
                      2.302585092994046,
                      2.302585092994046,
                      2.302585092994046,
                      2.302585092994046,
                      2.302585092994046,
                      2.302585092994046,
                      2.302585092994046,
                      2.302585092994046,
                      2.302585092994046,
                      2.302585092994046,
                      2.302585092994046,
                      2.302585092994046,
                      2.302585092994046,
                      2.302585092994046,
                      2.302585092994046,
                      2.302585092994046,
                      2.302585092994046,
                      2.302585092994046,
                      2.302585092994046,
                      2.302585092994046
                    ],
                    [
                      2.302585092994046,
                      2.302585092994046,
                      2.833213344056216,
                      2.302585092994046,
                      2.302585092994046,
                      2.302585092994046,
                      2.302585092994046,
                      2.302585092994046,
                      2.302585092994046,
                      2.302585092994046,
                      2.302585092994046,
                      2.302585092994046,
                      2.302585092994046,
                      2.302585092994046,
                      2.302585092994046,
                      2.302585092994046,
                      2.302585092994046,
                      2.302585092994046,
                      2.302585092994046,
                      2.302585092994046,
                      2.302585092994046,
                      2.302585092994046,
                      2.302585092994046,
                      2.3978952727983707
                    ],
                    [
                      2.302585092994046,
                      2.4849066497880004,
                      2.302585092994046,
                      2.6390573296152584,
                      2.302585092994046,
                      2.4849066497880004,
                      2.302585092994046,
                      2.302585092994046,
                      2.302585092994046,
                      2.302585092994046,
                      2.302585092994046,
                      2.302585092994046,
                      2.302585092994046,
                      2.302585092994046,
                      2.302585092994046,
                      2.302585092994046,
                      2.302585092994046,
                      2.4849066497880004,
                      2.302585092994046,
                      2.302585092994046,
                      2.302585092994046,
                      2.4849066497880004,
                      2.302585092994046,
                      3.044522437723423
                    ],
                    [
                      2.302585092994046,
                      2.302585092994046,
                      2.302585092994046,
                      2.302585092994046,
                      3.1354942159291497,
                      2.302585092994046,
                      2.3978952727983707,
                      2.302585092994046,
                      2.302585092994046,
                      2.302585092994046,
                      2.302585092994046,
                      2.302585092994046,
                      2.302585092994046,
                      2.302585092994046,
                      2.302585092994046,
                      2.302585092994046,
                      2.302585092994046,
                      2.302585092994046,
                      2.302585092994046,
                      2.302585092994046,
                      2.302585092994046,
                      2.302585092994046,
                      2.302585092994046,
                      2.302585092994046
                    ],
                    [
                      2.302585092994046,
                      2.302585092994046,
                      2.302585092994046,
                      2.302585092994046,
                      2.302585092994046,
                      3.9318256327243257,
                      2.302585092994046,
                      2.302585092994046,
                      2.302585092994046,
                      2.302585092994046,
                      2.302585092994046,
                      2.302585092994046,
                      2.302585092994046,
                      2.302585092994046,
                      2.302585092994046,
                      2.302585092994046,
                      2.302585092994046,
                      2.3978952727983707,
                      2.302585092994046,
                      2.302585092994046,
                      2.302585092994046,
                      2.302585092994046,
                      2.302585092994046,
                      2.302585092994046
                    ],
                    [
                      2.302585092994046,
                      2.302585092994046,
                      2.302585092994046,
                      2.302585092994046,
                      2.8903717578961645,
                      2.302585092994046,
                      3.044522437723423,
                      2.302585092994046,
                      2.302585092994046,
                      2.302585092994046,
                      2.302585092994046,
                      2.302585092994046,
                      2.302585092994046,
                      2.302585092994046,
                      2.302585092994046,
                      2.302585092994046,
                      2.302585092994046,
                      2.302585092994046,
                      2.302585092994046,
                      2.302585092994046,
                      2.302585092994046,
                      2.302585092994046,
                      2.302585092994046,
                      2.302585092994046
                    ],
                    [
                      2.302585092994046,
                      2.302585092994046,
                      2.302585092994046,
                      2.4849066497880004,
                      2.302585092994046,
                      2.302585092994046,
                      2.302585092994046,
                      2.3978952727983707,
                      2.302585092994046,
                      2.302585092994046,
                      2.302585092994046,
                      2.302585092994046,
                      2.302585092994046,
                      2.302585092994046,
                      2.302585092994046,
                      2.302585092994046,
                      2.302585092994046,
                      2.302585092994046,
                      2.302585092994046,
                      2.302585092994046,
                      2.302585092994046,
                      2.302585092994046,
                      2.302585092994046,
                      2.302585092994046
                    ],
                    [
                      2.302585092994046,
                      2.302585092994046,
                      2.302585092994046,
                      2.302585092994046,
                      2.302585092994046,
                      2.302585092994046,
                      2.302585092994046,
                      2.302585092994046,
                      3.8066624897703196,
                      2.302585092994046,
                      2.302585092994046,
                      2.302585092994046,
                      2.302585092994046,
                      2.302585092994046,
                      2.302585092994046,
                      2.302585092994046,
                      2.302585092994046,
                      2.302585092994046,
                      2.302585092994046,
                      2.302585092994046,
                      2.302585092994046,
                      2.302585092994046,
                      2.302585092994046,
                      2.3978952727983707
                    ],
                    [
                      2.302585092994046,
                      2.302585092994046,
                      2.302585092994046,
                      2.302585092994046,
                      2.302585092994046,
                      2.302585092994046,
                      2.302585092994046,
                      2.302585092994046,
                      2.302585092994046,
                      2.772588722239781,
                      2.302585092994046,
                      2.302585092994046,
                      2.302585092994046,
                      2.302585092994046,
                      2.302585092994046,
                      2.302585092994046,
                      2.302585092994046,
                      2.302585092994046,
                      2.302585092994046,
                      2.302585092994046,
                      2.302585092994046,
                      2.302585092994046,
                      2.302585092994046,
                      2.302585092994046
                    ],
                    [
                      2.302585092994046,
                      2.302585092994046,
                      2.302585092994046,
                      2.302585092994046,
                      2.302585092994046,
                      2.302585092994046,
                      2.302585092994046,
                      2.302585092994046,
                      2.302585092994046,
                      2.302585092994046,
                      3.1780538303479458,
                      2.302585092994046,
                      2.302585092994046,
                      2.302585092994046,
                      2.302585092994046,
                      2.302585092994046,
                      2.302585092994046,
                      2.302585092994046,
                      2.302585092994046,
                      2.302585092994046,
                      2.302585092994046,
                      2.302585092994046,
                      2.302585092994046,
                      2.302585092994046
                    ],
                    [
                      2.302585092994046,
                      2.302585092994046,
                      2.302585092994046,
                      2.3978952727983707,
                      2.302585092994046,
                      2.302585092994046,
                      2.302585092994046,
                      2.302585092994046,
                      2.302585092994046,
                      2.302585092994046,
                      2.302585092994046,
                      2.5649493574615367,
                      2.302585092994046,
                      2.302585092994046,
                      2.302585092994046,
                      2.302585092994046,
                      2.302585092994046,
                      2.302585092994046,
                      2.302585092994046,
                      2.302585092994046,
                      2.302585092994046,
                      2.302585092994046,
                      2.302585092994046,
                      2.5649493574615367
                    ],
                    [
                      2.302585092994046,
                      2.302585092994046,
                      2.302585092994046,
                      2.302585092994046,
                      2.302585092994046,
                      2.302585092994046,
                      2.302585092994046,
                      2.302585092994046,
                      2.302585092994046,
                      2.302585092994046,
                      2.302585092994046,
                      2.302585092994046,
                      2.4849066497880004,
                      2.302585092994046,
                      2.302585092994046,
                      2.302585092994046,
                      2.302585092994046,
                      2.302585092994046,
                      2.302585092994046,
                      2.302585092994046,
                      2.302585092994046,
                      2.302585092994046,
                      2.302585092994046,
                      2.3978952727983707
                    ],
                    [
                      2.302585092994046,
                      2.302585092994046,
                      2.302585092994046,
                      2.302585092994046,
                      2.302585092994046,
                      2.302585092994046,
                      2.302585092994046,
                      2.302585092994046,
                      2.302585092994046,
                      2.302585092994046,
                      2.3978952727983707,
                      2.302585092994046,
                      2.302585092994046,
                      3.1354942159291497,
                      2.302585092994046,
                      2.302585092994046,
                      2.302585092994046,
                      2.302585092994046,
                      2.302585092994046,
                      2.302585092994046,
                      2.302585092994046,
                      2.302585092994046,
                      2.302585092994046,
                      2.4849066497880004
                    ],
                    [
                      2.302585092994046,
                      2.302585092994046,
                      2.302585092994046,
                      2.302585092994046,
                      2.302585092994046,
                      2.302585092994046,
                      2.302585092994046,
                      2.302585092994046,
                      2.302585092994046,
                      2.302585092994046,
                      2.302585092994046,
                      2.302585092994046,
                      2.302585092994046,
                      2.302585092994046,
                      2.70805020110221,
                      2.302585092994046,
                      2.302585092994046,
                      2.302585092994046,
                      2.302585092994046,
                      2.302585092994046,
                      2.302585092994046,
                      2.302585092994046,
                      2.302585092994046,
                      2.302585092994046
                    ],
                    [
                      2.302585092994046,
                      2.302585092994046,
                      2.302585092994046,
                      2.4849066497880004,
                      2.302585092994046,
                      2.302585092994046,
                      2.302585092994046,
                      2.302585092994046,
                      2.302585092994046,
                      2.302585092994046,
                      2.302585092994046,
                      2.302585092994046,
                      2.302585092994046,
                      2.302585092994046,
                      2.302585092994046,
                      2.772588722239781,
                      2.302585092994046,
                      2.302585092994046,
                      2.302585092994046,
                      2.302585092994046,
                      2.302585092994046,
                      2.302585092994046,
                      2.302585092994046,
                      2.302585092994046
                    ],
                    [
                      2.302585092994046,
                      2.302585092994046,
                      2.302585092994046,
                      2.302585092994046,
                      2.302585092994046,
                      2.302585092994046,
                      2.302585092994046,
                      2.302585092994046,
                      2.302585092994046,
                      2.302585092994046,
                      2.302585092994046,
                      2.302585092994046,
                      2.302585092994046,
                      2.302585092994046,
                      2.302585092994046,
                      2.302585092994046,
                      2.302585092994046,
                      2.302585092994046,
                      2.302585092994046,
                      2.302585092994046,
                      2.302585092994046,
                      2.302585092994046,
                      2.302585092994046,
                      2.3978952727983707
                    ],
                    [
                      2.302585092994046,
                      2.3978952727983707,
                      2.302585092994046,
                      2.6390573296152584,
                      2.302585092994046,
                      2.302585092994046,
                      2.302585092994046,
                      2.302585092994046,
                      2.302585092994046,
                      2.302585092994046,
                      2.302585092994046,
                      2.302585092994046,
                      2.302585092994046,
                      2.302585092994046,
                      2.302585092994046,
                      2.302585092994046,
                      2.302585092994046,
                      3.367295829986474,
                      2.3978952727983707,
                      2.302585092994046,
                      2.302585092994046,
                      2.302585092994046,
                      2.302585092994046,
                      2.8903717578961645
                    ],
                    [
                      2.302585092994046,
                      2.302585092994046,
                      2.302585092994046,
                      2.302585092994046,
                      2.302585092994046,
                      2.302585092994046,
                      2.302585092994046,
                      2.302585092994046,
                      2.302585092994046,
                      2.302585092994046,
                      2.302585092994046,
                      2.302585092994046,
                      2.302585092994046,
                      2.302585092994046,
                      2.302585092994046,
                      2.302585092994046,
                      2.302585092994046,
                      2.302585092994046,
                      3.1780538303479458,
                      2.302585092994046,
                      2.302585092994046,
                      2.302585092994046,
                      2.4849066497880004,
                      2.302585092994046
                    ],
                    [
                      2.302585092994046,
                      2.302585092994046,
                      2.302585092994046,
                      2.302585092994046,
                      2.302585092994046,
                      2.302585092994046,
                      2.302585092994046,
                      2.302585092994046,
                      2.302585092994046,
                      2.302585092994046,
                      2.302585092994046,
                      2.302585092994046,
                      2.302585092994046,
                      2.302585092994046,
                      2.302585092994046,
                      2.302585092994046,
                      2.302585092994046,
                      2.302585092994046,
                      2.302585092994046,
                      2.5649493574615367,
                      2.302585092994046,
                      2.302585092994046,
                      2.302585092994046,
                      2.302585092994046
                    ],
                    [
                      2.302585092994046,
                      2.302585092994046,
                      2.302585092994046,
                      2.302585092994046,
                      2.302585092994046,
                      2.302585092994046,
                      2.302585092994046,
                      2.302585092994046,
                      2.302585092994046,
                      2.302585092994046,
                      2.302585092994046,
                      2.302585092994046,
                      2.302585092994046,
                      2.302585092994046,
                      2.302585092994046,
                      2.302585092994046,
                      2.302585092994046,
                      2.302585092994046,
                      2.3978952727983707,
                      2.302585092994046,
                      2.70805020110221,
                      2.302585092994046,
                      2.302585092994046,
                      2.302585092994046
                    ],
                    [
                      2.302585092994046,
                      2.302585092994046,
                      2.302585092994046,
                      2.302585092994046,
                      2.302585092994046,
                      2.302585092994046,
                      2.302585092994046,
                      2.302585092994046,
                      2.302585092994046,
                      2.302585092994046,
                      2.302585092994046,
                      2.302585092994046,
                      2.302585092994046,
                      2.302585092994046,
                      2.302585092994046,
                      2.302585092994046,
                      2.302585092994046,
                      2.302585092994046,
                      2.302585092994046,
                      2.302585092994046,
                      2.302585092994046,
                      3.2188758248682006,
                      2.302585092994046,
                      2.772588722239781
                    ],
                    [
                      2.3978952727983707,
                      2.302585092994046,
                      2.3978952727983707,
                      2.302585092994046,
                      2.302585092994046,
                      2.302585092994046,
                      2.302585092994046,
                      2.302585092994046,
                      2.302585092994046,
                      2.302585092994046,
                      2.302585092994046,
                      2.302585092994046,
                      2.302585092994046,
                      2.302585092994046,
                      2.4849066497880004,
                      2.302585092994046,
                      2.302585092994046,
                      2.302585092994046,
                      2.302585092994046,
                      2.302585092994046,
                      2.302585092994046,
                      2.302585092994046,
                      2.9444389791664403,
                      2.302585092994046
                    ],
                    [
                      2.302585092994046,
                      2.302585092994046,
                      2.302585092994046,
                      2.3978952727983707,
                      2.302585092994046,
                      2.5649493574615367,
                      2.302585092994046,
                      2.302585092994046,
                      2.302585092994046,
                      2.302585092994046,
                      2.302585092994046,
                      2.302585092994046,
                      2.302585092994046,
                      2.302585092994046,
                      2.70805020110221,
                      2.302585092994046,
                      2.302585092994046,
                      2.772588722239781,
                      2.302585092994046,
                      2.302585092994046,
                      2.302585092994046,
                      2.6390573296152584,
                      2.302585092994046,
                      5.003946305945459
                    ]
                  ]
                }
              ],
              "layout": {
                "height": 400,
                "template": {
                  "data": {
                    "bar": [
                      {
                        "error_x": {
                          "color": "#f2f5fa"
                        },
                        "error_y": {
                          "color": "#f2f5fa"
                        },
                        "marker": {
                          "line": {
                            "color": "rgb(17,17,17)",
                            "width": 0.5
                          },
                          "pattern": {
                            "fillmode": "overlay",
                            "size": 10,
                            "solidity": 0.2
                          }
                        },
                        "type": "bar"
                      }
                    ],
                    "barpolar": [
                      {
                        "marker": {
                          "line": {
                            "color": "rgb(17,17,17)",
                            "width": 0.5
                          },
                          "pattern": {
                            "fillmode": "overlay",
                            "size": 10,
                            "solidity": 0.2
                          }
                        },
                        "type": "barpolar"
                      }
                    ],
                    "carpet": [
                      {
                        "aaxis": {
                          "endlinecolor": "#A2B1C6",
                          "gridcolor": "#506784",
                          "linecolor": "#506784",
                          "minorgridcolor": "#506784",
                          "startlinecolor": "#A2B1C6"
                        },
                        "baxis": {
                          "endlinecolor": "#A2B1C6",
                          "gridcolor": "#506784",
                          "linecolor": "#506784",
                          "minorgridcolor": "#506784",
                          "startlinecolor": "#A2B1C6"
                        },
                        "type": "carpet"
                      }
                    ],
                    "choropleth": [
                      {
                        "colorbar": {
                          "outlinewidth": 0,
                          "ticks": ""
                        },
                        "type": "choropleth"
                      }
                    ],
                    "contour": [
                      {
                        "colorbar": {
                          "outlinewidth": 0,
                          "ticks": ""
                        },
                        "colorscale": [
                          [
                            0,
                            "#0d0887"
                          ],
                          [
                            0.1111111111111111,
                            "#46039f"
                          ],
                          [
                            0.2222222222222222,
                            "#7201a8"
                          ],
                          [
                            0.3333333333333333,
                            "#9c179e"
                          ],
                          [
                            0.4444444444444444,
                            "#bd3786"
                          ],
                          [
                            0.5555555555555556,
                            "#d8576b"
                          ],
                          [
                            0.6666666666666666,
                            "#ed7953"
                          ],
                          [
                            0.7777777777777778,
                            "#fb9f3a"
                          ],
                          [
                            0.8888888888888888,
                            "#fdca26"
                          ],
                          [
                            1,
                            "#f0f921"
                          ]
                        ],
                        "type": "contour"
                      }
                    ],
                    "contourcarpet": [
                      {
                        "colorbar": {
                          "outlinewidth": 0,
                          "ticks": ""
                        },
                        "type": "contourcarpet"
                      }
                    ],
                    "heatmap": [
                      {
                        "colorbar": {
                          "outlinewidth": 0,
                          "ticks": ""
                        },
                        "colorscale": [
                          [
                            0,
                            "#0d0887"
                          ],
                          [
                            0.1111111111111111,
                            "#46039f"
                          ],
                          [
                            0.2222222222222222,
                            "#7201a8"
                          ],
                          [
                            0.3333333333333333,
                            "#9c179e"
                          ],
                          [
                            0.4444444444444444,
                            "#bd3786"
                          ],
                          [
                            0.5555555555555556,
                            "#d8576b"
                          ],
                          [
                            0.6666666666666666,
                            "#ed7953"
                          ],
                          [
                            0.7777777777777778,
                            "#fb9f3a"
                          ],
                          [
                            0.8888888888888888,
                            "#fdca26"
                          ],
                          [
                            1,
                            "#f0f921"
                          ]
                        ],
                        "type": "heatmap"
                      }
                    ],
                    "heatmapgl": [
                      {
                        "colorbar": {
                          "outlinewidth": 0,
                          "ticks": ""
                        },
                        "colorscale": [
                          [
                            0,
                            "#0d0887"
                          ],
                          [
                            0.1111111111111111,
                            "#46039f"
                          ],
                          [
                            0.2222222222222222,
                            "#7201a8"
                          ],
                          [
                            0.3333333333333333,
                            "#9c179e"
                          ],
                          [
                            0.4444444444444444,
                            "#bd3786"
                          ],
                          [
                            0.5555555555555556,
                            "#d8576b"
                          ],
                          [
                            0.6666666666666666,
                            "#ed7953"
                          ],
                          [
                            0.7777777777777778,
                            "#fb9f3a"
                          ],
                          [
                            0.8888888888888888,
                            "#fdca26"
                          ],
                          [
                            1,
                            "#f0f921"
                          ]
                        ],
                        "type": "heatmapgl"
                      }
                    ],
                    "histogram": [
                      {
                        "marker": {
                          "pattern": {
                            "fillmode": "overlay",
                            "size": 10,
                            "solidity": 0.2
                          }
                        },
                        "type": "histogram"
                      }
                    ],
                    "histogram2d": [
                      {
                        "colorbar": {
                          "outlinewidth": 0,
                          "ticks": ""
                        },
                        "colorscale": [
                          [
                            0,
                            "#0d0887"
                          ],
                          [
                            0.1111111111111111,
                            "#46039f"
                          ],
                          [
                            0.2222222222222222,
                            "#7201a8"
                          ],
                          [
                            0.3333333333333333,
                            "#9c179e"
                          ],
                          [
                            0.4444444444444444,
                            "#bd3786"
                          ],
                          [
                            0.5555555555555556,
                            "#d8576b"
                          ],
                          [
                            0.6666666666666666,
                            "#ed7953"
                          ],
                          [
                            0.7777777777777778,
                            "#fb9f3a"
                          ],
                          [
                            0.8888888888888888,
                            "#fdca26"
                          ],
                          [
                            1,
                            "#f0f921"
                          ]
                        ],
                        "type": "histogram2d"
                      }
                    ],
                    "histogram2dcontour": [
                      {
                        "colorbar": {
                          "outlinewidth": 0,
                          "ticks": ""
                        },
                        "colorscale": [
                          [
                            0,
                            "#0d0887"
                          ],
                          [
                            0.1111111111111111,
                            "#46039f"
                          ],
                          [
                            0.2222222222222222,
                            "#7201a8"
                          ],
                          [
                            0.3333333333333333,
                            "#9c179e"
                          ],
                          [
                            0.4444444444444444,
                            "#bd3786"
                          ],
                          [
                            0.5555555555555556,
                            "#d8576b"
                          ],
                          [
                            0.6666666666666666,
                            "#ed7953"
                          ],
                          [
                            0.7777777777777778,
                            "#fb9f3a"
                          ],
                          [
                            0.8888888888888888,
                            "#fdca26"
                          ],
                          [
                            1,
                            "#f0f921"
                          ]
                        ],
                        "type": "histogram2dcontour"
                      }
                    ],
                    "mesh3d": [
                      {
                        "colorbar": {
                          "outlinewidth": 0,
                          "ticks": ""
                        },
                        "type": "mesh3d"
                      }
                    ],
                    "parcoords": [
                      {
                        "line": {
                          "colorbar": {
                            "outlinewidth": 0,
                            "ticks": ""
                          }
                        },
                        "type": "parcoords"
                      }
                    ],
                    "pie": [
                      {
                        "automargin": true,
                        "type": "pie"
                      }
                    ],
                    "scatter": [
                      {
                        "marker": {
                          "line": {
                            "color": "#283442"
                          }
                        },
                        "type": "scatter"
                      }
                    ],
                    "scatter3d": [
                      {
                        "line": {
                          "colorbar": {
                            "outlinewidth": 0,
                            "ticks": ""
                          }
                        },
                        "marker": {
                          "colorbar": {
                            "outlinewidth": 0,
                            "ticks": ""
                          }
                        },
                        "type": "scatter3d"
                      }
                    ],
                    "scattercarpet": [
                      {
                        "marker": {
                          "colorbar": {
                            "outlinewidth": 0,
                            "ticks": ""
                          }
                        },
                        "type": "scattercarpet"
                      }
                    ],
                    "scattergeo": [
                      {
                        "marker": {
                          "colorbar": {
                            "outlinewidth": 0,
                            "ticks": ""
                          }
                        },
                        "type": "scattergeo"
                      }
                    ],
                    "scattergl": [
                      {
                        "marker": {
                          "line": {
                            "color": "#283442"
                          }
                        },
                        "type": "scattergl"
                      }
                    ],
                    "scattermapbox": [
                      {
                        "marker": {
                          "colorbar": {
                            "outlinewidth": 0,
                            "ticks": ""
                          }
                        },
                        "type": "scattermapbox"
                      }
                    ],
                    "scatterpolar": [
                      {
                        "marker": {
                          "colorbar": {
                            "outlinewidth": 0,
                            "ticks": ""
                          }
                        },
                        "type": "scatterpolar"
                      }
                    ],
                    "scatterpolargl": [
                      {
                        "marker": {
                          "colorbar": {
                            "outlinewidth": 0,
                            "ticks": ""
                          }
                        },
                        "type": "scatterpolargl"
                      }
                    ],
                    "scatterternary": [
                      {
                        "marker": {
                          "colorbar": {
                            "outlinewidth": 0,
                            "ticks": ""
                          }
                        },
                        "type": "scatterternary"
                      }
                    ],
                    "surface": [
                      {
                        "colorbar": {
                          "outlinewidth": 0,
                          "ticks": ""
                        },
                        "colorscale": [
                          [
                            0,
                            "#0d0887"
                          ],
                          [
                            0.1111111111111111,
                            "#46039f"
                          ],
                          [
                            0.2222222222222222,
                            "#7201a8"
                          ],
                          [
                            0.3333333333333333,
                            "#9c179e"
                          ],
                          [
                            0.4444444444444444,
                            "#bd3786"
                          ],
                          [
                            0.5555555555555556,
                            "#d8576b"
                          ],
                          [
                            0.6666666666666666,
                            "#ed7953"
                          ],
                          [
                            0.7777777777777778,
                            "#fb9f3a"
                          ],
                          [
                            0.8888888888888888,
                            "#fdca26"
                          ],
                          [
                            1,
                            "#f0f921"
                          ]
                        ],
                        "type": "surface"
                      }
                    ],
                    "table": [
                      {
                        "cells": {
                          "fill": {
                            "color": "#506784"
                          },
                          "line": {
                            "color": "rgb(17,17,17)"
                          }
                        },
                        "header": {
                          "fill": {
                            "color": "#2a3f5f"
                          },
                          "line": {
                            "color": "rgb(17,17,17)"
                          }
                        },
                        "type": "table"
                      }
                    ]
                  },
                  "layout": {
                    "annotationdefaults": {
                      "arrowcolor": "#f2f5fa",
                      "arrowhead": 0,
                      "arrowwidth": 1
                    },
                    "autosize": false,
                    "autotypenumbers": "strict",
                    "coloraxis": {
                      "colorbar": {
                        "outlinewidth": 0,
                        "ticks": ""
                      }
                    },
                    "colorscale": {
                      "diverging": [
                        [
                          0,
                          "#8e0152"
                        ],
                        [
                          0.1,
                          "#c51b7d"
                        ],
                        [
                          0.2,
                          "#de77ae"
                        ],
                        [
                          0.3,
                          "#f1b6da"
                        ],
                        [
                          0.4,
                          "#fde0ef"
                        ],
                        [
                          0.5,
                          "#f7f7f7"
                        ],
                        [
                          0.6,
                          "#e6f5d0"
                        ],
                        [
                          0.7,
                          "#b8e186"
                        ],
                        [
                          0.8,
                          "#7fbc41"
                        ],
                        [
                          0.9,
                          "#4d9221"
                        ],
                        [
                          1,
                          "#276419"
                        ]
                      ],
                      "sequential": [
                        [
                          0,
                          "#0d0887"
                        ],
                        [
                          0.1111111111111111,
                          "#46039f"
                        ],
                        [
                          0.2222222222222222,
                          "#7201a8"
                        ],
                        [
                          0.3333333333333333,
                          "#9c179e"
                        ],
                        [
                          0.4444444444444444,
                          "#bd3786"
                        ],
                        [
                          0.5555555555555556,
                          "#d8576b"
                        ],
                        [
                          0.6666666666666666,
                          "#ed7953"
                        ],
                        [
                          0.7777777777777778,
                          "#fb9f3a"
                        ],
                        [
                          0.8888888888888888,
                          "#fdca26"
                        ],
                        [
                          1,
                          "#f0f921"
                        ]
                      ],
                      "sequentialminus": [
                        [
                          0,
                          "#0d0887"
                        ],
                        [
                          0.1111111111111111,
                          "#46039f"
                        ],
                        [
                          0.2222222222222222,
                          "#7201a8"
                        ],
                        [
                          0.3333333333333333,
                          "#9c179e"
                        ],
                        [
                          0.4444444444444444,
                          "#bd3786"
                        ],
                        [
                          0.5555555555555556,
                          "#d8576b"
                        ],
                        [
                          0.6666666666666666,
                          "#ed7953"
                        ],
                        [
                          0.7777777777777778,
                          "#fb9f3a"
                        ],
                        [
                          0.8888888888888888,
                          "#fdca26"
                        ],
                        [
                          1,
                          "#f0f921"
                        ]
                      ]
                    },
                    "colorway": [
                      "#636efa",
                      "#EF553B",
                      "#00cc96",
                      "#ab63fa",
                      "#FFA15A",
                      "#19d3f3",
                      "#FF6692",
                      "#B6E880",
                      "#FF97FF",
                      "#FECB52"
                    ],
                    "font": {
                      "color": "#f2f5fa"
                    },
                    "geo": {
                      "bgcolor": "rgb(17,17,17)",
                      "lakecolor": "rgb(17,17,17)",
                      "landcolor": "rgb(17,17,17)",
                      "showlakes": true,
                      "showland": true,
                      "subunitcolor": "#506784"
                    },
                    "height": 300,
                    "hoverlabel": {
                      "align": "left"
                    },
                    "hovermode": "closest",
                    "mapbox": {
                      "style": "dark"
                    },
                    "margin": {
                      "b": 40,
                      "l": 40,
                      "r": 40,
                      "t": 40
                    },
                    "paper_bgcolor": "rgba(0,0,0,0)",
                    "plot_bgcolor": "rgba(0,0,0,0)",
                    "polar": {
                      "angularaxis": {
                        "gridcolor": "#506784",
                        "linecolor": "#506784",
                        "ticks": ""
                      },
                      "bgcolor": "rgb(17,17,17)",
                      "radialaxis": {
                        "gridcolor": "#506784",
                        "linecolor": "#506784",
                        "ticks": ""
                      }
                    },
                    "scene": {
                      "xaxis": {
                        "backgroundcolor": "rgb(17,17,17)",
                        "gridcolor": "#506784",
                        "gridwidth": 2,
                        "linecolor": "#506784",
                        "showbackground": true,
                        "ticks": "",
                        "zerolinecolor": "#C8D4E3"
                      },
                      "yaxis": {
                        "backgroundcolor": "rgb(17,17,17)",
                        "gridcolor": "#506784",
                        "gridwidth": 2,
                        "linecolor": "#506784",
                        "showbackground": true,
                        "ticks": "",
                        "zerolinecolor": "#C8D4E3"
                      },
                      "zaxis": {
                        "backgroundcolor": "rgb(17,17,17)",
                        "gridcolor": "#506784",
                        "gridwidth": 2,
                        "linecolor": "#506784",
                        "showbackground": true,
                        "ticks": "",
                        "zerolinecolor": "#C8D4E3"
                      }
                    },
                    "shapedefaults": {
                      "line": {
                        "color": "#f2f5fa"
                      }
                    },
                    "sliderdefaults": {
                      "bgcolor": "#C8D4E3",
                      "bordercolor": "rgb(17,17,17)",
                      "borderwidth": 1,
                      "tickwidth": 0
                    },
                    "ternary": {
                      "aaxis": {
                        "gridcolor": "#506784",
                        "linecolor": "#506784",
                        "ticks": ""
                      },
                      "baxis": {
                        "gridcolor": "#506784",
                        "linecolor": "#506784",
                        "ticks": ""
                      },
                      "bgcolor": "rgb(17,17,17)",
                      "caxis": {
                        "gridcolor": "#506784",
                        "linecolor": "#506784",
                        "ticks": ""
                      }
                    },
                    "title": {
                      "x": 0.05
                    },
                    "updatemenudefaults": {
                      "bgcolor": "#506784",
                      "borderwidth": 0
                    },
                    "width": 600,
                    "xaxis": {
                      "automargin": true,
                      "gridcolor": "#283442",
                      "linecolor": "#506784",
                      "ticks": "",
                      "title": {
                        "standoff": 15
                      },
                      "zerolinecolor": "#283442",
                      "zerolinewidth": 2
                    },
                    "yaxis": {
                      "automargin": true,
                      "gridcolor": "#283442",
                      "linecolor": "#506784",
                      "ticks": "",
                      "title": {
                        "standoff": 15
                      },
                      "zerolinecolor": "#283442",
                      "zerolinewidth": 2
                    }
                  }
                },
                "title": {
                  "text": "Confusions (log(count + 10))"
                },
                "width": 480,
                "xaxis": {
                  "dtick": 1,
                  "title": {
                    "text": "prediction"
                  },
                  "type": "category"
                },
                "yaxis": {
                  "dtick": 1,
                  "scaleanchor": "x",
                  "title": {
                    "text": "true"
                  },
                  "type": "category"
                }
              }
            }
          },
          "metadata": {},
          "output_type": "display_data"
        }
      ],
      "source": [
        "pred_tags = []\n",
        "true_tags = []\n",
        "\n",
        "for pred, true_t, det in zip(\n",
        "    predictions, val_tag_true_idx, val_tag_det_idx, strict=True\n",
        "):\n",
        "    for p, t, d in zip(pred, true_t, det):\n",
        "        if tag_vocab[d] == \"uk\":\n",
        "            tp = tag_vocab[p.item()]\n",
        "            tt = tag_vocab[t]\n",
        "            true_tags.append(tt)\n",
        "            pred_tags.append(tp)\n",
        "print(len(pred_tags), len(true_tags))\n",
        "\n",
        "labels_left = sorted(set(pred_tags + true_tags))\n",
        "\n",
        "acc = metrics.accuracy_score(true_tags, pred_tags)\n",
        "print(\"accuracy\", acc)\n",
        "f1_macro = metrics.f1_score(true_tags, pred_tags, average=\"macro\")\n",
        "print(\"F1_macro\", f1_macro)\n",
        "\n",
        "confmat = metrics.confusion_matrix(true_tags, pred_tags, labels=labels_left)\n",
        "\n",
        "dtplot.heatmap(\n",
        "    confmat,\n",
        "    labels_left,\n",
        "    log_scale=True,\n",
        "    pseudo_count=10,\n",
        "    size=400,\n",
        ").update_layout(title=\"Confusions (log(count + 10))\").show()"
      ]
    },
    {
      "cell_type": "markdown",
      "metadata": {},
      "source": [
        "## check output\n"
      ]
    },
    {
      "cell_type": "code",
      "execution_count": 14,
      "metadata": {},
      "outputs": [
        {
          "name": "stdout",
          "output_type": "stream",
          "text": [
            "predictions torch.Size([53, 85])\n",
            "x=1\n",
            "['va', 'opas', 'nu']\n",
            "['pa', 'opas', 'nu']\n",
            "\n",
            "[2, 3, 4]\n",
            "['brop', 'nu', 'pu', 'ws', 'nu', 'pu', 'ws', 'nu', 'brcl']\n",
            "['brop', 'nu', 'pu', 'ws', 'nu', 'pu', 'ws', 'nu', 'brcl']\n",
            "\n",
            "say \"Hello world\"\n",
            "['kwio', 'ws', 'st']\n",
            "['cl', 'ws', 'st']\n",
            "\n",
            "if x == 5:\\\\    print(\"five\")\n",
            "['kwfl', 'ws', 'va', 'ws', 'opcm', 'ws', 'nu', 'sy', 'nl', 'id', 'fnfr', 'brop', 'st', 'brcl']\n",
            "['kwfl', 'ws', 'va', 'ws', 'opcm', 'ws', 'nu', 'sy', 'nl', 'id', 'fnfr', 'brop', 'st', 'brcl']\n",
            "\n",
            "val num = reader.nextInt()\n",
            "['kwva', 'ws', 'va', 'ws', 'opas', 'ws', 'va', 'sy', 'fnme', 'brop', 'brcl']\n",
            "['cl', 'ws', 'va', 'ws', 'opas', 'ws', 'va', 'sy', 'fnas', 'brop', 'brcl']\n",
            "\n",
            "examples = util.load_examples()\n",
            "['va', 'ws', 'opas', 'ws', 'mo', 'sy', 'fnas', 'brop', 'brcl']\n",
            "['va', 'ws', 'opas', 'ws', 'va', 'sy', 'fnas', 'brop', 'brcl']\n",
            "\n",
            "val res = if (num % 2 == 0) \"yes\" else \"no\"\n",
            "['kwva', 'ws', 'va', 'ws', 'opas', 'ws', 'kwfl', 'ws', 'brop', 'va', 'ws', 'opbi', 'ws', 'nu', 'ws', 'opcm', 'ws', 'nu', 'brcl', 'ws', 'st', 'ws', 'kwfl', 'ws', 'st']\n",
            "['cl', 'ws', 'va', 'ws', 'opas', 'ws', 'kwfl', 'ws', 'brop', 'va', 'ws', 'opbi', 'ws', 'nu', 'ws', 'opcm', 'ws', 'nu', 'brcl', 'ws', 'st', 'ws', 'kwfl', 'ws', 'st']\n",
            "\n",
            "use num::{integer::Roots, BigUint, One, Zero};\\\\use rayon::prelude::*;\n",
            "['kwim', 'ws', 'mo', 'sy', 'brop', 'mo', 'sy', 'cl', 'pu', 'ws', 'cl', 'pu', 'ws', 'cl', 'pu', 'ws', 'cl', 'brcl', 'pu', 'nl', 'kwim', 'ws', 'mo', 'sy', 'mo', 'sy', 'mo', 'pu']\n",
            "['kwim', 'ws', 'mo', 'sy', 'brop', 'va', 'sy', 'at', 'pu', 'ws', 'va', 'pu', 'ws', 'va', 'pu', 'ws', 'va', 'brcl', 'pu', 'nl', 'kwim', 'ws', 'mo', 'sy', 'at', 'sy', 'opbi', 'pu']\n",
            "\n",
            "print(\"hello world\")\\\\x = 3\\\\y = 5\\\\\\\\print(x + y)\n",
            "['fnfr', 'brop', 'st', 'brcl', 'nl', 'va', 'ws', 'opas', 'ws', 'nu', 'nl', 'va', 'ws', 'opas', 'ws', 'nu', 'nl', 'fnfr', 'brop', 'va', 'ws', 'opbi', 'ws', 'va', 'brcl']\n",
            "['fnfr', 'brop', 'st', 'brcl', 'nl', 'va', 'ws', 'opas', 'ws', 'nu', 'nl', 'va', 'ws', 'opas', 'ws', 'nu', 'nl', 'fnfr', 'brop', 'va', 'ws', 'opbi', 'ws', 'va', 'brcl']\n",
            "\n",
            "clc; clear; close all;\\\\\\\\%image size\\\\H=100;\\\\W=60;\n",
            "['kwio', 'pu', 'ws', 'kwio', 'pu', 'ws', 'kwio', 'ws', 'li', 'pu', 'nl', 'cofl', 'nl', 'va', 'opas', 'nu', 'pu', 'nl', 'va', 'opas', 'nu', 'pu']\n",
            "['va', 'pu', 'ws', 'va', 'pu', 'ws', 'va', 'ws', 'va', 'pu', 'nl', 'cofl', 'nl', 'pa', 'opas', 'nu', 'pu', 'nl', 'pa', 'opas', 'nu', 'pu']\n",
            "\n",
            "assert(_player.state == PlayerState.stopped ||\\\\    _player.state == PlayerState.completed);\n",
            "['fnfr', 'brop', 'va', 'sy', 'at', 'ws', 'opcm', 'ws', 'cl', 'sy', 'at', 'ws', 'opbi', 'nl', 'id', 'va', 'sy', 'at', 'ws', 'opcm', 'ws', 'cl', 'sy', 'at', 'brcl', 'pu']\n",
            "['fnfr', 'brop', 'va', 'sy', 'at', 'ws', 'opcm', 'ws', 'va', 'sy', 'at', 'ws', 'va', 'nl', 'id', 'cl', 'sy', 'at', 'ws', 'opcm', 'ws', 'cl', 'sy', 'at', 'brcl', 'pu']\n",
            "\n",
            "name = \"My name\"\\\\if name == \"My name\"\\\\    return \"Yes, my name\"\\\\else\\\\    return \"Wrong name\"\n",
            "['va', 'ws', 'opas', 'ws', 'st', 'nl', 'kwfl', 'ws', 'va', 'ws', 'opcm', 'ws', 'st', 'nl', 'id', 'kwfl', 'ws', 'st', 'nl', 'kwfl', 'nl', 'id', 'kwfl', 'ws', 'st']\n",
            "['va', 'ws', 'opas', 'ws', 'st', 'nl', 'kwfl', 'ws', 'va', 'ws', 'opcm', 'ws', 'st', 'nl', 'id', 'kwfl', 'ws', 'st', 'nl', 'kwfl', 'nl', 'id', 'kwfl', 'ws', 'st']\n",
            "\n",
            "import numpy as np\\\\from importlib import reload\\\\import color_functions as cf\\\\\\\\_ = reload(cf)\n",
            "['kwim', 'ws', 'mo', 'ws', 'kwim', 'ws', 'mo', 'nl', 'kwim', 'ws', 'mo', 'ws', 'kwim', 'ws', 'fnfr', 'nl', 'kwim', 'ws', 'mo', 'ws', 'kwim', 'ws', 'mo', 'nl', 'va', 'ws', 'opas', 'ws', 'fnfr', 'brop', 'mo', 'brcl']\n",
            "['kwim', 'ws', 'mo', 'ws', 'kwim', 'ws', 'mo', 'nl', 'kwim', 'ws', 'mo', 'ws', 'kwim', 'ws', 'mo', 'nl', 'kwim', 'ws', 'mo', 'ws', 'kwim', 'ws', 'mo', 'nl', 'kwty', 'ws', 'opas', 'ws', 'fnfr', 'brop', 'va', 'brcl']\n",
            "\n",
            "D_kg = distance_matrix(points_k,points_grid);\\\\D_gk = D_kg';\\\\D_gg = distance_matrix(points_grid);\n",
            "['va', 'ws', 'opas', 'ws', 'fnfr', 'brop', 'va', 'pu', 'va', 'brcl', 'pu', 'nl', 'va', 'ws', 'opas', 'ws', 'va', 'opun', 'pu', 'nl', 'va', 'ws', 'opas', 'ws', 'fnfr', 'brop', 'va', 'brcl', 'pu']\n",
            "['va', 'ws', 'opas', 'ws', 'fnfr', 'brop', 'va', 'pu', 'va', 'brcl', 'pu', 'nl', 'va', 'ws', 'opas', 'ws', 'va', 'opun', 'pu', 'nl', 'va', 'ws', 'opas', 'ws', 'fnfr', 'brop', 'va', 'brcl', 'pu']\n",
            "\n",
            "the_response = \"\"\\\\id = 0\\\\while the_response != \"correct\":\\\\    the_response = get_response(id)\\\\    id++;\n",
            "['va', 'ws', 'opas', 'ws', 'st', 'nl', 'va', 'ws', 'opas', 'ws', 'nu', 'nl', 'kwfl', 'ws', 'va', 'ws', 'opcm', 'ws', 'st', 'sy', 'nl', 'id', 'va', 'ws', 'opas', 'ws', 'fnfr', 'brop', 'va', 'brcl', 'nl', 'id', 'va', 'opun', 'pu']\n",
            "['va', 'ws', 'opas', 'ws', 'st', 'nl', 'va', 'ws', 'opas', 'ws', 'nu', 'nl', 'kwfl', 'ws', 'va', 'ws', 'opcm', 'ws', 'st', 'sy', 'nl', 'id', 'va', 'ws', 'opas', 'ws', 'fnfr', 'brop', 'va', 'brcl', 'nl', 'id', 'va', 'opun', 'pu']\n",
            "\n",
            "yhat_v = mu_v + Sigma_vk*(Sigma_kk\\(Y-mu_k));\\\\Sigma_prediction = Sigma_vv - Sigma_vk * (Sigma_kk\\Sigma_kv);\n",
            "['va', 'ws', 'opas', 'ws', 'va', 'ws', 'opbi', 'ws', 'va', 'opbi', 'brop', 'va', 'opbi', 'brop', 'va', 'opbi', 'va', 'brcl', 'brcl', 'pu', 'nl', 'va', 'ws', 'opas', 'ws', 'va', 'ws', 'opbi', 'ws', 'va', 'ws', 'opbi', 'ws', 'brop', 'va', 'opbi', 'va', 'brcl', 'pu']\n",
            "['va', 'ws', 'opas', 'ws', 'va', 'ws', 'opbi', 'ws', 'va', 'opbi', 'brop', 'va', 'sy', 'brop', 'va', 'opbi', 'va', 'brcl', 'brcl', 'pu', 'nl', 'va', 'ws', 'opas', 'ws', 'va', 'ws', 'opbi', 'ws', 'va', 'ws', 'opbi', 'ws', 'brop', 'va', 'sy', 'va', 'brcl', 'pu']\n",
            "\n",
            "[par,beta] = covest_ml(D_kk,Y,covf,par_fixed,X_ols,\"ml\");\\\\cov_fitted_d = matern_covariance(d_smooth,par(1),par(2),par(3));\n",
            "['brop', 'va', 'pu', 'va', 'brcl', 'ws', 'opas', 'ws', 'fnfr', 'brop', 'va', 'pu', 'va', 'pu', 'va', 'pu', 'va', 'pu', 'va', 'pu', 'st', 'brcl', 'pu', 'nl', 'va', 'ws', 'opas', 'ws', 'fnfr', 'brop', 'va', 'pu', 'va', 'brop', 'nu', 'brcl', 'pu', 'va', 'brop', 'nu', 'brcl', 'pu', 'va', 'brop', 'nu', 'brcl', 'brcl', 'pu']\n",
            "['brop', 'va', 'pu', 'va', 'brcl', 'ws', 'opas', 'ws', 'fnfr', 'brop', 'va', 'pu', 'va', 'pu', 'va', 'pu', 'va', 'pu', 'va', 'pu', 'st', 'brcl', 'pu', 'nl', 'va', 'ws', 'opas', 'ws', 'fnfr', 'brop', 'va', 'pu', 'fnfr', 'brop', 'nu', 'brcl', 'pu', 'fnfr', 'brop', 'nu', 'brcl', 'pu', 'fnfr', 'brop', 'nu', 'brcl', 'brcl', 'pu']\n",
            "\n",
            "let mut nullspace = Vec::new();\\\\for i in 0..m {\\\\    if mat[i].iter().all(|&x| x == 0) {\\\\        nullspace.push(null_basis[i].clone());\\\\    }\\\\}\n",
            "['kwva', 'ws', 'kwmo', 'ws', 'va', 'ws', 'opas', 'ws', 'cl', 'sy', 'fnas', 'brop', 'brcl', 'pu', 'nl', 'kwfl', 'ws', 'va', 'ws', 'kwop', 'ws', 'nu', 'sy', 'va', 'ws', 'brop', 'nl', 'id', 'kwfl', 'ws', 'va', 'brop', 'va', 'brcl', 'sy', 'fnme', 'brop', 'brcl', 'sy', 'fnme', 'brop', 'sy', 'opun', 'pa', 'sy', 'ws', 'pa', 'ws', 'opcm', 'ws', 'nu', 'brcl', 'ws', 'brop', 'nl', 'id', 'va', 'sy', 'fnme', 'brop', 'va', 'brop', 'va', 'brcl', 'sy', 'fnme', 'brop', 'brcl', 'brcl', 'pu', 'nl', 'id', 'brcl', 'nl', 'brcl']\n",
            "['kwva', 'ws', 'kwmo', 'ws', 'va', 'ws', 'opas', 'ws', 'mo', 'sy', 'fnas', 'brop', 'brcl', 'pu', 'nl', 'kwfl', 'ws', 'va', 'ws', 'kwop', 'ws', 'nu', 'sy', 'va', 'ws', 'brop', 'nl', 'id', 'kwfl', 'ws', 'va', 'brop', 'va', 'brcl', 'sy', 'fnme', 'brop', 'brcl', 'sy', 'fnme', 'brop', 'sy', 'opun', 'va', 'sy', 'ws', 'va', 'ws', 'opcm', 'ws', 'nu', 'brcl', 'ws', 'brop', 'nl', 'id', 'mo', 'sy', 'fnas', 'brop', 'va', 'brop', 'va', 'brcl', 'sy', 'fnme', 'brop', 'brcl', 'brcl', 'pu', 'nl', 'id', 'brcl', 'nl', 'brcl']\n",
            "\n",
            "plotting.heatmap(\\\\    confmat,\\\\    tag_vocab,\\\\    log_scale=True,\\\\    pseudo_count=10,\\\\    size=500,\\\\).show()\n",
            "['mo', 'sy', 'fnas', 'brop', 'nl', 'id', 'va', 'pu', 'nl', 'id', 'va', 'pu', 'nl', 'id', 'pa', 'opas', 'bo', 'pu', 'nl', 'id', 'pa', 'opas', 'nu', 'pu', 'nl', 'id', 'pa', 'opas', 'nu', 'pu', 'nl', 'brcl', 'sy', 'fnme', 'brop', 'brcl']\n",
            "['cl', 'sy', 'fnas', 'brop', 'nl', 'id', 'va', 'pu', 'nl', 'id', 'va', 'pu', 'nl', 'id', 'pa', 'opas', 'bo', 'pu', 'nl', 'id', 'pa', 'opas', 'nu', 'pu', 'nl', 'id', 'pa', 'opas', 'nu', 'pu', 'nl', 'brcl', 'sy', 'fnme', 'brop', 'brcl']\n",
            "\n",
            "k = sqrt((double)i) + 1.;\n",
            "['va', 'ws', 'opas', 'ws', 'fnfr', 'brop', 'brop', 'kwty', 'brcl', 'va', 'brcl', 'ws', 'opbi', 'ws', 'nu', 'sy', 'pu']\n",
            "['va', 'ws', 'opas', 'ws', 'fnfr', 'brop', 'brop', 'kwty', 'brcl', 'va', 'brcl', 'ws', 'opbi', 'ws', 'nu', 'sy', 'pu']\n",
            "\n",
            "const x = \"100\";\\\\const y = +x;\\\\console.log(typeof y);\n",
            "['kwva', 'ws', 'va', 'ws', 'opas', 'ws', 'st', 'pu', 'nl', 'kwva', 'ws', 'va', 'ws', 'opas', 'ws', 'opun', 'va', 'pu', 'nl', 'va', 'sy', 'fnme', 'brop', 'kwop', 'ws', 'va', 'brcl', 'pu']\n",
            "['kwva', 'ws', 'va', 'ws', 'opas', 'ws', 'st', 'pu', 'nl', 'kwva', 'ws', 'va', 'ws', 'opas', 'ws', 'opbi', 'va', 'pu', 'nl', 'mo', 'sy', 'fnas', 'brop', 'kwop', 'ws', 'va', 'brcl', 'pu']\n",
            "\n"
          ]
        },
        {
          "ename": "AssertionError",
          "evalue": "wrong length",
          "output_type": "error",
          "traceback": [
            "\u001b[0;31m---------------------------------------------------------------------------\u001b[0m",
            "\u001b[0;31mAssertionError\u001b[0m                            Traceback (most recent call last)",
            "Cell \u001b[0;32mIn[14], line 17\u001b[0m\n\u001b[1;32m     15\u001b[0m         \u001b[38;5;28;01mbreak\u001b[39;00m\n\u001b[1;32m     16\u001b[0m     pred_tags\u001b[38;5;241m.\u001b[39mappend(tag_vocab[p])\n\u001b[0;32m---> 17\u001b[0m \u001b[38;5;28;01massert\u001b[39;00m \u001b[38;5;28mlen\u001b[39m(ex[\u001b[38;5;124m\"\u001b[39m\u001b[38;5;124mtokens\u001b[39m\u001b[38;5;124m\"\u001b[39m]) \u001b[38;5;241m==\u001b[39m \u001b[38;5;28mlen\u001b[39m(pred_tags), \u001b[38;5;124m\"\u001b[39m\u001b[38;5;124mwrong length\u001b[39m\u001b[38;5;124m\"\u001b[39m\n\u001b[1;32m     18\u001b[0m pred_tags\n\u001b[1;32m     19\u001b[0m \u001b[38;5;28mprint\u001b[39m(\u001b[38;5;124m\"\u001b[39m\u001b[38;5;124m\"\u001b[39m\u001b[38;5;241m.\u001b[39mjoin(ex[\u001b[38;5;124m\"\u001b[39m\u001b[38;5;124mtokens\u001b[39m\u001b[38;5;124m\"\u001b[39m])\u001b[38;5;241m.\u001b[39mreplace(\u001b[38;5;124m\"\u001b[39m\u001b[38;5;130;01m\\n\u001b[39;00m\u001b[38;5;124m\"\u001b[39m, \u001b[38;5;124m\"\u001b[39m\u001b[38;5;130;01m\\\\\u001b[39;00m\u001b[38;5;130;01m\\\\\u001b[39;00m\u001b[38;5;124m\"\u001b[39m))\n",
            "\u001b[0;31mAssertionError\u001b[0m: wrong length"
          ]
        }
      ],
      "source": [
        "# print(os.listdir())\n",
        "\n",
        "model.eval()\n",
        "with torch.no_grad():\n",
        "    tag_scores = model(val_token_tensors, val_tag_det_tensors)\n",
        "    predictions = torch.argmax(tag_scores, dim=-1)  # Shape: (batch_size, seq_len)\n",
        "\n",
        "print(\"predictions\", predictions.size())\n",
        "\n",
        "outputs = {}\n",
        "for ex, pred in zip(data[\"val\"].iter_rows(named=True), predictions, strict=True):\n",
        "    pred_tags = []\n",
        "    for p in pred:\n",
        "        if p == 0:\n",
        "            break\n",
        "        pred_tags.append(tag_vocab[p])\n",
        "    assert len(ex[\"tokens\"]) == len(pred_tags), \"wrong length\"\n",
        "    pred_tags\n",
        "    print(\"\".join(ex[\"tokens\"]).replace(\"\\n\", \"\\\\\\\\\"))\n",
        "    print(ex[\"tags\"])\n",
        "    print(pred_tags)\n",
        "    print()\n",
        "    outputs[ex[\"name\"] + \"_\" + ex[\"lang\"]] = {\"tokens\": ex[\"tokens\"], \"tags\": pred_tags}\n"
      ]
    },
    {
      "cell_type": "markdown",
      "metadata": {},
      "source": [
        "# parameter search\n"
      ]
    },
    {
      "cell_type": "code",
      "execution_count": null,
      "metadata": {},
      "outputs": [],
      "source": [
        "from coolsearch import search\n",
        "\n",
        "reload(search)\n",
        "\n",
        "\n",
        "def objective(\n",
        "    embedding_dim,\n",
        "    hidden_dim,\n",
        "    n_lstm_layers,\n",
        "    dropout_lstm,\n",
        "    train_time,\n",
        "    class_weight_smoothing,\n",
        "    label_smoothing,\n",
        "    bidi,\n",
        "    lr_start,\n",
        "    lr_gamma,\n",
        "):\n",
        "    \"\"\"Train the model, with some hyperparameters, and evaluate a few metrics\"\"\"\n",
        "    model = torch_util.LSTMTagger(\n",
        "        len(vocab),\n",
        "        len(tag_vocab),\n",
        "        embedding_dim,\n",
        "        hidden_dim,\n",
        "        n_lstm_layers,\n",
        "        dropout_lstm,\n",
        "        bidi,\n",
        "    ).to(dev)\n",
        "    tag_weights = class_weights(tag_counts, tag_vocab, class_weight_smoothing)\n",
        "\n",
        "    loss_function = torch.nn.CrossEntropyLoss(\n",
        "        weight=tag_weights,\n",
        "        label_smoothing=label_smoothing,\n",
        "    ).to(dev)\n",
        "\n",
        "    optimizer = torch.optim.Adam(model.parameters(), lr=lr_start)\n",
        "    lr_s = torch.optim.lr_scheduler.ExponentialLR(optimizer, gamma=lr_gamma)\n",
        "\n",
        "    # Training loop\n",
        "\n",
        "    t_start = default_timer()\n",
        "    while default_timer() < t_start + train_time:\n",
        "        # TRAINING\n",
        "        torch_util.run_epoch(model, train_dl, loss_function, optimizer)\n",
        "\n",
        "        lr_s.step()\n",
        "\n",
        "    model.eval()\n",
        "    with torch.no_grad():\n",
        "        train_loss = torch_util.run_epoch(model, train_dl, loss_function)\n",
        "        val_loss = torch_util.run_epoch(model, val_dl, loss_function)\n",
        "        tag_scores = model(val_token_tensors, val_tag_det_tensors)\n",
        "        predictions = torch.argmax(tag_scores, dim=-1)\n",
        "\n",
        "    pred_tags = []\n",
        "    true_tags = []\n",
        "\n",
        "    for pred, true_t in zip(predictions, val_tag_true_idx):\n",
        "        true_tags.extend([tag_vocab[t] for t in true_t])\n",
        "        pred_tags.extend([tag_vocab[t] for t in pred[: len(true_t)]])\n",
        "\n",
        "    return {\n",
        "        \"_acc\": metrics.accuracy_score(true_tags, pred_tags),\n",
        "        \"_f1_macro\": metrics.f1_score(true_tags, pred_tags, average=\"macro\"),\n",
        "        \"_train_loss\": train_loss,\n",
        "        \"_val_loss\": val_loss,\n",
        "    }\n",
        "\n",
        "\n",
        "params = {\n",
        "    \"embedding_dim\": [16, 18],\n",
        "    \"hidden_dim\": [64, 48],\n",
        "    \"n_lstm_layers\": [1],\n",
        "    \"dropout_lstm\": [0.0],\n",
        "    \"train_time\": 10,\n",
        "    \"class_weight_smoothing\": [10.0],\n",
        "    \"label_smoothing\": [0.1],\n",
        "    \"bidi\": True,\n",
        "    \"lr_start\": [0.05],\n",
        "    \"lr_gamma\": [0.99],\n",
        "}\n",
        "\n",
        "\n",
        "cs = search.CoolSearch(\n",
        "    objective,\n",
        "    params,\n",
        "    n_jobs=1,\n",
        "    samples_file=f\"../search/{modelname}.csv\",\n",
        ")\n",
        "cs.grid_search(3)\n",
        "res = cs.samples.sort(-pl.col(\"_acc\")).head(10)\n",
        "display(res)\n",
        "display(res.row(0, named=True))"
      ]
    },
    {
      "cell_type": "code",
      "execution_count": null,
      "metadata": {},
      "outputs": [],
      "source": [
        "marg = cs.marginals(\"_acc\")\n",
        "\n",
        "pars = list(marg.keys())\n",
        "\n",
        "print(pars)\n",
        "\n",
        "for k in pars:\n",
        "    fig = plotting.scatter(x=marg[k][k], y=[marg[k][\"max\"], marg[k][\"mean\"]])\n",
        "    fig.update_layout(width=400, height=200, title=k)\n",
        "    fig.show()\n"
      ]
    }
  ],
  "metadata": {
    "kernelspec": {
      "display_name": "_my_python",
      "language": "python",
      "name": "python3"
    },
    "language_info": {
      "codemirror_mode": {
        "name": "ipython",
        "version": 3
      },
      "file_extension": ".py",
      "mimetype": "text/x-python",
      "name": "python",
      "nbconvert_exporter": "python",
      "pygments_lexer": "ipython3",
      "version": "3.12.7"
    }
  },
  "nbformat": 4,
  "nbformat_minor": 2
}
