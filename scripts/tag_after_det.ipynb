{
 "cells": [
  {
   "cell_type": "code",
   "execution_count": 1,
   "metadata": {},
   "outputs": [
    {
     "name": "stdout",
     "output_type": "stream",
     "text": [
      "device: cuda\n"
     ]
    }
   ],
   "source": [
    "import json\n",
    "import sys\n",
    "from importlib import reload\n",
    "\n",
    "import polars as pl\n",
    "import torch\n",
    "from datatools import plotting as dtplot\n",
    "from datatools import tabular as dttab\n",
    "from sklearn import metrics\n",
    "from torch.utils.data import DataLoader, Dataset\n",
    "\n",
    "sys.path.append(\"..\")\n",
    "\n",
    "import plotting\n",
    "from src import models_torch, text_process, util\n",
    "\n",
    "reload(plotting)\n",
    "reload(models_torch)\n",
    "dtplot.set_plotly_template()\n",
    "\n",
    "if torch.cuda.is_available():\n",
    "    dev = \"cuda\"\n",
    "else:\n",
    "    dev = \"cpu\"\n",
    "\n",
    "print(\"device:\", dev)"
   ]
  },
  {
   "cell_type": "markdown",
   "metadata": {},
   "source": [
    "## load data\n"
   ]
  },
  {
   "cell_type": "code",
   "execution_count": 2,
   "metadata": {},
   "outputs": [
    {
     "name": "stdout",
     "output_type": "stream",
     "text": [
      "Loaded 206 examples\n",
      "    train: 120\n",
      "    test: 36\n",
      "    val: 50\n",
      "train\n",
      "\t18 unique (lang):  'python', 'php', 'matlab', 'pseudo', 'rust' ,...\n",
      "test\n",
      "\t14 unique (lang):  'python', 'php', 'matlab', 'dart', 'r' ,...\n",
      "val\n",
      "\t14 unique (lang):  'python', 'php', 'dart', 'js', 'matlab' ,...\n"
     ]
    }
   ],
   "source": [
    "reload(util)\n",
    "tag_map = None\n",
    "data = util.load_examples_json(\n",
    "    tag_map=tag_map,\n",
    "    # [\"python\", \"pseudo\", \"rust\"],\n",
    "    split_idx_id=\"0116\",\n",
    ")\n",
    "\n",
    "data = {\n",
    "    k: df.with_columns(\n",
    "        tags_det=pl.col(\"tokens\").map_elements(\n",
    "            lambda tks: text_process.process(\"\".join(tks))[1], pl.List(pl.String)\n",
    "        )\n",
    "    )\n",
    "    for k, df in data.items()\n",
    "}\n",
    "\n",
    "for k, df in data.items():\n",
    "    print(k)\n",
    "    print(end=\"\\t\")\n",
    "    dttab.value_counts(df[\"lang\"], verbose=True, as_dict=True)\n"
   ]
  },
  {
   "cell_type": "markdown",
   "metadata": {},
   "source": [
    "## most common tokens\n"
   ]
  },
  {
   "cell_type": "code",
   "execution_count": 3,
   "metadata": {},
   "outputs": [
    {
     "name": "stdout",
     "output_type": "stream",
     "text": [
      "VOCAB (126): ['<pad>', '<unk>', ' ', '\\n', ')', '(', ',', '=', '.', ';', '    ', ']', '[', ':', '{', '}', '\\n\\n', '        ', '  ', '::', 'if', '*', 'return', '==', '\\\\', 'for', 'in', '+', 'import', '<', '-', '>>>', '>', 'int', '->', 'use', '|', 'function', 'echo', 'True', '...', 'while', 'from', 'const', 'true', 'public', 'let', 'def', 'as', '%', 'void', 'var', 'new', 'float', 'else', 'class', '            ', '     ', 'usize', 'pub', 'mut', 'mod', 'false', 'double', '?', '<=', '<-', '/', '&', 'val', 'synchronized', 'not', 'instanceof', 'foreach', 'extends', 'end', 'char', '>=', '.^', '..', '+=', '++', '**', \"'\", '!=', '   ', '\\n\\n\\n', '||', 'xy', 'with', 'typeof', 'tuple', 'tight', 'throws', 'puts', 'private', 'php', 'on', 'of', 'next', 'late', 'is', 'hold', 'fn', 'done', 'do', 'crate', 'close', 'clear', 'clc', 'bool', 'axis', 'async', 'all', '_', '^', 'SELECT', 'False', 'FROM', 'FALSE', '=>', '/=', '--', '*=', '                ', '\\t']\n",
      "LEFT  (564): ['0', '1', 'x', 'i', '2', 'print', 'torch', 'np', '3', 'plt', 'y', 'n', 'sum', 'data', 'a', 'length', 'd', 'z', 'products', 'Route', 'HashSet', '9', 'util', 'thing', 'permits', 'p', 'nz', 'Person', 'zeros', 'sigma2s', 'rhats', 'results', 'range', 'prod', 'par', 'name', 'max', 'm', 'key', 'figure', 'exp', 'enc', 'b', 'array', 'W', 'View', 'M', 'Illuminate', 'H', 'D_kk', '6', 'union', 'this', 'tensor', 'template', 't', 'string', 'str', 'seg_array', 'questions', 'prime_list', 'pd', 'odds', 'num', 'mymod', 'mean', 'mask_sum', 'main', 'm2', 'm1', 'logr', 'linspace', 'l2', 'l1', 'j', 'get', 'filename', 'acc', 'X_ols', 'Support', 'N_iter', 'N_frames', 'Integer', 'I', 'Facades', 'CM', 'BigUint', '5', '4', '1000', 'yo', 'width', 'video_mono', 't2', 't1', 'subplot', 'std', 'states', 'state', 'split', 'sort', 'something', 'sigma2z', 'segment', 'scheduler', 'scatter', 's2hat', 'rhat', 'result', 'res', 'quiz', 'q', 'probability', 'println', 'pred_prob_test', 'points_grid', 'plot', 'path', 'out', 'os', 'original', 'numpy', 'nullspace', 'new_rows', 'ndimage', 'my_function', 'model', 'min', 'masks', 'map', 'log_odds', 'log', 'loader', 'load_examples', 'linalg', 'len', 'keys', 'join', 'jmax', 'intersection', 'init', 'imputer', 'idx', 'id', 'height', 'frame', 'fgh', 'fb', 'examples', 'everything_results', 'empty', 'eigenvals', 'django', 'distance_matrix', 'dim', 'count', 'console', 'colors', 'chunk_idx', 'center_of_mass', 'beta', 'base', 'arr', 'args', 'anotherVar', 'aVar', '_player', 'Y', 'X', 'System', 'String', 'SoftDeletes', 'Sigma_vk', 'Sigma_kk', 'Semaphore', 'Row', 'Quiz', 'Point', 'PlayerState', 'NUMERIC_FEAT', 'MyThread', 'MyCreator', 'Model', 'Member', 'List', 'Kmax', 'KNNImputer', 'IMAGE_PATH', 'HttpResponse', 'FEATS', 'DataFrame', 'D_kg', 'ArrayList', '50', '33', '20', '100', '10', \"'profile'\", '$user', '$uri', '$happy', '$friend', '$callback', '\"yes\"', '\"kw\"', '\"My name\"', '\"Hello World\"', '\"../fast_results\"', '\"\"', 'ym', 'ylabel', 'yhat_v_ols', 'yhat_v', 'xm', 'xlabel', 'write_parquet', 'withDefault', 'win', 'welcome', 'weights', 'wait', 'vocab', 'view', 'validate', 'transforms', 'transform', 'train', 'token_vocab_size', 'title', 'thatThing', 'text', 'test_ids', 'submod', 'stopped', 'step', 'start', 'sqrt', 'sparse_output', 'sorted', 'sklearn', 'sin', 'sigma2_std', 'sigma2_mean', 'show', 'seq', 'self', 'seen', 'scale', 'save', 'sales', 's', 'rows', 'rmse_v_ols', 'rhat_std', 'rhat_mean', 'reverse', 'retina_masks', 'request', 'render', 'renamed', 'release', 'reduce', 'redirect', 'reader', 'rayon', 'randi', 'pyplot', 'push', 'primes', 'price', 'preprocessing', 'prelude', 'post', 'points_k', 'plusOne', 'pl', 'pivot', 'pi', 'phpinfo', 'parser', 'par_fixed', 'pandas', 'old', 'objects', 'numbers', 'null_basis', 'nrows', 'notify', 'nonzero', 'nn', 'nextInt', 'newwin', 'n_neighbors', 'n_lstm_layers', 'mynum', 'my_var', 'my_contextmanager', 'myNum', 'mu_v', 'mu_k', 'models', 'mini', 'min_frequency', 'midpoints', 'method', 'meshgrid', 'members', 'maxi', 'matplotlib', 'math_fun', 'matern_covariance', 'match', 'mat', 'masks_all', 'mask_similarity', 'make', 'logit2prob', 'locals', 'load', 'list', 'left_null', 'label_vocab_size', 'kappa', 'jk', 'iter', 'isAnagram', 'iou', 'into_par_iter', 'intercept_', 'integer', 'initialX', 'imwrite', 'imshow', 'imread', 'impute', 'imgsz', 'im_test', 'http', 'hidden_dim', 'handle_unknown', 'get_template', 'get_dummies', 'gen_row_set_par', 'gen_chunk', 'gcd_euclid_bigu', 'functional', 'friends', 'frames_path', 'frames', 'format_time', 'fit_transform', 'fit', 'find', 'factorize', 'f', 'eye', 'extend', 'epoch', 'enumerate', 'embedding_dim', 'dummies', 'dtype', 'dropout_lstm', 'drop_first', 'document', 'dm', 'displayQuestion', 'digits', 'dh', 'device', 'description', 'delete', 'd_smooth', 'curses', 'creator', 'created_at', 'covf', 'covest_nonparametric', 'covest_ml', 'cov_fitted_d', 'convert_image_dtype', 'conf', 'completed', 'coef_', 'clone', 'clf', 'chunk_size', 'checkseq', 'char_counts', 'bind', 'bidi', 'belongsTo', 'assert', 'asarray', 'argv', 'argparse', 'argc', 'append', 'anotherNumber', 'ann', 'alert', 'addEventListener', 'acquire', 'aNumber', 'aLetter', 'aDoubleNum', 'aBool', '__name__', '__init__', 'Zero', 'Z_p', 'Y_valid', 'X_test_norm', 'WriteLine', 'Vec', 'VariableNames', 'User', 'UPDATED_AT', 'Thingsy', 'Thing', 'TARGET', 'Sigma_vv', 'Sigma_prediction', 'Sigma_kv', 'Roots', 'Question', 'Properties', 'OneHotEncoder', 'One', 'NCHUNKS', 'Matrix', 'InterruptedException', 'IMG_SIZE', 'Eloquent', 'DoSomething', 'Dmax', 'Database', 'D_gk', 'D_gg', 'DEVICE', 'Creators', 'Consumer', 'Constructor', 'Console', 'C_beta', 'CREATED_AT', 'CATEGORY_FEAT', 'Bilinear', 'BelongsTo', 'Array', 'ArgumentParser', 'App', 'Action', '99', '92434447339770015548544881401_u128', '720', '64', '6000', '60', '5000', '5.99D', '37.71', '37', '33.33', '3000', '24', '231', '22', '2000', '1e-2', '15', '1280', '1237', '1.5', '0.9', '0.3', '0.2', '// print 6', '// make quiz', '// load exercise content', '// ...', '/**\\n * Get thse thing\\n */', \"'xyz1234?'\", \"'world'\", \"'updated_date'\", \"'red'\", \"'put'\", \"'name'\", \"'myThing'\", \"'markeredgecolor'\", \"'k'\", \"'infrequent_if_exist'\", \"'index.html'\", \"'hello'\", \"'function'\", \"'filled'\", \"'dragon'\", \"'delete'\", \"'creation_date'\", \"'color'\", \"'blue'\", \"'attr'\", \"'Hello'\", \"'HTTP_USER_AGENT'\", \"'DOMContentLoaded'\", \"'D'\", \"'/there'\", \"'/hey'\", \"'/here'\", \"'/'\", \"'./Quiz.js'\", \"'./Question.js'\", '%image size', '% GMRF parameters', '$this', '$request', '$b', '$abc', '$a', '$_SERVER', '# a = old b, b = old a + old b', '\"vintage\"', '\"uniform\"', '\"this is a script...\"', '\"test image\"', '\"somename\"', '\"results\"', '\"result.parquet\"', '\"response\"', '\"region_code\"', '\"price\"', '\"policy_sales_channel\"', '\"number: $i\"', '\"no\"', '\"nana\"', '\"ml\"', '\"method\"', '\"me\"', '\"loop!\"', '\"keyword\"', '\"k\"', '\"id\"', '\"hello world\"', '\"gram\"', '\"five\"', '\"annual_premium\"', '\"all features:\"', '\"age\"', '\"__main__\"', '\"Yes, my name\"', '\"Wrong name\"', '\"The first number is larger\"', '\"Response\"', '\"Hello world\"', '\"<unk>\"', '\"<pad>\"', '\"0000.png\"', '\"0\"', '\".png\"', '\".\"', '\"*r\"', '\"$a, $b\"', '\"# questions loaded\"']\n"
     ]
    }
   ],
   "source": [
    "VOCAB_TAGS = [\n",
    "    \"kwfl\",\n",
    "    \"kwty\",\n",
    "    \"kwop\",\n",
    "    \"kwmo\",\n",
    "    \"kwva\",\n",
    "    \"kwde\",\n",
    "    \"kwfn\",\n",
    "    \"kwim\",\n",
    "    \"kwio\",\n",
    "    \"id\",\n",
    "    \"ws\",\n",
    "    \"nl\",\n",
    "    \"brop\",\n",
    "    \"brcl\",\n",
    "    \"sy\",\n",
    "    \"pu\",\n",
    "    \"bo\",\n",
    "    \"li\",\n",
    "    \"opcm\",\n",
    "    \"opbi\",\n",
    "    \"opun\",\n",
    "    \"opas\",\n",
    "    \"an\",\n",
    "    \"uk\",\n",
    "]\n",
    "\n",
    "\n",
    "def make_vocab(examples: pl.DataFrame, insert=[\"<pad>\", \"<unk>\"]):\n",
    "    \"\"\"Make vocab, and inverse map\"\"\"\n",
    "    vocab_cands = (\n",
    "        examples.select(pl.col(\"tokens\", \"tags\").explode())\n",
    "        .filter(pl.col(\"tags\").is_in(VOCAB_TAGS))\n",
    "        .group_by(\"tokens\")\n",
    "        .agg(pl.len().alias(\"count\"))\n",
    "        .sort(\"count\", \"tokens\", descending=True)\n",
    "    )\n",
    "    vocab = insert + vocab_cands[\"tokens\"].to_list()\n",
    "    token2idx = {t: i for i, t in enumerate(vocab)}\n",
    "\n",
    "    return vocab, token2idx\n",
    "\n",
    "\n",
    "vocab, token2idx = make_vocab(data[\"train\"])\n",
    "leftover = (\n",
    "    data[\"train\"]\n",
    "    .select(pl.col(\"tokens\").explode())\n",
    "    .filter(pl.col(\"tokens\").is_in(vocab).not_())\n",
    "    .group_by(\"tokens\")\n",
    "    .agg(pl.len().alias(\"count\"))\n",
    "    .sort(\"count\", \"tokens\", descending=True)\n",
    ")\n",
    "leftover = leftover[\"tokens\"].to_list()\n",
    "\n",
    "print(f\"VOCAB ({len(vocab)}):\", vocab)\n",
    "print(f\"LEFT  ({len(leftover)}):\", leftover)\n"
   ]
  },
  {
   "cell_type": "code",
   "execution_count": 4,
   "metadata": {},
   "outputs": [
    {
     "name": "stdout",
     "output_type": "stream",
     "text": [
      "688 unique (tokens):  ' ', '\\n', ')', '(', ',' ,...\n",
      "35 unique (tags):  'ws', 'va', 'brop', 'brcl', 'nl' ,...\n"
     ]
    }
   ],
   "source": [
    "token_counts = dttab.value_counts(\n",
    "    data[\"train\"][\"tokens\"].explode(), verbose=True, as_dict=True\n",
    ")\n",
    "\n",
    "# tag counts for all data, closed tag set\n",
    "tag_counts = dttab.value_counts(\n",
    "    pl.concat([data[\"train\"], data[\"val\"], data[\"test\"]])[\"tags\"].explode(),\n",
    "    verbose=True,\n",
    "    as_dict=True,\n",
    ")\n"
   ]
  },
  {
   "cell_type": "markdown",
   "metadata": {},
   "source": [
    "## make a vocab!\n",
    "\n",
    "- add padding to both tokens and tags\n",
    "- also, convert tokens and tags to integers\n"
   ]
  },
  {
   "cell_type": "code",
   "execution_count": 5,
   "metadata": {},
   "outputs": [
    {
     "name": "stdout",
     "output_type": "stream",
     "text": [
      "vocab (126 tokens): ['<pad>', '<unk>', ' ', '\\n', ')', '(', ',', '=', '.', ';', '    ', ']', '[', ':', '{', '}', '\\n\\n', '        ', '  ', '::', 'if', '*', 'return', '==', '\\\\', 'for', 'in', '+', 'import', '<', '-', '>>>', '>', 'int', '->', 'use', '|', 'function', 'echo', 'True', '...', 'while', 'from', 'const', 'true', 'public', 'let', 'def', 'as', '%', 'void', 'var', 'new', 'float', 'else', 'class', '            ', '     ', 'usize', 'pub', 'mut', 'mod', 'false', 'double', '?', '<=', '<-', '/', '&', 'val', 'synchronized', 'not', 'instanceof', 'foreach', 'extends', 'end', 'char', '>=', '.^', '..', '+=', '++', '**', \"'\", '!=', '   ', '\\n\\n\\n', '||', 'xy', 'with', 'typeof', 'tuple', 'tight', 'throws', 'puts', 'private', 'php', 'on', 'of', 'next', 'late', 'is', 'hold', 'fn', 'done', 'do', 'crate', 'close', 'clear', 'clc', 'bool', 'axis', 'async', 'all', '_', '^', 'SELECT', 'False', 'FROM', 'FALSE', '=>', '/=', '--', '*=', '                ', '\\t']\n",
      "vocab (37 tags)  : ['<pad>', 'uk', 'ws', 'va', 'brop', 'brcl', 'nl', 'pu', 'sy', 'nu', 'id', 'opas', 'mo', 'fnfr', 'st', 'kwfl', 'opbi', 'cl', 'pa', 'fnas', 'fnme', 'kwim', 'at', 'opcm', 'kwop', 'kwty', 'opun', 'kwva', 'bo', 'kwfn', 'kwmo', 'cofl', 'kwio', 'kwde', 'li', 'coil', 'coml']\n"
     ]
    }
   ],
   "source": [
    "# tags\n",
    "tag_vocab = [\"<pad>\", \"uk\"] + list(tag_counts.keys())\n",
    "tag2idx = {t: i for i, t in enumerate(tag_vocab)}\n",
    "\n",
    "print(f\"vocab ({len(vocab)} tokens):\", vocab)\n",
    "print(f\"vocab ({len(tag_vocab)} tags)  :\", tag_vocab)\n",
    "\n",
    "# Convert tokens and labels to indices\n",
    "# these are lists of lists!\n",
    "train_token_idx = [\n",
    "    [token2idx.get(t, 1) for t in seq] for seq in data[\"train\"][\"tokens\"]\n",
    "]\n",
    "train_tag_true_idx = [[tag2idx[t] for t in seq] for seq in data[\"train\"][\"tags\"]]\n",
    "train_tag_det_idx = [\n",
    "    [tag2idx.get(t, 1) for t in seq] for seq in data[\"train\"][\"tags_det\"]\n",
    "]\n",
    "\n",
    "\n",
    "# validation data\n",
    "val_token_idx = [[token2idx.get(t, 1) for t in seq] for seq in data[\"val\"][\"tokens\"]]\n",
    "val_tag_true_idx = [[tag2idx[t] for t in seq] for seq in data[\"val\"][\"tags\"]]\n",
    "val_tag_det_idx = [[tag2idx.get(t, 1) for t in seq] for seq in data[\"val\"][\"tags_det\"]]\n"
   ]
  },
  {
   "cell_type": "markdown",
   "metadata": {},
   "source": [
    "### class weights?\n"
   ]
  },
  {
   "cell_type": "code",
   "execution_count": 6,
   "metadata": {},
   "outputs": [],
   "source": [
    "reload(dttab)\n",
    "\n",
    "\n",
    "all_tags = data[\"train\"][\"tags\"].explode()\n",
    "\n",
    "tag_counts = dttab.value_counts(all_tags, sort_by=\"value\", as_dict=True)\n",
    "\n",
    "\n",
    "def class_weights(tag_counts: dict, tag_vocab: list[str], smoothing=0.1):\n",
    "    tag_weights = [1 / tag_counts.get(k, torch.inf) + smoothing for k in tag_vocab]\n",
    "    tag_weights = torch.tensor(tag_weights)\n",
    "    tag_weights /= sum(tag_weights)\n",
    "    return tag_weights\n"
   ]
  },
  {
   "cell_type": "markdown",
   "metadata": {},
   "source": [
    "### Prepare data for model\n"
   ]
  },
  {
   "cell_type": "code",
   "execution_count": 7,
   "metadata": {},
   "outputs": [
    {
     "name": "stdout",
     "output_type": "stream",
     "text": [
      "train:\n",
      "padded tensor: (120, 314) cuda:0\n",
      "padded tensor: (120, 314) cuda:0\n",
      "padded tensor: (120, 314) cuda:0\n",
      "val:\n",
      "padded tensor: (50, 111) cuda:0\n",
      "padded tensor: (50, 111) cuda:0\n",
      "padded tensor: (50, 111) cuda:0\n"
     ]
    }
   ],
   "source": [
    "reload(models_torch)\n",
    "print(\"train:\")\n",
    "train_token_tensors = models_torch.seqs2padded_tensor(train_token_idx, device=dev)\n",
    "train_tag_true_tensors = models_torch.seqs2padded_tensor(train_tag_true_idx, device=dev)\n",
    "train_tag_det_tensors = models_torch.seqs2padded_tensor(train_tag_det_idx, device=dev)\n",
    "print(\"val:\")\n",
    "val_token_tensors = models_torch.seqs2padded_tensor(val_token_idx, device=dev)\n",
    "val_tag_true_tensors = models_torch.seqs2padded_tensor(val_tag_true_idx, device=dev)\n",
    "val_tag_det_tensors = models_torch.seqs2padded_tensor(val_tag_det_idx, device=dev)\n",
    "\n",
    "assert train_token_tensors.shape == train_tag_true_tensors.shape\n",
    "assert train_tag_det_tensors.shape == train_tag_true_tensors.shape\n",
    "\n",
    "assert val_token_tensors.shape == val_tag_true_tensors.shape\n",
    "assert val_tag_det_tensors.shape == val_tag_true_tensors.shape\n"
   ]
  },
  {
   "cell_type": "code",
   "execution_count": 8,
   "metadata": {},
   "outputs": [
    {
     "name": "stdout",
     "output_type": "stream",
     "text": [
      "dataset 120\n",
      "dataset 50\n"
     ]
    }
   ],
   "source": [
    "class SequenceDataset(Dataset):\n",
    "    def __init__(self, tokens, labels_det, labels_true):\n",
    "        if not len(tokens) == len(labels_det) == len(labels_true):\n",
    "            raise ValueError(\"inconsistent lengths\")\n",
    "        print(\"dataset\", len(tokens))\n",
    "        self.tokens = tokens\n",
    "        self.labels_det = labels_det\n",
    "        self.labels_true = labels_true\n",
    "\n",
    "    def __len__(self):\n",
    "        return len(self.tokens)\n",
    "\n",
    "    def __getitem__(self, idx):\n",
    "        return self.tokens[idx], self.labels_det[idx], self.labels_true[idx]\n",
    "\n",
    "\n",
    "# Create dataset and dataloader\n",
    "\n",
    "if dev == \"cpu\":\n",
    "    bs_train = 8\n",
    "elif dev == \"cuda\":\n",
    "    bs_train = 8\n",
    "\n",
    "train_loader = DataLoader(\n",
    "    SequenceDataset(train_token_tensors, train_tag_det_tensors, train_tag_true_tensors),\n",
    "    batch_size=bs_train,\n",
    "    shuffle=True,\n",
    ")\n",
    "val_loader = DataLoader(\n",
    "    SequenceDataset(val_token_tensors, val_tag_det_tensors, val_tag_true_tensors),\n",
    "    batch_size=2 * bs_train,\n",
    "    shuffle=False,\n",
    ")"
   ]
  },
  {
   "cell_type": "markdown",
   "metadata": {},
   "source": [
    "## model\n"
   ]
  },
  {
   "cell_type": "code",
   "execution_count": 9,
   "metadata": {},
   "outputs": [
    {
     "name": "stdout",
     "output_type": "stream",
     "text": [
      "vocab lengths 126 37\n"
     ]
    },
    {
     "name": "stderr",
     "output_type": "stream",
     "text": [
      "  1%|▏         | 25/2000 [00:05<06:36,  4.98it/s]\n"
     ]
    },
    {
     "data": {
      "application/vnd.plotly.v1+json": {
       "config": {
        "plotlyServerURL": "https://plot.ly"
       },
       "data": [
        {
         "type": "scatter",
         "y": [
          0.6341008543968201,
          0.13393088827530544,
          0.06450171023607254,
          0.04795351189871629,
          0.0385957982391119,
          0.03338490277528763,
          0.02784751889606317,
          0.023312582696477572,
          0.022022302759190402,
          0.019856530365844567,
          0.01836843409885963,
          0.017376710350314777,
          0.015708903161187966,
          0.014872573999067147,
          0.013888370525091887,
          0.012655525902907054,
          0.011678958653161924,
          0.013127971378465494,
          0.013344193870822588,
          0.012760466399292151,
          0.013839796309669812,
          0.011086293713500102,
          0.01366323692103227,
          0.011491823351631562,
          0.011194041805962722,
          0.010437096391494075
         ]
        },
        {
         "type": "scatter",
         "y": [
          0.49194685742259026,
          0.19818966463208199,
          0.1641374286264181,
          0.1335662081837654,
          0.1251718420535326,
          0.11521885730326176,
          0.09984643757343292,
          0.09887619875371456,
          0.08939616568386555,
          0.0839395560324192,
          0.08841400220990181,
          0.08631838671863079,
          0.08322701789438725,
          0.07731200661510229,
          0.07848729379475117,
          0.0812604920938611,
          0.0788277667015791,
          0.08828247711062431,
          0.09105151146650314,
          0.0896231010556221,
          0.08863836526870728,
          0.08507707994431257,
          0.08713268674910069,
          0.0973647590726614,
          0.09104231093078852,
          0.08967874199151993
         ]
        }
       ],
       "layout": {
        "template": {
         "data": {
          "bar": [
           {
            "error_x": {
             "color": "#f2f5fa"
            },
            "error_y": {
             "color": "#f2f5fa"
            },
            "marker": {
             "line": {
              "color": "rgb(17,17,17)",
              "width": 0.5
             },
             "pattern": {
              "fillmode": "overlay",
              "size": 10,
              "solidity": 0.2
             }
            },
            "type": "bar"
           }
          ],
          "barpolar": [
           {
            "marker": {
             "line": {
              "color": "rgb(17,17,17)",
              "width": 0.5
             },
             "pattern": {
              "fillmode": "overlay",
              "size": 10,
              "solidity": 0.2
             }
            },
            "type": "barpolar"
           }
          ],
          "carpet": [
           {
            "aaxis": {
             "endlinecolor": "#A2B1C6",
             "gridcolor": "#506784",
             "linecolor": "#506784",
             "minorgridcolor": "#506784",
             "startlinecolor": "#A2B1C6"
            },
            "baxis": {
             "endlinecolor": "#A2B1C6",
             "gridcolor": "#506784",
             "linecolor": "#506784",
             "minorgridcolor": "#506784",
             "startlinecolor": "#A2B1C6"
            },
            "type": "carpet"
           }
          ],
          "choropleth": [
           {
            "colorbar": {
             "outlinewidth": 0,
             "ticks": ""
            },
            "type": "choropleth"
           }
          ],
          "contour": [
           {
            "colorbar": {
             "outlinewidth": 0,
             "ticks": ""
            },
            "colorscale": [
             [
              0,
              "#0d0887"
             ],
             [
              0.1111111111111111,
              "#46039f"
             ],
             [
              0.2222222222222222,
              "#7201a8"
             ],
             [
              0.3333333333333333,
              "#9c179e"
             ],
             [
              0.4444444444444444,
              "#bd3786"
             ],
             [
              0.5555555555555556,
              "#d8576b"
             ],
             [
              0.6666666666666666,
              "#ed7953"
             ],
             [
              0.7777777777777778,
              "#fb9f3a"
             ],
             [
              0.8888888888888888,
              "#fdca26"
             ],
             [
              1,
              "#f0f921"
             ]
            ],
            "type": "contour"
           }
          ],
          "contourcarpet": [
           {
            "colorbar": {
             "outlinewidth": 0,
             "ticks": ""
            },
            "type": "contourcarpet"
           }
          ],
          "heatmap": [
           {
            "colorbar": {
             "outlinewidth": 0,
             "ticks": ""
            },
            "colorscale": [
             [
              0,
              "#0d0887"
             ],
             [
              0.1111111111111111,
              "#46039f"
             ],
             [
              0.2222222222222222,
              "#7201a8"
             ],
             [
              0.3333333333333333,
              "#9c179e"
             ],
             [
              0.4444444444444444,
              "#bd3786"
             ],
             [
              0.5555555555555556,
              "#d8576b"
             ],
             [
              0.6666666666666666,
              "#ed7953"
             ],
             [
              0.7777777777777778,
              "#fb9f3a"
             ],
             [
              0.8888888888888888,
              "#fdca26"
             ],
             [
              1,
              "#f0f921"
             ]
            ],
            "type": "heatmap"
           }
          ],
          "heatmapgl": [
           {
            "colorbar": {
             "outlinewidth": 0,
             "ticks": ""
            },
            "colorscale": [
             [
              0,
              "#0d0887"
             ],
             [
              0.1111111111111111,
              "#46039f"
             ],
             [
              0.2222222222222222,
              "#7201a8"
             ],
             [
              0.3333333333333333,
              "#9c179e"
             ],
             [
              0.4444444444444444,
              "#bd3786"
             ],
             [
              0.5555555555555556,
              "#d8576b"
             ],
             [
              0.6666666666666666,
              "#ed7953"
             ],
             [
              0.7777777777777778,
              "#fb9f3a"
             ],
             [
              0.8888888888888888,
              "#fdca26"
             ],
             [
              1,
              "#f0f921"
             ]
            ],
            "type": "heatmapgl"
           }
          ],
          "histogram": [
           {
            "marker": {
             "pattern": {
              "fillmode": "overlay",
              "size": 10,
              "solidity": 0.2
             }
            },
            "type": "histogram"
           }
          ],
          "histogram2d": [
           {
            "colorbar": {
             "outlinewidth": 0,
             "ticks": ""
            },
            "colorscale": [
             [
              0,
              "#0d0887"
             ],
             [
              0.1111111111111111,
              "#46039f"
             ],
             [
              0.2222222222222222,
              "#7201a8"
             ],
             [
              0.3333333333333333,
              "#9c179e"
             ],
             [
              0.4444444444444444,
              "#bd3786"
             ],
             [
              0.5555555555555556,
              "#d8576b"
             ],
             [
              0.6666666666666666,
              "#ed7953"
             ],
             [
              0.7777777777777778,
              "#fb9f3a"
             ],
             [
              0.8888888888888888,
              "#fdca26"
             ],
             [
              1,
              "#f0f921"
             ]
            ],
            "type": "histogram2d"
           }
          ],
          "histogram2dcontour": [
           {
            "colorbar": {
             "outlinewidth": 0,
             "ticks": ""
            },
            "colorscale": [
             [
              0,
              "#0d0887"
             ],
             [
              0.1111111111111111,
              "#46039f"
             ],
             [
              0.2222222222222222,
              "#7201a8"
             ],
             [
              0.3333333333333333,
              "#9c179e"
             ],
             [
              0.4444444444444444,
              "#bd3786"
             ],
             [
              0.5555555555555556,
              "#d8576b"
             ],
             [
              0.6666666666666666,
              "#ed7953"
             ],
             [
              0.7777777777777778,
              "#fb9f3a"
             ],
             [
              0.8888888888888888,
              "#fdca26"
             ],
             [
              1,
              "#f0f921"
             ]
            ],
            "type": "histogram2dcontour"
           }
          ],
          "mesh3d": [
           {
            "colorbar": {
             "outlinewidth": 0,
             "ticks": ""
            },
            "type": "mesh3d"
           }
          ],
          "parcoords": [
           {
            "line": {
             "colorbar": {
              "outlinewidth": 0,
              "ticks": ""
             }
            },
            "type": "parcoords"
           }
          ],
          "pie": [
           {
            "automargin": true,
            "type": "pie"
           }
          ],
          "scatter": [
           {
            "marker": {
             "line": {
              "color": "#283442"
             }
            },
            "type": "scatter"
           }
          ],
          "scatter3d": [
           {
            "line": {
             "colorbar": {
              "outlinewidth": 0,
              "ticks": ""
             }
            },
            "marker": {
             "colorbar": {
              "outlinewidth": 0,
              "ticks": ""
             }
            },
            "type": "scatter3d"
           }
          ],
          "scattercarpet": [
           {
            "marker": {
             "colorbar": {
              "outlinewidth": 0,
              "ticks": ""
             }
            },
            "type": "scattercarpet"
           }
          ],
          "scattergeo": [
           {
            "marker": {
             "colorbar": {
              "outlinewidth": 0,
              "ticks": ""
             }
            },
            "type": "scattergeo"
           }
          ],
          "scattergl": [
           {
            "marker": {
             "line": {
              "color": "#283442"
             }
            },
            "type": "scattergl"
           }
          ],
          "scattermapbox": [
           {
            "marker": {
             "colorbar": {
              "outlinewidth": 0,
              "ticks": ""
             }
            },
            "type": "scattermapbox"
           }
          ],
          "scatterpolar": [
           {
            "marker": {
             "colorbar": {
              "outlinewidth": 0,
              "ticks": ""
             }
            },
            "type": "scatterpolar"
           }
          ],
          "scatterpolargl": [
           {
            "marker": {
             "colorbar": {
              "outlinewidth": 0,
              "ticks": ""
             }
            },
            "type": "scatterpolargl"
           }
          ],
          "scatterternary": [
           {
            "marker": {
             "colorbar": {
              "outlinewidth": 0,
              "ticks": ""
             }
            },
            "type": "scatterternary"
           }
          ],
          "surface": [
           {
            "colorbar": {
             "outlinewidth": 0,
             "ticks": ""
            },
            "colorscale": [
             [
              0,
              "#0d0887"
             ],
             [
              0.1111111111111111,
              "#46039f"
             ],
             [
              0.2222222222222222,
              "#7201a8"
             ],
             [
              0.3333333333333333,
              "#9c179e"
             ],
             [
              0.4444444444444444,
              "#bd3786"
             ],
             [
              0.5555555555555556,
              "#d8576b"
             ],
             [
              0.6666666666666666,
              "#ed7953"
             ],
             [
              0.7777777777777778,
              "#fb9f3a"
             ],
             [
              0.8888888888888888,
              "#fdca26"
             ],
             [
              1,
              "#f0f921"
             ]
            ],
            "type": "surface"
           }
          ],
          "table": [
           {
            "cells": {
             "fill": {
              "color": "#506784"
             },
             "line": {
              "color": "rgb(17,17,17)"
             }
            },
            "header": {
             "fill": {
              "color": "#2a3f5f"
             },
             "line": {
              "color": "rgb(17,17,17)"
             }
            },
            "type": "table"
           }
          ]
         },
         "layout": {
          "annotationdefaults": {
           "arrowcolor": "#f2f5fa",
           "arrowhead": 0,
           "arrowwidth": 1
          },
          "autosize": false,
          "autotypenumbers": "strict",
          "coloraxis": {
           "colorbar": {
            "outlinewidth": 0,
            "ticks": ""
           }
          },
          "colorscale": {
           "diverging": [
            [
             0,
             "#8e0152"
            ],
            [
             0.1,
             "#c51b7d"
            ],
            [
             0.2,
             "#de77ae"
            ],
            [
             0.3,
             "#f1b6da"
            ],
            [
             0.4,
             "#fde0ef"
            ],
            [
             0.5,
             "#f7f7f7"
            ],
            [
             0.6,
             "#e6f5d0"
            ],
            [
             0.7,
             "#b8e186"
            ],
            [
             0.8,
             "#7fbc41"
            ],
            [
             0.9,
             "#4d9221"
            ],
            [
             1,
             "#276419"
            ]
           ],
           "sequential": [
            [
             0,
             "#0d0887"
            ],
            [
             0.1111111111111111,
             "#46039f"
            ],
            [
             0.2222222222222222,
             "#7201a8"
            ],
            [
             0.3333333333333333,
             "#9c179e"
            ],
            [
             0.4444444444444444,
             "#bd3786"
            ],
            [
             0.5555555555555556,
             "#d8576b"
            ],
            [
             0.6666666666666666,
             "#ed7953"
            ],
            [
             0.7777777777777778,
             "#fb9f3a"
            ],
            [
             0.8888888888888888,
             "#fdca26"
            ],
            [
             1,
             "#f0f921"
            ]
           ],
           "sequentialminus": [
            [
             0,
             "#0d0887"
            ],
            [
             0.1111111111111111,
             "#46039f"
            ],
            [
             0.2222222222222222,
             "#7201a8"
            ],
            [
             0.3333333333333333,
             "#9c179e"
            ],
            [
             0.4444444444444444,
             "#bd3786"
            ],
            [
             0.5555555555555556,
             "#d8576b"
            ],
            [
             0.6666666666666666,
             "#ed7953"
            ],
            [
             0.7777777777777778,
             "#fb9f3a"
            ],
            [
             0.8888888888888888,
             "#fdca26"
            ],
            [
             1,
             "#f0f921"
            ]
           ]
          },
          "colorway": [
           "#636efa",
           "#EF553B",
           "#00cc96",
           "#ab63fa",
           "#FFA15A",
           "#19d3f3",
           "#FF6692",
           "#B6E880",
           "#FF97FF",
           "#FECB52"
          ],
          "font": {
           "color": "#f2f5fa"
          },
          "geo": {
           "bgcolor": "rgb(17,17,17)",
           "lakecolor": "rgb(17,17,17)",
           "landcolor": "rgb(17,17,17)",
           "showlakes": true,
           "showland": true,
           "subunitcolor": "#506784"
          },
          "height": 300,
          "hoverlabel": {
           "align": "left"
          },
          "hovermode": "closest",
          "mapbox": {
           "style": "dark"
          },
          "margin": {
           "b": 40,
           "l": 40,
           "r": 40,
           "t": 40
          },
          "paper_bgcolor": "rgba(0,0,0,0)",
          "plot_bgcolor": "rgba(0,0,0,0)",
          "polar": {
           "angularaxis": {
            "gridcolor": "#506784",
            "linecolor": "#506784",
            "ticks": ""
           },
           "bgcolor": "rgb(17,17,17)",
           "radialaxis": {
            "gridcolor": "#506784",
            "linecolor": "#506784",
            "ticks": ""
           }
          },
          "scene": {
           "xaxis": {
            "backgroundcolor": "rgb(17,17,17)",
            "gridcolor": "#506784",
            "gridwidth": 2,
            "linecolor": "#506784",
            "showbackground": true,
            "ticks": "",
            "zerolinecolor": "#C8D4E3"
           },
           "yaxis": {
            "backgroundcolor": "rgb(17,17,17)",
            "gridcolor": "#506784",
            "gridwidth": 2,
            "linecolor": "#506784",
            "showbackground": true,
            "ticks": "",
            "zerolinecolor": "#C8D4E3"
           },
           "zaxis": {
            "backgroundcolor": "rgb(17,17,17)",
            "gridcolor": "#506784",
            "gridwidth": 2,
            "linecolor": "#506784",
            "showbackground": true,
            "ticks": "",
            "zerolinecolor": "#C8D4E3"
           }
          },
          "shapedefaults": {
           "line": {
            "color": "#f2f5fa"
           }
          },
          "sliderdefaults": {
           "bgcolor": "#C8D4E3",
           "bordercolor": "rgb(17,17,17)",
           "borderwidth": 1,
           "tickwidth": 0
          },
          "ternary": {
           "aaxis": {
            "gridcolor": "#506784",
            "linecolor": "#506784",
            "ticks": ""
           },
           "baxis": {
            "gridcolor": "#506784",
            "linecolor": "#506784",
            "ticks": ""
           },
           "bgcolor": "rgb(17,17,17)",
           "caxis": {
            "gridcolor": "#506784",
            "linecolor": "#506784",
            "ticks": ""
           }
          },
          "title": {
           "x": 0.05
          },
          "updatemenudefaults": {
           "bgcolor": "#506784",
           "borderwidth": 0
          },
          "width": 600,
          "xaxis": {
           "automargin": true,
           "gridcolor": "#283442",
           "linecolor": "#506784",
           "ticks": "",
           "title": {
            "standoff": 15
           },
           "zerolinecolor": "#283442",
           "zerolinewidth": 2
          },
          "yaxis": {
           "automargin": true,
           "gridcolor": "#283442",
           "linecolor": "#506784",
           "ticks": "",
           "title": {
            "standoff": 15
           },
           "zerolinecolor": "#283442",
           "zerolinewidth": 2
          }
         }
        }
       }
      }
     },
     "metadata": {},
     "output_type": "display_data"
    },
    {
     "name": "stdout",
     "output_type": "stream",
     "text": [
      "final loss:\n",
      "   train: 0.0104   val : 0.0897\n"
     ]
    }
   ],
   "source": [
    "from timeit import default_timer\n",
    "\n",
    "from tqdm import tqdm\n",
    "\n",
    "reload(models_torch)\n",
    "\n",
    "epochs = 2000\n",
    "train_time = 5\n",
    "\n",
    "print(\"vocab lengths\", len(vocab), len(tag_vocab))\n",
    "tag_weights = class_weights(tag_counts, tag_vocab, 10.0)\n",
    "\n",
    "constructor_params = {\n",
    "    \"token_vocab_size\": len(vocab),\n",
    "    \"label_vocab_size\": len(tag_vocab),\n",
    "    \"embedding_dim\": 16,\n",
    "    \"hidden_dim\": 100,\n",
    "    \"n_lstm_layers\": 2,\n",
    "    \"dropout_lstm\": 0.7,\n",
    "    \"bidi\": True,\n",
    "}\n",
    "\n",
    "# Model with default params\n",
    "model = models_torch.LSTMTagger(**constructor_params).to(dev)\n",
    "\n",
    "loss_function = torch.nn.CrossEntropyLoss(weight=tag_weights).to(dev)\n",
    "\n",
    "optimizer = torch.optim.Adam(model.parameters(), lr=0.025)\n",
    "\n",
    "lr_s = torch.optim.lr_scheduler.ExponentialLR(optimizer, gamma=0.99)\n",
    "\n",
    "# Training loop\n",
    "\n",
    "losses_train = []\n",
    "losses_val = []\n",
    "\n",
    "t_start = default_timer()\n",
    "for epoch in tqdm(range(epochs)):\n",
    "    # TRAINING\n",
    "    train_loss = models_torch.run_epoch(model, train_loader, loss_function, optimizer)\n",
    "    losses_train.append(train_loss)\n",
    "\n",
    "    # VALIDATION\n",
    "    with torch.no_grad():\n",
    "        val_loss = models_torch.run_epoch(model, val_loader, loss_function)\n",
    "        losses_val.append(val_loss)\n",
    "\n",
    "    lr_s.step()\n",
    "    # print(lr_s.get_last_lr())\n",
    "    # print(f\"Epoch {epoch+1}/{epochs}, Loss: {loss.item():.4f}\")\n",
    "\n",
    "    if train_time is not None and default_timer() > t_start + train_time:\n",
    "        break\n",
    "plotting.scatter(y=[losses_train, losses_val]).show()\n",
    "\n",
    "print(\n",
    "    \"final loss:\\n\", f\"  train: {losses_train[-1]:.4f}\", f\"  val : {losses_val[-1]:.4f}\"\n",
    ")\n"
   ]
  },
  {
   "cell_type": "code",
   "execution_count": 10,
   "metadata": {},
   "outputs": [],
   "source": [
    "# save model\n",
    "\n",
    "\n",
    "# save metadata\n",
    "metadata = {\n",
    "    \"vocab\": vocab,\n",
    "    \"tag_vocab\": tag_vocab,\n",
    "    \"tag_map\": tag_map,\n",
    "    \"constructor_params\": constructor_params,\n",
    "}\n",
    "torch.save(model.state_dict(), \"../models/MODEL_state.pth\")\n",
    "with open(\"../models/MODEL_meta.json\", \"w\") as f:\n",
    "    json.dump(metadata, f)"
   ]
  },
  {
   "cell_type": "markdown",
   "metadata": {},
   "source": [
    "## evaluate\n"
   ]
  },
  {
   "cell_type": "code",
   "execution_count": 11,
   "metadata": {},
   "outputs": [
    {
     "name": "stdout",
     "output_type": "stream",
     "text": [
      "1743 1743\n",
      "accuracy 0.9483648881239243\n",
      "F1_macro 0.8407378377918766\n"
     ]
    },
    {
     "data": {
      "application/vnd.plotly.v1+json": {
       "config": {
        "plotlyServerURL": "https://plot.ly"
       },
       "data": [
        {
         "text": [
          [
           0,
           0,
           0,
           0,
           0,
           0,
           0,
           0,
           0,
           0,
           0,
           0,
           0,
           0,
           0,
           0,
           0,
           0,
           0,
           0,
           0,
           0,
           0,
           0,
           0,
           0,
           0,
           0,
           0,
           0,
           0,
           0,
           0,
           0,
           0,
           0,
           0
          ],
          [
           0,
           0,
           0,
           0,
           0,
           0,
           0,
           0,
           0,
           0,
           0,
           0,
           0,
           0,
           0,
           0,
           0,
           0,
           0,
           0,
           0,
           0,
           0,
           0,
           0,
           0,
           0,
           0,
           0,
           0,
           0,
           0,
           0,
           0,
           0,
           0,
           0
          ],
          [
           0,
           0,
           378,
           0,
           0,
           0,
           1,
           0,
           0,
           0,
           0,
           0,
           0,
           0,
           0,
           0,
           0,
           0,
           0,
           0,
           0,
           0,
           0,
           0,
           0,
           0,
           0,
           0,
           0,
           0,
           0,
           0,
           0,
           0,
           0,
           0,
           0
          ],
          [
           0,
           0,
           0,
           149,
           0,
           0,
           0,
           0,
           0,
           0,
           0,
           0,
           6,
           0,
           0,
           0,
           0,
           1,
           6,
           0,
           0,
           0,
           0,
           0,
           0,
           2,
           0,
           0,
           0,
           0,
           0,
           0,
           0,
           0,
           0,
           0,
           0
          ],
          [
           0,
           0,
           0,
           0,
           127,
           0,
           0,
           0,
           0,
           0,
           0,
           0,
           0,
           0,
           0,
           0,
           0,
           0,
           0,
           0,
           0,
           0,
           0,
           0,
           0,
           0,
           0,
           0,
           0,
           0,
           0,
           0,
           0,
           0,
           0,
           0,
           0
          ],
          [
           0,
           0,
           0,
           0,
           0,
           127,
           0,
           0,
           0,
           0,
           0,
           0,
           0,
           0,
           0,
           0,
           0,
           0,
           0,
           0,
           0,
           0,
           0,
           0,
           0,
           0,
           0,
           0,
           0,
           0,
           0,
           0,
           0,
           0,
           0,
           0,
           0
          ],
          [
           0,
           0,
           0,
           0,
           0,
           0,
           151,
           0,
           0,
           0,
           0,
           0,
           0,
           0,
           0,
           0,
           0,
           0,
           0,
           0,
           0,
           0,
           0,
           0,
           0,
           0,
           0,
           0,
           0,
           0,
           0,
           0,
           0,
           0,
           0,
           0,
           0
          ],
          [
           0,
           0,
           0,
           0,
           0,
           0,
           0,
           98,
           0,
           0,
           0,
           0,
           0,
           0,
           0,
           0,
           0,
           0,
           0,
           0,
           0,
           0,
           0,
           0,
           0,
           0,
           0,
           0,
           0,
           0,
           0,
           0,
           0,
           0,
           0,
           0,
           0
          ],
          [
           0,
           0,
           0,
           0,
           0,
           0,
           0,
           0,
           80,
           0,
           0,
           0,
           0,
           0,
           0,
           0,
           0,
           0,
           0,
           0,
           0,
           0,
           0,
           0,
           0,
           0,
           0,
           0,
           0,
           0,
           0,
           0,
           0,
           0,
           0,
           0,
           0
          ],
          [
           0,
           0,
           0,
           0,
           0,
           0,
           0,
           0,
           0,
           77,
           0,
           0,
           0,
           0,
           0,
           0,
           0,
           0,
           0,
           0,
           0,
           0,
           0,
           0,
           0,
           0,
           0,
           0,
           0,
           0,
           0,
           0,
           0,
           0,
           0,
           0,
           0
          ],
          [
           0,
           0,
           0,
           1,
           0,
           0,
           0,
           0,
           0,
           0,
           74,
           0,
           0,
           0,
           0,
           0,
           0,
           1,
           0,
           0,
           0,
           0,
           0,
           0,
           0,
           0,
           0,
           0,
           0,
           0,
           0,
           0,
           0,
           0,
           0,
           0,
           0
          ],
          [
           0,
           0,
           0,
           0,
           0,
           0,
           0,
           0,
           0,
           0,
           0,
           65,
           0,
           0,
           0,
           0,
           0,
           0,
           0,
           0,
           0,
           0,
           0,
           0,
           3,
           0,
           0,
           0,
           0,
           0,
           0,
           0,
           0,
           0,
           0,
           0,
           0
          ],
          [
           0,
           0,
           0,
           4,
           0,
           0,
           0,
           0,
           0,
           0,
           0,
           0,
           40,
           0,
           0,
           0,
           0,
           9,
           1,
           0,
           0,
           0,
           0,
           0,
           0,
           0,
           0,
           0,
           0,
           0,
           0,
           0,
           0,
           0,
           0,
           0,
           0
          ],
          [
           0,
           0,
           0,
           0,
           0,
           0,
           0,
           0,
           0,
           0,
           0,
           0,
           2,
           29,
           0,
           0,
           0,
           2,
           0,
           1,
           0,
           0,
           0,
           0,
           0,
           0,
           0,
           0,
           0,
           0,
           0,
           0,
           0,
           0,
           0,
           0,
           0
          ],
          [
           0,
           0,
           0,
           0,
           0,
           0,
           0,
           0,
           0,
           0,
           0,
           0,
           0,
           0,
           34,
           0,
           0,
           0,
           0,
           0,
           0,
           0,
           0,
           0,
           0,
           0,
           0,
           0,
           0,
           0,
           0,
           0,
           0,
           0,
           0,
           0,
           0
          ],
          [
           0,
           0,
           0,
           3,
           0,
           0,
           0,
           0,
           0,
           0,
           0,
           0,
           0,
           0,
           0,
           33,
           0,
           1,
           0,
           0,
           0,
           0,
           0,
           0,
           0,
           0,
           0,
           0,
           0,
           0,
           0,
           0,
           0,
           0,
           0,
           0,
           0
          ],
          [
           0,
           0,
           0,
           2,
           0,
           0,
           0,
           0,
           0,
           0,
           0,
           0,
           1,
           0,
           0,
           0,
           21,
           0,
           0,
           0,
           0,
           0,
           0,
           0,
           0,
           0,
           1,
           0,
           0,
           0,
           0,
           0,
           0,
           0,
           0,
           0,
           0
          ],
          [
           0,
           0,
           0,
           0,
           0,
           0,
           0,
           0,
           0,
           0,
           0,
           0,
           2,
           1,
           0,
           0,
           0,
           9,
           2,
           0,
           0,
           0,
           0,
           0,
           0,
           0,
           0,
           0,
           0,
           0,
           0,
           0,
           0,
           0,
           0,
           0,
           0
          ],
          [
           0,
           0,
           0,
           7,
           0,
           0,
           0,
           0,
           0,
           0,
           0,
           0,
           0,
           0,
           0,
           0,
           0,
           1,
           8,
           0,
           0,
           0,
           0,
           0,
           0,
           0,
           0,
           0,
           0,
           0,
           0,
           0,
           0,
           0,
           0,
           0,
           0
          ],
          [
           0,
           0,
           0,
           0,
           0,
           0,
           0,
           0,
           0,
           0,
           0,
           0,
           1,
           0,
           0,
           0,
           0,
           0,
           0,
           21,
           1,
           0,
           0,
           0,
           0,
           0,
           0,
           0,
           0,
           0,
           0,
           0,
           0,
           0,
           0,
           0,
           0
          ],
          [
           0,
           0,
           0,
           0,
           0,
           0,
           0,
           0,
           0,
           0,
           0,
           0,
           0,
           0,
           0,
           0,
           0,
           0,
           0,
           7,
           14,
           0,
           0,
           0,
           0,
           0,
           0,
           0,
           0,
           0,
           0,
           0,
           0,
           0,
           0,
           0,
           0
          ],
          [
           0,
           0,
           0,
           0,
           0,
           0,
           0,
           0,
           0,
           0,
           0,
           0,
           0,
           0,
           0,
           0,
           0,
           1,
           0,
           0,
           0,
           32,
           0,
           0,
           0,
           0,
           0,
           0,
           0,
           0,
           0,
           0,
           0,
           0,
           0,
           0,
           0
          ],
          [
           0,
           0,
           0,
           0,
           0,
           0,
           0,
           0,
           0,
           0,
           0,
           0,
           0,
           0,
           0,
           0,
           0,
           0,
           0,
           0,
           0,
           0,
           13,
           0,
           0,
           0,
           0,
           0,
           0,
           0,
           0,
           0,
           0,
           0,
           0,
           0,
           0
          ],
          [
           0,
           0,
           0,
           0,
           0,
           0,
           0,
           0,
           0,
           0,
           0,
           0,
           0,
           0,
           0,
           0,
           0,
           0,
           0,
           0,
           0,
           0,
           0,
           12,
           0,
           0,
           0,
           0,
           0,
           0,
           0,
           0,
           0,
           0,
           0,
           0,
           0
          ],
          [
           0,
           0,
           0,
           2,
           0,
           0,
           0,
           0,
           0,
           0,
           0,
           0,
           0,
           0,
           0,
           0,
           0,
           0,
           0,
           0,
           0,
           0,
           0,
           0,
           10,
           0,
           0,
           0,
           0,
           0,
           0,
           0,
           0,
           0,
           0,
           0,
           0
          ],
          [
           0,
           0,
           0,
           1,
           0,
           0,
           0,
           0,
           0,
           0,
           0,
           0,
           0,
           0,
           0,
           0,
           0,
           2,
           0,
           0,
           0,
           0,
           0,
           0,
           0,
           5,
           0,
           0,
           0,
           0,
           0,
           0,
           0,
           0,
           0,
           0,
           0
          ],
          [
           0,
           0,
           0,
           0,
           0,
           0,
           0,
           0,
           0,
           0,
           0,
           0,
           1,
           0,
           0,
           0,
           2,
           0,
           0,
           0,
           0,
           0,
           0,
           0,
           0,
           0,
           8,
           0,
           0,
           0,
           0,
           0,
           0,
           0,
           0,
           0,
           0
          ],
          [
           0,
           0,
           0,
           0,
           0,
           0,
           0,
           0,
           0,
           0,
           0,
           0,
           0,
           0,
           0,
           0,
           0,
           0,
           0,
           0,
           0,
           0,
           0,
           0,
           0,
           0,
           0,
           14,
           0,
           0,
           0,
           0,
           0,
           0,
           0,
           0,
           0
          ],
          [
           0,
           0,
           0,
           0,
           0,
           0,
           0,
           0,
           0,
           0,
           0,
           0,
           0,
           0,
           0,
           0,
           0,
           0,
           0,
           0,
           0,
           0,
           0,
           0,
           0,
           1,
           0,
           0,
           5,
           0,
           0,
           0,
           0,
           0,
           0,
           0,
           0
          ],
          [
           0,
           0,
           0,
           0,
           0,
           0,
           0,
           0,
           0,
           0,
           0,
           0,
           0,
           0,
           0,
           0,
           0,
           1,
           0,
           0,
           0,
           0,
           0,
           0,
           0,
           0,
           1,
           0,
           0,
           4,
           0,
           0,
           0,
           0,
           0,
           0,
           0
          ],
          [
           0,
           0,
           0,
           0,
           0,
           0,
           0,
           0,
           0,
           0,
           0,
           1,
           0,
           0,
           0,
           0,
           0,
           0,
           0,
           0,
           0,
           0,
           0,
           0,
           0,
           0,
           0,
           0,
           0,
           0,
           2,
           0,
           0,
           0,
           0,
           0,
           0
          ],
          [
           0,
           0,
           0,
           0,
           0,
           0,
           0,
           0,
           0,
           0,
           0,
           0,
           0,
           0,
           0,
           0,
           0,
           0,
           0,
           0,
           0,
           0,
           0,
           0,
           0,
           0,
           0,
           0,
           0,
           0,
           0,
           8,
           0,
           0,
           0,
           0,
           0
          ],
          [
           0,
           0,
           0,
           1,
           0,
           0,
           0,
           0,
           0,
           0,
           0,
           0,
           0,
           0,
           0,
           0,
           0,
           0,
           0,
           0,
           0,
           0,
           0,
           0,
           1,
           0,
           0,
           0,
           0,
           0,
           0,
           0,
           2,
           0,
           0,
           0,
           0
          ],
          [
           0,
           0,
           0,
           1,
           0,
           0,
           0,
           0,
           0,
           0,
           0,
           0,
           0,
           0,
           0,
           0,
           0,
           0,
           0,
           0,
           0,
           0,
           0,
           0,
           0,
           0,
           0,
           0,
           0,
           0,
           0,
           0,
           0,
           1,
           0,
           0,
           0
          ],
          [
           0,
           0,
           0,
           1,
           0,
           0,
           0,
           0,
           0,
           0,
           0,
           0,
           0,
           0,
           0,
           0,
           0,
           0,
           0,
           0,
           0,
           0,
           0,
           0,
           0,
           0,
           0,
           0,
           0,
           0,
           0,
           0,
           0,
           0,
           2,
           0,
           0
          ],
          [
           0,
           0,
           0,
           3,
           0,
           0,
           0,
           0,
           0,
           0,
           0,
           0,
           0,
           0,
           0,
           0,
           0,
           0,
           0,
           0,
           0,
           0,
           0,
           0,
           0,
           0,
           0,
           0,
           0,
           0,
           0,
           0,
           0,
           0,
           0,
           0,
           0
          ],
          [
           0,
           0,
           0,
           0,
           0,
           0,
           0,
           0,
           0,
           0,
           0,
           0,
           0,
           0,
           0,
           0,
           0,
           0,
           0,
           0,
           0,
           0,
           0,
           0,
           0,
           0,
           0,
           0,
           0,
           0,
           0,
           0,
           0,
           0,
           0,
           0,
           0
          ]
         ],
         "type": "heatmap",
         "x": [
          "<pad>",
          "uk",
          "ws",
          "va",
          "brop",
          "brcl",
          "nl",
          "pu",
          "sy",
          "nu",
          "id",
          "opas",
          "mo",
          "fnfr",
          "st",
          "kwfl",
          "opbi",
          "cl",
          "pa",
          "fnas",
          "fnme",
          "kwim",
          "at",
          "opcm",
          "kwop",
          "kwty",
          "opun",
          "kwva",
          "bo",
          "kwfn",
          "kwmo",
          "cofl",
          "kwio",
          "kwde",
          "li",
          "coil",
          "coml"
         ],
         "y": [
          "<pad>",
          "uk",
          "ws",
          "va",
          "brop",
          "brcl",
          "nl",
          "pu",
          "sy",
          "nu",
          "id",
          "opas",
          "mo",
          "fnfr",
          "st",
          "kwfl",
          "opbi",
          "cl",
          "pa",
          "fnas",
          "fnme",
          "kwim",
          "at",
          "opcm",
          "kwop",
          "kwty",
          "opun",
          "kwva",
          "bo",
          "kwfn",
          "kwmo",
          "cofl",
          "kwio",
          "kwde",
          "li",
          "coil",
          "coml"
         ],
         "z": [
          [
           2.302585092994046,
           2.302585092994046,
           2.302585092994046,
           2.302585092994046,
           2.302585092994046,
           2.302585092994046,
           2.302585092994046,
           2.302585092994046,
           2.302585092994046,
           2.302585092994046,
           2.302585092994046,
           2.302585092994046,
           2.302585092994046,
           2.302585092994046,
           2.302585092994046,
           2.302585092994046,
           2.302585092994046,
           2.302585092994046,
           2.302585092994046,
           2.302585092994046,
           2.302585092994046,
           2.302585092994046,
           2.302585092994046,
           2.302585092994046,
           2.302585092994046,
           2.302585092994046,
           2.302585092994046,
           2.302585092994046,
           2.302585092994046,
           2.302585092994046,
           2.302585092994046,
           2.302585092994046,
           2.302585092994046,
           2.302585092994046,
           2.302585092994046,
           2.302585092994046,
           2.302585092994046
          ],
          [
           2.302585092994046,
           2.302585092994046,
           2.302585092994046,
           2.302585092994046,
           2.302585092994046,
           2.302585092994046,
           2.302585092994046,
           2.302585092994046,
           2.302585092994046,
           2.302585092994046,
           2.302585092994046,
           2.302585092994046,
           2.302585092994046,
           2.302585092994046,
           2.302585092994046,
           2.302585092994046,
           2.302585092994046,
           2.302585092994046,
           2.302585092994046,
           2.302585092994046,
           2.302585092994046,
           2.302585092994046,
           2.302585092994046,
           2.302585092994046,
           2.302585092994046,
           2.302585092994046,
           2.302585092994046,
           2.302585092994046,
           2.302585092994046,
           2.302585092994046,
           2.302585092994046,
           2.302585092994046,
           2.302585092994046,
           2.302585092994046,
           2.302585092994046,
           2.302585092994046,
           2.302585092994046
          ],
          [
           2.302585092994046,
           2.302585092994046,
           5.961005339623274,
           2.302585092994046,
           2.302585092994046,
           2.302585092994046,
           2.3978952727983707,
           2.302585092994046,
           2.302585092994046,
           2.302585092994046,
           2.302585092994046,
           2.302585092994046,
           2.302585092994046,
           2.302585092994046,
           2.302585092994046,
           2.302585092994046,
           2.302585092994046,
           2.302585092994046,
           2.302585092994046,
           2.302585092994046,
           2.302585092994046,
           2.302585092994046,
           2.302585092994046,
           2.302585092994046,
           2.302585092994046,
           2.302585092994046,
           2.302585092994046,
           2.302585092994046,
           2.302585092994046,
           2.302585092994046,
           2.302585092994046,
           2.302585092994046,
           2.302585092994046,
           2.302585092994046,
           2.302585092994046,
           2.302585092994046,
           2.302585092994046
          ],
          [
           2.302585092994046,
           2.302585092994046,
           2.302585092994046,
           5.0689042022202315,
           2.302585092994046,
           2.302585092994046,
           2.302585092994046,
           2.302585092994046,
           2.302585092994046,
           2.302585092994046,
           2.302585092994046,
           2.302585092994046,
           2.772588722239781,
           2.302585092994046,
           2.302585092994046,
           2.302585092994046,
           2.302585092994046,
           2.3978952727983707,
           2.772588722239781,
           2.302585092994046,
           2.302585092994046,
           2.302585092994046,
           2.302585092994046,
           2.302585092994046,
           2.302585092994046,
           2.4849066497880004,
           2.302585092994046,
           2.302585092994046,
           2.302585092994046,
           2.302585092994046,
           2.302585092994046,
           2.302585092994046,
           2.302585092994046,
           2.302585092994046,
           2.302585092994046,
           2.302585092994046,
           2.302585092994046
          ],
          [
           2.302585092994046,
           2.302585092994046,
           2.302585092994046,
           2.302585092994046,
           4.919980925828125,
           2.302585092994046,
           2.302585092994046,
           2.302585092994046,
           2.302585092994046,
           2.302585092994046,
           2.302585092994046,
           2.302585092994046,
           2.302585092994046,
           2.302585092994046,
           2.302585092994046,
           2.302585092994046,
           2.302585092994046,
           2.302585092994046,
           2.302585092994046,
           2.302585092994046,
           2.302585092994046,
           2.302585092994046,
           2.302585092994046,
           2.302585092994046,
           2.302585092994046,
           2.302585092994046,
           2.302585092994046,
           2.302585092994046,
           2.302585092994046,
           2.302585092994046,
           2.302585092994046,
           2.302585092994046,
           2.302585092994046,
           2.302585092994046,
           2.302585092994046,
           2.302585092994046,
           2.302585092994046
          ],
          [
           2.302585092994046,
           2.302585092994046,
           2.302585092994046,
           2.302585092994046,
           2.302585092994046,
           4.919980925828125,
           2.302585092994046,
           2.302585092994046,
           2.302585092994046,
           2.302585092994046,
           2.302585092994046,
           2.302585092994046,
           2.302585092994046,
           2.302585092994046,
           2.302585092994046,
           2.302585092994046,
           2.302585092994046,
           2.302585092994046,
           2.302585092994046,
           2.302585092994046,
           2.302585092994046,
           2.302585092994046,
           2.302585092994046,
           2.302585092994046,
           2.302585092994046,
           2.302585092994046,
           2.302585092994046,
           2.302585092994046,
           2.302585092994046,
           2.302585092994046,
           2.302585092994046,
           2.302585092994046,
           2.302585092994046,
           2.302585092994046,
           2.302585092994046,
           2.302585092994046,
           2.302585092994046
          ],
          [
           2.302585092994046,
           2.302585092994046,
           2.302585092994046,
           2.302585092994046,
           2.302585092994046,
           2.302585092994046,
           5.081404364984463,
           2.302585092994046,
           2.302585092994046,
           2.302585092994046,
           2.302585092994046,
           2.302585092994046,
           2.302585092994046,
           2.302585092994046,
           2.302585092994046,
           2.302585092994046,
           2.302585092994046,
           2.302585092994046,
           2.302585092994046,
           2.302585092994046,
           2.302585092994046,
           2.302585092994046,
           2.302585092994046,
           2.302585092994046,
           2.302585092994046,
           2.302585092994046,
           2.302585092994046,
           2.302585092994046,
           2.302585092994046,
           2.302585092994046,
           2.302585092994046,
           2.302585092994046,
           2.302585092994046,
           2.302585092994046,
           2.302585092994046,
           2.302585092994046,
           2.302585092994046
          ],
          [
           2.302585092994046,
           2.302585092994046,
           2.302585092994046,
           2.302585092994046,
           2.302585092994046,
           2.302585092994046,
           2.302585092994046,
           4.68213122712422,
           2.302585092994046,
           2.302585092994046,
           2.302585092994046,
           2.302585092994046,
           2.302585092994046,
           2.302585092994046,
           2.302585092994046,
           2.302585092994046,
           2.302585092994046,
           2.302585092994046,
           2.302585092994046,
           2.302585092994046,
           2.302585092994046,
           2.302585092994046,
           2.302585092994046,
           2.302585092994046,
           2.302585092994046,
           2.302585092994046,
           2.302585092994046,
           2.302585092994046,
           2.302585092994046,
           2.302585092994046,
           2.302585092994046,
           2.302585092994046,
           2.302585092994046,
           2.302585092994046,
           2.302585092994046,
           2.302585092994046,
           2.302585092994046
          ],
          [
           2.302585092994046,
           2.302585092994046,
           2.302585092994046,
           2.302585092994046,
           2.302585092994046,
           2.302585092994046,
           2.302585092994046,
           2.302585092994046,
           4.499809670330265,
           2.302585092994046,
           2.302585092994046,
           2.302585092994046,
           2.302585092994046,
           2.302585092994046,
           2.302585092994046,
           2.302585092994046,
           2.302585092994046,
           2.302585092994046,
           2.302585092994046,
           2.302585092994046,
           2.302585092994046,
           2.302585092994046,
           2.302585092994046,
           2.302585092994046,
           2.302585092994046,
           2.302585092994046,
           2.302585092994046,
           2.302585092994046,
           2.302585092994046,
           2.302585092994046,
           2.302585092994046,
           2.302585092994046,
           2.302585092994046,
           2.302585092994046,
           2.302585092994046,
           2.302585092994046,
           2.302585092994046
          ],
          [
           2.302585092994046,
           2.302585092994046,
           2.302585092994046,
           2.302585092994046,
           2.302585092994046,
           2.302585092994046,
           2.302585092994046,
           2.302585092994046,
           2.302585092994046,
           4.465908118654584,
           2.302585092994046,
           2.302585092994046,
           2.302585092994046,
           2.302585092994046,
           2.302585092994046,
           2.302585092994046,
           2.302585092994046,
           2.302585092994046,
           2.302585092994046,
           2.302585092994046,
           2.302585092994046,
           2.302585092994046,
           2.302585092994046,
           2.302585092994046,
           2.302585092994046,
           2.302585092994046,
           2.302585092994046,
           2.302585092994046,
           2.302585092994046,
           2.302585092994046,
           2.302585092994046,
           2.302585092994046,
           2.302585092994046,
           2.302585092994046,
           2.302585092994046,
           2.302585092994046,
           2.302585092994046
          ],
          [
           2.302585092994046,
           2.302585092994046,
           2.302585092994046,
           2.3978952727983707,
           2.302585092994046,
           2.302585092994046,
           2.302585092994046,
           2.302585092994046,
           2.302585092994046,
           2.302585092994046,
           4.430816798843313,
           2.302585092994046,
           2.302585092994046,
           2.302585092994046,
           2.302585092994046,
           2.302585092994046,
           2.302585092994046,
           2.3978952727983707,
           2.302585092994046,
           2.302585092994046,
           2.302585092994046,
           2.302585092994046,
           2.302585092994046,
           2.302585092994046,
           2.302585092994046,
           2.302585092994046,
           2.302585092994046,
           2.302585092994046,
           2.302585092994046,
           2.302585092994046,
           2.302585092994046,
           2.302585092994046,
           2.302585092994046,
           2.302585092994046,
           2.302585092994046,
           2.302585092994046,
           2.302585092994046
          ],
          [
           2.302585092994046,
           2.302585092994046,
           2.302585092994046,
           2.302585092994046,
           2.302585092994046,
           2.302585092994046,
           2.302585092994046,
           2.302585092994046,
           2.302585092994046,
           2.302585092994046,
           2.302585092994046,
           4.31748811353631,
           2.302585092994046,
           2.302585092994046,
           2.302585092994046,
           2.302585092994046,
           2.302585092994046,
           2.302585092994046,
           2.302585092994046,
           2.302585092994046,
           2.302585092994046,
           2.302585092994046,
           2.302585092994046,
           2.302585092994046,
           2.5649493574615367,
           2.302585092994046,
           2.302585092994046,
           2.302585092994046,
           2.302585092994046,
           2.302585092994046,
           2.302585092994046,
           2.302585092994046,
           2.302585092994046,
           2.302585092994046,
           2.302585092994046,
           2.302585092994046,
           2.302585092994046
          ],
          [
           2.302585092994046,
           2.302585092994046,
           2.302585092994046,
           2.6390573296152584,
           2.302585092994046,
           2.302585092994046,
           2.302585092994046,
           2.302585092994046,
           2.302585092994046,
           2.302585092994046,
           2.302585092994046,
           2.302585092994046,
           3.912023005428146,
           2.302585092994046,
           2.302585092994046,
           2.302585092994046,
           2.302585092994046,
           2.9444389791664403,
           2.3978952727983707,
           2.302585092994046,
           2.302585092994046,
           2.302585092994046,
           2.302585092994046,
           2.302585092994046,
           2.302585092994046,
           2.302585092994046,
           2.302585092994046,
           2.302585092994046,
           2.302585092994046,
           2.302585092994046,
           2.302585092994046,
           2.302585092994046,
           2.302585092994046,
           2.302585092994046,
           2.302585092994046,
           2.302585092994046,
           2.302585092994046
          ],
          [
           2.302585092994046,
           2.302585092994046,
           2.302585092994046,
           2.302585092994046,
           2.302585092994046,
           2.302585092994046,
           2.302585092994046,
           2.302585092994046,
           2.302585092994046,
           2.302585092994046,
           2.302585092994046,
           2.302585092994046,
           2.4849066497880004,
           3.6635616461296463,
           2.302585092994046,
           2.302585092994046,
           2.302585092994046,
           2.4849066497880004,
           2.302585092994046,
           2.3978952727983707,
           2.302585092994046,
           2.302585092994046,
           2.302585092994046,
           2.302585092994046,
           2.302585092994046,
           2.302585092994046,
           2.302585092994046,
           2.302585092994046,
           2.302585092994046,
           2.302585092994046,
           2.302585092994046,
           2.302585092994046,
           2.302585092994046,
           2.302585092994046,
           2.302585092994046,
           2.302585092994046,
           2.302585092994046
          ],
          [
           2.302585092994046,
           2.302585092994046,
           2.302585092994046,
           2.302585092994046,
           2.302585092994046,
           2.302585092994046,
           2.302585092994046,
           2.302585092994046,
           2.302585092994046,
           2.302585092994046,
           2.302585092994046,
           2.302585092994046,
           2.302585092994046,
           2.302585092994046,
           3.784189633918261,
           2.302585092994046,
           2.302585092994046,
           2.302585092994046,
           2.302585092994046,
           2.302585092994046,
           2.302585092994046,
           2.302585092994046,
           2.302585092994046,
           2.302585092994046,
           2.302585092994046,
           2.302585092994046,
           2.302585092994046,
           2.302585092994046,
           2.302585092994046,
           2.302585092994046,
           2.302585092994046,
           2.302585092994046,
           2.302585092994046,
           2.302585092994046,
           2.302585092994046,
           2.302585092994046,
           2.302585092994046
          ],
          [
           2.302585092994046,
           2.302585092994046,
           2.302585092994046,
           2.5649493574615367,
           2.302585092994046,
           2.302585092994046,
           2.302585092994046,
           2.302585092994046,
           2.302585092994046,
           2.302585092994046,
           2.302585092994046,
           2.302585092994046,
           2.302585092994046,
           2.302585092994046,
           2.302585092994046,
           3.7612001156935624,
           2.302585092994046,
           2.3978952727983707,
           2.302585092994046,
           2.302585092994046,
           2.302585092994046,
           2.302585092994046,
           2.302585092994046,
           2.302585092994046,
           2.302585092994046,
           2.302585092994046,
           2.302585092994046,
           2.302585092994046,
           2.302585092994046,
           2.302585092994046,
           2.302585092994046,
           2.302585092994046,
           2.302585092994046,
           2.302585092994046,
           2.302585092994046,
           2.302585092994046,
           2.302585092994046
          ],
          [
           2.302585092994046,
           2.302585092994046,
           2.302585092994046,
           2.4849066497880004,
           2.302585092994046,
           2.302585092994046,
           2.302585092994046,
           2.302585092994046,
           2.302585092994046,
           2.302585092994046,
           2.302585092994046,
           2.302585092994046,
           2.3978952727983707,
           2.302585092994046,
           2.302585092994046,
           2.302585092994046,
           3.4339872044851463,
           2.302585092994046,
           2.302585092994046,
           2.302585092994046,
           2.302585092994046,
           2.302585092994046,
           2.302585092994046,
           2.302585092994046,
           2.302585092994046,
           2.302585092994046,
           2.3978952727983707,
           2.302585092994046,
           2.302585092994046,
           2.302585092994046,
           2.302585092994046,
           2.302585092994046,
           2.302585092994046,
           2.302585092994046,
           2.302585092994046,
           2.302585092994046,
           2.302585092994046
          ],
          [
           2.302585092994046,
           2.302585092994046,
           2.302585092994046,
           2.302585092994046,
           2.302585092994046,
           2.302585092994046,
           2.302585092994046,
           2.302585092994046,
           2.302585092994046,
           2.302585092994046,
           2.302585092994046,
           2.302585092994046,
           2.4849066497880004,
           2.3978952727983707,
           2.302585092994046,
           2.302585092994046,
           2.302585092994046,
           2.9444389791664403,
           2.4849066497880004,
           2.302585092994046,
           2.302585092994046,
           2.302585092994046,
           2.302585092994046,
           2.302585092994046,
           2.302585092994046,
           2.302585092994046,
           2.302585092994046,
           2.302585092994046,
           2.302585092994046,
           2.302585092994046,
           2.302585092994046,
           2.302585092994046,
           2.302585092994046,
           2.302585092994046,
           2.302585092994046,
           2.302585092994046,
           2.302585092994046
          ],
          [
           2.302585092994046,
           2.302585092994046,
           2.302585092994046,
           2.833213344056216,
           2.302585092994046,
           2.302585092994046,
           2.302585092994046,
           2.302585092994046,
           2.302585092994046,
           2.302585092994046,
           2.302585092994046,
           2.302585092994046,
           2.302585092994046,
           2.302585092994046,
           2.302585092994046,
           2.302585092994046,
           2.302585092994046,
           2.3978952727983707,
           2.8903717578961645,
           2.302585092994046,
           2.302585092994046,
           2.302585092994046,
           2.302585092994046,
           2.302585092994046,
           2.302585092994046,
           2.302585092994046,
           2.302585092994046,
           2.302585092994046,
           2.302585092994046,
           2.302585092994046,
           2.302585092994046,
           2.302585092994046,
           2.302585092994046,
           2.302585092994046,
           2.302585092994046,
           2.302585092994046,
           2.302585092994046
          ],
          [
           2.302585092994046,
           2.302585092994046,
           2.302585092994046,
           2.302585092994046,
           2.302585092994046,
           2.302585092994046,
           2.302585092994046,
           2.302585092994046,
           2.302585092994046,
           2.302585092994046,
           2.302585092994046,
           2.302585092994046,
           2.3978952727983707,
           2.302585092994046,
           2.302585092994046,
           2.302585092994046,
           2.302585092994046,
           2.302585092994046,
           2.302585092994046,
           3.4339872044851463,
           2.3978952727983707,
           2.302585092994046,
           2.302585092994046,
           2.302585092994046,
           2.302585092994046,
           2.302585092994046,
           2.302585092994046,
           2.302585092994046,
           2.302585092994046,
           2.302585092994046,
           2.302585092994046,
           2.302585092994046,
           2.302585092994046,
           2.302585092994046,
           2.302585092994046,
           2.302585092994046,
           2.302585092994046
          ],
          [
           2.302585092994046,
           2.302585092994046,
           2.302585092994046,
           2.302585092994046,
           2.302585092994046,
           2.302585092994046,
           2.302585092994046,
           2.302585092994046,
           2.302585092994046,
           2.302585092994046,
           2.302585092994046,
           2.302585092994046,
           2.302585092994046,
           2.302585092994046,
           2.302585092994046,
           2.302585092994046,
           2.302585092994046,
           2.302585092994046,
           2.302585092994046,
           2.833213344056216,
           3.1780538303479458,
           2.302585092994046,
           2.302585092994046,
           2.302585092994046,
           2.302585092994046,
           2.302585092994046,
           2.302585092994046,
           2.302585092994046,
           2.302585092994046,
           2.302585092994046,
           2.302585092994046,
           2.302585092994046,
           2.302585092994046,
           2.302585092994046,
           2.302585092994046,
           2.302585092994046,
           2.302585092994046
          ],
          [
           2.302585092994046,
           2.302585092994046,
           2.302585092994046,
           2.302585092994046,
           2.302585092994046,
           2.302585092994046,
           2.302585092994046,
           2.302585092994046,
           2.302585092994046,
           2.302585092994046,
           2.302585092994046,
           2.302585092994046,
           2.302585092994046,
           2.302585092994046,
           2.302585092994046,
           2.302585092994046,
           2.302585092994046,
           2.3978952727983707,
           2.302585092994046,
           2.302585092994046,
           2.302585092994046,
           3.7376696182833684,
           2.302585092994046,
           2.302585092994046,
           2.302585092994046,
           2.302585092994046,
           2.302585092994046,
           2.302585092994046,
           2.302585092994046,
           2.302585092994046,
           2.302585092994046,
           2.302585092994046,
           2.302585092994046,
           2.302585092994046,
           2.302585092994046,
           2.302585092994046,
           2.302585092994046
          ],
          [
           2.302585092994046,
           2.302585092994046,
           2.302585092994046,
           2.302585092994046,
           2.302585092994046,
           2.302585092994046,
           2.302585092994046,
           2.302585092994046,
           2.302585092994046,
           2.302585092994046,
           2.302585092994046,
           2.302585092994046,
           2.302585092994046,
           2.302585092994046,
           2.302585092994046,
           2.302585092994046,
           2.302585092994046,
           2.302585092994046,
           2.302585092994046,
           2.302585092994046,
           2.302585092994046,
           2.302585092994046,
           3.1354942159291497,
           2.302585092994046,
           2.302585092994046,
           2.302585092994046,
           2.302585092994046,
           2.302585092994046,
           2.302585092994046,
           2.302585092994046,
           2.302585092994046,
           2.302585092994046,
           2.302585092994046,
           2.302585092994046,
           2.302585092994046,
           2.302585092994046,
           2.302585092994046
          ],
          [
           2.302585092994046,
           2.302585092994046,
           2.302585092994046,
           2.302585092994046,
           2.302585092994046,
           2.302585092994046,
           2.302585092994046,
           2.302585092994046,
           2.302585092994046,
           2.302585092994046,
           2.302585092994046,
           2.302585092994046,
           2.302585092994046,
           2.302585092994046,
           2.302585092994046,
           2.302585092994046,
           2.302585092994046,
           2.302585092994046,
           2.302585092994046,
           2.302585092994046,
           2.302585092994046,
           2.302585092994046,
           2.302585092994046,
           3.091042453358316,
           2.302585092994046,
           2.302585092994046,
           2.302585092994046,
           2.302585092994046,
           2.302585092994046,
           2.302585092994046,
           2.302585092994046,
           2.302585092994046,
           2.302585092994046,
           2.302585092994046,
           2.302585092994046,
           2.302585092994046,
           2.302585092994046
          ],
          [
           2.302585092994046,
           2.302585092994046,
           2.302585092994046,
           2.4849066497880004,
           2.302585092994046,
           2.302585092994046,
           2.302585092994046,
           2.302585092994046,
           2.302585092994046,
           2.302585092994046,
           2.302585092994046,
           2.302585092994046,
           2.302585092994046,
           2.302585092994046,
           2.302585092994046,
           2.302585092994046,
           2.302585092994046,
           2.302585092994046,
           2.302585092994046,
           2.302585092994046,
           2.302585092994046,
           2.302585092994046,
           2.302585092994046,
           2.302585092994046,
           2.995732273553991,
           2.302585092994046,
           2.302585092994046,
           2.302585092994046,
           2.302585092994046,
           2.302585092994046,
           2.302585092994046,
           2.302585092994046,
           2.302585092994046,
           2.302585092994046,
           2.302585092994046,
           2.302585092994046,
           2.302585092994046
          ],
          [
           2.302585092994046,
           2.302585092994046,
           2.302585092994046,
           2.3978952727983707,
           2.302585092994046,
           2.302585092994046,
           2.302585092994046,
           2.302585092994046,
           2.302585092994046,
           2.302585092994046,
           2.302585092994046,
           2.302585092994046,
           2.302585092994046,
           2.302585092994046,
           2.302585092994046,
           2.302585092994046,
           2.302585092994046,
           2.4849066497880004,
           2.302585092994046,
           2.302585092994046,
           2.302585092994046,
           2.302585092994046,
           2.302585092994046,
           2.302585092994046,
           2.302585092994046,
           2.70805020110221,
           2.302585092994046,
           2.302585092994046,
           2.302585092994046,
           2.302585092994046,
           2.302585092994046,
           2.302585092994046,
           2.302585092994046,
           2.302585092994046,
           2.302585092994046,
           2.302585092994046,
           2.302585092994046
          ],
          [
           2.302585092994046,
           2.302585092994046,
           2.302585092994046,
           2.302585092994046,
           2.302585092994046,
           2.302585092994046,
           2.302585092994046,
           2.302585092994046,
           2.302585092994046,
           2.302585092994046,
           2.302585092994046,
           2.302585092994046,
           2.3978952727983707,
           2.302585092994046,
           2.302585092994046,
           2.302585092994046,
           2.4849066497880004,
           2.302585092994046,
           2.302585092994046,
           2.302585092994046,
           2.302585092994046,
           2.302585092994046,
           2.302585092994046,
           2.302585092994046,
           2.302585092994046,
           2.302585092994046,
           2.8903717578961645,
           2.302585092994046,
           2.302585092994046,
           2.302585092994046,
           2.302585092994046,
           2.302585092994046,
           2.302585092994046,
           2.302585092994046,
           2.302585092994046,
           2.302585092994046,
           2.302585092994046
          ],
          [
           2.302585092994046,
           2.302585092994046,
           2.302585092994046,
           2.302585092994046,
           2.302585092994046,
           2.302585092994046,
           2.302585092994046,
           2.302585092994046,
           2.302585092994046,
           2.302585092994046,
           2.302585092994046,
           2.302585092994046,
           2.302585092994046,
           2.302585092994046,
           2.302585092994046,
           2.302585092994046,
           2.302585092994046,
           2.302585092994046,
           2.302585092994046,
           2.302585092994046,
           2.302585092994046,
           2.302585092994046,
           2.302585092994046,
           2.302585092994046,
           2.302585092994046,
           2.302585092994046,
           2.302585092994046,
           3.1780538303479458,
           2.302585092994046,
           2.302585092994046,
           2.302585092994046,
           2.302585092994046,
           2.302585092994046,
           2.302585092994046,
           2.302585092994046,
           2.302585092994046,
           2.302585092994046
          ],
          [
           2.302585092994046,
           2.302585092994046,
           2.302585092994046,
           2.302585092994046,
           2.302585092994046,
           2.302585092994046,
           2.302585092994046,
           2.302585092994046,
           2.302585092994046,
           2.302585092994046,
           2.302585092994046,
           2.302585092994046,
           2.302585092994046,
           2.302585092994046,
           2.302585092994046,
           2.302585092994046,
           2.302585092994046,
           2.302585092994046,
           2.302585092994046,
           2.302585092994046,
           2.302585092994046,
           2.302585092994046,
           2.302585092994046,
           2.302585092994046,
           2.302585092994046,
           2.3978952727983707,
           2.302585092994046,
           2.302585092994046,
           2.70805020110221,
           2.302585092994046,
           2.302585092994046,
           2.302585092994046,
           2.302585092994046,
           2.302585092994046,
           2.302585092994046,
           2.302585092994046,
           2.302585092994046
          ],
          [
           2.302585092994046,
           2.302585092994046,
           2.302585092994046,
           2.302585092994046,
           2.302585092994046,
           2.302585092994046,
           2.302585092994046,
           2.302585092994046,
           2.302585092994046,
           2.302585092994046,
           2.302585092994046,
           2.302585092994046,
           2.302585092994046,
           2.302585092994046,
           2.302585092994046,
           2.302585092994046,
           2.302585092994046,
           2.3978952727983707,
           2.302585092994046,
           2.302585092994046,
           2.302585092994046,
           2.302585092994046,
           2.302585092994046,
           2.302585092994046,
           2.302585092994046,
           2.302585092994046,
           2.3978952727983707,
           2.302585092994046,
           2.302585092994046,
           2.6390573296152584,
           2.302585092994046,
           2.302585092994046,
           2.302585092994046,
           2.302585092994046,
           2.302585092994046,
           2.302585092994046,
           2.302585092994046
          ],
          [
           2.302585092994046,
           2.302585092994046,
           2.302585092994046,
           2.302585092994046,
           2.302585092994046,
           2.302585092994046,
           2.302585092994046,
           2.302585092994046,
           2.302585092994046,
           2.302585092994046,
           2.302585092994046,
           2.3978952727983707,
           2.302585092994046,
           2.302585092994046,
           2.302585092994046,
           2.302585092994046,
           2.302585092994046,
           2.302585092994046,
           2.302585092994046,
           2.302585092994046,
           2.302585092994046,
           2.302585092994046,
           2.302585092994046,
           2.302585092994046,
           2.302585092994046,
           2.302585092994046,
           2.302585092994046,
           2.302585092994046,
           2.302585092994046,
           2.302585092994046,
           2.4849066497880004,
           2.302585092994046,
           2.302585092994046,
           2.302585092994046,
           2.302585092994046,
           2.302585092994046,
           2.302585092994046
          ],
          [
           2.302585092994046,
           2.302585092994046,
           2.302585092994046,
           2.302585092994046,
           2.302585092994046,
           2.302585092994046,
           2.302585092994046,
           2.302585092994046,
           2.302585092994046,
           2.302585092994046,
           2.302585092994046,
           2.302585092994046,
           2.302585092994046,
           2.302585092994046,
           2.302585092994046,
           2.302585092994046,
           2.302585092994046,
           2.302585092994046,
           2.302585092994046,
           2.302585092994046,
           2.302585092994046,
           2.302585092994046,
           2.302585092994046,
           2.302585092994046,
           2.302585092994046,
           2.302585092994046,
           2.302585092994046,
           2.302585092994046,
           2.302585092994046,
           2.302585092994046,
           2.302585092994046,
           2.8903717578961645,
           2.302585092994046,
           2.302585092994046,
           2.302585092994046,
           2.302585092994046,
           2.302585092994046
          ],
          [
           2.302585092994046,
           2.302585092994046,
           2.302585092994046,
           2.3978952727983707,
           2.302585092994046,
           2.302585092994046,
           2.302585092994046,
           2.302585092994046,
           2.302585092994046,
           2.302585092994046,
           2.302585092994046,
           2.302585092994046,
           2.302585092994046,
           2.302585092994046,
           2.302585092994046,
           2.302585092994046,
           2.302585092994046,
           2.302585092994046,
           2.302585092994046,
           2.302585092994046,
           2.302585092994046,
           2.302585092994046,
           2.302585092994046,
           2.302585092994046,
           2.3978952727983707,
           2.302585092994046,
           2.302585092994046,
           2.302585092994046,
           2.302585092994046,
           2.302585092994046,
           2.302585092994046,
           2.302585092994046,
           2.4849066497880004,
           2.302585092994046,
           2.302585092994046,
           2.302585092994046,
           2.302585092994046
          ],
          [
           2.302585092994046,
           2.302585092994046,
           2.302585092994046,
           2.3978952727983707,
           2.302585092994046,
           2.302585092994046,
           2.302585092994046,
           2.302585092994046,
           2.302585092994046,
           2.302585092994046,
           2.302585092994046,
           2.302585092994046,
           2.302585092994046,
           2.302585092994046,
           2.302585092994046,
           2.302585092994046,
           2.302585092994046,
           2.302585092994046,
           2.302585092994046,
           2.302585092994046,
           2.302585092994046,
           2.302585092994046,
           2.302585092994046,
           2.302585092994046,
           2.302585092994046,
           2.302585092994046,
           2.302585092994046,
           2.302585092994046,
           2.302585092994046,
           2.302585092994046,
           2.302585092994046,
           2.302585092994046,
           2.302585092994046,
           2.3978952727983707,
           2.302585092994046,
           2.302585092994046,
           2.302585092994046
          ],
          [
           2.302585092994046,
           2.302585092994046,
           2.302585092994046,
           2.3978952727983707,
           2.302585092994046,
           2.302585092994046,
           2.302585092994046,
           2.302585092994046,
           2.302585092994046,
           2.302585092994046,
           2.302585092994046,
           2.302585092994046,
           2.302585092994046,
           2.302585092994046,
           2.302585092994046,
           2.302585092994046,
           2.302585092994046,
           2.302585092994046,
           2.302585092994046,
           2.302585092994046,
           2.302585092994046,
           2.302585092994046,
           2.302585092994046,
           2.302585092994046,
           2.302585092994046,
           2.302585092994046,
           2.302585092994046,
           2.302585092994046,
           2.302585092994046,
           2.302585092994046,
           2.302585092994046,
           2.302585092994046,
           2.302585092994046,
           2.302585092994046,
           2.4849066497880004,
           2.302585092994046,
           2.302585092994046
          ],
          [
           2.302585092994046,
           2.302585092994046,
           2.302585092994046,
           2.5649493574615367,
           2.302585092994046,
           2.302585092994046,
           2.302585092994046,
           2.302585092994046,
           2.302585092994046,
           2.302585092994046,
           2.302585092994046,
           2.302585092994046,
           2.302585092994046,
           2.302585092994046,
           2.302585092994046,
           2.302585092994046,
           2.302585092994046,
           2.302585092994046,
           2.302585092994046,
           2.302585092994046,
           2.302585092994046,
           2.302585092994046,
           2.302585092994046,
           2.302585092994046,
           2.302585092994046,
           2.302585092994046,
           2.302585092994046,
           2.302585092994046,
           2.302585092994046,
           2.302585092994046,
           2.302585092994046,
           2.302585092994046,
           2.302585092994046,
           2.302585092994046,
           2.302585092994046,
           2.302585092994046,
           2.302585092994046
          ],
          [
           2.302585092994046,
           2.302585092994046,
           2.302585092994046,
           2.302585092994046,
           2.302585092994046,
           2.302585092994046,
           2.302585092994046,
           2.302585092994046,
           2.302585092994046,
           2.302585092994046,
           2.302585092994046,
           2.302585092994046,
           2.302585092994046,
           2.302585092994046,
           2.302585092994046,
           2.302585092994046,
           2.302585092994046,
           2.302585092994046,
           2.302585092994046,
           2.302585092994046,
           2.302585092994046,
           2.302585092994046,
           2.302585092994046,
           2.302585092994046,
           2.302585092994046,
           2.302585092994046,
           2.302585092994046,
           2.302585092994046,
           2.302585092994046,
           2.302585092994046,
           2.302585092994046,
           2.302585092994046,
           2.302585092994046,
           2.302585092994046,
           2.302585092994046,
           2.302585092994046,
           2.302585092994046
          ]
         ]
        }
       ],
       "layout": {
        "height": 400,
        "template": {
         "data": {
          "bar": [
           {
            "error_x": {
             "color": "#f2f5fa"
            },
            "error_y": {
             "color": "#f2f5fa"
            },
            "marker": {
             "line": {
              "color": "rgb(17,17,17)",
              "width": 0.5
             },
             "pattern": {
              "fillmode": "overlay",
              "size": 10,
              "solidity": 0.2
             }
            },
            "type": "bar"
           }
          ],
          "barpolar": [
           {
            "marker": {
             "line": {
              "color": "rgb(17,17,17)",
              "width": 0.5
             },
             "pattern": {
              "fillmode": "overlay",
              "size": 10,
              "solidity": 0.2
             }
            },
            "type": "barpolar"
           }
          ],
          "carpet": [
           {
            "aaxis": {
             "endlinecolor": "#A2B1C6",
             "gridcolor": "#506784",
             "linecolor": "#506784",
             "minorgridcolor": "#506784",
             "startlinecolor": "#A2B1C6"
            },
            "baxis": {
             "endlinecolor": "#A2B1C6",
             "gridcolor": "#506784",
             "linecolor": "#506784",
             "minorgridcolor": "#506784",
             "startlinecolor": "#A2B1C6"
            },
            "type": "carpet"
           }
          ],
          "choropleth": [
           {
            "colorbar": {
             "outlinewidth": 0,
             "ticks": ""
            },
            "type": "choropleth"
           }
          ],
          "contour": [
           {
            "colorbar": {
             "outlinewidth": 0,
             "ticks": ""
            },
            "colorscale": [
             [
              0,
              "#0d0887"
             ],
             [
              0.1111111111111111,
              "#46039f"
             ],
             [
              0.2222222222222222,
              "#7201a8"
             ],
             [
              0.3333333333333333,
              "#9c179e"
             ],
             [
              0.4444444444444444,
              "#bd3786"
             ],
             [
              0.5555555555555556,
              "#d8576b"
             ],
             [
              0.6666666666666666,
              "#ed7953"
             ],
             [
              0.7777777777777778,
              "#fb9f3a"
             ],
             [
              0.8888888888888888,
              "#fdca26"
             ],
             [
              1,
              "#f0f921"
             ]
            ],
            "type": "contour"
           }
          ],
          "contourcarpet": [
           {
            "colorbar": {
             "outlinewidth": 0,
             "ticks": ""
            },
            "type": "contourcarpet"
           }
          ],
          "heatmap": [
           {
            "colorbar": {
             "outlinewidth": 0,
             "ticks": ""
            },
            "colorscale": [
             [
              0,
              "#0d0887"
             ],
             [
              0.1111111111111111,
              "#46039f"
             ],
             [
              0.2222222222222222,
              "#7201a8"
             ],
             [
              0.3333333333333333,
              "#9c179e"
             ],
             [
              0.4444444444444444,
              "#bd3786"
             ],
             [
              0.5555555555555556,
              "#d8576b"
             ],
             [
              0.6666666666666666,
              "#ed7953"
             ],
             [
              0.7777777777777778,
              "#fb9f3a"
             ],
             [
              0.8888888888888888,
              "#fdca26"
             ],
             [
              1,
              "#f0f921"
             ]
            ],
            "type": "heatmap"
           }
          ],
          "heatmapgl": [
           {
            "colorbar": {
             "outlinewidth": 0,
             "ticks": ""
            },
            "colorscale": [
             [
              0,
              "#0d0887"
             ],
             [
              0.1111111111111111,
              "#46039f"
             ],
             [
              0.2222222222222222,
              "#7201a8"
             ],
             [
              0.3333333333333333,
              "#9c179e"
             ],
             [
              0.4444444444444444,
              "#bd3786"
             ],
             [
              0.5555555555555556,
              "#d8576b"
             ],
             [
              0.6666666666666666,
              "#ed7953"
             ],
             [
              0.7777777777777778,
              "#fb9f3a"
             ],
             [
              0.8888888888888888,
              "#fdca26"
             ],
             [
              1,
              "#f0f921"
             ]
            ],
            "type": "heatmapgl"
           }
          ],
          "histogram": [
           {
            "marker": {
             "pattern": {
              "fillmode": "overlay",
              "size": 10,
              "solidity": 0.2
             }
            },
            "type": "histogram"
           }
          ],
          "histogram2d": [
           {
            "colorbar": {
             "outlinewidth": 0,
             "ticks": ""
            },
            "colorscale": [
             [
              0,
              "#0d0887"
             ],
             [
              0.1111111111111111,
              "#46039f"
             ],
             [
              0.2222222222222222,
              "#7201a8"
             ],
             [
              0.3333333333333333,
              "#9c179e"
             ],
             [
              0.4444444444444444,
              "#bd3786"
             ],
             [
              0.5555555555555556,
              "#d8576b"
             ],
             [
              0.6666666666666666,
              "#ed7953"
             ],
             [
              0.7777777777777778,
              "#fb9f3a"
             ],
             [
              0.8888888888888888,
              "#fdca26"
             ],
             [
              1,
              "#f0f921"
             ]
            ],
            "type": "histogram2d"
           }
          ],
          "histogram2dcontour": [
           {
            "colorbar": {
             "outlinewidth": 0,
             "ticks": ""
            },
            "colorscale": [
             [
              0,
              "#0d0887"
             ],
             [
              0.1111111111111111,
              "#46039f"
             ],
             [
              0.2222222222222222,
              "#7201a8"
             ],
             [
              0.3333333333333333,
              "#9c179e"
             ],
             [
              0.4444444444444444,
              "#bd3786"
             ],
             [
              0.5555555555555556,
              "#d8576b"
             ],
             [
              0.6666666666666666,
              "#ed7953"
             ],
             [
              0.7777777777777778,
              "#fb9f3a"
             ],
             [
              0.8888888888888888,
              "#fdca26"
             ],
             [
              1,
              "#f0f921"
             ]
            ],
            "type": "histogram2dcontour"
           }
          ],
          "mesh3d": [
           {
            "colorbar": {
             "outlinewidth": 0,
             "ticks": ""
            },
            "type": "mesh3d"
           }
          ],
          "parcoords": [
           {
            "line": {
             "colorbar": {
              "outlinewidth": 0,
              "ticks": ""
             }
            },
            "type": "parcoords"
           }
          ],
          "pie": [
           {
            "automargin": true,
            "type": "pie"
           }
          ],
          "scatter": [
           {
            "marker": {
             "line": {
              "color": "#283442"
             }
            },
            "type": "scatter"
           }
          ],
          "scatter3d": [
           {
            "line": {
             "colorbar": {
              "outlinewidth": 0,
              "ticks": ""
             }
            },
            "marker": {
             "colorbar": {
              "outlinewidth": 0,
              "ticks": ""
             }
            },
            "type": "scatter3d"
           }
          ],
          "scattercarpet": [
           {
            "marker": {
             "colorbar": {
              "outlinewidth": 0,
              "ticks": ""
             }
            },
            "type": "scattercarpet"
           }
          ],
          "scattergeo": [
           {
            "marker": {
             "colorbar": {
              "outlinewidth": 0,
              "ticks": ""
             }
            },
            "type": "scattergeo"
           }
          ],
          "scattergl": [
           {
            "marker": {
             "line": {
              "color": "#283442"
             }
            },
            "type": "scattergl"
           }
          ],
          "scattermapbox": [
           {
            "marker": {
             "colorbar": {
              "outlinewidth": 0,
              "ticks": ""
             }
            },
            "type": "scattermapbox"
           }
          ],
          "scatterpolar": [
           {
            "marker": {
             "colorbar": {
              "outlinewidth": 0,
              "ticks": ""
             }
            },
            "type": "scatterpolar"
           }
          ],
          "scatterpolargl": [
           {
            "marker": {
             "colorbar": {
              "outlinewidth": 0,
              "ticks": ""
             }
            },
            "type": "scatterpolargl"
           }
          ],
          "scatterternary": [
           {
            "marker": {
             "colorbar": {
              "outlinewidth": 0,
              "ticks": ""
             }
            },
            "type": "scatterternary"
           }
          ],
          "surface": [
           {
            "colorbar": {
             "outlinewidth": 0,
             "ticks": ""
            },
            "colorscale": [
             [
              0,
              "#0d0887"
             ],
             [
              0.1111111111111111,
              "#46039f"
             ],
             [
              0.2222222222222222,
              "#7201a8"
             ],
             [
              0.3333333333333333,
              "#9c179e"
             ],
             [
              0.4444444444444444,
              "#bd3786"
             ],
             [
              0.5555555555555556,
              "#d8576b"
             ],
             [
              0.6666666666666666,
              "#ed7953"
             ],
             [
              0.7777777777777778,
              "#fb9f3a"
             ],
             [
              0.8888888888888888,
              "#fdca26"
             ],
             [
              1,
              "#f0f921"
             ]
            ],
            "type": "surface"
           }
          ],
          "table": [
           {
            "cells": {
             "fill": {
              "color": "#506784"
             },
             "line": {
              "color": "rgb(17,17,17)"
             }
            },
            "header": {
             "fill": {
              "color": "#2a3f5f"
             },
             "line": {
              "color": "rgb(17,17,17)"
             }
            },
            "type": "table"
           }
          ]
         },
         "layout": {
          "annotationdefaults": {
           "arrowcolor": "#f2f5fa",
           "arrowhead": 0,
           "arrowwidth": 1
          },
          "autosize": false,
          "autotypenumbers": "strict",
          "coloraxis": {
           "colorbar": {
            "outlinewidth": 0,
            "ticks": ""
           }
          },
          "colorscale": {
           "diverging": [
            [
             0,
             "#8e0152"
            ],
            [
             0.1,
             "#c51b7d"
            ],
            [
             0.2,
             "#de77ae"
            ],
            [
             0.3,
             "#f1b6da"
            ],
            [
             0.4,
             "#fde0ef"
            ],
            [
             0.5,
             "#f7f7f7"
            ],
            [
             0.6,
             "#e6f5d0"
            ],
            [
             0.7,
             "#b8e186"
            ],
            [
             0.8,
             "#7fbc41"
            ],
            [
             0.9,
             "#4d9221"
            ],
            [
             1,
             "#276419"
            ]
           ],
           "sequential": [
            [
             0,
             "#0d0887"
            ],
            [
             0.1111111111111111,
             "#46039f"
            ],
            [
             0.2222222222222222,
             "#7201a8"
            ],
            [
             0.3333333333333333,
             "#9c179e"
            ],
            [
             0.4444444444444444,
             "#bd3786"
            ],
            [
             0.5555555555555556,
             "#d8576b"
            ],
            [
             0.6666666666666666,
             "#ed7953"
            ],
            [
             0.7777777777777778,
             "#fb9f3a"
            ],
            [
             0.8888888888888888,
             "#fdca26"
            ],
            [
             1,
             "#f0f921"
            ]
           ],
           "sequentialminus": [
            [
             0,
             "#0d0887"
            ],
            [
             0.1111111111111111,
             "#46039f"
            ],
            [
             0.2222222222222222,
             "#7201a8"
            ],
            [
             0.3333333333333333,
             "#9c179e"
            ],
            [
             0.4444444444444444,
             "#bd3786"
            ],
            [
             0.5555555555555556,
             "#d8576b"
            ],
            [
             0.6666666666666666,
             "#ed7953"
            ],
            [
             0.7777777777777778,
             "#fb9f3a"
            ],
            [
             0.8888888888888888,
             "#fdca26"
            ],
            [
             1,
             "#f0f921"
            ]
           ]
          },
          "colorway": [
           "#636efa",
           "#EF553B",
           "#00cc96",
           "#ab63fa",
           "#FFA15A",
           "#19d3f3",
           "#FF6692",
           "#B6E880",
           "#FF97FF",
           "#FECB52"
          ],
          "font": {
           "color": "#f2f5fa"
          },
          "geo": {
           "bgcolor": "rgb(17,17,17)",
           "lakecolor": "rgb(17,17,17)",
           "landcolor": "rgb(17,17,17)",
           "showlakes": true,
           "showland": true,
           "subunitcolor": "#506784"
          },
          "height": 300,
          "hoverlabel": {
           "align": "left"
          },
          "hovermode": "closest",
          "mapbox": {
           "style": "dark"
          },
          "margin": {
           "b": 40,
           "l": 40,
           "r": 40,
           "t": 40
          },
          "paper_bgcolor": "rgba(0,0,0,0)",
          "plot_bgcolor": "rgba(0,0,0,0)",
          "polar": {
           "angularaxis": {
            "gridcolor": "#506784",
            "linecolor": "#506784",
            "ticks": ""
           },
           "bgcolor": "rgb(17,17,17)",
           "radialaxis": {
            "gridcolor": "#506784",
            "linecolor": "#506784",
            "ticks": ""
           }
          },
          "scene": {
           "xaxis": {
            "backgroundcolor": "rgb(17,17,17)",
            "gridcolor": "#506784",
            "gridwidth": 2,
            "linecolor": "#506784",
            "showbackground": true,
            "ticks": "",
            "zerolinecolor": "#C8D4E3"
           },
           "yaxis": {
            "backgroundcolor": "rgb(17,17,17)",
            "gridcolor": "#506784",
            "gridwidth": 2,
            "linecolor": "#506784",
            "showbackground": true,
            "ticks": "",
            "zerolinecolor": "#C8D4E3"
           },
           "zaxis": {
            "backgroundcolor": "rgb(17,17,17)",
            "gridcolor": "#506784",
            "gridwidth": 2,
            "linecolor": "#506784",
            "showbackground": true,
            "ticks": "",
            "zerolinecolor": "#C8D4E3"
           }
          },
          "shapedefaults": {
           "line": {
            "color": "#f2f5fa"
           }
          },
          "sliderdefaults": {
           "bgcolor": "#C8D4E3",
           "bordercolor": "rgb(17,17,17)",
           "borderwidth": 1,
           "tickwidth": 0
          },
          "ternary": {
           "aaxis": {
            "gridcolor": "#506784",
            "linecolor": "#506784",
            "ticks": ""
           },
           "baxis": {
            "gridcolor": "#506784",
            "linecolor": "#506784",
            "ticks": ""
           },
           "bgcolor": "rgb(17,17,17)",
           "caxis": {
            "gridcolor": "#506784",
            "linecolor": "#506784",
            "ticks": ""
           }
          },
          "title": {
           "x": 0.05
          },
          "updatemenudefaults": {
           "bgcolor": "#506784",
           "borderwidth": 0
          },
          "width": 600,
          "xaxis": {
           "automargin": true,
           "gridcolor": "#283442",
           "linecolor": "#506784",
           "ticks": "",
           "title": {
            "standoff": 15
           },
           "zerolinecolor": "#283442",
           "zerolinewidth": 2
          },
          "yaxis": {
           "automargin": true,
           "gridcolor": "#283442",
           "linecolor": "#506784",
           "ticks": "",
           "title": {
            "standoff": 15
           },
           "zerolinecolor": "#283442",
           "zerolinewidth": 2
          }
         }
        },
        "title": {
         "text": "Heatmap: log(count + 10)"
        },
        "width": 480,
        "xaxis": {
         "dtick": 1,
         "title": {
          "text": "prediction"
         },
         "type": "category"
        },
        "yaxis": {
         "dtick": 1,
         "scaleanchor": "x",
         "title": {
          "text": "true"
         },
         "type": "category"
        }
       }
      }
     },
     "metadata": {},
     "output_type": "display_data"
    }
   ],
   "source": [
    "model.eval()\n",
    "with torch.no_grad():\n",
    "    tag_scores = model(val_token_tensors, val_tag_det_tensors)\n",
    "    predictions = torch.argmax(tag_scores, dim=-1)  # Shape: (batch_size, seq_len)\n",
    "\n",
    "pred_tags = []\n",
    "true_tags = []\n",
    "\n",
    "for pred, true_t in zip(predictions, val_tag_true_idx):\n",
    "    true_tags.extend([tag_vocab[t] for t in true_t])\n",
    "    pred_tags.extend([tag_vocab[t] for t in pred[: len(true_t)]])\n",
    "\n",
    "print(len(true_tags), len(pred_tags))\n",
    "\n",
    "acc = metrics.accuracy_score(true_tags, pred_tags)\n",
    "print(\"accuracy\", acc)\n",
    "f1_macro = metrics.f1_score(true_tags, pred_tags, average=\"macro\")\n",
    "print(\"F1_macro\", f1_macro)\n",
    "\n",
    "confmat = metrics.confusion_matrix(true_tags, pred_tags, labels=tag_vocab)\n",
    "\n",
    "dtplot.heatmap(\n",
    "    confmat,\n",
    "    tag_vocab,\n",
    "    log_scale=True,\n",
    "    pseudo_count=10,\n",
    "    size=400,\n",
    ").show()"
   ]
  },
  {
   "cell_type": "markdown",
   "metadata": {},
   "source": [
    "### eval only on non-det\n"
   ]
  },
  {
   "cell_type": "code",
   "execution_count": 12,
   "metadata": {},
   "outputs": [
    {
     "name": "stdout",
     "output_type": "stream",
     "text": [
      "509 509\n",
      "accuracy 0.8467583497053045\n",
      "F1_macro 0.7779950294814507\n"
     ]
    },
    {
     "data": {
      "application/vnd.plotly.v1+json": {
       "config": {
        "plotlyServerURL": "https://plot.ly"
       },
       "data": [
        {
         "text": [
          [
           13,
           0,
           0,
           0,
           0,
           0,
           0,
           0,
           0,
           0,
           0,
           0,
           0,
           0,
           0,
           0,
           0,
           0,
           0,
           0,
           0,
           0,
           0,
           0
          ],
          [
           0,
           5,
           0,
           0,
           0,
           0,
           0,
           0,
           0,
           0,
           0,
           0,
           0,
           1,
           0,
           0,
           0,
           0,
           0,
           0,
           0,
           0,
           0,
           0
          ],
          [
           0,
           0,
           9,
           0,
           1,
           0,
           0,
           0,
           0,
           0,
           0,
           0,
           0,
           0,
           0,
           0,
           2,
           0,
           0,
           0,
           0,
           2,
           0,
           0
          ],
          [
           0,
           0,
           0,
           21,
           0,
           1,
           0,
           0,
           0,
           0,
           0,
           0,
           0,
           0,
           0,
           0,
           1,
           0,
           0,
           0,
           0,
           0,
           0,
           0
          ],
          [
           0,
           0,
           2,
           1,
           29,
           0,
           0,
           0,
           0,
           0,
           0,
           0,
           0,
           0,
           0,
           0,
           2,
           0,
           0,
           0,
           0,
           0,
           0,
           0
          ],
          [
           0,
           0,
           0,
           7,
           0,
           14,
           0,
           0,
           0,
           0,
           0,
           0,
           0,
           0,
           0,
           0,
           0,
           0,
           0,
           0,
           0,
           0,
           0,
           0
          ],
          [
           0,
           0,
           0,
           0,
           0,
           0,
           1,
           0,
           0,
           0,
           0,
           0,
           0,
           0,
           0,
           0,
           0,
           0,
           0,
           0,
           0,
           0,
           0,
           1
          ],
          [
           0,
           0,
           1,
           0,
           0,
           0,
           0,
           33,
           0,
           0,
           0,
           0,
           0,
           0,
           0,
           0,
           0,
           0,
           0,
           0,
           0,
           0,
           0,
           3
          ],
          [
           0,
           0,
           1,
           0,
           0,
           0,
           0,
           0,
           4,
           0,
           0,
           0,
           0,
           0,
           0,
           0,
           0,
           0,
           0,
           0,
           1,
           0,
           0,
           0
          ],
          [
           0,
           0,
           1,
           0,
           0,
           0,
           0,
           0,
           0,
           32,
           0,
           0,
           0,
           0,
           0,
           0,
           0,
           0,
           0,
           0,
           0,
           0,
           0,
           0
          ],
          [
           0,
           0,
           0,
           0,
           0,
           0,
           0,
           0,
           0,
           0,
           2,
           0,
           1,
           0,
           0,
           0,
           0,
           0,
           0,
           0,
           0,
           0,
           0,
           1
          ],
          [
           0,
           0,
           0,
           0,
           0,
           0,
           0,
           0,
           0,
           0,
           0,
           2,
           0,
           0,
           0,
           0,
           0,
           1,
           0,
           0,
           0,
           0,
           0,
           0
          ],
          [
           0,
           0,
           0,
           0,
           0,
           0,
           0,
           0,
           0,
           0,
           0,
           0,
           10,
           0,
           0,
           0,
           0,
           0,
           0,
           0,
           0,
           0,
           0,
           2
          ],
          [
           0,
           0,
           2,
           0,
           0,
           0,
           0,
           0,
           0,
           0,
           0,
           0,
           0,
           5,
           0,
           0,
           0,
           0,
           0,
           0,
           0,
           0,
           0,
           1
          ],
          [
           0,
           0,
           0,
           0,
           0,
           0,
           0,
           0,
           0,
           0,
           0,
           0,
           0,
           0,
           14,
           0,
           0,
           0,
           0,
           0,
           0,
           0,
           0,
           0
          ],
          [
           0,
           0,
           0,
           0,
           0,
           0,
           0,
           0,
           0,
           0,
           0,
           0,
           0,
           0,
           0,
           2,
           0,
           0,
           0,
           0,
           0,
           0,
           0,
           1
          ],
          [
           0,
           0,
           9,
           0,
           0,
           0,
           0,
           0,
           0,
           0,
           0,
           0,
           0,
           0,
           0,
           0,
           40,
           0,
           0,
           0,
           0,
           1,
           0,
           4
          ],
          [
           0,
           0,
           0,
           0,
           0,
           0,
           0,
           0,
           0,
           0,
           0,
           0,
           0,
           0,
           0,
           0,
           0,
           0,
           0,
           0,
           0,
           0,
           0,
           0
          ],
          [
           0,
           0,
           0,
           0,
           0,
           0,
           0,
           0,
           0,
           0,
           0,
           0,
           0,
           0,
           0,
           0,
           0,
           0,
           19,
           0,
           1,
           0,
           0,
           0
          ],
          [
           0,
           0,
           0,
           0,
           0,
           0,
           0,
           0,
           0,
           0,
           0,
           0,
           0,
           0,
           0,
           0,
           0,
           0,
           0,
           6,
           0,
           0,
           0,
           0
          ],
          [
           0,
           0,
           0,
           0,
           0,
           0,
           0,
           0,
           0,
           0,
           0,
           0,
           0,
           0,
           0,
           0,
           1,
           0,
           2,
           0,
           4,
           0,
           0,
           0
          ],
          [
           0,
           0,
           1,
           0,
           0,
           0,
           0,
           0,
           0,
           0,
           0,
           0,
           0,
           0,
           0,
           0,
           0,
           0,
           0,
           0,
           0,
           8,
           0,
           7
          ],
          [
           0,
           0,
           0,
           0,
           0,
           0,
           0,
           0,
           0,
           0,
           0,
           0,
           0,
           0,
           0,
           0,
           0,
           0,
           0,
           0,
           0,
           0,
           9,
           0
          ],
          [
           0,
           0,
           1,
           0,
           0,
           0,
           0,
           0,
           0,
           0,
           0,
           0,
           0,
           2,
           0,
           0,
           6,
           0,
           0,
           0,
           0,
           6,
           0,
           149
          ]
         ],
         "type": "heatmap",
         "x": [
          "at",
          "bo",
          "cl",
          "fnas",
          "fnfr",
          "fnme",
          "kwde",
          "kwfl",
          "kwfn",
          "kwim",
          "kwio",
          "kwmo",
          "kwop",
          "kwty",
          "kwva",
          "li",
          "mo",
          "opas",
          "opbi",
          "opcm",
          "opun",
          "pa",
          "sy",
          "va"
         ],
         "y": [
          "at",
          "bo",
          "cl",
          "fnas",
          "fnfr",
          "fnme",
          "kwde",
          "kwfl",
          "kwfn",
          "kwim",
          "kwio",
          "kwmo",
          "kwop",
          "kwty",
          "kwva",
          "li",
          "mo",
          "opas",
          "opbi",
          "opcm",
          "opun",
          "pa",
          "sy",
          "va"
         ],
         "z": [
          [
           3.1354942159291497,
           2.302585092994046,
           2.302585092994046,
           2.302585092994046,
           2.302585092994046,
           2.302585092994046,
           2.302585092994046,
           2.302585092994046,
           2.302585092994046,
           2.302585092994046,
           2.302585092994046,
           2.302585092994046,
           2.302585092994046,
           2.302585092994046,
           2.302585092994046,
           2.302585092994046,
           2.302585092994046,
           2.302585092994046,
           2.302585092994046,
           2.302585092994046,
           2.302585092994046,
           2.302585092994046,
           2.302585092994046,
           2.302585092994046
          ],
          [
           2.302585092994046,
           2.70805020110221,
           2.302585092994046,
           2.302585092994046,
           2.302585092994046,
           2.302585092994046,
           2.302585092994046,
           2.302585092994046,
           2.302585092994046,
           2.302585092994046,
           2.302585092994046,
           2.302585092994046,
           2.302585092994046,
           2.3978952727983707,
           2.302585092994046,
           2.302585092994046,
           2.302585092994046,
           2.302585092994046,
           2.302585092994046,
           2.302585092994046,
           2.302585092994046,
           2.302585092994046,
           2.302585092994046,
           2.302585092994046
          ],
          [
           2.302585092994046,
           2.302585092994046,
           2.9444389791664403,
           2.302585092994046,
           2.3978952727983707,
           2.302585092994046,
           2.302585092994046,
           2.302585092994046,
           2.302585092994046,
           2.302585092994046,
           2.302585092994046,
           2.302585092994046,
           2.302585092994046,
           2.302585092994046,
           2.302585092994046,
           2.302585092994046,
           2.4849066497880004,
           2.302585092994046,
           2.302585092994046,
           2.302585092994046,
           2.302585092994046,
           2.4849066497880004,
           2.302585092994046,
           2.302585092994046
          ],
          [
           2.302585092994046,
           2.302585092994046,
           2.302585092994046,
           3.4339872044851463,
           2.302585092994046,
           2.3978952727983707,
           2.302585092994046,
           2.302585092994046,
           2.302585092994046,
           2.302585092994046,
           2.302585092994046,
           2.302585092994046,
           2.302585092994046,
           2.302585092994046,
           2.302585092994046,
           2.302585092994046,
           2.3978952727983707,
           2.302585092994046,
           2.302585092994046,
           2.302585092994046,
           2.302585092994046,
           2.302585092994046,
           2.302585092994046,
           2.302585092994046
          ],
          [
           2.302585092994046,
           2.302585092994046,
           2.4849066497880004,
           2.3978952727983707,
           3.6635616461296463,
           2.302585092994046,
           2.302585092994046,
           2.302585092994046,
           2.302585092994046,
           2.302585092994046,
           2.302585092994046,
           2.302585092994046,
           2.302585092994046,
           2.302585092994046,
           2.302585092994046,
           2.302585092994046,
           2.4849066497880004,
           2.302585092994046,
           2.302585092994046,
           2.302585092994046,
           2.302585092994046,
           2.302585092994046,
           2.302585092994046,
           2.302585092994046
          ],
          [
           2.302585092994046,
           2.302585092994046,
           2.302585092994046,
           2.833213344056216,
           2.302585092994046,
           3.1780538303479458,
           2.302585092994046,
           2.302585092994046,
           2.302585092994046,
           2.302585092994046,
           2.302585092994046,
           2.302585092994046,
           2.302585092994046,
           2.302585092994046,
           2.302585092994046,
           2.302585092994046,
           2.302585092994046,
           2.302585092994046,
           2.302585092994046,
           2.302585092994046,
           2.302585092994046,
           2.302585092994046,
           2.302585092994046,
           2.302585092994046
          ],
          [
           2.302585092994046,
           2.302585092994046,
           2.302585092994046,
           2.302585092994046,
           2.302585092994046,
           2.302585092994046,
           2.3978952727983707,
           2.302585092994046,
           2.302585092994046,
           2.302585092994046,
           2.302585092994046,
           2.302585092994046,
           2.302585092994046,
           2.302585092994046,
           2.302585092994046,
           2.302585092994046,
           2.302585092994046,
           2.302585092994046,
           2.302585092994046,
           2.302585092994046,
           2.302585092994046,
           2.302585092994046,
           2.302585092994046,
           2.3978952727983707
          ],
          [
           2.302585092994046,
           2.302585092994046,
           2.3978952727983707,
           2.302585092994046,
           2.302585092994046,
           2.302585092994046,
           2.302585092994046,
           3.7612001156935624,
           2.302585092994046,
           2.302585092994046,
           2.302585092994046,
           2.302585092994046,
           2.302585092994046,
           2.302585092994046,
           2.302585092994046,
           2.302585092994046,
           2.302585092994046,
           2.302585092994046,
           2.302585092994046,
           2.302585092994046,
           2.302585092994046,
           2.302585092994046,
           2.302585092994046,
           2.5649493574615367
          ],
          [
           2.302585092994046,
           2.302585092994046,
           2.3978952727983707,
           2.302585092994046,
           2.302585092994046,
           2.302585092994046,
           2.302585092994046,
           2.302585092994046,
           2.6390573296152584,
           2.302585092994046,
           2.302585092994046,
           2.302585092994046,
           2.302585092994046,
           2.302585092994046,
           2.302585092994046,
           2.302585092994046,
           2.302585092994046,
           2.302585092994046,
           2.302585092994046,
           2.302585092994046,
           2.3978952727983707,
           2.302585092994046,
           2.302585092994046,
           2.302585092994046
          ],
          [
           2.302585092994046,
           2.302585092994046,
           2.3978952727983707,
           2.302585092994046,
           2.302585092994046,
           2.302585092994046,
           2.302585092994046,
           2.302585092994046,
           2.302585092994046,
           3.7376696182833684,
           2.302585092994046,
           2.302585092994046,
           2.302585092994046,
           2.302585092994046,
           2.302585092994046,
           2.302585092994046,
           2.302585092994046,
           2.302585092994046,
           2.302585092994046,
           2.302585092994046,
           2.302585092994046,
           2.302585092994046,
           2.302585092994046,
           2.302585092994046
          ],
          [
           2.302585092994046,
           2.302585092994046,
           2.302585092994046,
           2.302585092994046,
           2.302585092994046,
           2.302585092994046,
           2.302585092994046,
           2.302585092994046,
           2.302585092994046,
           2.302585092994046,
           2.4849066497880004,
           2.302585092994046,
           2.3978952727983707,
           2.302585092994046,
           2.302585092994046,
           2.302585092994046,
           2.302585092994046,
           2.302585092994046,
           2.302585092994046,
           2.302585092994046,
           2.302585092994046,
           2.302585092994046,
           2.302585092994046,
           2.3978952727983707
          ],
          [
           2.302585092994046,
           2.302585092994046,
           2.302585092994046,
           2.302585092994046,
           2.302585092994046,
           2.302585092994046,
           2.302585092994046,
           2.302585092994046,
           2.302585092994046,
           2.302585092994046,
           2.302585092994046,
           2.4849066497880004,
           2.302585092994046,
           2.302585092994046,
           2.302585092994046,
           2.302585092994046,
           2.302585092994046,
           2.3978952727983707,
           2.302585092994046,
           2.302585092994046,
           2.302585092994046,
           2.302585092994046,
           2.302585092994046,
           2.302585092994046
          ],
          [
           2.302585092994046,
           2.302585092994046,
           2.302585092994046,
           2.302585092994046,
           2.302585092994046,
           2.302585092994046,
           2.302585092994046,
           2.302585092994046,
           2.302585092994046,
           2.302585092994046,
           2.302585092994046,
           2.302585092994046,
           2.995732273553991,
           2.302585092994046,
           2.302585092994046,
           2.302585092994046,
           2.302585092994046,
           2.302585092994046,
           2.302585092994046,
           2.302585092994046,
           2.302585092994046,
           2.302585092994046,
           2.302585092994046,
           2.4849066497880004
          ],
          [
           2.302585092994046,
           2.302585092994046,
           2.4849066497880004,
           2.302585092994046,
           2.302585092994046,
           2.302585092994046,
           2.302585092994046,
           2.302585092994046,
           2.302585092994046,
           2.302585092994046,
           2.302585092994046,
           2.302585092994046,
           2.302585092994046,
           2.70805020110221,
           2.302585092994046,
           2.302585092994046,
           2.302585092994046,
           2.302585092994046,
           2.302585092994046,
           2.302585092994046,
           2.302585092994046,
           2.302585092994046,
           2.302585092994046,
           2.3978952727983707
          ],
          [
           2.302585092994046,
           2.302585092994046,
           2.302585092994046,
           2.302585092994046,
           2.302585092994046,
           2.302585092994046,
           2.302585092994046,
           2.302585092994046,
           2.302585092994046,
           2.302585092994046,
           2.302585092994046,
           2.302585092994046,
           2.302585092994046,
           2.302585092994046,
           3.1780538303479458,
           2.302585092994046,
           2.302585092994046,
           2.302585092994046,
           2.302585092994046,
           2.302585092994046,
           2.302585092994046,
           2.302585092994046,
           2.302585092994046,
           2.302585092994046
          ],
          [
           2.302585092994046,
           2.302585092994046,
           2.302585092994046,
           2.302585092994046,
           2.302585092994046,
           2.302585092994046,
           2.302585092994046,
           2.302585092994046,
           2.302585092994046,
           2.302585092994046,
           2.302585092994046,
           2.302585092994046,
           2.302585092994046,
           2.302585092994046,
           2.302585092994046,
           2.4849066497880004,
           2.302585092994046,
           2.302585092994046,
           2.302585092994046,
           2.302585092994046,
           2.302585092994046,
           2.302585092994046,
           2.302585092994046,
           2.3978952727983707
          ],
          [
           2.302585092994046,
           2.302585092994046,
           2.9444389791664403,
           2.302585092994046,
           2.302585092994046,
           2.302585092994046,
           2.302585092994046,
           2.302585092994046,
           2.302585092994046,
           2.302585092994046,
           2.302585092994046,
           2.302585092994046,
           2.302585092994046,
           2.302585092994046,
           2.302585092994046,
           2.302585092994046,
           3.912023005428146,
           2.302585092994046,
           2.302585092994046,
           2.302585092994046,
           2.302585092994046,
           2.3978952727983707,
           2.302585092994046,
           2.6390573296152584
          ],
          [
           2.302585092994046,
           2.302585092994046,
           2.302585092994046,
           2.302585092994046,
           2.302585092994046,
           2.302585092994046,
           2.302585092994046,
           2.302585092994046,
           2.302585092994046,
           2.302585092994046,
           2.302585092994046,
           2.302585092994046,
           2.302585092994046,
           2.302585092994046,
           2.302585092994046,
           2.302585092994046,
           2.302585092994046,
           2.302585092994046,
           2.302585092994046,
           2.302585092994046,
           2.302585092994046,
           2.302585092994046,
           2.302585092994046,
           2.302585092994046
          ],
          [
           2.302585092994046,
           2.302585092994046,
           2.302585092994046,
           2.302585092994046,
           2.302585092994046,
           2.302585092994046,
           2.302585092994046,
           2.302585092994046,
           2.302585092994046,
           2.302585092994046,
           2.302585092994046,
           2.302585092994046,
           2.302585092994046,
           2.302585092994046,
           2.302585092994046,
           2.302585092994046,
           2.302585092994046,
           2.302585092994046,
           3.367295829986474,
           2.302585092994046,
           2.3978952727983707,
           2.302585092994046,
           2.302585092994046,
           2.302585092994046
          ],
          [
           2.302585092994046,
           2.302585092994046,
           2.302585092994046,
           2.302585092994046,
           2.302585092994046,
           2.302585092994046,
           2.302585092994046,
           2.302585092994046,
           2.302585092994046,
           2.302585092994046,
           2.302585092994046,
           2.302585092994046,
           2.302585092994046,
           2.302585092994046,
           2.302585092994046,
           2.302585092994046,
           2.302585092994046,
           2.302585092994046,
           2.302585092994046,
           2.772588722239781,
           2.302585092994046,
           2.302585092994046,
           2.302585092994046,
           2.302585092994046
          ],
          [
           2.302585092994046,
           2.302585092994046,
           2.302585092994046,
           2.302585092994046,
           2.302585092994046,
           2.302585092994046,
           2.302585092994046,
           2.302585092994046,
           2.302585092994046,
           2.302585092994046,
           2.302585092994046,
           2.302585092994046,
           2.302585092994046,
           2.302585092994046,
           2.302585092994046,
           2.302585092994046,
           2.3978952727983707,
           2.302585092994046,
           2.4849066497880004,
           2.302585092994046,
           2.6390573296152584,
           2.302585092994046,
           2.302585092994046,
           2.302585092994046
          ],
          [
           2.302585092994046,
           2.302585092994046,
           2.3978952727983707,
           2.302585092994046,
           2.302585092994046,
           2.302585092994046,
           2.302585092994046,
           2.302585092994046,
           2.302585092994046,
           2.302585092994046,
           2.302585092994046,
           2.302585092994046,
           2.302585092994046,
           2.302585092994046,
           2.302585092994046,
           2.302585092994046,
           2.302585092994046,
           2.302585092994046,
           2.302585092994046,
           2.302585092994046,
           2.302585092994046,
           2.8903717578961645,
           2.302585092994046,
           2.833213344056216
          ],
          [
           2.302585092994046,
           2.302585092994046,
           2.302585092994046,
           2.302585092994046,
           2.302585092994046,
           2.302585092994046,
           2.302585092994046,
           2.302585092994046,
           2.302585092994046,
           2.302585092994046,
           2.302585092994046,
           2.302585092994046,
           2.302585092994046,
           2.302585092994046,
           2.302585092994046,
           2.302585092994046,
           2.302585092994046,
           2.302585092994046,
           2.302585092994046,
           2.302585092994046,
           2.302585092994046,
           2.302585092994046,
           2.9444389791664403,
           2.302585092994046
          ],
          [
           2.302585092994046,
           2.302585092994046,
           2.3978952727983707,
           2.302585092994046,
           2.302585092994046,
           2.302585092994046,
           2.302585092994046,
           2.302585092994046,
           2.302585092994046,
           2.302585092994046,
           2.302585092994046,
           2.302585092994046,
           2.302585092994046,
           2.4849066497880004,
           2.302585092994046,
           2.302585092994046,
           2.772588722239781,
           2.302585092994046,
           2.302585092994046,
           2.302585092994046,
           2.302585092994046,
           2.772588722239781,
           2.302585092994046,
           5.0689042022202315
          ]
         ]
        }
       ],
       "layout": {
        "height": 400,
        "template": {
         "data": {
          "bar": [
           {
            "error_x": {
             "color": "#f2f5fa"
            },
            "error_y": {
             "color": "#f2f5fa"
            },
            "marker": {
             "line": {
              "color": "rgb(17,17,17)",
              "width": 0.5
             },
             "pattern": {
              "fillmode": "overlay",
              "size": 10,
              "solidity": 0.2
             }
            },
            "type": "bar"
           }
          ],
          "barpolar": [
           {
            "marker": {
             "line": {
              "color": "rgb(17,17,17)",
              "width": 0.5
             },
             "pattern": {
              "fillmode": "overlay",
              "size": 10,
              "solidity": 0.2
             }
            },
            "type": "barpolar"
           }
          ],
          "carpet": [
           {
            "aaxis": {
             "endlinecolor": "#A2B1C6",
             "gridcolor": "#506784",
             "linecolor": "#506784",
             "minorgridcolor": "#506784",
             "startlinecolor": "#A2B1C6"
            },
            "baxis": {
             "endlinecolor": "#A2B1C6",
             "gridcolor": "#506784",
             "linecolor": "#506784",
             "minorgridcolor": "#506784",
             "startlinecolor": "#A2B1C6"
            },
            "type": "carpet"
           }
          ],
          "choropleth": [
           {
            "colorbar": {
             "outlinewidth": 0,
             "ticks": ""
            },
            "type": "choropleth"
           }
          ],
          "contour": [
           {
            "colorbar": {
             "outlinewidth": 0,
             "ticks": ""
            },
            "colorscale": [
             [
              0,
              "#0d0887"
             ],
             [
              0.1111111111111111,
              "#46039f"
             ],
             [
              0.2222222222222222,
              "#7201a8"
             ],
             [
              0.3333333333333333,
              "#9c179e"
             ],
             [
              0.4444444444444444,
              "#bd3786"
             ],
             [
              0.5555555555555556,
              "#d8576b"
             ],
             [
              0.6666666666666666,
              "#ed7953"
             ],
             [
              0.7777777777777778,
              "#fb9f3a"
             ],
             [
              0.8888888888888888,
              "#fdca26"
             ],
             [
              1,
              "#f0f921"
             ]
            ],
            "type": "contour"
           }
          ],
          "contourcarpet": [
           {
            "colorbar": {
             "outlinewidth": 0,
             "ticks": ""
            },
            "type": "contourcarpet"
           }
          ],
          "heatmap": [
           {
            "colorbar": {
             "outlinewidth": 0,
             "ticks": ""
            },
            "colorscale": [
             [
              0,
              "#0d0887"
             ],
             [
              0.1111111111111111,
              "#46039f"
             ],
             [
              0.2222222222222222,
              "#7201a8"
             ],
             [
              0.3333333333333333,
              "#9c179e"
             ],
             [
              0.4444444444444444,
              "#bd3786"
             ],
             [
              0.5555555555555556,
              "#d8576b"
             ],
             [
              0.6666666666666666,
              "#ed7953"
             ],
             [
              0.7777777777777778,
              "#fb9f3a"
             ],
             [
              0.8888888888888888,
              "#fdca26"
             ],
             [
              1,
              "#f0f921"
             ]
            ],
            "type": "heatmap"
           }
          ],
          "heatmapgl": [
           {
            "colorbar": {
             "outlinewidth": 0,
             "ticks": ""
            },
            "colorscale": [
             [
              0,
              "#0d0887"
             ],
             [
              0.1111111111111111,
              "#46039f"
             ],
             [
              0.2222222222222222,
              "#7201a8"
             ],
             [
              0.3333333333333333,
              "#9c179e"
             ],
             [
              0.4444444444444444,
              "#bd3786"
             ],
             [
              0.5555555555555556,
              "#d8576b"
             ],
             [
              0.6666666666666666,
              "#ed7953"
             ],
             [
              0.7777777777777778,
              "#fb9f3a"
             ],
             [
              0.8888888888888888,
              "#fdca26"
             ],
             [
              1,
              "#f0f921"
             ]
            ],
            "type": "heatmapgl"
           }
          ],
          "histogram": [
           {
            "marker": {
             "pattern": {
              "fillmode": "overlay",
              "size": 10,
              "solidity": 0.2
             }
            },
            "type": "histogram"
           }
          ],
          "histogram2d": [
           {
            "colorbar": {
             "outlinewidth": 0,
             "ticks": ""
            },
            "colorscale": [
             [
              0,
              "#0d0887"
             ],
             [
              0.1111111111111111,
              "#46039f"
             ],
             [
              0.2222222222222222,
              "#7201a8"
             ],
             [
              0.3333333333333333,
              "#9c179e"
             ],
             [
              0.4444444444444444,
              "#bd3786"
             ],
             [
              0.5555555555555556,
              "#d8576b"
             ],
             [
              0.6666666666666666,
              "#ed7953"
             ],
             [
              0.7777777777777778,
              "#fb9f3a"
             ],
             [
              0.8888888888888888,
              "#fdca26"
             ],
             [
              1,
              "#f0f921"
             ]
            ],
            "type": "histogram2d"
           }
          ],
          "histogram2dcontour": [
           {
            "colorbar": {
             "outlinewidth": 0,
             "ticks": ""
            },
            "colorscale": [
             [
              0,
              "#0d0887"
             ],
             [
              0.1111111111111111,
              "#46039f"
             ],
             [
              0.2222222222222222,
              "#7201a8"
             ],
             [
              0.3333333333333333,
              "#9c179e"
             ],
             [
              0.4444444444444444,
              "#bd3786"
             ],
             [
              0.5555555555555556,
              "#d8576b"
             ],
             [
              0.6666666666666666,
              "#ed7953"
             ],
             [
              0.7777777777777778,
              "#fb9f3a"
             ],
             [
              0.8888888888888888,
              "#fdca26"
             ],
             [
              1,
              "#f0f921"
             ]
            ],
            "type": "histogram2dcontour"
           }
          ],
          "mesh3d": [
           {
            "colorbar": {
             "outlinewidth": 0,
             "ticks": ""
            },
            "type": "mesh3d"
           }
          ],
          "parcoords": [
           {
            "line": {
             "colorbar": {
              "outlinewidth": 0,
              "ticks": ""
             }
            },
            "type": "parcoords"
           }
          ],
          "pie": [
           {
            "automargin": true,
            "type": "pie"
           }
          ],
          "scatter": [
           {
            "marker": {
             "line": {
              "color": "#283442"
             }
            },
            "type": "scatter"
           }
          ],
          "scatter3d": [
           {
            "line": {
             "colorbar": {
              "outlinewidth": 0,
              "ticks": ""
             }
            },
            "marker": {
             "colorbar": {
              "outlinewidth": 0,
              "ticks": ""
             }
            },
            "type": "scatter3d"
           }
          ],
          "scattercarpet": [
           {
            "marker": {
             "colorbar": {
              "outlinewidth": 0,
              "ticks": ""
             }
            },
            "type": "scattercarpet"
           }
          ],
          "scattergeo": [
           {
            "marker": {
             "colorbar": {
              "outlinewidth": 0,
              "ticks": ""
             }
            },
            "type": "scattergeo"
           }
          ],
          "scattergl": [
           {
            "marker": {
             "line": {
              "color": "#283442"
             }
            },
            "type": "scattergl"
           }
          ],
          "scattermapbox": [
           {
            "marker": {
             "colorbar": {
              "outlinewidth": 0,
              "ticks": ""
             }
            },
            "type": "scattermapbox"
           }
          ],
          "scatterpolar": [
           {
            "marker": {
             "colorbar": {
              "outlinewidth": 0,
              "ticks": ""
             }
            },
            "type": "scatterpolar"
           }
          ],
          "scatterpolargl": [
           {
            "marker": {
             "colorbar": {
              "outlinewidth": 0,
              "ticks": ""
             }
            },
            "type": "scatterpolargl"
           }
          ],
          "scatterternary": [
           {
            "marker": {
             "colorbar": {
              "outlinewidth": 0,
              "ticks": ""
             }
            },
            "type": "scatterternary"
           }
          ],
          "surface": [
           {
            "colorbar": {
             "outlinewidth": 0,
             "ticks": ""
            },
            "colorscale": [
             [
              0,
              "#0d0887"
             ],
             [
              0.1111111111111111,
              "#46039f"
             ],
             [
              0.2222222222222222,
              "#7201a8"
             ],
             [
              0.3333333333333333,
              "#9c179e"
             ],
             [
              0.4444444444444444,
              "#bd3786"
             ],
             [
              0.5555555555555556,
              "#d8576b"
             ],
             [
              0.6666666666666666,
              "#ed7953"
             ],
             [
              0.7777777777777778,
              "#fb9f3a"
             ],
             [
              0.8888888888888888,
              "#fdca26"
             ],
             [
              1,
              "#f0f921"
             ]
            ],
            "type": "surface"
           }
          ],
          "table": [
           {
            "cells": {
             "fill": {
              "color": "#506784"
             },
             "line": {
              "color": "rgb(17,17,17)"
             }
            },
            "header": {
             "fill": {
              "color": "#2a3f5f"
             },
             "line": {
              "color": "rgb(17,17,17)"
             }
            },
            "type": "table"
           }
          ]
         },
         "layout": {
          "annotationdefaults": {
           "arrowcolor": "#f2f5fa",
           "arrowhead": 0,
           "arrowwidth": 1
          },
          "autosize": false,
          "autotypenumbers": "strict",
          "coloraxis": {
           "colorbar": {
            "outlinewidth": 0,
            "ticks": ""
           }
          },
          "colorscale": {
           "diverging": [
            [
             0,
             "#8e0152"
            ],
            [
             0.1,
             "#c51b7d"
            ],
            [
             0.2,
             "#de77ae"
            ],
            [
             0.3,
             "#f1b6da"
            ],
            [
             0.4,
             "#fde0ef"
            ],
            [
             0.5,
             "#f7f7f7"
            ],
            [
             0.6,
             "#e6f5d0"
            ],
            [
             0.7,
             "#b8e186"
            ],
            [
             0.8,
             "#7fbc41"
            ],
            [
             0.9,
             "#4d9221"
            ],
            [
             1,
             "#276419"
            ]
           ],
           "sequential": [
            [
             0,
             "#0d0887"
            ],
            [
             0.1111111111111111,
             "#46039f"
            ],
            [
             0.2222222222222222,
             "#7201a8"
            ],
            [
             0.3333333333333333,
             "#9c179e"
            ],
            [
             0.4444444444444444,
             "#bd3786"
            ],
            [
             0.5555555555555556,
             "#d8576b"
            ],
            [
             0.6666666666666666,
             "#ed7953"
            ],
            [
             0.7777777777777778,
             "#fb9f3a"
            ],
            [
             0.8888888888888888,
             "#fdca26"
            ],
            [
             1,
             "#f0f921"
            ]
           ],
           "sequentialminus": [
            [
             0,
             "#0d0887"
            ],
            [
             0.1111111111111111,
             "#46039f"
            ],
            [
             0.2222222222222222,
             "#7201a8"
            ],
            [
             0.3333333333333333,
             "#9c179e"
            ],
            [
             0.4444444444444444,
             "#bd3786"
            ],
            [
             0.5555555555555556,
             "#d8576b"
            ],
            [
             0.6666666666666666,
             "#ed7953"
            ],
            [
             0.7777777777777778,
             "#fb9f3a"
            ],
            [
             0.8888888888888888,
             "#fdca26"
            ],
            [
             1,
             "#f0f921"
            ]
           ]
          },
          "colorway": [
           "#636efa",
           "#EF553B",
           "#00cc96",
           "#ab63fa",
           "#FFA15A",
           "#19d3f3",
           "#FF6692",
           "#B6E880",
           "#FF97FF",
           "#FECB52"
          ],
          "font": {
           "color": "#f2f5fa"
          },
          "geo": {
           "bgcolor": "rgb(17,17,17)",
           "lakecolor": "rgb(17,17,17)",
           "landcolor": "rgb(17,17,17)",
           "showlakes": true,
           "showland": true,
           "subunitcolor": "#506784"
          },
          "height": 300,
          "hoverlabel": {
           "align": "left"
          },
          "hovermode": "closest",
          "mapbox": {
           "style": "dark"
          },
          "margin": {
           "b": 40,
           "l": 40,
           "r": 40,
           "t": 40
          },
          "paper_bgcolor": "rgba(0,0,0,0)",
          "plot_bgcolor": "rgba(0,0,0,0)",
          "polar": {
           "angularaxis": {
            "gridcolor": "#506784",
            "linecolor": "#506784",
            "ticks": ""
           },
           "bgcolor": "rgb(17,17,17)",
           "radialaxis": {
            "gridcolor": "#506784",
            "linecolor": "#506784",
            "ticks": ""
           }
          },
          "scene": {
           "xaxis": {
            "backgroundcolor": "rgb(17,17,17)",
            "gridcolor": "#506784",
            "gridwidth": 2,
            "linecolor": "#506784",
            "showbackground": true,
            "ticks": "",
            "zerolinecolor": "#C8D4E3"
           },
           "yaxis": {
            "backgroundcolor": "rgb(17,17,17)",
            "gridcolor": "#506784",
            "gridwidth": 2,
            "linecolor": "#506784",
            "showbackground": true,
            "ticks": "",
            "zerolinecolor": "#C8D4E3"
           },
           "zaxis": {
            "backgroundcolor": "rgb(17,17,17)",
            "gridcolor": "#506784",
            "gridwidth": 2,
            "linecolor": "#506784",
            "showbackground": true,
            "ticks": "",
            "zerolinecolor": "#C8D4E3"
           }
          },
          "shapedefaults": {
           "line": {
            "color": "#f2f5fa"
           }
          },
          "sliderdefaults": {
           "bgcolor": "#C8D4E3",
           "bordercolor": "rgb(17,17,17)",
           "borderwidth": 1,
           "tickwidth": 0
          },
          "ternary": {
           "aaxis": {
            "gridcolor": "#506784",
            "linecolor": "#506784",
            "ticks": ""
           },
           "baxis": {
            "gridcolor": "#506784",
            "linecolor": "#506784",
            "ticks": ""
           },
           "bgcolor": "rgb(17,17,17)",
           "caxis": {
            "gridcolor": "#506784",
            "linecolor": "#506784",
            "ticks": ""
           }
          },
          "title": {
           "x": 0.05
          },
          "updatemenudefaults": {
           "bgcolor": "#506784",
           "borderwidth": 0
          },
          "width": 600,
          "xaxis": {
           "automargin": true,
           "gridcolor": "#283442",
           "linecolor": "#506784",
           "ticks": "",
           "title": {
            "standoff": 15
           },
           "zerolinecolor": "#283442",
           "zerolinewidth": 2
          },
          "yaxis": {
           "automargin": true,
           "gridcolor": "#283442",
           "linecolor": "#506784",
           "ticks": "",
           "title": {
            "standoff": 15
           },
           "zerolinecolor": "#283442",
           "zerolinewidth": 2
          }
         }
        },
        "title": {
         "text": "Heatmap: log(count + 10)"
        },
        "width": 480,
        "xaxis": {
         "dtick": 1,
         "title": {
          "text": "prediction"
         },
         "type": "category"
        },
        "yaxis": {
         "dtick": 1,
         "scaleanchor": "x",
         "title": {
          "text": "true"
         },
         "type": "category"
        }
       }
      }
     },
     "metadata": {},
     "output_type": "display_data"
    }
   ],
   "source": [
    "pred_tags = []\n",
    "true_tags = []\n",
    "\n",
    "for pred, true_t, det in zip(\n",
    "    predictions, val_tag_true_idx, val_tag_det_idx, strict=True\n",
    "):\n",
    "    for p, t, d in zip(pred, true_t, det):\n",
    "        if tag_vocab[d] == \"uk\":\n",
    "            tp = tag_vocab[p.item()]\n",
    "            tt = tag_vocab[t]\n",
    "            true_tags.append(tt)\n",
    "            pred_tags.append(tp)\n",
    "print(len(pred_tags), len(true_tags))\n",
    "\n",
    "labels_left = sorted(set(pred_tags + true_tags))\n",
    "\n",
    "acc = metrics.accuracy_score(true_tags, pred_tags)\n",
    "print(\"accuracy\", acc)\n",
    "f1_macro = metrics.f1_score(true_tags, pred_tags, average=\"macro\")\n",
    "print(\"F1_macro\", f1_macro)\n",
    "\n",
    "confmat = metrics.confusion_matrix(true_tags, pred_tags, labels=labels_left)\n",
    "\n",
    "dtplot.heatmap(\n",
    "    confmat,\n",
    "    labels_left,\n",
    "    log_scale=True,\n",
    "    pseudo_count=10,\n",
    "    size=400,\n",
    ").show()"
   ]
  },
  {
   "cell_type": "markdown",
   "metadata": {},
   "source": [
    "## save output\n"
   ]
  },
  {
   "cell_type": "code",
   "execution_count": 13,
   "metadata": {},
   "outputs": [
    {
     "name": "stdout",
     "output_type": "stream",
     "text": [
      "predictions torch.Size([50, 111])\n",
      "x = 337\\\\y = 99\\\\z = x + y\n",
      "['va', 'ws', 'opas', 'ws', 'nu', 'nl', 'va', 'ws', 'opas', 'ws', 'nu', 'nl', 'va', 'ws', 'opas', 'ws', 'va', 'ws', 'opbi', 'ws', 'va']\n",
      "['va', 'ws', 'opas', 'ws', 'nu', 'nl', 'va', 'ws', 'opas', 'ws', 'nu', 'nl', 'va', 'ws', 'opas', 'ws', 'va', 'ws', 'opbi', 'ws', 'va']\n",
      "\n",
      "var zz, xy int = 11, 33\n",
      "['kwva', 'ws', 'va', 'pu', 'ws', 'va', 'ws', 'kwty', 'ws', 'opas', 'ws', 'nu', 'pu', 'ws', 'nu']\n",
      "['kwva', 'ws', 'va', 'pu', 'ws', 'kwty', 'ws', 'kwty', 'ws', 'opas', 'ws', 'nu', 'pu', 'ws', 'nu']\n",
      "\n",
      "x = True\\\\y = False\\\\\\\\z = x and y\n",
      "['va', 'ws', 'opas', 'ws', 'bo', 'nl', 'va', 'ws', 'opas', 'ws', 'bo', 'nl', 'va', 'ws', 'opas', 'ws', 'va', 'ws', 'kwop', 'ws', 'va']\n",
      "['va', 'ws', 'opas', 'ws', 'bo', 'nl', 'va', 'ws', 'opas', 'ws', 'bo', 'nl', 'va', 'ws', 'opas', 'ws', 'va', 'ws', 'va', 'ws', 'va']\n",
      "\n",
      "a = 30\\\\b = a*76\\\\\\\\k = 112 ; n = a*12\n",
      "['va', 'ws', 'opas', 'ws', 'nu', 'nl', 'va', 'ws', 'opas', 'ws', 'va', 'opbi', 'nu', 'nl', 'va', 'ws', 'opas', 'ws', 'nu', 'ws', 'pu', 'ws', 'va', 'ws', 'opas', 'ws', 'va', 'opbi', 'nu']\n",
      "['va', 'ws', 'opas', 'ws', 'nu', 'nl', 'va', 'ws', 'opas', 'ws', 'va', 'opun', 'nu', 'nl', 'va', 'ws', 'opas', 'ws', 'nu', 'ws', 'pu', 'ws', 'va', 'ws', 'opas', 'ws', 'va', 'opbi', 'nu']\n",
      "\n",
      "string name = \"My Name\";\\\\int myAge = 73;\n",
      "['kwty', 'ws', 'va', 'ws', 'opas', 'ws', 'st', 'pu', 'nl', 'kwty', 'ws', 'va', 'ws', 'opas', 'ws', 'nu', 'pu']\n",
      "['cl', 'ws', 'va', 'ws', 'opas', 'ws', 'st', 'pu', 'nl', 'kwty', 'ws', 'va', 'ws', 'opas', 'ws', 'nu', 'pu']\n",
      "\n",
      "prod = 1\\\\for i = 1,2,3\\\\    prod = prod * i\\\\return prod\n",
      "['va', 'ws', 'opas', 'ws', 'nu', 'nl', 'kwfl', 'ws', 'va', 'ws', 'opas', 'ws', 'nu', 'pu', 'nu', 'pu', 'nu', 'nl', 'id', 'va', 'ws', 'opas', 'ws', 'va', 'ws', 'opbi', 'ws', 'va', 'nl', 'kwfl', 'ws', 'va']\n",
      "['va', 'ws', 'opas', 'ws', 'nu', 'nl', 'kwfl', 'ws', 'va', 'ws', 'opas', 'ws', 'nu', 'pu', 'nu', 'pu', 'nu', 'nl', 'id', 'va', 'ws', 'opas', 'ws', 'va', 'ws', 'opbi', 'ws', 'va', 'nl', 'kwfl', 'ws', 'va']\n",
      "\n",
      "import numpy as np\\\\from importlib import reload\\\\import color_functions as cf\\\\\\\\_ = reload(cf)\n",
      "['kwim', 'ws', 'mo', 'ws', 'kwim', 'ws', 'mo', 'nl', 'kwim', 'ws', 'mo', 'ws', 'kwim', 'ws', 'fnfr', 'nl', 'kwim', 'ws', 'mo', 'ws', 'kwim', 'ws', 'mo', 'nl', 'va', 'ws', 'opas', 'ws', 'fnfr', 'brop', 'mo', 'brcl']\n",
      "['kwim', 'ws', 'mo', 'ws', 'kwim', 'ws', 'mo', 'nl', 'kwim', 'ws', 'mo', 'ws', 'kwim', 'ws', 'mo', 'nl', 'kwim', 'ws', 'mo', 'ws', 'kwim', 'ws', 'mo', 'nl', 'kwty', 'ws', 'opas', 'ws', 'fnfr', 'brop', 'pa', 'brcl']\n",
      "\n",
      "% confidence interval\\\\upper = rhat_mean + 1.96 * rhat_std;\\\\lower = rhat_mean - 1.96 * rhat_std;\n",
      "['cofl', 'nl', 'va', 'ws', 'opas', 'ws', 'va', 'ws', 'opbi', 'ws', 'nu', 'ws', 'opbi', 'ws', 'va', 'pu', 'nl', 'va', 'ws', 'opas', 'ws', 'va', 'ws', 'opbi', 'ws', 'nu', 'ws', 'opbi', 'ws', 'va', 'pu']\n",
      "['cofl', 'nl', 'va', 'ws', 'opas', 'ws', 'va', 'ws', 'opbi', 'ws', 'nu', 'ws', 'opbi', 'ws', 'va', 'pu', 'nl', 'va', 'ws', 'opas', 'ws', 'va', 'ws', 'opbi', 'ws', 'nu', 'ws', 'opbi', 'ws', 'va', 'pu']\n",
      "\n",
      "// Move to the next pivot row\\\\row += 1;\\\\\\\\// Stop if we've processed all rows\\\\if row >= m {\\\\    break;\\\\}\n",
      "['cofl', 'nl', 'va', 'ws', 'opas', 'ws', 'nu', 'pu', 'nl', 'cofl', 'nl', 'kwfl', 'ws', 'va', 'ws', 'opcm', 'ws', 'va', 'ws', 'brop', 'nl', 'id', 'kwfl', 'pu', 'nl', 'brcl']\n",
      "['cofl', 'nl', 'va', 'ws', 'opas', 'ws', 'nu', 'pu', 'nl', 'cofl', 'nl', 'kwfl', 'ws', 'va', 'ws', 'opcm', 'ws', 'va', 'ws', 'brop', 'nl', 'id', 'va', 'pu', 'nl', 'brcl']\n",
      "\n",
      "import torch\\\\import torch.nn as nn\\\\from torch.utils.data import DataLoader, Dataset\\\\from plotly import graph_objects as go, io as pio\\\\from sklearn import metrics\\\\from importlib import reload\n",
      "['kwim', 'ws', 'mo', 'nl', 'kwim', 'ws', 'mo', 'sy', 'mo', 'ws', 'kwim', 'ws', 'mo', 'nl', 'kwim', 'ws', 'mo', 'sy', 'mo', 'sy', 'mo', 'ws', 'kwim', 'ws', 'cl', 'pu', 'ws', 'cl', 'nl', 'kwim', 'ws', 'mo', 'ws', 'kwim', 'ws', 'mo', 'ws', 'kwim', 'ws', 'mo', 'pu', 'ws', 'mo', 'ws', 'kwim', 'ws', 'mo', 'nl', 'kwim', 'ws', 'mo', 'ws', 'kwim', 'ws', 'mo', 'nl', 'kwim', 'ws', 'mo', 'ws', 'kwim', 'ws', 'fnfr']\n",
      "['kwim', 'ws', 'cl', 'nl', 'kwim', 'ws', 'mo', 'sy', 'mo', 'ws', 'kwim', 'ws', 'cl', 'nl', 'kwim', 'ws', 'mo', 'sy', 'mo', 'sy', 'mo', 'ws', 'kwim', 'ws', 'cl', 'pu', 'ws', 'cl', 'nl', 'kwim', 'ws', 'cl', 'ws', 'kwim', 'ws', 'mo', 'ws', 'kwim', 'ws', 'cl', 'pu', 'ws', 'mo', 'ws', 'kwim', 'ws', 'cl', 'nl', 'kwim', 'ws', 'mo', 'ws', 'kwim', 'ws', 'cl', 'nl', 'kwim', 'ws', 'mo', 'ws', 'kwim', 'ws', 'cl']\n",
      "\n",
      "plotting.heatmap(\\\\    confmat,\\\\    tag_vocab,\\\\    log_scale=True,\\\\    pseudo_count=10,\\\\    size=500,\\\\).show()\n",
      "['mo', 'sy', 'fnas', 'brop', 'nl', 'id', 'va', 'pu', 'nl', 'id', 'va', 'pu', 'nl', 'id', 'pa', 'opas', 'bo', 'pu', 'nl', 'id', 'pa', 'opas', 'nu', 'pu', 'nl', 'id', 'pa', 'opas', 'nu', 'pu', 'nl', 'brcl', 'sy', 'fnme', 'brop', 'brcl']\n",
      "['mo', 'sy', 'fnas', 'brop', 'nl', 'id', 'pa', 'pu', 'nl', 'id', 'va', 'pu', 'nl', 'id', 'pa', 'opas', 'bo', 'pu', 'nl', 'id', 'pa', 'opas', 'nu', 'pu', 'nl', 'id', 'pa', 'opas', 'nu', 'pu', 'nl', 'brcl', 'sy', 'fnme', 'brop', 'brcl']\n",
      "\n",
      "frames_ann = frames_original[:stop_frame]\\\\\\\\masks_all = torch.empty_like(frames_ann)\n",
      "['va', 'ws', 'opas', 'ws', 'va', 'brop', 'sy', 'va', 'brcl', 'nl', 'va', 'ws', 'opas', 'ws', 'mo', 'sy', 'fnas', 'brop', 'va', 'brcl']\n",
      "['va', 'ws', 'opas', 'ws', 'va', 'brop', 'sy', 'va', 'brcl', 'nl', 'va', 'ws', 'opas', 'ws', 'mo', 'sy', 'fnas', 'brop', 'va', 'brcl']\n",
      "\n",
      "k = sqrt((double)i) + 1.;\n",
      "['va', 'ws', 'opas', 'ws', 'fnfr', 'brop', 'brop', 'kwty', 'brcl', 'va', 'brcl', 'ws', 'opbi', 'ws', 'nu', 'sy', 'pu']\n",
      "['va', 'ws', 'opas', 'ws', 'fnfr', 'brop', 'brop', 'kwty', 'brcl', 'va', 'brcl', 'ws', 'opbi', 'ws', 'nu', 'sy', 'pu']\n",
      "\n",
      "import os\\\\import numpy as np\\\\import torch\\\\import matplotlib.pyplot as plt\\\\from cv2 import imread\\\\\\\\masks = torch.load(r\"..\\SAMresult\")\n",
      "['kwim', 'ws', 'mo', 'nl', 'kwim', 'ws', 'mo', 'ws', 'kwim', 'ws', 'mo', 'nl', 'kwim', 'ws', 'mo', 'nl', 'kwim', 'ws', 'mo', 'sy', 'mo', 'ws', 'kwim', 'ws', 'mo', 'nl', 'kwim', 'ws', 'mo', 'ws', 'kwim', 'ws', 'fnas', 'nl', 'va', 'ws', 'opas', 'ws', 'mo', 'sy', 'fnas', 'brop', 'kwty', 'st', 'brcl']\n",
      "['kwim', 'ws', 'mo', 'nl', 'kwim', 'ws', 'mo', 'ws', 'kwim', 'ws', 'mo', 'nl', 'kwim', 'ws', 'cl', 'nl', 'kwim', 'ws', 'mo', 'sy', 'mo', 'ws', 'kwim', 'ws', 'cl', 'nl', 'kwim', 'ws', 'mo', 'ws', 'kwim', 'ws', 'mo', 'nl', 'va', 'ws', 'opas', 'ws', 'mo', 'sy', 'fnas', 'brop', 'va', 'st', 'brcl']\n",
      "\n",
      "const x = \"100\";\\\\const y = +x;\\\\console.log(typeof y);\n",
      "['kwva', 'ws', 'va', 'ws', 'opas', 'ws', 'st', 'pu', 'nl', 'kwva', 'ws', 'va', 'ws', 'opas', 'ws', 'opun', 'va', 'pu', 'nl', 'va', 'sy', 'fnme', 'brop', 'kwop', 'ws', 'va', 'brcl', 'pu']\n",
      "['kwva', 'ws', 'va', 'ws', 'opas', 'ws', 'st', 'pu', 'nl', 'kwva', 'ws', 'va', 'ws', 'opas', 'ws', 'opbi', 'va', 'pu', 'nl', 'va', 'sy', 'fnas', 'brop', 'kwop', 'ws', 'va', 'brcl', 'pu']\n",
      "\n",
      "long pn_sz = 1 << 24;\n",
      "['kwty', 'ws', 'va', 'ws', 'opas', 'ws', 'nu', 'ws', 'opbi', 'ws', 'nu', 'pu']\n",
      "['cl', 'ws', 'va', 'ws', 'opas', 'ws', 'nu', 'ws', 'va', 'ws', 'nu', 'pu']\n",
      "\n",
      "thismatrix[, -c(1,2)]\n",
      "['va', 'brop', 'pu', 'ws', 'opun', 'fnfr', 'brop', 'nu', 'pu', 'nu', 'brcl', 'brcl']\n",
      "['va', 'brop', 'pu', 'ws', 'opbi', 'fnfr', 'brop', 'nu', 'pu', 'nu', 'brcl', 'brcl']\n",
      "\n",
      "$_num = 5;\\\\$x1 = &$_num;\n",
      "['va', 'ws', 'opas', 'ws', 'nu', 'pu', 'nl', 'va', 'ws', 'opas', 'ws', 'opun', 'va', 'pu']\n",
      "['va', 'ws', 'opas', 'ws', 'nu', 'pu', 'nl', 'va', 'ws', 'opas', 'ws', 'opun', 'va', 'pu']\n",
      "\n",
      "SELECT name\\\\FROM friends;\n",
      "['kwop', 'ws', 'va', 'nl', 'kwop', 'ws', 'va', 'pu']\n",
      "['kwop', 'ws', 'mo', 'nl', 'kwop', 'ws', 'cl', 'pu']\n",
      "\n",
      "<?php\\\\$x = 37;\\\\\\\\echo \"hej $37\\n\";\n",
      "['sy', 'sy', 'kwde', 'nl', 'va', 'ws', 'opas', 'ws', 'nu', 'pu', 'nl', 'kwio', 'ws', 'st', 'pu']\n",
      "['sy', 'sy', 'kwde', 'nl', 'va', 'ws', 'opas', 'ws', 'nu', 'pu', 'nl', 'kwio', 'ws', 'st', 'pu']\n",
      "\n",
      "$name = \"myname\";\\\\echo str_contains($name, \"a\");\n",
      "['va', 'ws', 'opas', 'ws', 'st', 'pu', 'nl', 'kwio', 'ws', 'fnfr', 'brop', 'va', 'pu', 'ws', 'st', 'brcl', 'pu']\n",
      "['va', 'ws', 'opas', 'ws', 'st', 'pu', 'nl', 'kwio', 'ws', 'fnfr', 'brop', 'va', 'pu', 'ws', 'st', 'brcl', 'pu']\n",
      "\n",
      "package main\\\\import \"fmt\"\\\\\\\\func main() {\\\\    fmt.Println(\"hello world\")\\\\}\n",
      "['kwim', 'ws', 'mo', 'nl', 'kwim', 'ws', 'st', 'nl', 'kwfn', 'ws', 'fnfr', 'brop', 'brcl', 'ws', 'brop', 'nl', 'id', 'mo', 'sy', 'fnas', 'brop', 'st', 'brcl', 'nl', 'brcl']\n",
      "['cl', 'ws', 'cl', 'nl', 'kwim', 'ws', 'st', 'nl', 'cl', 'ws', 'fnfr', 'brop', 'brcl', 'ws', 'brop', 'nl', 'id', 'va', 'sy', 'fnme', 'brop', 'st', 'brcl', 'nl', 'brcl']\n",
      "\n",
      "set(groot, 'defaultFigureUnits', 'centimeters', 'defaultFigurePosition', [0 0 5 3]);\n",
      "['fnfr', 'brop', 'va', 'pu', 'ws', 'st', 'pu', 'ws', 'st', 'pu', 'ws', 'st', 'pu', 'ws', 'brop', 'nu', 'ws', 'nu', 'ws', 'nu', 'ws', 'nu', 'brcl', 'brcl', 'pu']\n",
      "['fnfr', 'brop', 'pa', 'pu', 'ws', 'st', 'pu', 'ws', 'st', 'pu', 'ws', 'st', 'pu', 'ws', 'brop', 'nu', 'ws', 'nu', 'ws', 'nu', 'ws', 'nu', 'brcl', 'brcl', 'pu']\n",
      "\n",
      "reload(optical_flow)\\\\\\\\frames_flow = [np.float32(f) for f in frames[:8]]\\\\print(frames_flow[0].shape)\\\\optical_flow.opt_flow(frames_flow)\n",
      "['fnfr', 'brop', 'mo', 'brcl', 'nl', 'va', 'ws', 'opas', 'ws', 'brop', 'mo', 'sy', 'fnas', 'brop', 'va', 'brcl', 'ws', 'kwfl', 'ws', 'va', 'ws', 'kwop', 'ws', 'va', 'brop', 'sy', 'nu', 'brcl', 'brcl', 'nl', 'fnfr', 'brop', 'va', 'brop', 'nu', 'brcl', 'sy', 'at', 'brcl', 'nl', 'mo', 'sy', 'fnas', 'brop', 'va', 'brcl']\n",
      "['fnfr', 'brop', 'va', 'brcl', 'nl', 'va', 'ws', 'opas', 'ws', 'brop', 'va', 'sy', 'fnas', 'brop', 'va', 'brcl', 'ws', 'kwfl', 'ws', 'va', 'ws', 'kwop', 'ws', 'va', 'brop', 'sy', 'nu', 'brcl', 'brcl', 'nl', 'fnfr', 'brop', 'va', 'brop', 'nu', 'brcl', 'sy', 'at', 'brcl', 'nl', 'va', 'sy', 'fnas', 'brop', 'va', 'brcl']\n",
      "\n",
      "try {\\\\\\\\  // do something...\\\\\\\\} catch (err) {\\\\\\\\  // handle error\\\\\\\\}\n",
      "['kwfl', 'ws', 'brop', 'nl', 'id', 'cofl', 'nl', 'brcl', 'ws', 'kwfl', 'ws', 'brop', 'pa', 'brcl', 'ws', 'brop', 'nl', 'id', 'cofl', 'nl', 'brcl']\n",
      "['cl', 'ws', 'brop', 'nl', 'id', 'cofl', 'nl', 'brcl', 'ws', 'va', 'ws', 'brop', 'va', 'brcl', 'ws', 'brop', 'nl', 'id', 'cofl', 'nl', 'brcl']\n",
      "\n",
      "for i in range(1,max+1):\\\\    sum+=i\\\\    sum_sqr+=i**2\\\\\\\\print(sum**2-sum_sqr)\n",
      "['kwfl', 'ws', 'va', 'ws', 'kwop', 'ws', 'fnfr', 'brop', 'nu', 'pu', 'va', 'opbi', 'nu', 'brcl', 'sy', 'nl', 'id', 'va', 'opas', 'va', 'nl', 'id', 'va', 'opas', 'va', 'opbi', 'nu', 'nl', 'fnfr', 'brop', 'va', 'opbi', 'nu', 'opbi', 'va', 'brcl']\n",
      "['kwfl', 'ws', 'va', 'ws', 'kwop', 'ws', 'fnfr', 'brop', 'nu', 'pu', 'va', 'opbi', 'nu', 'brcl', 'sy', 'nl', 'id', 'pa', 'opas', 'va', 'nl', 'id', 'pa', 'opas', 'pa', 'opbi', 'nu', 'nl', 'fnfr', 'brop', 'pa', 'opbi', 'nu', 'opbi', 'va', 'brcl']\n",
      "\n",
      "  var t1 = stdin.readLineSync()!.split(\":\").map((m) => int.parse(m)).toList();\n",
      "['id', 'kwva', 'ws', 'va', 'ws', 'opas', 'ws', 'va', 'sy', 'fnme', 'brop', 'brcl', 'opun', 'sy', 'fnme', 'brop', 'st', 'brcl', 'sy', 'fnme', 'brop', 'brop', 'pa', 'brcl', 'ws', 'sy', 'ws', 'kwty', 'sy', 'fnas', 'brop', 'pa', 'brcl', 'brcl', 'sy', 'fnme', 'brop', 'brcl', 'pu']\n",
      "['id', 'kwva', 'ws', 'va', 'ws', 'opas', 'ws', 'mo', 'sy', 'fnas', 'brop', 'brcl', 'mo', 'sy', 'fnas', 'brop', 'st', 'brcl', 'sy', 'fnas', 'brop', 'brop', 'va', 'brcl', 'ws', 'sy', 'ws', 'kwty', 'sy', 'fnas', 'brop', 'va', 'brcl', 'brcl', 'sy', 'fnme', 'brop', 'brcl', 'pu']\n",
      "\n",
      "  if (dm < 0 && dh == 0) {\\\\    dh += 24;\\\\  }\\\\\\\\  // print(\"$dh, $dm\");\\\\  print(60 * dh + dm);\n",
      "['id', 'kwfl', 'ws', 'brop', 'va', 'ws', 'opcm', 'ws', 'nu', 'ws', 'opbi', 'ws', 'va', 'ws', 'opcm', 'ws', 'nu', 'brcl', 'ws', 'brop', 'nl', 'id', 'va', 'ws', 'opas', 'ws', 'nu', 'pu', 'nl', 'id', 'brcl', 'nl', 'id', 'cofl', 'nl', 'id', 'fnfr', 'brop', 'nu', 'ws', 'opbi', 'ws', 'va', 'ws', 'opbi', 'ws', 'va', 'brcl', 'pu']\n",
      "['id', 'kwfl', 'ws', 'brop', 'va', 'ws', 'opcm', 'ws', 'nu', 'ws', 'va', 'ws', 'va', 'ws', 'opcm', 'ws', 'nu', 'brcl', 'ws', 'brop', 'nl', 'id', 'va', 'ws', 'opas', 'ws', 'nu', 'pu', 'nl', 'id', 'brcl', 'nl', 'id', 'cofl', 'nl', 'id', 'fnfr', 'brop', 'nu', 'ws', 'opbi', 'ws', 'va', 'ws', 'opbi', 'ws', 'va', 'brcl', 'pu']\n",
      "\n",
      "if ($request->session()->has('athing')) {\\\\    // ...\\\\}\n",
      "['kwfl', 'ws', 'brop', 'va', 'sy', 'fnme', 'brop', 'brcl', 'sy', 'fnme', 'brop', 'st', 'brcl', 'brcl', 'ws', 'brop', 'nl', 'id', 'cofl', 'nl', 'brcl']\n",
      "['kwfl', 'ws', 'brop', 'va', 'sy', 'fnme', 'brop', 'brcl', 'sy', 'fnme', 'brop', 'st', 'brcl', 'brcl', 'ws', 'brop', 'nl', 'id', 'cofl', 'nl', 'brcl']\n",
      "\n",
      "\\\\sum = 0\\\\\\\\for i in range(1000):\\\\    if i % 3 == 0 or i % 5 == 0:\\\\        sum += i\\\\print(sum)\n",
      "['nl', 'va', 'ws', 'opas', 'ws', 'nu', 'nl', 'kwfl', 'ws', 'va', 'ws', 'kwop', 'ws', 'fnfr', 'brop', 'nu', 'brcl', 'sy', 'nl', 'id', 'kwfl', 'ws', 'va', 'ws', 'opbi', 'ws', 'nu', 'ws', 'opcm', 'ws', 'nu', 'ws', 'kwop', 'ws', 'va', 'ws', 'opbi', 'ws', 'nu', 'ws', 'opcm', 'ws', 'nu', 'sy', 'nl', 'id', 'va', 'ws', 'opas', 'ws', 'va', 'nl', 'fnfr', 'brop', 'va', 'brcl']\n",
      "['nl', 'va', 'ws', 'opas', 'ws', 'nu', 'nl', 'kwfl', 'ws', 'va', 'ws', 'kwop', 'ws', 'fnfr', 'brop', 'nu', 'brcl', 'sy', 'nl', 'id', 'kwfl', 'ws', 'va', 'ws', 'opbi', 'ws', 'nu', 'ws', 'opcm', 'ws', 'nu', 'ws', 'va', 'ws', 'va', 'ws', 'opbi', 'ws', 'nu', 'ws', 'opcm', 'ws', 'nu', 'sy', 'nl', 'id', 'va', 'ws', 'opas', 'ws', 'va', 'nl', 'fnfr', 'brop', 'va', 'brcl']\n",
      "\n",
      "Thread.currentThread().interrupt();\n",
      "['cl', 'sy', 'fnas', 'brop', 'brcl', 'sy', 'fnme', 'brop', 'brcl', 'pu']\n",
      "['mo', 'sy', 'fnas', 'brop', 'brcl', 'sy', 'fnme', 'brop', 'brcl', 'pu']\n",
      "\n",
      "const text = '{\"name\":\"John\", \"birthday\":\"1986-12-14\"}';\\\\const obj = JSON.parse(text);\\\\obj.birthday = new Date(obj.birthday);\n",
      "['kwva', 'ws', 'va', 'ws', 'opas', 'ws', 'st', 'pu', 'nl', 'kwva', 'ws', 'va', 'ws', 'opas', 'ws', 'mo', 'sy', 'fnas', 'brop', 'va', 'brcl', 'pu', 'nl', 'va', 'sy', 'at', 'ws', 'opas', 'ws', 'kwop', 'ws', 'cl', 'brop', 'va', 'sy', 'at', 'brcl', 'pu']\n",
      "['kwva', 'ws', 'va', 'ws', 'opas', 'ws', 'st', 'pu', 'nl', 'kwva', 'ws', 'va', 'ws', 'opas', 'ws', 'mo', 'sy', 'fnas', 'brop', 'va', 'brcl', 'pu', 'nl', 'va', 'sy', 'at', 'ws', 'opas', 'ws', 'kwop', 'ws', 'fnfr', 'brop', 'va', 'sy', 'at', 'brcl', 'pu']\n",
      "\n",
      "Route::middleware('auth')->group(function () {\\\\    Route::get('/dash', function () {\\\\        return view('home');\\\\    })->name('dash');\\\\});\n",
      "['cl', 'sy', 'fnas', 'brop', 'st', 'brcl', 'sy', 'fnme', 'brop', 'kwfn', 'ws', 'brop', 'brcl', 'ws', 'brop', 'nl', 'id', 'cl', 'sy', 'fnas', 'brop', 'st', 'pu', 'ws', 'kwfn', 'ws', 'brop', 'brcl', 'ws', 'brop', 'nl', 'id', 'kwfl', 'ws', 'fnfr', 'brop', 'st', 'brcl', 'pu', 'nl', 'id', 'brcl', 'brcl', 'sy', 'fnme', 'brop', 'st', 'brcl', 'pu', 'nl', 'brcl', 'brcl', 'pu']\n",
      "['cl', 'sy', 'fnas', 'brop', 'st', 'brcl', 'sy', 'fnme', 'brop', 'kwfn', 'ws', 'brop', 'brcl', 'ws', 'brop', 'nl', 'id', 'cl', 'sy', 'fnas', 'brop', 'st', 'pu', 'ws', 'kwfn', 'ws', 'brop', 'brcl', 'ws', 'brop', 'nl', 'id', 'kwfl', 'ws', 'fnfr', 'brop', 'st', 'brcl', 'pu', 'nl', 'id', 'brcl', 'brcl', 'sy', 'fnme', 'brop', 'st', 'brcl', 'pu', 'nl', 'brcl', 'brcl', 'pu']\n",
      "\n",
      "for i in range(N_frames):\\\\    mask = np.array(torch.sum(results[i].masks.data, dim=0))\\\\    frames[i] = cv.cvtColor(mask, cv.COLOR_GRAY2RGB)\\\\\\\\print(\"number of frames:\", len(frames))\n",
      "['kwfl', 'ws', 'va', 'ws', 'kwop', 'ws', 'fnfr', 'brop', 'va', 'brcl', 'sy', 'nl', 'id', 'va', 'ws', 'opas', 'ws', 'mo', 'sy', 'fnas', 'brop', 'mo', 'sy', 'fnas', 'brop', 'va', 'brop', 'va', 'brcl', 'sy', 'at', 'sy', 'at', 'pu', 'ws', 'pa', 'opas', 'nu', 'brcl', 'brcl', 'nl', 'id', 'va', 'brop', 'va', 'brcl', 'ws', 'opas', 'ws', 'mo', 'sy', 'fnas', 'brop', 'va', 'pu', 'ws', 'mo', 'sy', 'at', 'brcl', 'nl', 'fnfr', 'brop', 'st', 'pu', 'ws', 'fnfr', 'brop', 'va', 'brcl', 'brcl']\n",
      "['kwfl', 'ws', 'va', 'ws', 'kwop', 'ws', 'fnfr', 'brop', 'va', 'brcl', 'sy', 'nl', 'id', 'va', 'ws', 'opas', 'ws', 'mo', 'sy', 'fnas', 'brop', 'mo', 'sy', 'fnas', 'brop', 'va', 'brop', 'va', 'brcl', 'sy', 'at', 'sy', 'at', 'pu', 'ws', 'pa', 'opas', 'nu', 'brcl', 'brcl', 'nl', 'id', 'va', 'brop', 'va', 'brcl', 'ws', 'opas', 'ws', 'mo', 'sy', 'fnas', 'brop', 'va', 'pu', 'ws', 'mo', 'sy', 'at', 'brcl', 'nl', 'fnfr', 'brop', 'st', 'pu', 'ws', 'fnfr', 'brop', 'va', 'brcl', 'brcl']\n",
      "\n",
      "var d = K ~/ BigInt.from(3);\n",
      "['kwva', 'ws', 'va', 'ws', 'opas', 'ws', 'va', 'ws', 'opbi', 'ws', 'cl', 'sy', 'fnas', 'brop', 'nu', 'brcl', 'pu']\n",
      "['kwva', 'ws', 'va', 'ws', 'opas', 'ws', 'va', 'ws', 'mo', 'ws', 'mo', 'sy', 'fnas', 'brop', 'nu', 'brcl', 'pu']\n",
      "\n",
      "import numpy as np\\\\\\\\x = np.array([[1, 2, 3], [4, 5, 6]], np.int32)\\\\\\\\y = x[:, 1]\\\\y  # array([2, 5], dtype=int32)\\\\y[0] = 9\\\\\\\\print(y)  # array([9, 5], dtype=int32)\\\\print(x)  # array([[1, 9, 3], [4, 5, 6]], dtype=int32)\n",
      "['kwim', 'ws', 'mo', 'ws', 'kwim', 'ws', 'mo', 'nl', 'va', 'ws', 'opas', 'ws', 'mo', 'sy', 'fnas', 'brop', 'brop', 'brop', 'nu', 'pu', 'ws', 'nu', 'pu', 'ws', 'nu', 'brcl', 'pu', 'ws', 'brop', 'nu', 'pu', 'ws', 'nu', 'pu', 'ws', 'nu', 'brcl', 'brcl', 'pu', 'ws', 'mo', 'sy', 'at', 'brcl', 'nl', 'va', 'ws', 'opas', 'ws', 'va', 'brop', 'sy', 'pu', 'ws', 'nu', 'brcl', 'nl', 'va', 'ws', 'coil', 'nl', 'va', 'brop', 'nu', 'brcl', 'ws', 'opas', 'ws', 'nu', 'nl', 'fnfr', 'brop', 'va', 'brcl', 'ws', 'coil', 'nl', 'fnfr', 'brop', 'va', 'brcl', 'ws', 'coil']\n",
      "['kwim', 'ws', 'mo', 'ws', 'kwim', 'ws', 'mo', 'nl', 'va', 'ws', 'opas', 'ws', 'mo', 'sy', 'fnas', 'brop', 'brop', 'brop', 'nu', 'pu', 'ws', 'nu', 'pu', 'ws', 'nu', 'brcl', 'pu', 'ws', 'brop', 'nu', 'pu', 'ws', 'nu', 'pu', 'ws', 'nu', 'brcl', 'brcl', 'pu', 'ws', 'mo', 'sy', 'at', 'brcl', 'nl', 'va', 'ws', 'opas', 'ws', 'va', 'brop', 'sy', 'pu', 'ws', 'nu', 'brcl', 'nl', 'va', 'ws', 'va', 'nl', 'va', 'brop', 'nu', 'brcl', 'ws', 'opas', 'ws', 'nu', 'nl', 'fnfr', 'brop', 'va', 'brcl', 'ws', 'va', 'nl', 'fnfr', 'brop', 'va', 'brcl', 'nl', 'va']\n",
      "\n",
      "  int transactions = 0;\\\\  while (K > 500 - 100) {\\\\    K -= 500;\\\\    transactions++;\\\\  }\\\\  while (K > 200 - 100) {\\\\    K -= 200;\\\\    transactions++;\\\\  }\\\\  while (K > 0) {\\\\    K -= 100;\\\\    transactions++;\\\\  }\\\\  print(transactions);\n",
      "['id', 'kwty', 'ws', 'va', 'ws', 'opas', 'ws', 'nu', 'pu', 'nl', 'id', 'kwfl', 'ws', 'brop', 'va', 'ws', 'opcm', 'ws', 'nu', 'ws', 'opbi', 'ws', 'nu', 'brcl', 'ws', 'brop', 'nl', 'id', 'va', 'ws', 'opas', 'ws', 'nu', 'pu', 'nl', 'id', 'va', 'opun', 'pu', 'nl', 'id', 'brcl', 'nl', 'id', 'kwfl', 'ws', 'brop', 'va', 'ws', 'opcm', 'ws', 'nu', 'ws', 'opbi', 'ws', 'nu', 'brcl', 'ws', 'brop', 'nl', 'id', 'va', 'ws', 'opas', 'ws', 'nu', 'pu', 'nl', 'id', 'va', 'opun', 'pu', 'nl', 'id', 'brcl', 'nl', 'id', 'kwfl', 'ws', 'brop', 'va', 'ws', 'opcm', 'ws', 'nu', 'brcl', 'ws', 'brop', 'nl', 'id', 'va', 'ws', 'opas', 'ws', 'nu', 'pu', 'nl', 'id', 'va', 'opun', 'pu', 'nl', 'id', 'brcl', 'nl', 'id', 'fnfr', 'brop', 'va', 'brcl', 'pu']\n",
      "['id', 'kwty', 'ws', 'va', 'ws', 'opas', 'ws', 'nu', 'pu', 'nl', 'id', 'kwfl', 'ws', 'brop', 'va', 'ws', 'opcm', 'ws', 'nu', 'ws', 'opbi', 'ws', 'nu', 'brcl', 'ws', 'brop', 'nl', 'id', 'va', 'ws', 'kwop', 'ws', 'nu', 'pu', 'nl', 'id', 'va', 'opun', 'pu', 'nl', 'id', 'brcl', 'nl', 'id', 'kwfl', 'ws', 'brop', 'va', 'ws', 'opcm', 'ws', 'nu', 'ws', 'opbi', 'ws', 'nu', 'brcl', 'ws', 'brop', 'nl', 'id', 'va', 'ws', 'kwop', 'ws', 'nu', 'pu', 'nl', 'id', 'va', 'opun', 'pu', 'nl', 'id', 'brcl', 'nl', 'id', 'kwfl', 'ws', 'brop', 'va', 'ws', 'opcm', 'ws', 'nu', 'brcl', 'ws', 'brop', 'nl', 'id', 'va', 'ws', 'kwop', 'ws', 'nu', 'pu', 'nl', 'id', 'va', 'opun', 'pu', 'nl', 'id', 'brcl', 'nl', 'id', 'fnfr', 'brop', 'va', 'brcl', 'pu']\n",
      "\n",
      "if ($request->has(['a', 'b', 'c'])) {\\\\    // ...\\\\}\n",
      "['kwfl', 'ws', 'brop', 'va', 'sy', 'fnme', 'brop', 'brop', 'st', 'pu', 'ws', 'st', 'pu', 'ws', 'st', 'brcl', 'brcl', 'brcl', 'ws', 'brop', 'nl', 'id', 'cofl', 'nl', 'brcl']\n",
      "['kwfl', 'ws', 'brop', 'va', 'sy', 'fnas', 'brop', 'brop', 'st', 'pu', 'ws', 'st', 'pu', 'ws', 'st', 'brcl', 'brcl', 'brcl', 'ws', 'brop', 'nl', 'id', 'cofl', 'nl', 'brcl']\n",
      "\n",
      "df.with_columns(\\\\    pl.when(pl.col(\"age\") > 20)\\\\    .then(1)\\\\    .otherwise(-1)\\\\    .alias(\"val\")\\\\)\n",
      "['va', 'sy', 'fnme', 'brop', 'nl', 'id', 'mo', 'sy', 'fnas', 'brop', 'mo', 'sy', 'fnas', 'brop', 'st', 'brcl', 'ws', 'opcm', 'ws', 'nu', 'brcl', 'nl', 'id', 'sy', 'fnme', 'brop', 'nu', 'brcl', 'nl', 'id', 'sy', 'fnme', 'brop', 'opun', 'nu', 'brcl', 'nl', 'id', 'sy', 'fnme', 'brop', 'st', 'brcl', 'nl', 'brcl']\n",
      "['mo', 'sy', 'fnas', 'brop', 'nl', 'id', 'mo', 'sy', 'fnas', 'brop', 'mo', 'sy', 'fnas', 'brop', 'st', 'brcl', 'ws', 'opcm', 'ws', 'nu', 'brcl', 'nl', 'id', 'sy', 'fnme', 'brop', 'nu', 'brcl', 'nl', 'id', 'sy', 'fnme', 'brop', 'opun', 'nu', 'brcl', 'nl', 'id', 'sy', 'fnme', 'brop', 'st', 'brcl', 'nl', 'brcl']\n",
      "\n",
      "var p = const ImmutablePoint(2, 2);\n",
      "['kwva', 'ws', 'va', 'ws', 'opas', 'ws', 'kwmo', 'ws', 'fnfr', 'brop', 'nu', 'pu', 'ws', 'nu', 'brcl', 'pu']\n",
      "['kwva', 'ws', 'va', 'ws', 'opas', 'ws', 'opas', 'ws', 'fnfr', 'brop', 'nu', 'pu', 'ws', 'nu', 'brcl', 'pu']\n",
      "\n",
      "let age = Number(null);\\\\\\\\alert(age);\n",
      "['kwva', 'ws', 'va', 'ws', 'opas', 'ws', 'fnfr', 'brop', 'li', 'brcl', 'pu', 'nl', 'fnfr', 'brop', 'va', 'brcl', 'pu']\n",
      "['kwva', 'ws', 'va', 'ws', 'opas', 'ws', 'fnfr', 'brop', 'va', 'brcl', 'pu', 'nl', 'fnfr', 'brop', 'va', 'brcl', 'pu']\n",
      "\n",
      "function factorial (n)\\\\  if n == 0 then\\\\    return 1\\\\  else\\\\    return n * factorial(n-1)\\\\  end\\\\end\n",
      "['kwfn', 'ws', 'fnfr', 'ws', 'brop', 'pa', 'brcl', 'nl', 'id', 'kwfl', 'ws', 'pa', 'ws', 'opcm', 'ws', 'nu', 'ws', 'kwfl', 'nl', 'id', 'kwfl', 'ws', 'nu', 'nl', 'id', 'kwfl', 'nl', 'id', 'kwfl', 'ws', 'pa', 'ws', 'opbi', 'ws', 'fnfr', 'brop', 'pa', 'opbi', 'nu', 'brcl', 'nl', 'id', 'kwfl', 'nl', 'kwfl']\n",
      "['kwfn', 'ws', 'cl', 'ws', 'brop', 'pa', 'brcl', 'nl', 'id', 'kwfl', 'ws', 'va', 'ws', 'opcm', 'ws', 'nu', 'ws', 'va', 'nl', 'id', 'kwfl', 'ws', 'nu', 'nl', 'id', 'kwfl', 'nl', 'id', 'kwfl', 'ws', 'va', 'ws', 'opbi', 'ws', 'fnfr', 'brop', 'pa', 'opbi', 'nu', 'brcl', 'nl', 'id', 'kwfl', 'nl', 'kwfl']\n",
      "\n",
      "name = (\\\\    \"abra\"\\\\    if the.thing.is()\\\\    else \"cadabra\"\\\\    if the.thing.could.be()\\\\    else \"nope\"\\\\)\n",
      "['va', 'ws', 'opas', 'ws', 'brop', 'nl', 'id', 'st', 'nl', 'id', 'kwfl', 'ws', 'va', 'sy', 'at', 'sy', 'fnme', 'brop', 'brcl', 'nl', 'id', 'kwfl', 'ws', 'st', 'nl', 'id', 'kwfl', 'ws', 'va', 'sy', 'at', 'sy', 'at', 'sy', 'fnme', 'brop', 'brcl', 'nl', 'id', 'kwfl', 'ws', 'st', 'nl', 'brcl']\n",
      "['va', 'ws', 'opas', 'ws', 'brop', 'nl', 'id', 'st', 'nl', 'id', 'kwfl', 'ws', 'mo', 'sy', 'at', 'sy', 'fnme', 'brop', 'brcl', 'nl', 'id', 'kwfl', 'ws', 'st', 'nl', 'id', 'kwfl', 'ws', 'mo', 'sy', 'at', 'sy', 'at', 'sy', 'fnme', 'brop', 'brcl', 'nl', 'id', 'kwfl', 'ws', 'st', 'nl', 'brcl']\n",
      "\n",
      "  for (var i = 0; i < l1.length; i++) {\\\\    if (l1[i] != l2[i]) {\\\\      return false;\\\\    }\\\\  }\\\\  return true;\n",
      "['id', 'kwfl', 'ws', 'brop', 'kwva', 'ws', 'va', 'ws', 'opas', 'ws', 'nu', 'pu', 'ws', 'va', 'ws', 'opcm', 'ws', 'va', 'sy', 'at', 'pu', 'ws', 'va', 'opun', 'brcl', 'ws', 'brop', 'nl', 'id', 'kwfl', 'ws', 'brop', 'va', 'brop', 'va', 'brcl', 'ws', 'opcm', 'ws', 'va', 'brop', 'va', 'brcl', 'brcl', 'ws', 'brop', 'nl', 'id', 'kwfl', 'ws', 'bo', 'pu', 'nl', 'id', 'brcl', 'nl', 'id', 'brcl', 'nl', 'id', 'kwfl', 'ws', 'bo', 'pu']\n",
      "['id', 'kwfl', 'ws', 'brop', 'kwva', 'ws', 'va', 'ws', 'opas', 'ws', 'nu', 'pu', 'ws', 'va', 'ws', 'opcm', 'ws', 'va', 'sy', 'at', 'pu', 'ws', 'va', 'opun', 'brcl', 'ws', 'brop', 'nl', 'id', 'kwfl', 'ws', 'brop', 'va', 'brop', 'va', 'brcl', 'ws', 'opcm', 'ws', 'va', 'brop', 'va', 'brcl', 'brcl', 'ws', 'brop', 'nl', 'cl', 'kwfl', 'ws', 'bo', 'pu', 'nl', 'id', 'brcl', 'nl', 'id', 'brcl', 'nl', 'id', 'kwfl', 'ws', 'bo', 'pu']\n",
      "\n",
      "pub fn sum_primint<T>(a: &Vec<T>) -> T\\\\where\\\\    T: PrimInt,\\\\{\\\\    let mut s = T::zero();\\\\\\\\    for x in a {\\\\        s = s + *x;\\\\    }\\\\\\\\    return s;\\\\}\n",
      "['kwmo', 'ws', 'kwfn', 'ws', 'fnfr', 'sy', 'cl', 'sy', 'brop', 'pa', 'sy', 'ws', 'opun', 'cl', 'sy', 'cl', 'sy', 'brcl', 'ws', 'sy', 'ws', 'cl', 'nl', 'kwde', 'nl', 'id', 'cl', 'sy', 'ws', 'cl', 'pu', 'nl', 'brop', 'nl', 'id', 'kwva', 'ws', 'kwmo', 'ws', 'va', 'ws', 'opas', 'ws', 'cl', 'sy', 'fnas', 'brop', 'brcl', 'pu', 'nl', 'id', 'kwfl', 'ws', 'va', 'ws', 'kwop', 'ws', 'pa', 'ws', 'brop', 'nl', 'id', 'va', 'ws', 'opas', 'ws', 'va', 'ws', 'opbi', 'ws', 'opun', 'va', 'pu', 'nl', 'id', 'brcl', 'nl', 'id', 'kwfl', 'ws', 'va', 'pu', 'nl', 'brcl']\n",
      "['kwmo', 'ws', 'opun', 'ws', 'mo', 'sy', 'cl', 'sy', 'brop', 'pa', 'sy', 'ws', 'opun', 'cl', 'sy', 'cl', 'sy', 'brcl', 'ws', 'sy', 'ws', 'cl', 'nl', 'va', 'nl', 'id', 'pa', 'sy', 'ws', 'pa', 'pu', 'nl', 'brop', 'nl', 'id', 'kwva', 'ws', 'kwmo', 'ws', 'va', 'ws', 'opas', 'ws', 'cl', 'sy', 'fnas', 'brop', 'brcl', 'pu', 'nl', 'id', 'kwfl', 'ws', 'va', 'ws', 'kwop', 'ws', 'cl', 'ws', 'brop', 'nl', 'id', 'va', 'ws', 'opas', 'ws', 'va', 'ws', 'opbi', 'ws', 'opun', 'va', 'pu', 'nl', 'id', 'brcl', 'nl', 'id', 'kwfl', 'ws', 'va', 'pu', 'nl', 'brcl']\n",
      "\n",
      "var runningSum = function (nums) {\\\\  let s = [];\\\\  let sum = 0.0;\\\\  for (n in nums) {\\\\    sum += n;\\\\    s.push(sum);\\\\    console.log(sum);\\\\  }\\\\  return s;\\\\};\n",
      "['kwva', 'ws', 'va', 'ws', 'opas', 'ws', 'kwfn', 'ws', 'brop', 'pa', 'brcl', 'ws', 'brop', 'nl', 'id', 'kwva', 'ws', 'va', 'ws', 'opas', 'ws', 'brop', 'brcl', 'pu', 'nl', 'id', 'kwva', 'ws', 'va', 'ws', 'opas', 'ws', 'nu', 'pu', 'nl', 'id', 'kwfl', 'ws', 'brop', 'va', 'ws', 'kwop', 'ws', 'pa', 'brcl', 'ws', 'brop', 'nl', 'id', 'va', 'ws', 'opas', 'ws', 'va', 'pu', 'nl', 'id', 'va', 'sy', 'fnme', 'brop', 'va', 'brcl', 'pu', 'nl', 'id', 'va', 'sy', 'fnme', 'brop', 'va', 'brcl', 'pu', 'nl', 'id', 'brcl', 'nl', 'id', 'kwfl', 'ws', 'va', 'pu', 'nl', 'brcl', 'pu']\n",
      "['kwva', 'ws', 'va', 'ws', 'opas', 'ws', 'kwfn', 'ws', 'brop', 'va', 'brcl', 'ws', 'brop', 'nl', 'id', 'kwva', 'ws', 'va', 'ws', 'opas', 'ws', 'brop', 'brcl', 'pu', 'nl', 'id', 'kwva', 'ws', 'va', 'ws', 'opas', 'ws', 'nu', 'pu', 'nl', 'id', 'kwfl', 'ws', 'brop', 'va', 'ws', 'kwop', 'ws', 'va', 'brcl', 'ws', 'brop', 'nl', 'id', 'va', 'ws', 'opas', 'ws', 'va', 'pu', 'nl', 'id', 'va', 'sy', 'fnme', 'brop', 'va', 'brcl', 'pu', 'nl', 'id', 'va', 'sy', 'fnme', 'brop', 'va', 'brcl', 'pu', 'nl', 'id', 'brcl', 'nl', 'id', 'kwfl', 'ws', 'va', 'pu', 'nl', 'brcl', 'pu']\n",
      "\n",
      "subplot(223);\\\\scatter(data_valid.x, data_valid.y, 30, yhat_v, 'filled', ...\\\\      'markeredgecolor', 'r')\\\\axis xy tight;\\\\title(\"Validation prediction\")\\\\xlabel(\"x\")\\\\ylabel(\"y\")\\\\colorbar\n",
      "['fnfr', 'brop', 'nu', 'brcl', 'pu', 'nl', 'fnfr', 'brop', 'va', 'sy', 'at', 'pu', 'ws', 'va', 'sy', 'at', 'pu', 'ws', 'nu', 'pu', 'ws', 'va', 'pu', 'ws', 'st', 'pu', 'ws', 'sy', 'nl', 'id', 'st', 'pu', 'ws', 'st', 'brcl', 'nl', 'kwio', 'ws', 'li', 'ws', 'li', 'pu', 'nl', 'fnfr', 'brop', 'st', 'brcl', 'nl', 'fnfr', 'brop', 'st', 'brcl', 'nl', 'fnfr', 'brop', 'st', 'brcl', 'nl', 'kwio']\n",
      "['fnfr', 'brop', 'nu', 'brcl', 'pu', 'nl', 'fnfr', 'brop', 'va', 'sy', 'at', 'pu', 'ws', 'va', 'sy', 'at', 'pu', 'ws', 'nu', 'pu', 'ws', 'va', 'pu', 'ws', 'st', 'pu', 'ws', 'sy', 'nl', 'va', 'st', 'pu', 'ws', 'st', 'brcl', 'nl', 'kwop', 'ws', 'li', 'ws', 'li', 'pu', 'nl', 'fnfr', 'brop', 'st', 'brcl', 'nl', 'fnfr', 'brop', 'st', 'brcl', 'nl', 'fnfr', 'brop', 'st', 'brcl', 'nl', 'va']\n",
      "\n",
      "import argparse\\\\parser = argparse.ArgumentParser(description=\"this is a script...\")\n",
      "['kwim', 'ws', 'mo', 'nl', 'va', 'ws', 'opas', 'ws', 'mo', 'sy', 'fnfr', 'brop', 'pa', 'opas', 'st', 'brcl']\n",
      "['kwim', 'ws', 'mo', 'nl', 'va', 'ws', 'opas', 'ws', 'mo', 'sy', 'fnas', 'brop', 'pa', 'opas', 'st', 'brcl']\n",
      "\n",
      "import curses\\\\stdscr = curses.initscr()\n",
      "['kwim', 'ws', 'mo', 'nl', 'va', 'ws', 'opas', 'ws', 'mo', 'sy', 'fnas', 'brop', 'brcl']\n",
      "['kwim', 'ws', 'mo', 'nl', 'va', 'ws', 'opas', 'ws', 'mo', 'sy', 'fnas', 'brop', 'brcl']\n",
      "\n",
      "curses.nocbreak()\\\\stdscr.keypad(False)\\\\curses.echo()\n",
      "['mo', 'sy', 'fnas', 'brop', 'brcl', 'nl', 'va', 'sy', 'fnme', 'brop', 'bo', 'brcl', 'nl', 'mo', 'sy', 'fnas', 'brop', 'brcl']\n",
      "['mo', 'sy', 'fnas', 'brop', 'brcl', 'nl', 'mo', 'sy', 'fnas', 'brop', 'kwty', 'brcl', 'nl', 'mo', 'sy', 'fnas', 'brop', 'brcl']\n",
      "\n"
     ]
    }
   ],
   "source": [
    "# print(os.listdir())\n",
    "\n",
    "model.eval()\n",
    "with torch.no_grad():\n",
    "    tag_scores = model(val_token_tensors, val_tag_det_tensors)\n",
    "    predictions = torch.argmax(tag_scores, dim=-1)  # Shape: (batch_size, seq_len)\n",
    "\n",
    "print(\"predictions\", predictions.size())\n",
    "\n",
    "outputs = {}\n",
    "for ex, pred in zip(data[\"val\"].iter_rows(named=True), predictions, strict=True):\n",
    "    pred_tags = []\n",
    "    for p in pred:\n",
    "        if p == 0:\n",
    "            break\n",
    "        pred_tags.append(tag_vocab[p])\n",
    "    assert len(ex[\"tokens\"]) == len(pred_tags), \"wrong length\"\n",
    "    pred_tags\n",
    "    print(\"\".join(ex[\"tokens\"]).replace(\"\\n\", \"\\\\\\\\\"))\n",
    "    print(ex[\"tags\"])\n",
    "    print(pred_tags)\n",
    "    print()\n",
    "    outputs[ex[\"name\"] + \"_\" + ex[\"lang\"]] = {\"tokens\": ex[\"tokens\"], \"tags\": pred_tags}\n",
    "with open(\"../output/pred_output.json\", \"w\", encoding=\"utf-8\") as f:\n",
    "    json.dump(outputs, f)"
   ]
  },
  {
   "cell_type": "markdown",
   "metadata": {},
   "source": [
    "# parameter search\n"
   ]
  },
  {
   "cell_type": "code",
   "execution_count": 15,
   "metadata": {},
   "outputs": [
    {
     "name": "stdout",
     "output_type": "stream",
     "text": [
      "Searching 72 new parameter points\n"
     ]
    },
    {
     "name": "stderr",
     "output_type": "stream",
     "text": [
      "100%|██████████| 72/72 [12:13<00:00, 10.18s/it]"
     ]
    },
    {
     "name": "stdout",
     "output_type": "stream",
     "text": [
      "Sum of runtime: 733.04 s. Elapsed time 733.10 s.\n",
      "Overhead: 0.0552 s.\n"
     ]
    },
    {
     "name": "stderr",
     "output_type": "stream",
     "text": [
      "\n"
     ]
    },
    {
     "data": {
      "text/html": [
       "<div><style>\n",
       ".dataframe > thead > tr,\n",
       ".dataframe > tbody > tr {\n",
       "  text-align: right;\n",
       "  white-space: pre-wrap;\n",
       "}\n",
       "</style>\n",
       "<small>shape: (10, 14)</small><table border=\"1\" class=\"dataframe\"><thead><tr><th>_acc</th><th>_f1_macro</th><th>_train_loss</th><th>_val_loss</th><th>bidi</th><th>class_weight_smoothing</th><th>dropout_lstm</th><th>embedding_dim</th><th>hidden_dim</th><th>lr_gamma</th><th>lr_start</th><th>n_lstm_layers</th><th>runtime</th><th>train_time</th></tr><tr><td>f64</td><td>f64</td><td>f64</td><td>f64</td><td>bool</td><td>f64</td><td>f64</td><td>i32</td><td>i32</td><td>f64</td><td>f64</td><td>i32</td><td>f64</td><td>i32</td></tr></thead><tbody><tr><td>0.959839</td><td>0.859647</td><td>0.000105</td><td>0.083483</td><td>true</td><td>10.0</td><td>0.7</td><td>32</td><td>128</td><td>0.99</td><td>0.01</td><td>2</td><td>10.300203</td><td>10</td></tr><tr><td>0.957544</td><td>0.857774</td><td>0.000058</td><td>0.089083</td><td>true</td><td>20.0</td><td>0.3</td><td>32</td><td>64</td><td>0.99</td><td>0.01</td><td>2</td><td>10.090659</td><td>10</td></tr><tr><td>0.960413</td><td>0.857146</td><td>0.00004</td><td>0.082477</td><td>true</td><td>20.0</td><td>0.5</td><td>32</td><td>64</td><td>0.99</td><td>0.01</td><td>2</td><td>10.097066</td><td>10</td></tr><tr><td>0.956397</td><td>0.85695</td><td>0.000067</td><td>0.082223</td><td>true</td><td>20.0</td><td>0.3</td><td>16</td><td>64</td><td>0.99</td><td>0.01</td><td>2</td><td>10.119179</td><td>10</td></tr><tr><td>0.956397</td><td>0.856522</td><td>0.000197</td><td>0.095253</td><td>true</td><td>10.0</td><td>0.7</td><td>24</td><td>64</td><td>0.99</td><td>0.01</td><td>2</td><td>10.111013</td><td>10</td></tr><tr><td>0.956971</td><td>0.856358</td><td>0.000359</td><td>0.078814</td><td>true</td><td>20.0</td><td>0.7</td><td>32</td><td>128</td><td>0.99</td><td>0.01</td><td>2</td><td>10.295966</td><td>10</td></tr><tr><td>0.958692</td><td>0.855137</td><td>0.000091</td><td>0.083989</td><td>true</td><td>10.0</td><td>0.5</td><td>32</td><td>128</td><td>0.99</td><td>0.01</td><td>2</td><td>10.322374</td><td>10</td></tr><tr><td>0.952381</td><td>0.855093</td><td>0.000062</td><td>0.082385</td><td>true</td><td>20.0</td><td>0.5</td><td>16</td><td>64</td><td>0.99</td><td>0.01</td><td>2</td><td>10.11508</td><td>10</td></tr><tr><td>0.958118</td><td>0.854376</td><td>0.000073</td><td>0.08803</td><td>true</td><td>10.0</td><td>0.5</td><td>24</td><td>128</td><td>0.99</td><td>0.01</td><td>2</td><td>10.280692</td><td>10</td></tr><tr><td>0.958118</td><td>0.85174</td><td>0.000064</td><td>0.075031</td><td>true</td><td>10.0</td><td>0.5</td><td>32</td><td>64</td><td>0.99</td><td>0.01</td><td>2</td><td>10.123544</td><td>10</td></tr></tbody></table></div>"
      ],
      "text/plain": [
       "shape: (10, 14)\n",
       "┌──────────┬───────────┬────────────┬───────────┬───┬──────────┬───────────┬───────────┬───────────┐\n",
       "│ _acc     ┆ _f1_macro ┆ _train_los ┆ _val_loss ┆ … ┆ lr_start ┆ n_lstm_la ┆ runtime   ┆ train_tim │\n",
       "│ ---      ┆ ---       ┆ s          ┆ ---       ┆   ┆ ---      ┆ yers      ┆ ---       ┆ e         │\n",
       "│ f64      ┆ f64       ┆ ---        ┆ f64       ┆   ┆ f64      ┆ ---       ┆ f64       ┆ ---       │\n",
       "│          ┆           ┆ f64        ┆           ┆   ┆          ┆ i32       ┆           ┆ i32       │\n",
       "╞══════════╪═══════════╪════════════╪═══════════╪═══╪══════════╪═══════════╪═══════════╪═══════════╡\n",
       "│ 0.959839 ┆ 0.859647  ┆ 0.000105   ┆ 0.083483  ┆ … ┆ 0.01     ┆ 2         ┆ 10.300203 ┆ 10        │\n",
       "│ 0.957544 ┆ 0.857774  ┆ 0.000058   ┆ 0.089083  ┆ … ┆ 0.01     ┆ 2         ┆ 10.090659 ┆ 10        │\n",
       "│ 0.960413 ┆ 0.857146  ┆ 0.00004    ┆ 0.082477  ┆ … ┆ 0.01     ┆ 2         ┆ 10.097066 ┆ 10        │\n",
       "│ 0.956397 ┆ 0.85695   ┆ 0.000067   ┆ 0.082223  ┆ … ┆ 0.01     ┆ 2         ┆ 10.119179 ┆ 10        │\n",
       "│ 0.956397 ┆ 0.856522  ┆ 0.000197   ┆ 0.095253  ┆ … ┆ 0.01     ┆ 2         ┆ 10.111013 ┆ 10        │\n",
       "│ 0.956971 ┆ 0.856358  ┆ 0.000359   ┆ 0.078814  ┆ … ┆ 0.01     ┆ 2         ┆ 10.295966 ┆ 10        │\n",
       "│ 0.958692 ┆ 0.855137  ┆ 0.000091   ┆ 0.083989  ┆ … ┆ 0.01     ┆ 2         ┆ 10.322374 ┆ 10        │\n",
       "│ 0.952381 ┆ 0.855093  ┆ 0.000062   ┆ 0.082385  ┆ … ┆ 0.01     ┆ 2         ┆ 10.11508  ┆ 10        │\n",
       "│ 0.958118 ┆ 0.854376  ┆ 0.000073   ┆ 0.08803   ┆ … ┆ 0.01     ┆ 2         ┆ 10.280692 ┆ 10        │\n",
       "│ 0.958118 ┆ 0.85174   ┆ 0.000064   ┆ 0.075031  ┆ … ┆ 0.01     ┆ 2         ┆ 10.123544 ┆ 10        │\n",
       "└──────────┴───────────┴────────────┴───────────┴───┴──────────┴───────────┴───────────┴───────────┘"
      ]
     },
     "metadata": {},
     "output_type": "display_data"
    },
    {
     "data": {
      "text/plain": [
       "{'_acc': 0.9598393574297188,\n",
       " '_f1_macro': 0.8596474686539787,\n",
       " '_train_loss': 0.00010493211108647908,\n",
       " '_val_loss': 0.08348282799124718,\n",
       " 'bidi': True,\n",
       " 'class_weight_smoothing': 10.0,\n",
       " 'dropout_lstm': 0.7,\n",
       " 'embedding_dim': 32,\n",
       " 'hidden_dim': 128,\n",
       " 'lr_gamma': 0.99,\n",
       " 'lr_start': 0.01,\n",
       " 'n_lstm_layers': 2,\n",
       " 'runtime': 10.300203221999254,\n",
       " 'train_time': 10}"
      ]
     },
     "metadata": {},
     "output_type": "display_data"
    }
   ],
   "source": [
    "from coolsearch import search\n",
    "\n",
    "reload(search)\n",
    "\n",
    "\n",
    "def objective(\n",
    "    embedding_dim,\n",
    "    hidden_dim,\n",
    "    n_lstm_layers,\n",
    "    dropout_lstm,\n",
    "    train_time,\n",
    "    class_weight_smoothing,\n",
    "    bidi,\n",
    "    lr_start,\n",
    "    lr_gamma,\n",
    "):\n",
    "    model = models_torch.LSTMTagger(\n",
    "        len(vocab),\n",
    "        len(tag_vocab),\n",
    "        embedding_dim,\n",
    "        hidden_dim,\n",
    "        n_lstm_layers,\n",
    "        dropout_lstm,\n",
    "        bidi,\n",
    "    ).to(dev)\n",
    "    tag_weights = class_weights(tag_counts, tag_vocab, class_weight_smoothing)\n",
    "\n",
    "    loss_function = torch.nn.CrossEntropyLoss(weight=tag_weights).to(dev)\n",
    "\n",
    "    optimizer = torch.optim.Adam(model.parameters(), lr=lr_start)\n",
    "    lr_s = torch.optim.lr_scheduler.ExponentialLR(optimizer, gamma=lr_gamma)\n",
    "\n",
    "    # Training loop\n",
    "\n",
    "    t_start = default_timer()\n",
    "    epochs_run = 0\n",
    "    while default_timer() < t_start + train_time:\n",
    "        # TRAINING\n",
    "        models_torch.run_epoch(model, train_loader, loss_function, optimizer)\n",
    "\n",
    "        lr_s.step()\n",
    "        epochs_run += 1\n",
    "\n",
    "    model.eval()\n",
    "    with torch.no_grad():\n",
    "        train_loss = models_torch.run_epoch(model, train_loader, loss_function)\n",
    "        val_loss = models_torch.run_epoch(model, val_loader, loss_function)\n",
    "        tag_scores = model(val_token_tensors, val_tag_det_tensors)\n",
    "        predictions = torch.argmax(tag_scores, dim=-1)\n",
    "\n",
    "    pred_tags = []\n",
    "    true_tags = []\n",
    "\n",
    "    for pred, true_t in zip(predictions, val_tag_true_idx):\n",
    "        true_tags.extend([tag_vocab[t] for t in true_t])\n",
    "        pred_tags.extend([tag_vocab[t] for t in pred[: len(true_t)]])\n",
    "\n",
    "    return {\n",
    "        \"_acc\": metrics.accuracy_score(true_tags, pred_tags),\n",
    "        \"_f1_macro\": metrics.f1_score(true_tags, pred_tags, average=\"macro\"),\n",
    "        \"_train_loss\": train_loss,\n",
    "        \"_val_loss\": val_loss,\n",
    "    }\n",
    "\n",
    "\n",
    "params = {\n",
    "    \"embedding_dim\": [16, 24, 32],\n",
    "    \"hidden_dim\": [64, 128],\n",
    "    \"n_lstm_layers\": [2],\n",
    "    \"dropout_lstm\": [0.3, 0.5, 0.7],\n",
    "    \"train_time\": 10,\n",
    "    \"class_weight_smoothing\": [10.0, 20.0],\n",
    "    \"bidi\": True,\n",
    "    \"lr_start\": [0.05, 0.01],\n",
    "    \"lr_gamma\": [0.99],\n",
    "}\n",
    "\n",
    "\n",
    "cs = search.CoolSearch(\n",
    "    objective,\n",
    "    params,\n",
    "    n_jobs=1,\n",
    "    samples_file=\"../search/lstm_0116.csv\",\n",
    ")\n",
    "cs.grid_search(3)\n",
    "res = cs.samples.sort(-pl.col(\"_f1_macro\")).head(10)\n",
    "display(res)\n",
    "display(res.row(0, named=True))"
   ]
  },
  {
   "cell_type": "code",
   "execution_count": 16,
   "metadata": {},
   "outputs": [
    {
     "name": "stdout",
     "output_type": "stream",
     "text": [
      "['embedding_dim', 'hidden_dim', 'n_lstm_layers', 'dropout_lstm', 'train_time', 'class_weight_smoothing', 'bidi', 'lr_start', 'lr_gamma']\n"
     ]
    },
    {
     "data": {
      "application/vnd.plotly.v1+json": {
       "config": {
        "plotlyServerURL": "https://plot.ly"
       },
       "data": [
        {
         "type": "scatter",
         "x": [
          16,
          24,
          32
         ],
         "y": [
          0.9575444635685599,
          0.9586919104991394,
          0.9604130808950087
         ]
        },
        {
         "type": "scatter",
         "x": [
          16,
          24,
          32
         ],
         "y": [
          0.9487473704341175,
          0.8303212851405622,
          0.9409303882195449
         ]
        }
       ],
       "layout": {
        "height": 200,
        "template": {
         "data": {
          "bar": [
           {
            "error_x": {
             "color": "#f2f5fa"
            },
            "error_y": {
             "color": "#f2f5fa"
            },
            "marker": {
             "line": {
              "color": "rgb(17,17,17)",
              "width": 0.5
             },
             "pattern": {
              "fillmode": "overlay",
              "size": 10,
              "solidity": 0.2
             }
            },
            "type": "bar"
           }
          ],
          "barpolar": [
           {
            "marker": {
             "line": {
              "color": "rgb(17,17,17)",
              "width": 0.5
             },
             "pattern": {
              "fillmode": "overlay",
              "size": 10,
              "solidity": 0.2
             }
            },
            "type": "barpolar"
           }
          ],
          "carpet": [
           {
            "aaxis": {
             "endlinecolor": "#A2B1C6",
             "gridcolor": "#506784",
             "linecolor": "#506784",
             "minorgridcolor": "#506784",
             "startlinecolor": "#A2B1C6"
            },
            "baxis": {
             "endlinecolor": "#A2B1C6",
             "gridcolor": "#506784",
             "linecolor": "#506784",
             "minorgridcolor": "#506784",
             "startlinecolor": "#A2B1C6"
            },
            "type": "carpet"
           }
          ],
          "choropleth": [
           {
            "colorbar": {
             "outlinewidth": 0,
             "ticks": ""
            },
            "type": "choropleth"
           }
          ],
          "contour": [
           {
            "colorbar": {
             "outlinewidth": 0,
             "ticks": ""
            },
            "colorscale": [
             [
              0,
              "#0d0887"
             ],
             [
              0.1111111111111111,
              "#46039f"
             ],
             [
              0.2222222222222222,
              "#7201a8"
             ],
             [
              0.3333333333333333,
              "#9c179e"
             ],
             [
              0.4444444444444444,
              "#bd3786"
             ],
             [
              0.5555555555555556,
              "#d8576b"
             ],
             [
              0.6666666666666666,
              "#ed7953"
             ],
             [
              0.7777777777777778,
              "#fb9f3a"
             ],
             [
              0.8888888888888888,
              "#fdca26"
             ],
             [
              1,
              "#f0f921"
             ]
            ],
            "type": "contour"
           }
          ],
          "contourcarpet": [
           {
            "colorbar": {
             "outlinewidth": 0,
             "ticks": ""
            },
            "type": "contourcarpet"
           }
          ],
          "heatmap": [
           {
            "colorbar": {
             "outlinewidth": 0,
             "ticks": ""
            },
            "colorscale": [
             [
              0,
              "#0d0887"
             ],
             [
              0.1111111111111111,
              "#46039f"
             ],
             [
              0.2222222222222222,
              "#7201a8"
             ],
             [
              0.3333333333333333,
              "#9c179e"
             ],
             [
              0.4444444444444444,
              "#bd3786"
             ],
             [
              0.5555555555555556,
              "#d8576b"
             ],
             [
              0.6666666666666666,
              "#ed7953"
             ],
             [
              0.7777777777777778,
              "#fb9f3a"
             ],
             [
              0.8888888888888888,
              "#fdca26"
             ],
             [
              1,
              "#f0f921"
             ]
            ],
            "type": "heatmap"
           }
          ],
          "heatmapgl": [
           {
            "colorbar": {
             "outlinewidth": 0,
             "ticks": ""
            },
            "colorscale": [
             [
              0,
              "#0d0887"
             ],
             [
              0.1111111111111111,
              "#46039f"
             ],
             [
              0.2222222222222222,
              "#7201a8"
             ],
             [
              0.3333333333333333,
              "#9c179e"
             ],
             [
              0.4444444444444444,
              "#bd3786"
             ],
             [
              0.5555555555555556,
              "#d8576b"
             ],
             [
              0.6666666666666666,
              "#ed7953"
             ],
             [
              0.7777777777777778,
              "#fb9f3a"
             ],
             [
              0.8888888888888888,
              "#fdca26"
             ],
             [
              1,
              "#f0f921"
             ]
            ],
            "type": "heatmapgl"
           }
          ],
          "histogram": [
           {
            "marker": {
             "pattern": {
              "fillmode": "overlay",
              "size": 10,
              "solidity": 0.2
             }
            },
            "type": "histogram"
           }
          ],
          "histogram2d": [
           {
            "colorbar": {
             "outlinewidth": 0,
             "ticks": ""
            },
            "colorscale": [
             [
              0,
              "#0d0887"
             ],
             [
              0.1111111111111111,
              "#46039f"
             ],
             [
              0.2222222222222222,
              "#7201a8"
             ],
             [
              0.3333333333333333,
              "#9c179e"
             ],
             [
              0.4444444444444444,
              "#bd3786"
             ],
             [
              0.5555555555555556,
              "#d8576b"
             ],
             [
              0.6666666666666666,
              "#ed7953"
             ],
             [
              0.7777777777777778,
              "#fb9f3a"
             ],
             [
              0.8888888888888888,
              "#fdca26"
             ],
             [
              1,
              "#f0f921"
             ]
            ],
            "type": "histogram2d"
           }
          ],
          "histogram2dcontour": [
           {
            "colorbar": {
             "outlinewidth": 0,
             "ticks": ""
            },
            "colorscale": [
             [
              0,
              "#0d0887"
             ],
             [
              0.1111111111111111,
              "#46039f"
             ],
             [
              0.2222222222222222,
              "#7201a8"
             ],
             [
              0.3333333333333333,
              "#9c179e"
             ],
             [
              0.4444444444444444,
              "#bd3786"
             ],
             [
              0.5555555555555556,
              "#d8576b"
             ],
             [
              0.6666666666666666,
              "#ed7953"
             ],
             [
              0.7777777777777778,
              "#fb9f3a"
             ],
             [
              0.8888888888888888,
              "#fdca26"
             ],
             [
              1,
              "#f0f921"
             ]
            ],
            "type": "histogram2dcontour"
           }
          ],
          "mesh3d": [
           {
            "colorbar": {
             "outlinewidth": 0,
             "ticks": ""
            },
            "type": "mesh3d"
           }
          ],
          "parcoords": [
           {
            "line": {
             "colorbar": {
              "outlinewidth": 0,
              "ticks": ""
             }
            },
            "type": "parcoords"
           }
          ],
          "pie": [
           {
            "automargin": true,
            "type": "pie"
           }
          ],
          "scatter": [
           {
            "marker": {
             "line": {
              "color": "#283442"
             }
            },
            "type": "scatter"
           }
          ],
          "scatter3d": [
           {
            "line": {
             "colorbar": {
              "outlinewidth": 0,
              "ticks": ""
             }
            },
            "marker": {
             "colorbar": {
              "outlinewidth": 0,
              "ticks": ""
             }
            },
            "type": "scatter3d"
           }
          ],
          "scattercarpet": [
           {
            "marker": {
             "colorbar": {
              "outlinewidth": 0,
              "ticks": ""
             }
            },
            "type": "scattercarpet"
           }
          ],
          "scattergeo": [
           {
            "marker": {
             "colorbar": {
              "outlinewidth": 0,
              "ticks": ""
             }
            },
            "type": "scattergeo"
           }
          ],
          "scattergl": [
           {
            "marker": {
             "line": {
              "color": "#283442"
             }
            },
            "type": "scattergl"
           }
          ],
          "scattermapbox": [
           {
            "marker": {
             "colorbar": {
              "outlinewidth": 0,
              "ticks": ""
             }
            },
            "type": "scattermapbox"
           }
          ],
          "scatterpolar": [
           {
            "marker": {
             "colorbar": {
              "outlinewidth": 0,
              "ticks": ""
             }
            },
            "type": "scatterpolar"
           }
          ],
          "scatterpolargl": [
           {
            "marker": {
             "colorbar": {
              "outlinewidth": 0,
              "ticks": ""
             }
            },
            "type": "scatterpolargl"
           }
          ],
          "scatterternary": [
           {
            "marker": {
             "colorbar": {
              "outlinewidth": 0,
              "ticks": ""
             }
            },
            "type": "scatterternary"
           }
          ],
          "surface": [
           {
            "colorbar": {
             "outlinewidth": 0,
             "ticks": ""
            },
            "colorscale": [
             [
              0,
              "#0d0887"
             ],
             [
              0.1111111111111111,
              "#46039f"
             ],
             [
              0.2222222222222222,
              "#7201a8"
             ],
             [
              0.3333333333333333,
              "#9c179e"
             ],
             [
              0.4444444444444444,
              "#bd3786"
             ],
             [
              0.5555555555555556,
              "#d8576b"
             ],
             [
              0.6666666666666666,
              "#ed7953"
             ],
             [
              0.7777777777777778,
              "#fb9f3a"
             ],
             [
              0.8888888888888888,
              "#fdca26"
             ],
             [
              1,
              "#f0f921"
             ]
            ],
            "type": "surface"
           }
          ],
          "table": [
           {
            "cells": {
             "fill": {
              "color": "#506784"
             },
             "line": {
              "color": "rgb(17,17,17)"
             }
            },
            "header": {
             "fill": {
              "color": "#2a3f5f"
             },
             "line": {
              "color": "rgb(17,17,17)"
             }
            },
            "type": "table"
           }
          ]
         },
         "layout": {
          "annotationdefaults": {
           "arrowcolor": "#f2f5fa",
           "arrowhead": 0,
           "arrowwidth": 1
          },
          "autosize": false,
          "autotypenumbers": "strict",
          "coloraxis": {
           "colorbar": {
            "outlinewidth": 0,
            "ticks": ""
           }
          },
          "colorscale": {
           "diverging": [
            [
             0,
             "#8e0152"
            ],
            [
             0.1,
             "#c51b7d"
            ],
            [
             0.2,
             "#de77ae"
            ],
            [
             0.3,
             "#f1b6da"
            ],
            [
             0.4,
             "#fde0ef"
            ],
            [
             0.5,
             "#f7f7f7"
            ],
            [
             0.6,
             "#e6f5d0"
            ],
            [
             0.7,
             "#b8e186"
            ],
            [
             0.8,
             "#7fbc41"
            ],
            [
             0.9,
             "#4d9221"
            ],
            [
             1,
             "#276419"
            ]
           ],
           "sequential": [
            [
             0,
             "#0d0887"
            ],
            [
             0.1111111111111111,
             "#46039f"
            ],
            [
             0.2222222222222222,
             "#7201a8"
            ],
            [
             0.3333333333333333,
             "#9c179e"
            ],
            [
             0.4444444444444444,
             "#bd3786"
            ],
            [
             0.5555555555555556,
             "#d8576b"
            ],
            [
             0.6666666666666666,
             "#ed7953"
            ],
            [
             0.7777777777777778,
             "#fb9f3a"
            ],
            [
             0.8888888888888888,
             "#fdca26"
            ],
            [
             1,
             "#f0f921"
            ]
           ],
           "sequentialminus": [
            [
             0,
             "#0d0887"
            ],
            [
             0.1111111111111111,
             "#46039f"
            ],
            [
             0.2222222222222222,
             "#7201a8"
            ],
            [
             0.3333333333333333,
             "#9c179e"
            ],
            [
             0.4444444444444444,
             "#bd3786"
            ],
            [
             0.5555555555555556,
             "#d8576b"
            ],
            [
             0.6666666666666666,
             "#ed7953"
            ],
            [
             0.7777777777777778,
             "#fb9f3a"
            ],
            [
             0.8888888888888888,
             "#fdca26"
            ],
            [
             1,
             "#f0f921"
            ]
           ]
          },
          "colorway": [
           "#636efa",
           "#EF553B",
           "#00cc96",
           "#ab63fa",
           "#FFA15A",
           "#19d3f3",
           "#FF6692",
           "#B6E880",
           "#FF97FF",
           "#FECB52"
          ],
          "font": {
           "color": "#f2f5fa"
          },
          "geo": {
           "bgcolor": "rgb(17,17,17)",
           "lakecolor": "rgb(17,17,17)",
           "landcolor": "rgb(17,17,17)",
           "showlakes": true,
           "showland": true,
           "subunitcolor": "#506784"
          },
          "height": 300,
          "hoverlabel": {
           "align": "left"
          },
          "hovermode": "closest",
          "mapbox": {
           "style": "dark"
          },
          "margin": {
           "b": 40,
           "l": 40,
           "r": 40,
           "t": 40
          },
          "paper_bgcolor": "rgba(0,0,0,0)",
          "plot_bgcolor": "rgba(0,0,0,0)",
          "polar": {
           "angularaxis": {
            "gridcolor": "#506784",
            "linecolor": "#506784",
            "ticks": ""
           },
           "bgcolor": "rgb(17,17,17)",
           "radialaxis": {
            "gridcolor": "#506784",
            "linecolor": "#506784",
            "ticks": ""
           }
          },
          "scene": {
           "xaxis": {
            "backgroundcolor": "rgb(17,17,17)",
            "gridcolor": "#506784",
            "gridwidth": 2,
            "linecolor": "#506784",
            "showbackground": true,
            "ticks": "",
            "zerolinecolor": "#C8D4E3"
           },
           "yaxis": {
            "backgroundcolor": "rgb(17,17,17)",
            "gridcolor": "#506784",
            "gridwidth": 2,
            "linecolor": "#506784",
            "showbackground": true,
            "ticks": "",
            "zerolinecolor": "#C8D4E3"
           },
           "zaxis": {
            "backgroundcolor": "rgb(17,17,17)",
            "gridcolor": "#506784",
            "gridwidth": 2,
            "linecolor": "#506784",
            "showbackground": true,
            "ticks": "",
            "zerolinecolor": "#C8D4E3"
           }
          },
          "shapedefaults": {
           "line": {
            "color": "#f2f5fa"
           }
          },
          "sliderdefaults": {
           "bgcolor": "#C8D4E3",
           "bordercolor": "rgb(17,17,17)",
           "borderwidth": 1,
           "tickwidth": 0
          },
          "ternary": {
           "aaxis": {
            "gridcolor": "#506784",
            "linecolor": "#506784",
            "ticks": ""
           },
           "baxis": {
            "gridcolor": "#506784",
            "linecolor": "#506784",
            "ticks": ""
           },
           "bgcolor": "rgb(17,17,17)",
           "caxis": {
            "gridcolor": "#506784",
            "linecolor": "#506784",
            "ticks": ""
           }
          },
          "title": {
           "x": 0.05
          },
          "updatemenudefaults": {
           "bgcolor": "#506784",
           "borderwidth": 0
          },
          "width": 600,
          "xaxis": {
           "automargin": true,
           "gridcolor": "#283442",
           "linecolor": "#506784",
           "ticks": "",
           "title": {
            "standoff": 15
           },
           "zerolinecolor": "#283442",
           "zerolinewidth": 2
          },
          "yaxis": {
           "automargin": true,
           "gridcolor": "#283442",
           "linecolor": "#506784",
           "ticks": "",
           "title": {
            "standoff": 15
           },
           "zerolinecolor": "#283442",
           "zerolinewidth": 2
          }
         }
        },
        "title": {
         "text": "embedding_dim"
        },
        "width": 400
       }
      }
     },
     "metadata": {},
     "output_type": "display_data"
    },
    {
     "data": {
      "application/vnd.plotly.v1+json": {
       "config": {
        "plotlyServerURL": "https://plot.ly"
       },
       "data": [
        {
         "type": "scatter",
         "x": [
          64,
          128
         ],
         "y": [
          0.9604130808950087,
          0.9598393574297188
         ]
        },
        {
         "type": "scatter",
         "x": [
          64,
          128
         ],
         "y": [
          0.9520940906483075,
          0.8612386052145088
         ]
        }
       ],
       "layout": {
        "height": 200,
        "template": {
         "data": {
          "bar": [
           {
            "error_x": {
             "color": "#f2f5fa"
            },
            "error_y": {
             "color": "#f2f5fa"
            },
            "marker": {
             "line": {
              "color": "rgb(17,17,17)",
              "width": 0.5
             },
             "pattern": {
              "fillmode": "overlay",
              "size": 10,
              "solidity": 0.2
             }
            },
            "type": "bar"
           }
          ],
          "barpolar": [
           {
            "marker": {
             "line": {
              "color": "rgb(17,17,17)",
              "width": 0.5
             },
             "pattern": {
              "fillmode": "overlay",
              "size": 10,
              "solidity": 0.2
             }
            },
            "type": "barpolar"
           }
          ],
          "carpet": [
           {
            "aaxis": {
             "endlinecolor": "#A2B1C6",
             "gridcolor": "#506784",
             "linecolor": "#506784",
             "minorgridcolor": "#506784",
             "startlinecolor": "#A2B1C6"
            },
            "baxis": {
             "endlinecolor": "#A2B1C6",
             "gridcolor": "#506784",
             "linecolor": "#506784",
             "minorgridcolor": "#506784",
             "startlinecolor": "#A2B1C6"
            },
            "type": "carpet"
           }
          ],
          "choropleth": [
           {
            "colorbar": {
             "outlinewidth": 0,
             "ticks": ""
            },
            "type": "choropleth"
           }
          ],
          "contour": [
           {
            "colorbar": {
             "outlinewidth": 0,
             "ticks": ""
            },
            "colorscale": [
             [
              0,
              "#0d0887"
             ],
             [
              0.1111111111111111,
              "#46039f"
             ],
             [
              0.2222222222222222,
              "#7201a8"
             ],
             [
              0.3333333333333333,
              "#9c179e"
             ],
             [
              0.4444444444444444,
              "#bd3786"
             ],
             [
              0.5555555555555556,
              "#d8576b"
             ],
             [
              0.6666666666666666,
              "#ed7953"
             ],
             [
              0.7777777777777778,
              "#fb9f3a"
             ],
             [
              0.8888888888888888,
              "#fdca26"
             ],
             [
              1,
              "#f0f921"
             ]
            ],
            "type": "contour"
           }
          ],
          "contourcarpet": [
           {
            "colorbar": {
             "outlinewidth": 0,
             "ticks": ""
            },
            "type": "contourcarpet"
           }
          ],
          "heatmap": [
           {
            "colorbar": {
             "outlinewidth": 0,
             "ticks": ""
            },
            "colorscale": [
             [
              0,
              "#0d0887"
             ],
             [
              0.1111111111111111,
              "#46039f"
             ],
             [
              0.2222222222222222,
              "#7201a8"
             ],
             [
              0.3333333333333333,
              "#9c179e"
             ],
             [
              0.4444444444444444,
              "#bd3786"
             ],
             [
              0.5555555555555556,
              "#d8576b"
             ],
             [
              0.6666666666666666,
              "#ed7953"
             ],
             [
              0.7777777777777778,
              "#fb9f3a"
             ],
             [
              0.8888888888888888,
              "#fdca26"
             ],
             [
              1,
              "#f0f921"
             ]
            ],
            "type": "heatmap"
           }
          ],
          "heatmapgl": [
           {
            "colorbar": {
             "outlinewidth": 0,
             "ticks": ""
            },
            "colorscale": [
             [
              0,
              "#0d0887"
             ],
             [
              0.1111111111111111,
              "#46039f"
             ],
             [
              0.2222222222222222,
              "#7201a8"
             ],
             [
              0.3333333333333333,
              "#9c179e"
             ],
             [
              0.4444444444444444,
              "#bd3786"
             ],
             [
              0.5555555555555556,
              "#d8576b"
             ],
             [
              0.6666666666666666,
              "#ed7953"
             ],
             [
              0.7777777777777778,
              "#fb9f3a"
             ],
             [
              0.8888888888888888,
              "#fdca26"
             ],
             [
              1,
              "#f0f921"
             ]
            ],
            "type": "heatmapgl"
           }
          ],
          "histogram": [
           {
            "marker": {
             "pattern": {
              "fillmode": "overlay",
              "size": 10,
              "solidity": 0.2
             }
            },
            "type": "histogram"
           }
          ],
          "histogram2d": [
           {
            "colorbar": {
             "outlinewidth": 0,
             "ticks": ""
            },
            "colorscale": [
             [
              0,
              "#0d0887"
             ],
             [
              0.1111111111111111,
              "#46039f"
             ],
             [
              0.2222222222222222,
              "#7201a8"
             ],
             [
              0.3333333333333333,
              "#9c179e"
             ],
             [
              0.4444444444444444,
              "#bd3786"
             ],
             [
              0.5555555555555556,
              "#d8576b"
             ],
             [
              0.6666666666666666,
              "#ed7953"
             ],
             [
              0.7777777777777778,
              "#fb9f3a"
             ],
             [
              0.8888888888888888,
              "#fdca26"
             ],
             [
              1,
              "#f0f921"
             ]
            ],
            "type": "histogram2d"
           }
          ],
          "histogram2dcontour": [
           {
            "colorbar": {
             "outlinewidth": 0,
             "ticks": ""
            },
            "colorscale": [
             [
              0,
              "#0d0887"
             ],
             [
              0.1111111111111111,
              "#46039f"
             ],
             [
              0.2222222222222222,
              "#7201a8"
             ],
             [
              0.3333333333333333,
              "#9c179e"
             ],
             [
              0.4444444444444444,
              "#bd3786"
             ],
             [
              0.5555555555555556,
              "#d8576b"
             ],
             [
              0.6666666666666666,
              "#ed7953"
             ],
             [
              0.7777777777777778,
              "#fb9f3a"
             ],
             [
              0.8888888888888888,
              "#fdca26"
             ],
             [
              1,
              "#f0f921"
             ]
            ],
            "type": "histogram2dcontour"
           }
          ],
          "mesh3d": [
           {
            "colorbar": {
             "outlinewidth": 0,
             "ticks": ""
            },
            "type": "mesh3d"
           }
          ],
          "parcoords": [
           {
            "line": {
             "colorbar": {
              "outlinewidth": 0,
              "ticks": ""
             }
            },
            "type": "parcoords"
           }
          ],
          "pie": [
           {
            "automargin": true,
            "type": "pie"
           }
          ],
          "scatter": [
           {
            "marker": {
             "line": {
              "color": "#283442"
             }
            },
            "type": "scatter"
           }
          ],
          "scatter3d": [
           {
            "line": {
             "colorbar": {
              "outlinewidth": 0,
              "ticks": ""
             }
            },
            "marker": {
             "colorbar": {
              "outlinewidth": 0,
              "ticks": ""
             }
            },
            "type": "scatter3d"
           }
          ],
          "scattercarpet": [
           {
            "marker": {
             "colorbar": {
              "outlinewidth": 0,
              "ticks": ""
             }
            },
            "type": "scattercarpet"
           }
          ],
          "scattergeo": [
           {
            "marker": {
             "colorbar": {
              "outlinewidth": 0,
              "ticks": ""
             }
            },
            "type": "scattergeo"
           }
          ],
          "scattergl": [
           {
            "marker": {
             "line": {
              "color": "#283442"
             }
            },
            "type": "scattergl"
           }
          ],
          "scattermapbox": [
           {
            "marker": {
             "colorbar": {
              "outlinewidth": 0,
              "ticks": ""
             }
            },
            "type": "scattermapbox"
           }
          ],
          "scatterpolar": [
           {
            "marker": {
             "colorbar": {
              "outlinewidth": 0,
              "ticks": ""
             }
            },
            "type": "scatterpolar"
           }
          ],
          "scatterpolargl": [
           {
            "marker": {
             "colorbar": {
              "outlinewidth": 0,
              "ticks": ""
             }
            },
            "type": "scatterpolargl"
           }
          ],
          "scatterternary": [
           {
            "marker": {
             "colorbar": {
              "outlinewidth": 0,
              "ticks": ""
             }
            },
            "type": "scatterternary"
           }
          ],
          "surface": [
           {
            "colorbar": {
             "outlinewidth": 0,
             "ticks": ""
            },
            "colorscale": [
             [
              0,
              "#0d0887"
             ],
             [
              0.1111111111111111,
              "#46039f"
             ],
             [
              0.2222222222222222,
              "#7201a8"
             ],
             [
              0.3333333333333333,
              "#9c179e"
             ],
             [
              0.4444444444444444,
              "#bd3786"
             ],
             [
              0.5555555555555556,
              "#d8576b"
             ],
             [
              0.6666666666666666,
              "#ed7953"
             ],
             [
              0.7777777777777778,
              "#fb9f3a"
             ],
             [
              0.8888888888888888,
              "#fdca26"
             ],
             [
              1,
              "#f0f921"
             ]
            ],
            "type": "surface"
           }
          ],
          "table": [
           {
            "cells": {
             "fill": {
              "color": "#506784"
             },
             "line": {
              "color": "rgb(17,17,17)"
             }
            },
            "header": {
             "fill": {
              "color": "#2a3f5f"
             },
             "line": {
              "color": "rgb(17,17,17)"
             }
            },
            "type": "table"
           }
          ]
         },
         "layout": {
          "annotationdefaults": {
           "arrowcolor": "#f2f5fa",
           "arrowhead": 0,
           "arrowwidth": 1
          },
          "autosize": false,
          "autotypenumbers": "strict",
          "coloraxis": {
           "colorbar": {
            "outlinewidth": 0,
            "ticks": ""
           }
          },
          "colorscale": {
           "diverging": [
            [
             0,
             "#8e0152"
            ],
            [
             0.1,
             "#c51b7d"
            ],
            [
             0.2,
             "#de77ae"
            ],
            [
             0.3,
             "#f1b6da"
            ],
            [
             0.4,
             "#fde0ef"
            ],
            [
             0.5,
             "#f7f7f7"
            ],
            [
             0.6,
             "#e6f5d0"
            ],
            [
             0.7,
             "#b8e186"
            ],
            [
             0.8,
             "#7fbc41"
            ],
            [
             0.9,
             "#4d9221"
            ],
            [
             1,
             "#276419"
            ]
           ],
           "sequential": [
            [
             0,
             "#0d0887"
            ],
            [
             0.1111111111111111,
             "#46039f"
            ],
            [
             0.2222222222222222,
             "#7201a8"
            ],
            [
             0.3333333333333333,
             "#9c179e"
            ],
            [
             0.4444444444444444,
             "#bd3786"
            ],
            [
             0.5555555555555556,
             "#d8576b"
            ],
            [
             0.6666666666666666,
             "#ed7953"
            ],
            [
             0.7777777777777778,
             "#fb9f3a"
            ],
            [
             0.8888888888888888,
             "#fdca26"
            ],
            [
             1,
             "#f0f921"
            ]
           ],
           "sequentialminus": [
            [
             0,
             "#0d0887"
            ],
            [
             0.1111111111111111,
             "#46039f"
            ],
            [
             0.2222222222222222,
             "#7201a8"
            ],
            [
             0.3333333333333333,
             "#9c179e"
            ],
            [
             0.4444444444444444,
             "#bd3786"
            ],
            [
             0.5555555555555556,
             "#d8576b"
            ],
            [
             0.6666666666666666,
             "#ed7953"
            ],
            [
             0.7777777777777778,
             "#fb9f3a"
            ],
            [
             0.8888888888888888,
             "#fdca26"
            ],
            [
             1,
             "#f0f921"
            ]
           ]
          },
          "colorway": [
           "#636efa",
           "#EF553B",
           "#00cc96",
           "#ab63fa",
           "#FFA15A",
           "#19d3f3",
           "#FF6692",
           "#B6E880",
           "#FF97FF",
           "#FECB52"
          ],
          "font": {
           "color": "#f2f5fa"
          },
          "geo": {
           "bgcolor": "rgb(17,17,17)",
           "lakecolor": "rgb(17,17,17)",
           "landcolor": "rgb(17,17,17)",
           "showlakes": true,
           "showland": true,
           "subunitcolor": "#506784"
          },
          "height": 300,
          "hoverlabel": {
           "align": "left"
          },
          "hovermode": "closest",
          "mapbox": {
           "style": "dark"
          },
          "margin": {
           "b": 40,
           "l": 40,
           "r": 40,
           "t": 40
          },
          "paper_bgcolor": "rgba(0,0,0,0)",
          "plot_bgcolor": "rgba(0,0,0,0)",
          "polar": {
           "angularaxis": {
            "gridcolor": "#506784",
            "linecolor": "#506784",
            "ticks": ""
           },
           "bgcolor": "rgb(17,17,17)",
           "radialaxis": {
            "gridcolor": "#506784",
            "linecolor": "#506784",
            "ticks": ""
           }
          },
          "scene": {
           "xaxis": {
            "backgroundcolor": "rgb(17,17,17)",
            "gridcolor": "#506784",
            "gridwidth": 2,
            "linecolor": "#506784",
            "showbackground": true,
            "ticks": "",
            "zerolinecolor": "#C8D4E3"
           },
           "yaxis": {
            "backgroundcolor": "rgb(17,17,17)",
            "gridcolor": "#506784",
            "gridwidth": 2,
            "linecolor": "#506784",
            "showbackground": true,
            "ticks": "",
            "zerolinecolor": "#C8D4E3"
           },
           "zaxis": {
            "backgroundcolor": "rgb(17,17,17)",
            "gridcolor": "#506784",
            "gridwidth": 2,
            "linecolor": "#506784",
            "showbackground": true,
            "ticks": "",
            "zerolinecolor": "#C8D4E3"
           }
          },
          "shapedefaults": {
           "line": {
            "color": "#f2f5fa"
           }
          },
          "sliderdefaults": {
           "bgcolor": "#C8D4E3",
           "bordercolor": "rgb(17,17,17)",
           "borderwidth": 1,
           "tickwidth": 0
          },
          "ternary": {
           "aaxis": {
            "gridcolor": "#506784",
            "linecolor": "#506784",
            "ticks": ""
           },
           "baxis": {
            "gridcolor": "#506784",
            "linecolor": "#506784",
            "ticks": ""
           },
           "bgcolor": "rgb(17,17,17)",
           "caxis": {
            "gridcolor": "#506784",
            "linecolor": "#506784",
            "ticks": ""
           }
          },
          "title": {
           "x": 0.05
          },
          "updatemenudefaults": {
           "bgcolor": "#506784",
           "borderwidth": 0
          },
          "width": 600,
          "xaxis": {
           "automargin": true,
           "gridcolor": "#283442",
           "linecolor": "#506784",
           "ticks": "",
           "title": {
            "standoff": 15
           },
           "zerolinecolor": "#283442",
           "zerolinewidth": 2
          },
          "yaxis": {
           "automargin": true,
           "gridcolor": "#283442",
           "linecolor": "#506784",
           "ticks": "",
           "title": {
            "standoff": 15
           },
           "zerolinecolor": "#283442",
           "zerolinewidth": 2
          }
         }
        },
        "title": {
         "text": "hidden_dim"
        },
        "width": 400
       }
      }
     },
     "metadata": {},
     "output_type": "display_data"
    },
    {
     "data": {
      "application/vnd.plotly.v1+json": {
       "config": {
        "plotlyServerURL": "https://plot.ly"
       },
       "data": [
        {
         "type": "scatter",
         "x": [
          2
         ],
         "y": [
          0.9604130808950087
         ]
        },
        {
         "type": "scatter",
         "x": [
          2
         ],
         "y": [
          0.9066663479314082
         ]
        }
       ],
       "layout": {
        "height": 200,
        "template": {
         "data": {
          "bar": [
           {
            "error_x": {
             "color": "#f2f5fa"
            },
            "error_y": {
             "color": "#f2f5fa"
            },
            "marker": {
             "line": {
              "color": "rgb(17,17,17)",
              "width": 0.5
             },
             "pattern": {
              "fillmode": "overlay",
              "size": 10,
              "solidity": 0.2
             }
            },
            "type": "bar"
           }
          ],
          "barpolar": [
           {
            "marker": {
             "line": {
              "color": "rgb(17,17,17)",
              "width": 0.5
             },
             "pattern": {
              "fillmode": "overlay",
              "size": 10,
              "solidity": 0.2
             }
            },
            "type": "barpolar"
           }
          ],
          "carpet": [
           {
            "aaxis": {
             "endlinecolor": "#A2B1C6",
             "gridcolor": "#506784",
             "linecolor": "#506784",
             "minorgridcolor": "#506784",
             "startlinecolor": "#A2B1C6"
            },
            "baxis": {
             "endlinecolor": "#A2B1C6",
             "gridcolor": "#506784",
             "linecolor": "#506784",
             "minorgridcolor": "#506784",
             "startlinecolor": "#A2B1C6"
            },
            "type": "carpet"
           }
          ],
          "choropleth": [
           {
            "colorbar": {
             "outlinewidth": 0,
             "ticks": ""
            },
            "type": "choropleth"
           }
          ],
          "contour": [
           {
            "colorbar": {
             "outlinewidth": 0,
             "ticks": ""
            },
            "colorscale": [
             [
              0,
              "#0d0887"
             ],
             [
              0.1111111111111111,
              "#46039f"
             ],
             [
              0.2222222222222222,
              "#7201a8"
             ],
             [
              0.3333333333333333,
              "#9c179e"
             ],
             [
              0.4444444444444444,
              "#bd3786"
             ],
             [
              0.5555555555555556,
              "#d8576b"
             ],
             [
              0.6666666666666666,
              "#ed7953"
             ],
             [
              0.7777777777777778,
              "#fb9f3a"
             ],
             [
              0.8888888888888888,
              "#fdca26"
             ],
             [
              1,
              "#f0f921"
             ]
            ],
            "type": "contour"
           }
          ],
          "contourcarpet": [
           {
            "colorbar": {
             "outlinewidth": 0,
             "ticks": ""
            },
            "type": "contourcarpet"
           }
          ],
          "heatmap": [
           {
            "colorbar": {
             "outlinewidth": 0,
             "ticks": ""
            },
            "colorscale": [
             [
              0,
              "#0d0887"
             ],
             [
              0.1111111111111111,
              "#46039f"
             ],
             [
              0.2222222222222222,
              "#7201a8"
             ],
             [
              0.3333333333333333,
              "#9c179e"
             ],
             [
              0.4444444444444444,
              "#bd3786"
             ],
             [
              0.5555555555555556,
              "#d8576b"
             ],
             [
              0.6666666666666666,
              "#ed7953"
             ],
             [
              0.7777777777777778,
              "#fb9f3a"
             ],
             [
              0.8888888888888888,
              "#fdca26"
             ],
             [
              1,
              "#f0f921"
             ]
            ],
            "type": "heatmap"
           }
          ],
          "heatmapgl": [
           {
            "colorbar": {
             "outlinewidth": 0,
             "ticks": ""
            },
            "colorscale": [
             [
              0,
              "#0d0887"
             ],
             [
              0.1111111111111111,
              "#46039f"
             ],
             [
              0.2222222222222222,
              "#7201a8"
             ],
             [
              0.3333333333333333,
              "#9c179e"
             ],
             [
              0.4444444444444444,
              "#bd3786"
             ],
             [
              0.5555555555555556,
              "#d8576b"
             ],
             [
              0.6666666666666666,
              "#ed7953"
             ],
             [
              0.7777777777777778,
              "#fb9f3a"
             ],
             [
              0.8888888888888888,
              "#fdca26"
             ],
             [
              1,
              "#f0f921"
             ]
            ],
            "type": "heatmapgl"
           }
          ],
          "histogram": [
           {
            "marker": {
             "pattern": {
              "fillmode": "overlay",
              "size": 10,
              "solidity": 0.2
             }
            },
            "type": "histogram"
           }
          ],
          "histogram2d": [
           {
            "colorbar": {
             "outlinewidth": 0,
             "ticks": ""
            },
            "colorscale": [
             [
              0,
              "#0d0887"
             ],
             [
              0.1111111111111111,
              "#46039f"
             ],
             [
              0.2222222222222222,
              "#7201a8"
             ],
             [
              0.3333333333333333,
              "#9c179e"
             ],
             [
              0.4444444444444444,
              "#bd3786"
             ],
             [
              0.5555555555555556,
              "#d8576b"
             ],
             [
              0.6666666666666666,
              "#ed7953"
             ],
             [
              0.7777777777777778,
              "#fb9f3a"
             ],
             [
              0.8888888888888888,
              "#fdca26"
             ],
             [
              1,
              "#f0f921"
             ]
            ],
            "type": "histogram2d"
           }
          ],
          "histogram2dcontour": [
           {
            "colorbar": {
             "outlinewidth": 0,
             "ticks": ""
            },
            "colorscale": [
             [
              0,
              "#0d0887"
             ],
             [
              0.1111111111111111,
              "#46039f"
             ],
             [
              0.2222222222222222,
              "#7201a8"
             ],
             [
              0.3333333333333333,
              "#9c179e"
             ],
             [
              0.4444444444444444,
              "#bd3786"
             ],
             [
              0.5555555555555556,
              "#d8576b"
             ],
             [
              0.6666666666666666,
              "#ed7953"
             ],
             [
              0.7777777777777778,
              "#fb9f3a"
             ],
             [
              0.8888888888888888,
              "#fdca26"
             ],
             [
              1,
              "#f0f921"
             ]
            ],
            "type": "histogram2dcontour"
           }
          ],
          "mesh3d": [
           {
            "colorbar": {
             "outlinewidth": 0,
             "ticks": ""
            },
            "type": "mesh3d"
           }
          ],
          "parcoords": [
           {
            "line": {
             "colorbar": {
              "outlinewidth": 0,
              "ticks": ""
             }
            },
            "type": "parcoords"
           }
          ],
          "pie": [
           {
            "automargin": true,
            "type": "pie"
           }
          ],
          "scatter": [
           {
            "marker": {
             "line": {
              "color": "#283442"
             }
            },
            "type": "scatter"
           }
          ],
          "scatter3d": [
           {
            "line": {
             "colorbar": {
              "outlinewidth": 0,
              "ticks": ""
             }
            },
            "marker": {
             "colorbar": {
              "outlinewidth": 0,
              "ticks": ""
             }
            },
            "type": "scatter3d"
           }
          ],
          "scattercarpet": [
           {
            "marker": {
             "colorbar": {
              "outlinewidth": 0,
              "ticks": ""
             }
            },
            "type": "scattercarpet"
           }
          ],
          "scattergeo": [
           {
            "marker": {
             "colorbar": {
              "outlinewidth": 0,
              "ticks": ""
             }
            },
            "type": "scattergeo"
           }
          ],
          "scattergl": [
           {
            "marker": {
             "line": {
              "color": "#283442"
             }
            },
            "type": "scattergl"
           }
          ],
          "scattermapbox": [
           {
            "marker": {
             "colorbar": {
              "outlinewidth": 0,
              "ticks": ""
             }
            },
            "type": "scattermapbox"
           }
          ],
          "scatterpolar": [
           {
            "marker": {
             "colorbar": {
              "outlinewidth": 0,
              "ticks": ""
             }
            },
            "type": "scatterpolar"
           }
          ],
          "scatterpolargl": [
           {
            "marker": {
             "colorbar": {
              "outlinewidth": 0,
              "ticks": ""
             }
            },
            "type": "scatterpolargl"
           }
          ],
          "scatterternary": [
           {
            "marker": {
             "colorbar": {
              "outlinewidth": 0,
              "ticks": ""
             }
            },
            "type": "scatterternary"
           }
          ],
          "surface": [
           {
            "colorbar": {
             "outlinewidth": 0,
             "ticks": ""
            },
            "colorscale": [
             [
              0,
              "#0d0887"
             ],
             [
              0.1111111111111111,
              "#46039f"
             ],
             [
              0.2222222222222222,
              "#7201a8"
             ],
             [
              0.3333333333333333,
              "#9c179e"
             ],
             [
              0.4444444444444444,
              "#bd3786"
             ],
             [
              0.5555555555555556,
              "#d8576b"
             ],
             [
              0.6666666666666666,
              "#ed7953"
             ],
             [
              0.7777777777777778,
              "#fb9f3a"
             ],
             [
              0.8888888888888888,
              "#fdca26"
             ],
             [
              1,
              "#f0f921"
             ]
            ],
            "type": "surface"
           }
          ],
          "table": [
           {
            "cells": {
             "fill": {
              "color": "#506784"
             },
             "line": {
              "color": "rgb(17,17,17)"
             }
            },
            "header": {
             "fill": {
              "color": "#2a3f5f"
             },
             "line": {
              "color": "rgb(17,17,17)"
             }
            },
            "type": "table"
           }
          ]
         },
         "layout": {
          "annotationdefaults": {
           "arrowcolor": "#f2f5fa",
           "arrowhead": 0,
           "arrowwidth": 1
          },
          "autosize": false,
          "autotypenumbers": "strict",
          "coloraxis": {
           "colorbar": {
            "outlinewidth": 0,
            "ticks": ""
           }
          },
          "colorscale": {
           "diverging": [
            [
             0,
             "#8e0152"
            ],
            [
             0.1,
             "#c51b7d"
            ],
            [
             0.2,
             "#de77ae"
            ],
            [
             0.3,
             "#f1b6da"
            ],
            [
             0.4,
             "#fde0ef"
            ],
            [
             0.5,
             "#f7f7f7"
            ],
            [
             0.6,
             "#e6f5d0"
            ],
            [
             0.7,
             "#b8e186"
            ],
            [
             0.8,
             "#7fbc41"
            ],
            [
             0.9,
             "#4d9221"
            ],
            [
             1,
             "#276419"
            ]
           ],
           "sequential": [
            [
             0,
             "#0d0887"
            ],
            [
             0.1111111111111111,
             "#46039f"
            ],
            [
             0.2222222222222222,
             "#7201a8"
            ],
            [
             0.3333333333333333,
             "#9c179e"
            ],
            [
             0.4444444444444444,
             "#bd3786"
            ],
            [
             0.5555555555555556,
             "#d8576b"
            ],
            [
             0.6666666666666666,
             "#ed7953"
            ],
            [
             0.7777777777777778,
             "#fb9f3a"
            ],
            [
             0.8888888888888888,
             "#fdca26"
            ],
            [
             1,
             "#f0f921"
            ]
           ],
           "sequentialminus": [
            [
             0,
             "#0d0887"
            ],
            [
             0.1111111111111111,
             "#46039f"
            ],
            [
             0.2222222222222222,
             "#7201a8"
            ],
            [
             0.3333333333333333,
             "#9c179e"
            ],
            [
             0.4444444444444444,
             "#bd3786"
            ],
            [
             0.5555555555555556,
             "#d8576b"
            ],
            [
             0.6666666666666666,
             "#ed7953"
            ],
            [
             0.7777777777777778,
             "#fb9f3a"
            ],
            [
             0.8888888888888888,
             "#fdca26"
            ],
            [
             1,
             "#f0f921"
            ]
           ]
          },
          "colorway": [
           "#636efa",
           "#EF553B",
           "#00cc96",
           "#ab63fa",
           "#FFA15A",
           "#19d3f3",
           "#FF6692",
           "#B6E880",
           "#FF97FF",
           "#FECB52"
          ],
          "font": {
           "color": "#f2f5fa"
          },
          "geo": {
           "bgcolor": "rgb(17,17,17)",
           "lakecolor": "rgb(17,17,17)",
           "landcolor": "rgb(17,17,17)",
           "showlakes": true,
           "showland": true,
           "subunitcolor": "#506784"
          },
          "height": 300,
          "hoverlabel": {
           "align": "left"
          },
          "hovermode": "closest",
          "mapbox": {
           "style": "dark"
          },
          "margin": {
           "b": 40,
           "l": 40,
           "r": 40,
           "t": 40
          },
          "paper_bgcolor": "rgba(0,0,0,0)",
          "plot_bgcolor": "rgba(0,0,0,0)",
          "polar": {
           "angularaxis": {
            "gridcolor": "#506784",
            "linecolor": "#506784",
            "ticks": ""
           },
           "bgcolor": "rgb(17,17,17)",
           "radialaxis": {
            "gridcolor": "#506784",
            "linecolor": "#506784",
            "ticks": ""
           }
          },
          "scene": {
           "xaxis": {
            "backgroundcolor": "rgb(17,17,17)",
            "gridcolor": "#506784",
            "gridwidth": 2,
            "linecolor": "#506784",
            "showbackground": true,
            "ticks": "",
            "zerolinecolor": "#C8D4E3"
           },
           "yaxis": {
            "backgroundcolor": "rgb(17,17,17)",
            "gridcolor": "#506784",
            "gridwidth": 2,
            "linecolor": "#506784",
            "showbackground": true,
            "ticks": "",
            "zerolinecolor": "#C8D4E3"
           },
           "zaxis": {
            "backgroundcolor": "rgb(17,17,17)",
            "gridcolor": "#506784",
            "gridwidth": 2,
            "linecolor": "#506784",
            "showbackground": true,
            "ticks": "",
            "zerolinecolor": "#C8D4E3"
           }
          },
          "shapedefaults": {
           "line": {
            "color": "#f2f5fa"
           }
          },
          "sliderdefaults": {
           "bgcolor": "#C8D4E3",
           "bordercolor": "rgb(17,17,17)",
           "borderwidth": 1,
           "tickwidth": 0
          },
          "ternary": {
           "aaxis": {
            "gridcolor": "#506784",
            "linecolor": "#506784",
            "ticks": ""
           },
           "baxis": {
            "gridcolor": "#506784",
            "linecolor": "#506784",
            "ticks": ""
           },
           "bgcolor": "rgb(17,17,17)",
           "caxis": {
            "gridcolor": "#506784",
            "linecolor": "#506784",
            "ticks": ""
           }
          },
          "title": {
           "x": 0.05
          },
          "updatemenudefaults": {
           "bgcolor": "#506784",
           "borderwidth": 0
          },
          "width": 600,
          "xaxis": {
           "automargin": true,
           "gridcolor": "#283442",
           "linecolor": "#506784",
           "ticks": "",
           "title": {
            "standoff": 15
           },
           "zerolinecolor": "#283442",
           "zerolinewidth": 2
          },
          "yaxis": {
           "automargin": true,
           "gridcolor": "#283442",
           "linecolor": "#506784",
           "ticks": "",
           "title": {
            "standoff": 15
           },
           "zerolinecolor": "#283442",
           "zerolinewidth": 2
          }
         }
        },
        "title": {
         "text": "n_lstm_layers"
        },
        "width": 400
       }
      }
     },
     "metadata": {},
     "output_type": "display_data"
    },
    {
     "data": {
      "application/vnd.plotly.v1+json": {
       "config": {
        "plotlyServerURL": "https://plot.ly"
       },
       "data": [
        {
         "type": "scatter",
         "x": [
          0.3,
          0.5,
          0.7
         ],
         "y": [
          0.9575444635685599,
          0.9604130808950087,
          0.9598393574297188
         ]
        },
        {
         "type": "scatter",
         "x": [
          0.3,
          0.5,
          0.7
         ],
         "y": [
          0.9017737617135206,
          0.8704580225664564,
          0.9477672595142476
         ]
        }
       ],
       "layout": {
        "height": 200,
        "template": {
         "data": {
          "bar": [
           {
            "error_x": {
             "color": "#f2f5fa"
            },
            "error_y": {
             "color": "#f2f5fa"
            },
            "marker": {
             "line": {
              "color": "rgb(17,17,17)",
              "width": 0.5
             },
             "pattern": {
              "fillmode": "overlay",
              "size": 10,
              "solidity": 0.2
             }
            },
            "type": "bar"
           }
          ],
          "barpolar": [
           {
            "marker": {
             "line": {
              "color": "rgb(17,17,17)",
              "width": 0.5
             },
             "pattern": {
              "fillmode": "overlay",
              "size": 10,
              "solidity": 0.2
             }
            },
            "type": "barpolar"
           }
          ],
          "carpet": [
           {
            "aaxis": {
             "endlinecolor": "#A2B1C6",
             "gridcolor": "#506784",
             "linecolor": "#506784",
             "minorgridcolor": "#506784",
             "startlinecolor": "#A2B1C6"
            },
            "baxis": {
             "endlinecolor": "#A2B1C6",
             "gridcolor": "#506784",
             "linecolor": "#506784",
             "minorgridcolor": "#506784",
             "startlinecolor": "#A2B1C6"
            },
            "type": "carpet"
           }
          ],
          "choropleth": [
           {
            "colorbar": {
             "outlinewidth": 0,
             "ticks": ""
            },
            "type": "choropleth"
           }
          ],
          "contour": [
           {
            "colorbar": {
             "outlinewidth": 0,
             "ticks": ""
            },
            "colorscale": [
             [
              0,
              "#0d0887"
             ],
             [
              0.1111111111111111,
              "#46039f"
             ],
             [
              0.2222222222222222,
              "#7201a8"
             ],
             [
              0.3333333333333333,
              "#9c179e"
             ],
             [
              0.4444444444444444,
              "#bd3786"
             ],
             [
              0.5555555555555556,
              "#d8576b"
             ],
             [
              0.6666666666666666,
              "#ed7953"
             ],
             [
              0.7777777777777778,
              "#fb9f3a"
             ],
             [
              0.8888888888888888,
              "#fdca26"
             ],
             [
              1,
              "#f0f921"
             ]
            ],
            "type": "contour"
           }
          ],
          "contourcarpet": [
           {
            "colorbar": {
             "outlinewidth": 0,
             "ticks": ""
            },
            "type": "contourcarpet"
           }
          ],
          "heatmap": [
           {
            "colorbar": {
             "outlinewidth": 0,
             "ticks": ""
            },
            "colorscale": [
             [
              0,
              "#0d0887"
             ],
             [
              0.1111111111111111,
              "#46039f"
             ],
             [
              0.2222222222222222,
              "#7201a8"
             ],
             [
              0.3333333333333333,
              "#9c179e"
             ],
             [
              0.4444444444444444,
              "#bd3786"
             ],
             [
              0.5555555555555556,
              "#d8576b"
             ],
             [
              0.6666666666666666,
              "#ed7953"
             ],
             [
              0.7777777777777778,
              "#fb9f3a"
             ],
             [
              0.8888888888888888,
              "#fdca26"
             ],
             [
              1,
              "#f0f921"
             ]
            ],
            "type": "heatmap"
           }
          ],
          "heatmapgl": [
           {
            "colorbar": {
             "outlinewidth": 0,
             "ticks": ""
            },
            "colorscale": [
             [
              0,
              "#0d0887"
             ],
             [
              0.1111111111111111,
              "#46039f"
             ],
             [
              0.2222222222222222,
              "#7201a8"
             ],
             [
              0.3333333333333333,
              "#9c179e"
             ],
             [
              0.4444444444444444,
              "#bd3786"
             ],
             [
              0.5555555555555556,
              "#d8576b"
             ],
             [
              0.6666666666666666,
              "#ed7953"
             ],
             [
              0.7777777777777778,
              "#fb9f3a"
             ],
             [
              0.8888888888888888,
              "#fdca26"
             ],
             [
              1,
              "#f0f921"
             ]
            ],
            "type": "heatmapgl"
           }
          ],
          "histogram": [
           {
            "marker": {
             "pattern": {
              "fillmode": "overlay",
              "size": 10,
              "solidity": 0.2
             }
            },
            "type": "histogram"
           }
          ],
          "histogram2d": [
           {
            "colorbar": {
             "outlinewidth": 0,
             "ticks": ""
            },
            "colorscale": [
             [
              0,
              "#0d0887"
             ],
             [
              0.1111111111111111,
              "#46039f"
             ],
             [
              0.2222222222222222,
              "#7201a8"
             ],
             [
              0.3333333333333333,
              "#9c179e"
             ],
             [
              0.4444444444444444,
              "#bd3786"
             ],
             [
              0.5555555555555556,
              "#d8576b"
             ],
             [
              0.6666666666666666,
              "#ed7953"
             ],
             [
              0.7777777777777778,
              "#fb9f3a"
             ],
             [
              0.8888888888888888,
              "#fdca26"
             ],
             [
              1,
              "#f0f921"
             ]
            ],
            "type": "histogram2d"
           }
          ],
          "histogram2dcontour": [
           {
            "colorbar": {
             "outlinewidth": 0,
             "ticks": ""
            },
            "colorscale": [
             [
              0,
              "#0d0887"
             ],
             [
              0.1111111111111111,
              "#46039f"
             ],
             [
              0.2222222222222222,
              "#7201a8"
             ],
             [
              0.3333333333333333,
              "#9c179e"
             ],
             [
              0.4444444444444444,
              "#bd3786"
             ],
             [
              0.5555555555555556,
              "#d8576b"
             ],
             [
              0.6666666666666666,
              "#ed7953"
             ],
             [
              0.7777777777777778,
              "#fb9f3a"
             ],
             [
              0.8888888888888888,
              "#fdca26"
             ],
             [
              1,
              "#f0f921"
             ]
            ],
            "type": "histogram2dcontour"
           }
          ],
          "mesh3d": [
           {
            "colorbar": {
             "outlinewidth": 0,
             "ticks": ""
            },
            "type": "mesh3d"
           }
          ],
          "parcoords": [
           {
            "line": {
             "colorbar": {
              "outlinewidth": 0,
              "ticks": ""
             }
            },
            "type": "parcoords"
           }
          ],
          "pie": [
           {
            "automargin": true,
            "type": "pie"
           }
          ],
          "scatter": [
           {
            "marker": {
             "line": {
              "color": "#283442"
             }
            },
            "type": "scatter"
           }
          ],
          "scatter3d": [
           {
            "line": {
             "colorbar": {
              "outlinewidth": 0,
              "ticks": ""
             }
            },
            "marker": {
             "colorbar": {
              "outlinewidth": 0,
              "ticks": ""
             }
            },
            "type": "scatter3d"
           }
          ],
          "scattercarpet": [
           {
            "marker": {
             "colorbar": {
              "outlinewidth": 0,
              "ticks": ""
             }
            },
            "type": "scattercarpet"
           }
          ],
          "scattergeo": [
           {
            "marker": {
             "colorbar": {
              "outlinewidth": 0,
              "ticks": ""
             }
            },
            "type": "scattergeo"
           }
          ],
          "scattergl": [
           {
            "marker": {
             "line": {
              "color": "#283442"
             }
            },
            "type": "scattergl"
           }
          ],
          "scattermapbox": [
           {
            "marker": {
             "colorbar": {
              "outlinewidth": 0,
              "ticks": ""
             }
            },
            "type": "scattermapbox"
           }
          ],
          "scatterpolar": [
           {
            "marker": {
             "colorbar": {
              "outlinewidth": 0,
              "ticks": ""
             }
            },
            "type": "scatterpolar"
           }
          ],
          "scatterpolargl": [
           {
            "marker": {
             "colorbar": {
              "outlinewidth": 0,
              "ticks": ""
             }
            },
            "type": "scatterpolargl"
           }
          ],
          "scatterternary": [
           {
            "marker": {
             "colorbar": {
              "outlinewidth": 0,
              "ticks": ""
             }
            },
            "type": "scatterternary"
           }
          ],
          "surface": [
           {
            "colorbar": {
             "outlinewidth": 0,
             "ticks": ""
            },
            "colorscale": [
             [
              0,
              "#0d0887"
             ],
             [
              0.1111111111111111,
              "#46039f"
             ],
             [
              0.2222222222222222,
              "#7201a8"
             ],
             [
              0.3333333333333333,
              "#9c179e"
             ],
             [
              0.4444444444444444,
              "#bd3786"
             ],
             [
              0.5555555555555556,
              "#d8576b"
             ],
             [
              0.6666666666666666,
              "#ed7953"
             ],
             [
              0.7777777777777778,
              "#fb9f3a"
             ],
             [
              0.8888888888888888,
              "#fdca26"
             ],
             [
              1,
              "#f0f921"
             ]
            ],
            "type": "surface"
           }
          ],
          "table": [
           {
            "cells": {
             "fill": {
              "color": "#506784"
             },
             "line": {
              "color": "rgb(17,17,17)"
             }
            },
            "header": {
             "fill": {
              "color": "#2a3f5f"
             },
             "line": {
              "color": "rgb(17,17,17)"
             }
            },
            "type": "table"
           }
          ]
         },
         "layout": {
          "annotationdefaults": {
           "arrowcolor": "#f2f5fa",
           "arrowhead": 0,
           "arrowwidth": 1
          },
          "autosize": false,
          "autotypenumbers": "strict",
          "coloraxis": {
           "colorbar": {
            "outlinewidth": 0,
            "ticks": ""
           }
          },
          "colorscale": {
           "diverging": [
            [
             0,
             "#8e0152"
            ],
            [
             0.1,
             "#c51b7d"
            ],
            [
             0.2,
             "#de77ae"
            ],
            [
             0.3,
             "#f1b6da"
            ],
            [
             0.4,
             "#fde0ef"
            ],
            [
             0.5,
             "#f7f7f7"
            ],
            [
             0.6,
             "#e6f5d0"
            ],
            [
             0.7,
             "#b8e186"
            ],
            [
             0.8,
             "#7fbc41"
            ],
            [
             0.9,
             "#4d9221"
            ],
            [
             1,
             "#276419"
            ]
           ],
           "sequential": [
            [
             0,
             "#0d0887"
            ],
            [
             0.1111111111111111,
             "#46039f"
            ],
            [
             0.2222222222222222,
             "#7201a8"
            ],
            [
             0.3333333333333333,
             "#9c179e"
            ],
            [
             0.4444444444444444,
             "#bd3786"
            ],
            [
             0.5555555555555556,
             "#d8576b"
            ],
            [
             0.6666666666666666,
             "#ed7953"
            ],
            [
             0.7777777777777778,
             "#fb9f3a"
            ],
            [
             0.8888888888888888,
             "#fdca26"
            ],
            [
             1,
             "#f0f921"
            ]
           ],
           "sequentialminus": [
            [
             0,
             "#0d0887"
            ],
            [
             0.1111111111111111,
             "#46039f"
            ],
            [
             0.2222222222222222,
             "#7201a8"
            ],
            [
             0.3333333333333333,
             "#9c179e"
            ],
            [
             0.4444444444444444,
             "#bd3786"
            ],
            [
             0.5555555555555556,
             "#d8576b"
            ],
            [
             0.6666666666666666,
             "#ed7953"
            ],
            [
             0.7777777777777778,
             "#fb9f3a"
            ],
            [
             0.8888888888888888,
             "#fdca26"
            ],
            [
             1,
             "#f0f921"
            ]
           ]
          },
          "colorway": [
           "#636efa",
           "#EF553B",
           "#00cc96",
           "#ab63fa",
           "#FFA15A",
           "#19d3f3",
           "#FF6692",
           "#B6E880",
           "#FF97FF",
           "#FECB52"
          ],
          "font": {
           "color": "#f2f5fa"
          },
          "geo": {
           "bgcolor": "rgb(17,17,17)",
           "lakecolor": "rgb(17,17,17)",
           "landcolor": "rgb(17,17,17)",
           "showlakes": true,
           "showland": true,
           "subunitcolor": "#506784"
          },
          "height": 300,
          "hoverlabel": {
           "align": "left"
          },
          "hovermode": "closest",
          "mapbox": {
           "style": "dark"
          },
          "margin": {
           "b": 40,
           "l": 40,
           "r": 40,
           "t": 40
          },
          "paper_bgcolor": "rgba(0,0,0,0)",
          "plot_bgcolor": "rgba(0,0,0,0)",
          "polar": {
           "angularaxis": {
            "gridcolor": "#506784",
            "linecolor": "#506784",
            "ticks": ""
           },
           "bgcolor": "rgb(17,17,17)",
           "radialaxis": {
            "gridcolor": "#506784",
            "linecolor": "#506784",
            "ticks": ""
           }
          },
          "scene": {
           "xaxis": {
            "backgroundcolor": "rgb(17,17,17)",
            "gridcolor": "#506784",
            "gridwidth": 2,
            "linecolor": "#506784",
            "showbackground": true,
            "ticks": "",
            "zerolinecolor": "#C8D4E3"
           },
           "yaxis": {
            "backgroundcolor": "rgb(17,17,17)",
            "gridcolor": "#506784",
            "gridwidth": 2,
            "linecolor": "#506784",
            "showbackground": true,
            "ticks": "",
            "zerolinecolor": "#C8D4E3"
           },
           "zaxis": {
            "backgroundcolor": "rgb(17,17,17)",
            "gridcolor": "#506784",
            "gridwidth": 2,
            "linecolor": "#506784",
            "showbackground": true,
            "ticks": "",
            "zerolinecolor": "#C8D4E3"
           }
          },
          "shapedefaults": {
           "line": {
            "color": "#f2f5fa"
           }
          },
          "sliderdefaults": {
           "bgcolor": "#C8D4E3",
           "bordercolor": "rgb(17,17,17)",
           "borderwidth": 1,
           "tickwidth": 0
          },
          "ternary": {
           "aaxis": {
            "gridcolor": "#506784",
            "linecolor": "#506784",
            "ticks": ""
           },
           "baxis": {
            "gridcolor": "#506784",
            "linecolor": "#506784",
            "ticks": ""
           },
           "bgcolor": "rgb(17,17,17)",
           "caxis": {
            "gridcolor": "#506784",
            "linecolor": "#506784",
            "ticks": ""
           }
          },
          "title": {
           "x": 0.05
          },
          "updatemenudefaults": {
           "bgcolor": "#506784",
           "borderwidth": 0
          },
          "width": 600,
          "xaxis": {
           "automargin": true,
           "gridcolor": "#283442",
           "linecolor": "#506784",
           "ticks": "",
           "title": {
            "standoff": 15
           },
           "zerolinecolor": "#283442",
           "zerolinewidth": 2
          },
          "yaxis": {
           "automargin": true,
           "gridcolor": "#283442",
           "linecolor": "#506784",
           "ticks": "",
           "title": {
            "standoff": 15
           },
           "zerolinecolor": "#283442",
           "zerolinewidth": 2
          }
         }
        },
        "title": {
         "text": "dropout_lstm"
        },
        "width": 400
       }
      }
     },
     "metadata": {},
     "output_type": "display_data"
    },
    {
     "data": {
      "application/vnd.plotly.v1+json": {
       "config": {
        "plotlyServerURL": "https://plot.ly"
       },
       "data": [
        {
         "type": "scatter",
         "x": [
          10
         ],
         "y": [
          0.9604130808950087
         ]
        },
        {
         "type": "scatter",
         "x": [
          10
         ],
         "y": [
          0.9066663479314082
         ]
        }
       ],
       "layout": {
        "height": 200,
        "template": {
         "data": {
          "bar": [
           {
            "error_x": {
             "color": "#f2f5fa"
            },
            "error_y": {
             "color": "#f2f5fa"
            },
            "marker": {
             "line": {
              "color": "rgb(17,17,17)",
              "width": 0.5
             },
             "pattern": {
              "fillmode": "overlay",
              "size": 10,
              "solidity": 0.2
             }
            },
            "type": "bar"
           }
          ],
          "barpolar": [
           {
            "marker": {
             "line": {
              "color": "rgb(17,17,17)",
              "width": 0.5
             },
             "pattern": {
              "fillmode": "overlay",
              "size": 10,
              "solidity": 0.2
             }
            },
            "type": "barpolar"
           }
          ],
          "carpet": [
           {
            "aaxis": {
             "endlinecolor": "#A2B1C6",
             "gridcolor": "#506784",
             "linecolor": "#506784",
             "minorgridcolor": "#506784",
             "startlinecolor": "#A2B1C6"
            },
            "baxis": {
             "endlinecolor": "#A2B1C6",
             "gridcolor": "#506784",
             "linecolor": "#506784",
             "minorgridcolor": "#506784",
             "startlinecolor": "#A2B1C6"
            },
            "type": "carpet"
           }
          ],
          "choropleth": [
           {
            "colorbar": {
             "outlinewidth": 0,
             "ticks": ""
            },
            "type": "choropleth"
           }
          ],
          "contour": [
           {
            "colorbar": {
             "outlinewidth": 0,
             "ticks": ""
            },
            "colorscale": [
             [
              0,
              "#0d0887"
             ],
             [
              0.1111111111111111,
              "#46039f"
             ],
             [
              0.2222222222222222,
              "#7201a8"
             ],
             [
              0.3333333333333333,
              "#9c179e"
             ],
             [
              0.4444444444444444,
              "#bd3786"
             ],
             [
              0.5555555555555556,
              "#d8576b"
             ],
             [
              0.6666666666666666,
              "#ed7953"
             ],
             [
              0.7777777777777778,
              "#fb9f3a"
             ],
             [
              0.8888888888888888,
              "#fdca26"
             ],
             [
              1,
              "#f0f921"
             ]
            ],
            "type": "contour"
           }
          ],
          "contourcarpet": [
           {
            "colorbar": {
             "outlinewidth": 0,
             "ticks": ""
            },
            "type": "contourcarpet"
           }
          ],
          "heatmap": [
           {
            "colorbar": {
             "outlinewidth": 0,
             "ticks": ""
            },
            "colorscale": [
             [
              0,
              "#0d0887"
             ],
             [
              0.1111111111111111,
              "#46039f"
             ],
             [
              0.2222222222222222,
              "#7201a8"
             ],
             [
              0.3333333333333333,
              "#9c179e"
             ],
             [
              0.4444444444444444,
              "#bd3786"
             ],
             [
              0.5555555555555556,
              "#d8576b"
             ],
             [
              0.6666666666666666,
              "#ed7953"
             ],
             [
              0.7777777777777778,
              "#fb9f3a"
             ],
             [
              0.8888888888888888,
              "#fdca26"
             ],
             [
              1,
              "#f0f921"
             ]
            ],
            "type": "heatmap"
           }
          ],
          "heatmapgl": [
           {
            "colorbar": {
             "outlinewidth": 0,
             "ticks": ""
            },
            "colorscale": [
             [
              0,
              "#0d0887"
             ],
             [
              0.1111111111111111,
              "#46039f"
             ],
             [
              0.2222222222222222,
              "#7201a8"
             ],
             [
              0.3333333333333333,
              "#9c179e"
             ],
             [
              0.4444444444444444,
              "#bd3786"
             ],
             [
              0.5555555555555556,
              "#d8576b"
             ],
             [
              0.6666666666666666,
              "#ed7953"
             ],
             [
              0.7777777777777778,
              "#fb9f3a"
             ],
             [
              0.8888888888888888,
              "#fdca26"
             ],
             [
              1,
              "#f0f921"
             ]
            ],
            "type": "heatmapgl"
           }
          ],
          "histogram": [
           {
            "marker": {
             "pattern": {
              "fillmode": "overlay",
              "size": 10,
              "solidity": 0.2
             }
            },
            "type": "histogram"
           }
          ],
          "histogram2d": [
           {
            "colorbar": {
             "outlinewidth": 0,
             "ticks": ""
            },
            "colorscale": [
             [
              0,
              "#0d0887"
             ],
             [
              0.1111111111111111,
              "#46039f"
             ],
             [
              0.2222222222222222,
              "#7201a8"
             ],
             [
              0.3333333333333333,
              "#9c179e"
             ],
             [
              0.4444444444444444,
              "#bd3786"
             ],
             [
              0.5555555555555556,
              "#d8576b"
             ],
             [
              0.6666666666666666,
              "#ed7953"
             ],
             [
              0.7777777777777778,
              "#fb9f3a"
             ],
             [
              0.8888888888888888,
              "#fdca26"
             ],
             [
              1,
              "#f0f921"
             ]
            ],
            "type": "histogram2d"
           }
          ],
          "histogram2dcontour": [
           {
            "colorbar": {
             "outlinewidth": 0,
             "ticks": ""
            },
            "colorscale": [
             [
              0,
              "#0d0887"
             ],
             [
              0.1111111111111111,
              "#46039f"
             ],
             [
              0.2222222222222222,
              "#7201a8"
             ],
             [
              0.3333333333333333,
              "#9c179e"
             ],
             [
              0.4444444444444444,
              "#bd3786"
             ],
             [
              0.5555555555555556,
              "#d8576b"
             ],
             [
              0.6666666666666666,
              "#ed7953"
             ],
             [
              0.7777777777777778,
              "#fb9f3a"
             ],
             [
              0.8888888888888888,
              "#fdca26"
             ],
             [
              1,
              "#f0f921"
             ]
            ],
            "type": "histogram2dcontour"
           }
          ],
          "mesh3d": [
           {
            "colorbar": {
             "outlinewidth": 0,
             "ticks": ""
            },
            "type": "mesh3d"
           }
          ],
          "parcoords": [
           {
            "line": {
             "colorbar": {
              "outlinewidth": 0,
              "ticks": ""
             }
            },
            "type": "parcoords"
           }
          ],
          "pie": [
           {
            "automargin": true,
            "type": "pie"
           }
          ],
          "scatter": [
           {
            "marker": {
             "line": {
              "color": "#283442"
             }
            },
            "type": "scatter"
           }
          ],
          "scatter3d": [
           {
            "line": {
             "colorbar": {
              "outlinewidth": 0,
              "ticks": ""
             }
            },
            "marker": {
             "colorbar": {
              "outlinewidth": 0,
              "ticks": ""
             }
            },
            "type": "scatter3d"
           }
          ],
          "scattercarpet": [
           {
            "marker": {
             "colorbar": {
              "outlinewidth": 0,
              "ticks": ""
             }
            },
            "type": "scattercarpet"
           }
          ],
          "scattergeo": [
           {
            "marker": {
             "colorbar": {
              "outlinewidth": 0,
              "ticks": ""
             }
            },
            "type": "scattergeo"
           }
          ],
          "scattergl": [
           {
            "marker": {
             "line": {
              "color": "#283442"
             }
            },
            "type": "scattergl"
           }
          ],
          "scattermapbox": [
           {
            "marker": {
             "colorbar": {
              "outlinewidth": 0,
              "ticks": ""
             }
            },
            "type": "scattermapbox"
           }
          ],
          "scatterpolar": [
           {
            "marker": {
             "colorbar": {
              "outlinewidth": 0,
              "ticks": ""
             }
            },
            "type": "scatterpolar"
           }
          ],
          "scatterpolargl": [
           {
            "marker": {
             "colorbar": {
              "outlinewidth": 0,
              "ticks": ""
             }
            },
            "type": "scatterpolargl"
           }
          ],
          "scatterternary": [
           {
            "marker": {
             "colorbar": {
              "outlinewidth": 0,
              "ticks": ""
             }
            },
            "type": "scatterternary"
           }
          ],
          "surface": [
           {
            "colorbar": {
             "outlinewidth": 0,
             "ticks": ""
            },
            "colorscale": [
             [
              0,
              "#0d0887"
             ],
             [
              0.1111111111111111,
              "#46039f"
             ],
             [
              0.2222222222222222,
              "#7201a8"
             ],
             [
              0.3333333333333333,
              "#9c179e"
             ],
             [
              0.4444444444444444,
              "#bd3786"
             ],
             [
              0.5555555555555556,
              "#d8576b"
             ],
             [
              0.6666666666666666,
              "#ed7953"
             ],
             [
              0.7777777777777778,
              "#fb9f3a"
             ],
             [
              0.8888888888888888,
              "#fdca26"
             ],
             [
              1,
              "#f0f921"
             ]
            ],
            "type": "surface"
           }
          ],
          "table": [
           {
            "cells": {
             "fill": {
              "color": "#506784"
             },
             "line": {
              "color": "rgb(17,17,17)"
             }
            },
            "header": {
             "fill": {
              "color": "#2a3f5f"
             },
             "line": {
              "color": "rgb(17,17,17)"
             }
            },
            "type": "table"
           }
          ]
         },
         "layout": {
          "annotationdefaults": {
           "arrowcolor": "#f2f5fa",
           "arrowhead": 0,
           "arrowwidth": 1
          },
          "autosize": false,
          "autotypenumbers": "strict",
          "coloraxis": {
           "colorbar": {
            "outlinewidth": 0,
            "ticks": ""
           }
          },
          "colorscale": {
           "diverging": [
            [
             0,
             "#8e0152"
            ],
            [
             0.1,
             "#c51b7d"
            ],
            [
             0.2,
             "#de77ae"
            ],
            [
             0.3,
             "#f1b6da"
            ],
            [
             0.4,
             "#fde0ef"
            ],
            [
             0.5,
             "#f7f7f7"
            ],
            [
             0.6,
             "#e6f5d0"
            ],
            [
             0.7,
             "#b8e186"
            ],
            [
             0.8,
             "#7fbc41"
            ],
            [
             0.9,
             "#4d9221"
            ],
            [
             1,
             "#276419"
            ]
           ],
           "sequential": [
            [
             0,
             "#0d0887"
            ],
            [
             0.1111111111111111,
             "#46039f"
            ],
            [
             0.2222222222222222,
             "#7201a8"
            ],
            [
             0.3333333333333333,
             "#9c179e"
            ],
            [
             0.4444444444444444,
             "#bd3786"
            ],
            [
             0.5555555555555556,
             "#d8576b"
            ],
            [
             0.6666666666666666,
             "#ed7953"
            ],
            [
             0.7777777777777778,
             "#fb9f3a"
            ],
            [
             0.8888888888888888,
             "#fdca26"
            ],
            [
             1,
             "#f0f921"
            ]
           ],
           "sequentialminus": [
            [
             0,
             "#0d0887"
            ],
            [
             0.1111111111111111,
             "#46039f"
            ],
            [
             0.2222222222222222,
             "#7201a8"
            ],
            [
             0.3333333333333333,
             "#9c179e"
            ],
            [
             0.4444444444444444,
             "#bd3786"
            ],
            [
             0.5555555555555556,
             "#d8576b"
            ],
            [
             0.6666666666666666,
             "#ed7953"
            ],
            [
             0.7777777777777778,
             "#fb9f3a"
            ],
            [
             0.8888888888888888,
             "#fdca26"
            ],
            [
             1,
             "#f0f921"
            ]
           ]
          },
          "colorway": [
           "#636efa",
           "#EF553B",
           "#00cc96",
           "#ab63fa",
           "#FFA15A",
           "#19d3f3",
           "#FF6692",
           "#B6E880",
           "#FF97FF",
           "#FECB52"
          ],
          "font": {
           "color": "#f2f5fa"
          },
          "geo": {
           "bgcolor": "rgb(17,17,17)",
           "lakecolor": "rgb(17,17,17)",
           "landcolor": "rgb(17,17,17)",
           "showlakes": true,
           "showland": true,
           "subunitcolor": "#506784"
          },
          "height": 300,
          "hoverlabel": {
           "align": "left"
          },
          "hovermode": "closest",
          "mapbox": {
           "style": "dark"
          },
          "margin": {
           "b": 40,
           "l": 40,
           "r": 40,
           "t": 40
          },
          "paper_bgcolor": "rgba(0,0,0,0)",
          "plot_bgcolor": "rgba(0,0,0,0)",
          "polar": {
           "angularaxis": {
            "gridcolor": "#506784",
            "linecolor": "#506784",
            "ticks": ""
           },
           "bgcolor": "rgb(17,17,17)",
           "radialaxis": {
            "gridcolor": "#506784",
            "linecolor": "#506784",
            "ticks": ""
           }
          },
          "scene": {
           "xaxis": {
            "backgroundcolor": "rgb(17,17,17)",
            "gridcolor": "#506784",
            "gridwidth": 2,
            "linecolor": "#506784",
            "showbackground": true,
            "ticks": "",
            "zerolinecolor": "#C8D4E3"
           },
           "yaxis": {
            "backgroundcolor": "rgb(17,17,17)",
            "gridcolor": "#506784",
            "gridwidth": 2,
            "linecolor": "#506784",
            "showbackground": true,
            "ticks": "",
            "zerolinecolor": "#C8D4E3"
           },
           "zaxis": {
            "backgroundcolor": "rgb(17,17,17)",
            "gridcolor": "#506784",
            "gridwidth": 2,
            "linecolor": "#506784",
            "showbackground": true,
            "ticks": "",
            "zerolinecolor": "#C8D4E3"
           }
          },
          "shapedefaults": {
           "line": {
            "color": "#f2f5fa"
           }
          },
          "sliderdefaults": {
           "bgcolor": "#C8D4E3",
           "bordercolor": "rgb(17,17,17)",
           "borderwidth": 1,
           "tickwidth": 0
          },
          "ternary": {
           "aaxis": {
            "gridcolor": "#506784",
            "linecolor": "#506784",
            "ticks": ""
           },
           "baxis": {
            "gridcolor": "#506784",
            "linecolor": "#506784",
            "ticks": ""
           },
           "bgcolor": "rgb(17,17,17)",
           "caxis": {
            "gridcolor": "#506784",
            "linecolor": "#506784",
            "ticks": ""
           }
          },
          "title": {
           "x": 0.05
          },
          "updatemenudefaults": {
           "bgcolor": "#506784",
           "borderwidth": 0
          },
          "width": 600,
          "xaxis": {
           "automargin": true,
           "gridcolor": "#283442",
           "linecolor": "#506784",
           "ticks": "",
           "title": {
            "standoff": 15
           },
           "zerolinecolor": "#283442",
           "zerolinewidth": 2
          },
          "yaxis": {
           "automargin": true,
           "gridcolor": "#283442",
           "linecolor": "#506784",
           "ticks": "",
           "title": {
            "standoff": 15
           },
           "zerolinecolor": "#283442",
           "zerolinewidth": 2
          }
         }
        },
        "title": {
         "text": "train_time"
        },
        "width": 400
       }
      }
     },
     "metadata": {},
     "output_type": "display_data"
    },
    {
     "data": {
      "application/vnd.plotly.v1+json": {
       "config": {
        "plotlyServerURL": "https://plot.ly"
       },
       "data": [
        {
         "type": "scatter",
         "x": [
          10,
          20
         ],
         "y": [
          0.9598393574297188,
          0.9604130808950087
         ]
        },
        {
         "type": "scatter",
         "x": [
          10,
          20
         ],
         "y": [
          0.8930165104863901,
          0.9203161853764266
         ]
        }
       ],
       "layout": {
        "height": 200,
        "template": {
         "data": {
          "bar": [
           {
            "error_x": {
             "color": "#f2f5fa"
            },
            "error_y": {
             "color": "#f2f5fa"
            },
            "marker": {
             "line": {
              "color": "rgb(17,17,17)",
              "width": 0.5
             },
             "pattern": {
              "fillmode": "overlay",
              "size": 10,
              "solidity": 0.2
             }
            },
            "type": "bar"
           }
          ],
          "barpolar": [
           {
            "marker": {
             "line": {
              "color": "rgb(17,17,17)",
              "width": 0.5
             },
             "pattern": {
              "fillmode": "overlay",
              "size": 10,
              "solidity": 0.2
             }
            },
            "type": "barpolar"
           }
          ],
          "carpet": [
           {
            "aaxis": {
             "endlinecolor": "#A2B1C6",
             "gridcolor": "#506784",
             "linecolor": "#506784",
             "minorgridcolor": "#506784",
             "startlinecolor": "#A2B1C6"
            },
            "baxis": {
             "endlinecolor": "#A2B1C6",
             "gridcolor": "#506784",
             "linecolor": "#506784",
             "minorgridcolor": "#506784",
             "startlinecolor": "#A2B1C6"
            },
            "type": "carpet"
           }
          ],
          "choropleth": [
           {
            "colorbar": {
             "outlinewidth": 0,
             "ticks": ""
            },
            "type": "choropleth"
           }
          ],
          "contour": [
           {
            "colorbar": {
             "outlinewidth": 0,
             "ticks": ""
            },
            "colorscale": [
             [
              0,
              "#0d0887"
             ],
             [
              0.1111111111111111,
              "#46039f"
             ],
             [
              0.2222222222222222,
              "#7201a8"
             ],
             [
              0.3333333333333333,
              "#9c179e"
             ],
             [
              0.4444444444444444,
              "#bd3786"
             ],
             [
              0.5555555555555556,
              "#d8576b"
             ],
             [
              0.6666666666666666,
              "#ed7953"
             ],
             [
              0.7777777777777778,
              "#fb9f3a"
             ],
             [
              0.8888888888888888,
              "#fdca26"
             ],
             [
              1,
              "#f0f921"
             ]
            ],
            "type": "contour"
           }
          ],
          "contourcarpet": [
           {
            "colorbar": {
             "outlinewidth": 0,
             "ticks": ""
            },
            "type": "contourcarpet"
           }
          ],
          "heatmap": [
           {
            "colorbar": {
             "outlinewidth": 0,
             "ticks": ""
            },
            "colorscale": [
             [
              0,
              "#0d0887"
             ],
             [
              0.1111111111111111,
              "#46039f"
             ],
             [
              0.2222222222222222,
              "#7201a8"
             ],
             [
              0.3333333333333333,
              "#9c179e"
             ],
             [
              0.4444444444444444,
              "#bd3786"
             ],
             [
              0.5555555555555556,
              "#d8576b"
             ],
             [
              0.6666666666666666,
              "#ed7953"
             ],
             [
              0.7777777777777778,
              "#fb9f3a"
             ],
             [
              0.8888888888888888,
              "#fdca26"
             ],
             [
              1,
              "#f0f921"
             ]
            ],
            "type": "heatmap"
           }
          ],
          "heatmapgl": [
           {
            "colorbar": {
             "outlinewidth": 0,
             "ticks": ""
            },
            "colorscale": [
             [
              0,
              "#0d0887"
             ],
             [
              0.1111111111111111,
              "#46039f"
             ],
             [
              0.2222222222222222,
              "#7201a8"
             ],
             [
              0.3333333333333333,
              "#9c179e"
             ],
             [
              0.4444444444444444,
              "#bd3786"
             ],
             [
              0.5555555555555556,
              "#d8576b"
             ],
             [
              0.6666666666666666,
              "#ed7953"
             ],
             [
              0.7777777777777778,
              "#fb9f3a"
             ],
             [
              0.8888888888888888,
              "#fdca26"
             ],
             [
              1,
              "#f0f921"
             ]
            ],
            "type": "heatmapgl"
           }
          ],
          "histogram": [
           {
            "marker": {
             "pattern": {
              "fillmode": "overlay",
              "size": 10,
              "solidity": 0.2
             }
            },
            "type": "histogram"
           }
          ],
          "histogram2d": [
           {
            "colorbar": {
             "outlinewidth": 0,
             "ticks": ""
            },
            "colorscale": [
             [
              0,
              "#0d0887"
             ],
             [
              0.1111111111111111,
              "#46039f"
             ],
             [
              0.2222222222222222,
              "#7201a8"
             ],
             [
              0.3333333333333333,
              "#9c179e"
             ],
             [
              0.4444444444444444,
              "#bd3786"
             ],
             [
              0.5555555555555556,
              "#d8576b"
             ],
             [
              0.6666666666666666,
              "#ed7953"
             ],
             [
              0.7777777777777778,
              "#fb9f3a"
             ],
             [
              0.8888888888888888,
              "#fdca26"
             ],
             [
              1,
              "#f0f921"
             ]
            ],
            "type": "histogram2d"
           }
          ],
          "histogram2dcontour": [
           {
            "colorbar": {
             "outlinewidth": 0,
             "ticks": ""
            },
            "colorscale": [
             [
              0,
              "#0d0887"
             ],
             [
              0.1111111111111111,
              "#46039f"
             ],
             [
              0.2222222222222222,
              "#7201a8"
             ],
             [
              0.3333333333333333,
              "#9c179e"
             ],
             [
              0.4444444444444444,
              "#bd3786"
             ],
             [
              0.5555555555555556,
              "#d8576b"
             ],
             [
              0.6666666666666666,
              "#ed7953"
             ],
             [
              0.7777777777777778,
              "#fb9f3a"
             ],
             [
              0.8888888888888888,
              "#fdca26"
             ],
             [
              1,
              "#f0f921"
             ]
            ],
            "type": "histogram2dcontour"
           }
          ],
          "mesh3d": [
           {
            "colorbar": {
             "outlinewidth": 0,
             "ticks": ""
            },
            "type": "mesh3d"
           }
          ],
          "parcoords": [
           {
            "line": {
             "colorbar": {
              "outlinewidth": 0,
              "ticks": ""
             }
            },
            "type": "parcoords"
           }
          ],
          "pie": [
           {
            "automargin": true,
            "type": "pie"
           }
          ],
          "scatter": [
           {
            "marker": {
             "line": {
              "color": "#283442"
             }
            },
            "type": "scatter"
           }
          ],
          "scatter3d": [
           {
            "line": {
             "colorbar": {
              "outlinewidth": 0,
              "ticks": ""
             }
            },
            "marker": {
             "colorbar": {
              "outlinewidth": 0,
              "ticks": ""
             }
            },
            "type": "scatter3d"
           }
          ],
          "scattercarpet": [
           {
            "marker": {
             "colorbar": {
              "outlinewidth": 0,
              "ticks": ""
             }
            },
            "type": "scattercarpet"
           }
          ],
          "scattergeo": [
           {
            "marker": {
             "colorbar": {
              "outlinewidth": 0,
              "ticks": ""
             }
            },
            "type": "scattergeo"
           }
          ],
          "scattergl": [
           {
            "marker": {
             "line": {
              "color": "#283442"
             }
            },
            "type": "scattergl"
           }
          ],
          "scattermapbox": [
           {
            "marker": {
             "colorbar": {
              "outlinewidth": 0,
              "ticks": ""
             }
            },
            "type": "scattermapbox"
           }
          ],
          "scatterpolar": [
           {
            "marker": {
             "colorbar": {
              "outlinewidth": 0,
              "ticks": ""
             }
            },
            "type": "scatterpolar"
           }
          ],
          "scatterpolargl": [
           {
            "marker": {
             "colorbar": {
              "outlinewidth": 0,
              "ticks": ""
             }
            },
            "type": "scatterpolargl"
           }
          ],
          "scatterternary": [
           {
            "marker": {
             "colorbar": {
              "outlinewidth": 0,
              "ticks": ""
             }
            },
            "type": "scatterternary"
           }
          ],
          "surface": [
           {
            "colorbar": {
             "outlinewidth": 0,
             "ticks": ""
            },
            "colorscale": [
             [
              0,
              "#0d0887"
             ],
             [
              0.1111111111111111,
              "#46039f"
             ],
             [
              0.2222222222222222,
              "#7201a8"
             ],
             [
              0.3333333333333333,
              "#9c179e"
             ],
             [
              0.4444444444444444,
              "#bd3786"
             ],
             [
              0.5555555555555556,
              "#d8576b"
             ],
             [
              0.6666666666666666,
              "#ed7953"
             ],
             [
              0.7777777777777778,
              "#fb9f3a"
             ],
             [
              0.8888888888888888,
              "#fdca26"
             ],
             [
              1,
              "#f0f921"
             ]
            ],
            "type": "surface"
           }
          ],
          "table": [
           {
            "cells": {
             "fill": {
              "color": "#506784"
             },
             "line": {
              "color": "rgb(17,17,17)"
             }
            },
            "header": {
             "fill": {
              "color": "#2a3f5f"
             },
             "line": {
              "color": "rgb(17,17,17)"
             }
            },
            "type": "table"
           }
          ]
         },
         "layout": {
          "annotationdefaults": {
           "arrowcolor": "#f2f5fa",
           "arrowhead": 0,
           "arrowwidth": 1
          },
          "autosize": false,
          "autotypenumbers": "strict",
          "coloraxis": {
           "colorbar": {
            "outlinewidth": 0,
            "ticks": ""
           }
          },
          "colorscale": {
           "diverging": [
            [
             0,
             "#8e0152"
            ],
            [
             0.1,
             "#c51b7d"
            ],
            [
             0.2,
             "#de77ae"
            ],
            [
             0.3,
             "#f1b6da"
            ],
            [
             0.4,
             "#fde0ef"
            ],
            [
             0.5,
             "#f7f7f7"
            ],
            [
             0.6,
             "#e6f5d0"
            ],
            [
             0.7,
             "#b8e186"
            ],
            [
             0.8,
             "#7fbc41"
            ],
            [
             0.9,
             "#4d9221"
            ],
            [
             1,
             "#276419"
            ]
           ],
           "sequential": [
            [
             0,
             "#0d0887"
            ],
            [
             0.1111111111111111,
             "#46039f"
            ],
            [
             0.2222222222222222,
             "#7201a8"
            ],
            [
             0.3333333333333333,
             "#9c179e"
            ],
            [
             0.4444444444444444,
             "#bd3786"
            ],
            [
             0.5555555555555556,
             "#d8576b"
            ],
            [
             0.6666666666666666,
             "#ed7953"
            ],
            [
             0.7777777777777778,
             "#fb9f3a"
            ],
            [
             0.8888888888888888,
             "#fdca26"
            ],
            [
             1,
             "#f0f921"
            ]
           ],
           "sequentialminus": [
            [
             0,
             "#0d0887"
            ],
            [
             0.1111111111111111,
             "#46039f"
            ],
            [
             0.2222222222222222,
             "#7201a8"
            ],
            [
             0.3333333333333333,
             "#9c179e"
            ],
            [
             0.4444444444444444,
             "#bd3786"
            ],
            [
             0.5555555555555556,
             "#d8576b"
            ],
            [
             0.6666666666666666,
             "#ed7953"
            ],
            [
             0.7777777777777778,
             "#fb9f3a"
            ],
            [
             0.8888888888888888,
             "#fdca26"
            ],
            [
             1,
             "#f0f921"
            ]
           ]
          },
          "colorway": [
           "#636efa",
           "#EF553B",
           "#00cc96",
           "#ab63fa",
           "#FFA15A",
           "#19d3f3",
           "#FF6692",
           "#B6E880",
           "#FF97FF",
           "#FECB52"
          ],
          "font": {
           "color": "#f2f5fa"
          },
          "geo": {
           "bgcolor": "rgb(17,17,17)",
           "lakecolor": "rgb(17,17,17)",
           "landcolor": "rgb(17,17,17)",
           "showlakes": true,
           "showland": true,
           "subunitcolor": "#506784"
          },
          "height": 300,
          "hoverlabel": {
           "align": "left"
          },
          "hovermode": "closest",
          "mapbox": {
           "style": "dark"
          },
          "margin": {
           "b": 40,
           "l": 40,
           "r": 40,
           "t": 40
          },
          "paper_bgcolor": "rgba(0,0,0,0)",
          "plot_bgcolor": "rgba(0,0,0,0)",
          "polar": {
           "angularaxis": {
            "gridcolor": "#506784",
            "linecolor": "#506784",
            "ticks": ""
           },
           "bgcolor": "rgb(17,17,17)",
           "radialaxis": {
            "gridcolor": "#506784",
            "linecolor": "#506784",
            "ticks": ""
           }
          },
          "scene": {
           "xaxis": {
            "backgroundcolor": "rgb(17,17,17)",
            "gridcolor": "#506784",
            "gridwidth": 2,
            "linecolor": "#506784",
            "showbackground": true,
            "ticks": "",
            "zerolinecolor": "#C8D4E3"
           },
           "yaxis": {
            "backgroundcolor": "rgb(17,17,17)",
            "gridcolor": "#506784",
            "gridwidth": 2,
            "linecolor": "#506784",
            "showbackground": true,
            "ticks": "",
            "zerolinecolor": "#C8D4E3"
           },
           "zaxis": {
            "backgroundcolor": "rgb(17,17,17)",
            "gridcolor": "#506784",
            "gridwidth": 2,
            "linecolor": "#506784",
            "showbackground": true,
            "ticks": "",
            "zerolinecolor": "#C8D4E3"
           }
          },
          "shapedefaults": {
           "line": {
            "color": "#f2f5fa"
           }
          },
          "sliderdefaults": {
           "bgcolor": "#C8D4E3",
           "bordercolor": "rgb(17,17,17)",
           "borderwidth": 1,
           "tickwidth": 0
          },
          "ternary": {
           "aaxis": {
            "gridcolor": "#506784",
            "linecolor": "#506784",
            "ticks": ""
           },
           "baxis": {
            "gridcolor": "#506784",
            "linecolor": "#506784",
            "ticks": ""
           },
           "bgcolor": "rgb(17,17,17)",
           "caxis": {
            "gridcolor": "#506784",
            "linecolor": "#506784",
            "ticks": ""
           }
          },
          "title": {
           "x": 0.05
          },
          "updatemenudefaults": {
           "bgcolor": "#506784",
           "borderwidth": 0
          },
          "width": 600,
          "xaxis": {
           "automargin": true,
           "gridcolor": "#283442",
           "linecolor": "#506784",
           "ticks": "",
           "title": {
            "standoff": 15
           },
           "zerolinecolor": "#283442",
           "zerolinewidth": 2
          },
          "yaxis": {
           "automargin": true,
           "gridcolor": "#283442",
           "linecolor": "#506784",
           "ticks": "",
           "title": {
            "standoff": 15
           },
           "zerolinecolor": "#283442",
           "zerolinewidth": 2
          }
         }
        },
        "title": {
         "text": "class_weight_smoothing"
        },
        "width": 400
       }
      }
     },
     "metadata": {},
     "output_type": "display_data"
    },
    {
     "data": {
      "application/vnd.plotly.v1+json": {
       "config": {
        "plotlyServerURL": "https://plot.ly"
       },
       "data": [
        {
         "type": "scatter",
         "x": [
          true
         ],
         "y": [
          0.9604130808950087
         ]
        },
        {
         "type": "scatter",
         "x": [
          true
         ],
         "y": [
          0.9066663479314082
         ]
        }
       ],
       "layout": {
        "height": 200,
        "template": {
         "data": {
          "bar": [
           {
            "error_x": {
             "color": "#f2f5fa"
            },
            "error_y": {
             "color": "#f2f5fa"
            },
            "marker": {
             "line": {
              "color": "rgb(17,17,17)",
              "width": 0.5
             },
             "pattern": {
              "fillmode": "overlay",
              "size": 10,
              "solidity": 0.2
             }
            },
            "type": "bar"
           }
          ],
          "barpolar": [
           {
            "marker": {
             "line": {
              "color": "rgb(17,17,17)",
              "width": 0.5
             },
             "pattern": {
              "fillmode": "overlay",
              "size": 10,
              "solidity": 0.2
             }
            },
            "type": "barpolar"
           }
          ],
          "carpet": [
           {
            "aaxis": {
             "endlinecolor": "#A2B1C6",
             "gridcolor": "#506784",
             "linecolor": "#506784",
             "minorgridcolor": "#506784",
             "startlinecolor": "#A2B1C6"
            },
            "baxis": {
             "endlinecolor": "#A2B1C6",
             "gridcolor": "#506784",
             "linecolor": "#506784",
             "minorgridcolor": "#506784",
             "startlinecolor": "#A2B1C6"
            },
            "type": "carpet"
           }
          ],
          "choropleth": [
           {
            "colorbar": {
             "outlinewidth": 0,
             "ticks": ""
            },
            "type": "choropleth"
           }
          ],
          "contour": [
           {
            "colorbar": {
             "outlinewidth": 0,
             "ticks": ""
            },
            "colorscale": [
             [
              0,
              "#0d0887"
             ],
             [
              0.1111111111111111,
              "#46039f"
             ],
             [
              0.2222222222222222,
              "#7201a8"
             ],
             [
              0.3333333333333333,
              "#9c179e"
             ],
             [
              0.4444444444444444,
              "#bd3786"
             ],
             [
              0.5555555555555556,
              "#d8576b"
             ],
             [
              0.6666666666666666,
              "#ed7953"
             ],
             [
              0.7777777777777778,
              "#fb9f3a"
             ],
             [
              0.8888888888888888,
              "#fdca26"
             ],
             [
              1,
              "#f0f921"
             ]
            ],
            "type": "contour"
           }
          ],
          "contourcarpet": [
           {
            "colorbar": {
             "outlinewidth": 0,
             "ticks": ""
            },
            "type": "contourcarpet"
           }
          ],
          "heatmap": [
           {
            "colorbar": {
             "outlinewidth": 0,
             "ticks": ""
            },
            "colorscale": [
             [
              0,
              "#0d0887"
             ],
             [
              0.1111111111111111,
              "#46039f"
             ],
             [
              0.2222222222222222,
              "#7201a8"
             ],
             [
              0.3333333333333333,
              "#9c179e"
             ],
             [
              0.4444444444444444,
              "#bd3786"
             ],
             [
              0.5555555555555556,
              "#d8576b"
             ],
             [
              0.6666666666666666,
              "#ed7953"
             ],
             [
              0.7777777777777778,
              "#fb9f3a"
             ],
             [
              0.8888888888888888,
              "#fdca26"
             ],
             [
              1,
              "#f0f921"
             ]
            ],
            "type": "heatmap"
           }
          ],
          "heatmapgl": [
           {
            "colorbar": {
             "outlinewidth": 0,
             "ticks": ""
            },
            "colorscale": [
             [
              0,
              "#0d0887"
             ],
             [
              0.1111111111111111,
              "#46039f"
             ],
             [
              0.2222222222222222,
              "#7201a8"
             ],
             [
              0.3333333333333333,
              "#9c179e"
             ],
             [
              0.4444444444444444,
              "#bd3786"
             ],
             [
              0.5555555555555556,
              "#d8576b"
             ],
             [
              0.6666666666666666,
              "#ed7953"
             ],
             [
              0.7777777777777778,
              "#fb9f3a"
             ],
             [
              0.8888888888888888,
              "#fdca26"
             ],
             [
              1,
              "#f0f921"
             ]
            ],
            "type": "heatmapgl"
           }
          ],
          "histogram": [
           {
            "marker": {
             "pattern": {
              "fillmode": "overlay",
              "size": 10,
              "solidity": 0.2
             }
            },
            "type": "histogram"
           }
          ],
          "histogram2d": [
           {
            "colorbar": {
             "outlinewidth": 0,
             "ticks": ""
            },
            "colorscale": [
             [
              0,
              "#0d0887"
             ],
             [
              0.1111111111111111,
              "#46039f"
             ],
             [
              0.2222222222222222,
              "#7201a8"
             ],
             [
              0.3333333333333333,
              "#9c179e"
             ],
             [
              0.4444444444444444,
              "#bd3786"
             ],
             [
              0.5555555555555556,
              "#d8576b"
             ],
             [
              0.6666666666666666,
              "#ed7953"
             ],
             [
              0.7777777777777778,
              "#fb9f3a"
             ],
             [
              0.8888888888888888,
              "#fdca26"
             ],
             [
              1,
              "#f0f921"
             ]
            ],
            "type": "histogram2d"
           }
          ],
          "histogram2dcontour": [
           {
            "colorbar": {
             "outlinewidth": 0,
             "ticks": ""
            },
            "colorscale": [
             [
              0,
              "#0d0887"
             ],
             [
              0.1111111111111111,
              "#46039f"
             ],
             [
              0.2222222222222222,
              "#7201a8"
             ],
             [
              0.3333333333333333,
              "#9c179e"
             ],
             [
              0.4444444444444444,
              "#bd3786"
             ],
             [
              0.5555555555555556,
              "#d8576b"
             ],
             [
              0.6666666666666666,
              "#ed7953"
             ],
             [
              0.7777777777777778,
              "#fb9f3a"
             ],
             [
              0.8888888888888888,
              "#fdca26"
             ],
             [
              1,
              "#f0f921"
             ]
            ],
            "type": "histogram2dcontour"
           }
          ],
          "mesh3d": [
           {
            "colorbar": {
             "outlinewidth": 0,
             "ticks": ""
            },
            "type": "mesh3d"
           }
          ],
          "parcoords": [
           {
            "line": {
             "colorbar": {
              "outlinewidth": 0,
              "ticks": ""
             }
            },
            "type": "parcoords"
           }
          ],
          "pie": [
           {
            "automargin": true,
            "type": "pie"
           }
          ],
          "scatter": [
           {
            "marker": {
             "line": {
              "color": "#283442"
             }
            },
            "type": "scatter"
           }
          ],
          "scatter3d": [
           {
            "line": {
             "colorbar": {
              "outlinewidth": 0,
              "ticks": ""
             }
            },
            "marker": {
             "colorbar": {
              "outlinewidth": 0,
              "ticks": ""
             }
            },
            "type": "scatter3d"
           }
          ],
          "scattercarpet": [
           {
            "marker": {
             "colorbar": {
              "outlinewidth": 0,
              "ticks": ""
             }
            },
            "type": "scattercarpet"
           }
          ],
          "scattergeo": [
           {
            "marker": {
             "colorbar": {
              "outlinewidth": 0,
              "ticks": ""
             }
            },
            "type": "scattergeo"
           }
          ],
          "scattergl": [
           {
            "marker": {
             "line": {
              "color": "#283442"
             }
            },
            "type": "scattergl"
           }
          ],
          "scattermapbox": [
           {
            "marker": {
             "colorbar": {
              "outlinewidth": 0,
              "ticks": ""
             }
            },
            "type": "scattermapbox"
           }
          ],
          "scatterpolar": [
           {
            "marker": {
             "colorbar": {
              "outlinewidth": 0,
              "ticks": ""
             }
            },
            "type": "scatterpolar"
           }
          ],
          "scatterpolargl": [
           {
            "marker": {
             "colorbar": {
              "outlinewidth": 0,
              "ticks": ""
             }
            },
            "type": "scatterpolargl"
           }
          ],
          "scatterternary": [
           {
            "marker": {
             "colorbar": {
              "outlinewidth": 0,
              "ticks": ""
             }
            },
            "type": "scatterternary"
           }
          ],
          "surface": [
           {
            "colorbar": {
             "outlinewidth": 0,
             "ticks": ""
            },
            "colorscale": [
             [
              0,
              "#0d0887"
             ],
             [
              0.1111111111111111,
              "#46039f"
             ],
             [
              0.2222222222222222,
              "#7201a8"
             ],
             [
              0.3333333333333333,
              "#9c179e"
             ],
             [
              0.4444444444444444,
              "#bd3786"
             ],
             [
              0.5555555555555556,
              "#d8576b"
             ],
             [
              0.6666666666666666,
              "#ed7953"
             ],
             [
              0.7777777777777778,
              "#fb9f3a"
             ],
             [
              0.8888888888888888,
              "#fdca26"
             ],
             [
              1,
              "#f0f921"
             ]
            ],
            "type": "surface"
           }
          ],
          "table": [
           {
            "cells": {
             "fill": {
              "color": "#506784"
             },
             "line": {
              "color": "rgb(17,17,17)"
             }
            },
            "header": {
             "fill": {
              "color": "#2a3f5f"
             },
             "line": {
              "color": "rgb(17,17,17)"
             }
            },
            "type": "table"
           }
          ]
         },
         "layout": {
          "annotationdefaults": {
           "arrowcolor": "#f2f5fa",
           "arrowhead": 0,
           "arrowwidth": 1
          },
          "autosize": false,
          "autotypenumbers": "strict",
          "coloraxis": {
           "colorbar": {
            "outlinewidth": 0,
            "ticks": ""
           }
          },
          "colorscale": {
           "diverging": [
            [
             0,
             "#8e0152"
            ],
            [
             0.1,
             "#c51b7d"
            ],
            [
             0.2,
             "#de77ae"
            ],
            [
             0.3,
             "#f1b6da"
            ],
            [
             0.4,
             "#fde0ef"
            ],
            [
             0.5,
             "#f7f7f7"
            ],
            [
             0.6,
             "#e6f5d0"
            ],
            [
             0.7,
             "#b8e186"
            ],
            [
             0.8,
             "#7fbc41"
            ],
            [
             0.9,
             "#4d9221"
            ],
            [
             1,
             "#276419"
            ]
           ],
           "sequential": [
            [
             0,
             "#0d0887"
            ],
            [
             0.1111111111111111,
             "#46039f"
            ],
            [
             0.2222222222222222,
             "#7201a8"
            ],
            [
             0.3333333333333333,
             "#9c179e"
            ],
            [
             0.4444444444444444,
             "#bd3786"
            ],
            [
             0.5555555555555556,
             "#d8576b"
            ],
            [
             0.6666666666666666,
             "#ed7953"
            ],
            [
             0.7777777777777778,
             "#fb9f3a"
            ],
            [
             0.8888888888888888,
             "#fdca26"
            ],
            [
             1,
             "#f0f921"
            ]
           ],
           "sequentialminus": [
            [
             0,
             "#0d0887"
            ],
            [
             0.1111111111111111,
             "#46039f"
            ],
            [
             0.2222222222222222,
             "#7201a8"
            ],
            [
             0.3333333333333333,
             "#9c179e"
            ],
            [
             0.4444444444444444,
             "#bd3786"
            ],
            [
             0.5555555555555556,
             "#d8576b"
            ],
            [
             0.6666666666666666,
             "#ed7953"
            ],
            [
             0.7777777777777778,
             "#fb9f3a"
            ],
            [
             0.8888888888888888,
             "#fdca26"
            ],
            [
             1,
             "#f0f921"
            ]
           ]
          },
          "colorway": [
           "#636efa",
           "#EF553B",
           "#00cc96",
           "#ab63fa",
           "#FFA15A",
           "#19d3f3",
           "#FF6692",
           "#B6E880",
           "#FF97FF",
           "#FECB52"
          ],
          "font": {
           "color": "#f2f5fa"
          },
          "geo": {
           "bgcolor": "rgb(17,17,17)",
           "lakecolor": "rgb(17,17,17)",
           "landcolor": "rgb(17,17,17)",
           "showlakes": true,
           "showland": true,
           "subunitcolor": "#506784"
          },
          "height": 300,
          "hoverlabel": {
           "align": "left"
          },
          "hovermode": "closest",
          "mapbox": {
           "style": "dark"
          },
          "margin": {
           "b": 40,
           "l": 40,
           "r": 40,
           "t": 40
          },
          "paper_bgcolor": "rgba(0,0,0,0)",
          "plot_bgcolor": "rgba(0,0,0,0)",
          "polar": {
           "angularaxis": {
            "gridcolor": "#506784",
            "linecolor": "#506784",
            "ticks": ""
           },
           "bgcolor": "rgb(17,17,17)",
           "radialaxis": {
            "gridcolor": "#506784",
            "linecolor": "#506784",
            "ticks": ""
           }
          },
          "scene": {
           "xaxis": {
            "backgroundcolor": "rgb(17,17,17)",
            "gridcolor": "#506784",
            "gridwidth": 2,
            "linecolor": "#506784",
            "showbackground": true,
            "ticks": "",
            "zerolinecolor": "#C8D4E3"
           },
           "yaxis": {
            "backgroundcolor": "rgb(17,17,17)",
            "gridcolor": "#506784",
            "gridwidth": 2,
            "linecolor": "#506784",
            "showbackground": true,
            "ticks": "",
            "zerolinecolor": "#C8D4E3"
           },
           "zaxis": {
            "backgroundcolor": "rgb(17,17,17)",
            "gridcolor": "#506784",
            "gridwidth": 2,
            "linecolor": "#506784",
            "showbackground": true,
            "ticks": "",
            "zerolinecolor": "#C8D4E3"
           }
          },
          "shapedefaults": {
           "line": {
            "color": "#f2f5fa"
           }
          },
          "sliderdefaults": {
           "bgcolor": "#C8D4E3",
           "bordercolor": "rgb(17,17,17)",
           "borderwidth": 1,
           "tickwidth": 0
          },
          "ternary": {
           "aaxis": {
            "gridcolor": "#506784",
            "linecolor": "#506784",
            "ticks": ""
           },
           "baxis": {
            "gridcolor": "#506784",
            "linecolor": "#506784",
            "ticks": ""
           },
           "bgcolor": "rgb(17,17,17)",
           "caxis": {
            "gridcolor": "#506784",
            "linecolor": "#506784",
            "ticks": ""
           }
          },
          "title": {
           "x": 0.05
          },
          "updatemenudefaults": {
           "bgcolor": "#506784",
           "borderwidth": 0
          },
          "width": 600,
          "xaxis": {
           "automargin": true,
           "gridcolor": "#283442",
           "linecolor": "#506784",
           "ticks": "",
           "title": {
            "standoff": 15
           },
           "zerolinecolor": "#283442",
           "zerolinewidth": 2
          },
          "yaxis": {
           "automargin": true,
           "gridcolor": "#283442",
           "linecolor": "#506784",
           "ticks": "",
           "title": {
            "standoff": 15
           },
           "zerolinecolor": "#283442",
           "zerolinewidth": 2
          }
         }
        },
        "title": {
         "text": "bidi"
        },
        "width": 400
       }
      }
     },
     "metadata": {},
     "output_type": "display_data"
    },
    {
     "data": {
      "application/vnd.plotly.v1+json": {
       "config": {
        "plotlyServerURL": "https://plot.ly"
       },
       "data": [
        {
         "type": "scatter",
         "x": [
          0.01,
          0.05
         ],
         "y": [
          0.9604130808950087,
          0.955249569707401
         ]
        },
        {
         "type": "scatter",
         "x": [
          0.01,
          0.05
         ],
         "y": [
          0.9545483521387137,
          0.8587843437241028
         ]
        }
       ],
       "layout": {
        "height": 200,
        "template": {
         "data": {
          "bar": [
           {
            "error_x": {
             "color": "#f2f5fa"
            },
            "error_y": {
             "color": "#f2f5fa"
            },
            "marker": {
             "line": {
              "color": "rgb(17,17,17)",
              "width": 0.5
             },
             "pattern": {
              "fillmode": "overlay",
              "size": 10,
              "solidity": 0.2
             }
            },
            "type": "bar"
           }
          ],
          "barpolar": [
           {
            "marker": {
             "line": {
              "color": "rgb(17,17,17)",
              "width": 0.5
             },
             "pattern": {
              "fillmode": "overlay",
              "size": 10,
              "solidity": 0.2
             }
            },
            "type": "barpolar"
           }
          ],
          "carpet": [
           {
            "aaxis": {
             "endlinecolor": "#A2B1C6",
             "gridcolor": "#506784",
             "linecolor": "#506784",
             "minorgridcolor": "#506784",
             "startlinecolor": "#A2B1C6"
            },
            "baxis": {
             "endlinecolor": "#A2B1C6",
             "gridcolor": "#506784",
             "linecolor": "#506784",
             "minorgridcolor": "#506784",
             "startlinecolor": "#A2B1C6"
            },
            "type": "carpet"
           }
          ],
          "choropleth": [
           {
            "colorbar": {
             "outlinewidth": 0,
             "ticks": ""
            },
            "type": "choropleth"
           }
          ],
          "contour": [
           {
            "colorbar": {
             "outlinewidth": 0,
             "ticks": ""
            },
            "colorscale": [
             [
              0,
              "#0d0887"
             ],
             [
              0.1111111111111111,
              "#46039f"
             ],
             [
              0.2222222222222222,
              "#7201a8"
             ],
             [
              0.3333333333333333,
              "#9c179e"
             ],
             [
              0.4444444444444444,
              "#bd3786"
             ],
             [
              0.5555555555555556,
              "#d8576b"
             ],
             [
              0.6666666666666666,
              "#ed7953"
             ],
             [
              0.7777777777777778,
              "#fb9f3a"
             ],
             [
              0.8888888888888888,
              "#fdca26"
             ],
             [
              1,
              "#f0f921"
             ]
            ],
            "type": "contour"
           }
          ],
          "contourcarpet": [
           {
            "colorbar": {
             "outlinewidth": 0,
             "ticks": ""
            },
            "type": "contourcarpet"
           }
          ],
          "heatmap": [
           {
            "colorbar": {
             "outlinewidth": 0,
             "ticks": ""
            },
            "colorscale": [
             [
              0,
              "#0d0887"
             ],
             [
              0.1111111111111111,
              "#46039f"
             ],
             [
              0.2222222222222222,
              "#7201a8"
             ],
             [
              0.3333333333333333,
              "#9c179e"
             ],
             [
              0.4444444444444444,
              "#bd3786"
             ],
             [
              0.5555555555555556,
              "#d8576b"
             ],
             [
              0.6666666666666666,
              "#ed7953"
             ],
             [
              0.7777777777777778,
              "#fb9f3a"
             ],
             [
              0.8888888888888888,
              "#fdca26"
             ],
             [
              1,
              "#f0f921"
             ]
            ],
            "type": "heatmap"
           }
          ],
          "heatmapgl": [
           {
            "colorbar": {
             "outlinewidth": 0,
             "ticks": ""
            },
            "colorscale": [
             [
              0,
              "#0d0887"
             ],
             [
              0.1111111111111111,
              "#46039f"
             ],
             [
              0.2222222222222222,
              "#7201a8"
             ],
             [
              0.3333333333333333,
              "#9c179e"
             ],
             [
              0.4444444444444444,
              "#bd3786"
             ],
             [
              0.5555555555555556,
              "#d8576b"
             ],
             [
              0.6666666666666666,
              "#ed7953"
             ],
             [
              0.7777777777777778,
              "#fb9f3a"
             ],
             [
              0.8888888888888888,
              "#fdca26"
             ],
             [
              1,
              "#f0f921"
             ]
            ],
            "type": "heatmapgl"
           }
          ],
          "histogram": [
           {
            "marker": {
             "pattern": {
              "fillmode": "overlay",
              "size": 10,
              "solidity": 0.2
             }
            },
            "type": "histogram"
           }
          ],
          "histogram2d": [
           {
            "colorbar": {
             "outlinewidth": 0,
             "ticks": ""
            },
            "colorscale": [
             [
              0,
              "#0d0887"
             ],
             [
              0.1111111111111111,
              "#46039f"
             ],
             [
              0.2222222222222222,
              "#7201a8"
             ],
             [
              0.3333333333333333,
              "#9c179e"
             ],
             [
              0.4444444444444444,
              "#bd3786"
             ],
             [
              0.5555555555555556,
              "#d8576b"
             ],
             [
              0.6666666666666666,
              "#ed7953"
             ],
             [
              0.7777777777777778,
              "#fb9f3a"
             ],
             [
              0.8888888888888888,
              "#fdca26"
             ],
             [
              1,
              "#f0f921"
             ]
            ],
            "type": "histogram2d"
           }
          ],
          "histogram2dcontour": [
           {
            "colorbar": {
             "outlinewidth": 0,
             "ticks": ""
            },
            "colorscale": [
             [
              0,
              "#0d0887"
             ],
             [
              0.1111111111111111,
              "#46039f"
             ],
             [
              0.2222222222222222,
              "#7201a8"
             ],
             [
              0.3333333333333333,
              "#9c179e"
             ],
             [
              0.4444444444444444,
              "#bd3786"
             ],
             [
              0.5555555555555556,
              "#d8576b"
             ],
             [
              0.6666666666666666,
              "#ed7953"
             ],
             [
              0.7777777777777778,
              "#fb9f3a"
             ],
             [
              0.8888888888888888,
              "#fdca26"
             ],
             [
              1,
              "#f0f921"
             ]
            ],
            "type": "histogram2dcontour"
           }
          ],
          "mesh3d": [
           {
            "colorbar": {
             "outlinewidth": 0,
             "ticks": ""
            },
            "type": "mesh3d"
           }
          ],
          "parcoords": [
           {
            "line": {
             "colorbar": {
              "outlinewidth": 0,
              "ticks": ""
             }
            },
            "type": "parcoords"
           }
          ],
          "pie": [
           {
            "automargin": true,
            "type": "pie"
           }
          ],
          "scatter": [
           {
            "marker": {
             "line": {
              "color": "#283442"
             }
            },
            "type": "scatter"
           }
          ],
          "scatter3d": [
           {
            "line": {
             "colorbar": {
              "outlinewidth": 0,
              "ticks": ""
             }
            },
            "marker": {
             "colorbar": {
              "outlinewidth": 0,
              "ticks": ""
             }
            },
            "type": "scatter3d"
           }
          ],
          "scattercarpet": [
           {
            "marker": {
             "colorbar": {
              "outlinewidth": 0,
              "ticks": ""
             }
            },
            "type": "scattercarpet"
           }
          ],
          "scattergeo": [
           {
            "marker": {
             "colorbar": {
              "outlinewidth": 0,
              "ticks": ""
             }
            },
            "type": "scattergeo"
           }
          ],
          "scattergl": [
           {
            "marker": {
             "line": {
              "color": "#283442"
             }
            },
            "type": "scattergl"
           }
          ],
          "scattermapbox": [
           {
            "marker": {
             "colorbar": {
              "outlinewidth": 0,
              "ticks": ""
             }
            },
            "type": "scattermapbox"
           }
          ],
          "scatterpolar": [
           {
            "marker": {
             "colorbar": {
              "outlinewidth": 0,
              "ticks": ""
             }
            },
            "type": "scatterpolar"
           }
          ],
          "scatterpolargl": [
           {
            "marker": {
             "colorbar": {
              "outlinewidth": 0,
              "ticks": ""
             }
            },
            "type": "scatterpolargl"
           }
          ],
          "scatterternary": [
           {
            "marker": {
             "colorbar": {
              "outlinewidth": 0,
              "ticks": ""
             }
            },
            "type": "scatterternary"
           }
          ],
          "surface": [
           {
            "colorbar": {
             "outlinewidth": 0,
             "ticks": ""
            },
            "colorscale": [
             [
              0,
              "#0d0887"
             ],
             [
              0.1111111111111111,
              "#46039f"
             ],
             [
              0.2222222222222222,
              "#7201a8"
             ],
             [
              0.3333333333333333,
              "#9c179e"
             ],
             [
              0.4444444444444444,
              "#bd3786"
             ],
             [
              0.5555555555555556,
              "#d8576b"
             ],
             [
              0.6666666666666666,
              "#ed7953"
             ],
             [
              0.7777777777777778,
              "#fb9f3a"
             ],
             [
              0.8888888888888888,
              "#fdca26"
             ],
             [
              1,
              "#f0f921"
             ]
            ],
            "type": "surface"
           }
          ],
          "table": [
           {
            "cells": {
             "fill": {
              "color": "#506784"
             },
             "line": {
              "color": "rgb(17,17,17)"
             }
            },
            "header": {
             "fill": {
              "color": "#2a3f5f"
             },
             "line": {
              "color": "rgb(17,17,17)"
             }
            },
            "type": "table"
           }
          ]
         },
         "layout": {
          "annotationdefaults": {
           "arrowcolor": "#f2f5fa",
           "arrowhead": 0,
           "arrowwidth": 1
          },
          "autosize": false,
          "autotypenumbers": "strict",
          "coloraxis": {
           "colorbar": {
            "outlinewidth": 0,
            "ticks": ""
           }
          },
          "colorscale": {
           "diverging": [
            [
             0,
             "#8e0152"
            ],
            [
             0.1,
             "#c51b7d"
            ],
            [
             0.2,
             "#de77ae"
            ],
            [
             0.3,
             "#f1b6da"
            ],
            [
             0.4,
             "#fde0ef"
            ],
            [
             0.5,
             "#f7f7f7"
            ],
            [
             0.6,
             "#e6f5d0"
            ],
            [
             0.7,
             "#b8e186"
            ],
            [
             0.8,
             "#7fbc41"
            ],
            [
             0.9,
             "#4d9221"
            ],
            [
             1,
             "#276419"
            ]
           ],
           "sequential": [
            [
             0,
             "#0d0887"
            ],
            [
             0.1111111111111111,
             "#46039f"
            ],
            [
             0.2222222222222222,
             "#7201a8"
            ],
            [
             0.3333333333333333,
             "#9c179e"
            ],
            [
             0.4444444444444444,
             "#bd3786"
            ],
            [
             0.5555555555555556,
             "#d8576b"
            ],
            [
             0.6666666666666666,
             "#ed7953"
            ],
            [
             0.7777777777777778,
             "#fb9f3a"
            ],
            [
             0.8888888888888888,
             "#fdca26"
            ],
            [
             1,
             "#f0f921"
            ]
           ],
           "sequentialminus": [
            [
             0,
             "#0d0887"
            ],
            [
             0.1111111111111111,
             "#46039f"
            ],
            [
             0.2222222222222222,
             "#7201a8"
            ],
            [
             0.3333333333333333,
             "#9c179e"
            ],
            [
             0.4444444444444444,
             "#bd3786"
            ],
            [
             0.5555555555555556,
             "#d8576b"
            ],
            [
             0.6666666666666666,
             "#ed7953"
            ],
            [
             0.7777777777777778,
             "#fb9f3a"
            ],
            [
             0.8888888888888888,
             "#fdca26"
            ],
            [
             1,
             "#f0f921"
            ]
           ]
          },
          "colorway": [
           "#636efa",
           "#EF553B",
           "#00cc96",
           "#ab63fa",
           "#FFA15A",
           "#19d3f3",
           "#FF6692",
           "#B6E880",
           "#FF97FF",
           "#FECB52"
          ],
          "font": {
           "color": "#f2f5fa"
          },
          "geo": {
           "bgcolor": "rgb(17,17,17)",
           "lakecolor": "rgb(17,17,17)",
           "landcolor": "rgb(17,17,17)",
           "showlakes": true,
           "showland": true,
           "subunitcolor": "#506784"
          },
          "height": 300,
          "hoverlabel": {
           "align": "left"
          },
          "hovermode": "closest",
          "mapbox": {
           "style": "dark"
          },
          "margin": {
           "b": 40,
           "l": 40,
           "r": 40,
           "t": 40
          },
          "paper_bgcolor": "rgba(0,0,0,0)",
          "plot_bgcolor": "rgba(0,0,0,0)",
          "polar": {
           "angularaxis": {
            "gridcolor": "#506784",
            "linecolor": "#506784",
            "ticks": ""
           },
           "bgcolor": "rgb(17,17,17)",
           "radialaxis": {
            "gridcolor": "#506784",
            "linecolor": "#506784",
            "ticks": ""
           }
          },
          "scene": {
           "xaxis": {
            "backgroundcolor": "rgb(17,17,17)",
            "gridcolor": "#506784",
            "gridwidth": 2,
            "linecolor": "#506784",
            "showbackground": true,
            "ticks": "",
            "zerolinecolor": "#C8D4E3"
           },
           "yaxis": {
            "backgroundcolor": "rgb(17,17,17)",
            "gridcolor": "#506784",
            "gridwidth": 2,
            "linecolor": "#506784",
            "showbackground": true,
            "ticks": "",
            "zerolinecolor": "#C8D4E3"
           },
           "zaxis": {
            "backgroundcolor": "rgb(17,17,17)",
            "gridcolor": "#506784",
            "gridwidth": 2,
            "linecolor": "#506784",
            "showbackground": true,
            "ticks": "",
            "zerolinecolor": "#C8D4E3"
           }
          },
          "shapedefaults": {
           "line": {
            "color": "#f2f5fa"
           }
          },
          "sliderdefaults": {
           "bgcolor": "#C8D4E3",
           "bordercolor": "rgb(17,17,17)",
           "borderwidth": 1,
           "tickwidth": 0
          },
          "ternary": {
           "aaxis": {
            "gridcolor": "#506784",
            "linecolor": "#506784",
            "ticks": ""
           },
           "baxis": {
            "gridcolor": "#506784",
            "linecolor": "#506784",
            "ticks": ""
           },
           "bgcolor": "rgb(17,17,17)",
           "caxis": {
            "gridcolor": "#506784",
            "linecolor": "#506784",
            "ticks": ""
           }
          },
          "title": {
           "x": 0.05
          },
          "updatemenudefaults": {
           "bgcolor": "#506784",
           "borderwidth": 0
          },
          "width": 600,
          "xaxis": {
           "automargin": true,
           "gridcolor": "#283442",
           "linecolor": "#506784",
           "ticks": "",
           "title": {
            "standoff": 15
           },
           "zerolinecolor": "#283442",
           "zerolinewidth": 2
          },
          "yaxis": {
           "automargin": true,
           "gridcolor": "#283442",
           "linecolor": "#506784",
           "ticks": "",
           "title": {
            "standoff": 15
           },
           "zerolinecolor": "#283442",
           "zerolinewidth": 2
          }
         }
        },
        "title": {
         "text": "lr_start"
        },
        "width": 400
       }
      }
     },
     "metadata": {},
     "output_type": "display_data"
    },
    {
     "data": {
      "application/vnd.plotly.v1+json": {
       "config": {
        "plotlyServerURL": "https://plot.ly"
       },
       "data": [
        {
         "type": "scatter",
         "x": [
          0.99
         ],
         "y": [
          0.9604130808950087
         ]
        },
        {
         "type": "scatter",
         "x": [
          0.99
         ],
         "y": [
          0.9066663479314082
         ]
        }
       ],
       "layout": {
        "height": 200,
        "template": {
         "data": {
          "bar": [
           {
            "error_x": {
             "color": "#f2f5fa"
            },
            "error_y": {
             "color": "#f2f5fa"
            },
            "marker": {
             "line": {
              "color": "rgb(17,17,17)",
              "width": 0.5
             },
             "pattern": {
              "fillmode": "overlay",
              "size": 10,
              "solidity": 0.2
             }
            },
            "type": "bar"
           }
          ],
          "barpolar": [
           {
            "marker": {
             "line": {
              "color": "rgb(17,17,17)",
              "width": 0.5
             },
             "pattern": {
              "fillmode": "overlay",
              "size": 10,
              "solidity": 0.2
             }
            },
            "type": "barpolar"
           }
          ],
          "carpet": [
           {
            "aaxis": {
             "endlinecolor": "#A2B1C6",
             "gridcolor": "#506784",
             "linecolor": "#506784",
             "minorgridcolor": "#506784",
             "startlinecolor": "#A2B1C6"
            },
            "baxis": {
             "endlinecolor": "#A2B1C6",
             "gridcolor": "#506784",
             "linecolor": "#506784",
             "minorgridcolor": "#506784",
             "startlinecolor": "#A2B1C6"
            },
            "type": "carpet"
           }
          ],
          "choropleth": [
           {
            "colorbar": {
             "outlinewidth": 0,
             "ticks": ""
            },
            "type": "choropleth"
           }
          ],
          "contour": [
           {
            "colorbar": {
             "outlinewidth": 0,
             "ticks": ""
            },
            "colorscale": [
             [
              0,
              "#0d0887"
             ],
             [
              0.1111111111111111,
              "#46039f"
             ],
             [
              0.2222222222222222,
              "#7201a8"
             ],
             [
              0.3333333333333333,
              "#9c179e"
             ],
             [
              0.4444444444444444,
              "#bd3786"
             ],
             [
              0.5555555555555556,
              "#d8576b"
             ],
             [
              0.6666666666666666,
              "#ed7953"
             ],
             [
              0.7777777777777778,
              "#fb9f3a"
             ],
             [
              0.8888888888888888,
              "#fdca26"
             ],
             [
              1,
              "#f0f921"
             ]
            ],
            "type": "contour"
           }
          ],
          "contourcarpet": [
           {
            "colorbar": {
             "outlinewidth": 0,
             "ticks": ""
            },
            "type": "contourcarpet"
           }
          ],
          "heatmap": [
           {
            "colorbar": {
             "outlinewidth": 0,
             "ticks": ""
            },
            "colorscale": [
             [
              0,
              "#0d0887"
             ],
             [
              0.1111111111111111,
              "#46039f"
             ],
             [
              0.2222222222222222,
              "#7201a8"
             ],
             [
              0.3333333333333333,
              "#9c179e"
             ],
             [
              0.4444444444444444,
              "#bd3786"
             ],
             [
              0.5555555555555556,
              "#d8576b"
             ],
             [
              0.6666666666666666,
              "#ed7953"
             ],
             [
              0.7777777777777778,
              "#fb9f3a"
             ],
             [
              0.8888888888888888,
              "#fdca26"
             ],
             [
              1,
              "#f0f921"
             ]
            ],
            "type": "heatmap"
           }
          ],
          "heatmapgl": [
           {
            "colorbar": {
             "outlinewidth": 0,
             "ticks": ""
            },
            "colorscale": [
             [
              0,
              "#0d0887"
             ],
             [
              0.1111111111111111,
              "#46039f"
             ],
             [
              0.2222222222222222,
              "#7201a8"
             ],
             [
              0.3333333333333333,
              "#9c179e"
             ],
             [
              0.4444444444444444,
              "#bd3786"
             ],
             [
              0.5555555555555556,
              "#d8576b"
             ],
             [
              0.6666666666666666,
              "#ed7953"
             ],
             [
              0.7777777777777778,
              "#fb9f3a"
             ],
             [
              0.8888888888888888,
              "#fdca26"
             ],
             [
              1,
              "#f0f921"
             ]
            ],
            "type": "heatmapgl"
           }
          ],
          "histogram": [
           {
            "marker": {
             "pattern": {
              "fillmode": "overlay",
              "size": 10,
              "solidity": 0.2
             }
            },
            "type": "histogram"
           }
          ],
          "histogram2d": [
           {
            "colorbar": {
             "outlinewidth": 0,
             "ticks": ""
            },
            "colorscale": [
             [
              0,
              "#0d0887"
             ],
             [
              0.1111111111111111,
              "#46039f"
             ],
             [
              0.2222222222222222,
              "#7201a8"
             ],
             [
              0.3333333333333333,
              "#9c179e"
             ],
             [
              0.4444444444444444,
              "#bd3786"
             ],
             [
              0.5555555555555556,
              "#d8576b"
             ],
             [
              0.6666666666666666,
              "#ed7953"
             ],
             [
              0.7777777777777778,
              "#fb9f3a"
             ],
             [
              0.8888888888888888,
              "#fdca26"
             ],
             [
              1,
              "#f0f921"
             ]
            ],
            "type": "histogram2d"
           }
          ],
          "histogram2dcontour": [
           {
            "colorbar": {
             "outlinewidth": 0,
             "ticks": ""
            },
            "colorscale": [
             [
              0,
              "#0d0887"
             ],
             [
              0.1111111111111111,
              "#46039f"
             ],
             [
              0.2222222222222222,
              "#7201a8"
             ],
             [
              0.3333333333333333,
              "#9c179e"
             ],
             [
              0.4444444444444444,
              "#bd3786"
             ],
             [
              0.5555555555555556,
              "#d8576b"
             ],
             [
              0.6666666666666666,
              "#ed7953"
             ],
             [
              0.7777777777777778,
              "#fb9f3a"
             ],
             [
              0.8888888888888888,
              "#fdca26"
             ],
             [
              1,
              "#f0f921"
             ]
            ],
            "type": "histogram2dcontour"
           }
          ],
          "mesh3d": [
           {
            "colorbar": {
             "outlinewidth": 0,
             "ticks": ""
            },
            "type": "mesh3d"
           }
          ],
          "parcoords": [
           {
            "line": {
             "colorbar": {
              "outlinewidth": 0,
              "ticks": ""
             }
            },
            "type": "parcoords"
           }
          ],
          "pie": [
           {
            "automargin": true,
            "type": "pie"
           }
          ],
          "scatter": [
           {
            "marker": {
             "line": {
              "color": "#283442"
             }
            },
            "type": "scatter"
           }
          ],
          "scatter3d": [
           {
            "line": {
             "colorbar": {
              "outlinewidth": 0,
              "ticks": ""
             }
            },
            "marker": {
             "colorbar": {
              "outlinewidth": 0,
              "ticks": ""
             }
            },
            "type": "scatter3d"
           }
          ],
          "scattercarpet": [
           {
            "marker": {
             "colorbar": {
              "outlinewidth": 0,
              "ticks": ""
             }
            },
            "type": "scattercarpet"
           }
          ],
          "scattergeo": [
           {
            "marker": {
             "colorbar": {
              "outlinewidth": 0,
              "ticks": ""
             }
            },
            "type": "scattergeo"
           }
          ],
          "scattergl": [
           {
            "marker": {
             "line": {
              "color": "#283442"
             }
            },
            "type": "scattergl"
           }
          ],
          "scattermapbox": [
           {
            "marker": {
             "colorbar": {
              "outlinewidth": 0,
              "ticks": ""
             }
            },
            "type": "scattermapbox"
           }
          ],
          "scatterpolar": [
           {
            "marker": {
             "colorbar": {
              "outlinewidth": 0,
              "ticks": ""
             }
            },
            "type": "scatterpolar"
           }
          ],
          "scatterpolargl": [
           {
            "marker": {
             "colorbar": {
              "outlinewidth": 0,
              "ticks": ""
             }
            },
            "type": "scatterpolargl"
           }
          ],
          "scatterternary": [
           {
            "marker": {
             "colorbar": {
              "outlinewidth": 0,
              "ticks": ""
             }
            },
            "type": "scatterternary"
           }
          ],
          "surface": [
           {
            "colorbar": {
             "outlinewidth": 0,
             "ticks": ""
            },
            "colorscale": [
             [
              0,
              "#0d0887"
             ],
             [
              0.1111111111111111,
              "#46039f"
             ],
             [
              0.2222222222222222,
              "#7201a8"
             ],
             [
              0.3333333333333333,
              "#9c179e"
             ],
             [
              0.4444444444444444,
              "#bd3786"
             ],
             [
              0.5555555555555556,
              "#d8576b"
             ],
             [
              0.6666666666666666,
              "#ed7953"
             ],
             [
              0.7777777777777778,
              "#fb9f3a"
             ],
             [
              0.8888888888888888,
              "#fdca26"
             ],
             [
              1,
              "#f0f921"
             ]
            ],
            "type": "surface"
           }
          ],
          "table": [
           {
            "cells": {
             "fill": {
              "color": "#506784"
             },
             "line": {
              "color": "rgb(17,17,17)"
             }
            },
            "header": {
             "fill": {
              "color": "#2a3f5f"
             },
             "line": {
              "color": "rgb(17,17,17)"
             }
            },
            "type": "table"
           }
          ]
         },
         "layout": {
          "annotationdefaults": {
           "arrowcolor": "#f2f5fa",
           "arrowhead": 0,
           "arrowwidth": 1
          },
          "autosize": false,
          "autotypenumbers": "strict",
          "coloraxis": {
           "colorbar": {
            "outlinewidth": 0,
            "ticks": ""
           }
          },
          "colorscale": {
           "diverging": [
            [
             0,
             "#8e0152"
            ],
            [
             0.1,
             "#c51b7d"
            ],
            [
             0.2,
             "#de77ae"
            ],
            [
             0.3,
             "#f1b6da"
            ],
            [
             0.4,
             "#fde0ef"
            ],
            [
             0.5,
             "#f7f7f7"
            ],
            [
             0.6,
             "#e6f5d0"
            ],
            [
             0.7,
             "#b8e186"
            ],
            [
             0.8,
             "#7fbc41"
            ],
            [
             0.9,
             "#4d9221"
            ],
            [
             1,
             "#276419"
            ]
           ],
           "sequential": [
            [
             0,
             "#0d0887"
            ],
            [
             0.1111111111111111,
             "#46039f"
            ],
            [
             0.2222222222222222,
             "#7201a8"
            ],
            [
             0.3333333333333333,
             "#9c179e"
            ],
            [
             0.4444444444444444,
             "#bd3786"
            ],
            [
             0.5555555555555556,
             "#d8576b"
            ],
            [
             0.6666666666666666,
             "#ed7953"
            ],
            [
             0.7777777777777778,
             "#fb9f3a"
            ],
            [
             0.8888888888888888,
             "#fdca26"
            ],
            [
             1,
             "#f0f921"
            ]
           ],
           "sequentialminus": [
            [
             0,
             "#0d0887"
            ],
            [
             0.1111111111111111,
             "#46039f"
            ],
            [
             0.2222222222222222,
             "#7201a8"
            ],
            [
             0.3333333333333333,
             "#9c179e"
            ],
            [
             0.4444444444444444,
             "#bd3786"
            ],
            [
             0.5555555555555556,
             "#d8576b"
            ],
            [
             0.6666666666666666,
             "#ed7953"
            ],
            [
             0.7777777777777778,
             "#fb9f3a"
            ],
            [
             0.8888888888888888,
             "#fdca26"
            ],
            [
             1,
             "#f0f921"
            ]
           ]
          },
          "colorway": [
           "#636efa",
           "#EF553B",
           "#00cc96",
           "#ab63fa",
           "#FFA15A",
           "#19d3f3",
           "#FF6692",
           "#B6E880",
           "#FF97FF",
           "#FECB52"
          ],
          "font": {
           "color": "#f2f5fa"
          },
          "geo": {
           "bgcolor": "rgb(17,17,17)",
           "lakecolor": "rgb(17,17,17)",
           "landcolor": "rgb(17,17,17)",
           "showlakes": true,
           "showland": true,
           "subunitcolor": "#506784"
          },
          "height": 300,
          "hoverlabel": {
           "align": "left"
          },
          "hovermode": "closest",
          "mapbox": {
           "style": "dark"
          },
          "margin": {
           "b": 40,
           "l": 40,
           "r": 40,
           "t": 40
          },
          "paper_bgcolor": "rgba(0,0,0,0)",
          "plot_bgcolor": "rgba(0,0,0,0)",
          "polar": {
           "angularaxis": {
            "gridcolor": "#506784",
            "linecolor": "#506784",
            "ticks": ""
           },
           "bgcolor": "rgb(17,17,17)",
           "radialaxis": {
            "gridcolor": "#506784",
            "linecolor": "#506784",
            "ticks": ""
           }
          },
          "scene": {
           "xaxis": {
            "backgroundcolor": "rgb(17,17,17)",
            "gridcolor": "#506784",
            "gridwidth": 2,
            "linecolor": "#506784",
            "showbackground": true,
            "ticks": "",
            "zerolinecolor": "#C8D4E3"
           },
           "yaxis": {
            "backgroundcolor": "rgb(17,17,17)",
            "gridcolor": "#506784",
            "gridwidth": 2,
            "linecolor": "#506784",
            "showbackground": true,
            "ticks": "",
            "zerolinecolor": "#C8D4E3"
           },
           "zaxis": {
            "backgroundcolor": "rgb(17,17,17)",
            "gridcolor": "#506784",
            "gridwidth": 2,
            "linecolor": "#506784",
            "showbackground": true,
            "ticks": "",
            "zerolinecolor": "#C8D4E3"
           }
          },
          "shapedefaults": {
           "line": {
            "color": "#f2f5fa"
           }
          },
          "sliderdefaults": {
           "bgcolor": "#C8D4E3",
           "bordercolor": "rgb(17,17,17)",
           "borderwidth": 1,
           "tickwidth": 0
          },
          "ternary": {
           "aaxis": {
            "gridcolor": "#506784",
            "linecolor": "#506784",
            "ticks": ""
           },
           "baxis": {
            "gridcolor": "#506784",
            "linecolor": "#506784",
            "ticks": ""
           },
           "bgcolor": "rgb(17,17,17)",
           "caxis": {
            "gridcolor": "#506784",
            "linecolor": "#506784",
            "ticks": ""
           }
          },
          "title": {
           "x": 0.05
          },
          "updatemenudefaults": {
           "bgcolor": "#506784",
           "borderwidth": 0
          },
          "width": 600,
          "xaxis": {
           "automargin": true,
           "gridcolor": "#283442",
           "linecolor": "#506784",
           "ticks": "",
           "title": {
            "standoff": 15
           },
           "zerolinecolor": "#283442",
           "zerolinewidth": 2
          },
          "yaxis": {
           "automargin": true,
           "gridcolor": "#283442",
           "linecolor": "#506784",
           "ticks": "",
           "title": {
            "standoff": 15
           },
           "zerolinecolor": "#283442",
           "zerolinewidth": 2
          }
         }
        },
        "title": {
         "text": "lr_gamma"
        },
        "width": 400
       }
      }
     },
     "metadata": {},
     "output_type": "display_data"
    }
   ],
   "source": [
    "marg = cs.marginals(\"_acc\")\n",
    "\n",
    "pars = list(marg.keys())\n",
    "\n",
    "print(pars)\n",
    "\n",
    "for k in pars:\n",
    "    fig = plotting.scatter(x=marg[k][k], y=[marg[k][\"max\"], marg[k][\"mean\"]])\n",
    "    fig.update_layout(width=400, height=200, title=k)\n",
    "    fig.show()\n"
   ]
  }
 ],
 "metadata": {
  "kernelspec": {
   "display_name": "_my_python",
   "language": "python",
   "name": "python3"
  },
  "language_info": {
   "codemirror_mode": {
    "name": "ipython",
    "version": 3
   },
   "file_extension": ".py",
   "mimetype": "text/x-python",
   "name": "python",
   "nbconvert_exporter": "python",
   "pygments_lexer": "ipython3",
   "version": "3.12.7"
  }
 },
 "nbformat": 4,
 "nbformat_minor": 2
}
