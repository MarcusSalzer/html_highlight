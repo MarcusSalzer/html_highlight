{
 "cells": [
  {
   "cell_type": "code",
   "execution_count": 1,
   "metadata": {},
   "outputs": [],
   "source": [
    "import json\n",
    "import sys\n",
    "from importlib import reload\n",
    "\n",
    "import polars as pl\n",
    "import torch\n",
    "import torch.nn as nn\n",
    "from datatools import plotting as dtplot\n",
    "from datatools import tabular as dttab\n",
    "from sklearn import metrics\n",
    "from torch.utils.data import DataLoader, Dataset\n",
    "\n",
    "sys.path.append(\"..\")\n",
    "\n",
    "import plotting\n",
    "import util\n",
    "from src import models_torch, text_process\n",
    "\n",
    "reload(util)\n",
    "reload(plotting)\n",
    "reload(models_torch)\n",
    "dtplot.set_plotly_template()"
   ]
  },
  {
   "cell_type": "markdown",
   "metadata": {},
   "source": [
    "## load data\n"
   ]
  },
  {
   "cell_type": "code",
   "execution_count": null,
   "metadata": {},
   "outputs": [],
   "source": [
    "tag_map = None\n",
    "\n",
    "examples = util.load_examples(\n",
    "    tag_map,\n",
    "    # [\"python\", \"pseudo\", \"rust\"],\n",
    ").sort(\"length\")\n",
    "\n",
    "examples = examples.with_columns(\n",
    "    tags_det=pl.col(\"tokens\").map_elements(\n",
    "        lambda tks: text_process.process(\"\".join(tks))[1], pl.List(pl.String)\n",
    "    )\n",
    ")\n",
    "# display(examples)\n",
    "lang_counts = dttab.value_counts(examples[\"lang\"], verbose=True, as_dict=True)\n"
   ]
  },
  {
   "cell_type": "code",
   "execution_count": null,
   "metadata": {},
   "outputs": [],
   "source": [
    "# train-val split\n",
    "train_df, val_df = util.data_split(examples, 0.3)\n",
    "print(f\"split: {len(train_df)} training, {len(val_df)} val\")\n"
   ]
  },
  {
   "cell_type": "markdown",
   "metadata": {},
   "source": [
    "## most common tokens\n"
   ]
  },
  {
   "cell_type": "code",
   "execution_count": null,
   "metadata": {},
   "outputs": [],
   "source": [
    "token_counts = dttab.value_counts(\n",
    "    examples[\"tokens\"].explode(), verbose=True, as_dict=True\n",
    ")\n",
    "tag_counts = dttab.value_counts(examples[\"tags\"].explode(), verbose=True, as_dict=True)\n",
    "print(list(token_counts.keys())[:100])"
   ]
  },
  {
   "cell_type": "markdown",
   "metadata": {},
   "source": [
    "## make a vocab!\n",
    "\n",
    "- add padding to both tokens and tags\n",
    "- also, convert tokens and tags to integers\n"
   ]
  },
  {
   "cell_type": "code",
   "execution_count": null,
   "metadata": {},
   "outputs": [],
   "source": [
    "# vocab for tokens\n",
    "vocab = [\"<pad>\", \"<unk>\"] + list(token_counts.keys())[:100]\n",
    "token2idx = {t: i for i, t in enumerate(vocab)}\n",
    "\n",
    "# tags\n",
    "tag_vocab = [\"<pad>\", \"uk\"] + list(tag_counts.keys())\n",
    "tag2idx = {t: i for i, t in enumerate(tag_vocab)}\n",
    "\n",
    "print(\"vocab (tokens):\", vocab)\n",
    "print(\"vocab (tags)  :\", tag_vocab)\n",
    "\n",
    "# Convert tokens and labels to indices\n",
    "# these are lists of lists!\n",
    "train_token_idx = [[token2idx.get(t, 1) for t in seq] for seq in train_df[\"tokens\"]]\n",
    "train_tag_true_idx = [[tag2idx[t] for t in seq] for seq in train_df[\"tags\"]]\n",
    "train_tag_det_idx = [[tag2idx.get(t, 1) for t in seq] for seq in train_df[\"tags_det\"]]\n",
    "\n",
    "# print(\"\\nlists of lists:\")\n",
    "# print(train_token_idx)\n",
    "# print(train_tag_idx)\n",
    "print(f\"\\ntraining examples of length: {[len(e) for e in train_token_idx]}\")\n",
    "\n",
    "# validation data\n",
    "val_token_idx = [[token2idx.get(t, 1) for t in seq] for seq in val_df[\"tokens\"]]\n",
    "val_tag_true_idx = [[tag2idx[t] for t in seq] for seq in val_df[\"tags\"]]\n",
    "val_tag_det_idx = [[tag2idx.get(t, 1) for t in seq] for seq in val_df[\"tags_det\"]]\n",
    "print(f\"validation examples of length: {[len(e) for e in val_token_idx]}\")\n"
   ]
  },
  {
   "cell_type": "markdown",
   "metadata": {},
   "source": [
    "### class weights?\n"
   ]
  },
  {
   "cell_type": "code",
   "execution_count": 6,
   "metadata": {},
   "outputs": [],
   "source": [
    "reload(dttab)\n",
    "\n",
    "\n",
    "all_tags = train_df[\"tags\"].explode()\n",
    "\n",
    "tag_counts = dttab.value_counts(all_tags, sort_by=\"value\", as_dict=True)\n",
    "\n",
    "\n",
    "def class_weights(tag_counts: dict, tag_vocab: list[str], smoothing=0.1):\n",
    "    tag_weights = [1 / tag_counts.get(k, torch.inf) + smoothing for k in tag_vocab]\n",
    "    tag_weights = torch.tensor(tag_weights)\n",
    "    tag_weights /= sum(tag_weights)\n",
    "    return tag_weights\n",
    "\n",
    "\n",
    "tag_weights = class_weights(tag_counts, tag_vocab, 30.0)\n",
    "\n",
    "# for k in tag_vocab:\n",
    "#     print(f\"weight({k}) = \", tag_weights[tag2idx[k]])"
   ]
  },
  {
   "cell_type": "markdown",
   "metadata": {},
   "source": [
    "### Prepare data for model\n"
   ]
  },
  {
   "cell_type": "code",
   "execution_count": null,
   "metadata": {},
   "outputs": [],
   "source": [
    "print(\"train:\")\n",
    "train_token_tensors = util.seqs2padded_tensor(train_token_idx)\n",
    "train_tag_true_tensors = util.seqs2padded_tensor(train_tag_true_idx)\n",
    "train_tag_det_tensors = util.seqs2padded_tensor(train_tag_det_idx)\n",
    "print(\"val:\")\n",
    "val_token_tensors = util.seqs2padded_tensor(val_token_idx)\n",
    "val_tag_true_tensors = util.seqs2padded_tensor(val_tag_true_idx)\n",
    "val_tag_det_tensors = util.seqs2padded_tensor(val_tag_det_idx)\n",
    "\n",
    "assert train_token_tensors.shape == train_tag_true_tensors.shape\n",
    "assert train_tag_det_tensors.shape == train_tag_true_tensors.shape\n",
    "\n",
    "assert val_token_tensors.shape == val_tag_true_tensors.shape\n",
    "assert val_tag_det_tensors.shape == val_tag_true_tensors.shape\n"
   ]
  },
  {
   "cell_type": "code",
   "execution_count": null,
   "metadata": {},
   "outputs": [],
   "source": [
    "class SequenceDataset(Dataset):\n",
    "    def __init__(self, tokens, labels_det, labels_true):\n",
    "        print(len(tokens), len(labels_det), len(labels_true))\n",
    "        self.tokens = tokens\n",
    "        self.labels_det = labels_det\n",
    "        self.labels_true = labels_true\n",
    "\n",
    "    def __len__(self):\n",
    "        return len(self.tokens)\n",
    "\n",
    "    def __getitem__(self, idx):\n",
    "        return self.tokens[idx], self.labels_det[idx], self.labels_true[idx]\n",
    "\n",
    "\n",
    "# Create dataset and dataloader\n",
    "\n",
    "train_loader = DataLoader(\n",
    "    SequenceDataset(train_token_tensors, train_tag_det_tensors, train_tag_true_tensors),\n",
    "    batch_size=8,\n",
    "    shuffle=True,\n",
    ")\n",
    "val_loader = DataLoader(\n",
    "    SequenceDataset(val_token_tensors, val_tag_det_tensors, val_tag_true_tensors),\n",
    "    batch_size=16,\n",
    "    shuffle=False,\n",
    ")\n"
   ]
  },
  {
   "cell_type": "markdown",
   "metadata": {},
   "source": [
    "## model\n"
   ]
  },
  {
   "cell_type": "code",
   "execution_count": null,
   "metadata": {},
   "outputs": [],
   "source": [
    "epochs = 10\n",
    "\n",
    "print(\"vocab lengths\", len(vocab), len(tag_vocab))\n",
    "reload(models_torch)\n",
    "\n",
    "# Model with default params\n",
    "model = models_torch.LSTMTagger(len(vocab), len(tag_vocab))\n",
    "\n",
    "loss_function = nn.CrossEntropyLoss(weight=tag_weights)\n",
    "\n",
    "optimizer = torch.optim.Adam(model.parameters(), lr=0.005)\n",
    "\n",
    "# Training loop\n",
    "\n",
    "losses_train = []\n",
    "losses_val = []\n",
    "\n",
    "for epoch in range(epochs):\n",
    "    # TRAINING\n",
    "    train_loss = models_torch.run_epoch(model, train_loader, loss_function, optimizer)\n",
    "    losses_train.append(train_loss)\n",
    "\n",
    "    # VALIDATION\n",
    "    with torch.no_grad():\n",
    "        val_loss = models_torch.run_epoch(model, val_loader, loss_function)\n",
    "        losses_val.append(val_loss)\n",
    "\n",
    "    # print(f\"Epoch {epoch+1}/{epochs}, Loss: {loss.item():.4f}\")\n",
    "plotting.scatter(y=[losses_train, losses_val]).show()\n",
    "\n",
    "print(\n",
    "    \"final loss:\\n\", f\"  train: {losses_train[-1]:.4f}\", f\"  val : {losses_val[-1]:.4f}\"\n",
    ")\n"
   ]
  },
  {
   "cell_type": "code",
   "execution_count": 42,
   "metadata": {},
   "outputs": [],
   "source": [
    "# # save model\n",
    "\n",
    "\n",
    "# torch.save(model.state_dict(), \"../models/lstmTagger_state.pth\")\n",
    "# # save metadata\n",
    "# metadata = {\"vocab\": vocab, \"tag_vocab\": tag_vocab, \"tag_map\": tag_map}\n",
    "# with open(\"../models/lstmTagger_vocabs.json\", \"w\") as f:\n",
    "#     json.dump(metadata, f)"
   ]
  },
  {
   "cell_type": "markdown",
   "metadata": {},
   "source": [
    "## evaluate\n"
   ]
  },
  {
   "cell_type": "code",
   "execution_count": null,
   "metadata": {},
   "outputs": [],
   "source": [
    "model.eval()\n",
    "with torch.no_grad():\n",
    "    tag_scores = model(val_token_tensors, val_tag_det_tensors)\n",
    "    predictions = torch.argmax(tag_scores, dim=-1)  # Shape: (batch_size, seq_len)\n",
    "\n",
    "pred_tags = []\n",
    "true_tags = []\n",
    "\n",
    "for pred, true_t in zip(predictions, val_tag_true_idx):\n",
    "    true_tags.extend([tag_vocab[t] for t in true_t])\n",
    "    pred_tags.extend([tag_vocab[t] for t in pred[: len(true_t)]])\n",
    "\n",
    "print(len(true_tags), len(pred_tags))\n",
    "\n",
    "acc = metrics.accuracy_score(true_tags, pred_tags)\n",
    "print(\"accuracy\", acc)\n",
    "f1_macro = metrics.f1_score(true_tags, pred_tags, average=\"macro\")\n",
    "print(\"F1_macro\", f1_macro)\n",
    "\n",
    "confmat = metrics.confusion_matrix(true_tags, pred_tags, labels=tag_vocab)\n",
    "\n",
    "dtplot.heatmap(\n",
    "    confmat,\n",
    "    tag_vocab,\n",
    "    log_scale=True,\n",
    "    pseudo_count=10,\n",
    "    size=400,\n",
    ").show()"
   ]
  },
  {
   "cell_type": "code",
   "execution_count": null,
   "metadata": {},
   "outputs": [],
   "source": [
    "# for example_scores in tag_scores:\n",
    "#     print(example_scores[0])\n",
    "print(tag_scores.shape)"
   ]
  },
  {
   "cell_type": "markdown",
   "metadata": {},
   "source": [
    "### eval only on non-det\n"
   ]
  },
  {
   "cell_type": "code",
   "execution_count": null,
   "metadata": {},
   "outputs": [],
   "source": [
    "pred_tags = []\n",
    "true_tags = []\n",
    "\n",
    "for pred, true_t, det in zip(\n",
    "    predictions, val_tag_true_idx, val_tag_det_idx, strict=True\n",
    "):\n",
    "    for p, t, d in zip(pred, true_t, det):\n",
    "        if tag_vocab[d] == \"uk\":\n",
    "            tp = tag_vocab[p.item()]\n",
    "            tt = tag_vocab[t]\n",
    "            # if tp != tt:\n",
    "            #     print(f\"{repr(tt)} -> {repr(tp)}\")\n",
    "            true_tags.append(tt)\n",
    "            pred_tags.append(tp)\n",
    "print(len(pred_tags), len(true_tags))\n",
    "\n",
    "labels_left = sorted(set(pred_tags + true_tags))\n",
    "\n",
    "acc = metrics.accuracy_score(true_tags, pred_tags)\n",
    "print(\"accuracy\", acc)\n",
    "f1_macro = metrics.f1_score(true_tags, pred_tags, average=\"macro\")\n",
    "print(\"F1_macro\", f1_macro)\n",
    "\n",
    "confmat = metrics.confusion_matrix(true_tags, pred_tags, labels=labels_left)\n",
    "\n",
    "dtplot.heatmap(\n",
    "    confmat,\n",
    "    labels_left,\n",
    "    log_scale=True,\n",
    "    pseudo_count=10,\n",
    "    size=400,\n",
    ").show()"
   ]
  },
  {
   "cell_type": "markdown",
   "metadata": {},
   "source": [
    "## save output\n"
   ]
  },
  {
   "cell_type": "code",
   "execution_count": null,
   "metadata": {},
   "outputs": [],
   "source": [
    "import json\n",
    "\n",
    "# print(os.listdir())\n",
    "\n",
    "model.eval()\n",
    "with torch.no_grad():\n",
    "    tag_scores = model(val_token_tensors, val_tag_det_tensors)\n",
    "    predictions = torch.argmax(tag_scores, dim=-1)  # Shape: (batch_size, seq_len)\n",
    "\n",
    "print(\"predictions\", predictions.size())\n",
    "\n",
    "outputs = {}\n",
    "for ex, pred in zip(val_df.iter_rows(named=True), predictions, strict=True):\n",
    "    pred_tags = []\n",
    "    for p in pred:\n",
    "        if p == 0:\n",
    "            break\n",
    "        pred_tags.append(tag_vocab[p])\n",
    "    assert len(ex[\"tokens\"]) == len(pred_tags), \"wrong length\"\n",
    "    pred_tags\n",
    "    print(\"\".join(ex[\"tokens\"]).replace(\"\\n\", \"\\\\\\\\\"))\n",
    "    print(ex[\"tags\"])\n",
    "    print(pred_tags)\n",
    "    print()\n",
    "    outputs[ex[\"name\"]] = {\"tokens\": ex[\"tokens\"], \"tags\": pred_tags}\n",
    "with open(\"../output/pred_output.json\", \"w\", encoding=\"utf-8\") as f:\n",
    "    json.dump(outputs, f)"
   ]
  },
  {
   "cell_type": "markdown",
   "metadata": {},
   "source": [
    "# parameter search\n"
   ]
  },
  {
   "cell_type": "code",
   "execution_count": 38,
   "metadata": {},
   "outputs": [],
   "source": [
    "from coolsearch import search\n",
    "\n",
    "reload(search)\n",
    "\n",
    "\n",
    "def objective(\n",
    "    embedding_dim,\n",
    "    hidden_dim,\n",
    "    n_lstm_layers,\n",
    "    dropout_lstm,\n",
    "    epochs,\n",
    "    class_weight_smoothing,\n",
    "    bidi,\n",
    "):\n",
    "    model = models_torch.LSTMTagger(\n",
    "        len(vocab),\n",
    "        len(tag_vocab),\n",
    "        embedding_dim,\n",
    "        hidden_dim,\n",
    "        n_lstm_layers,\n",
    "        dropout_lstm,\n",
    "        bidi,\n",
    "    )\n",
    "    tag_weights = class_weights(tag_counts, tag_vocab, class_weight_smoothing)\n",
    "\n",
    "    loss_function = nn.CrossEntropyLoss(weight=tag_weights)\n",
    "\n",
    "    optimizer = torch.optim.Adam(model.parameters(), lr=0.005)\n",
    "\n",
    "    # Training loop\n",
    "\n",
    "    for _ in range(epochs):\n",
    "        # TRAINING\n",
    "        models_torch.run_epoch(model, train_loader, loss_function, optimizer)\n",
    "\n",
    "    model.eval()\n",
    "    with torch.no_grad():\n",
    "        train_loss = models_torch.run_epoch(model, train_loader, loss_function)\n",
    "        val_loss = models_torch.run_epoch(model, val_loader, loss_function)\n",
    "        tag_scores = model(val_token_tensors, val_tag_det_tensors)\n",
    "        predictions = torch.argmax(tag_scores, dim=-1)\n",
    "\n",
    "    pred_tags = []\n",
    "    true_tags = []\n",
    "\n",
    "    for pred, true_t in zip(predictions, val_tag_true_idx):\n",
    "        true_tags.extend([tag_vocab[t] for t in true_t])\n",
    "        pred_tags.extend([tag_vocab[t] for t in pred[: len(true_t)]])\n",
    "\n",
    "    return {\n",
    "        \"_acc\": metrics.accuracy_score(true_tags, pred_tags),\n",
    "        \"_f1_macro\": metrics.f1_score(true_tags, pred_tags, average=\"macro\"),\n",
    "        \"_train_loss\": train_loss,\n",
    "        \"_val_loss\": val_loss,\n",
    "    }\n",
    "\n",
    "\n",
    "params = {\n",
    "    \"embedding_dim\": [10, 12],\n",
    "    \"hidden_dim\": [200, 256],\n",
    "    \"n_lstm_layers\": [2],\n",
    "    \"dropout_lstm\": [0.3, 0.5],\n",
    "    \"epochs\": 30,\n",
    "    \"class_weight_smoothing\": [30.0],\n",
    "    \"bidi\": True,\n",
    "}\n",
    "\n",
    "\n",
    "cs = search.CoolSearch(\n",
    "    objective,\n",
    "    params,\n",
    "    n_jobs=1,\n",
    "    samples_file=\"../search/lstm_100vocab.csv\",\n",
    ")\n"
   ]
  },
  {
   "cell_type": "code",
   "execution_count": null,
   "metadata": {},
   "outputs": [],
   "source": [
    "cs.grid_search(3)\n",
    "display(cs.samples.sort(-pl.col(\"_f1_macro\")))\n"
   ]
  },
  {
   "cell_type": "code",
   "execution_count": null,
   "metadata": {},
   "outputs": [],
   "source": [
    "marg = cs.marginals(\"_acc\")\n",
    "\n",
    "pars = list(marg.keys())\n",
    "\n",
    "print(pars)\n",
    "k = pars[1]\n",
    "print(k)\n",
    "plotting.scatter(x=marg[k][k], y=[marg[k][\"max\"], marg[k][\"mean\"]])\n"
   ]
  },
  {
   "cell_type": "code",
   "execution_count": null,
   "metadata": {},
   "outputs": [],
   "source": []
  }
 ],
 "metadata": {
  "kernelspec": {
   "display_name": "_my_python",
   "language": "python",
   "name": "python3"
  },
  "language_info": {
   "codemirror_mode": {
    "name": "ipython",
    "version": 3
   },
   "file_extension": ".py",
   "mimetype": "text/x-python",
   "name": "python",
   "nbconvert_exporter": "python",
   "pygments_lexer": "ipython3",
   "version": "3.12.7"
  }
 },
 "nbformat": 4,
 "nbformat_minor": 2
}
