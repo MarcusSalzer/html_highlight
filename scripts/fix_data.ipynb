{
 "cells": [
  {
   "cell_type": "code",
   "execution_count": 16,
   "metadata": {},
   "outputs": [
    {
     "data": {
      "text/plain": [
       "<module 'util' from '/home/marcu/projects/html_highlight/scripts/../util.py'>"
      ]
     },
     "execution_count": 16,
     "metadata": {},
     "output_type": "execute_result"
    }
   ],
   "source": [
    "import sys\n",
    "from importlib import reload\n",
    "\n",
    "import polars as pl\n",
    "\n",
    "sys.path.append(\"..\")\n",
    "\n",
    "import util\n",
    "\n",
    "reload(util)"
   ]
  },
  {
   "cell_type": "code",
   "execution_count": 17,
   "metadata": {},
   "outputs": [
    {
     "name": "stdout",
     "output_type": "stream",
     "text": [
      "    let mut seen: HashSet<Row> = HashSet::new();\n",
      "['id', 'kwva', 'ws', 'kwmo', 'ws', 'va', 'sy', 'ws', 'cl', None, 'cl', None, 'ws', 'opas', 'ws', 'cl', 'sy', 'fnas', 'brop', 'brcl', 'pu'] \n",
      "\n",
      "\n",
      "for (i = 0; i < 1000; i++)\n",
      "    {\n",
      "        if (states[i] != 1)\n",
      "            res = 0;\n",
      "    }\n",
      "['kwfl', 'ws', 'brop', 'va', 'ws', 'opas', 'ws', 'nu', 'pu', 'ws', 'va', 'ws', 'opcm', 'ws', 'nu', 'pu', 'ws', 'va', 'opun', 'brcl', 'nl', 'id', 'brop', 'nl', 'id', 'id', 'kwfl', 'ws', 'brop', 'va', 'brop', 'va', 'brcl', 'ws', 'opcm', 'ws', 'nu', 'brcl', 'nl', 'id', 'id', 'id', 'va', 'ws', 'opas', 'ws', 'nu', 'pu', 'nl', 'id', 'brcl'] \n",
      "\n",
      "\n",
      "fn gen_row_set_par(n: &BigUint, jmax: usize, nrows: usize, fb: &[usize]) -> HashSet<Row>\n",
      "['kwfn', 'ws', 'fnfr', 'brop', 'pa', 'sy', 'ws', 'opun', 'cl', 'pu', 'ws', 'pa', 'sy', 'ws', 'kwty', 'pu', 'ws', 'pa', 'sy', 'ws', 'kwty', 'pu', 'ws', 'pa', 'sy', 'ws', 'opun', 'brop', 'kwty', 'brcl', 'brcl', 'ws', 'sy', 'ws', 'cl', None, 'cl', None] \n",
      "\n",
      "\n",
      "pub fn sum_primint<T>(a: &Vec<T>) -> T\n",
      "where\n",
      "    T: PrimInt,\n",
      "{\n",
      "    let mut s = T::zero();\n",
      "\n",
      "    for x in a {\n",
      "        s = s + *x;\n",
      "    }\n",
      "\n",
      "    return s;\n",
      "}\n",
      "['kwmo', 'ws', 'kwfn', 'ws', 'fnfr', None, 'cl', None, 'brop', 'pa', 'sy', 'ws', 'opun', 'cl', None, 'cl', None, 'brcl', 'ws', 'sy', 'ws', 'cl', 'nl', 'kwde', 'nl', 'id', 'cl', 'sy', 'ws', 'cl', 'pu', 'nl', 'brop', 'nl', 'id', 'kwva', 'ws', 'kwop', 'ws', 'va', 'ws', 'opas', 'ws', 'cl', 'sy', 'fnas', 'brop', 'brcl', 'pu', 'nl', 'id', 'kwfl', 'ws', 'va', 'ws', 'kwop', 'ws', 'pa', 'ws', 'brop', 'nl', 'id', 'id', 'va', 'ws', 'opas', 'ws', 'va', 'ws', 'opbi', 'ws', 'opun', 'va', 'pu', 'nl', 'id', 'brcl', 'nl', 'id', 'kwfl', 'ws', 'va', 'pu', 'nl', 'brcl'] \n",
      "\n",
      "\n",
      "pub fn get_divisors(n: usize) -> Vec<usize> {\n",
      "    let mut divisors = Vec::new();\n",
      "    for k in 1..=n {\n",
      "        if n % k == 0 {\n",
      "            divisors.push(k);\n",
      "        }\n",
      "    }\n",
      "    return divisors;\n",
      "}\n",
      "['kwmo', 'ws', 'kwfn', 'ws', 'fnfr', 'brop', 'va', 'sy', 'ws', 'kwty', 'brcl', 'ws', 'sy', 'ws', 'cl', None, 'kwty', None, 'ws', 'brop', 'nl', 'id', 'kwva', 'ws', 'kwmo', 'ws', 'va', 'ws', 'opas', 'ws', 'cl', 'sy', 'fnas', 'brop', 'brcl', 'pu', 'nl', 'id', 'kwfl', 'ws', 'va', 'ws', 'kwop', 'ws', 'nu', 'sy', 'opas', 'va', 'ws', 'brop', 'nl', 'id', 'id', 'kwfl', 'ws', 'va', 'ws', 'opbi', 'ws', 'va', 'ws', 'opcm', 'ws', 'nu', 'ws', 'brop', 'nl', 'id', 'id', 'id', 'va', 'sy', 'fnme', 'brop', 'va', 'brcl', 'pu', 'nl', 'id', 'id', 'brcl', 'nl', 'id', 'brcl', 'nl', 'id', 'kwfl', 'ws', 'va', 'pu', 'nl', 'brcl'] \n",
      "\n",
      "\n"
     ]
    }
   ],
   "source": [
    "data = util.load_examples()\n",
    "for r in data.filter(pl.col(\"tokens\").list.contains(\"<\")).iter_rows(named=True):\n",
    "    print(\"\".join(r[\"tokens\"]))\n",
    "    print(r[\"tags\"], \"\\n\\n\")\n"
   ]
  },
  {
   "cell_type": "code",
   "execution_count": 18,
   "metadata": {},
   "outputs": [],
   "source": [
    "brop = [\"(\", \"[\", \"{\"]\n",
    "brcl = [\")\", \"]\", \"}\"]\n",
    "\n",
    "\n",
    "def repl(token: str, tag: str):\n",
    "    if tag != \"br\":\n",
    "        return tag\n",
    "    if token in brop:\n",
    "        return \"brop\"\n",
    "    elif token in brcl:\n",
    "        return \"brcl\"\n",
    "\n",
    "\n",
    "def repl_row(row):\n",
    "    tags_new = []\n",
    "    for token, tag in zip(*row):\n",
    "        tags_new.append(repl(token, tag))\n",
    "    return tags_new\n",
    "\n",
    "\n",
    "tags_new = []\n",
    "for r in data.select(\"tokens\", \"tags\").iter_rows():\n",
    "    tags_new.append(repl_row(r))\n",
    "\n",
    "data = data.with_columns(pl.Series(\"tags\", tags_new))"
   ]
  },
  {
   "cell_type": "code",
   "execution_count": 19,
   "metadata": {},
   "outputs": [],
   "source": [
    "import json\n",
    "\n",
    "\n",
    "new_data_dict = {\n",
    "    d[\"name\"]: {\n",
    "        \"difficulty\": d[\"difficulty\"],\n",
    "        \"tokens\": d[\"tokens\"],\n",
    "        \"tags\": d[\"tags\"],\n",
    "    }\n",
    "    for d in data.rows(named=True)\n",
    "}\n",
    "with open(\"../data/examples_annot_2.json\", \"w\", encoding=\"utf-8\") as f:\n",
    "    json.dump(new_data_dict, f)\n"
   ]
  }
 ],
 "metadata": {
  "kernelspec": {
   "display_name": "_my_python",
   "language": "python",
   "name": "python3"
  },
  "language_info": {
   "codemirror_mode": {
    "name": "ipython",
    "version": 3
   },
   "file_extension": ".py",
   "mimetype": "text/x-python",
   "name": "python",
   "nbconvert_exporter": "python",
   "pygments_lexer": "ipython3",
   "version": "3.12.7"
  }
 },
 "nbformat": 4,
 "nbformat_minor": 2
}
