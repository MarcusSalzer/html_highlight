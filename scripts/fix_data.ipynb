{
 "cells": [
  {
   "cell_type": "code",
   "execution_count": null,
   "metadata": {},
   "outputs": [],
   "source": [
    "import sys\n",
    "from importlib import reload\n",
    "\n",
    "import polars as pl\n",
    "\n",
    "sys.path.append(\"..\")\n",
    "\n",
    "import util\n",
    "\n",
    "reload(util)"
   ]
  },
  {
   "cell_type": "code",
   "execution_count": null,
   "metadata": {},
   "outputs": [],
   "source": [
    "data = util.load_examples()\n",
    "for r in data.filter(pl.col(\"tokens\").list.contains(\"<\")).iter_rows(named=True):\n",
    "    print(\"\".join(r[\"tokens\"]))\n",
    "    print(r[\"tags\"], \"\\n\\n\")\n"
   ]
  },
  {
   "cell_type": "code",
   "execution_count": 3,
   "metadata": {},
   "outputs": [],
   "source": [
    "brop = [\"(\", \"[\", \"{\"]\n",
    "brcl = [\")\", \"]\", \"}\"]\n",
    "\n",
    "\n",
    "def repl(token: str, tag: str):\n",
    "    if tag != \"br\":\n",
    "        return tag\n",
    "    if token in brop:\n",
    "        return \"brop\"\n",
    "    elif token in brcl:\n",
    "        return \"brcl\"\n",
    "\n",
    "\n",
    "def repl_row(row):\n",
    "    tags_new = []\n",
    "    for token, tag in zip(*row):\n",
    "        tags_new.append(repl(token, tag))\n",
    "    return tags_new\n",
    "\n",
    "\n",
    "tags_new = []\n",
    "for r in data.select(\"tokens\", \"tags\").iter_rows():\n",
    "    tags_new.append(repl_row(r))\n",
    "\n",
    "data = data.with_columns(pl.Series(\"tags\", tags_new))"
   ]
  },
  {
   "cell_type": "code",
   "execution_count": null,
   "metadata": {},
   "outputs": [],
   "source": [
    "import json\n",
    "\n",
    "\n",
    "new_data_dict = {\n",
    "    d[\"name\"]: {\n",
    "        \"difficulty\": d[\"difficulty\"],\n",
    "        \"tokens\": d[\"tokens\"],\n",
    "        \"tags\": d[\"tags\"],\n",
    "    }\n",
    "    for d in data.rows(named=True)\n",
    "}\n",
    "# with open(\"../data/examples_annot_2.json\", \"w\", encoding=\"utf-8\") as f:\n",
    "#     json.dump(new_data_dict, f)\n"
   ]
  }
 ],
 "metadata": {
  "kernelspec": {
   "display_name": "_my_python",
   "language": "python",
   "name": "python3"
  },
  "language_info": {
   "codemirror_mode": {
    "name": "ipython",
    "version": 3
   },
   "file_extension": ".py",
   "mimetype": "text/x-python",
   "name": "python",
   "nbconvert_exporter": "python",
   "pygments_lexer": "ipython3",
   "version": "3.12.7"
  }
 },
 "nbformat": 4,
 "nbformat_minor": 2
}
