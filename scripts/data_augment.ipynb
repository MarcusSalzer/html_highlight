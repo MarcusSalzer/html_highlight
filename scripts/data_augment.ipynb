{
 "cells": [
  {
   "cell_type": "code",
   "execution_count": null,
   "metadata": {},
   "outputs": [],
   "source": [
    "import random\n",
    "\n",
    "from typing import Literal\n",
    "\n",
    "\n",
    "def gen_name(\n",
    "    minlen=1,\n",
    "    maxlen=8,\n",
    "    case: Literal[\"lower\", \"snake\", \"uppercamel\", \"upper\"] = \"lower\",\n",
    "):\n",
    "    length = random.randint(minlen, maxlen)\n",
    "    word = \"\"\n",
    "    for i in range(length):\n",
    "        c = chr(random.randint(97, 122))\n",
    "        if case == \"upper\":\n",
    "            c = c.upper()\n",
    "        elif case == \"uppercamel\":\n",
    "            if i == 0:\n",
    "                c = c.upper()\n",
    "            elif random.random() > 0.75:\n",
    "                c = c.upper()\n",
    "\n",
    "        word += c\n",
    "    if case == \"snake\":\n",
    "        s = random.randint(0, length)\n",
    "        word = word[:s] + \"_\" + word[s:]\n",
    "\n",
    "    return word\n",
    "\n",
    "\n",
    "def randomize_names(tokens: list[str], tags: list[str]):\n",
    "    \"\"\"Randomize names of tokens with arbitrary names.\n",
    "\n",
    "    Affected classes: `pa`, `mo`, `fnme`, `fnas`, `fnsa`, `va`, `at`\n",
    "    \"\"\"\n",
    "\n",
    "    renameable = [\"pa\", \"mo\", \"fnme\", \"fnas\", \"fnsa\", \"va\", \"at\"]\n",
    "\n",
    "    renamed = [False] * len(tokens)\n",
    "    tokens_new = tokens.copy()\n",
    "    for i, (token, tag) in enumerate(zip(tokens, tags)):\n",
    "        print(renamed)\n",
    "        if tag in renameable and not renamed[i]:\n",
    "            newname = gen_name()\n",
    "            for j in range(i, len(tokens)):\n",
    "                if tokens[j] == token:\n",
    "                    renamed[j] = True\n",
    "                    tokens_new[j] = newname\n",
    "\n",
    "    return tokens_new\n",
    "\n",
    "\n",
    "randomize_names(\n",
    "    [\"x\", \"=\", \"f\", \"(\", \"x\", \")\"], [\"va\", \"opas\", \"fnsa\", \"brop\", \"va\", \"brcl\"]\n",
    ")"
   ]
  },
  {
   "cell_type": "code",
   "execution_count": null,
   "metadata": {},
   "outputs": [],
   "source": [
    "random.randint(0, 25)\n",
    "ord(\"_\")\n"
   ]
  },
  {
   "cell_type": "code",
   "execution_count": null,
   "metadata": {},
   "outputs": [],
   "source": [
    "gen_name(case=\"snake\")\n"
   ]
  },
  {
   "cell_type": "markdown",
   "metadata": {},
   "source": [
    "## markov process\n"
   ]
  },
  {
   "cell_type": "code",
   "execution_count": null,
   "metadata": {},
   "outputs": [],
   "source": [
    "transitions = {\n",
    "    \"[start]\": {\"va\": 0.4, \"kwio\": 0.2, \"fnsa\": 0.2},\n",
    "    \"va\": {\"opas\": 0.5},\n",
    "    \"opas\": {\"va\": 0.5, \"fnsa\": 0.5},\n",
    "    \"fnsa\": {\"brop\": 1.0},\n",
    "    \"kwio\": {\"va\": 0.4, \"fnsa\": 0.3},\n",
    "    \"brop\": {\"va\": 0.6, \"brcl\": 0.4},\n",
    "}\n",
    "\n",
    "\n",
    "def gen_markov(seq=[\"[start]\"], maxlen=20):\n",
    "    for i in range(maxlen):\n",
    "        k = seq[-1]\n",
    "\n",
    "        if k not in transitions.keys() or k == \"[end]\":\n",
    "            break\n",
    "        n = random.choices(\n",
    "            population=list(transitions[k].keys()),\n",
    "            weights=list(transitions[k].values()),\n",
    "        )[0]\n",
    "        seq.append(n)\n",
    "    return seq\n",
    "\n",
    "\n",
    "gen_markov()\n"
   ]
  },
  {
   "cell_type": "code",
   "execution_count": null,
   "metadata": {},
   "outputs": [],
   "source": [
    "random.choices([\"a\", \"b\", \"c\"], weights=[0.2, 0.9, 0.0], k=10)"
   ]
  },
  {
   "cell_type": "markdown",
   "metadata": {},
   "source": [
    "## recursive\n"
   ]
  },
  {
   "cell_type": "code",
   "execution_count": null,
   "metadata": {},
   "outputs": [],
   "source": [
    "rules = {\n",
    "    \"stmt\": [\"va|opas|expr|pu\"],\n",
    "    \"opas\": [\"=\", \"<-\", \"+=\"],\n",
    "    \"expr\": [\"va\", \"num\", \"f( expr )\"],\n",
    "    \"loop\": [\"for| |va| |in| range(|int|):|\\n|    |stmt\"],\n",
    "    \"va\": [\"x\", \"y\", \"count\"],\n",
    "    \"num\": [\"42\", \"0\", \"3.14\"],\n",
    "    \"int\": [\"1\", \"2\", \"3\"],\n",
    "    \"f\": [\"func1\", \"func2\"],\n",
    "    \"brop\": [\"(\"],\n",
    "    \"brcl\": [\")\"],\n",
    "    \"op\": [\"+\", \"-\", \"*\", \"/\"],\n",
    "    \"pu\": [\";\", \"\"],\n",
    "}\n",
    "\n",
    "\n",
    "def generate(rule):\n",
    "    \"\"\"Recursively expand a rule to generate a sequence.\"\"\"\n",
    "    if rule not in rules:  # Base case: terminal token\n",
    "        return rule\n",
    "\n",
    "    # Randomly choose a production for this rule\n",
    "    production = random.choice(rules[rule])\n",
    "\n",
    "    # Recursively generate for each token in the production\n",
    "    tokens = []\n",
    "    for token in production.split(\"|\"):\n",
    "        tokens.extend(generate(token))\n",
    "\n",
    "    return tokens\n",
    "\n",
    "\n",
    "# Example: Start with a \"stmt\"\n",
    "tree = generate(\"loop\")\n",
    "print(\"\".join(tree))"
   ]
  },
  {
   "cell_type": "code",
   "execution_count": null,
   "metadata": {},
   "outputs": [],
   "source": []
  }
 ],
 "metadata": {
  "kernelspec": {
   "display_name": "_my_python",
   "language": "python",
   "name": "python3"
  },
  "language_info": {
   "codemirror_mode": {
    "name": "ipython",
    "version": 3
   },
   "file_extension": ".py",
   "mimetype": "text/x-python",
   "name": "python",
   "nbconvert_exporter": "python",
   "pygments_lexer": "ipython3",
   "version": "3.12.7"
  }
 },
 "nbformat": 4,
 "nbformat_minor": 2
}
