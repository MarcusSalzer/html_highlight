{
 "cells": [
  {
   "cell_type": "markdown",
   "metadata": {},
   "source": [
    "## look at training results\n"
   ]
  },
  {
   "cell_type": "code",
   "execution_count": null,
   "metadata": {},
   "outputs": [],
   "source": [
    "import json\n",
    "import sys\n",
    "from glob import glob\n",
    "from importlib import reload\n",
    "from os import path as osp\n",
    "\n",
    "from plotly import graph_objects as go\n",
    "from plotly import io as pio\n",
    "\n",
    "sys.path.append(\"..\")\n",
    "from src import plotly_plots\n",
    "\n",
    "files = glob(\"../models_trained/*_meta.json\")\n",
    "model_ids = [osp.split(f)[-1].removesuffix(\"_meta.json\") for f in files]\n",
    "\n",
    "print(model_ids)\n",
    "meta = {}\n",
    "for m_id, m_pth in zip(model_ids, files):\n",
    "    with open(m_pth) as f:\n",
    "        meta[m_id] = json.load(f)\n",
    "\n",
    "print(\"meta keys\", list(list(meta.values())[0].keys()))\n",
    "\n",
    "for mk in [\"train_loss\", \"val_loss\", \"val_acc\"]:\n",
    "    go.Figure(\n",
    "        layout=go.Layout(\n",
    "            yaxis_title=mk,\n",
    "            xaxis=go.layout.XAxis(title=\"epoch\"),\n",
    "        ),\n",
    "        data=[go.Scatter(y=m[\"metrics\"][mk], name=m_id) for m_id, m in meta.items()],\n",
    "    ).show()"
   ]
  },
  {
   "cell_type": "code",
   "execution_count": null,
   "metadata": {},
   "outputs": [],
   "source": [
    "reload(plotly_plots)\n",
    "\n",
    "plotly_plots.train_metrics_single_run(meta[model_ids[0]][\"metrics\"])\n"
   ]
  }
 ],
 "metadata": {
  "kernelspec": {
   "display_name": "mango",
   "language": "python",
   "name": "python3"
  },
  "language_info": {
   "codemirror_mode": {
    "name": "ipython",
    "version": 3
   },
   "file_extension": ".py",
   "mimetype": "text/x-python",
   "name": "python",
   "nbconvert_exporter": "python",
   "pygments_lexer": "ipython3",
   "version": "3.13.3"
  }
 },
 "nbformat": 4,
 "nbformat_minor": 2
}
