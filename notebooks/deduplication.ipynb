{
 "cells": [
  {
   "cell_type": "code",
   "execution_count": null,
   "metadata": {},
   "outputs": [],
   "source": [
    "import sys\n",
    "from importlib import reload\n",
    "from pathlib import Path\n",
    "\n",
    "from rich.console import Console\n",
    "\n",
    "sys.path.append(\"..\")\n",
    "\n",
    "import src.util as util\n",
    "from src import text_process\n",
    "from src import plotly_plots as pp\n",
    "from src import data_functions as datafun\n",
    "\n",
    "reload(pp)\n",
    "reload(util)\n",
    "reload(text_process)\n",
    "cons = Console()"
   ]
  },
  {
   "cell_type": "code",
   "execution_count": null,
   "metadata": {},
   "outputs": [],
   "source": [
    "examples = util.load_dataset_parallel(\n",
    "    Path(\"../data/dataset.ndjson\"),\n",
    ")\n",
    "print(f\"loaded {len(examples)} examples\")\n",
    "df = util.dataset_to_df(examples)\n",
    "df.tail()"
   ]
  },
  {
   "cell_type": "code",
   "execution_count": null,
   "metadata": {},
   "outputs": [],
   "source": [
    "vocab_tokens = df[\"tokens\"].explode().unique().sort().to_list()\n",
    "tag_tokens = df[\"tags\"].explode().unique().sort().to_list()\n",
    "print(f\"{len(vocab_tokens)=}\")\n",
    "print(f\"{len(tag_tokens)=}\")"
   ]
  },
  {
   "cell_type": "code",
   "execution_count": null,
   "metadata": {},
   "outputs": [],
   "source": [
    "dummy_docs = [\n",
    "    \"hello world hello world\",\n",
    "    \"goodbye cruel world goodbye everyone\",\n",
    "    \"hello everyone what is going on hello world hello\",\n",
    "]"
   ]
  },
  {
   "cell_type": "code",
   "execution_count": null,
   "metadata": {},
   "outputs": [],
   "source": [
    "N = 3\n",
    "\n",
    "overlap_tags, high_tag_ovr = datafun.overlap_pairwise_simple(df[\"tags\"].to_list(), N)\n",
    "overlap_tokens, high_token_ovr = datafun.overlap_pairwise_simple(\n",
    "    df[\"tokens\"].to_list(), N\n",
    ")\n",
    "print(f\"high overlap by tags: {len(high_tag_ovr)} pairs\")\n",
    "print(f\"high overlap by token: {len(high_token_ovr)} pairs\")\n",
    "\n",
    "for i, j, ovr in high_token_ovr:\n",
    "    print(f\"\\n{str((i, j)).ljust(12)}: {ovr:.1%} overlap\")\n",
    "    cons.print(df[i][\"tokens\"].list.join(\"\")[0], style=\"cyan\", highlight=False)\n",
    "    cons.print(df[j][\"tokens\"].list.join(\"\")[0], style=\"yellow\", highlight=False)"
   ]
  },
  {
   "cell_type": "code",
   "execution_count": null,
   "metadata": {},
   "outputs": [],
   "source": [
    "reload(pp)\n",
    "\n",
    "\n",
    "pp.heatmap(overlap_tags).show()\n",
    "pp.heatmap(overlap_tokens).show()"
   ]
  },
  {
   "cell_type": "code",
   "execution_count": null,
   "metadata": {},
   "outputs": [],
   "source": [
    "from collections.abc import Sequence\n",
    "from time import time\n",
    "\n",
    "reload(datafun)\n",
    "\n",
    "\n",
    "def overlap_pairwise_optimized(\n",
    "    docs: Sequence[list[str]], n: int = 3, thr=0.5, n_jobs: int = 1\n",
    "):\n",
    "    \"\"\"Compare n-gram overlap for all document pairs\"\"\"\n",
    "\n",
    "    high = []\n",
    "\n",
    "    # store all ngram sets ahead of time to avoid recomputing\n",
    "    # shouldnt need too much memory...\n",
    "    ngram_sets = datafun.get_ngrams_all(docs, n, n_jobs)\n",
    "    for i in range(len(docs)):\n",
    "        for j in range(i):\n",
    "            overlap = datafun.get_overlap(ngram_sets[i], ngram_sets[j])\n",
    "\n",
    "            # keep track of highest\n",
    "            if overlap >= thr:\n",
    "                high.append((i, j, overlap))\n",
    "\n",
    "    # sort by descending overlap\n",
    "    high.sort(key=lambda t: -t[-1])\n",
    "    return None, high\n",
    "\n",
    "\n",
    "ts = time()\n",
    "ovr_mat_tok_opt, high_ovr_opt = overlap_pairwise_optimized(\n",
    "    df[\"tokens\"].to_list(), N, n_jobs=2\n",
    ")\n",
    "print(f\"time: {1000 * (time() - ts):.1f} ms\")\n",
    "\n",
    "# pp.heatmap(ovr_mat_tok_opt).show()\n"
   ]
  },
  {
   "cell_type": "code",
   "execution_count": null,
   "metadata": {},
   "outputs": [],
   "source": []
  }
 ],
 "metadata": {
  "kernelspec": {
   "display_name": "mango",
   "language": "python",
   "name": "python3"
  },
  "language_info": {
   "codemirror_mode": {
    "name": "ipython",
    "version": 3
   },
   "file_extension": ".py",
   "mimetype": "text/x-python",
   "name": "python",
   "nbconvert_exporter": "python",
   "pygments_lexer": "ipython3",
   "version": "3.13.3"
  }
 },
 "nbformat": 4,
 "nbformat_minor": 2
}
