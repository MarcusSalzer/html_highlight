{
 "cells": [
  {
   "cell_type": "code",
   "execution_count": null,
   "id": "a2fac606",
   "metadata": {},
   "outputs": [],
   "source": [
    "import sys\n",
    "from importlib import reload\n",
    "\n",
    "import torch\n",
    "\n",
    "sys.path.append(\"..\")\n",
    "from src import torch_util as tu\n"
   ]
  },
  {
   "cell_type": "code",
   "execution_count": null,
   "id": "87e3323e",
   "metadata": {},
   "outputs": [],
   "source": [
    "reload(tu)\n",
    "conf = tu.RNNTaggerConfig(\n",
    "    vocab_sz_token=10,\n",
    "    vocab_sz_tag=7,\n",
    "    mlp_sizes=[80],\n",
    ")\n",
    "\n",
    "model = tu.RNNTagger(conf)\n",
    "\n",
    "tokens = torch.tensor([[1, 2, 3], [3, 4, 0]])\n",
    "tags_det = torch.tensor([[1, 1, 5], [3, 2, 0]])\n",
    "\n",
    "out = model(tokens, tags_det)\n",
    "print(model.tot_weights)\n",
    "out.shape\n"
   ]
  },
  {
   "cell_type": "code",
   "execution_count": null,
   "id": "faa3bd60",
   "metadata": {},
   "outputs": [],
   "source": [
    "conf = tu.RNNTaggerConfig(\n",
    "    vocab_sz_token=4,\n",
    "    vocab_sz_tag=4,\n",
    "    d_emb_token=2,\n",
    "    d_emb_tag=2,\n",
    "    d_hidden_rnn=2,\n",
    "    rnn_variant=\"rnn\",\n",
    "    n_rnn_layers=1,\n",
    "    bidi=False,\n",
    "    mlp_sizes=[7],\n",
    ")\n",
    "\n",
    "model = tu.RNNTagger(conf)\n",
    "print(f\"{model.tot_weights = }\")\n",
    "pars = list(model.named_parameters())\n",
    "for name, p in pars:\n",
    "    print(name, p.shape)"
   ]
  },
  {
   "cell_type": "code",
   "execution_count": null,
   "id": "e5a4f941",
   "metadata": {},
   "outputs": [],
   "source": []
  }
 ],
 "metadata": {
  "kernelspec": {
   "display_name": "mango",
   "language": "python",
   "name": "python3"
  },
  "language_info": {
   "codemirror_mode": {
    "name": "ipython",
    "version": 3
   },
   "file_extension": ".py",
   "mimetype": "text/x-python",
   "name": "python",
   "nbconvert_exporter": "python",
   "pygments_lexer": "ipython3",
   "version": "3.13.3"
  }
 },
 "nbformat": 4,
 "nbformat_minor": 5
}
