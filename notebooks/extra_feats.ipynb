{
 "cells": [
  {
   "cell_type": "markdown",
   "metadata": {},
   "source": [
    "## Extra Features\n",
    "\n",
    "LSTM tagger that includes extra features, generated from the input text\n"
   ]
  },
  {
   "cell_type": "code",
   "execution_count": 2,
   "metadata": {},
   "outputs": [
    {
     "name": "stdout",
     "output_type": "stream",
     "text": [
      "Loaded 257 examples\n",
      "    test: 34\n",
      "    train: 169\n",
      "    val: 54\n"
     ]
    },
    {
     "data": {
      "text/html": [
       "<div><style>\n",
       ".dataframe > thead > tr,\n",
       ".dataframe > tbody > tr {\n",
       "  text-align: right;\n",
       "  white-space: pre-wrap;\n",
       "}\n",
       "</style>\n",
       "<small>shape: (5, 8)</small><table border=\"1\" class=\"dataframe\"><thead><tr><th>difficulty</th><th>tokens</th><th>tags</th><th>name</th><th>lang</th><th>id</th><th>split</th><th>length</th></tr><tr><td>str</td><td>list[str]</td><td>list[str]</td><td>str</td><td>str</td><td>str</td><td>str</td><td>u32</td></tr></thead><tbody><tr><td>&quot;easy&quot;</td><td>[&quot;[&quot;, &quot;2&quot;, … &quot;]&quot;]</td><td>[&quot;brop&quot;, &quot;nu&quot;, … &quot;brcl&quot;]</td><td>&quot;smplrr&quot;</td><td>&quot;json&quot;</td><td>&quot;smplrr_json&quot;</td><td>&quot;train&quot;</td><td>9</td></tr><tr><td>&quot;normal&quot;</td><td>[&quot;say&quot;, &quot; &quot;, &quot;&quot;Hello world&quot;&quot;]</td><td>[&quot;kwio&quot;, &quot;ws&quot;, &quot;st&quot;]</td><td>&quot;hllwrld&quot;</td><td>&quot;natural&quot;</td><td>&quot;hllwrld_natural&quot;</td><td>&quot;train&quot;</td><td>3</td></tr><tr><td>&quot;normal&quot;</td><td>[&quot;puts&quot;, &quot; &quot;, &quot;&quot;Hello World&quot;&quot;]</td><td>[&quot;kwio&quot;, &quot;ws&quot;, &quot;st&quot;]</td><td>&quot;hllwrld&quot;</td><td>&quot;ruby&quot;</td><td>&quot;hllwrld_ruby&quot;</td><td>&quot;train&quot;</td><td>3</td></tr><tr><td>&quot;normal&quot;</td><td>[&quot;if&quot;, &quot; &quot;, … &quot;)&quot;]</td><td>[&quot;kwfl&quot;, &quot;ws&quot;, … &quot;brcl&quot;]</td><td>&quot;smplndnttb&quot;</td><td>&quot;pseudo&quot;</td><td>&quot;smplndnttb_pseudo&quot;</td><td>&quot;train&quot;</td><td>8</td></tr><tr><td>&quot;normal&quot;</td><td>[&quot;if&quot;, &quot; &quot;, … &quot;)&quot;]</td><td>[&quot;kwfl&quot;, &quot;ws&quot;, … &quot;brcl&quot;]</td><td>&quot;smplndntsp&quot;</td><td>&quot;pseudo&quot;</td><td>&quot;smplndntsp_pseudo&quot;</td><td>&quot;train&quot;</td><td>8</td></tr></tbody></table></div>"
      ],
      "text/plain": [
       "shape: (5, 8)\n",
       "┌────────────┬───────────────┬──────────────┬────────────┬─────────┬──────────────┬───────┬────────┐\n",
       "│ difficulty ┆ tokens        ┆ tags         ┆ name       ┆ lang    ┆ id           ┆ split ┆ length │\n",
       "│ ---        ┆ ---           ┆ ---          ┆ ---        ┆ ---     ┆ ---          ┆ ---   ┆ ---    │\n",
       "│ str        ┆ list[str]     ┆ list[str]    ┆ str        ┆ str     ┆ str          ┆ str   ┆ u32    │\n",
       "╞════════════╪═══════════════╪══════════════╪════════════╪═════════╪══════════════╪═══════╪════════╡\n",
       "│ easy       ┆ [\"[\", \"2\", …  ┆ [\"brop\",     ┆ smplrr     ┆ json    ┆ smplrr_json  ┆ train ┆ 9      │\n",
       "│            ┆ \"]\"]          ┆ \"nu\", …      ┆            ┆         ┆              ┆       ┆        │\n",
       "│            ┆               ┆ \"brcl\"]      ┆            ┆         ┆              ┆       ┆        │\n",
       "│ normal     ┆ [\"say\", \" \",  ┆ [\"kwio\",     ┆ hllwrld    ┆ natural ┆ hllwrld_natu ┆ train ┆ 3      │\n",
       "│            ┆ \"\"Hello       ┆ \"ws\", \"st\"]  ┆            ┆         ┆ ral          ┆       ┆        │\n",
       "│            ┆ world\"\"]      ┆              ┆            ┆         ┆              ┆       ┆        │\n",
       "│ normal     ┆ [\"puts\", \" \", ┆ [\"kwio\",     ┆ hllwrld    ┆ ruby    ┆ hllwrld_ruby ┆ train ┆ 3      │\n",
       "│            ┆ \"\"Hello       ┆ \"ws\", \"st\"]  ┆            ┆         ┆              ┆       ┆        │\n",
       "│            ┆ World\"\"]      ┆              ┆            ┆         ┆              ┆       ┆        │\n",
       "│ normal     ┆ [\"if\", \" \", … ┆ [\"kwfl\",     ┆ smplndnttb ┆ pseudo  ┆ smplndnttb_p ┆ train ┆ 8      │\n",
       "│            ┆ \")\"]          ┆ \"ws\", …      ┆            ┆         ┆ seudo        ┆       ┆        │\n",
       "│            ┆               ┆ \"brcl\"]      ┆            ┆         ┆              ┆       ┆        │\n",
       "│ normal     ┆ [\"if\", \" \", … ┆ [\"kwfl\",     ┆ smplndntsp ┆ pseudo  ┆ smplndntsp_p ┆ train ┆ 8      │\n",
       "│            ┆ \")\"]          ┆ \"ws\", …      ┆            ┆         ┆ seudo        ┆       ┆        │\n",
       "│            ┆               ┆ \"brcl\"]      ┆            ┆         ┆              ┆       ┆        │\n",
       "└────────────┴───────────────┴──────────────┴────────────┴─────────┴──────────────┴───────┴────────┘"
      ]
     },
     "metadata": {},
     "output_type": "display_data"
    },
    {
     "name": "stdout",
     "output_type": "stream",
     "text": [
      "vocab: 137 tokens | tag_vocab: 38 tags\n"
     ]
    }
   ],
   "source": [
    "import sys\n",
    "\n",
    "import torch\n",
    "\n",
    "sys.path.append(\"..\")\n",
    "from src import torch_util, util\n",
    "\n",
    "data = util.load_examples_json(split_idx_id=\"0301\")\n",
    "display(data[\"train\"].head(5))\n",
    "vocab, token2idx, tag_vocab, tag2idx = util.make_vocab(data[\"train\"])\n",
    "print(f\"vocab: {len(vocab)} tokens | tag_vocab: {len(tag_vocab)} tags\")"
   ]
  },
  {
   "cell_type": "code",
   "execution_count": 3,
   "metadata": {},
   "outputs": [
    {
     "name": "stdout",
     "output_type": "stream",
     "text": [
      "LSTMTagger(\n",
      "  (embedding_tokens): Embedding(137, 16, padding_idx=0)\n",
      "  (embedding_labels): Embedding(38, 16, padding_idx=0)\n",
      "  (lstm): LSTM(32, 64, num_layers=2, batch_first=True, dropout=0.3, bidirectional=True)\n",
      "  (hidden2tag): Linear(in_features=128, out_features=38, bias=True)\n",
      ")\n"
     ]
    }
   ],
   "source": [
    "constr_params = {\n",
    "    \"embedding_dim\": 16,\n",
    "    \"hidden_dim\": 64,\n",
    "    \"n_lstm_layers\": 2,\n",
    "    \"dropout_lstm\": 0.3,\n",
    "    \"bidi\": True,\n",
    "    \"token_vocab_size\": len(vocab),\n",
    "    \"label_vocab_size\": len(tag_vocab),\n",
    "}\n",
    "model = torch_util.LSTMTagger(**constr_params)\n",
    "print(model)"
   ]
  },
  {
   "cell_type": "markdown",
   "metadata": {},
   "source": [
    "## make features\n"
   ]
  },
  {
   "cell_type": "code",
   "execution_count": 4,
   "metadata": {},
   "outputs": [
    {
     "name": "stdout",
     "output_type": "stream",
     "text": [
      "torch.Size([2, 3])\n",
      "tensor([[0.0000, 0.3125, 3.0000],\n",
      "        [0.0000, 0.0625, 3.0000],\n",
      "        [0.0000, 0.0625, 3.0000]])\n"
     ]
    }
   ],
   "source": [
    "def make_extra_feats(tokens: list[str]):\n",
    "    \"\"\"Prepare extra features for tagger\"\"\"\n",
    "    features = torch.zeros(())\n",
    "    features = []\n",
    "    for token in tokens:\n",
    "        is_capitalized = 1.0 if token[0].isupper() else 0.0\n",
    "        word_length = min(len(token), 10) / 16  # normalized token length\n",
    "        line_starts_with = hash(tokens[0]) % 10  # Bucket encoding\n",
    "\n",
    "        features.append([is_capitalized, word_length, line_starts_with])\n",
    "\n",
    "    return torch.tensor(features, dtype=torch.float32)\n",
    "\n",
    "\n",
    "print(make_extra_feats([\"Sys\", \"print\"]).shape)\n",
    "print(make_extra_feats([\"print\", \"(\", \")\"]))"
   ]
  }
 ],
 "metadata": {
  "kernelspec": {
   "display_name": "_my_python",
   "language": "python",
   "name": "python3"
  },
  "language_info": {
   "codemirror_mode": {
    "name": "ipython",
    "version": 3
   },
   "file_extension": ".py",
   "mimetype": "text/x-python",
   "name": "python",
   "nbconvert_exporter": "python",
   "pygments_lexer": "ipython3",
   "version": "3.12.7"
  }
 },
 "nbformat": 4,
 "nbformat_minor": 2
}
