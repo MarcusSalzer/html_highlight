{
 "cells": [
  {
   "cell_type": "code",
   "execution_count": null,
   "id": "b484017f",
   "metadata": {},
   "outputs": [],
   "source": [
    "import json\n",
    "from pathlib import Path\n",
    "import sys\n",
    "from importlib import reload\n",
    "from typing import Any\n",
    "\n",
    "import polars as pl\n",
    "import torch\n",
    "from sklearn import metrics\n",
    "from torch.utils.data import DataLoader, Dataset\n",
    "\n",
    "sys.path.append(\"..\")\n",
    "\n",
    "from src import torch_util, text_process, util\n",
    "\n",
    "reload(torch_util)\n",
    "\n",
    "device = torch_util.get_dev()\n",
    "print(f\"{device = }\")\n",
    "\n",
    "\n",
    "split_data: dict[str, Any] = json.loads(Path(\"../data/split_index.json\").read_text())"
   ]
  },
  {
   "cell_type": "code",
   "execution_count": null,
   "id": "4d4d6592",
   "metadata": {},
   "outputs": [],
   "source": [
    "data_splits = util.load_dataset_splits(\n",
    "    split_data[\"examples\"], Path(\"../data/dataset.ndjson\")\n",
    ")"
   ]
  }
 ],
 "metadata": {
  "kernelspec": {
   "display_name": "mango",
   "language": "python",
   "name": "python3"
  },
  "language_info": {
   "codemirror_mode": {
    "name": "ipython",
    "version": 3
   },
   "file_extension": ".py",
   "mimetype": "text/x-python",
   "name": "python",
   "nbconvert_exporter": "python",
   "pygments_lexer": "ipython3",
   "version": "3.13.3"
  }
 },
 "nbformat": 4,
 "nbformat_minor": 5
}
