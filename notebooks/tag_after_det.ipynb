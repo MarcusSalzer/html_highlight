{
 "cells": [
  {
   "cell_type": "code",
   "execution_count": null,
   "metadata": {},
   "outputs": [],
   "source": [
    "import json\n",
    "import sys\n",
    "from importlib import reload\n",
    "\n",
    "import polars as pl\n",
    "import torch\n",
    "from datatools import plotting as dtplot\n",
    "from datatools import tabular as dttab\n",
    "from sklearn import metrics\n",
    "from torch.utils.data import DataLoader, Dataset\n",
    "\n",
    "sys.path.append(\"..\")\n",
    "\n",
    "from src import torch_util, text_process, util\n",
    "\n",
    "reload(torch_util)\n",
    "dtplot.set_plotly_template()\n",
    "\n",
    "dev = torch_util.get_dev()\n",
    "print(\"device:\", dev)"
   ]
  },
  {
   "cell_type": "markdown",
   "metadata": {},
   "source": [
    "## load data\n"
   ]
  },
  {
   "cell_type": "code",
   "execution_count": null,
   "metadata": {},
   "outputs": [],
   "source": [
    "reload(util)\n",
    "split_idx = \"0216\"\n",
    "tag_map = None\n",
    "\n",
    "\n",
    "data = util.load_examples_json(\n",
    "    tag_map=tag_map,\n",
    "    # [\"python\", \"pseudo\", \"rust\"],\n",
    "    split_idx_id=split_idx,\n",
    ")\n",
    "\n",
    "\n",
    "for k, df in data.items():\n",
    "    print(k)\n",
    "    print(end=\"\\t\")\n",
    "    dttab.value_counts(df[\"lang\"], verbose=True, as_dict=True)\n"
   ]
  },
  {
   "cell_type": "markdown",
   "metadata": {},
   "source": [
    "## most common tokens\n"
   ]
  },
  {
   "cell_type": "code",
   "execution_count": null,
   "metadata": {},
   "outputs": [],
   "source": [
    "vocab, token2idx = util.make_vocab(data[\"train\"])\n",
    "leftover = (\n",
    "    data[\"train\"]\n",
    "    .select(pl.col(\"tokens\").explode())\n",
    "    .filter(pl.col(\"tokens\").is_in(vocab).not_())\n",
    "    .group_by(\"tokens\")\n",
    "    .agg(pl.len().alias(\"count\"))\n",
    "    .sort(\"count\", \"tokens\", descending=True)\n",
    ")\n",
    "leftover = leftover[\"tokens\"].to_list()\n",
    "\n",
    "print(f\"VOCAB ({len(vocab)}):\", vocab)\n",
    "print(f\"LEFT  ({len(leftover)}):\", leftover)\n"
   ]
  },
  {
   "cell_type": "code",
   "execution_count": null,
   "metadata": {},
   "outputs": [],
   "source": [
    "token_counts = dttab.value_counts(\n",
    "    data[\"train\"][\"tokens\"].explode(), verbose=True, as_dict=True\n",
    ")\n",
    "\n",
    "# tag counts for all data, closed tag set\n",
    "tag_counts = dttab.value_counts(\n",
    "    pl.concat([data[\"train\"], data[\"val\"], data[\"test\"]])[\"tags\"].explode(),\n",
    "    verbose=True,\n",
    "    as_dict=True,\n",
    ")\n"
   ]
  },
  {
   "cell_type": "code",
   "execution_count": null,
   "metadata": {},
   "outputs": [],
   "source": [
    "# tags\n",
    "tag_vocab = [\"<pad>\", \"uk\"] + list(tag_counts.keys())\n",
    "tag2idx = {t: i for i, t in enumerate(tag_vocab)}\n",
    "\n",
    "print(f\"vocab ({len(vocab)} tokens):\", vocab)\n",
    "print(f\"vocab ({len(tag_vocab)} tags)  :\", tag_vocab)\n"
   ]
  },
  {
   "cell_type": "markdown",
   "metadata": {},
   "source": [
    "### class weights?\n"
   ]
  },
  {
   "cell_type": "code",
   "execution_count": null,
   "metadata": {},
   "outputs": [],
   "source": [
    "reload(dttab)\n",
    "\n",
    "\n",
    "all_tags = data[\"train\"][\"tags\"].explode()\n",
    "\n",
    "tag_counts = dttab.value_counts(all_tags, sort_by=\"value\", as_dict=True)\n"
   ]
  },
  {
   "cell_type": "markdown",
   "metadata": {},
   "source": [
    "### Prepare data for model\n"
   ]
  },
  {
   "cell_type": "code",
   "execution_count": null,
   "metadata": {},
   "outputs": [],
   "source": [
    "_, token2idx = util.make_vocab(df)\n",
    "tag_vocab = [\"<pad>\", \"uk\"] + df[\"tags\"].explode().value_counts(sort=True)[\n",
    "    \"tags\"\n",
    "].to_list()\n",
    "tag2idx = {t: i for i, t in enumerate(tag_vocab)}\n",
    "\n",
    "\n",
    "# Create dataloaders\n",
    "\n",
    "train_dl = torch_util.data2torch(data[\"train\"], 4, token2idx, tag2idx, dev)\n",
    "val_dl = torch_util.data2torch(data[\"val\"], 8, token2idx, tag2idx, dev)\n"
   ]
  },
  {
   "cell_type": "markdown",
   "metadata": {},
   "source": [
    "## model\n"
   ]
  },
  {
   "cell_type": "code",
   "execution_count": null,
   "metadata": {},
   "outputs": [],
   "source": [
    "from timeit import default_timer\n",
    "\n",
    "\n",
    "reload(torch_util)\n",
    "\n",
    "epochs = 2000\n",
    "train_time = 5\n",
    "modelname = f\"lstm_{split_idx}\"\n",
    "\n",
    "if tag_map is not None:\n",
    "    modelname += \"_mapped\"\n",
    "\n",
    "# LOSS PARAMS\n",
    "tag_weights = torch_util.class_weights(tag_counts, tag_vocab, 10.0)\n",
    "label_smoothing = 0.1\n",
    "\n",
    "constructor_params = {\n",
    "    \"token_vocab_size\": len(vocab),\n",
    "    \"label_vocab_size\": len(tag_vocab),\n",
    "    \"embedding_dim\": 16,\n",
    "    \"hidden_dim\": 64,\n",
    "    \"n_lstm_layers\": 2,\n",
    "    \"dropout_lstm\": 0.7,\n",
    "    \"bidi\": True,\n",
    "}\n",
    "\n",
    "# Model with default params\n",
    "model = torch_util.LSTMTagger(**constructor_params).to(dev)\n",
    "loss_function = torch.nn.CrossEntropyLoss(\n",
    "    weight=tag_weights,\n",
    "    label_smoothing=label_smoothing,\n",
    ").to(dev)\n",
    "optimizer = torch.optim.Adam(model.parameters(), lr=0.05)\n",
    "lr_s = torch.optim.lr_scheduler.ExponentialLR(optimizer, gamma=0.99)\n",
    "\n",
    "# Training loop\n",
    "losses_train, losses_val, val_accs = torch_util.train_loop(\n",
    "    model,\n",
    "    train_dl,\n",
    "    val_dl,\n",
    "    optimizer=optimizer,\n",
    "    loss_function=loss_function,\n",
    "    lr_s=lr_s,\n",
    "    epochs=100,\n",
    "    name=modelname,\n",
    "    save_dir=\"../tmp/\",\n",
    "    print_interval=5,\n",
    "    time_limit=8,\n",
    ")\n",
    "\n",
    "\n",
    "print(\n",
    "    \"final loss:\\n\", f\"  train: {losses_train[-1]:.4f}\", f\"  val : {losses_val[-1]:.4f}\"\n",
    ")\n"
   ]
  },
  {
   "cell_type": "code",
   "execution_count": null,
   "metadata": {},
   "outputs": [],
   "source": [
    "# save model\n",
    "\n",
    "\n",
    "# save metadata\n",
    "metadata = {\n",
    "    \"vocab\": vocab,\n",
    "    \"tag_vocab\": tag_vocab,\n",
    "    \"tag_map\": tag_map,\n",
    "    \"tag_weights\": tag_weights.tolist(),\n",
    "    \"split_idx\": split_idx,\n",
    "    \"constructor_params\": constructor_params,\n",
    "}\n",
    "\n",
    "\n",
    "torch.save(model.state_dict(), f\"../models/{modelname}_state.pth\")\n",
    "with open(f\"../models/{modelname}_meta.json\", \"w\") as f:\n",
    "    json.dump(metadata, f)"
   ]
  },
  {
   "cell_type": "code",
   "execution_count": null,
   "metadata": {},
   "outputs": [],
   "source": [
    "torch_util.val_acc(model, val_dl.dataset)"
   ]
  },
  {
   "cell_type": "markdown",
   "metadata": {},
   "source": [
    "## evaluate\n"
   ]
  },
  {
   "cell_type": "code",
   "execution_count": null,
   "metadata": {},
   "outputs": [],
   "source": [
    "model.eval()\n",
    "with torch.no_grad():\n",
    "    tag_scores = model(val_token_tensors, val_tag_det_tensors)\n",
    "    predictions = torch.argmax(tag_scores, dim=-1)  # Shape: (batch_size, seq_len)\n",
    "\n",
    "pred_tags = []\n",
    "true_tags = []\n",
    "\n",
    "for pred, true_t in zip(predictions, val_tag_true_idx):\n",
    "    true_tags.extend([tag_vocab[t] for t in true_t])\n",
    "    pred_tags.extend([tag_vocab[t] for t in pred[: len(true_t)]])\n",
    "\n",
    "print(len(true_tags), len(pred_tags))\n",
    "\n",
    "acc = metrics.accuracy_score(true_tags, pred_tags)\n",
    "print(\"accuracy\", acc)\n",
    "f1_macro = metrics.f1_score(true_tags, pred_tags, average=\"macro\")\n",
    "print(\"F1_macro\", f1_macro)\n",
    "\n",
    "confmat = metrics.confusion_matrix(true_tags, pred_tags, labels=tag_vocab)\n",
    "\n",
    "dtplot.heatmap(\n",
    "    confmat,\n",
    "    tag_vocab,\n",
    "    log_scale=True,\n",
    "    pseudo_count=10,\n",
    "    size=400,\n",
    ").show()"
   ]
  },
  {
   "cell_type": "markdown",
   "metadata": {},
   "source": [
    "### eval only on non-det\n"
   ]
  },
  {
   "cell_type": "code",
   "execution_count": null,
   "metadata": {},
   "outputs": [],
   "source": [
    "pred_tags = []\n",
    "true_tags = []\n",
    "\n",
    "for pred, true_t, det in zip(\n",
    "    predictions, val_tag_true_idx, val_tag_det_idx, strict=True\n",
    "):\n",
    "    for p, t, d in zip(pred, true_t, det):\n",
    "        if tag_vocab[d] == \"uk\":\n",
    "            tp = tag_vocab[p.item()]\n",
    "            tt = tag_vocab[t]\n",
    "            true_tags.append(tt)\n",
    "            pred_tags.append(tp)\n",
    "print(len(pred_tags), len(true_tags))\n",
    "\n",
    "labels_left = sorted(set(pred_tags + true_tags))\n",
    "\n",
    "acc = metrics.accuracy_score(true_tags, pred_tags)\n",
    "print(\"accuracy\", acc)\n",
    "f1_macro = metrics.f1_score(true_tags, pred_tags, average=\"macro\")\n",
    "print(\"F1_macro\", f1_macro)\n",
    "\n",
    "confmat = metrics.confusion_matrix(true_tags, pred_tags, labels=labels_left)\n",
    "\n",
    "dtplot.heatmap(\n",
    "    confmat,\n",
    "    labels_left,\n",
    "    log_scale=True,\n",
    "    pseudo_count=10,\n",
    "    size=400,\n",
    ").update_layout(title=\"Confusions (log(count + 10))\").show()"
   ]
  },
  {
   "cell_type": "markdown",
   "metadata": {},
   "source": [
    "## check output\n"
   ]
  },
  {
   "cell_type": "code",
   "execution_count": null,
   "metadata": {},
   "outputs": [],
   "source": [
    "# print(os.listdir())\n",
    "\n",
    "model.eval()\n",
    "with torch.no_grad():\n",
    "    tag_scores = model(val_token_tensors, val_tag_det_tensors)\n",
    "    predictions = torch.argmax(tag_scores, dim=-1)  # Shape: (batch_size, seq_len)\n",
    "\n",
    "print(\"predictions\", predictions.size())\n",
    "\n",
    "outputs = {}\n",
    "for ex, pred in zip(data[\"val\"].iter_rows(named=True), predictions, strict=True):\n",
    "    pred_tags = []\n",
    "    for p in pred:\n",
    "        if p == 0:\n",
    "            break\n",
    "        pred_tags.append(tag_vocab[p])\n",
    "    assert len(ex[\"tokens\"]) == len(pred_tags), \"wrong length\"\n",
    "    pred_tags\n",
    "    print(\"\".join(ex[\"tokens\"]).replace(\"\\n\", \"\\\\\\\\\"))\n",
    "    print(ex[\"tags\"])\n",
    "    print(pred_tags)\n",
    "    print()\n",
    "    outputs[ex[\"name\"] + \"_\" + ex[\"lang\"]] = {\"tokens\": ex[\"tokens\"], \"tags\": pred_tags}\n"
   ]
  },
  {
   "cell_type": "markdown",
   "metadata": {},
   "source": [
    "# parameter search\n"
   ]
  },
  {
   "cell_type": "code",
   "execution_count": null,
   "metadata": {},
   "outputs": [],
   "source": [
    "from coolsearch import search\n",
    "\n",
    "reload(search)\n",
    "\n",
    "\n",
    "def objective(\n",
    "    embedding_dim,\n",
    "    hidden_dim,\n",
    "    n_lstm_layers,\n",
    "    dropout_lstm,\n",
    "    train_time,\n",
    "    class_weight_smoothing,\n",
    "    label_smoothing,\n",
    "    bidi,\n",
    "    lr_start,\n",
    "    lr_gamma,\n",
    "):\n",
    "    \"\"\"Train the model, with some hyperparameters, and evaluate a few metrics\"\"\"\n",
    "    model = torch_util.LSTMTagger(\n",
    "        len(vocab),\n",
    "        len(tag_vocab),\n",
    "        embedding_dim,\n",
    "        hidden_dim,\n",
    "        n_lstm_layers,\n",
    "        dropout_lstm,\n",
    "        bidi,\n",
    "    ).to(dev)\n",
    "    tag_weights = class_weights(tag_counts, tag_vocab, class_weight_smoothing)\n",
    "\n",
    "    loss_function = torch.nn.CrossEntropyLoss(\n",
    "        weight=tag_weights,\n",
    "        label_smoothing=label_smoothing,\n",
    "    ).to(dev)\n",
    "\n",
    "    optimizer = torch.optim.Adam(model.parameters(), lr=lr_start)\n",
    "    lr_s = torch.optim.lr_scheduler.ExponentialLR(optimizer, gamma=lr_gamma)\n",
    "\n",
    "    # Training loop\n",
    "\n",
    "    t_start = default_timer()\n",
    "    while default_timer() < t_start + train_time:\n",
    "        # TRAINING\n",
    "        torch_util.run_epoch(model, train_dl, loss_function, optimizer)\n",
    "\n",
    "        lr_s.step()\n",
    "\n",
    "    model.eval()\n",
    "    with torch.no_grad():\n",
    "        train_loss = torch_util.run_epoch(model, train_dl, loss_function)\n",
    "        val_loss = torch_util.run_epoch(model, val_dl, loss_function)\n",
    "        tag_scores = model(val_token_tensors, val_tag_det_tensors)\n",
    "        predictions = torch.argmax(tag_scores, dim=-1)\n",
    "\n",
    "    pred_tags = []\n",
    "    true_tags = []\n",
    "\n",
    "    for pred, true_t in zip(predictions, val_tag_true_idx):\n",
    "        true_tags.extend([tag_vocab[t] for t in true_t])\n",
    "        pred_tags.extend([tag_vocab[t] for t in pred[: len(true_t)]])\n",
    "\n",
    "    return {\n",
    "        \"_acc\": metrics.accuracy_score(true_tags, pred_tags),\n",
    "        \"_f1_macro\": metrics.f1_score(true_tags, pred_tags, average=\"macro\"),\n",
    "        \"_train_loss\": train_loss,\n",
    "        \"_val_loss\": val_loss,\n",
    "    }\n",
    "\n",
    "\n",
    "params = {\n",
    "    \"embedding_dim\": [16, 18],\n",
    "    \"hidden_dim\": [64, 48],\n",
    "    \"n_lstm_layers\": [1],\n",
    "    \"dropout_lstm\": [0.0],\n",
    "    \"train_time\": 10,\n",
    "    \"class_weight_smoothing\": [10.0],\n",
    "    \"label_smoothing\": [0.1],\n",
    "    \"bidi\": True,\n",
    "    \"lr_start\": [0.05],\n",
    "    \"lr_gamma\": [0.99],\n",
    "}\n",
    "\n",
    "\n",
    "cs = search.CoolSearch(\n",
    "    objective,\n",
    "    params,\n",
    "    n_jobs=1,\n",
    "    samples_file=f\"../search/{modelname}.csv\",\n",
    ")\n",
    "cs.grid_search(3)\n",
    "res = cs.samples.sort(-pl.col(\"_acc\")).head(10)\n",
    "display(res)\n",
    "display(res.row(0, named=True))"
   ]
  },
  {
   "cell_type": "code",
   "execution_count": null,
   "metadata": {},
   "outputs": [],
   "source": [
    "marg = cs.marginals(\"_acc\")\n",
    "\n",
    "pars = list(marg.keys())\n",
    "\n",
    "print(pars)\n",
    "\n",
    "# for k in pars:\n",
    "#     fig = plotting.scatter(x=marg[k][k], y=[marg[k][\"max\"], marg[k][\"mean\"]])\n",
    "#     fig.update_layout(width=400, height=200, title=k)\n",
    "#     fig.show()\n"
   ]
  }
 ],
 "metadata": {
  "kernelspec": {
   "display_name": "_my_python",
   "language": "python",
   "name": "python3"
  },
  "language_info": {
   "codemirror_mode": {
    "name": "ipython",
    "version": 3
   },
   "file_extension": ".py",
   "mimetype": "text/x-python",
   "name": "python",
   "nbconvert_exporter": "python",
   "pygments_lexer": "ipython3",
   "version": "3.12.7"
  }
 },
 "nbformat": 4,
 "nbformat_minor": 2
}
