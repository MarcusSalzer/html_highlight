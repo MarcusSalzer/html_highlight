{
 "cells": [
  {
   "cell_type": "code",
   "execution_count": 212,
   "metadata": {},
   "outputs": [],
   "source": [
    "import sys\n",
    "from importlib import reload\n",
    "import numpy as np\n",
    "\n",
    "import polars as pl\n",
    "from datatools import plotting as dtplot\n",
    "from datatools import tabular as dttab\n",
    "\n",
    "sys.path.append(\"..\")\n",
    "\n",
    "import src.util as util\n",
    "from src import text_process\n",
    "\n",
    "reload(util)\n",
    "reload(text_process)\n",
    "dtplot.set_plotly_template()"
   ]
  },
  {
   "cell_type": "code",
   "execution_count": 213,
   "metadata": {},
   "outputs": [
    {
     "name": "stdout",
     "output_type": "stream",
     "text": [
      "Loaded 296 examples\n",
      "No duplicates found :)\n"
     ]
    },
    {
     "data": {
      "text/html": [
       "<div><style>\n",
       ".dataframe > thead > tr,\n",
       ".dataframe > tbody > tr {\n",
       "  text-align: right;\n",
       "  white-space: pre-wrap;\n",
       "}\n",
       "</style>\n",
       "<small>shape: (5, 7)</small><table border=\"1\" class=\"dataframe\"><thead><tr><th>difficulty</th><th>tokens</th><th>tags</th><th>name</th><th>lang</th><th>id</th><th>length</th></tr><tr><td>str</td><td>list[str]</td><td>list[str]</td><td>str</td><td>str</td><td>str</td><td>u32</td></tr></thead><tbody><tr><td>&quot;easy&quot;</td><td>[&quot;x&quot;, &quot;=&quot;, &quot;1&quot;]</td><td>[&quot;va&quot;, &quot;opas&quot;, &quot;nu&quot;]</td><td>&quot;shrt&quot;</td><td>&quot;pseudo&quot;</td><td>&quot;shrt_pseudo&quot;</td><td>3</td></tr><tr><td>&quot;easy&quot;</td><td>[&quot;[&quot;, &quot;2&quot;, … &quot;]&quot;]</td><td>[&quot;brop&quot;, &quot;nu&quot;, … &quot;brcl&quot;]</td><td>&quot;smplrr&quot;</td><td>&quot;json&quot;</td><td>&quot;smplrr_json&quot;</td><td>9</td></tr><tr><td>&quot;normal&quot;</td><td>[&quot;say&quot;, &quot; &quot;, &quot;&quot;Hello world&quot;&quot;]</td><td>[&quot;kwio&quot;, &quot;ws&quot;, &quot;st&quot;]</td><td>&quot;hllwrld&quot;</td><td>&quot;natural&quot;</td><td>&quot;hllwrld_natural&quot;</td><td>3</td></tr><tr><td>&quot;normal&quot;</td><td>[&quot;puts&quot;, &quot; &quot;, &quot;&quot;Hello World&quot;&quot;]</td><td>[&quot;kwio&quot;, &quot;ws&quot;, &quot;st&quot;]</td><td>&quot;hllwrld&quot;</td><td>&quot;ruby&quot;</td><td>&quot;hllwrld_ruby&quot;</td><td>3</td></tr><tr><td>&quot;normal&quot;</td><td>[&quot;if&quot;, &quot; &quot;, … &quot;)&quot;]</td><td>[&quot;kwfl&quot;, &quot;ws&quot;, … &quot;brcl&quot;]</td><td>&quot;smplndnttb&quot;</td><td>&quot;pseudo&quot;</td><td>&quot;smplndnttb_pseudo&quot;</td><td>8</td></tr></tbody></table></div>"
      ],
      "text/plain": [
       "shape: (5, 7)\n",
       "┌────────────┬─────────────────┬─────────────────┬────────────┬─────────┬─────────────────┬────────┐\n",
       "│ difficulty ┆ tokens          ┆ tags            ┆ name       ┆ lang    ┆ id              ┆ length │\n",
       "│ ---        ┆ ---             ┆ ---             ┆ ---        ┆ ---     ┆ ---             ┆ ---    │\n",
       "│ str        ┆ list[str]       ┆ list[str]       ┆ str        ┆ str     ┆ str             ┆ u32    │\n",
       "╞════════════╪═════════════════╪═════════════════╪════════════╪═════════╪═════════════════╪════════╡\n",
       "│ easy       ┆ [\"x\", \"=\", \"1\"] ┆ [\"va\", \"opas\",  ┆ shrt       ┆ pseudo  ┆ shrt_pseudo     ┆ 3      │\n",
       "│            ┆                 ┆ \"nu\"]           ┆            ┆         ┆                 ┆        │\n",
       "│ easy       ┆ [\"[\", \"2\", …    ┆ [\"brop\", \"nu\",  ┆ smplrr     ┆ json    ┆ smplrr_json     ┆ 9      │\n",
       "│            ┆ \"]\"]            ┆ … \"brcl\"]       ┆            ┆         ┆                 ┆        │\n",
       "│ normal     ┆ [\"say\", \" \",    ┆ [\"kwio\", \"ws\",  ┆ hllwrld    ┆ natural ┆ hllwrld_natural ┆ 3      │\n",
       "│            ┆ \"\"Hello         ┆ \"st\"]           ┆            ┆         ┆                 ┆        │\n",
       "│            ┆ world\"\"]        ┆                 ┆            ┆         ┆                 ┆        │\n",
       "│ normal     ┆ [\"puts\", \" \",   ┆ [\"kwio\", \"ws\",  ┆ hllwrld    ┆ ruby    ┆ hllwrld_ruby    ┆ 3      │\n",
       "│            ┆ \"\"Hello         ┆ \"st\"]           ┆            ┆         ┆                 ┆        │\n",
       "│            ┆ World\"\"]        ┆                 ┆            ┆         ┆                 ┆        │\n",
       "│ normal     ┆ [\"if\", \" \", …   ┆ [\"kwfl\", \"ws\",  ┆ smplndnttb ┆ pseudo  ┆ smplndnttb_pseu ┆ 8      │\n",
       "│            ┆ \")\"]            ┆ … \"brcl\"]       ┆            ┆         ┆ do              ┆        │\n",
       "└────────────┴─────────────────┴─────────────────┴────────────┴─────────┴─────────────────┴────────┘"
      ]
     },
     "execution_count": 213,
     "metadata": {},
     "output_type": "execute_result"
    }
   ],
   "source": [
    "examples = util.load_examples_json(filter_lang=None)\n",
    "examples.head(5)"
   ]
  },
  {
   "cell_type": "markdown",
   "metadata": {},
   "source": [
    "## tokens\n"
   ]
  },
  {
   "cell_type": "code",
   "execution_count": 214,
   "metadata": {},
   "outputs": [
    {
     "data": {
      "text/html": [
       "<div><style>\n",
       ".dataframe > thead > tr,\n",
       ".dataframe > tbody > tr {\n",
       "  text-align: right;\n",
       "  white-space: pre-wrap;\n",
       "}\n",
       "</style>\n",
       "<small>shape: (1_256, 2)</small><table border=\"1\" class=\"dataframe\"><thead><tr><th>tokens</th><th>tokens_count</th></tr><tr><td>str</td><td>u32</td></tr></thead><tbody><tr><td>&quot; &quot;</td><td>1882</td></tr><tr><td>&quot;\n",
       "&quot;</td><td>587</td></tr><tr><td>&quot;)&quot;</td><td>548</td></tr><tr><td>&quot;(&quot;</td><td>548</td></tr><tr><td>&quot;=&quot;</td><td>324</td></tr><tr><td>&hellip;</td><td>&hellip;</td></tr><tr><td>&quot;&quot;&quot;&quot;Container&quot;&quot;&quot;&quot;</td><td>1</td></tr><tr><td>&quot;!&quot;</td><td>1</td></tr><tr><td>&quot;&nbsp;&nbsp;&nbsp;&nbsp;&nbsp;&nbsp;&nbsp;&nbsp;&nbsp;&nbsp;&nbsp;&nbsp;&nbsp;&quot;</td><td>1</td></tr><tr><td>&quot;&nbsp;&nbsp;&nbsp;&nbsp;&nbsp;&nbsp;&nbsp;&nbsp;&nbsp;&nbsp;&quot;</td><td>1</td></tr><tr><td>&quot;\t&quot;</td><td>1</td></tr></tbody></table></div>"
      ],
      "text/plain": [
       "shape: (1_256, 2)\n",
       "┌─────────────────┬──────────────┐\n",
       "│ tokens          ┆ tokens_count │\n",
       "│ ---             ┆ ---          │\n",
       "│ str             ┆ u32          │\n",
       "╞═════════════════╪══════════════╡\n",
       "│                 ┆ 1882         │\n",
       "│                 ┆ 587          │\n",
       "│                 ┆              │\n",
       "│ )               ┆ 548          │\n",
       "│ (               ┆ 548          │\n",
       "│ =               ┆ 324          │\n",
       "│ …               ┆ …            │\n",
       "│ \"\"\"Container\"\"\" ┆ 1            │\n",
       "│ !               ┆ 1            │\n",
       "│                 ┆ 1            │\n",
       "│                 ┆ 1            │\n",
       "│ \t               ┆ 1            │\n",
       "└─────────────────┴──────────────┘"
      ]
     },
     "execution_count": 214,
     "metadata": {},
     "output_type": "execute_result"
    }
   ],
   "source": [
    "token_counts = dttab.value_counts(examples[\"tokens\"].explode())\n",
    "token_counts"
   ]
  },
  {
   "cell_type": "markdown",
   "metadata": {},
   "source": [
    "## which tags can each token have?\n"
   ]
  },
  {
   "cell_type": "code",
   "execution_count": 215,
   "metadata": {},
   "outputs": [
    {
     "name": "stdout",
     "output_type": "stream",
     "text": [
      "found 1036 tokens with a single tag\n",
      "found 110 tokens with multiple tags\n"
     ]
    },
    {
     "data": {
      "text/html": [
       "<div><style>\n",
       ".dataframe > thead > tr,\n",
       ".dataframe > tbody > tr {\n",
       "  text-align: right;\n",
       "  white-space: pre-wrap;\n",
       "}\n",
       "</style>\n",
       "<small>shape: (10, 3)</small><table border=\"1\" class=\"dataframe\"><thead><tr><th>tokens</th><th>tags</th><th>tokens_count</th></tr><tr><td>str</td><td>str</td><td>u32</td></tr></thead><tbody><tr><td>&quot;:&quot;</td><td>&quot;sy&quot;</td><td>132</td></tr><tr><td>&quot;i&quot;</td><td>&quot;va&quot;</td><td>59</td></tr><tr><td>&quot;if&quot;</td><td>&quot;kwfl&quot;</td><td>47</td></tr><tr><td>&quot;return&quot;</td><td>&quot;kwfl&quot;</td><td>44</td></tr><tr><td>&quot;::&quot;</td><td>&quot;sy&quot;</td><td>42</td></tr><tr><td>&quot;for&quot;</td><td>&quot;kwfl&quot;</td><td>40</td></tr><tr><td>&quot;in&quot;</td><td>&quot;kwop&quot;</td><td>38</td></tr><tr><td>&quot;-&gt;&quot;</td><td>&quot;sy&quot;</td><td>37</td></tr><tr><td>&quot;==&quot;</td><td>&quot;opcm&quot;</td><td>33</td></tr><tr><td>&quot;import&quot;</td><td>&quot;kwim&quot;</td><td>32</td></tr></tbody></table></div>"
      ],
      "text/plain": [
       "shape: (10, 3)\n",
       "┌────────┬──────┬──────────────┐\n",
       "│ tokens ┆ tags ┆ tokens_count │\n",
       "│ ---    ┆ ---  ┆ ---          │\n",
       "│ str    ┆ str  ┆ u32          │\n",
       "╞════════╪══════╪══════════════╡\n",
       "│ :      ┆ sy   ┆ 132          │\n",
       "│ i      ┆ va   ┆ 59           │\n",
       "│ if     ┆ kwfl ┆ 47           │\n",
       "│ return ┆ kwfl ┆ 44           │\n",
       "│ ::     ┆ sy   ┆ 42           │\n",
       "│ for    ┆ kwfl ┆ 40           │\n",
       "│ in     ┆ kwop ┆ 38           │\n",
       "│ ->     ┆ sy   ┆ 37           │\n",
       "│ ==     ┆ opcm ┆ 33           │\n",
       "│ import ┆ kwim ┆ 32           │\n",
       "└────────┴──────┴──────────────┘"
      ]
     },
     "metadata": {},
     "output_type": "display_data"
    }
   ],
   "source": [
    "token_to_tags = (\n",
    "    examples.select(pl.col(\"tokens\", \"tags\").explode())\n",
    "    .group_by(\"tokens\")\n",
    "    .agg(pl.col(\"tags\").explode().unique())  # what tags can the token have?\n",
    ").join(token_counts, on=\"tokens\")\n",
    "\n",
    "single_tagged = (\n",
    "    token_to_tags.filter(pl.col(\"tags\").list.len() == 1)\n",
    "    .sort(\"tokens_count\", descending=True)\n",
    "    .with_columns(pl.col(\"tags\").list[0])\n",
    "    .filter(pl.col(\"tags\").is_in(text_process.DET_TAGS).not_())\n",
    ")  # exclude DET TAGS\n",
    "\n",
    "multi_tagged = token_to_tags.filter(pl.col(\"tags\").list.len() != 1).sort(\n",
    "    \"tokens_count\", descending=True\n",
    ")\n",
    "print(f\"found {len(single_tagged)} tokens with a single tag\")\n",
    "print(f\"found {len(multi_tagged)} tokens with multiple tags\")\n",
    "\n",
    "display(single_tagged.head(10))\n",
    "# display(multi_tagged.head(10))\n"
   ]
  },
  {
   "cell_type": "markdown",
   "metadata": {},
   "source": [
    "## which tokens can each tag have?\n"
   ]
  },
  {
   "cell_type": "code",
   "execution_count": 216,
   "metadata": {},
   "outputs": [
    {
     "data": {
      "text/html": [
       "<div><style>\n",
       ".dataframe > thead > tr,\n",
       ".dataframe > tbody > tr {\n",
       "  text-align: right;\n",
       "  white-space: pre-wrap;\n",
       "}\n",
       "</style>\n",
       "<small>shape: (10, 3)</small><table border=\"1\" class=\"dataframe\"><thead><tr><th>tags</th><th>tokens</th><th>tags_count</th></tr><tr><td>str</td><td>list[str]</td><td>u32</td></tr></thead><tbody><tr><td>&quot;an&quot;</td><td>[&quot;@override&quot;, &quot;&#x27;a&quot;]</td><td>4</td></tr><tr><td>&quot;coml&quot;</td><td>[&quot;/**\n",
       " * Double a number\n",
       " *\n",
       " * @param {number} x The number\n",
       " * @return {number} x times two\n",
       " */&quot;, &quot;/**\n",
       " * Get thse thing\n",
       " */&quot;]</td><td>2</td></tr><tr><td>&quot;kwva&quot;</td><td>[&quot;val&quot;, &quot;const&quot;, … &quot;let&quot;]</td><td>46</td></tr><tr><td>&quot;shfl&quot;</td><td>[&quot;-nr&quot;, &quot;--inodes&quot;, … &quot;-d&quot;]</td><td>4</td></tr><tr><td>&quot;kwfn&quot;</td><td>[&quot;def&quot;, &quot;func&quot;, … &quot;function&quot;]</td><td>38</td></tr><tr><td>&quot;bo&quot;</td><td>[&quot;False&quot;, &quot;false&quot;, … &quot;true&quot;]</td><td>35</td></tr><tr><td>&quot;opas&quot;</td><td>[&quot;=&quot;, &quot;*=&quot;, … &quot;&lt;-&quot;]</td><td>351</td></tr><tr><td>&quot;kwim&quot;</td><td>[&quot;as&quot;, &quot;import&quot;, … &quot;use&quot;]</td><td>73</td></tr><tr><td>&quot;kwde&quot;</td><td>[&quot;mod&quot;, &quot;php&quot;, … &quot;class&quot;]</td><td>20</td></tr><tr><td>&quot;coil&quot;</td><td>[&quot;// std::ops::RangeInclusive&quot;, &quot;// std::ops::RangeToInclusive&quot;, … &quot;// same as `const []`&quot;]</td><td>7</td></tr></tbody></table></div>"
      ],
      "text/plain": [
       "shape: (10, 3)\n",
       "┌──────┬─────────────────────────────────┬────────────┐\n",
       "│ tags ┆ tokens                          ┆ tags_count │\n",
       "│ ---  ┆ ---                             ┆ ---        │\n",
       "│ str  ┆ list[str]                       ┆ u32        │\n",
       "╞══════╪═════════════════════════════════╪════════════╡\n",
       "│ an   ┆ [\"@override\", \"'a\"]             ┆ 4          │\n",
       "│ coml ┆ [\"/**                           ┆ 2          │\n",
       "│      ┆  * Double a number              ┆            │\n",
       "│      ┆  *                              ┆            │\n",
       "│      ┆  *…                             ┆            │\n",
       "│ kwva ┆ [\"val\", \"const\", … \"let\"]       ┆ 46         │\n",
       "│ shfl ┆ [\"-nr\", \"--inodes\", … \"-d\"]     ┆ 4          │\n",
       "│ kwfn ┆ [\"def\", \"func\", … \"function\"]   ┆ 38         │\n",
       "│ bo   ┆ [\"False\", \"false\", … \"true\"]    ┆ 35         │\n",
       "│ opas ┆ [\"=\", \"*=\", … \"<-\"]             ┆ 351        │\n",
       "│ kwim ┆ [\"as\", \"import\", … \"use\"]       ┆ 73         │\n",
       "│ kwde ┆ [\"mod\", \"php\", … \"class\"]       ┆ 20         │\n",
       "│ coil ┆ [\"// std::ops::RangeInclusive\"… ┆ 7          │\n",
       "└──────┴─────────────────────────────────┴────────────┘"
      ]
     },
     "metadata": {},
     "output_type": "display_data"
    }
   ],
   "source": [
    "tag_counts = dttab.value_counts(examples[\"tags\"].explode())\n",
    "\n",
    "tags_to_tokens = (\n",
    "    (\n",
    "        examples.select(pl.col(\"tokens\", \"tags\").explode())\n",
    "        .group_by(\"tags\")\n",
    "        .agg(pl.col(\"tokens\").explode().unique())  # what tags can the token have?\n",
    "    )\n",
    "    .join(tag_counts, on=\"tags\")\n",
    "    .filter(pl.col(\"tags\").is_in(text_process.DET_TAGS).not_())\n",
    "    .sort(pl.col(\"tokens\").list.len())\n",
    ")\n",
    "display(tags_to_tokens.head(10))"
   ]
  },
  {
   "cell_type": "markdown",
   "metadata": {},
   "source": [
    "## specific examples\n"
   ]
  },
  {
   "cell_type": "code",
   "execution_count": 217,
   "metadata": {},
   "outputs": [
    {
     "data": {
      "text/html": [
       "<div><style>\n",
       ".dataframe > thead > tr,\n",
       ".dataframe > tbody > tr {\n",
       "  text-align: right;\n",
       "  white-space: pre-wrap;\n",
       "}\n",
       "</style>\n",
       "<small>shape: (1, 3)</small><table border=\"1\" class=\"dataframe\"><thead><tr><th>tokens</th><th>tags</th><th>tokens_count</th></tr><tr><td>str</td><td>list[str]</td><td>u32</td></tr></thead><tbody><tr><td>&quot;as&quot;</td><td>[&quot;kwop&quot;, &quot;kwim&quot;]</td><td>15</td></tr></tbody></table></div>"
      ],
      "text/plain": [
       "shape: (1, 3)\n",
       "┌────────┬──────────────────┬──────────────┐\n",
       "│ tokens ┆ tags             ┆ tokens_count │\n",
       "│ ---    ┆ ---              ┆ ---          │\n",
       "│ str    ┆ list[str]        ┆ u32          │\n",
       "╞════════╪══════════════════╪══════════════╡\n",
       "│ as     ┆ [\"kwop\", \"kwim\"] ┆ 15           │\n",
       "└────────┴──────────────────┴──────────────┘"
      ]
     },
     "execution_count": 217,
     "metadata": {},
     "output_type": "execute_result"
    }
   ],
   "source": [
    "token_to_tags.filter(pl.col(\"tokens\") == \"as\")"
   ]
  },
  {
   "cell_type": "code",
   "execution_count": 218,
   "metadata": {},
   "outputs": [
    {
     "data": {
      "text/plain": [
       "[['int',\n",
       "  'long',\n",
       "  'float',\n",
       "  'string',\n",
       "  'list',\n",
       "  'u64',\n",
       "  'code',\n",
       "  'char',\n",
       "  '_',\n",
       "  'bool',\n",
       "  'usize',\n",
       "  'div',\n",
       "  'tuple',\n",
       "  'pre',\n",
       "  'void',\n",
       "  'i32',\n",
       "  'double',\n",
       "  'str']]"
      ]
     },
     "execution_count": 218,
     "metadata": {},
     "output_type": "execute_result"
    }
   ],
   "source": [
    "tags_to_tokens.filter(pl.col(\"tags\") == \"kwty\")[\"tokens\"].to_list()"
   ]
  },
  {
   "cell_type": "markdown",
   "metadata": {},
   "source": [
    "## search for a token\n"
   ]
  },
  {
   "cell_type": "code",
   "execution_count": 219,
   "metadata": {},
   "outputs": [
    {
     "name": "stdout",
     "output_type": "stream",
     "text": [
      "\n",
      "cntxmn_python ------------------------------\n",
      ">>> with mymod.my_contextmanager():\n",
      "...     a = mymod.submod.Constructor(mymod.get(33))\n",
      "['sy', 'ws', 'kwfl', 'ws', 'mo', 'sy', 'fnas', 'brop', 'brcl', 'sy', 'nl', 'sy', 'ws', 'va', 'ws', 'opas', 'ws', 'mo', 'sy', 'mo', 'sy', 'clco', 'brop', 'mo', 'sy', 'fnas', 'brop', 'nu', 'brcl', 'brcl']\n"
     ]
    }
   ],
   "source": [
    "for ex in examples.filter(pl.col(\"tokens\").list.contains(\"Constructor\")).iter_rows(\n",
    "    named=True\n",
    "):\n",
    "    print(\"\\n\" + ex[\"id\"], \"-\" * 30)\n",
    "    print(\"\".join(ex[\"tokens\"]))\n",
    "    print(ex[\"tags\"])"
   ]
  },
  {
   "cell_type": "markdown",
   "metadata": {},
   "source": [
    "## duplicates\n"
   ]
  },
  {
   "cell_type": "code",
   "execution_count": 220,
   "metadata": {},
   "outputs": [
    {
     "name": "stdout",
     "output_type": "stream",
     "text": [
      "Rows: 296\n",
      "Columns: 7\n",
      "$ difficulty       <str> 'easy', 'easy', 'normal', 'normal', 'normal', 'normal', 'easy', 'normal', 'normal', 'normal'\n",
      "$ tokens     <list[str]> ['x', '=', '1'], ['[', '2', ',', ' ', '3', ',', ' ', '4', ']'], ['say', ' ', '\"Hello world\"'], ['puts', ' ', '\"Hello World\"'], ['if', ' ', 'true', '\\n', '\\t', 'something', '(', ')'], ['if', ' ', 'true', '\\n', '  ', 'something', '(', ')'], ['x', ' ', '=', ' ', '337', '\\n', 'y', ' ', '=', ' ', '99', '\\n', 'z', ' ', '=', ' ', 'x', ' ', '+', ' ', 'y'], ['var', ' ', 'zz', ',', ' ', 'xy', ' ', 'int', ' ', '=', ' ', '11', ',', ' ', '33'], ['if', ' ', 'x', ' ', '==', ' ', '5', ':', '\\n', '    ', 'print', '(', '\"five\"', ')'], ['while', ' ', 'True', ':', '\\n', '    ', 'print', '(', '\"loop!\"', ')']\n",
      "$ tags       <list[str]> ['va', 'opas', 'nu'], ['brop', 'nu', 'pu', 'ws', 'nu', 'pu', 'ws', 'nu', 'brcl'], ['kwio', 'ws', 'st'], ['kwio', 'ws', 'st'], ['kwfl', 'ws', 'bo', 'nl', 'id', 'fnfr', 'brop', 'brcl'], ['kwfl', 'ws', 'bo', 'nl', 'id', 'fnfr', 'brop', 'brcl'], ['va', 'ws', 'opas', 'ws', 'nu', 'nl', 'va', 'ws', 'opas', 'ws', 'nu', 'nl', 'va', 'ws', 'opas', 'ws', 'va', 'ws', 'opbi', 'ws', 'va'], ['kwva', 'ws', 'va', 'pu', 'ws', 'va', 'ws', 'kwty', 'ws', 'opas', 'ws', 'nu', 'pu', 'ws', 'nu'], ['kwfl', 'ws', 'va', 'ws', 'opcm', 'ws', 'nu', 'sy', 'nl', 'id', 'fnfr', 'brop', 'st', 'brcl'], ['kwfl', 'ws', 'bo', 'sy', 'nl', 'id', 'fnfr', 'brop', 'st', 'brcl']\n",
      "$ name             <str> 'shrt', 'smplrr', 'hllwrld', 'hllwrld', 'smplndnttb', 'smplndntsp', 'xzplsn', 'ntvr', 'ex05', 'nflp'\n",
      "$ lang             <str> 'pseudo', 'json', 'natural', 'ruby', 'pseudo', 'pseudo', 'pseudo', 'go', 'python', 'python'\n",
      "$ id               <str> 'shrt_pseudo', 'smplrr_json', 'hllwrld_natural', 'hllwrld_ruby', 'smplndnttb_pseudo', 'smplndntsp_pseudo', 'xzplsn_pseudo', 'ntvr_go', 'ex05_python', 'nflp_python'\n",
      "$ length           <u32> 3, 9, 3, 3, 8, 8, 21, 15, 14, 10\n",
      "\n"
     ]
    }
   ],
   "source": [
    "examples.glimpse()"
   ]
  },
  {
   "cell_type": "code",
   "execution_count": 221,
   "metadata": {},
   "outputs": [
    {
     "name": "stdout",
     "output_type": "stream",
     "text": [
      "exact same tokens:\n"
     ]
    },
    {
     "data": {
      "text/html": [
       "<div><style>\n",
       ".dataframe > thead > tr,\n",
       ".dataframe > tbody > tr {\n",
       "  text-align: right;\n",
       "  white-space: pre-wrap;\n",
       "}\n",
       "</style>\n",
       "<small>shape: (0, 3)</small><table border=\"1\" class=\"dataframe\"><thead><tr><th>tokens</th><th>id</th><th>len</th></tr><tr><td>list[str]</td><td>list[str]</td><td>u32</td></tr></thead><tbody></tbody></table></div>"
      ],
      "text/plain": [
       "shape: (0, 3)\n",
       "┌───────────┬───────────┬─────┐\n",
       "│ tokens    ┆ id        ┆ len │\n",
       "│ ---       ┆ ---       ┆ --- │\n",
       "│ list[str] ┆ list[str] ┆ u32 │\n",
       "╞═══════════╪═══════════╪═════╡\n",
       "└───────────┴───────────┴─────┘"
      ]
     },
     "metadata": {},
     "output_type": "display_data"
    },
    {
     "name": "stdout",
     "output_type": "stream",
     "text": [
      "exact same tags:\n"
     ]
    },
    {
     "data": {
      "text/html": [
       "<div><style>\n",
       ".dataframe > thead > tr,\n",
       ".dataframe > tbody > tr {\n",
       "  text-align: right;\n",
       "  white-space: pre-wrap;\n",
       "}\n",
       "</style>\n",
       "<small>shape: (4, 3)</small><table border=\"1\" class=\"dataframe\"><thead><tr><th>tags</th><th>id</th><th>len</th></tr><tr><td>list[str]</td><td>list[str]</td><td>u32</td></tr></thead><tbody><tr><td>[&quot;kwio&quot;, &quot;ws&quot;, &quot;st&quot;]</td><td>[&quot;hllwrld_natural&quot;, &quot;hllwrld_ruby&quot;, &quot;hlwrldd_bash&quot;]</td><td>3</td></tr><tr><td>[&quot;kwfl&quot;, &quot;ws&quot;, … &quot;brcl&quot;]</td><td>[&quot;fhs_php&quot;, &quot;rqsths_php&quot;]</td><td>2</td></tr><tr><td>[&quot;kwfl&quot;, &quot;ws&quot;, … &quot;brcl&quot;]</td><td>[&quot;smplndnttb_pseudo&quot;, &quot;smplndntsp_pseudo&quot;]</td><td>2</td></tr><tr><td>[&quot;kwim&quot;, &quot;ws&quot;, … &quot;brcl&quot;]</td><td>[&quot;tldldxmplmprt_python&quot;, &quot;crssmpr_python&quot;]</td><td>2</td></tr></tbody></table></div>"
      ],
      "text/plain": [
       "shape: (4, 3)\n",
       "┌──────────────────────────┬─────────────────────────────────┬─────┐\n",
       "│ tags                     ┆ id                              ┆ len │\n",
       "│ ---                      ┆ ---                             ┆ --- │\n",
       "│ list[str]                ┆ list[str]                       ┆ u32 │\n",
       "╞══════════════════════════╪═════════════════════════════════╪═════╡\n",
       "│ [\"kwio\", \"ws\", \"st\"]     ┆ [\"hllwrld_natural\", \"hllwrld_r… ┆ 3   │\n",
       "│ [\"kwfl\", \"ws\", … \"brcl\"] ┆ [\"fhs_php\", \"rqsths_php\"]       ┆ 2   │\n",
       "│ [\"kwfl\", \"ws\", … \"brcl\"] ┆ [\"smplndnttb_pseudo\", \"smplndn… ┆ 2   │\n",
       "│ [\"kwim\", \"ws\", … \"brcl\"] ┆ [\"tldldxmplmprt_python\", \"crss… ┆ 2   │\n",
       "└──────────────────────────┴─────────────────────────────────┴─────┘"
      ]
     },
     "metadata": {},
     "output_type": "display_data"
    },
    {
     "data": {
      "text/plain": [
       "['smplndnttb_pseudo',\n",
       " 'smplndntsp_pseudo',\n",
       " 'tldldxmplmprt_python',\n",
       " 'crssmpr_python',\n",
       " 'hllwrld_natural',\n",
       " 'hllwrld_ruby',\n",
       " 'hlwrldd_bash',\n",
       " 'fhs_php',\n",
       " 'rqsths_php']"
      ]
     },
     "metadata": {},
     "output_type": "display_data"
    }
   ],
   "source": [
    "print(\"exact same tokens:\")\n",
    "display(examples.group_by(\"tokens\").agg(\"id\", pl.len()).filter(pl.col(\"len\") > 1))\n",
    "print(\"exact same tags:\")\n",
    "display(examples.group_by(\"tags\").agg(\"id\", pl.len()).filter(pl.col(\"len\") > 1))\n",
    "display(\n",
    "    examples.group_by(\"tags\")\n",
    "    .agg(\"id\", pl.len())\n",
    "    .filter(pl.col(\"len\") > 1)[\"id\"]\n",
    "    .explode()\n",
    "    .to_list()\n",
    ")"
   ]
  },
  {
   "cell_type": "markdown",
   "metadata": {},
   "source": [
    "## finding (tag) sequences\n"
   ]
  },
  {
   "cell_type": "code",
   "execution_count": 222,
   "metadata": {},
   "outputs": [
    {
     "name": "stdout",
     "output_type": "stream",
     "text": [
      "found 3 matches\n",
      "\n",
      "0: fntr_python ------------------------------\n",
      "def make_item_list(ids: Iterable[int]) -> list[str]:\n",
      "    return [f\"item {x}\" for x in ids]\n",
      "|kwfn|ws|fnfr|brop|pa|sy|ws|cl|brop|kwty|brcl|brcl|ws|sy|ws|kwty|brop|kwty|brcl|sy|nl|id|kwfl|ws|brop|opun|st|ws|kwfl|ws|va|ws|kwop|ws|pa|brcl|\n",
      "True\n",
      "\n",
      "1: gntr_python ------------------------------\n",
      "def gen(n: int) -> Iterator[int]:\n",
      "    i = 0\n",
      "    while i < n:\n",
      "        yield i\n",
      "        i += 1\n",
      "|kwfn|ws|fnfr|brop|pa|sy|ws|kwty|brcl|ws|sy|ws|cl|brop|kwty|brcl|sy|nl|id|va|ws|opas|ws|nu|nl|id|kwfl|ws|va|ws|opcm|ws|pa|sy|nl|id|kwfl|ws|va|nl|id|va|ws|opas|ws|nu|\n",
      "True\n",
      "\n",
      "2: trnsfmcnst_python ------------------------------\n",
      "class TransformerTagger(nn.Transformer):\n",
      "    \"\"\"Container\"\"\"\n",
      "\n",
      "    def __init__(self, ntoken, n_embd, nhead):\n",
      "        super(TransformerTagger, self).__init__(d_model=n_embd, nhead=nhead)\n",
      "        # ...\n",
      "|kwde|ws|cl|brop|mo|sy|cl|brcl|sy|nl|id|st|nl|id|kwfn|ws|fnfr|brop|pa|pu|ws|pa|pu|ws|pa|pu|ws|pa|brcl|sy|nl|id|fnfr|brop|cl|pu|ws|pa|brcl|sy|fnme|brop|pa|opas|pa|pu|ws|pa|opas|pa|brcl|nl|id|cofl|\n",
      "True\n"
     ]
    }
   ],
   "source": [
    "query = \"|cl|brop\"\n",
    "\n",
    "\n",
    "res = examples.with_columns(\n",
    "    (\"|\" + pl.col(\"tags\").list.join(\"|\") + \"|\").alias(\"tagstr\")\n",
    ").filter(pl.col(\"tagstr\").str.contains(query, literal=True))\n",
    "print(f\"found {len(res)} matches\")\n",
    "for i, ex in enumerate(res.iter_rows(named=True)):\n",
    "    print(f\"\\n{i}: \" + ex[\"id\"], \"-\" * 30)\n",
    "    print(\"\".join(ex[\"tokens\"]))\n",
    "    print(ex[\"tagstr\"])\n",
    "    print(query in ex[\"tagstr\"])"
   ]
  },
  {
   "cell_type": "markdown",
   "metadata": {},
   "source": [
    "## Language specific rules!\n"
   ]
  },
  {
   "cell_type": "code",
   "execution_count": 223,
   "metadata": {},
   "outputs": [],
   "source": [
    "# in java, \"System\" is a class"
   ]
  }
 ],
 "metadata": {
  "kernelspec": {
   "display_name": "_my_python",
   "language": "python",
   "name": "python3"
  },
  "language_info": {
   "codemirror_mode": {
    "name": "ipython",
    "version": 3
   },
   "file_extension": ".py",
   "mimetype": "text/x-python",
   "name": "python",
   "nbconvert_exporter": "python",
   "pygments_lexer": "ipython3",
   "version": "3.12.7"
  }
 },
 "nbformat": 4,
 "nbformat_minor": 2
}
