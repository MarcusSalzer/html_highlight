{
 "cells": [
  {
   "cell_type": "code",
   "execution_count": null,
   "metadata": {},
   "outputs": [],
   "source": [
    "import sys\n",
    "from importlib import reload\n",
    "import numpy as np\n",
    "\n",
    "import polars as pl\n",
    "\n",
    "sys.path.append(\"..\")\n",
    "\n",
    "import src.util as util\n",
    "from src import text_process\n",
    "from src import _constants as c\n",
    "from src import data_lint\n",
    "\n",
    "reload(util)\n",
    "reload(text_process)\n",
    "# set_plotly_template()"
   ]
  },
  {
   "cell_type": "code",
   "execution_count": null,
   "metadata": {},
   "outputs": [],
   "source": [
    "from pathlib import Path\n",
    "\n",
    "\n",
    "examples = util.load_dataset_parallel(\n",
    "    Path(\"../data/dataset.ndjson\"),\n",
    "    # filter_lang=[\"rust\"],\n",
    ")\n",
    "print(f\"loaded {len(examples)} examples\")\n",
    "df = util.dataset_to_df(examples)\n",
    "df.head()"
   ]
  },
  {
   "cell_type": "code",
   "execution_count": null,
   "metadata": {},
   "outputs": [],
   "source": [
    "reload(data_lint)\n",
    "res = data_lint.lint_data_df(df)\n",
    "display(res)\n",
    "res.get_step_report(1)"
   ]
  },
  {
   "cell_type": "markdown",
   "metadata": {},
   "source": [
    "## tokens\n"
   ]
  },
  {
   "cell_type": "code",
   "execution_count": null,
   "metadata": {},
   "outputs": [],
   "source": [
    "token_counts = util.value_counts(df[\"tokens\"].explode())\n",
    "token_counts"
   ]
  },
  {
   "cell_type": "markdown",
   "metadata": {},
   "source": [
    "## which tags can each token have?\n"
   ]
  },
  {
   "cell_type": "code",
   "execution_count": null,
   "metadata": {},
   "outputs": [],
   "source": [
    "token_to_tags = (\n",
    "    df.select(pl.col(\"tokens\", \"tags\").explode())\n",
    "    .group_by(\"tokens\")\n",
    "    .agg(pl.col(\"tags\").explode().unique())  # what tags can the token have?\n",
    ").join(token_counts, on=\"tokens\")\n",
    "\n",
    "single_tagged = (\n",
    "    token_to_tags.filter(pl.col(\"tags\").list.len() == 1)\n",
    "    .sort(\"tokens_count\", descending=True)\n",
    "    .with_columns(pl.col(\"tags\").list[0])\n",
    "    .filter(pl.col(\"tags\").is_in(c.DET_TAGS).not_())\n",
    ")  # exclude DET TAGS\n",
    "\n",
    "multi_tagged = token_to_tags.filter(pl.col(\"tags\").list.len() != 1).sort(\n",
    "    \"tokens_count\", descending=True\n",
    ")\n",
    "print(f\"found {len(single_tagged)} tokens with a single tag\")\n",
    "\n",
    "display(single_tagged.head(10))\n",
    "print(f\"found {len(multi_tagged)} tokens with multiple tags\")\n",
    "display(multi_tagged.head(10))\n"
   ]
  },
  {
   "cell_type": "markdown",
   "metadata": {},
   "source": [
    "## which tokens can each tag have?\n"
   ]
  },
  {
   "cell_type": "code",
   "execution_count": null,
   "metadata": {},
   "outputs": [],
   "source": [
    "tag_counts = util.value_counts(df[\"tags\"].explode())\n",
    "\n",
    "tags_to_tokens = (\n",
    "    (\n",
    "        df.select(pl.col(\"tokens\", \"tags\").explode())\n",
    "        .group_by(\"tags\")\n",
    "        .agg(pl.col(\"tokens\").explode().unique())  # what tags can the token have?\n",
    "    )\n",
    "    .join(tag_counts, on=\"tags\")\n",
    "    .filter(pl.col(\"tags\").is_in(c.DET_TAGS).not_())\n",
    "    .sort(pl.col(\"tokens\").list.len())\n",
    ")\n",
    "display(tags_to_tokens.head(10))"
   ]
  },
  {
   "cell_type": "markdown",
   "metadata": {},
   "source": [
    "## specific examples\n"
   ]
  },
  {
   "cell_type": "code",
   "execution_count": null,
   "metadata": {},
   "outputs": [],
   "source": [
    "token_to_tags.filter(pl.col(\"tokens\") == \"f\")"
   ]
  },
  {
   "cell_type": "code",
   "execution_count": null,
   "metadata": {},
   "outputs": [],
   "source": [
    "tags_to_tokens.filter(pl.col(\"tags\") == \"kwty\")[\"tokens\"].to_list()"
   ]
  },
  {
   "cell_type": "markdown",
   "metadata": {},
   "source": [
    "## search for a token\n"
   ]
  },
  {
   "cell_type": "code",
   "execution_count": null,
   "metadata": {},
   "outputs": [],
   "source": [
    "for ex in df.filter(pl.col(\"tokens\").list.contains(\"implements\")).iter_rows(named=True):\n",
    "    print(\"\\n\" + ex[\"name\"], \"-\" * 30)\n",
    "    print(\"\".join(ex[\"tokens\"]))\n",
    "    print(ex[\"tags\"])"
   ]
  },
  {
   "cell_type": "markdown",
   "metadata": {},
   "source": [
    "## duplicates\n"
   ]
  },
  {
   "cell_type": "code",
   "execution_count": null,
   "metadata": {},
   "outputs": [],
   "source": [
    "df.glimpse()"
   ]
  },
  {
   "cell_type": "code",
   "execution_count": null,
   "metadata": {},
   "outputs": [],
   "source": [
    "print(\"exact same tokens:\")\n",
    "display(df.group_by(\"tokens\").agg(\"id\", pl.len()).filter(pl.col(\"len\") > 1))\n",
    "print(\"exact same tags:\")\n",
    "display(df.group_by(\"tags\").agg(\"id\", pl.len()).filter(pl.col(\"len\") > 1))\n",
    "\n",
    "ids_same_tags = (\n",
    "    df.group_by(\"tags\")\n",
    "    .agg(\"id\", pl.len())\n",
    "    .filter(pl.col(\"len\") > 1)[\"id\"]\n",
    "    .explode()\n",
    "    .to_list()\n",
    ")"
   ]
  },
  {
   "cell_type": "markdown",
   "metadata": {},
   "source": [
    "## finding (tag) sequences\n"
   ]
  },
  {
   "cell_type": "code",
   "execution_count": null,
   "metadata": {},
   "outputs": [],
   "source": [
    "query = \"|cl|brop\"\n",
    "\n",
    "\n",
    "res = df.with_columns(\n",
    "    (\"|\" + pl.col(\"tags\").list.join(\"|\") + \"|\").alias(\"tagstr\")\n",
    ").filter(pl.col(\"tagstr\").str.contains(query, literal=True))\n",
    "print(f\"found {len(res)} matches\")\n",
    "for i, ex in enumerate(res.iter_rows(named=True)):\n",
    "    print(f\"\\n{i}: \" + ex[\"id\"], \"-\" * 30)\n",
    "    print(\"\".join(ex[\"tokens\"]))\n",
    "    print(ex[\"tagstr\"])\n",
    "    print(query in ex[\"tagstr\"])"
   ]
  }
 ],
 "metadata": {
  "kernelspec": {
   "display_name": "mango",
   "language": "python",
   "name": "python3"
  },
  "language_info": {
   "codemirror_mode": {
    "name": "ipython",
    "version": 3
   },
   "file_extension": ".py",
   "mimetype": "text/x-python",
   "name": "python",
   "nbconvert_exporter": "python",
   "pygments_lexer": "ipython3",
   "version": "3.13.3"
  }
 },
 "nbformat": 4,
 "nbformat_minor": 2
}
