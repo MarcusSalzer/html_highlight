{
 "cells": [
  {
   "cell_type": "code",
   "execution_count": null,
   "metadata": {},
   "outputs": [],
   "source": [
    "import sys\n",
    "from importlib import reload\n",
    "import numpy as np\n",
    "\n",
    "import polars as pl\n",
    "from datatools import plotting as dtplot\n",
    "from datatools import tabular as dttab\n",
    "\n",
    "sys.path.append(\"..\")\n",
    "\n",
    "import src.util as util\n",
    "from src import text_process\n",
    "\n",
    "reload(util)\n",
    "reload(text_process)\n",
    "dtplot.set_plotly_template()"
   ]
  },
  {
   "cell_type": "code",
   "execution_count": 3,
   "metadata": {},
   "outputs": [
    {
     "name": "stdout",
     "output_type": "stream",
     "text": [
      "Loaded 15 examples\n",
      "No duplicates found :)\n"
     ]
    },
    {
     "data": {
      "text/html": [
       "<div><style>\n",
       ".dataframe > thead > tr,\n",
       ".dataframe > tbody > tr {\n",
       "  text-align: right;\n",
       "  white-space: pre-wrap;\n",
       "}\n",
       "</style>\n",
       "<small>shape: (5, 7)</small><table border=\"1\" class=\"dataframe\"><thead><tr><th>difficulty</th><th>tokens</th><th>tags</th><th>name</th><th>lang</th><th>id</th><th>length</th></tr><tr><td>str</td><td>list[str]</td><td>list[str]</td><td>str</td><td>str</td><td>str</td><td>u32</td></tr></thead><tbody><tr><td>&quot;normal&quot;</td><td>[&quot;pub&quot;, &quot; &quot;, … &quot;;&quot;]</td><td>[&quot;kwmo&quot;, &quot;ws&quot;, … &quot;pu&quot;]</td><td>&quot;lbrsfl&quot;</td><td>&quot;rust&quot;</td><td>&quot;lbrsfl_rust&quot;</td><td>20</td></tr><tr><td>&quot;normal&quot;</td><td>[&quot;let&quot;, &quot; &quot;, … &quot;;&quot;]</td><td>[&quot;kwva&quot;, &quot;ws&quot;, … &quot;pu&quot;]</td><td>&quot;prsbgnt&quot;</td><td>&quot;rust&quot;</td><td>&quot;prsbgnt_rust&quot;</td><td>13</td></tr><tr><td>&quot;ambiguous&quot;</td><td>[&quot;use&quot;, &quot; &quot;, … &quot;;&quot;]</td><td>[&quot;kwim&quot;, &quot;ws&quot;, … &quot;pu&quot;]</td><td>&quot;sstmnts&quot;</td><td>&quot;rust&quot;</td><td>&quot;sstmnts_rust&quot;</td><td>28</td></tr><tr><td>&quot;ambiguous&quot;</td><td>[&quot;use&quot;, &quot; &quot;, … &quot;;&quot;]</td><td>[&quot;kwim&quot;, &quot;ws&quot;, … &quot;pu&quot;]</td><td>&quot;mprtfns&quot;</td><td>&quot;rust&quot;</td><td>&quot;mprtfns_rust&quot;</td><td>20</td></tr><tr><td>&quot;normal&quot;</td><td>[&quot;// Move to the next pivot row&quot;, &quot;\n",
       "&quot;, … &quot;}&quot;]</td><td>[&quot;cofl&quot;, &quot;nl&quot;, … &quot;brcl&quot;]</td><td>&quot;stpssrwlp&quot;</td><td>&quot;rust&quot;</td><td>&quot;stpssrwlp_rust&quot;</td><td>26</td></tr></tbody></table></div>"
      ],
      "text/plain": [
       "shape: (5, 7)\n",
       "┌────────────┬────────────────────┬───────────────────┬───────────┬──────┬────────────────┬────────┐\n",
       "│ difficulty ┆ tokens             ┆ tags              ┆ name      ┆ lang ┆ id             ┆ length │\n",
       "│ ---        ┆ ---                ┆ ---               ┆ ---       ┆ ---  ┆ ---            ┆ ---    │\n",
       "│ str        ┆ list[str]          ┆ list[str]         ┆ str       ┆ str  ┆ str            ┆ u32    │\n",
       "╞════════════╪════════════════════╪═══════════════════╪═══════════╪══════╪════════════════╪════════╡\n",
       "│ normal     ┆ [\"pub\", \" \", …     ┆ [\"kwmo\", \"ws\", …  ┆ lbrsfl    ┆ rust ┆ lbrsfl_rust    ┆ 20     │\n",
       "│            ┆ \";\"]               ┆ \"pu\"]             ┆           ┆      ┆                ┆        │\n",
       "│ normal     ┆ [\"let\", \" \", …     ┆ [\"kwva\", \"ws\", …  ┆ prsbgnt   ┆ rust ┆ prsbgnt_rust   ┆ 13     │\n",
       "│            ┆ \";\"]               ┆ \"pu\"]             ┆           ┆      ┆                ┆        │\n",
       "│ ambiguous  ┆ [\"use\", \" \", …     ┆ [\"kwim\", \"ws\", …  ┆ sstmnts   ┆ rust ┆ sstmnts_rust   ┆ 28     │\n",
       "│            ┆ \";\"]               ┆ \"pu\"]             ┆           ┆      ┆                ┆        │\n",
       "│ ambiguous  ┆ [\"use\", \" \", …     ┆ [\"kwim\", \"ws\", …  ┆ mprtfns   ┆ rust ┆ mprtfns_rust   ┆ 20     │\n",
       "│            ┆ \";\"]               ┆ \"pu\"]             ┆           ┆      ┆                ┆        │\n",
       "│ normal     ┆ [\"// Move to the   ┆ [\"cofl\", \"nl\", …  ┆ stpssrwlp ┆ rust ┆ stpssrwlp_rust ┆ 26     │\n",
       "│            ┆ next pivot ro…     ┆ \"brcl\"]           ┆           ┆      ┆                ┆        │\n",
       "└────────────┴────────────────────┴───────────────────┴───────────┴──────┴────────────────┴────────┘"
      ]
     },
     "execution_count": 3,
     "metadata": {},
     "output_type": "execute_result"
    }
   ],
   "source": [
    "examples = util.load_examples_json(filter_lang=[\"rust\"])\n",
    "examples.head(5)"
   ]
  },
  {
   "cell_type": "markdown",
   "metadata": {},
   "source": [
    "## tokens\n"
   ]
  },
  {
   "cell_type": "code",
   "execution_count": 4,
   "metadata": {},
   "outputs": [
    {
     "data": {
      "text/html": [
       "<div><style>\n",
       ".dataframe > thead > tr,\n",
       ".dataframe > tbody > tr {\n",
       "  text-align: right;\n",
       "  white-space: pre-wrap;\n",
       "}\n",
       "</style>\n",
       "<small>shape: (126, 2)</small><table border=\"1\" class=\"dataframe\"><thead><tr><th>tokens</th><th>tokens_count</th></tr><tr><td>str</td><td>u32</td></tr></thead><tbody><tr><td>&quot; &quot;</td><td>109</td></tr><tr><td>&quot;\n",
       "&quot;</td><td>32</td></tr><tr><td>&quot;;&quot;</td><td>22</td></tr><tr><td>&quot;)&quot;</td><td>22</td></tr><tr><td>&quot;(&quot;</td><td>22</td></tr><tr><td>&hellip;</td><td>&hellip;</td></tr><tr><td>&quot;// Move to the next pivot row&quot;</td><td>1</td></tr><tr><td>&quot;+=&quot;</td><td>1</td></tr><tr><td>&quot;+&quot;</td><td>1</td></tr><tr><td>&quot;&nbsp;&nbsp;&nbsp;&quot;</td><td>1</td></tr><tr><td>&quot;&nbsp;&nbsp;&quot;</td><td>1</td></tr></tbody></table></div>"
      ],
      "text/plain": [
       "shape: (126, 2)\n",
       "┌───────────────────────────────┬──────────────┐\n",
       "│ tokens                        ┆ tokens_count │\n",
       "│ ---                           ┆ ---          │\n",
       "│ str                           ┆ u32          │\n",
       "╞═══════════════════════════════╪══════════════╡\n",
       "│                               ┆ 109          │\n",
       "│                               ┆ 32           │\n",
       "│                               ┆              │\n",
       "│ ;                             ┆ 22           │\n",
       "│ )                             ┆ 22           │\n",
       "│ (                             ┆ 22           │\n",
       "│ …                             ┆ …            │\n",
       "│ // Move to the next pivot row ┆ 1            │\n",
       "│ +=                            ┆ 1            │\n",
       "│ +                             ┆ 1            │\n",
       "│                               ┆ 1            │\n",
       "│                               ┆ 1            │\n",
       "└───────────────────────────────┴──────────────┘"
      ]
     },
     "execution_count": 4,
     "metadata": {},
     "output_type": "execute_result"
    }
   ],
   "source": [
    "token_counts = dttab.value_counts(examples[\"tokens\"].explode())\n",
    "token_counts"
   ]
  },
  {
   "cell_type": "markdown",
   "metadata": {},
   "source": [
    "## which tags can each token have?\n"
   ]
  },
  {
   "cell_type": "code",
   "execution_count": 5,
   "metadata": {},
   "outputs": [
    {
     "name": "stdout",
     "output_type": "stream",
     "text": [
      "found 95 tokens with a single tag\n",
      "found 5 tokens with multiple tags\n"
     ]
    },
    {
     "data": {
      "text/html": [
       "<div><style>\n",
       ".dataframe > thead > tr,\n",
       ".dataframe > tbody > tr {\n",
       "  text-align: right;\n",
       "  white-space: pre-wrap;\n",
       "}\n",
       "</style>\n",
       "<small>shape: (10, 3)</small><table border=\"1\" class=\"dataframe\"><thead><tr><th>tokens</th><th>tags</th><th>tokens_count</th></tr><tr><td>str</td><td>str</td><td>u32</td></tr></thead><tbody><tr><td>&quot;::&quot;</td><td>&quot;sy&quot;</td><td>14</td></tr><tr><td>&quot;:&quot;</td><td>&quot;sy&quot;</td><td>11</td></tr><tr><td>&quot;.&quot;</td><td>&quot;sy&quot;</td><td>10</td></tr><tr><td>&quot;=&quot;</td><td>&quot;opas&quot;</td><td>9</td></tr><tr><td>&quot;&gt;&quot;</td><td>&quot;sy&quot;</td><td>7</td></tr><tr><td>&quot;&lt;&quot;</td><td>&quot;sy&quot;</td><td>7</td></tr><tr><td>&quot;|&quot;</td><td>&quot;sy&quot;</td><td>6</td></tr><tr><td>&quot;let&quot;</td><td>&quot;kwva&quot;</td><td>6</td></tr><tr><td>&quot;HashSet&quot;</td><td>&quot;cl&quot;</td><td>6</td></tr><tr><td>&quot;&amp;&quot;</td><td>&quot;opun&quot;</td><td>6</td></tr></tbody></table></div>"
      ],
      "text/plain": [
       "shape: (10, 3)\n",
       "┌─────────┬──────┬──────────────┐\n",
       "│ tokens  ┆ tags ┆ tokens_count │\n",
       "│ ---     ┆ ---  ┆ ---          │\n",
       "│ str     ┆ str  ┆ u32          │\n",
       "╞═════════╪══════╪══════════════╡\n",
       "│ ::      ┆ sy   ┆ 14           │\n",
       "│ :       ┆ sy   ┆ 11           │\n",
       "│ .       ┆ sy   ┆ 10           │\n",
       "│ =       ┆ opas ┆ 9            │\n",
       "│ >       ┆ sy   ┆ 7            │\n",
       "│ <       ┆ sy   ┆ 7            │\n",
       "│ |       ┆ sy   ┆ 6            │\n",
       "│ let     ┆ kwva ┆ 6            │\n",
       "│ HashSet ┆ cl   ┆ 6            │\n",
       "│ &       ┆ opun ┆ 6            │\n",
       "└─────────┴──────┴──────────────┘"
      ]
     },
     "metadata": {},
     "output_type": "display_data"
    }
   ],
   "source": [
    "token_to_tags = (\n",
    "    examples.select(pl.col(\"tokens\", \"tags\").explode())\n",
    "    .group_by(\"tokens\")\n",
    "    .agg(pl.col(\"tags\").explode().unique())  # what tags can the token have?\n",
    ").join(token_counts, on=\"tokens\")\n",
    "\n",
    "single_tagged = (\n",
    "    token_to_tags.filter(pl.col(\"tags\").list.len() == 1)\n",
    "    .sort(\"tokens_count\", descending=True)\n",
    "    .with_columns(pl.col(\"tags\").list[0])\n",
    "    .filter(pl.col(\"tags\").is_in(text_process.DET_TAGS).not_())\n",
    ")  # exclude DET TAGS\n",
    "\n",
    "multi_tagged = token_to_tags.filter(pl.col(\"tags\").list.len() != 1).sort(\n",
    "    \"tokens_count\", descending=True\n",
    ")\n",
    "print(f\"found {len(single_tagged)} tokens with a single tag\")\n",
    "print(f\"found {len(multi_tagged)} tokens with multiple tags\")\n",
    "\n",
    "display(single_tagged.head(10))\n",
    "# display(multi_tagged.head(10))\n"
   ]
  },
  {
   "cell_type": "markdown",
   "metadata": {},
   "source": [
    "## which tokens can each tag have?\n"
   ]
  },
  {
   "cell_type": "code",
   "execution_count": 6,
   "metadata": {},
   "outputs": [
    {
     "data": {
      "text/html": [
       "<div><style>\n",
       ".dataframe > thead > tr,\n",
       ".dataframe > tbody > tr {\n",
       "  text-align: right;\n",
       "  white-space: pre-wrap;\n",
       "}\n",
       "</style>\n",
       "<small>shape: (10, 3)</small><table border=\"1\" class=\"dataframe\"><thead><tr><th>tags</th><th>tokens</th><th>tags_count</th></tr><tr><td>str</td><td>list[str]</td><td>u32</td></tr></thead><tbody><tr><td>&quot;kwfn&quot;</td><td>[&quot;fn&quot;]</td><td>4</td></tr><tr><td>&quot;an&quot;</td><td>[&quot;&#x27;a&quot;]</td><td>3</td></tr><tr><td>&quot;opbi&quot;</td><td>[&quot;+&quot;]</td><td>1</td></tr><tr><td>&quot;clco&quot;</td><td>[&quot;Some&quot;]</td><td>1</td></tr><tr><td>&quot;at&quot;</td><td>[&quot;x&quot;]</td><td>1</td></tr><tr><td>&quot;opas&quot;</td><td>[&quot;+=&quot;, &quot;=&quot;]</td><td>10</td></tr><tr><td>&quot;kwva&quot;</td><td>[&quot;const&quot;, &quot;let&quot;]</td><td>8</td></tr><tr><td>&quot;kwmo&quot;</td><td>[&quot;pub&quot;, &quot;mut&quot;]</td><td>8</td></tr><tr><td>&quot;opun&quot;</td><td>[&quot;&amp;&quot;, &quot;*&quot;]</td><td>7</td></tr><tr><td>&quot;kwim&quot;</td><td>[&quot;crate&quot;, &quot;use&quot;]</td><td>4</td></tr></tbody></table></div>"
      ],
      "text/plain": [
       "shape: (10, 3)\n",
       "┌──────┬──────────────────┬────────────┐\n",
       "│ tags ┆ tokens           ┆ tags_count │\n",
       "│ ---  ┆ ---              ┆ ---        │\n",
       "│ str  ┆ list[str]        ┆ u32        │\n",
       "╞══════╪══════════════════╪════════════╡\n",
       "│ kwfn ┆ [\"fn\"]           ┆ 4          │\n",
       "│ an   ┆ [\"'a\"]           ┆ 3          │\n",
       "│ opbi ┆ [\"+\"]            ┆ 1          │\n",
       "│ clco ┆ [\"Some\"]         ┆ 1          │\n",
       "│ at   ┆ [\"x\"]            ┆ 1          │\n",
       "│ opas ┆ [\"+=\", \"=\"]      ┆ 10         │\n",
       "│ kwva ┆ [\"const\", \"let\"] ┆ 8          │\n",
       "│ kwmo ┆ [\"pub\", \"mut\"]   ┆ 8          │\n",
       "│ opun ┆ [\"&\", \"*\"]       ┆ 7          │\n",
       "│ kwim ┆ [\"crate\", \"use\"] ┆ 4          │\n",
       "└──────┴──────────────────┴────────────┘"
      ]
     },
     "metadata": {},
     "output_type": "display_data"
    }
   ],
   "source": [
    "tag_counts = dttab.value_counts(examples[\"tags\"].explode())\n",
    "\n",
    "tags_to_tokens = (\n",
    "    (\n",
    "        examples.select(pl.col(\"tokens\", \"tags\").explode())\n",
    "        .group_by(\"tags\")\n",
    "        .agg(pl.col(\"tokens\").explode().unique())  # what tags can the token have?\n",
    "    )\n",
    "    .join(tag_counts, on=\"tags\")\n",
    "    .filter(pl.col(\"tags\").is_in(text_process.DET_TAGS).not_())\n",
    "    .sort(pl.col(\"tokens\").list.len())\n",
    ")\n",
    "display(tags_to_tokens.head(10))"
   ]
  },
  {
   "cell_type": "code",
   "execution_count": 11,
   "metadata": {},
   "outputs": [
    {
     "data": {
      "text/html": [
       "<div><style>\n",
       ".dataframe > thead > tr,\n",
       ".dataframe > tbody > tr {\n",
       "  text-align: right;\n",
       "  white-space: pre-wrap;\n",
       "}\n",
       "</style>\n",
       "<small>shape: (0, 3)</small><table border=\"1\" class=\"dataframe\"><thead><tr><th>tokens</th><th>tags</th><th>tokens_count</th></tr><tr><td>str</td><td>list[str]</td><td>u32</td></tr></thead><tbody></tbody></table></div>"
      ],
      "text/plain": [
       "shape: (0, 3)\n",
       "┌────────┬───────────┬──────────────┐\n",
       "│ tokens ┆ tags      ┆ tokens_count │\n",
       "│ ---    ┆ ---       ┆ ---          │\n",
       "│ str    ┆ list[str] ┆ u32          │\n",
       "╞════════╪═══════════╪══════════════╡\n",
       "└────────┴───────────┴──────────────┘"
      ]
     },
     "execution_count": 11,
     "metadata": {},
     "output_type": "execute_result"
    }
   ],
   "source": [
    "token_to_tags.filter(pl.col(\"tokens\") == \"!\")"
   ]
  },
  {
   "cell_type": "markdown",
   "metadata": {},
   "source": [
    "## duplicates\n"
   ]
  },
  {
   "cell_type": "code",
   "execution_count": 8,
   "metadata": {},
   "outputs": [
    {
     "name": "stdout",
     "output_type": "stream",
     "text": [
      "Rows: 15\n",
      "Columns: 7\n",
      "$ difficulty       <str> 'normal', 'normal', 'ambiguous', 'ambiguous', 'normal', 'normal', 'normal', 'ambiguous', 'ambiguous', 'normal'\n",
      "$ tokens     <list[str]> ['pub', ' ', 'mod', ' ', 'factorize', ';', '\\n', 'pub', ' ', 'mod', ' ', 'linalg', ';', '\\n', 'pub', ' ', 'mod', ' ', 'util', ';'], ['let', ' ', 'n', ' ', '=', ' ', 'BigUint', '::', 'from', '(', '92434447339770015548544881401_u128', ')', ';'], ['use', ' ', 'num', '::', '{', 'integer', '::', 'Roots', ',', ' ', 'BigUint', ',', ' ', 'One', ',', ' ', 'Zero', '}', ';', '\\n', 'use', ' ', 'rayon', '::', 'prelude', '::', '*', ';'], ['use', ' ', 'crate', '::', '{', 'linalg', '::', 'left_null', ',', ' ', 'math_fun', '::', 'gcd_euclid_bigu', ',', ' ', 'util', '::', 'format_time', '}', ';'], ['// Move to the next pivot row', '\\n', 'row', ' ', '+=', ' ', '1', ';', '\\n\\n', \"// Stop if we've processed all rows\", '\\n', 'if', ' ', 'row', ' ', '>=', ' ', 'm', ' ', '{', '\\n', '    ', 'break', ';', '\\n', '}'], ['/// Maximum value of prime, get more than factorbase size', '\\n', 'const', ' ', 'MAXPRIME', ':', ' ', 'usize', ' ', '=', ' ', '100000', ';', '\\n', 'const', ' ', 'JMAX', ':', ' ', 'usize', ' ', '=', ' ', '100', ';'], ['let', ' ', 'mut', ' ', 'nullspace', ' ', '=', ' ', 'Vec', '::', 'new', '(', ')', ';', '\\n', 'for', ' ', 'i', ' ', 'in', ' ', '0', '..', 'm', ' ', '{', '\\n', '    ', 'if', ' ', 'mat', '[', 'i', ']', '.', 'iter', '(', ')', '.', 'all', '(', '|', '&', 'x', '|', ' ', 'x', ' ', '==', ' ', '0', ')', ' ', '{', '\\n', '       ', 'nullspace', '.', 'push', '(', 'null_basis', '[', 'i', ']', '.', 'clone', '(', ')', ')', ';', '\\n', '    ', '}', '\\n', '}'], ['fn', ' ', 'gen_row_set_par', '(', 'n', ':', ' ', '&', 'BigUint', ',', ' ', 'jmax', ':', ' ', 'usize', ',', ' ', 'nrows', ':', ' ', 'usize', ',', ' ', 'fb', ':', ' ', '&', '[', 'usize', ']', ')', ' ', '->', ' ', 'HashSet', '<', 'Row', '>'], ['pub', ' ', 'fn', ' ', 'sum_primint', '<', 'T', '>', '(', 'a', ':', ' ', '&', 'Vec', '<', 'T', '>', ')', ' ', '->', ' ', 'T', '\\n', 'where', '\\n', '    ', 'T', ':', ' ', 'PrimInt', ',', '\\n', '{', '\\n', '    ', 'let', ' ', 'mut', ' ', 's', ' ', '=', ' ', 'T', '::', 'zero', '(', ')', ';', '\\n\\n', '    ', 'for', ' ', 'x', ' ', 'in', ' ', 'a', ' ', '{', '\\n', '       ', 's', ' ', '=', ' ', 's', ' ', '+', ' ', '*', 'x', ';', '\\n', '    ', '}', '\\n\\n', '    ', 'return', ' ', 's', ';', '\\n', '}'], ['    ', 'let', ' ', 'mut', ' ', 'seen', ':', ' ', 'HashSet', '<', 'Row', '>', ' ', '=', ' ', 'HashSet', '::', 'new', '(', ')', ';']\n",
      "$ tags       <list[str]> ['kwmo', 'ws', 'kwde', 'ws', 'mo', 'pu', 'nl', 'kwmo', 'ws', 'kwde', 'ws', 'mo', 'pu', 'nl', 'kwmo', 'ws', 'kwde', 'ws', 'mo', 'pu'], ['kwva', 'ws', 'va', 'ws', 'opas', 'ws', 'cl', 'sy', 'fnas', 'brop', 'nu', 'brcl', 'pu'], ['kwim', 'ws', 'mo', 'sy', 'brop', 'mo', 'sy', 'cl', 'pu', 'ws', 'cl', 'pu', 'ws', 'cl', 'pu', 'ws', 'cl', 'brcl', 'pu', 'nl', 'kwim', 'ws', 'mo', 'sy', 'mo', 'sy', 'mo', 'pu'], ['kwim', 'ws', 'kwim', 'sy', 'brop', 'mo', 'sy', 'fnas', 'pu', 'ws', 'mo', 'sy', 'fnas', 'pu', 'ws', 'mo', 'sy', 'fnas', 'brcl', 'pu'], ['cofl', 'nl', 'va', 'ws', 'opas', 'ws', 'nu', 'pu', 'nl', 'cofl', 'nl', 'kwfl', 'ws', 'va', 'ws', 'opcm', 'ws', 'va', 'ws', 'brop', 'nl', 'id', 'kwfl', 'pu', 'nl', 'brcl'], ['cofl', 'nl', 'kwva', 'ws', 'va', 'sy', 'ws', 'kwty', 'ws', 'opas', 'ws', 'nu', 'pu', 'nl', 'kwva', 'ws', 'va', 'sy', 'ws', 'kwty', 'ws', 'opas', 'ws', 'nu', 'pu'], ['kwva', 'ws', 'kwmo', 'ws', 'va', 'ws', 'opas', 'ws', 'cl', 'sy', 'fnas', 'brop', 'brcl', 'pu', 'nl', 'kwfl', 'ws', 'va', 'ws', 'kwop', 'ws', 'nu', 'sy', 'va', 'ws', 'brop', 'nl', 'id', 'kwfl', 'ws', 'va', 'brop', 'va', 'brcl', 'sy', 'fnme', 'brop', 'brcl', 'sy', 'fnme', 'brop', 'sy', 'opun', 'pa', 'sy', 'ws', 'pa', 'ws', 'opcm', 'ws', 'nu', 'brcl', 'ws', 'brop', 'nl', 'id', 'va', 'sy', 'fnme', 'brop', 'va', 'brop', 'va', 'brcl', 'sy', 'fnme', 'brop', 'brcl', 'brcl', 'pu', 'nl', 'id', 'brcl', 'nl', 'brcl'], ['kwfn', 'ws', 'fnfr', 'brop', 'pa', 'sy', 'ws', 'opun', 'cl', 'pu', 'ws', 'pa', 'sy', 'ws', 'kwty', 'pu', 'ws', 'pa', 'sy', 'ws', 'kwty', 'pu', 'ws', 'pa', 'sy', 'ws', 'opun', 'brop', 'kwty', 'brcl', 'brcl', 'ws', 'sy', 'ws', 'cl', 'sy', 'cl', 'sy'], ['kwmo', 'ws', 'kwfn', 'ws', 'fnfr', 'sy', 'cl', 'sy', 'brop', 'pa', 'sy', 'ws', 'opun', 'cl', 'sy', 'cl', 'sy', 'brcl', 'ws', 'sy', 'ws', 'cl', 'nl', 'kwop', 'nl', 'id', 'cl', 'sy', 'ws', 'cl', 'pu', 'nl', 'brop', 'nl', 'id', 'kwva', 'ws', 'kwmo', 'ws', 'va', 'ws', 'opas', 'ws', 'cl', 'sy', 'fnas', 'brop', 'brcl', 'pu', 'nl', 'id', 'kwfl', 'ws', 'va', 'ws', 'kwop', 'ws', 'pa', 'ws', 'brop', 'nl', 'id', 'va', 'ws', 'opas', 'ws', 'va', 'ws', 'opbi', 'ws', 'opun', 'va', 'pu', 'nl', 'id', 'brcl', 'nl', 'id', 'kwfl', 'ws', 'va', 'pu', 'nl', 'brcl'], ['id', 'kwva', 'ws', 'kwmo', 'ws', 'va', 'sy', 'ws', 'cl', 'sy', 'cl', 'sy', 'ws', 'opas', 'ws', 'cl', 'sy', 'fnas', 'brop', 'brcl', 'pu']\n",
      "$ name             <str> 'lbrsfl', 'prsbgnt', 'sstmnts', 'mprtfns', 'stpssrwlp', 'cnstnts', 'nllspclptrpsh', 'fnsg', 'whrclsfnsm', 'nwhshst'\n",
      "$ lang             <str> 'rust', 'rust', 'rust', 'rust', 'rust', 'rust', 'rust', 'rust', 'rust', 'rust'\n",
      "$ id               <str> 'lbrsfl_rust', 'prsbgnt_rust', 'sstmnts_rust', 'mprtfns_rust', 'stpssrwlp_rust', 'cnstnts_rust', 'nllspclptrpsh_rust', 'fnsg_rust', 'whrclsfnsm_rust', 'nwhshst_rust'\n",
      "$ length           <u32> 20, 13, 28, 20, 26, 25, 75, 38, 84, 21\n",
      "\n"
     ]
    }
   ],
   "source": [
    "examples.glimpse()"
   ]
  },
  {
   "cell_type": "code",
   "execution_count": 9,
   "metadata": {},
   "outputs": [
    {
     "name": "stdout",
     "output_type": "stream",
     "text": [
      "exact same tokens:\n"
     ]
    },
    {
     "data": {
      "text/html": [
       "<div><style>\n",
       ".dataframe > thead > tr,\n",
       ".dataframe > tbody > tr {\n",
       "  text-align: right;\n",
       "  white-space: pre-wrap;\n",
       "}\n",
       "</style>\n",
       "<small>shape: (0, 3)</small><table border=\"1\" class=\"dataframe\"><thead><tr><th>tokens</th><th>id</th><th>len</th></tr><tr><td>list[str]</td><td>list[str]</td><td>u32</td></tr></thead><tbody></tbody></table></div>"
      ],
      "text/plain": [
       "shape: (0, 3)\n",
       "┌───────────┬───────────┬─────┐\n",
       "│ tokens    ┆ id        ┆ len │\n",
       "│ ---       ┆ ---       ┆ --- │\n",
       "│ list[str] ┆ list[str] ┆ u32 │\n",
       "╞═══════════╪═══════════╪═════╡\n",
       "└───────────┴───────────┴─────┘"
      ]
     },
     "metadata": {},
     "output_type": "display_data"
    },
    {
     "name": "stdout",
     "output_type": "stream",
     "text": [
      "exact same tags:\n"
     ]
    },
    {
     "data": {
      "text/html": [
       "<div><style>\n",
       ".dataframe > thead > tr,\n",
       ".dataframe > tbody > tr {\n",
       "  text-align: right;\n",
       "  white-space: pre-wrap;\n",
       "}\n",
       "</style>\n",
       "<small>shape: (0, 3)</small><table border=\"1\" class=\"dataframe\"><thead><tr><th>tags</th><th>id</th><th>len</th></tr><tr><td>list[str]</td><td>list[str]</td><td>u32</td></tr></thead><tbody></tbody></table></div>"
      ],
      "text/plain": [
       "shape: (0, 3)\n",
       "┌───────────┬───────────┬─────┐\n",
       "│ tags      ┆ id        ┆ len │\n",
       "│ ---       ┆ ---       ┆ --- │\n",
       "│ list[str] ┆ list[str] ┆ u32 │\n",
       "╞═══════════╪═══════════╪═════╡\n",
       "└───────────┴───────────┴─────┘"
      ]
     },
     "metadata": {},
     "output_type": "display_data"
    },
    {
     "data": {
      "text/plain": [
       "[]"
      ]
     },
     "metadata": {},
     "output_type": "display_data"
    }
   ],
   "source": [
    "print(\"exact same tokens:\")\n",
    "display(examples.group_by(\"tokens\").agg(\"id\", pl.len()).filter(pl.col(\"len\") > 1))\n",
    "print(\"exact same tags:\")\n",
    "display(examples.group_by(\"tags\").agg(\"id\", pl.len()).filter(pl.col(\"len\") > 1))\n",
    "display(\n",
    "    examples.group_by(\"tags\")\n",
    "    .agg(\"id\", pl.len())\n",
    "    .filter(pl.col(\"len\") > 1)[\"id\"]\n",
    "    .explode()\n",
    "    .to_list()\n",
    ")"
   ]
  },
  {
   "cell_type": "markdown",
   "metadata": {},
   "source": [
    "## Language specific rules!\n"
   ]
  },
  {
   "cell_type": "code",
   "execution_count": 10,
   "metadata": {},
   "outputs": [],
   "source": [
    "# in java, \"System\" is a class"
   ]
  }
 ],
 "metadata": {
  "kernelspec": {
   "display_name": "_my_python",
   "language": "python",
   "name": "python3"
  },
  "language_info": {
   "codemirror_mode": {
    "name": "ipython",
    "version": 3
   },
   "file_extension": ".py",
   "mimetype": "text/x-python",
   "name": "python",
   "nbconvert_exporter": "python",
   "pygments_lexer": "ipython3",
   "version": "3.12.7"
  }
 },
 "nbformat": 4,
 "nbformat_minor": 2
}
