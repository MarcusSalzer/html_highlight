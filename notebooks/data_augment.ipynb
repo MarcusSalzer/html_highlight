{
 "cells": [
  {
   "cell_type": "code",
   "execution_count": null,
   "metadata": {},
   "outputs": [],
   "source": [
    "import random\n",
    "import sys\n",
    "\n",
    "sys.path.append(\"..\")\n",
    "from src import text_process"
   ]
  },
  {
   "cell_type": "markdown",
   "metadata": {},
   "source": [
    "## markov process\n"
   ]
  },
  {
   "cell_type": "code",
   "execution_count": null,
   "metadata": {},
   "outputs": [],
   "source": [
    "transitions = {\n",
    "    \"[start]\": {\"va\": 0.4, \"kwio\": 0.2, \"fnsa\": 0.2},\n",
    "    \"va\": {\"opas\": 0.5},\n",
    "    \"opas\": {\"va\": 0.5, \"fnsa\": 0.5},\n",
    "    \"fnsa\": {\"brop\": 1.0},\n",
    "    \"kwio\": {\"va\": 0.4, \"fnsa\": 0.3},\n",
    "    \"brop\": {\"va\": 0.6, \"brcl\": 0.4},\n",
    "}\n",
    "\n",
    "\n",
    "def gen_markov(seq=[\"[start]\"], maxlen=20):\n",
    "    for _ in range(maxlen):\n",
    "        k = seq[-1]\n",
    "\n",
    "        if k not in transitions.keys() or k == \"[end]\":\n",
    "            break\n",
    "        n = random.choices(\n",
    "            population=list(transitions[k].keys()),\n",
    "            weights=list(transitions[k].values()),\n",
    "        )[0]\n",
    "        seq.append(n)\n",
    "    return seq\n",
    "\n",
    "\n",
    "gen_markov()\n"
   ]
  },
  {
   "cell_type": "markdown",
   "metadata": {},
   "source": [
    "## recursive\n"
   ]
  },
  {
   "cell_type": "code",
   "execution_count": null,
   "metadata": {},
   "outputs": [],
   "source": [
    "rules = {\n",
    "    \"stmt\": [\"va|opas|expr|pu\"],\n",
    "    \"opas\": [\"=\", \"<-\", \"+=\"],\n",
    "    \"expr\": [\"va\", \"num\", \"f( expr )\"],\n",
    "    \"loop\": [\"for| |va| |in| range(|int|):|\\n|    |stmt\"],\n",
    "    \"va\": [\"x\", \"y\", \"count\"],\n",
    "    \"num\": [\"42\", \"0\", \"3.14\"],\n",
    "    \"int\": [\"1\", \"2\", \"3\"],\n",
    "    \"f\": [\"func1\", \"func2\"],\n",
    "    \"brop\": [\"(\"],\n",
    "    \"brcl\": [\")\"],\n",
    "    \"op\": [\"+\", \"-\", \"*\", \"/\"],\n",
    "    \"pu\": [\";\", \"\"],\n",
    "}\n",
    "\n",
    "\n",
    "def generate(rule):\n",
    "    \"\"\"Recursively expand a rule to generate a sequence.\"\"\"\n",
    "    if rule not in rules:  # Base case: terminal token\n",
    "        return rule\n",
    "\n",
    "    # Randomly choose a production\n",
    "    production = random.choice(rules[rule])\n",
    "\n",
    "    # Recursively build\n",
    "    tokens = []\n",
    "    for token in production.split(\"|\"):\n",
    "        tokens.extend(generate(token))\n",
    "\n",
    "    return \"\".join(tokens)\n",
    "\n",
    "\n",
    "# Example: Start with a \"stmt\"\n",
    "gen_example = generate(\"stmt\")\n",
    "print(gen_example)\n",
    "print(text_process.process(gen_example))"
   ]
  },
  {
   "cell_type": "code",
   "execution_count": null,
   "metadata": {},
   "outputs": [],
   "source": []
  }
 ],
 "metadata": {
  "kernelspec": {
   "display_name": "_my_python",
   "language": "python",
   "name": "python3"
  },
  "language_info": {
   "codemirror_mode": {
    "name": "ipython",
    "version": 3
   },
   "file_extension": ".py",
   "mimetype": "text/x-python",
   "name": "python",
   "nbconvert_exporter": "python",
   "pygments_lexer": "ipython3",
   "version": "3.12.7"
  }
 },
 "nbformat": 4,
 "nbformat_minor": 2
}
