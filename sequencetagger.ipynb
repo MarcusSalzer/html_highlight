{
 "cells": [
  {
   "cell_type": "code",
   "execution_count": null,
   "metadata": {},
   "outputs": [],
   "source": [
    "import torch\n",
    "import torch.nn as nn\n",
    "from torch.utils.data import DataLoader, Dataset\n",
    "from plotly import graph_objects as go, io as pio\n",
    "from sklearn import metrics\n",
    "from importlib import reload\n",
    "\n",
    "\n",
    "import polars as pl\n",
    "import util\n",
    "\n",
    "reload(util)\n",
    "pio.templates.default = \"plotly_dark\"\n"
   ]
  },
  {
   "cell_type": "markdown",
   "metadata": {},
   "source": [
    "## load data\n"
   ]
  },
  {
   "cell_type": "code",
   "execution_count": null,
   "metadata": {},
   "outputs": [],
   "source": [
    "examples = util.load_examples(tag_map=util.MAP_TAGS).sort(\"length\")\n",
    "lang_counts = {\n",
    "    d[\"lang\"]: d[\"len\"]\n",
    "    for d in examples.group_by(\"lang\").len().sort(\"len\", descending=True).to_dicts()\n",
    "}\n",
    "print(lang_counts)\n",
    "# display(examples)"
   ]
  },
  {
   "cell_type": "code",
   "execution_count": null,
   "metadata": {},
   "outputs": [],
   "source": [
    "# train-val split\n",
    "n_train = int(0.6 * len(examples))\n",
    "examples = examples.sample(fraction=1, shuffle=True)\n",
    "train_df, val_df = examples.head(n_train), examples.tail(-n_train)\n",
    "\n",
    "print(f\"split: {len(train_df)} training, {len(val_df)} val\")\n"
   ]
  },
  {
   "cell_type": "markdown",
   "metadata": {},
   "source": [
    "## most common tokens\n"
   ]
  },
  {
   "cell_type": "code",
   "execution_count": null,
   "metadata": {},
   "outputs": [],
   "source": [
    "token_counts = (\n",
    "    examples.select(pl.col(\"tokens\").explode().alias(\"token\"))\n",
    "    .group_by(\"token\")\n",
    "    .agg(pl.len().alias(\"count\"))\n",
    "    .sort(\"count\", descending=True)\n",
    ")\n",
    "tag_counts = (\n",
    "    examples.select(pl.col(\"tags\").explode().alias(\"tag\"))\n",
    "    .group_by(\"tag\")\n",
    "    .agg(pl.len().alias(\"count\"))\n",
    "    .sort(\"count\", descending=True)\n",
    ")\n",
    "print(\"common tokens: \", token_counts.head(60).rows())\n",
    "print(\"common tags  : \", tag_counts.rows())\n",
    "\n",
    "\n",
    "print(f\"\\nwe have {len(token_counts)} unique tokens, and {len(tag_counts)} unique tags\")\n"
   ]
  },
  {
   "cell_type": "markdown",
   "metadata": {},
   "source": [
    "## make a vocab!\n",
    "\n",
    "- add padding to both tokens and tags\n",
    "- also, convert tokens and tags to integers\n"
   ]
  },
  {
   "cell_type": "code",
   "execution_count": null,
   "metadata": {},
   "outputs": [],
   "source": [
    "# vocab for tokens\n",
    "vocab: list = token_counts[\"token\"].to_list()[:100]\n",
    "vocab.insert(0, \"<pad>\")\n",
    "vocab.insert(1, \"<unk>\")\n",
    "token2idx = {t: i for i, t in enumerate(vocab)}\n",
    "\n",
    "# tags\n",
    "tag_vocab: list = tag_counts[\"tag\"].to_list()\n",
    "tag_vocab.insert(0, \"<pad>\")\n",
    "tag2idx = {t: i for i, t in enumerate(tag_vocab)}\n",
    "\n",
    "print(\"vocab (tokens):\", vocab)\n",
    "print(\"vocab (tags)  :\", tag_vocab)\n",
    "# Convert tokens and labels to indices\n",
    "# these are lists of lists!\n",
    "train_token_idx = [[token2idx.get(t, 1) for t in seq] for seq in train_df[\"tokens\"]]\n",
    "train_tag_idx = [[tag2idx[t] for t in seq] for seq in train_df[\"tags\"]]\n",
    "# print(\"\\nlists of lists:\")\n",
    "# print(train_token_idx)\n",
    "# print(train_tag_idx)\n",
    "print(f\"\\ntraining examples of length: {[len(e) for e in train_token_idx]}\")\n",
    "\n",
    "# validation data\n",
    "val_token_idx = [[token2idx.get(t, 1) for t in seq] for seq in val_df[\"tokens\"]]\n",
    "val_tag_idx = [[tag2idx[t] for t in seq] for seq in val_df[\"tags\"]]\n",
    "print(f\"validation examples of length: {[len(e) for e in val_token_idx]}\")\n"
   ]
  },
  {
   "cell_type": "markdown",
   "metadata": {},
   "source": [
    "### Prepare data for model\n"
   ]
  },
  {
   "cell_type": "code",
   "execution_count": null,
   "metadata": {},
   "outputs": [],
   "source": [
    "def seqs2padded_tensor(sequences: list[list[int | float]], pad_value=0):\n",
    "    return nn.utils.rnn.pad_sequence(\n",
    "        (torch.tensor(s) for s in sequences),\n",
    "        batch_first=True,\n",
    "        padding_value=pad_value,\n",
    "    )\n",
    "\n",
    "\n",
    "train_token_tensors = seqs2padded_tensor(train_token_idx)\n",
    "train_tag_tensors = seqs2padded_tensor(train_tag_idx)\n",
    "val_token_tensors = seqs2padded_tensor(val_token_idx)\n",
    "val_tag_tensors = seqs2padded_tensor(val_tag_idx)\n",
    "\n",
    "print(f\"token tensor (train): {train_token_tensors.shape}\")\n",
    "print(f\"tag tensor   (train): {train_tag_tensors.shape}\")\n",
    "print(f\"token tensor (val): {val_token_tensors.shape}\")\n",
    "print(f\"tag tensor   (val): {val_tag_tensors.shape}\")"
   ]
  },
  {
   "cell_type": "code",
   "execution_count": null,
   "metadata": {},
   "outputs": [],
   "source": [
    "class SequenceDataset(Dataset):\n",
    "    def __init__(self, tokens, labels):\n",
    "        self.tokens = tokens\n",
    "        self.labels = labels\n",
    "\n",
    "    def __len__(self):\n",
    "        return len(self.tokens)\n",
    "\n",
    "    def __getitem__(self, idx):\n",
    "        return self.tokens[idx], self.labels[idx]\n",
    "\n",
    "\n",
    "# Create dataset and dataloader\n",
    "train_dataset = SequenceDataset(train_token_tensors, train_tag_tensors)\n",
    "train_loader = DataLoader(train_dataset, batch_size=2, shuffle=True)\n"
   ]
  },
  {
   "cell_type": "markdown",
   "metadata": {},
   "source": [
    "## model\n"
   ]
  },
  {
   "cell_type": "code",
   "execution_count": null,
   "metadata": {},
   "outputs": [],
   "source": [
    "class LSTMTagger(nn.Module):\n",
    "    def __init__(self, vocab_size, tagset_size, embedding_dim, hidden_dim):\n",
    "        super(LSTMTagger, self).__init__()\n",
    "        self.embedding = nn.Embedding(vocab_size, embedding_dim, padding_idx=0)\n",
    "        self.lstm = nn.LSTM(embedding_dim, hidden_dim, batch_first=True)\n",
    "        self.hidden2tag = nn.Linear(hidden_dim, tagset_size)\n",
    "\n",
    "    def forward(self, sentences):\n",
    "        embeds = self.embedding(\n",
    "            sentences\n",
    "        )  # Shape: (batch_size, seq_len, embedding_dim)\n",
    "        lstm_out, _ = self.lstm(embeds)  # Shape: (batch_size, seq_len, hidden_dim)\n",
    "        tag_scores = self.hidden2tag(\n",
    "            lstm_out\n",
    "        )  # Shape: (batch_size, seq_len, tagset_size)\n",
    "        return tag_scores\n"
   ]
  },
  {
   "cell_type": "code",
   "execution_count": null,
   "metadata": {},
   "outputs": [],
   "source": [
    "# Parameters\n",
    "embedding_dim = 32\n",
    "hidden_dim = 64\n",
    "vocab_size = len(vocab)\n",
    "tagset_size = len(tag_vocab)\n",
    "\n",
    "model = LSTMTagger(vocab_size, tagset_size, embedding_dim, hidden_dim)\n",
    "loss_function = nn.CrossEntropyLoss()\n",
    "optimizer = torch.optim.Adam(model.parameters(), lr=0.005)\n",
    "\n",
    "# Training loop\n",
    "epochs = 40\n",
    "losses = []\n",
    "for epoch in range(epochs):\n",
    "    for examples, labels in train_loader:\n",
    "        model.zero_grad()\n",
    "\n",
    "        # Forward pass\n",
    "        tag_scores = model(examples)\n",
    "\n",
    "        # Reshape for loss calculation\n",
    "        loss = loss_function(tag_scores.view(-1, tagset_size), labels.view(-1))\n",
    "\n",
    "        # Backward pass and optimization\n",
    "        loss.backward()\n",
    "        optimizer.step()\n",
    "        losses.append(loss.item())\n",
    "\n",
    "    # print(f\"Epoch {epoch+1}/{epochs}, Loss: {loss.item():.4f}\")\n",
    "go.Figure(go.Scatter(y=losses))"
   ]
  },
  {
   "cell_type": "markdown",
   "metadata": {},
   "source": [
    "## evaluate\n"
   ]
  },
  {
   "cell_type": "code",
   "execution_count": null,
   "metadata": {},
   "outputs": [],
   "source": [
    "model.eval()\n",
    "with torch.no_grad():\n",
    "    tag_scores = model(val_token_tensors)\n",
    "    predictions = torch.argmax(tag_scores, dim=-1)  # Shape: (batch_size, seq_len)\n",
    "\n",
    "pred_tags = []\n",
    "true_tags = []\n",
    "\n",
    "for pred, true_t in zip(predictions, val_tag_idx):\n",
    "    # print(pred.shape)\n",
    "    # print((len(true_tags)))\n",
    "    true_tags.extend([tag_vocab[t] for t in true_t])\n",
    "    pred_tags.extend([tag_vocab[t] for t in pred[: len(true_t)]])\n",
    "print(pred_tags)\n",
    "print(true_tags)\n",
    "\n",
    "metrics.ConfusionMatrixDisplay.from_predictions(\n",
    "    true_tags, pred_tags, xticks_rotation=\"vertical\"\n",
    ")"
   ]
  }
 ],
 "metadata": {
  "kernelspec": {
   "display_name": "_my_python",
   "language": "python",
   "name": "python3"
  },
  "language_info": {
   "codemirror_mode": {
    "name": "ipython",
    "version": 3
   },
   "file_extension": ".py",
   "mimetype": "text/x-python",
   "name": "python",
   "nbconvert_exporter": "python",
   "pygments_lexer": "ipython3",
   "version": "3.12.7"
  }
 },
 "nbformat": 4,
 "nbformat_minor": 2
}
