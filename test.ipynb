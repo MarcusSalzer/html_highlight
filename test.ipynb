{
 "cells": [
  {
   "cell_type": "code",
   "execution_count": 1,
   "metadata": {},
   "outputs": [
    {
     "name": "stdout",
     "output_type": "stream",
     "text": [
      "hej\n"
     ]
    }
   ],
   "source": [
    "import regex as re\n",
    "print(\"hej\")"
   ]
  },
  {
   "cell_type": "markdown",
   "metadata": {},
   "source": [
    "### Preprocess"
   ]
  },
  {
   "cell_type": "code",
   "execution_count": 2,
   "metadata": {},
   "outputs": [
    {
     "name": "stdout",
     "output_type": "stream",
     "text": [
      "np.int16(x / np.max(np.abs(x)) * np.iinfo(np.int16).max)<br>\n",
      "\n"
     ]
    }
   ],
   "source": [
    "with open(\"input2.py\",\"r\") as f:\n",
    "    text = f.read()\n",
    "# preserve line-breaks\n",
    "text = re.sub(r\"\\n\",r\"<br>\\n\",text)\n",
    "\n",
    "# preserve indentation\n",
    "text = re.sub(r\"    \",r\"&nbsp\"*3+r\" \",text)\n",
    "\n",
    "print(text)"
   ]
  },
  {
   "cell_type": "markdown",
   "metadata": {},
   "source": [
    "### Highlight"
   ]
  },
  {
   "cell_type": "code",
   "execution_count": 3,
   "metadata": {},
   "outputs": [
    {
     "name": "stdout",
     "output_type": "stream",
     "text": [
      "detected variables set()\n",
      "\\b()\\b\n"
     ]
    }
   ],
   "source": [
    "# Find variables\n",
    "variables = re.findall(r\"\\b[^\\s]+ ?=\", text)\n",
    "variables = set(map(lambda s: re.sub(\" ?=\", \"\", s), variables))\n",
    "print(\"detected variables\", variables)\n",
    "pattern_variable = r\"\\b(\" + \"|\".join(variables) +r\")\\b\"\n",
    "print(pattern_variable)"
   ]
  },
  {
   "cell_type": "code",
   "execution_count": 4,
   "metadata": {},
   "outputs": [],
   "source": [
    "pattern_keyword = r\"\\b(import|from|as|def|if|else|elif|for|while|return|lambda)\\b\"\n",
    "pattern_fuction = r\"(\\b|\\.)([^\\s\\.]+\\p{L})\\(\"\n",
    "pattern_comment = r\"(#.+)\"\n",
    "pattern_string = r\"\"\"(['\"])(.*?)\\1\"\"\"\n",
    "pattern_constant = r\"\\b(True|False|\\p{Lu}+)\\b\"\n",
    "\n",
    "text = re.sub(pattern_string, r'<span class=\"string\">\\1\\2\\1</span>', text)\n",
    "text = re.sub(pattern_keyword, r'<span class=\"keyword\">\\1</span>', text)\n",
    "text = re.sub(pattern_fuction, r'\\1<span class=\"function\">\\2</span>(', text)\n",
    "text = re.sub(pattern_variable, r'<span class=\"variable\">\\1</span>', text)\n",
    "text = re.sub(pattern_constant, r'<span class=\"constant\">\\1</span>', text)\n",
    "text = re.sub(pattern_comment, r'<span class=\"comment\">\\1</span>', text)"
   ]
  },
  {
   "cell_type": "markdown",
   "metadata": {},
   "source": [
    "### output"
   ]
  },
  {
   "cell_type": "code",
   "execution_count": 5,
   "metadata": {},
   "outputs": [],
   "source": [
    "css_link = '<link rel=\"stylesheet\" type=\"text/css\" href=\"_highlight_style.css\">'\n",
    "\n",
    "\n",
    "final_html = f\"\"\"\n",
    "\n",
    "<head>\n",
    "    {css_link}\n",
    "</head>\n",
    "<body>\n",
    "<div class=\"code-snippet\">\n",
    "    {text}\n",
    "</div>\n",
    "</body>\n",
    "\"\"\"\n",
    "\n",
    "with open(\"test.html\", \"w\") as f:\n",
    "    f.write(final_html)\n"
   ]
  }
 ],
 "metadata": {
  "kernelspec": {
   "display_name": "textapp",
   "language": "python",
   "name": "python3"
  },
  "language_info": {
   "codemirror_mode": {
    "name": "ipython",
    "version": 3
   },
   "file_extension": ".py",
   "mimetype": "text/x-python",
   "name": "python",
   "nbconvert_exporter": "python",
   "pygments_lexer": "ipython3",
   "version": "3.11.5"
  }
 },
 "nbformat": 4,
 "nbformat_minor": 2
}
