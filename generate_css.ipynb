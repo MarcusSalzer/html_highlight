{
 "cells": [
  {
   "cell_type": "markdown",
   "metadata": {},
   "source": [
    "## Generate colors from tags\n",
    "\n",
    "Idea, choose a color theme, or primary color, then generate additional colors based on text similarity between tag names??\n",
    "\n",
    "- Word distance between tag names?\n",
    "- look at tokens as well?"
   ]
  },
  {
   "cell_type": "code",
   "execution_count": 17,
   "metadata": {},
   "outputs": [],
   "source": [
    "import numpy as np"
   ]
  },
  {
   "cell_type": "code",
   "execution_count": 18,
   "metadata": {},
   "outputs": [
    {
     "name": "stdout",
     "output_type": "stream",
     "text": [
      "#fe2901\n",
      "#03e6ff\n"
     ]
    }
   ],
   "source": [
    "def rgb2hex(r, g, b):\n",
    "    \"\"\"Convert rgb color to hex.\n",
    "\n",
    "    ## Parameters\n",
    "    r,g,b: int (0-255) or float(0-1)\"\"\"\n",
    "\n",
    "    if isinstance(r, int):\n",
    "        f = 1\n",
    "    else:\n",
    "        f = 255\n",
    "    return \"#\" + \"\".join(f\"{round(i*f):02x}\" for i in (r, g, b))\n",
    "\n",
    "\n",
    "print(rgb2hex(254, 41, 1))\n",
    "print(rgb2hex(0.01, 0.9, 1))\n",
    "\n",
    "\n",
    "def random_rgb():\n",
    "    rng = np.random.default_rng()\n",
    "    return tuple(rng.random(size=3))"
   ]
  },
  {
   "cell_type": "code",
   "execution_count": 19,
   "metadata": {},
   "outputs": [
    {
     "data": {
      "text/plain": [
       "'#b35abb'"
      ]
     },
     "execution_count": 19,
     "metadata": {},
     "output_type": "execute_result"
    }
   ],
   "source": [
    "rgb2hex(*random_rgb())"
   ]
  },
  {
   "cell_type": "markdown",
   "metadata": {},
   "source": [
    "## write css\n",
    "Simply put tags and colors into a css file"
   ]
  },
  {
   "cell_type": "code",
   "execution_count": 20,
   "metadata": {},
   "outputs": [],
   "source": [
    "classes = (\"brac0\", \"brac1\", \"brac2\", \"brac3\", \"num\", \"op\", \"str\", \"unk\", \"wsp\")\n",
    "\n",
    "css_output = \"\"\n",
    "\n",
    "for c in classes:\n",
    "    s = \"\"\".{} {}\n",
    "    color: {};\n",
    "{}\n",
    "\n",
    "\"\"\".format(c, \"{\", rgb2hex(*random_rgb()), \"}\")\n",
    "    css_output += s\n",
    "\n",
    "with open(\"rando_style.css\", \"w\") as f:\n",
    "    f.write(css_output)\n"
   ]
  },
  {
   "cell_type": "code",
   "execution_count": 30,
   "metadata": {},
   "outputs": [],
   "source": [
    "from colorsys import rgb_to_hsv, hsv_to_rgb\n",
    "\n",
    "\n",
    "def generate_palette(hsv_background, n_colors: int, spread: float):\n",
    "    h_step = spread / (n_colors - 1)\n",
    "    h_back = hsv_background[0]\n",
    "    h_primary = (h_back + 0.5) % 1.0\n"
   ]
  },
  {
   "cell_type": "code",
   "execution_count": 29,
   "metadata": {},
   "outputs": [
    {
     "data": {
      "text/plain": [
       "-0.6"
      ]
     },
     "execution_count": 29,
     "metadata": {},
     "output_type": "execute_result"
    }
   ],
   "source": [
    "-0.6 % 1.0"
   ]
  }
 ],
 "metadata": {
  "kernelspec": {
   "display_name": "language-tech",
   "language": "python",
   "name": "python3"
  },
  "language_info": {
   "codemirror_mode": {
    "name": "ipython",
    "version": 3
   },
   "file_extension": ".py",
   "mimetype": "text/x-python",
   "name": "python",
   "nbconvert_exporter": "python",
   "pygments_lexer": "ipython3",
   "version": "3.11.5"
  }
 },
 "nbformat": 4,
 "nbformat_minor": 2
}
