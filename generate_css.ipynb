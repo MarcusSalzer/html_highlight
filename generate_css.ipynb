{
 "cells": [
  {
   "cell_type": "markdown",
   "metadata": {},
   "source": [
    "## Generate colors from tags\n",
    "\n",
    "Idea, choose a color theme, or primary color, then generate additional colors based on text similarity between tag names??\n",
    "\n",
    "- Word distance between tag names?\n",
    "- look at tokens as well?"
   ]
  },
  {
   "cell_type": "code",
   "execution_count": 63,
   "metadata": {},
   "outputs": [],
   "source": [
    "import numpy as np\n",
    "from importlib import reload\n",
    "import color_functions as cf\n",
    "\n",
    "_ = reload(cf)"
   ]
  },
  {
   "cell_type": "code",
   "execution_count": 64,
   "metadata": {},
   "outputs": [
    {
     "name": "stdout",
     "output_type": "stream",
     "text": [
      "#fe2901\n",
      "#03e6ff\n"
     ]
    }
   ],
   "source": [
    "print(cf.rgb2hex(254, 41, 1))\n",
    "print(cf.rgb2hex(0.01, 0.9, 1))"
   ]
  },
  {
   "cell_type": "code",
   "execution_count": 65,
   "metadata": {},
   "outputs": [
    {
     "data": {
      "text/plain": [
       "'#6cf966'"
      ]
     },
     "execution_count": 65,
     "metadata": {},
     "output_type": "execute_result"
    }
   ],
   "source": [
    "cf.rgb2hex(*cf.random_rgb())"
   ]
  },
  {
   "cell_type": "markdown",
   "metadata": {},
   "source": [
    "## write css\n",
    "Simply put tags and colors into a css file"
   ]
  },
  {
   "cell_type": "code",
   "execution_count": 66,
   "metadata": {},
   "outputs": [],
   "source": [
    "classes = (\n",
    "    \"assign\",\n",
    "    \"brac1\",\n",
    "    \"brac2\",\n",
    "    \"brac3\",\n",
    "    \"func\",\n",
    "    \"keyword\",\n",
    "    \"num\",\n",
    "    \"op\",\n",
    "    \"punct\",\n",
    "    \"str\",\n",
    "    \"unk\",\n",
    "    \"var\",\n",
    "    \"wsp\",\n",
    ")"
   ]
  },
  {
   "cell_type": "code",
   "execution_count": 67,
   "metadata": {},
   "outputs": [],
   "source": [
    "from colorsys import hsv_to_rgb\n",
    "\n",
    "hsv_back = (0.65, 0.2, 0.2)\n",
    "colors = cf.palette_from_background(\n",
    "    len(classes), hsv_background=hsv_back, spread=(0, 0, 0), noise=1\n",
    ")\n"
   ]
  },
  {
   "cell_type": "code",
   "execution_count": 68,
   "metadata": {},
   "outputs": [],
   "source": [
    "css_output = \"\"\".code-snippet {}\n",
    "    background-color: {};\n",
    "    padding: 10px;\n",
    "    border-radius: 0px;\n",
    "    font-family: monospace;\n",
    "    color: #ddd;\n",
    "    max-width: fit-content;\n",
    "{}\n",
    "\n",
    "\"\"\".format(\"{\", cf.rgb2hex(*hsv_to_rgb(*hsv_back)), \"}\")\n",
    "\n",
    "for c, color in zip(classes, colors):\n",
    "    s = \"\"\".{} {}\n",
    "    color: {};\n",
    "{}\n",
    "\n",
    "\"\"\".format(c, \"{\", cf.rgb2hex(*color), \"}\")\n",
    "    css_output += s\n",
    "\n",
    "with open(\"_rando_style.css\", \"w\") as f:\n",
    "    f.write(css_output)"
   ]
  }
 ],
 "metadata": {
  "kernelspec": {
   "display_name": "language-tech",
   "language": "python",
   "name": "python3"
  },
  "language_info": {
   "codemirror_mode": {
    "name": "ipython",
    "version": 3
   },
   "file_extension": ".py",
   "mimetype": "text/x-python",
   "name": "python",
   "nbconvert_exporter": "python",
   "pygments_lexer": "ipython3",
   "version": "3.11.4"
  }
 },
 "nbformat": 4,
 "nbformat_minor": 2
}
