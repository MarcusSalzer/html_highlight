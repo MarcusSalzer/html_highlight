{
 "cells": [
  {
   "cell_type": "markdown",
   "metadata": {},
   "source": [
    "## Generate colors from tags\n",
    "\n",
    "Idea, choose a color theme, or primary color, then generate additional colors based on text similarity between tag names??\n",
    "\n",
    "- Word distance between tag names?\n",
    "- look at tokens as well?"
   ]
  },
  {
   "cell_type": "code",
   "execution_count": 105,
   "metadata": {},
   "outputs": [],
   "source": [
    "import numpy as np"
   ]
  },
  {
   "cell_type": "code",
   "execution_count": 106,
   "metadata": {},
   "outputs": [
    {
     "name": "stdout",
     "output_type": "stream",
     "text": [
      "#fe2901\n",
      "#03e6ff\n"
     ]
    }
   ],
   "source": [
    "def rgb2hex(r, g, b):\n",
    "    \"\"\"Convert rgb color to hex.\n",
    "\n",
    "    ## Parameters\n",
    "    r,g,b: int (0-255) or float(0-1)\"\"\"\n",
    "\n",
    "    if isinstance(r, int):\n",
    "        f = 1\n",
    "    else:\n",
    "        f = 255\n",
    "    return \"#\" + \"\".join(f\"{round(i*f):02x}\" for i in (r, g, b))\n",
    "\n",
    "\n",
    "print(rgb2hex(254, 41, 1))\n",
    "print(rgb2hex(0.01, 0.9, 1))\n",
    "\n",
    "\n",
    "def random_rgb():\n",
    "    rng = np.random.default_rng()\n",
    "    return tuple(rng.random(size=3))"
   ]
  },
  {
   "cell_type": "code",
   "execution_count": 107,
   "metadata": {},
   "outputs": [
    {
     "data": {
      "text/plain": [
       "'#1f54a9'"
      ]
     },
     "execution_count": 107,
     "metadata": {},
     "output_type": "execute_result"
    }
   ],
   "source": [
    "rgb2hex(*random_rgb())"
   ]
  },
  {
   "cell_type": "markdown",
   "metadata": {},
   "source": [
    "## write css\n",
    "Simply put tags and colors into a css file"
   ]
  },
  {
   "cell_type": "code",
   "execution_count": 108,
   "metadata": {},
   "outputs": [],
   "source": [
    "classes = (\"brac_cl\", \"brac_op\", \"num\", \"op\", \"str\", \"unk\", \"wsp\")\n",
    "\n",
    "css_output = \"\"\n",
    "\n",
    "for c in classes:\n",
    "    s = \"\"\"\n",
    "    .{} {}\n",
    "        color: {};\n",
    "    {}\n",
    "    \"\"\".format(c, \"{\", rgb2hex(*random_rgb()), \"}\")\n",
    "    css_output += s\n",
    "with open(\"rando_style.css\", \"w\") as f:\n",
    "    f.write(css_output)\n"
   ]
  }
 ],
 "metadata": {
  "kernelspec": {
   "display_name": "language-tech",
   "language": "python",
   "name": "python3"
  },
  "language_info": {
   "codemirror_mode": {
    "name": "ipython",
    "version": 3
   },
   "file_extension": ".py",
   "mimetype": "text/x-python",
   "name": "python",
   "nbconvert_exporter": "python",
   "pygments_lexer": "ipython3",
   "version": "3.11.5"
  }
 },
 "nbformat": 4,
 "nbformat_minor": 2
}
