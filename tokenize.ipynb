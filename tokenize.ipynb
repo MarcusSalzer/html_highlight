{
 "cells": [
  {
   "cell_type": "code",
   "execution_count": 267,
   "metadata": {},
   "outputs": [],
   "source": [
    "import regex as re\n",
    "import numpy as np\n",
    "import matplotlib.pyplot as plt"
   ]
  },
  {
   "cell_type": "code",
   "execution_count": 268,
   "metadata": {},
   "outputs": [
    {
     "name": "stdout",
     "output_type": "stream",
     "text": [
      "import json as jorre\n",
      "\n",
      "y = 9.77\n",
      "x = [37, 2]\n",
      "for k in range(x[0]):\n",
      "    print(((\"öh\" * k)))\n",
      "\n",
      "this_variable = \"hej på dig\"\n",
      "\n",
      "a_longer123string = this_variable + \"ööhö\"\n"
     ]
    }
   ],
   "source": [
    "input_file = \"input.py\"\n",
    "\n",
    "with open(input_file) as f:\n",
    "    text = f.read()\n",
    "\n",
    "print(text)"
   ]
  },
  {
   "cell_type": "code",
   "execution_count": 269,
   "metadata": {},
   "outputs": [
    {
     "name": "stdout",
     "output_type": "stream",
     "text": [
      "['import', ' ', 'json', ' ', 'as', ' ', 'jorre', '\\n\\n', 'y', ' ', '=', ' ', '9', '.', '77', '\\n', 'x', ' ', '=', ' ', '[', '37', ',', ' ', '2', ']', '\\n', 'for', ' ', 'k', ' ', 'in', ' ', 'range', '(', 'x', '[', '0', ']):', '\\n    ', 'print', '(((\"', 'öh', '\"', ' ', '*', ' ', 'k', ')))', '\\n\\n', 'this_variable', ' ', '=', ' ', '\"', 'hej', ' ', 'på', ' ', 'dig', '\"', '\\n\\n', 'a_longer123string', ' ', '=', ' ', 'this_variable', ' ', '+', ' ', '\"', 'ööhö', '\"']\n",
      "['import', ' ', 'json', ' ', 'as', ' ', 'jorre', '\\n', '\\n', 'y', ' ', '=', ' ', '9.77', '\\n', 'x', ' ', '=', ' ', '[', '37', ',', ' ', '2', ']', '\\n', 'for', ' ', 'k', ' ', 'in', ' ', 'range', '(', 'x', '[', '0', ']', ')', ':', '\\n', ' ', ' ', ' ', ' ', 'print', '(', '(', '(', '\"öh\"', ' ', '*', ' ', 'k', ')', ')', ')', '\\n', '\\n', 'this_variable', ' ', '=', ' ', '\"hej på dig\"', '\\n', '\\n', 'a_longer123string', ' ', '=', ' ', 'this_variable', ' ', '+', ' ', '\"ööhö\"']\n"
     ]
    }
   ],
   "source": [
    "def tokenize(text) -> list[str]:\n",
    "    \"\"\"Tokenize a text\"\"\"\n",
    "    # Possible string delimiters\n",
    "    string_delims = {'\"', \"'\", '\"\"\"', \"'''\"}\n",
    "\n",
    "    # split everything\n",
    "    tokens: list[str] = re.findall(r\"(\\w+|[^\\w\\s]+|\\s+|\\n)\", text)\n",
    "\n",
    "    print(tokens)\n",
    "    ## split tokens without letters or numbers\n",
    "    tmp: list[str] = []\n",
    "    for t in tokens:\n",
    "        if bool(re.search(r\"\\p{L}|\\p{digit}\", t)):\n",
    "            tmp.append(t)\n",
    "        # elif len(t) > 1 and all((c == t[0] for c in t)):\n",
    "        #     tmp.append(t)\n",
    "        else:\n",
    "            tmp.extend(list(t))\n",
    "\n",
    "    tokens = tmp\n",
    "\n",
    "    ## reunite string literals\n",
    "    tmp = []\n",
    "    tags = []\n",
    "    current_delim = \"\"\n",
    "    current_string = \"\"\n",
    "    for i, t in enumerate(tokens):\n",
    "        if current_delim == \"\":\n",
    "            if t in string_delims:\n",
    "                # start a string\n",
    "                current_delim = t\n",
    "                current_string += t\n",
    "            else:\n",
    "                tmp.append(t)\n",
    "                tags.append(\"unk\")\n",
    "        else:\n",
    "            if t == current_delim:\n",
    "                # break current string\n",
    "                current_delim = \"\"\n",
    "                current_string += t\n",
    "                tmp.append(current_string)\n",
    "                tags.append(\"str\")\n",
    "                current_string = \"\"\n",
    "            else:\n",
    "                # add to current string\n",
    "                current_string += t\n",
    "\n",
    "    tokens = tmp\n",
    "\n",
    "    ## reunite decimal numbers\n",
    "    tmp = []\n",
    "    tmp_tags = []\n",
    "    current_num = \"\"\n",
    "    for i, (token, tag) in enumerate(zip(tokens, tags)):\n",
    "        token_next = None\n",
    "        if i < len(tokens) - 1:\n",
    "            token_next = tokens[i + 1]\n",
    "\n",
    "        num_char = token.isdigit() or (token == \".\" and token_next.isdigit())\n",
    "\n",
    "        if current_num == \"\":\n",
    "            if num_char:\n",
    "                current_num = token\n",
    "            else:\n",
    "                tmp.append(token)\n",
    "                tmp_tags.append(tag)\n",
    "        else:\n",
    "            if num_char:\n",
    "                current_num += token\n",
    "            else:\n",
    "                # end number\n",
    "                tmp.append(current_num)\n",
    "                tmp_tags.append(\"num\")\n",
    "                current_num = \"\"\n",
    "                tmp.append(token)\n",
    "                tmp_tags.append(tag)\n",
    "\n",
    "    tokens = tmp\n",
    "    tags = tmp_tags\n",
    "\n",
    "    return tokens, tags\n",
    "\n",
    "\n",
    "tokens, tags = tokenize(text)\n",
    "print(tokens)"
   ]
  },
  {
   "cell_type": "code",
   "execution_count": 270,
   "metadata": {},
   "outputs": [],
   "source": [
    "a = [1, 2, 3]"
   ]
  },
  {
   "cell_type": "markdown",
   "metadata": {},
   "source": [
    "## tagging"
   ]
  },
  {
   "cell_type": "code",
   "execution_count": 271,
   "metadata": {},
   "outputs": [
    {
     "name": "stdout",
     "output_type": "stream",
     "text": [
      "# tokens 75\n",
      "4 keyword 'as'\n",
      "11 op '='\n",
      "13 num '9.77'\n",
      "17 op '='\n",
      "19 brac_op '['\n",
      "20 num '37'\n",
      "21 op ','\n",
      "23 num '2'\n",
      "24 brac_cl ']'\n",
      "26 keyword 'for'\n",
      "30 keyword 'in'\n",
      "33 brac_op '('\n",
      "35 brac_op '['\n",
      "36 num '0'\n",
      "37 brac_cl ']'\n",
      "38 brac_cl ')'\n",
      "39 op ':'\n",
      "46 brac_op '('\n",
      "47 brac_op '('\n",
      "48 brac_op '('\n",
      "49 str '\"öh\"'\n",
      "51 op '*'\n",
      "54 brac_cl ')'\n",
      "55 brac_cl ')'\n",
      "56 brac_cl ')'\n",
      "61 op '='\n",
      "63 str '\"hej på dig\"'\n",
      "68 op '='\n",
      "72 op '+'\n",
      "74 str '\"ööhö\"'\n"
     ]
    }
   ],
   "source": [
    "print(\"# tokens\", len(tokens))\n",
    "\n",
    "known_chars = {\n",
    "    \"op\": r\"=!%&/+-*:,\",\n",
    "    \"brac_op\": r\"([{\",\n",
    "    \"brac_cl\": r\")]}\",\n",
    "    \"keyword\": r\"for|while|as|in|if|else\",\n",
    "}\n",
    "\n",
    "# first: tag individual tokens\n",
    "\n",
    "for i, token in enumerate(tokens):\n",
    "    if token.isdigit():\n",
    "        tags[i] = \"num\"\n",
    "        continue\n",
    "    elif not bool(re.search(\"[^\\s]\", token)):\n",
    "        tags[i] = \"wsp\"\n",
    "\n",
    "    for key in known_chars.keys():\n",
    "        if token in known_chars[key]:\n",
    "            tags[i] = key\n",
    "            break\n",
    "\n",
    "\n",
    "# print\n",
    "for i, x in enumerate(zip(tags, tokens)):\n",
    "    if x[0] != \"unk\" and x[0] != \"wsp\":\n",
    "        print(i, x[0], repr(x[1]))"
   ]
  },
  {
   "cell_type": "code",
   "execution_count": null,
   "metadata": {},
   "outputs": [],
   "source": []
  },
  {
   "cell_type": "code",
   "execution_count": 272,
   "metadata": {},
   "outputs": [
    {
     "name": "stdout",
     "output_type": "stream",
     "text": [
      "unk\timport\n",
      "unk\tjson\n",
      "unk\tjorre\n",
      "unk\ty\n",
      "unk\tx\n",
      "unk\tk\n",
      "unk\trange\n",
      "unk\tx\n",
      "unk\tprint\n",
      "unk\tk\n",
      "unk\tthis_variable\n",
      "unk\ta_longer123string\n",
      "unk\tthis_variable\n",
      "' ';' ';' ';'\\n';'\\n';' ';' ';'\\n';' ';' ';' ';'\\n';' ';' ';' ';'\\n';' ';' ';' ';' ';' ';' ';'\\n';'\\n';' ';' ';'\\n';'\\n';' ';' ';' ';' ';"
     ]
    }
   ],
   "source": [
    "for x in zip(tags, tokens):\n",
    "    if x[0] == \"unk\":\n",
    "        print(\"\\t\".join(x))\n",
    "\n",
    "for x in zip(tags, tokens):\n",
    "    if x[0] == \"wsp\":\n",
    "        print(repr(x[1]), end=\";\")"
   ]
  },
  {
   "cell_type": "markdown",
   "metadata": {},
   "source": [
    "## features"
   ]
  },
  {
   "cell_type": "code",
   "execution_count": 273,
   "metadata": {},
   "outputs": [],
   "source": [
    "feature_names = (\n",
    "    \"in_()\",\n",
    "    \"in_[],\",\n",
    "    \"before_.\",\n",
    "    \"after_.\",\n",
    "    \"before_(\",\n",
    "    \"before_[\",\n",
    "    \"before_op\",\n",
    "    \"after_op\",\n",
    ")"
   ]
  },
  {
   "cell_type": "markdown",
   "metadata": {},
   "source": [
    "### bracket level"
   ]
  },
  {
   "cell_type": "code",
   "execution_count": 274,
   "metadata": {},
   "outputs": [],
   "source": [
    "brac_level = []\n",
    "current_level = 0\n",
    "for i, token in enumerate(tokens):\n",
    "    tag = tags[i]\n",
    "    if tag == \"brac_op\":\n",
    "        brac_level.append(current_level)\n",
    "        current_level += 1\n",
    "        tags[i] = f\"brac{current_level}\"\n",
    "    elif tag == \"brac_cl\":\n",
    "        tags[i] = f\"brac{current_level}\"\n",
    "        current_level -= 1\n",
    "        brac_level.append(current_level)\n",
    "    else:\n",
    "        brac_level.append(current_level)"
   ]
  },
  {
   "cell_type": "code",
   "execution_count": 275,
   "metadata": {},
   "outputs": [
    {
     "name": "stdout",
     "output_type": "stream",
     "text": [
      "feature matrix (75, 8)\n",
      "(0, 'in_()') (1, 'in_[],') (2, 'before_.') (3, 'after_.') (4, 'before_(') (5, 'before_[') (6, 'before_op') (7, 'after_op')\n"
     ]
    },
    {
     "data": {
      "image/png": "[encoded data removed]",
      "text/plain": [
       "<Figure size 640x480 with 1 Axes>"
      ]
     },
     "metadata": {},
     "output_type": "display_data"
    }
   ],
   "source": [
    "features = np.zeros((len(tokens), len(feature_names)))\n",
    "\n",
    "print(\"feature matrix\", features.shape)\n",
    "print(*zip(range(len(feature_names)), feature_names))\n",
    "\n",
    "# in brackets?\n",
    "features[:, 1] = np.array(brac_level)\n",
    "\n",
    "# before and after?\n",
    "for i, token in enumerate(tokens):\n",
    "    if token == \".\":\n",
    "        if i > 0:\n",
    "            features[i - 1, 2] = 1\n",
    "        if i < len(tokens) - 1:\n",
    "            features[i + 1, 3] = 1\n",
    "\n",
    "    if token == \"(\":\n",
    "        if i > 0:\n",
    "            features[i - 1, 4] = 1\n",
    "\n",
    "    if token == \"[\":\n",
    "        if i > 0:\n",
    "            features[i - 1, 5] = 1\n",
    "\n",
    "    if tags[i] == \"op\":\n",
    "        if i > 0:\n",
    "            features[i - 1, 6] = 1\n",
    "        if i < len(tokens) - 1:\n",
    "            features[i + 1, 7] = 1\n",
    "\n",
    "\n",
    "plt.figure()\n",
    "plt.imshow(features, cmap=\"gray\")\n",
    "plt.title(\"feature matrix\")\n",
    "plt.xlabel(\"feature\")\n",
    "plt.ylabel(\"token\")\n",
    "plt.show()"
   ]
  },
  {
   "cell_type": "markdown",
   "metadata": {},
   "source": [
    "## classify"
   ]
  },
  {
   "cell_type": "code",
   "execution_count": 276,
   "metadata": {},
   "outputs": [
    {
     "name": "stdout",
     "output_type": "stream",
     "text": [
      "(75, 2)\n"
     ]
    },
    {
     "data": {
      "image/png": "[encoded data removed]",
      "text/plain": [
       "<Figure size 640x480 with 1 Axes>"
      ]
     },
     "metadata": {},
     "output_type": "display_data"
    }
   ],
   "source": [
    "from sklearn.decomposition import PCA\n",
    "\n",
    "rng = np.random.default_rng()\n",
    "\n",
    "pca = PCA(n_components=2)\n",
    "\n",
    "f_PCA = pca.fit_transform(features)\n",
    "print(f_PCA.shape)\n",
    "\n",
    "plt.figure()\n",
    "plt.scatter(x=f_PCA[:, 0], y=f_PCA[:, 1], alpha=0.1)\n",
    "for i, t in enumerate(tokens):\n",
    "    c = \"#000\"\n",
    "    if tags[i] == \"unk\":\n",
    "        c = \"r\"\n",
    "    elif tags[i] == \"num\":\n",
    "        c = \"g\"\n",
    "\n",
    "    plt.text(x=f_PCA[i, 0], y=f_PCA[i, 1], s=repr(t), rotation=45, color=c)"
   ]
  },
  {
   "cell_type": "code",
   "execution_count": 277,
   "metadata": {},
   "outputs": [
    {
     "name": "stdout",
     "output_type": "stream",
     "text": [
      "('brac1', 'brac2', 'brac3', 'keyword', 'num', 'op', 'str', 'unk', 'wsp')\n"
     ]
    }
   ],
   "source": [
    "classes = tuple(sorted(set(tags)))\n",
    "print(classes)"
   ]
  },
  {
   "cell_type": "markdown",
   "metadata": {},
   "source": [
    "## cleanup"
   ]
  },
  {
   "cell_type": "code",
   "execution_count": 278,
   "metadata": {},
   "outputs": [
    {
     "name": "stdout",
     "output_type": "stream",
     "text": [
      "# tokens/tags 75\n",
      "after merge # tokens/tags 68\n",
      "count unknown 13\n"
     ]
    }
   ],
   "source": [
    "print(\"# tokens/tags\", len(tokens))\n",
    "\n",
    "# Merge adjacent of same class\n",
    "tmp = []\n",
    "tmp_tags = []\n",
    "\n",
    "current_seq = []\n",
    "for i, (token, tag) in enumerate(zip(tokens, tags)):\n",
    "    tag_next = tags[i + 1] if i < len(tags) - 1 else None\n",
    "    if not tag == tag_next:\n",
    "        if len(current_seq) > 0:\n",
    "            current_seq.append(token)\n",
    "            tmp.append(\"\".join(current_seq))\n",
    "            tmp_tags.append(tag)\n",
    "            current_seq = []\n",
    "        else:\n",
    "            tmp.append(token)\n",
    "            tmp_tags.append(tag)\n",
    "    else:\n",
    "        current_seq.append(token)\n",
    "\n",
    "tokens = tmp\n",
    "tags = tmp_tags\n",
    "\n",
    "print(\"after merge # tokens/tags\", len(tokens))\n",
    "print(\"count unknown\", sum([t == \"unk\" for t in tags]))"
   ]
  },
  {
   "cell_type": "code",
   "execution_count": 279,
   "metadata": {},
   "outputs": [
    {
     "name": "stdout",
     "output_type": "stream",
     "text": [
      "['import', ' ', 'json', ' ', 'as', ' ', 'jorre', '\\n\\n', 'y', ' ', '=', ' ', '9.77', '\\n', 'x', ' ', '=', ' ', '[', '37', ',', ' ', '2', ']', '\\n', 'for', ' ', 'k', ' ', 'in', ' ', 'range', '(', 'x', '[', '0', ']', ')', ':', '\\n    ', 'print', '(', '(', '(', '\"öh\"', ' ', '*', ' ', 'k', ')', ')', ')', '\\n\\n', 'this_variable', ' ', '=', ' ', '\"hej på dig\"', '\\n\\n', 'a_longer123string', ' ', '=', ' ', 'this_variable', ' ', '+', ' ', '\"ööhö\"']\n"
     ]
    }
   ],
   "source": [
    "print(tokens)"
   ]
  },
  {
   "cell_type": "code",
   "execution_count": 280,
   "metadata": {},
   "outputs": [
    {
     "name": "stdout",
     "output_type": "stream",
     "text": [
      "import json <span class=\"keyword\">as</span> jorre<br>\n",
      "<br>\n",
      "y <span class=\"op\">=</span> <span class=\"num\">9.77</span><br>\n",
      "x <span class=\"op\">=</span> <span class=\"brac1\">[</span><span class=\"num\">37</span><span class=\"op\">,</span> <span class=\"num\">2</span><span class=\"brac1\">]</span><br>\n",
      "<span class=\"keyword\">for</span> k <span class=\"keyword\">in</span> range<span class=\"brac1\">(</span>x<span class=\"brac2\">[</span><span class=\"num\">0</span><span class=\"brac2\">]</span><span class=\"brac1\">)</span><span class=\"op\">:</span><br>\n",
      "&nbsp; &nbsp; print<span class=\"brac1\">(</span><span class=\"brac2\">(</span><span class=\"brac3\">(</span><span class=\"str\">&quot;öh&quot;</span> <span class=\"op\">*</span> k<span class=\"brac3\">)</span><span class=\"brac2\">)</span><span class=\"brac1\">)</span><br>\n",
      "<br>\n",
      "this_variable <span class=\"op\">=</span> <span class=\"str\">&quot;hej på dig&quot;</span><br>\n",
      "<br>\n",
      "a_longer123string <span class=\"op\">=</span> this_variable <span class=\"op\">+</span> <span class=\"str\">&quot;ööhö&quot;</span>\n"
     ]
    }
   ],
   "source": [
    "def html_specials(text: str) -> str:\n",
    "    \"\"\"Replace html reserved characters, preserve indentation and line-breaks\"\"\"\n",
    "    text = re.sub(r\"&\", r\"&amp;\", text)\n",
    "    text = re.sub(r\"<\", r\"&lt;\", text)\n",
    "    text = re.sub(r\">\", r\"&gt;\", text)\n",
    "    text = re.sub(r'\"', r\"&quot;\", text)\n",
    "    text = re.sub(r\"'\", r\"&apos;\", text)\n",
    "    text = re.sub(r\"  \", r\"&nbsp; \", text)\n",
    "    text = re.sub(r\"\\n\", r\"<br>\\n\", text)\n",
    "    return text\n",
    "\n",
    "\n",
    "EXCLUDE_TAGS = (\"unk\", \"wsp\")\n",
    "\n",
    "tokens_with_tags = []\n",
    "for token, tag in zip(tokens, tags):\n",
    "    # fix html specials\n",
    "    token_text = html_specials(token)\n",
    "    if tag in EXCLUDE_TAGS:\n",
    "        tokens_with_tags.append(token_text)\n",
    "    else:\n",
    "        tokens_with_tags.append(f\"\"\"<span class=\"{tag}\">{token_text}</span>\"\"\")\n",
    "\n",
    "text = \"\".join(tokens_with_tags)\n",
    "\n",
    "\n",
    "print(text)\n"
   ]
  },
  {
   "cell_type": "markdown",
   "metadata": {},
   "source": [
    "## output"
   ]
  },
  {
   "cell_type": "code",
   "execution_count": 281,
   "metadata": {},
   "outputs": [],
   "source": [
    "css_link = '<link rel=\"stylesheet\" type=\"text/css\" href=\"_highlight_style.css\">'\n",
    "html_text = f\"\"\"<div class=\"code-snippet\">{text}</div>\"\"\"\n",
    "final_html = f\"\"\"\n",
    "<head>\n",
    "    {css_link}\n",
    "</head>\n",
    "<body>\n",
    "    {html_text}\n",
    "</body>\n",
    "\"\"\"\n",
    "\n",
    "with open(\"output.html\", \"w\") as f:\n",
    "    f.write(final_html)"
   ]
  }
 ],
 "metadata": {
  "kernelspec": {
   "display_name": "textapp",
   "language": "python",
   "name": "python3"
  },
  "language_info": {
   "codemirror_mode": {
    "name": "ipython",
    "version": 3
   },
   "file_extension": ".py",
   "mimetype": "text/x-python",
   "name": "python",
   "nbconvert_exporter": "python",
   "pygments_lexer": "ipython3",
   "version": "3.11.5"
  }
 },
 "nbformat": 4,
 "nbformat_minor": 2
}
