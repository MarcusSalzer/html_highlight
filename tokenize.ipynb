{
 "cells": [
  {
   "cell_type": "code",
   "execution_count": 132,
   "metadata": {},
   "outputs": [],
   "source": [
    "import regex as re"
   ]
  },
  {
   "cell_type": "code",
   "execution_count": 133,
   "metadata": {},
   "outputs": [
    {
     "name": "stdout",
     "output_type": "stream",
     "text": [
      "from highlighting_functions import Highlighter\n",
      "import json as jorre\n",
      "\n",
      "this_variable = \"hej på dig\"\n",
      "trippeljävel = \"\"\"wtf\"\"\"\n",
      "\n",
      "a_longer123string = this_variable + 'ööhö'\n"
     ]
    }
   ],
   "source": [
    "input_file = \"input.py\"\n",
    "\n",
    "with open(input_file) as f:\n",
    "    text = f.read()\n",
    "\n",
    "print(text)"
   ]
  },
  {
   "cell_type": "code",
   "execution_count": 134,
   "metadata": {},
   "outputs": [
    {
     "name": "stdout",
     "output_type": "stream",
     "text": [
      "['from', ' ', 'highlighting_functions', ' ', 'import', ' ', 'Highlighter', '\\n', 'import', ' ', 'json', ' ', 'as', ' ', 'jorre', '\\n\\n', 'this_variable', ' ', '=', ' ', '\"', 'hej', ' ', 'på', ' ', 'dig', '\"', '\\n', 'trippeljävel', ' ', '=', ' ', '\"\"\"', 'wtf', '\"\"\"', '\\n\\n', 'a_longer123string', ' ', '=', ' ', 'this_variable', ' ', '+', ' ', \"'\", 'ööhö', \"'\"]\n",
      "['from', ' ', 'highlighting_functions', ' ', 'import', ' ', 'Highlighter', '\\n', 'import', ' ', 'json', ' ', 'as', ' ', 'jorre', '\\n\\n', 'this_variable', ' ', '=', ' ', '\"hej på dig\"', '\\n', 'trippeljävel', ' ', '=', ' ', '\"\"\"', 'wtf', '\"\"\"', '\\n\\n', 'a_longer123string', ' ', '=', ' ', 'this_variable', ' ', '+', ' ', \"'ööhö'\"]\n"
     ]
    }
   ],
   "source": [
    "def tokenize(text) -> list[str]:\n",
    "    \"\"\"Tokenize a text\"\"\"\n",
    "    # Possible string delimiters\n",
    "    string_delims = {'\"', \"'\", '\"\"\"', \"'''\"}\n",
    "\n",
    "    # split everything\n",
    "    tokens = re.findall(r\"(\\w+|[^\\w\\s]+|\\s+|\\n)\", text)\n",
    "\n",
    "    # reunite string literals\n",
    "    tokens_merged = []\n",
    "    current_delim = \"\"\n",
    "    current_string = \"\"\n",
    "    strs_count = 0\n",
    "    for t in tokens:\n",
    "        if current_delim == \"\":\n",
    "            if t in string_delims:\n",
    "                # start a string\n",
    "                strs_count += 1\n",
    "                current_delim = t\n",
    "                current_string += t\n",
    "            else:\n",
    "                tokens_merged.append(t)\n",
    "        else:\n",
    "            if t == current_delim:\n",
    "                # break current string\n",
    "                current_delim = \"\"\n",
    "                current_string += t\n",
    "                tokens_merged.append(current_string)\n",
    "                current_string = \"\"\n",
    "            else:\n",
    "                # add to current string\n",
    "                current_string += t\n",
    "\n",
    "    print(tokens)\n",
    "    return tokens_merged\n",
    "\n",
    "\n",
    "tokens = tokenize(text)\n",
    "print(tokens)"
   ]
  },
  {
   "cell_type": "markdown",
   "metadata": {},
   "source": []
  },
  {
   "cell_type": "code",
   "execution_count": 135,
   "metadata": {},
   "outputs": [],
   "source": []
  },
  {
   "cell_type": "code",
   "execution_count": 136,
   "metadata": {},
   "outputs": [],
   "source": [
    "classes = (\"var\", \"op\", \"num\")\n"
   ]
  }
 ],
 "metadata": {
  "kernelspec": {
   "display_name": "textapp",
   "language": "python",
   "name": "python3"
  },
  "language_info": {
   "codemirror_mode": {
    "name": "ipython",
    "version": 3
   },
   "file_extension": ".py",
   "mimetype": "text/x-python",
   "name": "python",
   "nbconvert_exporter": "python",
   "pygments_lexer": "ipython3",
   "version": "3.11.5"
  }
 },
 "nbformat": 4,
 "nbformat_minor": 2
}
