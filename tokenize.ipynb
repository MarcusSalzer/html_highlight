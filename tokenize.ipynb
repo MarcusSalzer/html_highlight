{
 "cells": [
  {
   "cell_type": "code",
   "execution_count": 105,
   "metadata": {},
   "outputs": [],
   "source": [
    "import regex as re\n",
    "import numpy as np\n",
    "import matplotlib.pyplot as plt\n",
    "import highlighting_functions as hf\n",
    "from importlib import reload\n",
    "\n",
    "_ = reload(hf)"
   ]
  },
  {
   "cell_type": "code",
   "execution_count": 106,
   "metadata": {},
   "outputs": [
    {
     "name": "stdout",
     "output_type": "stream",
     "text": [
      "print(\"# tokens\", len(tokens))\n",
      "\n",
      "known_default = {\n",
      "    \"assign\": r\"=\",\n",
      "    \"punct\": r\",;\",\n",
      "    \"op\": r\"!%&/+-*:\",\n",
      "    \"brac_op\": r\"([{\",\n",
      "    \"brac_cl\": r\")]}\",\n",
      "    \"keyword\": r\"for|while|foreach|as|in|if|else|elif|and|or|not\",\n",
      "}\n",
      "\n",
      "\n",
      "# first: tag individual tokens\n",
      "tags = hf.tag_individuals(tokens, tags, known_default)\n",
      "\n",
      "# second: context\n",
      "\n",
      "tags = hf.tag_variables(tokens, tags)\n",
      "tags = hf.tag_functions(tokens, tags)\n"
     ]
    }
   ],
   "source": [
    "input_file = \"input.py\"\n",
    "\n",
    "with open(input_file) as f:\n",
    "    text = f.read()\n",
    "\n",
    "print(text)"
   ]
  },
  {
   "cell_type": "code",
   "execution_count": 107,
   "metadata": {},
   "outputs": [
    {
     "name": "stdout",
     "output_type": "stream",
     "text": [
      "['print', '(\"#', ' ', 'tokens', '\",', ' ', 'len', '(', 'tokens', '))', '\\n\\n', 'known_default', ' ', '=', ' ', '{', '\\n    ', '\"', 'assign', '\":', ' ', 'r', '\"=\",', '\\n    ', '\"', 'punct', '\":', ' ', 'r', '\",;\",', '\\n    ', '\"', 'op', '\":', ' ', 'r', '\"!%&/+-*:\",', '\\n    ', '\"', 'brac_op', '\":', ' ', 'r', '\"([{\",', '\\n    ', '\"', 'brac_cl', '\":', ' ', 'r', '\")]}\",', '\\n    ', '\"', 'keyword', '\":', ' ', 'r', '\"', 'for', '|', 'while', '|', 'foreach', '|', 'as', '|', 'in', '|', 'if', '|', 'else', '|', 'elif', '|', 'and', '|', 'or', '|', 'not', '\",', '\\n', '}', '\\n\\n\\n', '#', ' ', 'first', ':', ' ', 'tag', ' ', 'individual', ' ', 'tokens', '\\n', 'tags', ' ', '=', ' ', 'hf', '.', 'tag_individuals', '(', 'tokens', ',', ' ', 'tags', ',', ' ', 'known_default', ')', '\\n\\n', '#', ' ', 'second', ':', ' ', 'context', '\\n\\n', 'tags', ' ', '=', ' ', 'hf', '.', 'tag_variables', '(', 'tokens', ',', ' ', 'tags', ')', '\\n', 'tags', ' ', '=', ' ', 'hf', '.', 'tag_functions', '(', 'tokens', ',', ' ', 'tags', ')']\n",
      "['print', '(', '\"# tokens\"', ',', ' ', 'len', '(', 'tokens', ')', ')', '\\n', '\\n', 'known_default', ' ', '=', ' ', '{', '\\n', ' ', ' ', ' ', ' ', '\"assign\"', ':', ' ', 'r', '\"=\"', ',', '\\n', ' ', ' ', ' ', ' ', '\"punct\"', ':', ' ', 'r', '\",;\"', ',', '\\n', ' ', ' ', ' ', ' ', '\"op\"', ':', ' ', 'r', '\"!%&/+-*:\"', ',', '\\n', ' ', ' ', ' ', ' ', '\"brac_op\"', ':', ' ', 'r', '\"([{\"', ',', '\\n', ' ', ' ', ' ', ' ', '\"brac_cl\"', ':', ' ', 'r', '\")]}\"', ',', '\\n', ' ', ' ', ' ', ' ', '\"keyword\"', ':', ' ', 'r', '\"for|while|foreach|as|in|if|else|elif|and|or|not\"', ',', '\\n', '}', '\\n', '\\n', '\\n', '#', ' ', 'first', ':', ' ', 'tag', ' ', 'individual', ' ', 'tokens', '\\n', 'tags', ' ', '=', ' ', 'hf', '.', 'tag_individuals', '(', 'tokens', ',', ' ', 'tags', ',', ' ', 'known_default', ')', '\\n', '\\n', '#', ' ', 'second', ':', ' ', 'context', '\\n', '\\n', 'tags', ' ', '=', ' ', 'hf', '.', 'tag_variables', '(', 'tokens', ',', ' ', 'tags', ')', '\\n', 'tags', ' ', '=', ' ', 'hf', '.', 'tag_functions', '(', 'tokens', ',', ' ', 'tags', ')']\n"
     ]
    }
   ],
   "source": [
    "tokens, tags = hf.tokenize(text)\n",
    "print(tokens)"
   ]
  },
  {
   "cell_type": "markdown",
   "metadata": {},
   "source": [
    "## tagging"
   ]
  },
  {
   "cell_type": "code",
   "execution_count": 108,
   "metadata": {},
   "outputs": [
    {
     "name": "stdout",
     "output_type": "stream",
     "text": [
      "# tokens 152\n"
     ]
    }
   ],
   "source": [
    "print(\"# tokens\", len(tokens))\n",
    "\n",
    "known_default = {\n",
    "    \"assign\": r\"=\",\n",
    "    \"punct\": r\",;\",\n",
    "    \"op\": r\"!%&/+-*:\",\n",
    "    \"brac_op\": r\"([{\",\n",
    "    \"brac_cl\": r\")]}\",\n",
    "    \"keyword\": r\"for|while|foreach|as|in|if|else|elif|and|or|not\",\n",
    "}\n",
    "\n",
    "\n",
    "# first: tag individual tokens\n",
    "tags = hf.tag_individuals(tokens, tags, known_default)\n",
    "\n",
    "# second: context\n",
    "\n",
    "tags = hf.tag_variables(tokens, tags)\n",
    "tags = hf.tag_functions(tokens, tags)"
   ]
  },
  {
   "cell_type": "code",
   "execution_count": 109,
   "metadata": {},
   "outputs": [
    {
     "name": "stdout",
     "output_type": "stream",
     "text": [
      "unk\ttokens\n",
      "unk\t#\n",
      "unk\tfirst\n",
      "unk\ttag\n",
      "unk\tindividual\n",
      "unk\ttokens\n",
      "unk\thf\n",
      "unk\t.\n",
      "unk\ttokens\n",
      "unk\t#\n",
      "unk\tsecond\n",
      "unk\tcontext\n",
      "unk\thf\n",
      "unk\t.\n",
      "unk\ttokens\n",
      "unk\thf\n",
      "unk\t.\n",
      "unk\ttokens\n"
     ]
    }
   ],
   "source": [
    "for x in zip(tags, tokens):\n",
    "    if x[0] == \"unk\":\n",
    "        print(\"\\t\".join(x))"
   ]
  },
  {
   "cell_type": "markdown",
   "metadata": {},
   "source": [
    "## features"
   ]
  },
  {
   "cell_type": "code",
   "execution_count": 110,
   "metadata": {},
   "outputs": [],
   "source": [
    "feature_names = (\n",
    "    \"x\",\n",
    "    \"x\",\n",
    "    \"before_.\",\n",
    "    \"after_.\",\n",
    "    \"before_(\",\n",
    "    \"before_[\",\n",
    "    \"before_op\",\n",
    "    \"after_op\",\n",
    ")"
   ]
  },
  {
   "cell_type": "markdown",
   "metadata": {},
   "source": [
    "### bracket level"
   ]
  },
  {
   "cell_type": "code",
   "execution_count": 111,
   "metadata": {},
   "outputs": [],
   "source": [
    "brac_level = []\n",
    "current_level = 0\n",
    "for i, token in enumerate(tokens):\n",
    "    tag = tags[i]\n",
    "    if tag == \"brac_op\":\n",
    "        brac_level.append(current_level)\n",
    "        current_level += 1\n",
    "        tags[i] = f\"brac{current_level}\"\n",
    "    elif tag == \"brac_cl\":\n",
    "        tags[i] = f\"brac{current_level}\"\n",
    "        current_level -= 1\n",
    "        brac_level.append(current_level)\n",
    "    else:\n",
    "        brac_level.append(current_level)"
   ]
  },
  {
   "cell_type": "markdown",
   "metadata": {},
   "source": [
    "## comments, unknowns per line?\n",
    "\n",
    "- many unknowns\n",
    "- Starts with token not present in completely tagged lines\n",
    "- comment symbol\n",
    "    - not after assign\n",
    "    - not inside brackets\n",
    "    - NOT necessatily start of line"
   ]
  },
  {
   "cell_type": "code",
   "execution_count": 129,
   "metadata": {},
   "outputs": [
    {
     "data": {
      "text/plain": [
       "[0, 0.0, 0, 0, 0, 0, 0, 0, 0, 0, 0.0, 0.0, 0, 0, 0.0, 0, 0.0, 0]"
      ]
     },
     "execution_count": 129,
     "metadata": {},
     "output_type": "execute_result"
    }
   ],
   "source": [
    "lines = []\n",
    "lines_tags = []\n",
    "\n",
    "current_line = []\n",
    "current_line_tags = []\n",
    "for i, token in enumerate(tokens):\n",
    "    if \"\\n\" in token:\n",
    "        lines.append(current_line)\n",
    "        lines_tags.append(current_line_tags)\n",
    "        current_line = []\n",
    "        current_line_tags = []\n",
    "    else:\n",
    "        current_line.append(token)\n",
    "        current_line_tags.append(tags[i])\n",
    "\n",
    "unks_per_line = [np.array(list([t == \"var\"] for t in L)).sum() for L in lines]\n",
    "unks_per_line\n"
   ]
  },
  {
   "cell_type": "code",
   "execution_count": null,
   "metadata": {},
   "outputs": [
    {
     "name": "stdout",
     "output_type": "stream",
     "text": [
      "feature matrix (152, 8)\n",
      "(0, 'x') (1, 'x') (2, 'before_.') (3, 'after_.') (4, 'before_(') (5, 'before_[') (6, 'before_op') (7, 'after_op')\n"
     ]
    },
    {
     "data": {
      "image/png": "[encoded data removed]",
      "text/plain": [
       "<Figure size 640x480 with 1 Axes>"
      ]
     },
     "metadata": {},
     "output_type": "display_data"
    }
   ],
   "source": [
    "features = np.zeros((len(tokens), len(feature_names)))\n",
    "\n",
    "print(\"feature matrix\", features.shape)\n",
    "print(*zip(range(len(feature_names)), feature_names))\n",
    "\n",
    "# in brackets?\n",
    "features[:, 1] = np.array(brac_level)\n",
    "\n",
    "# before and after?\n",
    "for i, token in enumerate(tokens):\n",
    "    if token == \".\":\n",
    "        if i > 0:\n",
    "            features[i - 1, 2] = 1\n",
    "        if i < len(tokens) - 1:\n",
    "            features[i + 1, 3] = 1\n",
    "\n",
    "    if token == \"(\":\n",
    "        if i > 0:\n",
    "            features[i - 1, 4] = 1\n",
    "\n",
    "    if token == \"[\":\n",
    "        if i > 0:\n",
    "            features[i - 1, 5] = 1\n",
    "\n",
    "    if tags[i] == \"op\":\n",
    "        if i > 0:\n",
    "            features[i - 1, 6] = 1\n",
    "        if i < len(tokens) - 1:\n",
    "            features[i + 1, 7] = 1\n",
    "\n",
    "\n",
    "plt.figure()\n",
    "plt.imshow(features, cmap=\"gray\")\n",
    "plt.title(\"feature matrix\")\n",
    "plt.xlabel(\"feature\")\n",
    "plt.ylabel(\"token\")\n",
    "plt.show()"
   ]
  },
  {
   "cell_type": "markdown",
   "metadata": {},
   "source": [
    "## classify"
   ]
  },
  {
   "cell_type": "code",
   "execution_count": null,
   "metadata": {},
   "outputs": [
    {
     "name": "stdout",
     "output_type": "stream",
     "text": [
      "(152, 2)\n"
     ]
    },
    {
     "data": {
      "image/png": "[encoded data removed]",
      "text/plain": [
       "<Figure size 640x480 with 1 Axes>"
      ]
     },
     "metadata": {},
     "output_type": "display_data"
    }
   ],
   "source": [
    "from sklearn.decomposition import PCA\n",
    "\n",
    "rng = np.random.default_rng()\n",
    "\n",
    "pca = PCA(n_components=2)\n",
    "\n",
    "f_PCA = pca.fit_transform(features)\n",
    "print(f_PCA.shape)\n",
    "\n",
    "plt.figure()\n",
    "plt.scatter(x=f_PCA[:, 0], y=f_PCA[:, 1], alpha=0.1)\n",
    "for i, t in enumerate(tokens):\n",
    "    c = \"#000\"\n",
    "    if tags[i] == \"unk\":\n",
    "        c = \"r\"\n",
    "    elif tags[i] == \"num\":\n",
    "        c = \"g\"\n",
    "\n",
    "    plt.text(x=f_PCA[i, 0], y=f_PCA[i, 1], s=repr(t), rotation=45, color=c)"
   ]
  },
  {
   "cell_type": "code",
   "execution_count": null,
   "metadata": {},
   "outputs": [
    {
     "name": "stdout",
     "output_type": "stream",
     "text": [
      "('assign', 'brac1', 'brac2', 'func', 'keyword', 'op', 'punct', 'str', 'unk', 'var', 'wsp')\n"
     ]
    }
   ],
   "source": [
    "classes = tuple(sorted(set(tags)))\n",
    "print(classes)"
   ]
  },
  {
   "cell_type": "markdown",
   "metadata": {},
   "source": [
    "## cleanup"
   ]
  },
  {
   "cell_type": "code",
   "execution_count": null,
   "metadata": {},
   "outputs": [
    {
     "name": "stdout",
     "output_type": "stream",
     "text": [
      "# tokens/tags 152\n",
      "after merge # tokens/tags 120\n",
      "count unknown 15\n"
     ]
    }
   ],
   "source": [
    "print(\"# tokens/tags\", len(tokens))\n",
    "\n",
    "# Merge adjacent of same class\n",
    "tokens, tags = hf.merge_adjacent(tokens, tags)\n",
    "\n",
    "print(\"after merge # tokens/tags\", len(tokens))\n",
    "print(\"count unknown\", sum([t == \"unk\" for t in tags]))"
   ]
  },
  {
   "cell_type": "code",
   "execution_count": null,
   "metadata": {},
   "outputs": [
    {
     "name": "stdout",
     "output_type": "stream",
     "text": [
      "['print', '(', '\"# tokens\"', ',', ' ', 'len', '(', 'tokens', ')', ')', '\\n\\n', 'known_default', ' ', '=', ' ', '{', '\\n    ', '\"assign\"', ':', ' ', 'r', '\"=\"', ',', '\\n    ', '\"punct\"', ':', ' ', 'r', '\",;\"', ',', '\\n    ', '\"op\"', ':', ' ', 'r', '\"!%&/+-*:\"', ',', '\\n    ', '\"brac_op\"', ':', ' ', 'r', '\"([{\"', ',', '\\n    ', '\"brac_cl\"', ':', ' ', 'r', '\")]}\"', ',', '\\n    ', '\"keyword\"', ':', ' ', 'r', '\"for|while|foreach|as|in|if|else|elif|and|or|not\"', ',', '\\n', '}', '\\n\\n\\n', '#', ' ', 'first', ':', ' ', 'tag', ' ', 'individual', ' ', 'tokens', '\\n', 'tags', ' ', '=', ' ', 'hf.', 'tag_individuals', '(', 'tokens', ',', ' ', 'tags', ',', ' ', 'known_default', ')', '\\n\\n', '#', ' ', 'second', ':', ' ', 'context', '\\n\\n', 'tags', ' ', '=', ' ', 'hf.', 'tag_variables', '(', 'tokens', ',', ' ', 'tags', ')', '\\n', 'tags', ' ', '=', ' ', 'hf.', 'tag_functions', '(', 'tokens', ',', ' ', 'tags', ')']\n"
     ]
    }
   ],
   "source": [
    "print(tokens)"
   ]
  },
  {
   "cell_type": "code",
   "execution_count": null,
   "metadata": {},
   "outputs": [
    {
     "name": "stdout",
     "output_type": "stream",
     "text": [
      "<div class=\"code-snippet\"><span class=\"func\">print</span><span class=\"brac1\">(</span><span class=\"str\">&quot;# tokens&quot;</span><span class=\"punct\">,</span> <span class=\"func\">len</span><span class=\"brac2\">(</span>tokens<span class=\"brac2\">)</span><span class=\"brac1\">)</span><br>\n",
      "<br>\n",
      "<span class=\"var\">known_default</span> <span class=\"assign\">=</span> <span class=\"brac1\">{</span><br>\n",
      "&nbsp; &nbsp; <span class=\"str\">&quot;assign&quot;</span><span class=\"op\">:</span> <span class=\"keyword\">r</span><span class=\"str\">&quot;=&quot;</span><span class=\"punct\">,</span><br>\n",
      "&nbsp; &nbsp; <span class=\"str\">&quot;punct&quot;</span><span class=\"op\">:</span> <span class=\"keyword\">r</span><span class=\"str\">&quot;,;&quot;</span><span class=\"punct\">,</span><br>\n",
      "&nbsp; &nbsp; <span class=\"str\">&quot;op&quot;</span><span class=\"op\">:</span> <span class=\"keyword\">r</span><span class=\"str\">&quot;!%&amp;/+-*:&quot;</span><span class=\"punct\">,</span><br>\n",
      "&nbsp; &nbsp; <span class=\"str\">&quot;brac_op&quot;</span><span class=\"op\">:</span> <span class=\"keyword\">r</span><span class=\"str\">&quot;([{&quot;</span><span class=\"punct\">,</span><br>\n",
      "&nbsp; &nbsp; <span class=\"str\">&quot;brac_cl&quot;</span><span class=\"op\">:</span> <span class=\"keyword\">r</span><span class=\"str\">&quot;)]}&quot;</span><span class=\"punct\">,</span><br>\n",
      "&nbsp; &nbsp; <span class=\"str\">&quot;keyword&quot;</span><span class=\"op\">:</span> <span class=\"keyword\">r</span><span class=\"str\">&quot;for|while|foreach|as|in|if|else|elif|and|or|not&quot;</span><span class=\"punct\">,</span><br>\n",
      "<span class=\"brac1\">}</span><br>\n",
      "<br>\n",
      "<br>\n",
      "# first<span class=\"op\">:</span> tag individual tokens<br>\n",
      "<span class=\"var\">tags</span> <span class=\"assign\">=</span> hf.<span class=\"func\">tag_individuals</span><span class=\"brac1\">(</span>tokens<span class=\"punct\">,</span> <span class=\"var\">tags</span><span class=\"punct\">,</span> <span class=\"var\">known_default</span><span class=\"brac1\">)</span><br>\n",
      "<br>\n",
      "# second<span class=\"op\">:</span> context<br>\n",
      "<br>\n",
      "<span class=\"var\">tags</span> <span class=\"assign\">=</span> hf.<span class=\"func\">tag_variables</span><span class=\"brac1\">(</span>tokens<span class=\"punct\">,</span> <span class=\"var\">tags</span><span class=\"brac1\">)</span><br>\n",
      "<span class=\"var\">tags</span> <span class=\"assign\">=</span> hf.<span class=\"func\">tag_functions</span><span class=\"brac1\">(</span>tokens<span class=\"punct\">,</span> <span class=\"var\">tags</span><span class=\"brac1\">)</span></div>\n"
     ]
    }
   ],
   "source": [
    "EXCLUDE_TAGS = (\"unk\", \"wsp\")\n",
    "html_text = hf.tokens_to_html(tokens, tags, EXCLUDE_TAGS)\n",
    "\n",
    "print(html_text)"
   ]
  },
  {
   "cell_type": "markdown",
   "metadata": {},
   "source": [
    "## output"
   ]
  },
  {
   "cell_type": "code",
   "execution_count": null,
   "metadata": {},
   "outputs": [],
   "source": [
    "css_link = '<link rel=\"stylesheet\" type=\"text/css\" href=\"_rando_style.css\">'\n",
    "final_html = f\"\"\"\n",
    "<head>\n",
    "    {css_link}\n",
    "</head>\n",
    "<body>\n",
    "    {html_text}\n",
    "</body>\n",
    "\"\"\"\n",
    "\n",
    "with open(\"output.html\", \"w\") as f:\n",
    "    f.write(final_html)"
   ]
  }
 ],
 "metadata": {
  "kernelspec": {
   "display_name": "textapp",
   "language": "python",
   "name": "python3"
  },
  "language_info": {
   "codemirror_mode": {
    "name": "ipython",
    "version": 3
   },
   "file_extension": ".py",
   "mimetype": "text/x-python",
   "name": "python",
   "nbconvert_exporter": "python",
   "pygments_lexer": "ipython3",
   "version": "3.11.4"
  }
 },
 "nbformat": 4,
 "nbformat_minor": 2
}
