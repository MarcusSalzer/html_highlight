{
 "cells": [
  {
   "cell_type": "code",
   "execution_count": 130,
   "metadata": {},
   "outputs": [],
   "source": [
    "import regex as re\n",
    "import numpy as np\n",
    "import matplotlib.pyplot as plt"
   ]
  },
  {
   "cell_type": "code",
   "execution_count": 131,
   "metadata": {},
   "outputs": [
    {
     "name": "stdout",
     "output_type": "stream",
     "text": [
      "import json as jorre\n",
      "\n",
      "y = 9.77\n",
      "x = [37, 2]\n",
      "for k in range(x[0]):\n",
      "    print(((\"öh\" * k)))\n",
      "\n",
      "this_variable = \"hej på dig\"\n",
      "\n",
      "a_longer123string = this_variable + \"ööhö\"\n",
      "\n"
     ]
    }
   ],
   "source": [
    "input_file = \"input.py\"\n",
    "\n",
    "with open(input_file) as f:\n",
    "    text = f.read()\n",
    "\n",
    "print(text)"
   ]
  },
  {
   "cell_type": "code",
   "execution_count": 132,
   "metadata": {},
   "outputs": [
    {
     "name": "stdout",
     "output_type": "stream",
     "text": [
      "['import', ' ', 'json', ' ', 'as', ' ', 'jorre', '\\n', '\\n', 'y', ' ', '=', ' ', '9', '.', '77', '\\n', 'x', ' ', '=', ' ', '[', '37', ',', ' ', '2', ']', '\\n', 'for', ' ', 'k', ' ', 'in', ' ', 'range', '(', 'x', '[', '0', ']', ')', ':', '\\n', ' ', ' ', ' ', ' ', 'print', '(', '(', '(', '\"öh\"', ' ', '*', ' ', 'k', ')', ')', ')', '\\n', '\\n', 'this_variable', ' ', '=', ' ', '\"hej på dig\"', '\\n', '\\n', 'a_longer123string', ' ', '=', ' ', 'this_variable', ' ', '+', ' ', '\"ööhö\"', '\\n']\n"
     ]
    }
   ],
   "source": [
    "def tokenize(text) -> list[str]:\n",
    "    \"\"\"Tokenize a text\"\"\"\n",
    "    # Possible string delimiters\n",
    "    string_delims = {'\"', \"'\", '\"\"\"', \"'''\"}\n",
    "\n",
    "    # split everything\n",
    "    tokens = re.findall(r\"(\\w+|[^\\w\\s]+|\\s+|\\n)\", text)\n",
    "\n",
    "    ## split tokens without letters or numbers\n",
    "    tmp = []\n",
    "    for t in tokens:\n",
    "        if bool(re.search(r\"\\p{L}|\\p{digit}\", t)):\n",
    "            tmp.append(t)\n",
    "        # elif len(t) > 1 and all((c == t[0] for c in t)):\n",
    "        #     tmp.append(t)\n",
    "        else:\n",
    "            tmp.extend(list(t))\n",
    "\n",
    "    tokens = tmp\n",
    "\n",
    "    ## reunite string literals\n",
    "    tmp = []\n",
    "    tags = []\n",
    "    current_delim = \"\"\n",
    "    current_string = \"\"\n",
    "    for i, t in enumerate(tokens):\n",
    "        if current_delim == \"\":\n",
    "            if t in string_delims:\n",
    "                # start a string\n",
    "                current_delim = t\n",
    "                current_string += t\n",
    "            else:\n",
    "                tmp.append(t)\n",
    "                tags.append(\"<unk>\")\n",
    "        else:\n",
    "            if t == current_delim:\n",
    "                # break current string\n",
    "                current_delim = \"\"\n",
    "                current_string += t\n",
    "                tmp.append(current_string)\n",
    "                tags.append(\"str\")\n",
    "                current_string = \"\"\n",
    "            else:\n",
    "                # add to current string\n",
    "                current_string += t\n",
    "\n",
    "    tokens = tmp\n",
    "\n",
    "    # tmp = []\n",
    "    # tmp_tags = []\n",
    "    # ## reunite decimal numbers\n",
    "    # for i in range(len(tokens) - 1):\n",
    "    #     t = tokens[i]\n",
    "    #     t2 = tokens[i]\n",
    "    #     if (t.isdigit() or t == \".\") and t2.isdigit():\n",
    "    #         tmp.append(t)\n",
    "\n",
    "    return tokens, tags\n",
    "\n",
    "\n",
    "tokens, tags = tokenize(text)\n",
    "print(tokens)"
   ]
  },
  {
   "cell_type": "markdown",
   "metadata": {},
   "source": [
    "## tagging"
   ]
  },
  {
   "cell_type": "code",
   "execution_count": 133,
   "metadata": {},
   "outputs": [
    {
     "name": "stdout",
     "output_type": "stream",
     "text": [
      "# tokens 78\n",
      "11 op '='\n",
      "13 num '9'\n",
      "15 num '77'\n",
      "19 op '='\n",
      "21 brac_op '['\n",
      "22 num '37'\n",
      "25 num '2'\n",
      "26 brac_cl ']'\n",
      "35 brac_op '('\n",
      "37 brac_op '['\n",
      "38 num '0'\n",
      "39 brac_cl ']'\n",
      "40 brac_cl ')'\n",
      "41 op ':'\n",
      "48 brac_op '('\n",
      "49 brac_op '('\n",
      "50 brac_op '('\n",
      "51 str '\"öh\"'\n",
      "53 op '*'\n",
      "56 brac_cl ')'\n",
      "57 brac_cl ')'\n",
      "58 brac_cl ')'\n",
      "63 op '='\n",
      "65 str '\"hej på dig\"'\n",
      "70 op '='\n",
      "74 op '+'\n",
      "76 str '\"ööhö\"'\n"
     ]
    }
   ],
   "source": [
    "print(\"# tokens\", len(tokens))\n",
    "\n",
    "known_chars = {\n",
    "    \"op\": r\"=!%&/+-*:\",\n",
    "    \"brac_op\": r\"([{\",\n",
    "    \"brac_cl\": r\")]}\",\n",
    "}\n",
    "\n",
    "# first: tag individual tokens\n",
    "\n",
    "for i, token in enumerate(tokens):\n",
    "    if token.isdigit():\n",
    "        tags[i] = \"num\"\n",
    "        continue\n",
    "    elif not bool(re.search(\"[^\\s]\", token)):\n",
    "        tags[i] = \"wsp\"\n",
    "\n",
    "    for key in known_chars.keys():\n",
    "        if token in known_chars[key]:\n",
    "            tags[i] = key\n",
    "            break\n",
    "\n",
    "\n",
    "# print\n",
    "for i, x in enumerate(zip(tags, tokens)):\n",
    "    if x[0] != \"<unk>\" and x[0] != \"wsp\":\n",
    "        print(i, x[0], repr(x[1]))\n",
    "\n",
    "# second: tag based on context"
   ]
  },
  {
   "cell_type": "code",
   "execution_count": null,
   "metadata": {},
   "outputs": [],
   "source": []
  },
  {
   "cell_type": "code",
   "execution_count": 134,
   "metadata": {},
   "outputs": [
    {
     "name": "stdout",
     "output_type": "stream",
     "text": [
      "<unk>\timport\n",
      "<unk>\tjson\n",
      "<unk>\tas\n",
      "<unk>\tjorre\n",
      "<unk>\ty\n",
      "<unk>\t.\n",
      "<unk>\tx\n",
      "<unk>\t,\n",
      "<unk>\tfor\n",
      "<unk>\tk\n",
      "<unk>\tin\n",
      "<unk>\trange\n",
      "<unk>\tx\n",
      "<unk>\tprint\n",
      "<unk>\tk\n",
      "<unk>\tthis_variable\n",
      "<unk>\ta_longer123string\n",
      "<unk>\tthis_variable\n",
      "' ';' ';' ';'\\n';'\\n';' ';' ';'\\n';' ';' ';' ';'\\n';' ';' ';' ';'\\n';' ';' ';' ';' ';' ';' ';'\\n';'\\n';' ';' ';'\\n';'\\n';' ';' ';' ';' ';'\\n';"
     ]
    }
   ],
   "source": [
    "for x in zip(tags, tokens):\n",
    "    if x[0] == \"<unk>\":\n",
    "        print(\"\\t\".join(x))\n",
    "\n",
    "for x in zip(tags, tokens):\n",
    "    if x[0] == \"wsp\":\n",
    "        print(repr(x[1]), end=\";\")"
   ]
  },
  {
   "cell_type": "markdown",
   "metadata": {},
   "source": [
    "## features"
   ]
  },
  {
   "cell_type": "code",
   "execution_count": 135,
   "metadata": {},
   "outputs": [],
   "source": [
    "feature_names = (\n",
    "    \"in_()\",\n",
    "    \"in_[],\",\n",
    "    \"before_.\",\n",
    "    \"after_.\",\n",
    "    \"before_(\",\n",
    "    \"before_[\",\n",
    "    \"before_op\",\n",
    "    \"after_op\",\n",
    ")"
   ]
  },
  {
   "cell_type": "markdown",
   "metadata": {},
   "source": [
    "### bracket level"
   ]
  },
  {
   "cell_type": "code",
   "execution_count": 136,
   "metadata": {},
   "outputs": [],
   "source": [
    "brac_level = {\"()\": [], \"[]\": [], \"{}\": []}\n",
    "current_level = {\"()\": 0, \"[]\": 0, \"{}\": 0}\n",
    "for token, tag in zip(tokens, tags):\n",
    "    if tag == \"brac_op\":\n",
    "        for k in current_level.keys():\n",
    "            brac_level[k].append(current_level[k])\n",
    "            if token in k:\n",
    "                current_level[k] += 1\n",
    "    elif tag == \"brac_cl\":\n",
    "        for k in current_level.keys():\n",
    "            if token in k:\n",
    "                current_level[k] -= 1\n",
    "            brac_level[k].append(current_level[k])\n",
    "    else:\n",
    "        for k in current_level.keys():\n",
    "            brac_level[k].append(current_level[k])"
   ]
  },
  {
   "cell_type": "code",
   "execution_count": 137,
   "metadata": {},
   "outputs": [
    {
     "name": "stdout",
     "output_type": "stream",
     "text": [
      "feature matrix (78, 8)\n",
      "(0, 'in_()') (1, 'in_[],') (2, 'before_.') (3, 'after_.') (4, 'before_(') (5, 'before_[') (6, 'before_op') (7, 'after_op')\n"
     ]
    },
    {
     "data": {
      "image/png": "[encoded data removed]",
      "text/plain": [
       "<Figure size 640x480 with 1 Axes>"
      ]
     },
     "metadata": {},
     "output_type": "display_data"
    }
   ],
   "source": [
    "features = np.zeros((len(tokens), len(feature_names)))\n",
    "\n",
    "print(\"feature matrix\", features.shape)\n",
    "print(*zip(range(len(feature_names)), feature_names))\n",
    "\n",
    "# in brackets?\n",
    "features[:, 0] = np.array(brac_level[\"()\"])\n",
    "features[:, 1] = np.array(brac_level[\"[]\"])\n",
    "\n",
    "# before and after?\n",
    "for i, token in enumerate(tokens):\n",
    "    if token == \".\":\n",
    "        if i > 0:\n",
    "            features[i - 1, 2] = 1\n",
    "        if i < len(tokens) - 1:\n",
    "            features[i + 1, 3] = 1\n",
    "\n",
    "    if token == \"(\":\n",
    "        if i > 0:\n",
    "            features[i - 1, 4] = 1\n",
    "\n",
    "    if token == \"[\":\n",
    "        if i > 0:\n",
    "            features[i - 1, 5] = 1\n",
    "\n",
    "    if tags[i] == \"op\":\n",
    "        if i > 0:\n",
    "            features[i - 1, 6] = 1\n",
    "        if i < len(tokens) - 1:\n",
    "            features[i + 1, 7] = 1\n",
    "\n",
    "\n",
    "plt.figure()\n",
    "plt.imshow(features, cmap=\"gray\")\n",
    "plt.axis(\"off\")\n",
    "plt.title(\"feature matrix\")\n",
    "plt.show()"
   ]
  },
  {
   "cell_type": "code",
   "execution_count": 138,
   "metadata": {},
   "outputs": [
    {
     "name": "stdout",
     "output_type": "stream",
     "text": [
      "[0, 0, 0, 0, 0, 0, 0, 0, 0, 0, 0, 0, 0, 0, 0, 0, 0, 0, 0, 0, 0, 0, 0, 0, 0, 0, 0, 0, 0, 0, 0, 0, 0, 0, 0, 0, 1, 1, 1, 1, 0, 0, 0, 0, 0, 0, 0, 0, 0, 1, 2, 3, 3, 3, 3, 3, 2, 1, 0, 0, 0, 0, 0, 0, 0, 0, 0, 0, 0, 0, 0, 0, 0, 0, 0, 0, 0, 0]\n"
     ]
    }
   ],
   "source": [
    "print(brac_level[\"()\"])"
   ]
  },
  {
   "cell_type": "markdown",
   "metadata": {},
   "source": [
    "## classify"
   ]
  },
  {
   "cell_type": "code",
   "execution_count": 139,
   "metadata": {},
   "outputs": [
    {
     "name": "stdout",
     "output_type": "stream",
     "text": [
      "(78, 2)\n"
     ]
    },
    {
     "data": {
      "image/png": "[encoded data removed]",
      "text/plain": [
       "<Figure size 640x480 with 1 Axes>"
      ]
     },
     "metadata": {},
     "output_type": "display_data"
    }
   ],
   "source": [
    "from sklearn.decomposition import PCA\n",
    "\n",
    "rng = np.random.default_rng()\n",
    "\n",
    "pca = PCA(n_components=2)\n",
    "\n",
    "f_PCA = pca.fit_transform(features)\n",
    "print(f_PCA.shape)\n",
    "\n",
    "plt.figure()\n",
    "plt.scatter(x=f_PCA[:, 0], y=f_PCA[:, 1], alpha=0.1)\n",
    "for i, t in enumerate(tokens):\n",
    "    c = \"#000\"\n",
    "    if tags[i] == \"<unk>\":\n",
    "        c = \"r\"\n",
    "    elif tags[i] == \"num\":\n",
    "        c = \"g\"\n",
    "\n",
    "    plt.text(x=f_PCA[i, 0], y=f_PCA[i, 1], s=repr(t), rotation=45, color=c)\n"
   ]
  },
  {
   "cell_type": "markdown",
   "metadata": {},
   "source": [
    "## cleanup"
   ]
  },
  {
   "cell_type": "code",
   "execution_count": 145,
   "metadata": {},
   "outputs": [
    {
     "name": "stdout",
     "output_type": "stream",
     "text": [
      "# tokens/tags 66\n",
      " after merge # tokens/tags 66\n"
     ]
    }
   ],
   "source": [
    "print(\"# tokens/tags\", len(tokens))\n",
    "\n",
    "# Merge adjacent of same class\n",
    "tmp = []\n",
    "tmp_tags = []\n",
    "\n",
    "current_seq = []\n",
    "for i, (token, tag) in enumerate(zip(tokens, tags)):\n",
    "    tag_next = tags[i + 1] if i < len(tags) - 1 else None\n",
    "    if not tag == tag_next:\n",
    "        if len(current_seq) > 0:\n",
    "            current_seq.append(token)\n",
    "            tmp.append(\"\".join(current_seq))\n",
    "            tmp_tags.append(tag)\n",
    "            current_seq = []\n",
    "        else:\n",
    "            tmp.append(token)\n",
    "            tmp_tags.append(tag)\n",
    "    else:\n",
    "        current_seq.append(token)\n",
    "\n",
    "tokens = tmp\n",
    "tags = tmp_tags\n",
    "\n",
    "print(\"after merge # tokens/tags\", len(tokens))\n"
   ]
  },
  {
   "cell_type": "code",
   "execution_count": 144,
   "metadata": {},
   "outputs": [
    {
     "name": "stdout",
     "output_type": "stream",
     "text": [
      "['import', ' ', 'json', ' ', 'as', ' ', 'jorre', '\\n\\n', 'y', ' ', '=', ' ', '9', '.', '77', '\\n', 'x', ' ', '=', ' ', '[', '37', ',', ' ', '2', ']', '\\n', 'for', ' ', 'k', ' ', 'in', ' ', 'range', '(', 'x', '[', '0', '])', ':', '\\n    ', 'print', '(((', '\"öh\"', ' ', '*', ' ', 'k', ')))', '\\n\\n', 'this_variable', ' ', '=', ' ', '\"hej på dig\"', '\\n\\n', 'a_longer123string', ' ', '=', ' ', 'this_variable', ' ', '+', ' ', '\"ööhö\"', '\\n']\n"
     ]
    }
   ],
   "source": [
    "print(tokens)"
   ]
  },
  {
   "cell_type": "code",
   "execution_count": 141,
   "metadata": {},
   "outputs": [
    {
     "name": "stdout",
     "output_type": "stream",
     "text": [
      "('import', '<unk>')\n",
      "(' ', 'wsp')\n",
      "('json', '<unk>')\n",
      "(' ', 'wsp')\n",
      "('as', '<unk>')\n",
      "(' ', 'wsp')\n",
      "('jorre', '<unk>')\n",
      "('\\n\\n', 'wsp')\n",
      "('y', '<unk>')\n",
      "(' ', 'wsp')\n",
      "('=', 'op')\n",
      "(' ', 'wsp')\n",
      "('9', 'num')\n",
      "('.', '<unk>')\n",
      "('77', 'num')\n",
      "('\\n', 'wsp')\n",
      "('x', '<unk>')\n",
      "(' ', 'wsp')\n",
      "('=', 'op')\n",
      "(' ', 'wsp')\n",
      "('[', 'brac_op')\n",
      "('37', 'num')\n",
      "(',', '<unk>')\n",
      "(' ', 'wsp')\n",
      "('2', 'num')\n",
      "(']', 'brac_cl')\n",
      "('\\n', 'wsp')\n",
      "('for', '<unk>')\n",
      "(' ', 'wsp')\n",
      "('k', '<unk>')\n",
      "(' ', 'wsp')\n",
      "('in', '<unk>')\n",
      "(' ', 'wsp')\n",
      "('range', '<unk>')\n",
      "('(', 'brac_op')\n",
      "('x', '<unk>')\n",
      "('[', 'brac_op')\n",
      "('0', 'num')\n",
      "('])', 'brac_cl')\n",
      "(':', 'op')\n",
      "('\\n    ', 'wsp')\n",
      "('print', '<unk>')\n",
      "('(((', 'brac_op')\n",
      "('\"öh\"', 'str')\n",
      "(' ', 'wsp')\n",
      "('*', 'op')\n",
      "(' ', 'wsp')\n",
      "('k', '<unk>')\n",
      "(')))', 'brac_cl')\n",
      "('\\n\\n', 'wsp')\n",
      "('this_variable', '<unk>')\n",
      "(' ', 'wsp')\n",
      "('=', 'op')\n",
      "(' ', 'wsp')\n",
      "('\"hej på dig\"', 'str')\n",
      "('\\n\\n', 'wsp')\n",
      "('a_longer123string', '<unk>')\n",
      "(' ', 'wsp')\n",
      "('=', 'op')\n",
      "(' ', 'wsp')\n",
      "('this_variable', '<unk>')\n",
      "(' ', 'wsp')\n",
      "('+', 'op')\n",
      "(' ', 'wsp')\n",
      "('\"ööhö\"', 'str')\n",
      "('\\n', 'wsp')\n"
     ]
    }
   ],
   "source": [
    "for f in zip(tokens, tags):\n",
    "    print(f)\n"
   ]
  },
  {
   "cell_type": "code",
   "execution_count": 142,
   "metadata": {},
   "outputs": [
    {
     "name": "stdout",
     "output_type": "stream",
     "text": [
      "import json as jorre<br>\n",
      "<br>\n",
      "y = 9.77<br>\n",
      "x = [37, 2]<br>\n",
      "for k in range(x[0]):<br>\n",
      "&nbsp; &nbsp; print(((\"öh\" * k)))<br>\n",
      "<br>\n",
      "this_variable = \"hej på dig\"<br>\n",
      "<br>\n",
      "a_longer123string = this_variable + \"ööhö\"<br>\n",
      "\n"
     ]
    }
   ],
   "source": [
    "text = \"\".join(tokens)\n",
    "\n",
    "text = re.sub(r\"  \", r\"&nbsp; \", text)\n",
    "text = re.sub(r\"\\n\", r\"<br>\\n\", text)\n",
    "print(text)"
   ]
  },
  {
   "cell_type": "code",
   "execution_count": null,
   "metadata": {},
   "outputs": [],
   "source": []
  }
 ],
 "metadata": {
  "kernelspec": {
   "display_name": "textapp",
   "language": "python",
   "name": "python3"
  },
  "language_info": {
   "codemirror_mode": {
    "name": "ipython",
    "version": 3
   },
   "file_extension": ".py",
   "mimetype": "text/x-python",
   "name": "python",
   "nbconvert_exporter": "python",
   "pygments_lexer": "ipython3",
   "version": "3.11.4"
  }
 },
 "nbformat": 4,
 "nbformat_minor": 2
}
