{
 "cells": [
  {
   "cell_type": "code",
   "execution_count": 50,
   "metadata": {},
   "outputs": [],
   "source": [
    "import regex as re\n",
    "import numpy as np\n",
    "import matplotlib.pyplot as plt\n",
    "import highlighting_functions as hf\n",
    "from importlib import reload\n",
    "\n",
    "_ = reload(hf)"
   ]
  },
  {
   "cell_type": "code",
   "execution_count": 51,
   "metadata": {},
   "outputs": [
    {
     "name": "stdout",
     "output_type": "stream",
     "text": [
      "text = self.pre_process(text)\n",
      "variables, p_variable = self.find_variables(text)\n",
      "if variables:\n",
      "    self.patterns_find[\"variable\"] = p_variable\n",
      "\n",
      "text = self.syntax_highlight(text)\n"
     ]
    }
   ],
   "source": [
    "input_file = \"input.py\"\n",
    "\n",
    "with open(input_file) as f:\n",
    "    text = f.read()\n",
    "\n",
    "print(text)"
   ]
  },
  {
   "cell_type": "code",
   "execution_count": 52,
   "metadata": {},
   "outputs": [
    {
     "name": "stdout",
     "output_type": "stream",
     "text": [
      "['text', ' ', '=', ' ', 'self', '.', 'pre_process', '(', 'text', ')', '\\n', 'variables', ',', ' ', 'p_variable', ' ', '=', ' ', 'self', '.', 'find_variables', '(', 'text', ')', '\\n', 'if', ' ', 'variables', ':', '\\n', ' ', ' ', ' ', ' ', 'self', '.', 'patterns_find', '[', '\"variable\"', ']', ' ', '=', ' ', 'p_variable', '\\n', '\\n', 'text', ' ', '=', ' ', 'self', '.', 'syntax_highlight', '(', 'text', ')']\n"
     ]
    }
   ],
   "source": [
    "tokens, tags = hf.tokenize(text)\n",
    "print(tokens)"
   ]
  },
  {
   "cell_type": "markdown",
   "metadata": {},
   "source": [
    "## tagging"
   ]
  },
  {
   "cell_type": "code",
   "execution_count": 53,
   "metadata": {},
   "outputs": [
    {
     "name": "stdout",
     "output_type": "stream",
     "text": [
      "# tokens 56\n",
      "['text', ' ', '=', ' ', 'self', '.', 'pre_process', '(', 'text', ')', '\\n', 'variables', ',', ' ', 'p_variable', ' ', '=', ' ', 'self', '.', 'find_variables', '(', 'text', ')', '\\n', 'if', ' ', 'variables', ':', '\\n    ', 'self', '.', 'patterns_find', '[', '\"variable\"', ']', ' ', '=', ' ', 'p_variable', '\\n\\n', 'text', ' ', '=', ' ', 'self', '.', 'syntax_highlight', '(', 'text', ')']\n",
      "['unk', 'wsp', 'assign', 'wsp', 'unk', 'punct', 'unk', 'brac1', 'unk', 'brac1', 'wsp', 'unk', 'punct', 'wsp', 'unk', 'wsp', 'assign', 'wsp', 'unk', 'punct', 'unk', 'brac1', 'unk', 'brac1', 'wsp', 'keyword', 'wsp', 'unk', 'op', 'wsp', 'unk', 'punct', 'unk', 'brac1', 'str', 'brac1', 'wsp', 'assign', 'wsp', 'unk', 'wsp', 'unk', 'wsp', 'assign', 'wsp', 'unk', 'punct', 'unk', 'brac1', 'unk', 'brac1']\n"
     ]
    }
   ],
   "source": [
    "print(\"# tokens\", len(tokens))\n",
    "\n",
    "known_default = {\n",
    "    \"assign\": [\"=\", \"<-\"],\n",
    "    \"punct\": [\",\", \";\", \".\"],\n",
    "    \"op\": r\"!%&/+-*:<>^\",\n",
    "    \"brac_op\": r\"([{\",\n",
    "    \"brac_cl\": r\")]}\",\n",
    "    \"keyword\": [\n",
    "        \"for\",\n",
    "        \"while\",\n",
    "        \"foreach\",\n",
    "        \"as\",\n",
    "        \"in\",\n",
    "        \"if\",\n",
    "        \"else\",\n",
    "        \"elif\",\n",
    "        \"and\",\n",
    "        \"or\",\n",
    "        \"not\",\n",
    "        \"return\",\n",
    "    ],\n",
    "}\n",
    "\n",
    "\n",
    "# first: tag individual tokens\n",
    "tags = hf.tag_individuals(tokens, tags, known_default)\n",
    "\n",
    "\n",
    "# merge and tag again to catch multiple character assignment etc.\n",
    "tokens, tags = hf.merge_adjacent(tokens, tags, known_default)\n",
    "\n",
    "# rename brackets\n",
    "tags, brac_level = hf.bracket_levels(tags)\n",
    "print(tokens)\n",
    "print(tags)\n",
    "# second: context\n",
    "\n",
    "tags = hf.tag_functions(tokens, tags)\n",
    "tags = hf.tag_variables(tokens, tags)"
   ]
  },
  {
   "cell_type": "code",
   "execution_count": 54,
   "metadata": {},
   "outputs": [
    {
     "name": "stdout",
     "output_type": "stream",
     "text": [
      "unk\tself\n",
      "unk\tvariables\n",
      "unk\tself\n",
      "unk\tvariables\n",
      "unk\tself\n",
      "unk\tself\n"
     ]
    }
   ],
   "source": [
    "for x in zip(tags, tokens):\n",
    "    if x[0] == \"unk\":\n",
    "        print(\"\\t\".join(x))"
   ]
  },
  {
   "cell_type": "markdown",
   "metadata": {},
   "source": [
    "## features"
   ]
  },
  {
   "cell_type": "code",
   "execution_count": 55,
   "metadata": {},
   "outputs": [],
   "source": [
    "feature_names = (\n",
    "    \"x\",\n",
    "    \"x\",\n",
    "    \"before_.\",\n",
    "    \"after_.\",\n",
    "    \"before_(\",\n",
    "    \"before_[\",\n",
    "    \"before_op\",\n",
    "    \"after_op\",\n",
    ")"
   ]
  },
  {
   "cell_type": "markdown",
   "metadata": {},
   "source": [
    "## comments?\n",
    "\n",
    "- many unknowns\n",
    "- Starts with token not present in completely tagged lines\n",
    "- comment symbol\n",
    "    - not after assign\n",
    "    - not inside brackets\n",
    "    - NOT necessatily start of line"
   ]
  },
  {
   "cell_type": "code",
   "execution_count": 56,
   "metadata": {},
   "outputs": [
    {
     "data": {
      "text/plain": [
       "[0, 0, 0, 0]"
      ]
     },
     "execution_count": 56,
     "metadata": {},
     "output_type": "execute_result"
    }
   ],
   "source": [
    "lines = []\n",
    "lines_tags = []\n",
    "\n",
    "current_line = []\n",
    "current_line_tags = []\n",
    "for i, token in enumerate(tokens):\n",
    "    if \"\\n\" in token:\n",
    "        lines.append(current_line)\n",
    "        lines_tags.append(current_line_tags)\n",
    "        current_line = []\n",
    "        current_line_tags = []\n",
    "    else:\n",
    "        current_line.append(token)\n",
    "        current_line_tags.append(tags[i])\n",
    "\n",
    "unks_per_line = [np.array(list([t == \"var\"] for t in L)).sum() for L in lines]\n",
    "unks_per_line"
   ]
  },
  {
   "cell_type": "code",
   "execution_count": 57,
   "metadata": {},
   "outputs": [
    {
     "name": "stdout",
     "output_type": "stream",
     "text": [
      "feature matrix (51, 8)\n",
      "(0, 'x') (1, 'x') (2, 'before_.') (3, 'after_.') (4, 'before_(') (5, 'before_[') (6, 'before_op') (7, 'after_op')\n"
     ]
    },
    {
     "data": {
      "image/png": "[encoded data removed]",
      "text/plain": [
       "<Figure size 640x480 with 1 Axes>"
      ]
     },
     "metadata": {},
     "output_type": "display_data"
    }
   ],
   "source": [
    "features = np.zeros((len(tokens), len(feature_names)))\n",
    "\n",
    "print(\"feature matrix\", features.shape)\n",
    "print(*zip(range(len(feature_names)), feature_names))\n",
    "\n",
    "# in brackets?\n",
    "features[:, 1] = np.array(brac_level)\n",
    "\n",
    "# before and after?\n",
    "for i, token in enumerate(tokens):\n",
    "    if token == \".\":\n",
    "        if i > 0:\n",
    "            features[i - 1, 2] = 1\n",
    "        if i < len(tokens) - 1:\n",
    "            features[i + 1, 3] = 1\n",
    "\n",
    "    if token == \"(\":\n",
    "        if i > 0:\n",
    "            features[i - 1, 4] = 1\n",
    "\n",
    "    if token == \"[\":\n",
    "        if i > 0:\n",
    "            features[i - 1, 5] = 1\n",
    "\n",
    "    if tags[i] == \"op\":\n",
    "        if i > 0:\n",
    "            features[i - 1, 6] = 1\n",
    "        if i < len(tokens) - 1:\n",
    "            features[i + 1, 7] = 1\n",
    "\n",
    "\n",
    "plt.figure()\n",
    "plt.imshow(features, cmap=\"gray\")\n",
    "plt.title(\"feature matrix\")\n",
    "plt.xlabel(\"feature\")\n",
    "plt.ylabel(\"token\")\n",
    "plt.show()"
   ]
  },
  {
   "cell_type": "code",
   "execution_count": 58,
   "metadata": {},
   "outputs": [
    {
     "name": "stdout",
     "output_type": "stream",
     "text": [
      "(51, 2)\n"
     ]
    },
    {
     "data": {
      "image/png": "[encoded data removed]",
      "text/plain": [
       "<Figure size 640x480 with 1 Axes>"
      ]
     },
     "metadata": {},
     "output_type": "display_data"
    }
   ],
   "source": [
    "from sklearn.decomposition import PCA\n",
    "\n",
    "rng = np.random.default_rng()\n",
    "\n",
    "pca = PCA(n_components=2)\n",
    "\n",
    "f_PCA = pca.fit_transform(features)\n",
    "print(f_PCA.shape)\n",
    "\n",
    "plt.figure()\n",
    "plt.scatter(x=f_PCA[:, 0], y=f_PCA[:, 1], alpha=0.1)\n",
    "for i, t in enumerate(tokens):\n",
    "    c = \"#000\"\n",
    "    if tags[i] == \"unk\":\n",
    "        c = \"r\"\n",
    "    elif tags[i] == \"num\":\n",
    "        c = \"g\"\n",
    "\n",
    "    plt.text(x=f_PCA[i, 0], y=f_PCA[i, 1], s=repr(t), rotation=45, color=c)"
   ]
  },
  {
   "cell_type": "code",
   "execution_count": 59,
   "metadata": {},
   "outputs": [
    {
     "name": "stdout",
     "output_type": "stream",
     "text": [
      "('assign', 'brac1', 'func', 'keyword', 'op', 'punct', 'str', 'unk', 'var', 'wsp')\n"
     ]
    }
   ],
   "source": [
    "classes = tuple(sorted(set(tags)))\n",
    "print(classes)"
   ]
  },
  {
   "cell_type": "markdown",
   "metadata": {},
   "source": [
    "## cleanup"
   ]
  },
  {
   "cell_type": "code",
   "execution_count": 60,
   "metadata": {},
   "outputs": [
    {
     "name": "stdout",
     "output_type": "stream",
     "text": [
      "# tokens/tags 51\n",
      "after merge # tokens/tags 51\n",
      "count unknown 6\n"
     ]
    }
   ],
   "source": [
    "print(\"# tokens/tags\", len(tokens))\n",
    "\n",
    "# Merge adjacent of same class\n",
    "tokens, tags = hf.merge_adjacent(tokens, tags)\n",
    "\n",
    "print(\"after merge # tokens/tags\", len(tokens))\n",
    "print(\"count unknown\", sum([t == \"unk\" for t in tags]))"
   ]
  },
  {
   "cell_type": "code",
   "execution_count": 61,
   "metadata": {},
   "outputs": [
    {
     "name": "stdout",
     "output_type": "stream",
     "text": [
      "['text', ' ', '=', ' ', 'self', '.', 'pre_process', '(', 'text', ')', '\\n', 'variables', ',', ' ', 'p_variable', ' ', '=', ' ', 'self', '.', 'find_variables', '(', 'text', ')', '\\n', 'if', ' ', 'variables', ':', '\\n    ', 'self', '.', 'patterns_find', '[', '\"variable\"', ']', ' ', '=', ' ', 'p_variable', '\\n\\n', 'text', ' ', '=', ' ', 'self', '.', 'syntax_highlight', '(', 'text', ')']\n"
     ]
    }
   ],
   "source": [
    "print(tokens)"
   ]
  },
  {
   "cell_type": "code",
   "execution_count": 62,
   "metadata": {},
   "outputs": [
    {
     "name": "stdout",
     "output_type": "stream",
     "text": [
      "<div class=\"code-snippet\"><span class=\"var\">text</span> <span class=\"assign\">=</span> self<span class=\"punct\">.</span><span class=\"func\">pre_process</span><span class=\"brac1\">(</span><span class=\"var\">text</span><span class=\"brac1\">)</span><br>\n",
      "variables<span class=\"punct\">,</span> <span class=\"var\">p_variable</span> <span class=\"assign\">=</span> self<span class=\"punct\">.</span><span class=\"func\">find_variables</span><span class=\"brac1\">(</span><span class=\"var\">text</span><span class=\"brac1\">)</span><br>\n",
      "<span class=\"keyword\">if</span> variables<span class=\"op\">:</span><br>\n",
      "&nbsp; &nbsp; self<span class=\"punct\">.</span><span class=\"var\">patterns_find</span><span class=\"brac1\">[</span><span class=\"str\">&quot;variable&quot;</span><span class=\"brac1\">]</span> <span class=\"assign\">=</span> <span class=\"var\">p_variable</span><br>\n",
      "<br>\n",
      "<span class=\"var\">text</span> <span class=\"assign\">=</span> self<span class=\"punct\">.</span><span class=\"func\">syntax_highlight</span><span class=\"brac1\">(</span><span class=\"var\">text</span><span class=\"brac1\">)</span></div>\n"
     ]
    }
   ],
   "source": [
    "EXCLUDE_TAGS = (\"unk\", \"wsp\")\n",
    "html_text = hf.tokens_to_html(tokens, tags, EXCLUDE_TAGS)\n",
    "\n",
    "print(html_text)"
   ]
  },
  {
   "cell_type": "markdown",
   "metadata": {},
   "source": [
    "## output"
   ]
  },
  {
   "cell_type": "code",
   "execution_count": 63,
   "metadata": {},
   "outputs": [],
   "source": [
    "css_path = \"_style.css\"\n",
    "css_link = f'<link rel=\"stylesheet\" type=\"text/css\" href=\"{css_path}\">'\n",
    "final_html = f\"\"\"\n",
    "<head>\n",
    "    {css_link}\n",
    "</head>\n",
    "<body>\n",
    "    {html_text}\n",
    "</body>\n",
    "\"\"\"\n",
    "\n",
    "with open(\"output.html\", \"w\") as f:\n",
    "    f.write(final_html)\n"
   ]
  },
  {
   "cell_type": "code",
   "execution_count": 64,
   "metadata": {},
   "outputs": [],
   "source": [
    "# test method\n",
    "\n",
    "final_html, classes = hf.highlight_code(text)\n",
    "with open(\"output.html\", \"w\") as f:\n",
    "    f.write(final_html)\n"
   ]
  }
 ],
 "metadata": {
  "kernelspec": {
   "display_name": "textapp",
   "language": "python",
   "name": "python3"
  },
  "language_info": {
   "codemirror_mode": {
    "name": "ipython",
    "version": 3
   },
   "file_extension": ".py",
   "mimetype": "text/x-python",
   "name": "python",
   "nbconvert_exporter": "python",
   "pygments_lexer": "ipython3",
   "version": "3.11.5"
  }
 },
 "nbformat": 4,
 "nbformat_minor": 2
}
