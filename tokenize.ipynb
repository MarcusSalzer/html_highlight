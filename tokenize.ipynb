{
 "cells": [
  {
   "cell_type": "code",
   "execution_count": 232,
   "metadata": {},
   "outputs": [],
   "source": [
    "import regex as re"
   ]
  },
  {
   "cell_type": "code",
   "execution_count": 233,
   "metadata": {},
   "outputs": [
    {
     "name": "stdout",
     "output_type": "stream",
     "text": [
      "from highlighting_functions import Highlighter\n",
      "import json as jorre\n",
      "\n",
      "x = 37\n",
      "this_variable = \"hej på dig\"\n",
      "trippeljävel = \"\"\"w\"t\"f\"\"\"\n",
      "\n",
      "a_longer123string = (this_variable + 'ööhö')\n"
     ]
    }
   ],
   "source": [
    "input_file = \"input.py\"\n",
    "\n",
    "with open(input_file) as f:\n",
    "    text = f.read()\n",
    "\n",
    "print(text)"
   ]
  },
  {
   "cell_type": "code",
   "execution_count": 234,
   "metadata": {},
   "outputs": [
    {
     "name": "stdout",
     "output_type": "stream",
     "text": [
      "['from', ' ', 'highlighting_functions', ' ', 'import', ' ', 'Highlighter', '\\n', 'import', ' ', 'json', ' ', 'as', ' ', 'jorre', '\\n\\n', 'x', ' ', '=', ' ', '37', '\\n', 'this_variable', ' ', '=', ' ', '\"', 'hej', ' ', 'på', ' ', 'dig', '\"', '\\n', 'trippeljävel', ' ', '=', ' ', '\"\"\"', 'w', '\"', 't', '\"', 'f', '\"\"\"', '\\n\\n', 'a_longer123string', ' ', '=', ' ', '(', 'this_variable', ' ', '+', ' ', \"'\", 'ööhö', \"')\"]\n",
      "['from', ' ', 'highlighting_functions', ' ', 'import', ' ', 'Highlighter', '\\n', 'import', ' ', 'json', ' ', 'as', ' ', 'jorre', '\\n\\n', 'x', ' ', '=', ' ', '37', '\\n', 'this_variable', ' ', '=', ' ', '\"hej på dig\"', '\\n', 'trippeljävel', ' ', '=', ' ', '\"\"\"w\"t\"f\"\"\"', '\\n\\n', 'a_longer123string', ' ', '=', ' ', '(', 'this_variable', ' ', '+', ' ']\n"
     ]
    }
   ],
   "source": [
    "def tokenize(text) -> list[str]:\n",
    "    \"\"\"Tokenize a text\"\"\"\n",
    "    # Possible string delimiters\n",
    "    string_delims = {'\"', \"'\", '\"\"\"', \"'''\"}\n",
    "\n",
    "    # split everything\n",
    "    tokens = re.findall(r\"(\\w+|[^\\w\\s]+|\\s+|\\n)\", text)\n",
    "\n",
    "    # split tokens that doesn't contain letters?\n",
    "\n",
    "    # TODO: doesn't split after last string\n",
    "\n",
    "    # reunite string literals\n",
    "    tokens_merged = []\n",
    "    tags = []\n",
    "    current_delim = \"\"\n",
    "    current_string = \"\"\n",
    "    strs_count = 0\n",
    "    for t in tokens:\n",
    "        if current_delim == \"\":\n",
    "            if t in string_delims:\n",
    "                # start a string\n",
    "                strs_count += 1\n",
    "                current_delim = t\n",
    "                current_string += t\n",
    "            else:\n",
    "                tokens_merged.append(t)\n",
    "                tags.append(\"<unk>\")\n",
    "\n",
    "        else:\n",
    "            if t == current_delim:\n",
    "                # break current string\n",
    "                current_delim = \"\"\n",
    "                current_string += t\n",
    "                tokens_merged.append(current_string)\n",
    "                tags.append(\"str\")\n",
    "                current_string = \"\"\n",
    "            else:\n",
    "                # add to current string\n",
    "                current_string += t\n",
    "\n",
    "    print(tokens)\n",
    "    return tokens_merged, tags\n",
    "\n",
    "\n",
    "tokens, tags = tokenize(text)\n",
    "print(tokens)"
   ]
  },
  {
   "cell_type": "markdown",
   "metadata": {},
   "source": [
    "## tagging"
   ]
  },
  {
   "cell_type": "code",
   "execution_count": 235,
   "metadata": {},
   "outputs": [
    {
     "name": "stdout",
     "output_type": "stream",
     "text": [
      "# tokens 43\n",
      "= op\n",
      "37 num\n",
      "= op\n",
      "\"hej på dig\" str\n",
      "= op\n",
      "\"\"\"w\"t\"f\"\"\" str\n",
      "= op\n",
      "( brac_op\n",
      "+ op\n"
     ]
    }
   ],
   "source": [
    "print(\"# tokens\", len(tokens))\n",
    "\n",
    "known_chars = {\n",
    "    \"op\": \"=!%&/+-*\",\n",
    "    \"brac_op\": \"([{\",\n",
    "    \"brac_cl\": \")]}\",\n",
    "}\n",
    "\n",
    "# first: tag individual tokens\n",
    "\n",
    "for i, token in enumerate(tokens):\n",
    "    if token.isdigit():\n",
    "        tags[i] = \"num\"\n",
    "        continue\n",
    "    for key in known_chars.keys():\n",
    "        if token in known_chars[key]:\n",
    "            tags[i] = key\n",
    "            break\n",
    "\n",
    "\n",
    "# print\n",
    "for x in zip(tokens, tags):\n",
    "    if not x[1] == \"<unk>\":\n",
    "        print(*x)\n",
    "\n",
    "# second: tag based on context\n"
   ]
  },
  {
   "cell_type": "code",
   "execution_count": 236,
   "metadata": {},
   "outputs": [
    {
     "name": "stdout",
     "output_type": "stream",
     "text": [
      "['from', ' ', 'highlighting_functions', ' ', 'import', ' ', 'Highlighter', '\\n', 'import', ' ', 'json', ' ', 'as', ' ', 'jorre', '\\n\\n', 'x', ' ', '=', ' ', '37', '\\n', 'this_variable', ' ', '=', ' ', '\"hej på dig\"', '\\n', 'trippeljävel', ' ', '=', ' ', '\"\"\"w\"t\"f\"\"\"', '\\n\\n', 'a_longer123string', ' ', '=', ' ', '(', 'this_variable', ' ', '+', ' ']\n"
     ]
    }
   ],
   "source": [
    "print(tokens)"
   ]
  },
  {
   "cell_type": "code",
   "execution_count": 237,
   "metadata": {},
   "outputs": [],
   "source": [
    "classes = (\"var\", \"op\", \"num\")\n"
   ]
  }
 ],
 "metadata": {
  "kernelspec": {
   "display_name": "textapp",
   "language": "python",
   "name": "python3"
  },
  "language_info": {
   "codemirror_mode": {
    "name": "ipython",
    "version": 3
   },
   "file_extension": ".py",
   "mimetype": "text/x-python",
   "name": "python",
   "nbconvert_exporter": "python",
   "pygments_lexer": "ipython3",
   "version": "3.11.5"
  }
 },
 "nbformat": 4,
 "nbformat_minor": 2
}
